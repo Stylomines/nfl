{
 "cells": [
  {
   "cell_type": "code",
   "execution_count": null,
   "metadata": {},
   "outputs": [],
   "source": [
    "import json\n",
    "import pandas as pd\n",
    "\n",
    "json_file = '../01_scraping/json/espn_2022calendar.json'\n",
    "df = pd.read_json(json_file)\n",
    "\n",
    "#df_wk1 = df.loc[(df.week==1), [\"awayteam\",\"hometeam\"]]\n",
    "#df_wk1\n",
    "\n",
    "df = df.replace(\"Commanders\", \"Washington\")\n",
    "\n",
    "#df_wk1.to_csv('../04_datasets/nfl2022_week1.csv')\n",
    "df.to_csv('../04_datasets/nfl2022_total.csv')"
   ]
  }
 ],
 "metadata": {
  "kernelspec": {
   "display_name": "Python 3.10.4 64-bit",
   "language": "python",
   "name": "python3"
  },
  "language_info": {
   "name": "python",
   "version": "3.10.4"
  },
  "orig_nbformat": 4,
  "vscode": {
   "interpreter": {
    "hash": "4574c92c81b7a4447a4b895dbf630721cb3b758132caf039eedf7927fb67883f"
   }
  }
 },
 "nbformat": 4,
 "nbformat_minor": 2
}
