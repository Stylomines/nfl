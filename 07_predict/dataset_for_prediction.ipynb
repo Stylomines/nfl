{
 "cells": [
  {
   "cell_type": "code",
   "execution_count": 2,
   "metadata": {},
   "outputs": [],
   "source": [
    "import json\n",
    "import pandas as pd\n",
    "\n",
    "json_file = '../01_scraping/json/espn_2022calendar.json'\n",
    "df = pd.read_json(json_file)\n",
    "\n",
    "#df_wk1 = df.loc[(df.week==1), [\"awayteam\",\"hometeam\"]]\n",
    "#df_wk1\n",
    "\n",
    "df = df.replace(\"Commanders\", \"Washington\")\n",
    "\n",
    "#df_wk1.to_csv('../04_datasets/nfl2022_week1.csv')\n",
    "df.to_csv('../04_datasets/nfl2022_total.csv')"
   ]
  }
 ],
 "metadata": {
  "kernelspec": {
   "display_name": "Python 3.10.5 64-bit (windows store)",
   "language": "python",
   "name": "python3"
  },
  "language_info": {
   "codemirror_mode": {
    "name": "ipython",
    "version": 3
   },
   "file_extension": ".py",
   "mimetype": "text/x-python",
   "name": "python",
   "nbconvert_exporter": "python",
   "pygments_lexer": "ipython3",
   "version": "3.10.5"
  },
  "orig_nbformat": 4,
  "vscode": {
   "interpreter": {
    "hash": "650fa92be31bf650066ac4047dcada211305a7063c331efd6a8c08465b54e9de"
   }
  }
 },
 "nbformat": 4,
 "nbformat_minor": 2
}
