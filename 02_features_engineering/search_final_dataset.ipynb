{
 "cells": [
  {
   "cell_type": "code",
   "execution_count": 156,
   "metadata": {},
   "outputs": [],
   "source": [
    "import pandas as pd"
   ]
  },
  {
   "cell_type": "markdown",
   "metadata": {},
   "source": [
    "#### MERGE MASTER FILE (SCORES_PREP) WITH THE MOVING AVERAGE & TIME DELTA FEATURES"
   ]
  },
  {
   "cell_type": "markdown",
   "metadata": {},
   "source": [
    "##### Step 1: retrieving and cleaning the files"
   ]
  },
  {
   "cell_type": "code",
   "execution_count": 157,
   "metadata": {},
   "outputs": [],
   "source": [
    "# reading csv files\n",
    "data_master = pd.read_csv('../04_datasets/nfl_dataset_2.csv') # the master file\n",
    "data1 = pd.read_csv('../04_datasets/nfl_team_ma.csv') # the file with the moving average + the time delta"
   ]
  },
  {
   "cell_type": "code",
   "execution_count": 158,
   "metadata": {},
   "outputs": [
    {
     "data": {
      "text/html": [
       "<div>\n",
       "<style scoped>\n",
       "    .dataframe tbody tr th:only-of-type {\n",
       "        vertical-align: middle;\n",
       "    }\n",
       "\n",
       "    .dataframe tbody tr th {\n",
       "        vertical-align: top;\n",
       "    }\n",
       "\n",
       "    .dataframe thead th {\n",
       "        text-align: right;\n",
       "    }\n",
       "</style>\n",
       "<table border=\"1\" class=\"dataframe\">\n",
       "  <thead>\n",
       "    <tr style=\"text-align: right;\">\n",
       "      <th></th>\n",
       "      <th>season</th>\n",
       "      <th>week</th>\n",
       "      <th>awayteam</th>\n",
       "      <th>hometeam</th>\n",
       "      <th>awayscore</th>\n",
       "      <th>homescore</th>\n",
       "      <th>idgame</th>\n",
       "      <th>score_abs</th>\n",
       "      <th>winner_home</th>\n",
       "      <th>winner_away</th>\n",
       "      <th>winner_team</th>\n",
       "      <th>concat</th>\n",
       "      <th>home_coach</th>\n",
       "      <th>away_coach</th>\n",
       "      <th>location</th>\n",
       "      <th>weather_type</th>\n",
       "      <th>temperature</th>\n",
       "      <th>humidity</th>\n",
       "      <th>wind</th>\n",
       "    </tr>\n",
       "  </thead>\n",
       "  <tbody>\n",
       "    <tr>\n",
       "      <th>0</th>\n",
       "      <td>2017</td>\n",
       "      <td>13</td>\n",
       "      <td>Vikings</td>\n",
       "      <td>Falcons</td>\n",
       "      <td>14</td>\n",
       "      <td>9</td>\n",
       "      <td>400951677</td>\n",
       "      <td>-5</td>\n",
       "      <td>0</td>\n",
       "      <td>1</td>\n",
       "      <td>Vikings</td>\n",
       "      <td>2017_13_Falcons_Vikings</td>\n",
       "      <td>Dan Quinn</td>\n",
       "      <td>Mike Zimmer</td>\n",
       "      <td>Home</td>\n",
       "      <td>NaN</td>\n",
       "      <td>NaN</td>\n",
       "      <td>NaN</td>\n",
       "      <td>NaN</td>\n",
       "    </tr>\n",
       "    <tr>\n",
       "      <th>1</th>\n",
       "      <td>2017</td>\n",
       "      <td>9</td>\n",
       "      <td>Falcons</td>\n",
       "      <td>Panthers</td>\n",
       "      <td>17</td>\n",
       "      <td>20</td>\n",
       "      <td>400951749</td>\n",
       "      <td>3</td>\n",
       "      <td>1</td>\n",
       "      <td>0</td>\n",
       "      <td>Panthers</td>\n",
       "      <td>2017_09_Panthers_Falcons</td>\n",
       "      <td>Ron Rivera</td>\n",
       "      <td>Dan Quinn</td>\n",
       "      <td>Home</td>\n",
       "      <td>cloudy</td>\n",
       "      <td>61.0</td>\n",
       "      <td>86.0</td>\n",
       "      <td>4.0</td>\n",
       "    </tr>\n",
       "    <tr>\n",
       "      <th>2</th>\n",
       "      <td>2017</td>\n",
       "      <td>9</td>\n",
       "      <td>Bengals</td>\n",
       "      <td>Jaguars</td>\n",
       "      <td>7</td>\n",
       "      <td>23</td>\n",
       "      <td>400951753</td>\n",
       "      <td>16</td>\n",
       "      <td>1</td>\n",
       "      <td>0</td>\n",
       "      <td>Jaguars</td>\n",
       "      <td>2017_09_Jaguars_Bengals</td>\n",
       "      <td>Doug Marrone</td>\n",
       "      <td>Marvin Lewis</td>\n",
       "      <td>Home</td>\n",
       "      <td>NaN</td>\n",
       "      <td>78.0</td>\n",
       "      <td>74.0</td>\n",
       "      <td>12.0</td>\n",
       "    </tr>\n",
       "    <tr>\n",
       "      <th>3</th>\n",
       "      <td>2017</td>\n",
       "      <td>4</td>\n",
       "      <td>Bears</td>\n",
       "      <td>Packers</td>\n",
       "      <td>14</td>\n",
       "      <td>35</td>\n",
       "      <td>400951678</td>\n",
       "      <td>21</td>\n",
       "      <td>1</td>\n",
       "      <td>0</td>\n",
       "      <td>Packers</td>\n",
       "      <td>2017_04_Packers_Bears</td>\n",
       "      <td>Mike McCarthy</td>\n",
       "      <td>John Fox</td>\n",
       "      <td>Home</td>\n",
       "      <td>cloudy</td>\n",
       "      <td>65.0</td>\n",
       "      <td>62.0</td>\n",
       "      <td>5.0</td>\n",
       "    </tr>\n",
       "    <tr>\n",
       "      <th>4</th>\n",
       "      <td>2017</td>\n",
       "      <td>9</td>\n",
       "      <td>Colts</td>\n",
       "      <td>Texans</td>\n",
       "      <td>20</td>\n",
       "      <td>14</td>\n",
       "      <td>400951751</td>\n",
       "      <td>-6</td>\n",
       "      <td>0</td>\n",
       "      <td>1</td>\n",
       "      <td>Colts</td>\n",
       "      <td>2017_09_Texans_Colts</td>\n",
       "      <td>Bill O'Brien</td>\n",
       "      <td>Chuck Pagano</td>\n",
       "      <td>Home</td>\n",
       "      <td>cloudy</td>\n",
       "      <td>84.0</td>\n",
       "      <td>62.0</td>\n",
       "      <td>10.0</td>\n",
       "    </tr>\n",
       "  </tbody>\n",
       "</table>\n",
       "</div>"
      ],
      "text/plain": [
       "   season  week awayteam  hometeam  awayscore  homescore     idgame  \\\n",
       "0    2017    13  Vikings   Falcons         14          9  400951677   \n",
       "1    2017     9  Falcons  Panthers         17         20  400951749   \n",
       "2    2017     9  Bengals   Jaguars          7         23  400951753   \n",
       "3    2017     4    Bears   Packers         14         35  400951678   \n",
       "4    2017     9    Colts    Texans         20         14  400951751   \n",
       "\n",
       "   score_abs  winner_home  winner_away winner_team                    concat  \\\n",
       "0         -5            0            1     Vikings   2017_13_Falcons_Vikings   \n",
       "1          3            1            0    Panthers  2017_09_Panthers_Falcons   \n",
       "2         16            1            0     Jaguars   2017_09_Jaguars_Bengals   \n",
       "3         21            1            0     Packers     2017_04_Packers_Bears   \n",
       "4         -6            0            1       Colts      2017_09_Texans_Colts   \n",
       "\n",
       "      home_coach    away_coach location weather_type  temperature  humidity  \\\n",
       "0      Dan Quinn   Mike Zimmer     Home          NaN          NaN       NaN   \n",
       "1     Ron Rivera     Dan Quinn     Home       cloudy         61.0      86.0   \n",
       "2   Doug Marrone  Marvin Lewis     Home          NaN         78.0      74.0   \n",
       "3  Mike McCarthy      John Fox     Home       cloudy         65.0      62.0   \n",
       "4   Bill O'Brien  Chuck Pagano     Home       cloudy         84.0      62.0   \n",
       "\n",
       "   wind  \n",
       "0   NaN  \n",
       "1   4.0  \n",
       "2  12.0  \n",
       "3   5.0  \n",
       "4  10.0  "
      ]
     },
     "execution_count": 158,
     "metadata": {},
     "output_type": "execute_result"
    }
   ],
   "source": [
    "data_master = data_master.drop(columns=['Unnamed: 0'], axis =0)\n",
    "data_master.head()"
   ]
  },
  {
   "cell_type": "code",
   "execution_count": 159,
   "metadata": {},
   "outputs": [
    {
     "data": {
      "text/html": [
       "<div>\n",
       "<style scoped>\n",
       "    .dataframe tbody tr th:only-of-type {\n",
       "        vertical-align: middle;\n",
       "    }\n",
       "\n",
       "    .dataframe tbody tr th {\n",
       "        vertical-align: top;\n",
       "    }\n",
       "\n",
       "    .dataframe thead th {\n",
       "        text-align: right;\n",
       "    }\n",
       "</style>\n",
       "<table border=\"1\" class=\"dataframe\">\n",
       "  <thead>\n",
       "    <tr style=\"text-align: right;\">\n",
       "      <th></th>\n",
       "      <th>game_date</th>\n",
       "      <th>idgame</th>\n",
       "      <th>team</th>\n",
       "      <th>pass_completion</th>\n",
       "      <th>pass_yds</th>\n",
       "      <th>pass_avg</th>\n",
       "      <th>pass_td</th>\n",
       "      <th>pass_int</th>\n",
       "      <th>sacks</th>\n",
       "      <th>qbr</th>\n",
       "      <th>...</th>\n",
       "      <th>punt_return_td_MA_5</th>\n",
       "      <th>kicking_pct_MA_5</th>\n",
       "      <th>kicking_long_MA_5</th>\n",
       "      <th>kicking_pts_MA_5</th>\n",
       "      <th>punting_no_MA_5</th>\n",
       "      <th>punting_yds_MA_5</th>\n",
       "      <th>punting_avg_MA_5</th>\n",
       "      <th>punting_tb_MA_5</th>\n",
       "      <th>punting_in_20_MA_5</th>\n",
       "      <th>punting_long_MA_5</th>\n",
       "    </tr>\n",
       "  </thead>\n",
       "  <tbody>\n",
       "    <tr>\n",
       "      <th>0</th>\n",
       "      <td>2017-09-10 20:25:00+00:00</td>\n",
       "      <td>400951605</td>\n",
       "      <td>49ers</td>\n",
       "      <td>0.685714</td>\n",
       "      <td>193.0</td>\n",
       "      <td>5.5</td>\n",
       "      <td>0.0</td>\n",
       "      <td>1.0</td>\n",
       "      <td>0.148148</td>\n",
       "      <td>0.148148</td>\n",
       "      <td>...</td>\n",
       "      <td>NaN</td>\n",
       "      <td>NaN</td>\n",
       "      <td>NaN</td>\n",
       "      <td>NaN</td>\n",
       "      <td>NaN</td>\n",
       "      <td>NaN</td>\n",
       "      <td>NaN</td>\n",
       "      <td>NaN</td>\n",
       "      <td>NaN</td>\n",
       "      <td>NaN</td>\n",
       "    </tr>\n",
       "    <tr>\n",
       "      <th>1</th>\n",
       "      <td>2017-09-17 20:25:00+00:00</td>\n",
       "      <td>400951676</td>\n",
       "      <td>49ers</td>\n",
       "      <td>0.555556</td>\n",
       "      <td>99.0</td>\n",
       "      <td>3.7</td>\n",
       "      <td>0.0</td>\n",
       "      <td>1.0</td>\n",
       "      <td>0.200000</td>\n",
       "      <td>0.200000</td>\n",
       "      <td>...</td>\n",
       "      <td>NaN</td>\n",
       "      <td>NaN</td>\n",
       "      <td>NaN</td>\n",
       "      <td>NaN</td>\n",
       "      <td>NaN</td>\n",
       "      <td>NaN</td>\n",
       "      <td>NaN</td>\n",
       "      <td>NaN</td>\n",
       "      <td>NaN</td>\n",
       "      <td>NaN</td>\n",
       "    </tr>\n",
       "    <tr>\n",
       "      <th>2</th>\n",
       "      <td>2017-09-22 00:25:00+00:00</td>\n",
       "      <td>400951568</td>\n",
       "      <td>49ers</td>\n",
       "      <td>0.621622</td>\n",
       "      <td>332.0</td>\n",
       "      <td>9.0</td>\n",
       "      <td>2.0</td>\n",
       "      <td>1.0</td>\n",
       "      <td>0.166667</td>\n",
       "      <td>0.166667</td>\n",
       "      <td>...</td>\n",
       "      <td>NaN</td>\n",
       "      <td>NaN</td>\n",
       "      <td>NaN</td>\n",
       "      <td>NaN</td>\n",
       "      <td>NaN</td>\n",
       "      <td>NaN</td>\n",
       "      <td>NaN</td>\n",
       "      <td>NaN</td>\n",
       "      <td>NaN</td>\n",
       "      <td>NaN</td>\n",
       "    </tr>\n",
       "    <tr>\n",
       "      <th>3</th>\n",
       "      <td>2017-10-01 20:05:00+00:00</td>\n",
       "      <td>400951735</td>\n",
       "      <td>49ers</td>\n",
       "      <td>0.489796</td>\n",
       "      <td>234.0</td>\n",
       "      <td>4.8</td>\n",
       "      <td>0.0</td>\n",
       "      <td>1.0</td>\n",
       "      <td>0.125000</td>\n",
       "      <td>0.125000</td>\n",
       "      <td>...</td>\n",
       "      <td>NaN</td>\n",
       "      <td>NaN</td>\n",
       "      <td>NaN</td>\n",
       "      <td>NaN</td>\n",
       "      <td>NaN</td>\n",
       "      <td>NaN</td>\n",
       "      <td>NaN</td>\n",
       "      <td>NaN</td>\n",
       "      <td>NaN</td>\n",
       "      <td>NaN</td>\n",
       "    </tr>\n",
       "    <tr>\n",
       "      <th>4</th>\n",
       "      <td>2017-10-08 17:00:00+00:00</td>\n",
       "      <td>400951562</td>\n",
       "      <td>49ers</td>\n",
       "      <td>0.630435</td>\n",
       "      <td>353.0</td>\n",
       "      <td>7.7</td>\n",
       "      <td>2.0</td>\n",
       "      <td>0.0</td>\n",
       "      <td>0.117647</td>\n",
       "      <td>0.117647</td>\n",
       "      <td>...</td>\n",
       "      <td>NaN</td>\n",
       "      <td>NaN</td>\n",
       "      <td>NaN</td>\n",
       "      <td>NaN</td>\n",
       "      <td>NaN</td>\n",
       "      <td>NaN</td>\n",
       "      <td>NaN</td>\n",
       "      <td>NaN</td>\n",
       "      <td>NaN</td>\n",
       "      <td>NaN</td>\n",
       "    </tr>\n",
       "    <tr>\n",
       "      <th>...</th>\n",
       "      <td>...</td>\n",
       "      <td>...</td>\n",
       "      <td>...</td>\n",
       "      <td>...</td>\n",
       "      <td>...</td>\n",
       "      <td>...</td>\n",
       "      <td>...</td>\n",
       "      <td>...</td>\n",
       "      <td>...</td>\n",
       "      <td>...</td>\n",
       "      <td>...</td>\n",
       "      <td>...</td>\n",
       "      <td>...</td>\n",
       "      <td>...</td>\n",
       "      <td>...</td>\n",
       "      <td>...</td>\n",
       "      <td>...</td>\n",
       "      <td>...</td>\n",
       "      <td>...</td>\n",
       "      <td>...</td>\n",
       "      <td>...</td>\n",
       "    </tr>\n",
       "    <tr>\n",
       "      <th>2537</th>\n",
       "      <td>2021-12-12 18:00:00+00:00</td>\n",
       "      <td>401326531</td>\n",
       "      <td>Washington</td>\n",
       "      <td>0.884444</td>\n",
       "      <td>175.0</td>\n",
       "      <td>10.8</td>\n",
       "      <td>1.0</td>\n",
       "      <td>1.0</td>\n",
       "      <td>0.286957</td>\n",
       "      <td>0.286957</td>\n",
       "      <td>...</td>\n",
       "      <td>0.0</td>\n",
       "      <td>86.6</td>\n",
       "      <td>41.0</td>\n",
       "      <td>6.4</td>\n",
       "      <td>3.0</td>\n",
       "      <td>141.8</td>\n",
       "      <td>49.94</td>\n",
       "      <td>0.2</td>\n",
       "      <td>1.4</td>\n",
       "      <td>54.8</td>\n",
       "    </tr>\n",
       "    <tr>\n",
       "      <th>2538</th>\n",
       "      <td>2021-12-22 00:00:00+00:00</td>\n",
       "      <td>401326542</td>\n",
       "      <td>Washington</td>\n",
       "      <td>0.645161</td>\n",
       "      <td>194.0</td>\n",
       "      <td>6.3</td>\n",
       "      <td>0.0</td>\n",
       "      <td>0.0</td>\n",
       "      <td>0.100000</td>\n",
       "      <td>0.100000</td>\n",
       "      <td>...</td>\n",
       "      <td>0.0</td>\n",
       "      <td>80.0</td>\n",
       "      <td>30.6</td>\n",
       "      <td>5.6</td>\n",
       "      <td>4.2</td>\n",
       "      <td>199.8</td>\n",
       "      <td>46.92</td>\n",
       "      <td>0.4</td>\n",
       "      <td>2.0</td>\n",
       "      <td>53.4</td>\n",
       "    </tr>\n",
       "    <tr>\n",
       "      <th>2539</th>\n",
       "      <td>2021-12-27 01:20:00+00:00</td>\n",
       "      <td>401326567</td>\n",
       "      <td>Washington</td>\n",
       "      <td>1.118182</td>\n",
       "      <td>188.0</td>\n",
       "      <td>12.2</td>\n",
       "      <td>2.0</td>\n",
       "      <td>2.0</td>\n",
       "      <td>0.250000</td>\n",
       "      <td>0.250000</td>\n",
       "      <td>...</td>\n",
       "      <td>0.0</td>\n",
       "      <td>80.0</td>\n",
       "      <td>25.8</td>\n",
       "      <td>4.4</td>\n",
       "      <td>4.8</td>\n",
       "      <td>230.0</td>\n",
       "      <td>47.62</td>\n",
       "      <td>0.4</td>\n",
       "      <td>2.2</td>\n",
       "      <td>56.4</td>\n",
       "    </tr>\n",
       "    <tr>\n",
       "      <th>2540</th>\n",
       "      <td>2022-01-02 18:00:00+00:00</td>\n",
       "      <td>401326578</td>\n",
       "      <td>Washington</td>\n",
       "      <td>0.750000</td>\n",
       "      <td>247.0</td>\n",
       "      <td>6.9</td>\n",
       "      <td>0.0</td>\n",
       "      <td>1.0</td>\n",
       "      <td>0.103448</td>\n",
       "      <td>0.103448</td>\n",
       "      <td>...</td>\n",
       "      <td>0.0</td>\n",
       "      <td>60.0</td>\n",
       "      <td>18.6</td>\n",
       "      <td>3.0</td>\n",
       "      <td>5.4</td>\n",
       "      <td>263.8</td>\n",
       "      <td>48.62</td>\n",
       "      <td>0.6</td>\n",
       "      <td>2.6</td>\n",
       "      <td>56.4</td>\n",
       "    </tr>\n",
       "    <tr>\n",
       "      <th>2541</th>\n",
       "      <td>2022-01-09 18:00:00+00:00</td>\n",
       "      <td>401326594</td>\n",
       "      <td>Washington</td>\n",
       "      <td>0.000000</td>\n",
       "      <td>0.0</td>\n",
       "      <td>0.0</td>\n",
       "      <td>0.0</td>\n",
       "      <td>0.0</td>\n",
       "      <td>0.000000</td>\n",
       "      <td>0.000000</td>\n",
       "      <td>...</td>\n",
       "      <td>0.0</td>\n",
       "      <td>60.0</td>\n",
       "      <td>25.0</td>\n",
       "      <td>4.4</td>\n",
       "      <td>4.8</td>\n",
       "      <td>237.0</td>\n",
       "      <td>48.30</td>\n",
       "      <td>0.6</td>\n",
       "      <td>2.0</td>\n",
       "      <td>55.0</td>\n",
       "    </tr>\n",
       "  </tbody>\n",
       "</table>\n",
       "<p>2542 rows × 106 columns</p>\n",
       "</div>"
      ],
      "text/plain": [
       "                      game_date     idgame        team  pass_completion  \\\n",
       "0     2017-09-10 20:25:00+00:00  400951605       49ers         0.685714   \n",
       "1     2017-09-17 20:25:00+00:00  400951676       49ers         0.555556   \n",
       "2     2017-09-22 00:25:00+00:00  400951568       49ers         0.621622   \n",
       "3     2017-10-01 20:05:00+00:00  400951735       49ers         0.489796   \n",
       "4     2017-10-08 17:00:00+00:00  400951562       49ers         0.630435   \n",
       "...                         ...        ...         ...              ...   \n",
       "2537  2021-12-12 18:00:00+00:00  401326531  Washington         0.884444   \n",
       "2538  2021-12-22 00:00:00+00:00  401326542  Washington         0.645161   \n",
       "2539  2021-12-27 01:20:00+00:00  401326567  Washington         1.118182   \n",
       "2540  2022-01-02 18:00:00+00:00  401326578  Washington         0.750000   \n",
       "2541  2022-01-09 18:00:00+00:00  401326594  Washington         0.000000   \n",
       "\n",
       "      pass_yds  pass_avg  pass_td  pass_int     sacks       qbr  ...  \\\n",
       "0        193.0       5.5      0.0       1.0  0.148148  0.148148  ...   \n",
       "1         99.0       3.7      0.0       1.0  0.200000  0.200000  ...   \n",
       "2        332.0       9.0      2.0       1.0  0.166667  0.166667  ...   \n",
       "3        234.0       4.8      0.0       1.0  0.125000  0.125000  ...   \n",
       "4        353.0       7.7      2.0       0.0  0.117647  0.117647  ...   \n",
       "...        ...       ...      ...       ...       ...       ...  ...   \n",
       "2537     175.0      10.8      1.0       1.0  0.286957  0.286957  ...   \n",
       "2538     194.0       6.3      0.0       0.0  0.100000  0.100000  ...   \n",
       "2539     188.0      12.2      2.0       2.0  0.250000  0.250000  ...   \n",
       "2540     247.0       6.9      0.0       1.0  0.103448  0.103448  ...   \n",
       "2541       0.0       0.0      0.0       0.0  0.000000  0.000000  ...   \n",
       "\n",
       "      punt_return_td_MA_5  kicking_pct_MA_5  kicking_long_MA_5  \\\n",
       "0                     NaN               NaN                NaN   \n",
       "1                     NaN               NaN                NaN   \n",
       "2                     NaN               NaN                NaN   \n",
       "3                     NaN               NaN                NaN   \n",
       "4                     NaN               NaN                NaN   \n",
       "...                   ...               ...                ...   \n",
       "2537                  0.0              86.6               41.0   \n",
       "2538                  0.0              80.0               30.6   \n",
       "2539                  0.0              80.0               25.8   \n",
       "2540                  0.0              60.0               18.6   \n",
       "2541                  0.0              60.0               25.0   \n",
       "\n",
       "      kicking_pts_MA_5  punting_no_MA_5  punting_yds_MA_5  punting_avg_MA_5  \\\n",
       "0                  NaN              NaN               NaN               NaN   \n",
       "1                  NaN              NaN               NaN               NaN   \n",
       "2                  NaN              NaN               NaN               NaN   \n",
       "3                  NaN              NaN               NaN               NaN   \n",
       "4                  NaN              NaN               NaN               NaN   \n",
       "...                ...              ...               ...               ...   \n",
       "2537               6.4              3.0             141.8             49.94   \n",
       "2538               5.6              4.2             199.8             46.92   \n",
       "2539               4.4              4.8             230.0             47.62   \n",
       "2540               3.0              5.4             263.8             48.62   \n",
       "2541               4.4              4.8             237.0             48.30   \n",
       "\n",
       "      punting_tb_MA_5  punting_in_20_MA_5  punting_long_MA_5  \n",
       "0                 NaN                 NaN                NaN  \n",
       "1                 NaN                 NaN                NaN  \n",
       "2                 NaN                 NaN                NaN  \n",
       "3                 NaN                 NaN                NaN  \n",
       "4                 NaN                 NaN                NaN  \n",
       "...               ...                 ...                ...  \n",
       "2537              0.2                 1.4               54.8  \n",
       "2538              0.4                 2.0               53.4  \n",
       "2539              0.4                 2.2               56.4  \n",
       "2540              0.6                 2.6               56.4  \n",
       "2541              0.6                 2.0               55.0  \n",
       "\n",
       "[2542 rows x 106 columns]"
      ]
     },
     "execution_count": 159,
     "metadata": {},
     "output_type": "execute_result"
    }
   ],
   "source": [
    "data1 = data1.drop(columns=['Unnamed: 0.1', 'Unnamed: 0'])\n",
    "data1 = data1.rename(columns = {'index':'game_date'})\n",
    "data1"
   ]
  },
  {
   "cell_type": "code",
   "execution_count": 160,
   "metadata": {},
   "outputs": [
    {
     "name": "stdout",
     "output_type": "stream",
     "text": [
      "['game_date', 'idgame', 'team', 'pass_completion', 'pass_yds', 'pass_avg', 'pass_td', 'pass_int', 'sacks', 'qbr', 'rtg', 'rush_car', 'rush_yds', 'rush_avg', 'rush_td', 'rush_long', 'receptions', 'rec_yds', 'rec_avg', 'rec_td', 'rec_long', 'rec_tgs', 'fumbles', 'fumbles_lost', 'fumbles_rec', 'defense_tot', 'defense_solo', 'defense_sacks', 'defense_tfl', 'defense_pd', 'defense_qb_hits', 'defense_td', 'interceptions', 'interceptions_yds', 'interceptions_td', 'kicks_return_no', 'kicks_return_yds', 'kicks_return_avg', 'kicks_return_long', 'kicks_return_td', 'punt_return_no', 'punt_return_yds', 'punt_return_avg', 'punt_return_long', 'punt_return_td', 'kicking_pct', 'kicking_long', 'kicking_pts', 'punting_no', 'punting_yds', 'punting_avg', 'punting_tb', 'punting_in_20', 'punting_long', 'delta_match', 'pass_completion_MA_5', 'pass_yds_MA_5', 'pass_avg_MA_5', 'pass_td_MA_5', 'pass_int_MA_5', 'sacks_MA_5', 'qbr_MA_5', 'rtg_MA_5', 'rush_car_MA_5', 'rush_yds_MA_5', 'rush_avg_MA_5', 'rush_td_MA_5', 'rush_long_MA_5', 'receptions_MA_5', 'rec_yds_MA_5', 'rec_avg_MA_5', 'rec_td_MA_5', 'rec_long_MA_5', 'rec_tgs_MA_5', 'fumbles_MA_5', 'fumbles_lost_MA_5', 'fumbles_rec_MA_5', 'defense_tot_MA_5', 'defense_solo_MA_5', 'defense_sacks_MA_5', 'defense_tfl_MA_5', 'defense_pd_MA_5', 'defense_qb_hits_MA_5', 'defense_td_MA_5', 'interceptions_MA_5', 'interceptions_yds_MA_5', 'interceptions_td_MA_5', 'kicks_return_no_MA_5', 'kicks_return_yds_MA_5', 'kicks_return_avg_MA_5', 'kicks_return_long_MA_5', 'kicks_return_td_MA_5', 'punt_return_no_MA_5', 'punt_return_yds_MA_5', 'punt_return_avg_MA_5', 'punt_return_long_MA_5', 'punt_return_td_MA_5', 'kicking_pct_MA_5', 'kicking_long_MA_5', 'kicking_pts_MA_5', 'punting_no_MA_5', 'punting_yds_MA_5', 'punting_avg_MA_5', 'punting_tb_MA_5', 'punting_in_20_MA_5', 'punting_long_MA_5']\n"
     ]
    }
   ],
   "source": [
    "print(data1.columns.tolist())"
   ]
  },
  {
   "cell_type": "code",
   "execution_count": 161,
   "metadata": {},
   "outputs": [],
   "source": [
    "data1_select = data1.loc[:,['game_date', 'idgame', 'team','delta_match', 'pass_completion_MA_5', 'pass_yds_MA_5', 'pass_avg_MA_5', \n",
    "                    'pass_td_MA_5', 'pass_int_MA_5', 'sacks_MA_5', 'qbr_MA_5', 'rtg_MA_5', 'rush_car_MA_5', 'rush_yds_MA_5', \n",
    "                    'rush_avg_MA_5', 'rush_td_MA_5', 'rush_long_MA_5', 'receptions_MA_5', 'rec_yds_MA_5', 'rec_avg_MA_5', \n",
    "                    'rec_td_MA_5', 'rec_long_MA_5','rec_tgs_MA_5', 'fumbles_MA_5', 'fumbles_lost_MA_5', 'fumbles_rec_MA_5', \n",
    "                    'defense_tot_MA_5', 'defense_solo_MA_5', 'defense_sacks_MA_5', 'defense_tfl_MA_5', 'defense_pd_MA_5',\n",
    "                    'defense_qb_hits_MA_5', 'defense_td_MA_5', 'interceptions_MA_5', 'interceptions_yds_MA_5', 'interceptions_td_MA_5',\n",
    "                     'kicks_return_no_MA_5', 'kicks_return_yds_MA_5', 'kicks_return_avg_MA_5', 'kicks_return_long_MA_5', \n",
    "                     'kicks_return_td_MA_5', 'punt_return_no_MA_5', 'punt_return_yds_MA_5', 'punt_return_avg_MA_5', 'punt_return_long_MA_5',\n",
    "                      'punt_return_td_MA_5', 'kicking_pct_MA_5', 'kicking_long_MA_5', 'kicking_pts_MA_5', 'punting_no_MA_5', 'punting_yds_MA_5',\n",
    "                       'punting_avg_MA_5', 'punting_tb_MA_5', 'punting_in_20_MA_5', 'punting_long_MA_5']]"
   ]
  },
  {
   "cell_type": "markdown",
   "metadata": {},
   "source": [
    "##### Step 2: merging the files"
   ]
  },
  {
   "cell_type": "markdown",
   "metadata": {},
   "source": [
    "merge on idgame & awayteam"
   ]
  },
  {
   "cell_type": "code",
   "execution_count": 162,
   "metadata": {},
   "outputs": [
    {
     "data": {
      "text/html": [
       "<div>\n",
       "<style scoped>\n",
       "    .dataframe tbody tr th:only-of-type {\n",
       "        vertical-align: middle;\n",
       "    }\n",
       "\n",
       "    .dataframe tbody tr th {\n",
       "        vertical-align: top;\n",
       "    }\n",
       "\n",
       "    .dataframe thead th {\n",
       "        text-align: right;\n",
       "    }\n",
       "</style>\n",
       "<table border=\"1\" class=\"dataframe\">\n",
       "  <thead>\n",
       "    <tr style=\"text-align: right;\">\n",
       "      <th></th>\n",
       "      <th>season</th>\n",
       "      <th>week</th>\n",
       "      <th>awayteam</th>\n",
       "      <th>hometeam</th>\n",
       "      <th>awayscore</th>\n",
       "      <th>homescore</th>\n",
       "      <th>idgame</th>\n",
       "      <th>score_abs</th>\n",
       "      <th>winner_home</th>\n",
       "      <th>winner_away</th>\n",
       "      <th>...</th>\n",
       "      <th>punt_return_td_MA_5</th>\n",
       "      <th>kicking_pct_MA_5</th>\n",
       "      <th>kicking_long_MA_5</th>\n",
       "      <th>kicking_pts_MA_5</th>\n",
       "      <th>punting_no_MA_5</th>\n",
       "      <th>punting_yds_MA_5</th>\n",
       "      <th>punting_avg_MA_5</th>\n",
       "      <th>punting_tb_MA_5</th>\n",
       "      <th>punting_in_20_MA_5</th>\n",
       "      <th>punting_long_MA_5</th>\n",
       "    </tr>\n",
       "  </thead>\n",
       "  <tbody>\n",
       "    <tr>\n",
       "      <th>0</th>\n",
       "      <td>2017</td>\n",
       "      <td>13</td>\n",
       "      <td>Vikings</td>\n",
       "      <td>Falcons</td>\n",
       "      <td>14</td>\n",
       "      <td>9</td>\n",
       "      <td>400951677</td>\n",
       "      <td>-5</td>\n",
       "      <td>0</td>\n",
       "      <td>1</td>\n",
       "      <td>...</td>\n",
       "      <td>0.0</td>\n",
       "      <td>76.66</td>\n",
       "      <td>46.2</td>\n",
       "      <td>10.2</td>\n",
       "      <td>3.4</td>\n",
       "      <td>140.0</td>\n",
       "      <td>42.16</td>\n",
       "      <td>0.0</td>\n",
       "      <td>1.0</td>\n",
       "      <td>46.6</td>\n",
       "    </tr>\n",
       "    <tr>\n",
       "      <th>1</th>\n",
       "      <td>2017</td>\n",
       "      <td>9</td>\n",
       "      <td>Falcons</td>\n",
       "      <td>Panthers</td>\n",
       "      <td>17</td>\n",
       "      <td>20</td>\n",
       "      <td>400951749</td>\n",
       "      <td>3</td>\n",
       "      <td>1</td>\n",
       "      <td>0</td>\n",
       "      <td>...</td>\n",
       "      <td>0.0</td>\n",
       "      <td>70.00</td>\n",
       "      <td>34.2</td>\n",
       "      <td>7.2</td>\n",
       "      <td>3.0</td>\n",
       "      <td>125.4</td>\n",
       "      <td>41.92</td>\n",
       "      <td>0.0</td>\n",
       "      <td>1.2</td>\n",
       "      <td>49.8</td>\n",
       "    </tr>\n",
       "    <tr>\n",
       "      <th>2</th>\n",
       "      <td>2017</td>\n",
       "      <td>9</td>\n",
       "      <td>Bengals</td>\n",
       "      <td>Jaguars</td>\n",
       "      <td>7</td>\n",
       "      <td>23</td>\n",
       "      <td>400951753</td>\n",
       "      <td>16</td>\n",
       "      <td>1</td>\n",
       "      <td>0</td>\n",
       "      <td>...</td>\n",
       "      <td>0.0</td>\n",
       "      <td>60.00</td>\n",
       "      <td>29.2</td>\n",
       "      <td>5.8</td>\n",
       "      <td>4.6</td>\n",
       "      <td>224.2</td>\n",
       "      <td>48.64</td>\n",
       "      <td>0.4</td>\n",
       "      <td>1.6</td>\n",
       "      <td>56.0</td>\n",
       "    </tr>\n",
       "    <tr>\n",
       "      <th>3</th>\n",
       "      <td>2017</td>\n",
       "      <td>4</td>\n",
       "      <td>Bears</td>\n",
       "      <td>Packers</td>\n",
       "      <td>14</td>\n",
       "      <td>35</td>\n",
       "      <td>400951678</td>\n",
       "      <td>21</td>\n",
       "      <td>1</td>\n",
       "      <td>0</td>\n",
       "      <td>...</td>\n",
       "      <td>NaN</td>\n",
       "      <td>NaN</td>\n",
       "      <td>NaN</td>\n",
       "      <td>NaN</td>\n",
       "      <td>NaN</td>\n",
       "      <td>NaN</td>\n",
       "      <td>NaN</td>\n",
       "      <td>NaN</td>\n",
       "      <td>NaN</td>\n",
       "      <td>NaN</td>\n",
       "    </tr>\n",
       "    <tr>\n",
       "      <th>4</th>\n",
       "      <td>2017</td>\n",
       "      <td>9</td>\n",
       "      <td>Colts</td>\n",
       "      <td>Texans</td>\n",
       "      <td>20</td>\n",
       "      <td>14</td>\n",
       "      <td>400951751</td>\n",
       "      <td>-6</td>\n",
       "      <td>0</td>\n",
       "      <td>1</td>\n",
       "      <td>...</td>\n",
       "      <td>0.0</td>\n",
       "      <td>80.00</td>\n",
       "      <td>35.4</td>\n",
       "      <td>7.8</td>\n",
       "      <td>4.8</td>\n",
       "      <td>219.6</td>\n",
       "      <td>46.70</td>\n",
       "      <td>0.0</td>\n",
       "      <td>2.0</td>\n",
       "      <td>56.8</td>\n",
       "    </tr>\n",
       "  </tbody>\n",
       "</table>\n",
       "<p>5 rows × 124 columns</p>\n",
       "</div>"
      ],
      "text/plain": [
       "   season  week awayteam  hometeam  awayscore  homescore     idgame  \\\n",
       "0    2017    13  Vikings   Falcons         14          9  400951677   \n",
       "1    2017     9  Falcons  Panthers         17         20  400951749   \n",
       "2    2017     9  Bengals   Jaguars          7         23  400951753   \n",
       "3    2017     4    Bears   Packers         14         35  400951678   \n",
       "4    2017     9    Colts    Texans         20         14  400951751   \n",
       "\n",
       "   score_abs  winner_home  winner_away  ... punt_return_td_MA_5  \\\n",
       "0         -5            0            1  ...                 0.0   \n",
       "1          3            1            0  ...                 0.0   \n",
       "2         16            1            0  ...                 0.0   \n",
       "3         21            1            0  ...                 NaN   \n",
       "4         -6            0            1  ...                 0.0   \n",
       "\n",
       "  kicking_pct_MA_5 kicking_long_MA_5 kicking_pts_MA_5 punting_no_MA_5  \\\n",
       "0            76.66              46.2             10.2             3.4   \n",
       "1            70.00              34.2              7.2             3.0   \n",
       "2            60.00              29.2              5.8             4.6   \n",
       "3              NaN               NaN              NaN             NaN   \n",
       "4            80.00              35.4              7.8             4.8   \n",
       "\n",
       "  punting_yds_MA_5  punting_avg_MA_5  punting_tb_MA_5  punting_in_20_MA_5  \\\n",
       "0            140.0             42.16              0.0                 1.0   \n",
       "1            125.4             41.92              0.0                 1.2   \n",
       "2            224.2             48.64              0.4                 1.6   \n",
       "3              NaN               NaN              NaN                 NaN   \n",
       "4            219.6             46.70              0.0                 2.0   \n",
       "\n",
       "  punting_long_MA_5  \n",
       "0              46.6  \n",
       "1              49.8  \n",
       "2              56.0  \n",
       "3               NaN  \n",
       "4              56.8  \n",
       "\n",
       "[5 rows x 124 columns]"
      ]
     },
     "execution_count": 162,
     "metadata": {},
     "output_type": "execute_result"
    }
   ],
   "source": [
    "# using merge function by setting how='left' to keep in line with the master file\n",
    "output1 = pd.merge(data_master, data1, \n",
    "                   left_on=['idgame','awayteam'],\n",
    "                   right_on = ['idgame','team'],\n",
    "                   how='left')\n",
    "\n",
    "# displaying result\n",
    "output1.head()"
   ]
  },
  {
   "cell_type": "code",
   "execution_count": 163,
   "metadata": {},
   "outputs": [
    {
     "data": {
      "text/plain": [
       "1289"
      ]
     },
     "execution_count": 163,
     "metadata": {},
     "output_type": "execute_result"
    }
   ],
   "source": [
    "len(output1)"
   ]
  },
  {
   "cell_type": "code",
   "execution_count": 164,
   "metadata": {},
   "outputs": [
    {
     "data": {
      "text/plain": [
       "124"
      ]
     },
     "execution_count": 164,
     "metadata": {},
     "output_type": "execute_result"
    }
   ],
   "source": [
    "len(output1.columns)"
   ]
  },
  {
   "cell_type": "code",
   "execution_count": 165,
   "metadata": {},
   "outputs": [
    {
     "data": {
      "text/plain": [
       "'season'"
      ]
     },
     "metadata": {},
     "output_type": "display_data"
    },
    {
     "data": {
      "text/plain": [
       "'week'"
      ]
     },
     "metadata": {},
     "output_type": "display_data"
    },
    {
     "data": {
      "text/plain": [
       "'awayteam'"
      ]
     },
     "metadata": {},
     "output_type": "display_data"
    },
    {
     "data": {
      "text/plain": [
       "'hometeam'"
      ]
     },
     "metadata": {},
     "output_type": "display_data"
    },
    {
     "data": {
      "text/plain": [
       "'awayscore'"
      ]
     },
     "metadata": {},
     "output_type": "display_data"
    },
    {
     "data": {
      "text/plain": [
       "'homescore'"
      ]
     },
     "metadata": {},
     "output_type": "display_data"
    },
    {
     "data": {
      "text/plain": [
       "'idgame'"
      ]
     },
     "metadata": {},
     "output_type": "display_data"
    },
    {
     "data": {
      "text/plain": [
       "'score_abs'"
      ]
     },
     "metadata": {},
     "output_type": "display_data"
    },
    {
     "data": {
      "text/plain": [
       "'winner_home'"
      ]
     },
     "metadata": {},
     "output_type": "display_data"
    },
    {
     "data": {
      "text/plain": [
       "'winner_away'"
      ]
     },
     "metadata": {},
     "output_type": "display_data"
    },
    {
     "data": {
      "text/plain": [
       "'winner_team'"
      ]
     },
     "metadata": {},
     "output_type": "display_data"
    },
    {
     "data": {
      "text/plain": [
       "'concat'"
      ]
     },
     "metadata": {},
     "output_type": "display_data"
    },
    {
     "data": {
      "text/plain": [
       "'home_coach'"
      ]
     },
     "metadata": {},
     "output_type": "display_data"
    },
    {
     "data": {
      "text/plain": [
       "'away_coach'"
      ]
     },
     "metadata": {},
     "output_type": "display_data"
    },
    {
     "data": {
      "text/plain": [
       "'location'"
      ]
     },
     "metadata": {},
     "output_type": "display_data"
    },
    {
     "data": {
      "text/plain": [
       "'weather_type'"
      ]
     },
     "metadata": {},
     "output_type": "display_data"
    },
    {
     "data": {
      "text/plain": [
       "'temperature'"
      ]
     },
     "metadata": {},
     "output_type": "display_data"
    },
    {
     "data": {
      "text/plain": [
       "'humidity'"
      ]
     },
     "metadata": {},
     "output_type": "display_data"
    },
    {
     "data": {
      "text/plain": [
       "'wind'"
      ]
     },
     "metadata": {},
     "output_type": "display_data"
    },
    {
     "data": {
      "text/plain": [
       "'game_date'"
      ]
     },
     "metadata": {},
     "output_type": "display_data"
    },
    {
     "data": {
      "text/plain": [
       "'team'"
      ]
     },
     "metadata": {},
     "output_type": "display_data"
    },
    {
     "data": {
      "text/plain": [
       "'pass_completion'"
      ]
     },
     "metadata": {},
     "output_type": "display_data"
    },
    {
     "data": {
      "text/plain": [
       "'pass_yds'"
      ]
     },
     "metadata": {},
     "output_type": "display_data"
    },
    {
     "data": {
      "text/plain": [
       "'pass_avg'"
      ]
     },
     "metadata": {},
     "output_type": "display_data"
    },
    {
     "data": {
      "text/plain": [
       "'pass_td'"
      ]
     },
     "metadata": {},
     "output_type": "display_data"
    },
    {
     "data": {
      "text/plain": [
       "'pass_int'"
      ]
     },
     "metadata": {},
     "output_type": "display_data"
    },
    {
     "data": {
      "text/plain": [
       "'sacks'"
      ]
     },
     "metadata": {},
     "output_type": "display_data"
    },
    {
     "data": {
      "text/plain": [
       "'qbr'"
      ]
     },
     "metadata": {},
     "output_type": "display_data"
    },
    {
     "data": {
      "text/plain": [
       "'rtg'"
      ]
     },
     "metadata": {},
     "output_type": "display_data"
    },
    {
     "data": {
      "text/plain": [
       "'rush_car'"
      ]
     },
     "metadata": {},
     "output_type": "display_data"
    },
    {
     "data": {
      "text/plain": [
       "'rush_yds'"
      ]
     },
     "metadata": {},
     "output_type": "display_data"
    },
    {
     "data": {
      "text/plain": [
       "'rush_avg'"
      ]
     },
     "metadata": {},
     "output_type": "display_data"
    },
    {
     "data": {
      "text/plain": [
       "'rush_td'"
      ]
     },
     "metadata": {},
     "output_type": "display_data"
    },
    {
     "data": {
      "text/plain": [
       "'rush_long'"
      ]
     },
     "metadata": {},
     "output_type": "display_data"
    },
    {
     "data": {
      "text/plain": [
       "'receptions'"
      ]
     },
     "metadata": {},
     "output_type": "display_data"
    },
    {
     "data": {
      "text/plain": [
       "'rec_yds'"
      ]
     },
     "metadata": {},
     "output_type": "display_data"
    },
    {
     "data": {
      "text/plain": [
       "'rec_avg'"
      ]
     },
     "metadata": {},
     "output_type": "display_data"
    },
    {
     "data": {
      "text/plain": [
       "'rec_td'"
      ]
     },
     "metadata": {},
     "output_type": "display_data"
    },
    {
     "data": {
      "text/plain": [
       "'rec_long'"
      ]
     },
     "metadata": {},
     "output_type": "display_data"
    },
    {
     "data": {
      "text/plain": [
       "'rec_tgs'"
      ]
     },
     "metadata": {},
     "output_type": "display_data"
    },
    {
     "data": {
      "text/plain": [
       "'fumbles'"
      ]
     },
     "metadata": {},
     "output_type": "display_data"
    },
    {
     "data": {
      "text/plain": [
       "'fumbles_lost'"
      ]
     },
     "metadata": {},
     "output_type": "display_data"
    },
    {
     "data": {
      "text/plain": [
       "'fumbles_rec'"
      ]
     },
     "metadata": {},
     "output_type": "display_data"
    },
    {
     "data": {
      "text/plain": [
       "'defense_tot'"
      ]
     },
     "metadata": {},
     "output_type": "display_data"
    },
    {
     "data": {
      "text/plain": [
       "'defense_solo'"
      ]
     },
     "metadata": {},
     "output_type": "display_data"
    },
    {
     "data": {
      "text/plain": [
       "'defense_sacks'"
      ]
     },
     "metadata": {},
     "output_type": "display_data"
    },
    {
     "data": {
      "text/plain": [
       "'defense_tfl'"
      ]
     },
     "metadata": {},
     "output_type": "display_data"
    },
    {
     "data": {
      "text/plain": [
       "'defense_pd'"
      ]
     },
     "metadata": {},
     "output_type": "display_data"
    },
    {
     "data": {
      "text/plain": [
       "'defense_qb_hits'"
      ]
     },
     "metadata": {},
     "output_type": "display_data"
    },
    {
     "data": {
      "text/plain": [
       "'defense_td'"
      ]
     },
     "metadata": {},
     "output_type": "display_data"
    },
    {
     "data": {
      "text/plain": [
       "'interceptions'"
      ]
     },
     "metadata": {},
     "output_type": "display_data"
    },
    {
     "data": {
      "text/plain": [
       "'interceptions_yds'"
      ]
     },
     "metadata": {},
     "output_type": "display_data"
    },
    {
     "data": {
      "text/plain": [
       "'interceptions_td'"
      ]
     },
     "metadata": {},
     "output_type": "display_data"
    },
    {
     "data": {
      "text/plain": [
       "'kicks_return_no'"
      ]
     },
     "metadata": {},
     "output_type": "display_data"
    },
    {
     "data": {
      "text/plain": [
       "'kicks_return_yds'"
      ]
     },
     "metadata": {},
     "output_type": "display_data"
    },
    {
     "data": {
      "text/plain": [
       "'kicks_return_avg'"
      ]
     },
     "metadata": {},
     "output_type": "display_data"
    },
    {
     "data": {
      "text/plain": [
       "'kicks_return_long'"
      ]
     },
     "metadata": {},
     "output_type": "display_data"
    },
    {
     "data": {
      "text/plain": [
       "'kicks_return_td'"
      ]
     },
     "metadata": {},
     "output_type": "display_data"
    },
    {
     "data": {
      "text/plain": [
       "'punt_return_no'"
      ]
     },
     "metadata": {},
     "output_type": "display_data"
    },
    {
     "data": {
      "text/plain": [
       "'punt_return_yds'"
      ]
     },
     "metadata": {},
     "output_type": "display_data"
    },
    {
     "data": {
      "text/plain": [
       "'punt_return_avg'"
      ]
     },
     "metadata": {},
     "output_type": "display_data"
    },
    {
     "data": {
      "text/plain": [
       "'punt_return_long'"
      ]
     },
     "metadata": {},
     "output_type": "display_data"
    },
    {
     "data": {
      "text/plain": [
       "'punt_return_td'"
      ]
     },
     "metadata": {},
     "output_type": "display_data"
    },
    {
     "data": {
      "text/plain": [
       "'kicking_pct'"
      ]
     },
     "metadata": {},
     "output_type": "display_data"
    },
    {
     "data": {
      "text/plain": [
       "'kicking_long'"
      ]
     },
     "metadata": {},
     "output_type": "display_data"
    },
    {
     "data": {
      "text/plain": [
       "'kicking_pts'"
      ]
     },
     "metadata": {},
     "output_type": "display_data"
    },
    {
     "data": {
      "text/plain": [
       "'punting_no'"
      ]
     },
     "metadata": {},
     "output_type": "display_data"
    },
    {
     "data": {
      "text/plain": [
       "'punting_yds'"
      ]
     },
     "metadata": {},
     "output_type": "display_data"
    },
    {
     "data": {
      "text/plain": [
       "'punting_avg'"
      ]
     },
     "metadata": {},
     "output_type": "display_data"
    },
    {
     "data": {
      "text/plain": [
       "'punting_tb'"
      ]
     },
     "metadata": {},
     "output_type": "display_data"
    },
    {
     "data": {
      "text/plain": [
       "'punting_in_20'"
      ]
     },
     "metadata": {},
     "output_type": "display_data"
    },
    {
     "data": {
      "text/plain": [
       "'punting_long'"
      ]
     },
     "metadata": {},
     "output_type": "display_data"
    },
    {
     "data": {
      "text/plain": [
       "'delta_match'"
      ]
     },
     "metadata": {},
     "output_type": "display_data"
    },
    {
     "data": {
      "text/plain": [
       "'pass_completion_MA_5'"
      ]
     },
     "metadata": {},
     "output_type": "display_data"
    },
    {
     "data": {
      "text/plain": [
       "'pass_yds_MA_5'"
      ]
     },
     "metadata": {},
     "output_type": "display_data"
    },
    {
     "data": {
      "text/plain": [
       "'pass_avg_MA_5'"
      ]
     },
     "metadata": {},
     "output_type": "display_data"
    },
    {
     "data": {
      "text/plain": [
       "'pass_td_MA_5'"
      ]
     },
     "metadata": {},
     "output_type": "display_data"
    },
    {
     "data": {
      "text/plain": [
       "'pass_int_MA_5'"
      ]
     },
     "metadata": {},
     "output_type": "display_data"
    },
    {
     "data": {
      "text/plain": [
       "'sacks_MA_5'"
      ]
     },
     "metadata": {},
     "output_type": "display_data"
    },
    {
     "data": {
      "text/plain": [
       "'qbr_MA_5'"
      ]
     },
     "metadata": {},
     "output_type": "display_data"
    },
    {
     "data": {
      "text/plain": [
       "'rtg_MA_5'"
      ]
     },
     "metadata": {},
     "output_type": "display_data"
    },
    {
     "data": {
      "text/plain": [
       "'rush_car_MA_5'"
      ]
     },
     "metadata": {},
     "output_type": "display_data"
    },
    {
     "data": {
      "text/plain": [
       "'rush_yds_MA_5'"
      ]
     },
     "metadata": {},
     "output_type": "display_data"
    },
    {
     "data": {
      "text/plain": [
       "'rush_avg_MA_5'"
      ]
     },
     "metadata": {},
     "output_type": "display_data"
    },
    {
     "data": {
      "text/plain": [
       "'rush_td_MA_5'"
      ]
     },
     "metadata": {},
     "output_type": "display_data"
    },
    {
     "data": {
      "text/plain": [
       "'rush_long_MA_5'"
      ]
     },
     "metadata": {},
     "output_type": "display_data"
    },
    {
     "data": {
      "text/plain": [
       "'receptions_MA_5'"
      ]
     },
     "metadata": {},
     "output_type": "display_data"
    },
    {
     "data": {
      "text/plain": [
       "'rec_yds_MA_5'"
      ]
     },
     "metadata": {},
     "output_type": "display_data"
    },
    {
     "data": {
      "text/plain": [
       "'rec_avg_MA_5'"
      ]
     },
     "metadata": {},
     "output_type": "display_data"
    },
    {
     "data": {
      "text/plain": [
       "'rec_td_MA_5'"
      ]
     },
     "metadata": {},
     "output_type": "display_data"
    },
    {
     "data": {
      "text/plain": [
       "'rec_long_MA_5'"
      ]
     },
     "metadata": {},
     "output_type": "display_data"
    },
    {
     "data": {
      "text/plain": [
       "'rec_tgs_MA_5'"
      ]
     },
     "metadata": {},
     "output_type": "display_data"
    },
    {
     "data": {
      "text/plain": [
       "'fumbles_MA_5'"
      ]
     },
     "metadata": {},
     "output_type": "display_data"
    },
    {
     "data": {
      "text/plain": [
       "'fumbles_lost_MA_5'"
      ]
     },
     "metadata": {},
     "output_type": "display_data"
    },
    {
     "data": {
      "text/plain": [
       "'fumbles_rec_MA_5'"
      ]
     },
     "metadata": {},
     "output_type": "display_data"
    },
    {
     "data": {
      "text/plain": [
       "'defense_tot_MA_5'"
      ]
     },
     "metadata": {},
     "output_type": "display_data"
    },
    {
     "data": {
      "text/plain": [
       "'defense_solo_MA_5'"
      ]
     },
     "metadata": {},
     "output_type": "display_data"
    },
    {
     "data": {
      "text/plain": [
       "'defense_sacks_MA_5'"
      ]
     },
     "metadata": {},
     "output_type": "display_data"
    },
    {
     "data": {
      "text/plain": [
       "'defense_tfl_MA_5'"
      ]
     },
     "metadata": {},
     "output_type": "display_data"
    },
    {
     "data": {
      "text/plain": [
       "'defense_pd_MA_5'"
      ]
     },
     "metadata": {},
     "output_type": "display_data"
    },
    {
     "data": {
      "text/plain": [
       "'defense_qb_hits_MA_5'"
      ]
     },
     "metadata": {},
     "output_type": "display_data"
    },
    {
     "data": {
      "text/plain": [
       "'defense_td_MA_5'"
      ]
     },
     "metadata": {},
     "output_type": "display_data"
    },
    {
     "data": {
      "text/plain": [
       "'interceptions_MA_5'"
      ]
     },
     "metadata": {},
     "output_type": "display_data"
    },
    {
     "data": {
      "text/plain": [
       "'interceptions_yds_MA_5'"
      ]
     },
     "metadata": {},
     "output_type": "display_data"
    },
    {
     "data": {
      "text/plain": [
       "'interceptions_td_MA_5'"
      ]
     },
     "metadata": {},
     "output_type": "display_data"
    },
    {
     "data": {
      "text/plain": [
       "'kicks_return_no_MA_5'"
      ]
     },
     "metadata": {},
     "output_type": "display_data"
    },
    {
     "data": {
      "text/plain": [
       "'kicks_return_yds_MA_5'"
      ]
     },
     "metadata": {},
     "output_type": "display_data"
    },
    {
     "data": {
      "text/plain": [
       "'kicks_return_avg_MA_5'"
      ]
     },
     "metadata": {},
     "output_type": "display_data"
    },
    {
     "data": {
      "text/plain": [
       "'kicks_return_long_MA_5'"
      ]
     },
     "metadata": {},
     "output_type": "display_data"
    },
    {
     "data": {
      "text/plain": [
       "'kicks_return_td_MA_5'"
      ]
     },
     "metadata": {},
     "output_type": "display_data"
    },
    {
     "data": {
      "text/plain": [
       "'punt_return_no_MA_5'"
      ]
     },
     "metadata": {},
     "output_type": "display_data"
    },
    {
     "data": {
      "text/plain": [
       "'punt_return_yds_MA_5'"
      ]
     },
     "metadata": {},
     "output_type": "display_data"
    },
    {
     "data": {
      "text/plain": [
       "'punt_return_avg_MA_5'"
      ]
     },
     "metadata": {},
     "output_type": "display_data"
    },
    {
     "data": {
      "text/plain": [
       "'punt_return_long_MA_5'"
      ]
     },
     "metadata": {},
     "output_type": "display_data"
    },
    {
     "data": {
      "text/plain": [
       "'punt_return_td_MA_5'"
      ]
     },
     "metadata": {},
     "output_type": "display_data"
    },
    {
     "data": {
      "text/plain": [
       "'kicking_pct_MA_5'"
      ]
     },
     "metadata": {},
     "output_type": "display_data"
    },
    {
     "data": {
      "text/plain": [
       "'kicking_long_MA_5'"
      ]
     },
     "metadata": {},
     "output_type": "display_data"
    },
    {
     "data": {
      "text/plain": [
       "'kicking_pts_MA_5'"
      ]
     },
     "metadata": {},
     "output_type": "display_data"
    },
    {
     "data": {
      "text/plain": [
       "'punting_no_MA_5'"
      ]
     },
     "metadata": {},
     "output_type": "display_data"
    },
    {
     "data": {
      "text/plain": [
       "'punting_yds_MA_5'"
      ]
     },
     "metadata": {},
     "output_type": "display_data"
    },
    {
     "data": {
      "text/plain": [
       "'punting_avg_MA_5'"
      ]
     },
     "metadata": {},
     "output_type": "display_data"
    },
    {
     "data": {
      "text/plain": [
       "'punting_tb_MA_5'"
      ]
     },
     "metadata": {},
     "output_type": "display_data"
    },
    {
     "data": {
      "text/plain": [
       "'punting_in_20_MA_5'"
      ]
     },
     "metadata": {},
     "output_type": "display_data"
    },
    {
     "data": {
      "text/plain": [
       "'punting_long_MA_5'"
      ]
     },
     "metadata": {},
     "output_type": "display_data"
    }
   ],
   "source": [
    "display(*output1.columns)"
   ]
  },
  {
   "cell_type": "markdown",
   "metadata": {},
   "source": [
    "merge on idgame & hometeam"
   ]
  },
  {
   "cell_type": "code",
   "execution_count": 166,
   "metadata": {},
   "outputs": [
    {
     "data": {
      "text/html": [
       "<div>\n",
       "<style scoped>\n",
       "    .dataframe tbody tr th:only-of-type {\n",
       "        vertical-align: middle;\n",
       "    }\n",
       "\n",
       "    .dataframe tbody tr th {\n",
       "        vertical-align: top;\n",
       "    }\n",
       "\n",
       "    .dataframe thead th {\n",
       "        text-align: right;\n",
       "    }\n",
       "</style>\n",
       "<table border=\"1\" class=\"dataframe\">\n",
       "  <thead>\n",
       "    <tr style=\"text-align: right;\">\n",
       "      <th></th>\n",
       "      <th>season</th>\n",
       "      <th>week</th>\n",
       "      <th>awayteam</th>\n",
       "      <th>hometeam</th>\n",
       "      <th>awayscore</th>\n",
       "      <th>homescore</th>\n",
       "      <th>idgame</th>\n",
       "      <th>score_abs</th>\n",
       "      <th>winner_home</th>\n",
       "      <th>winner_away</th>\n",
       "      <th>...</th>\n",
       "      <th>punt_return_td_MA_5</th>\n",
       "      <th>kicking_pct_MA_5</th>\n",
       "      <th>kicking_long_MA_5</th>\n",
       "      <th>kicking_pts_MA_5</th>\n",
       "      <th>punting_no_MA_5</th>\n",
       "      <th>punting_yds_MA_5</th>\n",
       "      <th>punting_avg_MA_5</th>\n",
       "      <th>punting_tb_MA_5</th>\n",
       "      <th>punting_in_20_MA_5</th>\n",
       "      <th>punting_long_MA_5</th>\n",
       "    </tr>\n",
       "  </thead>\n",
       "  <tbody>\n",
       "    <tr>\n",
       "      <th>0</th>\n",
       "      <td>2017</td>\n",
       "      <td>13</td>\n",
       "      <td>Vikings</td>\n",
       "      <td>Falcons</td>\n",
       "      <td>14</td>\n",
       "      <td>9</td>\n",
       "      <td>400951677</td>\n",
       "      <td>-5</td>\n",
       "      <td>0</td>\n",
       "      <td>1</td>\n",
       "      <td>...</td>\n",
       "      <td>0.0</td>\n",
       "      <td>100.00</td>\n",
       "      <td>48.2</td>\n",
       "      <td>9.4</td>\n",
       "      <td>3.2</td>\n",
       "      <td>143.0</td>\n",
       "      <td>45.00</td>\n",
       "      <td>0.4</td>\n",
       "      <td>1.0</td>\n",
       "      <td>52.2</td>\n",
       "    </tr>\n",
       "    <tr>\n",
       "      <th>1</th>\n",
       "      <td>2017</td>\n",
       "      <td>9</td>\n",
       "      <td>Falcons</td>\n",
       "      <td>Panthers</td>\n",
       "      <td>17</td>\n",
       "      <td>20</td>\n",
       "      <td>400951749</td>\n",
       "      <td>3</td>\n",
       "      <td>1</td>\n",
       "      <td>0</td>\n",
       "      <td>...</td>\n",
       "      <td>0.0</td>\n",
       "      <td>93.34</td>\n",
       "      <td>40.4</td>\n",
       "      <td>7.4</td>\n",
       "      <td>4.2</td>\n",
       "      <td>204.2</td>\n",
       "      <td>46.02</td>\n",
       "      <td>0.4</td>\n",
       "      <td>1.6</td>\n",
       "      <td>51.8</td>\n",
       "    </tr>\n",
       "    <tr>\n",
       "      <th>2</th>\n",
       "      <td>2017</td>\n",
       "      <td>9</td>\n",
       "      <td>Bengals</td>\n",
       "      <td>Jaguars</td>\n",
       "      <td>7</td>\n",
       "      <td>23</td>\n",
       "      <td>400951753</td>\n",
       "      <td>16</td>\n",
       "      <td>1</td>\n",
       "      <td>0</td>\n",
       "      <td>...</td>\n",
       "      <td>0.0</td>\n",
       "      <td>80.00</td>\n",
       "      <td>41.0</td>\n",
       "      <td>8.4</td>\n",
       "      <td>5.0</td>\n",
       "      <td>216.4</td>\n",
       "      <td>45.14</td>\n",
       "      <td>0.0</td>\n",
       "      <td>2.4</td>\n",
       "      <td>55.4</td>\n",
       "    </tr>\n",
       "    <tr>\n",
       "      <th>3</th>\n",
       "      <td>2017</td>\n",
       "      <td>4</td>\n",
       "      <td>Bears</td>\n",
       "      <td>Packers</td>\n",
       "      <td>14</td>\n",
       "      <td>35</td>\n",
       "      <td>400951678</td>\n",
       "      <td>21</td>\n",
       "      <td>1</td>\n",
       "      <td>0</td>\n",
       "      <td>...</td>\n",
       "      <td>NaN</td>\n",
       "      <td>NaN</td>\n",
       "      <td>NaN</td>\n",
       "      <td>NaN</td>\n",
       "      <td>NaN</td>\n",
       "      <td>NaN</td>\n",
       "      <td>NaN</td>\n",
       "      <td>NaN</td>\n",
       "      <td>NaN</td>\n",
       "      <td>NaN</td>\n",
       "    </tr>\n",
       "    <tr>\n",
       "      <th>4</th>\n",
       "      <td>2017</td>\n",
       "      <td>9</td>\n",
       "      <td>Colts</td>\n",
       "      <td>Texans</td>\n",
       "      <td>20</td>\n",
       "      <td>14</td>\n",
       "      <td>400951751</td>\n",
       "      <td>-6</td>\n",
       "      <td>0</td>\n",
       "      <td>1</td>\n",
       "      <td>...</td>\n",
       "      <td>0.0</td>\n",
       "      <td>80.00</td>\n",
       "      <td>32.2</td>\n",
       "      <td>9.0</td>\n",
       "      <td>4.6</td>\n",
       "      <td>242.2</td>\n",
       "      <td>54.10</td>\n",
       "      <td>0.0</td>\n",
       "      <td>1.8</td>\n",
       "      <td>61.4</td>\n",
       "    </tr>\n",
       "  </tbody>\n",
       "</table>\n",
       "<p>5 rows × 124 columns</p>\n",
       "</div>"
      ],
      "text/plain": [
       "   season  week awayteam  hometeam  awayscore  homescore     idgame  \\\n",
       "0    2017    13  Vikings   Falcons         14          9  400951677   \n",
       "1    2017     9  Falcons  Panthers         17         20  400951749   \n",
       "2    2017     9  Bengals   Jaguars          7         23  400951753   \n",
       "3    2017     4    Bears   Packers         14         35  400951678   \n",
       "4    2017     9    Colts    Texans         20         14  400951751   \n",
       "\n",
       "   score_abs  winner_home  winner_away  ... punt_return_td_MA_5  \\\n",
       "0         -5            0            1  ...                 0.0   \n",
       "1          3            1            0  ...                 0.0   \n",
       "2         16            1            0  ...                 0.0   \n",
       "3         21            1            0  ...                 NaN   \n",
       "4         -6            0            1  ...                 0.0   \n",
       "\n",
       "  kicking_pct_MA_5 kicking_long_MA_5 kicking_pts_MA_5 punting_no_MA_5  \\\n",
       "0           100.00              48.2              9.4             3.2   \n",
       "1            93.34              40.4              7.4             4.2   \n",
       "2            80.00              41.0              8.4             5.0   \n",
       "3              NaN               NaN              NaN             NaN   \n",
       "4            80.00              32.2              9.0             4.6   \n",
       "\n",
       "  punting_yds_MA_5  punting_avg_MA_5  punting_tb_MA_5  punting_in_20_MA_5  \\\n",
       "0            143.0             45.00              0.4                 1.0   \n",
       "1            204.2             46.02              0.4                 1.6   \n",
       "2            216.4             45.14              0.0                 2.4   \n",
       "3              NaN               NaN              NaN                 NaN   \n",
       "4            242.2             54.10              0.0                 1.8   \n",
       "\n",
       "  punting_long_MA_5  \n",
       "0              52.2  \n",
       "1              51.8  \n",
       "2              55.4  \n",
       "3               NaN  \n",
       "4              61.4  \n",
       "\n",
       "[5 rows x 124 columns]"
      ]
     },
     "execution_count": 166,
     "metadata": {},
     "output_type": "execute_result"
    }
   ],
   "source": [
    "output2 = pd.merge(data_master, data1, \n",
    "                   left_on=['idgame','hometeam'],\n",
    "                   right_on = ['idgame','team'],\n",
    "                   how='left')\n",
    "\n",
    "# displaying result\n",
    "output2.head()"
   ]
  },
  {
   "cell_type": "code",
   "execution_count": 167,
   "metadata": {},
   "outputs": [
    {
     "data": {
      "text/plain": [
       "1289"
      ]
     },
     "execution_count": 167,
     "metadata": {},
     "output_type": "execute_result"
    }
   ],
   "source": [
    "len(output2)"
   ]
  },
  {
   "cell_type": "code",
   "execution_count": 168,
   "metadata": {},
   "outputs": [
    {
     "name": "stdout",
     "output_type": "stream",
     "text": [
      "['season', 'week', 'awayteam', 'hometeam', 'awayscore', 'homescore', 'idgame', 'score_abs', 'winner_home', 'winner_away', 'winner_team', 'concat', 'home_coach', 'away_coach', 'location', 'weather_type', 'temperature', 'humidity', 'wind', 'game_date', 'team', 'pass_completion', 'pass_yds', 'pass_avg', 'pass_td', 'pass_int', 'sacks', 'qbr', 'rtg', 'rush_car', 'rush_yds', 'rush_avg', 'rush_td', 'rush_long', 'receptions', 'rec_yds', 'rec_avg', 'rec_td', 'rec_long', 'rec_tgs', 'fumbles', 'fumbles_lost', 'fumbles_rec', 'defense_tot', 'defense_solo', 'defense_sacks', 'defense_tfl', 'defense_pd', 'defense_qb_hits', 'defense_td', 'interceptions', 'interceptions_yds', 'interceptions_td', 'kicks_return_no', 'kicks_return_yds', 'kicks_return_avg', 'kicks_return_long', 'kicks_return_td', 'punt_return_no', 'punt_return_yds', 'punt_return_avg', 'punt_return_long', 'punt_return_td', 'kicking_pct', 'kicking_long', 'kicking_pts', 'punting_no', 'punting_yds', 'punting_avg', 'punting_tb', 'punting_in_20', 'punting_long', 'delta_match', 'pass_completion_MA_5', 'pass_yds_MA_5', 'pass_avg_MA_5', 'pass_td_MA_5', 'pass_int_MA_5', 'sacks_MA_5', 'qbr_MA_5', 'rtg_MA_5', 'rush_car_MA_5', 'rush_yds_MA_5', 'rush_avg_MA_5', 'rush_td_MA_5', 'rush_long_MA_5', 'receptions_MA_5', 'rec_yds_MA_5', 'rec_avg_MA_5', 'rec_td_MA_5', 'rec_long_MA_5', 'rec_tgs_MA_5', 'fumbles_MA_5', 'fumbles_lost_MA_5', 'fumbles_rec_MA_5', 'defense_tot_MA_5', 'defense_solo_MA_5', 'defense_sacks_MA_5', 'defense_tfl_MA_5', 'defense_pd_MA_5', 'defense_qb_hits_MA_5', 'defense_td_MA_5', 'interceptions_MA_5', 'interceptions_yds_MA_5', 'interceptions_td_MA_5', 'kicks_return_no_MA_5', 'kicks_return_yds_MA_5', 'kicks_return_avg_MA_5', 'kicks_return_long_MA_5', 'kicks_return_td_MA_5', 'punt_return_no_MA_5', 'punt_return_yds_MA_5', 'punt_return_avg_MA_5', 'punt_return_long_MA_5', 'punt_return_td_MA_5', 'kicking_pct_MA_5', 'kicking_long_MA_5', 'kicking_pts_MA_5', 'punting_no_MA_5', 'punting_yds_MA_5', 'punting_avg_MA_5', 'punting_tb_MA_5', 'punting_in_20_MA_5', 'punting_long_MA_5']\n"
     ]
    }
   ],
   "source": [
    "print(output2.columns.tolist())"
   ]
  },
  {
   "cell_type": "code",
   "execution_count": 169,
   "metadata": {},
   "outputs": [],
   "source": [
    "# general_columns = [ 'season', 'week', 'awayteam', 'hometeam', 'awayscore', 'homescore', 'idgame', \n",
    "#                   'score_abs', 'winner_home', 'winner_away', 'winner_team', 'concat', 'home_coach',\n",
    "#                   'away_coach', 'location', 'weather_type', 'temperature', 'humidity', 'wind', 'game_date']\n",
    "general_columns = [ 'season', 'week', 'awayteam', 'hometeam', 'awayscore', 'homescore', 'idgame', \n",
    "                   'score_abs',  'home_coach',\n",
    "                   'away_coach', 'location', 'weather_type', 'temperature', 'humidity', 'wind', 'game_date']"
   ]
  },
  {
   "cell_type": "markdown",
   "metadata": {},
   "source": [
    "merge away team & home team"
   ]
  },
  {
   "cell_type": "code",
   "execution_count": 170,
   "metadata": {},
   "outputs": [
    {
     "data": {
      "text/html": [
       "<div>\n",
       "<style scoped>\n",
       "    .dataframe tbody tr th:only-of-type {\n",
       "        vertical-align: middle;\n",
       "    }\n",
       "\n",
       "    .dataframe tbody tr th {\n",
       "        vertical-align: top;\n",
       "    }\n",
       "\n",
       "    .dataframe thead th {\n",
       "        text-align: right;\n",
       "    }\n",
       "</style>\n",
       "<table border=\"1\" class=\"dataframe\">\n",
       "  <thead>\n",
       "    <tr style=\"text-align: right;\">\n",
       "      <th></th>\n",
       "      <th>season_away</th>\n",
       "      <th>week_away</th>\n",
       "      <th>awayteam_away</th>\n",
       "      <th>hometeam_away</th>\n",
       "      <th>awayscore_away</th>\n",
       "      <th>homescore_away</th>\n",
       "      <th>idgame</th>\n",
       "      <th>score_abs_away</th>\n",
       "      <th>winner_home_away</th>\n",
       "      <th>winner_away_away</th>\n",
       "      <th>...</th>\n",
       "      <th>punt_return_td_MA_5_home</th>\n",
       "      <th>kicking_pct_MA_5_home</th>\n",
       "      <th>kicking_long_MA_5_home</th>\n",
       "      <th>kicking_pts_MA_5_home</th>\n",
       "      <th>punting_no_MA_5_home</th>\n",
       "      <th>punting_yds_MA_5_home</th>\n",
       "      <th>punting_avg_MA_5_home</th>\n",
       "      <th>punting_tb_MA_5_home</th>\n",
       "      <th>punting_in_20_MA_5_home</th>\n",
       "      <th>punting_long_MA_5_home</th>\n",
       "    </tr>\n",
       "  </thead>\n",
       "  <tbody>\n",
       "    <tr>\n",
       "      <th>0</th>\n",
       "      <td>2017</td>\n",
       "      <td>13</td>\n",
       "      <td>Vikings</td>\n",
       "      <td>Falcons</td>\n",
       "      <td>14</td>\n",
       "      <td>9</td>\n",
       "      <td>400951677</td>\n",
       "      <td>-5</td>\n",
       "      <td>0</td>\n",
       "      <td>1</td>\n",
       "      <td>...</td>\n",
       "      <td>0.0</td>\n",
       "      <td>100.00</td>\n",
       "      <td>48.2</td>\n",
       "      <td>9.4</td>\n",
       "      <td>3.2</td>\n",
       "      <td>143.0</td>\n",
       "      <td>45.00</td>\n",
       "      <td>0.4</td>\n",
       "      <td>1.0</td>\n",
       "      <td>52.2</td>\n",
       "    </tr>\n",
       "    <tr>\n",
       "      <th>1</th>\n",
       "      <td>2017</td>\n",
       "      <td>9</td>\n",
       "      <td>Falcons</td>\n",
       "      <td>Panthers</td>\n",
       "      <td>17</td>\n",
       "      <td>20</td>\n",
       "      <td>400951749</td>\n",
       "      <td>3</td>\n",
       "      <td>1</td>\n",
       "      <td>0</td>\n",
       "      <td>...</td>\n",
       "      <td>0.0</td>\n",
       "      <td>93.34</td>\n",
       "      <td>40.4</td>\n",
       "      <td>7.4</td>\n",
       "      <td>4.2</td>\n",
       "      <td>204.2</td>\n",
       "      <td>46.02</td>\n",
       "      <td>0.4</td>\n",
       "      <td>1.6</td>\n",
       "      <td>51.8</td>\n",
       "    </tr>\n",
       "    <tr>\n",
       "      <th>2</th>\n",
       "      <td>2017</td>\n",
       "      <td>9</td>\n",
       "      <td>Bengals</td>\n",
       "      <td>Jaguars</td>\n",
       "      <td>7</td>\n",
       "      <td>23</td>\n",
       "      <td>400951753</td>\n",
       "      <td>16</td>\n",
       "      <td>1</td>\n",
       "      <td>0</td>\n",
       "      <td>...</td>\n",
       "      <td>0.0</td>\n",
       "      <td>80.00</td>\n",
       "      <td>41.0</td>\n",
       "      <td>8.4</td>\n",
       "      <td>5.0</td>\n",
       "      <td>216.4</td>\n",
       "      <td>45.14</td>\n",
       "      <td>0.0</td>\n",
       "      <td>2.4</td>\n",
       "      <td>55.4</td>\n",
       "    </tr>\n",
       "    <tr>\n",
       "      <th>3</th>\n",
       "      <td>2017</td>\n",
       "      <td>4</td>\n",
       "      <td>Bears</td>\n",
       "      <td>Packers</td>\n",
       "      <td>14</td>\n",
       "      <td>35</td>\n",
       "      <td>400951678</td>\n",
       "      <td>21</td>\n",
       "      <td>1</td>\n",
       "      <td>0</td>\n",
       "      <td>...</td>\n",
       "      <td>NaN</td>\n",
       "      <td>NaN</td>\n",
       "      <td>NaN</td>\n",
       "      <td>NaN</td>\n",
       "      <td>NaN</td>\n",
       "      <td>NaN</td>\n",
       "      <td>NaN</td>\n",
       "      <td>NaN</td>\n",
       "      <td>NaN</td>\n",
       "      <td>NaN</td>\n",
       "    </tr>\n",
       "    <tr>\n",
       "      <th>4</th>\n",
       "      <td>2017</td>\n",
       "      <td>9</td>\n",
       "      <td>Colts</td>\n",
       "      <td>Texans</td>\n",
       "      <td>20</td>\n",
       "      <td>14</td>\n",
       "      <td>400951751</td>\n",
       "      <td>-6</td>\n",
       "      <td>0</td>\n",
       "      <td>1</td>\n",
       "      <td>...</td>\n",
       "      <td>0.0</td>\n",
       "      <td>80.00</td>\n",
       "      <td>32.2</td>\n",
       "      <td>9.0</td>\n",
       "      <td>4.6</td>\n",
       "      <td>242.2</td>\n",
       "      <td>54.10</td>\n",
       "      <td>0.0</td>\n",
       "      <td>1.8</td>\n",
       "      <td>61.4</td>\n",
       "    </tr>\n",
       "  </tbody>\n",
       "</table>\n",
       "<p>5 rows × 247 columns</p>\n",
       "</div>"
      ],
      "text/plain": [
       "   season_away  week_away awayteam_away hometeam_away  awayscore_away  \\\n",
       "0         2017         13       Vikings       Falcons              14   \n",
       "1         2017          9       Falcons      Panthers              17   \n",
       "2         2017          9       Bengals       Jaguars               7   \n",
       "3         2017          4         Bears       Packers              14   \n",
       "4         2017          9         Colts        Texans              20   \n",
       "\n",
       "   homescore_away     idgame  score_abs_away  winner_home_away  \\\n",
       "0               9  400951677              -5                 0   \n",
       "1              20  400951749               3                 1   \n",
       "2              23  400951753              16                 1   \n",
       "3              35  400951678              21                 1   \n",
       "4              14  400951751              -6                 0   \n",
       "\n",
       "   winner_away_away  ... punt_return_td_MA_5_home kicking_pct_MA_5_home  \\\n",
       "0                 1  ...                      0.0                100.00   \n",
       "1                 0  ...                      0.0                 93.34   \n",
       "2                 0  ...                      0.0                 80.00   \n",
       "3                 0  ...                      NaN                   NaN   \n",
       "4                 1  ...                      0.0                 80.00   \n",
       "\n",
       "  kicking_long_MA_5_home kicking_pts_MA_5_home punting_no_MA_5_home  \\\n",
       "0                   48.2                   9.4                  3.2   \n",
       "1                   40.4                   7.4                  4.2   \n",
       "2                   41.0                   8.4                  5.0   \n",
       "3                    NaN                   NaN                  NaN   \n",
       "4                   32.2                   9.0                  4.6   \n",
       "\n",
       "  punting_yds_MA_5_home  punting_avg_MA_5_home  punting_tb_MA_5_home  \\\n",
       "0                 143.0                  45.00                   0.4   \n",
       "1                 204.2                  46.02                   0.4   \n",
       "2                 216.4                  45.14                   0.0   \n",
       "3                   NaN                    NaN                   NaN   \n",
       "4                 242.2                  54.10                   0.0   \n",
       "\n",
       "   punting_in_20_MA_5_home punting_long_MA_5_home  \n",
       "0                      1.0                   52.2  \n",
       "1                      1.6                   51.8  \n",
       "2                      2.4                   55.4  \n",
       "3                      NaN                    NaN  \n",
       "4                      1.8                   61.4  \n",
       "\n",
       "[5 rows x 247 columns]"
      ]
     },
     "execution_count": 170,
     "metadata": {},
     "output_type": "execute_result"
    }
   ],
   "source": [
    "output3 = pd.merge(output1, output2, \n",
    "                   left_on= 'idgame',\n",
    "                   right_on = 'idgame',\n",
    "                   suffixes= (\"_away\",\"_home\"),\n",
    "                   how='inner')\n",
    "\n",
    "# displaying result\n",
    "output3.head()"
   ]
  },
  {
   "cell_type": "code",
   "execution_count": 171,
   "metadata": {},
   "outputs": [
    {
     "data": {
      "text/plain": [
       "1289"
      ]
     },
     "execution_count": 171,
     "metadata": {},
     "output_type": "execute_result"
    }
   ],
   "source": [
    "len(output3)"
   ]
  },
  {
   "cell_type": "code",
   "execution_count": 172,
   "metadata": {},
   "outputs": [
    {
     "name": "stdout",
     "output_type": "stream",
     "text": [
      "['season_away', 'week_away', 'awayteam_away', 'hometeam_away', 'awayscore_away', 'homescore_away', 'idgame', 'score_abs_away', 'winner_home_away', 'winner_away_away', 'winner_team_away', 'concat_away', 'home_coach_away', 'away_coach_away', 'location_away', 'weather_type_away', 'temperature_away', 'humidity_away', 'wind_away', 'game_date_away', 'team_away', 'pass_completion_away', 'pass_yds_away', 'pass_avg_away', 'pass_td_away', 'pass_int_away', 'sacks_away', 'qbr_away', 'rtg_away', 'rush_car_away', 'rush_yds_away', 'rush_avg_away', 'rush_td_away', 'rush_long_away', 'receptions_away', 'rec_yds_away', 'rec_avg_away', 'rec_td_away', 'rec_long_away', 'rec_tgs_away', 'fumbles_away', 'fumbles_lost_away', 'fumbles_rec_away', 'defense_tot_away', 'defense_solo_away', 'defense_sacks_away', 'defense_tfl_away', 'defense_pd_away', 'defense_qb_hits_away', 'defense_td_away', 'interceptions_away', 'interceptions_yds_away', 'interceptions_td_away', 'kicks_return_no_away', 'kicks_return_yds_away', 'kicks_return_avg_away', 'kicks_return_long_away', 'kicks_return_td_away', 'punt_return_no_away', 'punt_return_yds_away', 'punt_return_avg_away', 'punt_return_long_away', 'punt_return_td_away', 'kicking_pct_away', 'kicking_long_away', 'kicking_pts_away', 'punting_no_away', 'punting_yds_away', 'punting_avg_away', 'punting_tb_away', 'punting_in_20_away', 'punting_long_away', 'delta_match_away', 'pass_completion_MA_5_away', 'pass_yds_MA_5_away', 'pass_avg_MA_5_away', 'pass_td_MA_5_away', 'pass_int_MA_5_away', 'sacks_MA_5_away', 'qbr_MA_5_away', 'rtg_MA_5_away', 'rush_car_MA_5_away', 'rush_yds_MA_5_away', 'rush_avg_MA_5_away', 'rush_td_MA_5_away', 'rush_long_MA_5_away', 'receptions_MA_5_away', 'rec_yds_MA_5_away', 'rec_avg_MA_5_away', 'rec_td_MA_5_away', 'rec_long_MA_5_away', 'rec_tgs_MA_5_away', 'fumbles_MA_5_away', 'fumbles_lost_MA_5_away', 'fumbles_rec_MA_5_away', 'defense_tot_MA_5_away', 'defense_solo_MA_5_away', 'defense_sacks_MA_5_away', 'defense_tfl_MA_5_away', 'defense_pd_MA_5_away', 'defense_qb_hits_MA_5_away', 'defense_td_MA_5_away', 'interceptions_MA_5_away', 'interceptions_yds_MA_5_away', 'interceptions_td_MA_5_away', 'kicks_return_no_MA_5_away', 'kicks_return_yds_MA_5_away', 'kicks_return_avg_MA_5_away', 'kicks_return_long_MA_5_away', 'kicks_return_td_MA_5_away', 'punt_return_no_MA_5_away', 'punt_return_yds_MA_5_away', 'punt_return_avg_MA_5_away', 'punt_return_long_MA_5_away', 'punt_return_td_MA_5_away', 'kicking_pct_MA_5_away', 'kicking_long_MA_5_away', 'kicking_pts_MA_5_away', 'punting_no_MA_5_away', 'punting_yds_MA_5_away', 'punting_avg_MA_5_away', 'punting_tb_MA_5_away', 'punting_in_20_MA_5_away', 'punting_long_MA_5_away', 'season_home', 'week_home', 'awayteam_home', 'hometeam_home', 'awayscore_home', 'homescore_home', 'score_abs_home', 'winner_home_home', 'winner_away_home', 'winner_team_home', 'concat_home', 'home_coach_home', 'away_coach_home', 'location_home', 'weather_type_home', 'temperature_home', 'humidity_home', 'wind_home', 'game_date_home', 'team_home', 'pass_completion_home', 'pass_yds_home', 'pass_avg_home', 'pass_td_home', 'pass_int_home', 'sacks_home', 'qbr_home', 'rtg_home', 'rush_car_home', 'rush_yds_home', 'rush_avg_home', 'rush_td_home', 'rush_long_home', 'receptions_home', 'rec_yds_home', 'rec_avg_home', 'rec_td_home', 'rec_long_home', 'rec_tgs_home', 'fumbles_home', 'fumbles_lost_home', 'fumbles_rec_home', 'defense_tot_home', 'defense_solo_home', 'defense_sacks_home', 'defense_tfl_home', 'defense_pd_home', 'defense_qb_hits_home', 'defense_td_home', 'interceptions_home', 'interceptions_yds_home', 'interceptions_td_home', 'kicks_return_no_home', 'kicks_return_yds_home', 'kicks_return_avg_home', 'kicks_return_long_home', 'kicks_return_td_home', 'punt_return_no_home', 'punt_return_yds_home', 'punt_return_avg_home', 'punt_return_long_home', 'punt_return_td_home', 'kicking_pct_home', 'kicking_long_home', 'kicking_pts_home', 'punting_no_home', 'punting_yds_home', 'punting_avg_home', 'punting_tb_home', 'punting_in_20_home', 'punting_long_home', 'delta_match_home', 'pass_completion_MA_5_home', 'pass_yds_MA_5_home', 'pass_avg_MA_5_home', 'pass_td_MA_5_home', 'pass_int_MA_5_home', 'sacks_MA_5_home', 'qbr_MA_5_home', 'rtg_MA_5_home', 'rush_car_MA_5_home', 'rush_yds_MA_5_home', 'rush_avg_MA_5_home', 'rush_td_MA_5_home', 'rush_long_MA_5_home', 'receptions_MA_5_home', 'rec_yds_MA_5_home', 'rec_avg_MA_5_home', 'rec_td_MA_5_home', 'rec_long_MA_5_home', 'rec_tgs_MA_5_home', 'fumbles_MA_5_home', 'fumbles_lost_MA_5_home', 'fumbles_rec_MA_5_home', 'defense_tot_MA_5_home', 'defense_solo_MA_5_home', 'defense_sacks_MA_5_home', 'defense_tfl_MA_5_home', 'defense_pd_MA_5_home', 'defense_qb_hits_MA_5_home', 'defense_td_MA_5_home', 'interceptions_MA_5_home', 'interceptions_yds_MA_5_home', 'interceptions_td_MA_5_home', 'kicks_return_no_MA_5_home', 'kicks_return_yds_MA_5_home', 'kicks_return_avg_MA_5_home', 'kicks_return_long_MA_5_home', 'kicks_return_td_MA_5_home', 'punt_return_no_MA_5_home', 'punt_return_yds_MA_5_home', 'punt_return_avg_MA_5_home', 'punt_return_long_MA_5_home', 'punt_return_td_MA_5_home', 'kicking_pct_MA_5_home', 'kicking_long_MA_5_home', 'kicking_pts_MA_5_home', 'punting_no_MA_5_home', 'punting_yds_MA_5_home', 'punting_avg_MA_5_home', 'punting_tb_MA_5_home', 'punting_in_20_MA_5_home', 'punting_long_MA_5_home']\n"
     ]
    }
   ],
   "source": [
    "print(output3.columns.tolist())"
   ]
  },
  {
   "cell_type": "markdown",
   "metadata": {},
   "source": [
    "transform output delta_match_x & delta_match_x"
   ]
  },
  {
   "cell_type": "code",
   "execution_count": 173,
   "metadata": {},
   "outputs": [],
   "source": [
    "output3[\"delta_day_away\"] = output3[\"delta_match_away\"].apply(lambda x : str(x).split(\"days\")[0])\n",
    "output3[\"delta_day_home\"] = output3[\"delta_match_home\"].apply(lambda x : str(x).split(\"days\")[0])"
   ]
  },
  {
   "cell_type": "code",
   "execution_count": 174,
   "metadata": {},
   "outputs": [],
   "source": [
    "# output3.drop(columns=['season_home', 'week_home', 'awayteam_home', 'hometeam_home', 'awayscore_home', 'homescore_home', 'score_abs_home', 'winner_home_home', 'winner_away_home', 'winner_team_home', 'concat_home', 'home_coach_home', 'away_coach_home', 'location_home', 'weather_type_home', 'temperature_home', 'humidity_home', 'wind_home', 'game_date_home', 'team_home'])"
   ]
  },
  {
   "cell_type": "markdown",
   "metadata": {},
   "source": [
    "#### MERGE MASTER DATAFRAME (output1) WITH THE GAME INFO FEATURES"
   ]
  },
  {
   "cell_type": "code",
   "execution_count": 175,
   "metadata": {},
   "outputs": [],
   "source": [
    "# the file with the different info on the games (stadium, weather, etc.)\n",
    "data2 = pd.read_csv('../04_datasets/OLD/games_info_features.csv') \n"
   ]
  },
  {
   "cell_type": "code",
   "execution_count": 176,
   "metadata": {},
   "outputs": [
    {
     "data": {
      "text/html": [
       "<div>\n",
       "<style scoped>\n",
       "    .dataframe tbody tr th:only-of-type {\n",
       "        vertical-align: middle;\n",
       "    }\n",
       "\n",
       "    .dataframe tbody tr th {\n",
       "        vertical-align: top;\n",
       "    }\n",
       "\n",
       "    .dataframe thead th {\n",
       "        text-align: right;\n",
       "    }\n",
       "</style>\n",
       "<table border=\"1\" class=\"dataframe\">\n",
       "  <thead>\n",
       "    <tr style=\"text-align: right;\">\n",
       "      <th></th>\n",
       "      <th>Unnamed: 0</th>\n",
       "      <th>idgame</th>\n",
       "      <th>date</th>\n",
       "      <th>stade</th>\n",
       "      <th>location</th>\n",
       "      <th>attendance</th>\n",
       "      <th>capacity</th>\n",
       "      <th>people</th>\n",
       "      <th>line</th>\n",
       "      <th>over_under</th>\n",
       "      <th>attendance_info</th>\n",
       "      <th>month</th>\n",
       "      <th>dayofmonth</th>\n",
       "      <th>dayofweek</th>\n",
       "      <th>hour</th>\n",
       "      <th>minute</th>\n",
       "    </tr>\n",
       "  </thead>\n",
       "  <tbody>\n",
       "    <tr>\n",
       "      <th>0</th>\n",
       "      <td>0</td>\n",
       "      <td>401220225</td>\n",
       "      <td>2020-09-11 00:20:00+00:00</td>\n",
       "      <td>GEHA Field at Arrowhead Stadium</td>\n",
       "      <td>Kansas City, MO</td>\n",
       "      <td>15895.0</td>\n",
       "      <td>72936</td>\n",
       "      <td>22.0</td>\n",
       "      <td>Over/Under: 53.0</td>\n",
       "      <td>NaN</td>\n",
       "      <td>1</td>\n",
       "      <td>9</td>\n",
       "      <td>11</td>\n",
       "      <td>4</td>\n",
       "      <td>0</td>\n",
       "      <td>20</td>\n",
       "    </tr>\n",
       "    <tr>\n",
       "      <th>1</th>\n",
       "      <td>1</td>\n",
       "      <td>401220282</td>\n",
       "      <td>2020-09-13 17:00:00+00:00</td>\n",
       "      <td>Ford Field</td>\n",
       "      <td>Detroit, MI</td>\n",
       "      <td>NaN</td>\n",
       "      <td>64500</td>\n",
       "      <td>NaN</td>\n",
       "      <td>Over/Under: 42.5</td>\n",
       "      <td>NaN</td>\n",
       "      <td>0</td>\n",
       "      <td>9</td>\n",
       "      <td>13</td>\n",
       "      <td>6</td>\n",
       "      <td>17</td>\n",
       "      <td>0</td>\n",
       "    </tr>\n",
       "    <tr>\n",
       "      <th>2</th>\n",
       "      <td>2</td>\n",
       "      <td>401220116</td>\n",
       "      <td>2020-09-13 17:00:00+00:00</td>\n",
       "      <td>Highmark Stadium</td>\n",
       "      <td>Orchard Park, NY</td>\n",
       "      <td>NaN</td>\n",
       "      <td>71621</td>\n",
       "      <td>NaN</td>\n",
       "      <td>Over/Under: 38.5</td>\n",
       "      <td>NaN</td>\n",
       "      <td>0</td>\n",
       "      <td>9</td>\n",
       "      <td>13</td>\n",
       "      <td>6</td>\n",
       "      <td>17</td>\n",
       "      <td>0</td>\n",
       "    </tr>\n",
       "    <tr>\n",
       "      <th>3</th>\n",
       "      <td>3</td>\n",
       "      <td>401220313</td>\n",
       "      <td>2020-09-13 17:00:00+00:00</td>\n",
       "      <td>Mercedes-Benz Stadium</td>\n",
       "      <td>Atlanta, GA</td>\n",
       "      <td>NaN</td>\n",
       "      <td>75000</td>\n",
       "      <td>NaN</td>\n",
       "      <td>Over/Under: 49.0</td>\n",
       "      <td>NaN</td>\n",
       "      <td>0</td>\n",
       "      <td>9</td>\n",
       "      <td>13</td>\n",
       "      <td>6</td>\n",
       "      <td>17</td>\n",
       "      <td>0</td>\n",
       "    </tr>\n",
       "    <tr>\n",
       "      <th>4</th>\n",
       "      <td>4</td>\n",
       "      <td>401220370</td>\n",
       "      <td>2020-09-13 17:00:00+00:00</td>\n",
       "      <td>Bank of America Stadium</td>\n",
       "      <td>Charlotte, NC</td>\n",
       "      <td>NaN</td>\n",
       "      <td>73778</td>\n",
       "      <td>NaN</td>\n",
       "      <td>Over/Under: 48.0</td>\n",
       "      <td>NaN</td>\n",
       "      <td>0</td>\n",
       "      <td>9</td>\n",
       "      <td>13</td>\n",
       "      <td>6</td>\n",
       "      <td>17</td>\n",
       "      <td>0</td>\n",
       "    </tr>\n",
       "  </tbody>\n",
       "</table>\n",
       "</div>"
      ],
      "text/plain": [
       "   Unnamed: 0     idgame                       date  \\\n",
       "0           0  401220225  2020-09-11 00:20:00+00:00   \n",
       "1           1  401220282  2020-09-13 17:00:00+00:00   \n",
       "2           2  401220116  2020-09-13 17:00:00+00:00   \n",
       "3           3  401220313  2020-09-13 17:00:00+00:00   \n",
       "4           4  401220370  2020-09-13 17:00:00+00:00   \n",
       "\n",
       "                             stade          location  attendance  capacity  \\\n",
       "0  GEHA Field at Arrowhead Stadium   Kansas City, MO     15895.0     72936   \n",
       "1                       Ford Field       Detroit, MI         NaN     64500   \n",
       "2                 Highmark Stadium  Orchard Park, NY         NaN     71621   \n",
       "3            Mercedes-Benz Stadium       Atlanta, GA         NaN     75000   \n",
       "4          Bank of America Stadium     Charlotte, NC         NaN     73778   \n",
       "\n",
       "   people              line over_under  attendance_info  month  dayofmonth  \\\n",
       "0    22.0  Over/Under: 53.0        NaN                1      9          11   \n",
       "1     NaN  Over/Under: 42.5        NaN                0      9          13   \n",
       "2     NaN  Over/Under: 38.5        NaN                0      9          13   \n",
       "3     NaN  Over/Under: 49.0        NaN                0      9          13   \n",
       "4     NaN  Over/Under: 48.0        NaN                0      9          13   \n",
       "\n",
       "   dayofweek  hour  minute  \n",
       "0          4     0      20  \n",
       "1          6    17       0  \n",
       "2          6    17       0  \n",
       "3          6    17       0  \n",
       "4          6    17       0  "
      ]
     },
     "execution_count": 176,
     "metadata": {},
     "output_type": "execute_result"
    }
   ],
   "source": [
    "data2.head()"
   ]
  },
  {
   "cell_type": "code",
   "execution_count": 177,
   "metadata": {},
   "outputs": [],
   "source": [
    "# data2 = data2.drop(columns=['Unnamed: 0'])"
   ]
  },
  {
   "cell_type": "code",
   "execution_count": 178,
   "metadata": {},
   "outputs": [
    {
     "data": {
      "text/html": [
       "<div>\n",
       "<style scoped>\n",
       "    .dataframe tbody tr th:only-of-type {\n",
       "        vertical-align: middle;\n",
       "    }\n",
       "\n",
       "    .dataframe tbody tr th {\n",
       "        vertical-align: top;\n",
       "    }\n",
       "\n",
       "    .dataframe thead th {\n",
       "        text-align: right;\n",
       "    }\n",
       "</style>\n",
       "<table border=\"1\" class=\"dataframe\">\n",
       "  <thead>\n",
       "    <tr style=\"text-align: right;\">\n",
       "      <th></th>\n",
       "      <th>season_away</th>\n",
       "      <th>week_away</th>\n",
       "      <th>awayteam_away</th>\n",
       "      <th>hometeam_away</th>\n",
       "      <th>awayscore_away</th>\n",
       "      <th>homescore_away</th>\n",
       "      <th>idgame</th>\n",
       "      <th>score_abs_away</th>\n",
       "      <th>winner_home_away</th>\n",
       "      <th>winner_away_away</th>\n",
       "      <th>...</th>\n",
       "      <th>capacity</th>\n",
       "      <th>people</th>\n",
       "      <th>line</th>\n",
       "      <th>over_under</th>\n",
       "      <th>attendance_info</th>\n",
       "      <th>month</th>\n",
       "      <th>dayofmonth</th>\n",
       "      <th>dayofweek</th>\n",
       "      <th>hour</th>\n",
       "      <th>minute</th>\n",
       "    </tr>\n",
       "  </thead>\n",
       "  <tbody>\n",
       "    <tr>\n",
       "      <th>0</th>\n",
       "      <td>2017</td>\n",
       "      <td>13</td>\n",
       "      <td>Vikings</td>\n",
       "      <td>Falcons</td>\n",
       "      <td>14</td>\n",
       "      <td>9</td>\n",
       "      <td>400951677</td>\n",
       "      <td>-5</td>\n",
       "      <td>0</td>\n",
       "      <td>1</td>\n",
       "      <td>...</td>\n",
       "      <td>75000</td>\n",
       "      <td>95.0</td>\n",
       "      <td>NaN</td>\n",
       "      <td>NaN</td>\n",
       "      <td>1</td>\n",
       "      <td>12</td>\n",
       "      <td>3</td>\n",
       "      <td>6</td>\n",
       "      <td>18</td>\n",
       "      <td>0</td>\n",
       "    </tr>\n",
       "    <tr>\n",
       "      <th>1</th>\n",
       "      <td>2017</td>\n",
       "      <td>9</td>\n",
       "      <td>Falcons</td>\n",
       "      <td>Panthers</td>\n",
       "      <td>17</td>\n",
       "      <td>20</td>\n",
       "      <td>400951749</td>\n",
       "      <td>3</td>\n",
       "      <td>1</td>\n",
       "      <td>0</td>\n",
       "      <td>...</td>\n",
       "      <td>73778</td>\n",
       "      <td>100.0</td>\n",
       "      <td>NaN</td>\n",
       "      <td>NaN</td>\n",
       "      <td>1</td>\n",
       "      <td>11</td>\n",
       "      <td>5</td>\n",
       "      <td>6</td>\n",
       "      <td>18</td>\n",
       "      <td>0</td>\n",
       "    </tr>\n",
       "    <tr>\n",
       "      <th>2</th>\n",
       "      <td>2017</td>\n",
       "      <td>9</td>\n",
       "      <td>Bengals</td>\n",
       "      <td>Jaguars</td>\n",
       "      <td>7</td>\n",
       "      <td>23</td>\n",
       "      <td>400951753</td>\n",
       "      <td>16</td>\n",
       "      <td>1</td>\n",
       "      <td>0</td>\n",
       "      <td>...</td>\n",
       "      <td>67858</td>\n",
       "      <td>89.0</td>\n",
       "      <td>NaN</td>\n",
       "      <td>NaN</td>\n",
       "      <td>1</td>\n",
       "      <td>11</td>\n",
       "      <td>5</td>\n",
       "      <td>6</td>\n",
       "      <td>18</td>\n",
       "      <td>0</td>\n",
       "    </tr>\n",
       "    <tr>\n",
       "      <th>3</th>\n",
       "      <td>2017</td>\n",
       "      <td>4</td>\n",
       "      <td>Bears</td>\n",
       "      <td>Packers</td>\n",
       "      <td>14</td>\n",
       "      <td>35</td>\n",
       "      <td>400951678</td>\n",
       "      <td>21</td>\n",
       "      <td>1</td>\n",
       "      <td>0</td>\n",
       "      <td>...</td>\n",
       "      <td>81041</td>\n",
       "      <td>97.0</td>\n",
       "      <td>NaN</td>\n",
       "      <td>NaN</td>\n",
       "      <td>1</td>\n",
       "      <td>9</td>\n",
       "      <td>29</td>\n",
       "      <td>4</td>\n",
       "      <td>0</td>\n",
       "      <td>25</td>\n",
       "    </tr>\n",
       "    <tr>\n",
       "      <th>4</th>\n",
       "      <td>2017</td>\n",
       "      <td>9</td>\n",
       "      <td>Colts</td>\n",
       "      <td>Texans</td>\n",
       "      <td>20</td>\n",
       "      <td>14</td>\n",
       "      <td>400951751</td>\n",
       "      <td>-6</td>\n",
       "      <td>0</td>\n",
       "      <td>1</td>\n",
       "      <td>...</td>\n",
       "      <td>71995</td>\n",
       "      <td>100.0</td>\n",
       "      <td>NaN</td>\n",
       "      <td>NaN</td>\n",
       "      <td>1</td>\n",
       "      <td>11</td>\n",
       "      <td>5</td>\n",
       "      <td>6</td>\n",
       "      <td>18</td>\n",
       "      <td>0</td>\n",
       "    </tr>\n",
       "  </tbody>\n",
       "</table>\n",
       "<p>5 rows × 264 columns</p>\n",
       "</div>"
      ],
      "text/plain": [
       "   season_away  week_away awayteam_away hometeam_away  awayscore_away  \\\n",
       "0         2017         13       Vikings       Falcons              14   \n",
       "1         2017          9       Falcons      Panthers              17   \n",
       "2         2017          9       Bengals       Jaguars               7   \n",
       "3         2017          4         Bears       Packers              14   \n",
       "4         2017          9         Colts        Texans              20   \n",
       "\n",
       "   homescore_away     idgame  score_abs_away  winner_home_away  \\\n",
       "0               9  400951677              -5                 0   \n",
       "1              20  400951749               3                 1   \n",
       "2              23  400951753              16                 1   \n",
       "3              35  400951678              21                 1   \n",
       "4              14  400951751              -6                 0   \n",
       "\n",
       "   winner_away_away  ... capacity people line over_under attendance_info  \\\n",
       "0                 1  ...    75000   95.0  NaN        NaN               1   \n",
       "1                 0  ...    73778  100.0  NaN        NaN               1   \n",
       "2                 0  ...    67858   89.0  NaN        NaN               1   \n",
       "3                 0  ...    81041   97.0  NaN        NaN               1   \n",
       "4                 1  ...    71995  100.0  NaN        NaN               1   \n",
       "\n",
       "  month  dayofmonth  dayofweek  hour minute  \n",
       "0    12           3          6    18      0  \n",
       "1    11           5          6    18      0  \n",
       "2    11           5          6    18      0  \n",
       "3     9          29          4     0     25  \n",
       "4    11           5          6    18      0  \n",
       "\n",
       "[5 rows x 264 columns]"
      ]
     },
     "execution_count": 178,
     "metadata": {},
     "output_type": "execute_result"
    }
   ],
   "source": [
    " # using merge function by setting how='left' to keep in line with the master file\n",
    "output4 = pd.merge(output3, data2, \n",
    "                   on='idgame', \n",
    "                   how='left')\n",
    "  \n",
    "# displaying result\n",
    "output4.head()"
   ]
  },
  {
   "cell_type": "code",
   "execution_count": 179,
   "metadata": {},
   "outputs": [
    {
     "data": {
      "text/plain": [
       "1289"
      ]
     },
     "execution_count": 179,
     "metadata": {},
     "output_type": "execute_result"
    }
   ],
   "source": [
    "len(output4)"
   ]
  },
  {
   "cell_type": "markdown",
   "metadata": {},
   "source": [
    "step3 : merge data with win_streak"
   ]
  },
  {
   "cell_type": "code",
   "execution_count": 180,
   "metadata": {},
   "outputs": [],
   "source": [
    "data3 = pd.read_csv('../04_datasets/teams_win_streak.csv')"
   ]
  },
  {
   "cell_type": "code",
   "execution_count": 181,
   "metadata": {},
   "outputs": [
    {
     "data": {
      "text/html": [
       "<div>\n",
       "<style scoped>\n",
       "    .dataframe tbody tr th:only-of-type {\n",
       "        vertical-align: middle;\n",
       "    }\n",
       "\n",
       "    .dataframe tbody tr th {\n",
       "        vertical-align: top;\n",
       "    }\n",
       "\n",
       "    .dataframe thead th {\n",
       "        text-align: right;\n",
       "    }\n",
       "</style>\n",
       "<table border=\"1\" class=\"dataframe\">\n",
       "  <thead>\n",
       "    <tr style=\"text-align: right;\">\n",
       "      <th></th>\n",
       "      <th>Unnamed: 0</th>\n",
       "      <th>season</th>\n",
       "      <th>week</th>\n",
       "      <th>idgame</th>\n",
       "      <th>team</th>\n",
       "      <th>streak</th>\n",
       "    </tr>\n",
       "  </thead>\n",
       "  <tbody>\n",
       "    <tr>\n",
       "      <th>0</th>\n",
       "      <td>0</td>\n",
       "      <td>2021</td>\n",
       "      <td>18</td>\n",
       "      <td>401326600</td>\n",
       "      <td>Raiders</td>\n",
       "      <td>3</td>\n",
       "    </tr>\n",
       "    <tr>\n",
       "      <th>1</th>\n",
       "      <td>1</td>\n",
       "      <td>2021</td>\n",
       "      <td>18</td>\n",
       "      <td>401326600</td>\n",
       "      <td>Chargers</td>\n",
       "      <td>1</td>\n",
       "    </tr>\n",
       "    <tr>\n",
       "      <th>2</th>\n",
       "      <td>2</td>\n",
       "      <td>2021</td>\n",
       "      <td>18</td>\n",
       "      <td>401326599</td>\n",
       "      <td>Rams</td>\n",
       "      <td>5</td>\n",
       "    </tr>\n",
       "    <tr>\n",
       "      <th>3</th>\n",
       "      <td>3</td>\n",
       "      <td>2021</td>\n",
       "      <td>18</td>\n",
       "      <td>401326599</td>\n",
       "      <td>49ers</td>\n",
       "      <td>1</td>\n",
       "    </tr>\n",
       "    <tr>\n",
       "      <th>4</th>\n",
       "      <td>4</td>\n",
       "      <td>2021</td>\n",
       "      <td>18</td>\n",
       "      <td>401326598</td>\n",
       "      <td>Chiefs</td>\n",
       "      <td>-1</td>\n",
       "    </tr>\n",
       "  </tbody>\n",
       "</table>\n",
       "</div>"
      ],
      "text/plain": [
       "   Unnamed: 0  season  week     idgame      team  streak\n",
       "0           0    2021    18  401326600   Raiders       3\n",
       "1           1    2021    18  401326600  Chargers       1\n",
       "2           2    2021    18  401326599      Rams       5\n",
       "3           3    2021    18  401326599     49ers       1\n",
       "4           4    2021    18  401326598    Chiefs      -1"
      ]
     },
     "execution_count": 181,
     "metadata": {},
     "output_type": "execute_result"
    }
   ],
   "source": [
    "data3.head()"
   ]
  },
  {
   "cell_type": "code",
   "execution_count": 182,
   "metadata": {},
   "outputs": [
    {
     "data": {
      "text/html": [
       "<div>\n",
       "<style scoped>\n",
       "    .dataframe tbody tr th:only-of-type {\n",
       "        vertical-align: middle;\n",
       "    }\n",
       "\n",
       "    .dataframe tbody tr th {\n",
       "        vertical-align: top;\n",
       "    }\n",
       "\n",
       "    .dataframe thead th {\n",
       "        text-align: right;\n",
       "    }\n",
       "</style>\n",
       "<table border=\"1\" class=\"dataframe\">\n",
       "  <thead>\n",
       "    <tr style=\"text-align: right;\">\n",
       "      <th></th>\n",
       "      <th>game_date</th>\n",
       "      <th>idgame</th>\n",
       "      <th>team</th>\n",
       "      <th>pass_completion</th>\n",
       "      <th>pass_yds</th>\n",
       "      <th>pass_avg</th>\n",
       "      <th>pass_td</th>\n",
       "      <th>pass_int</th>\n",
       "      <th>sacks</th>\n",
       "      <th>qbr</th>\n",
       "      <th>...</th>\n",
       "      <th>punting_no_MA_5</th>\n",
       "      <th>punting_yds_MA_5</th>\n",
       "      <th>punting_avg_MA_5</th>\n",
       "      <th>punting_tb_MA_5</th>\n",
       "      <th>punting_in_20_MA_5</th>\n",
       "      <th>punting_long_MA_5</th>\n",
       "      <th>Unnamed: 0</th>\n",
       "      <th>season</th>\n",
       "      <th>week</th>\n",
       "      <th>streak</th>\n",
       "    </tr>\n",
       "  </thead>\n",
       "  <tbody>\n",
       "    <tr>\n",
       "      <th>0</th>\n",
       "      <td>2017-09-10 20:25:00+00:00</td>\n",
       "      <td>400951605</td>\n",
       "      <td>49ers</td>\n",
       "      <td>0.685714</td>\n",
       "      <td>193.0</td>\n",
       "      <td>5.5</td>\n",
       "      <td>0.0</td>\n",
       "      <td>1.0</td>\n",
       "      <td>0.148148</td>\n",
       "      <td>0.148148</td>\n",
       "      <td>...</td>\n",
       "      <td>NaN</td>\n",
       "      <td>NaN</td>\n",
       "      <td>NaN</td>\n",
       "      <td>NaN</td>\n",
       "      <td>NaN</td>\n",
       "      <td>NaN</td>\n",
       "      <td>2537.0</td>\n",
       "      <td>2017.0</td>\n",
       "      <td>1.0</td>\n",
       "      <td>0.0</td>\n",
       "    </tr>\n",
       "    <tr>\n",
       "      <th>1</th>\n",
       "      <td>2017-09-17 20:25:00+00:00</td>\n",
       "      <td>400951676</td>\n",
       "      <td>49ers</td>\n",
       "      <td>0.555556</td>\n",
       "      <td>99.0</td>\n",
       "      <td>3.7</td>\n",
       "      <td>0.0</td>\n",
       "      <td>1.0</td>\n",
       "      <td>0.200000</td>\n",
       "      <td>0.200000</td>\n",
       "      <td>...</td>\n",
       "      <td>NaN</td>\n",
       "      <td>NaN</td>\n",
       "      <td>NaN</td>\n",
       "      <td>NaN</td>\n",
       "      <td>NaN</td>\n",
       "      <td>NaN</td>\n",
       "      <td>2507.0</td>\n",
       "      <td>2017.0</td>\n",
       "      <td>2.0</td>\n",
       "      <td>-1.0</td>\n",
       "    </tr>\n",
       "    <tr>\n",
       "      <th>2</th>\n",
       "      <td>2017-09-22 00:25:00+00:00</td>\n",
       "      <td>400951568</td>\n",
       "      <td>49ers</td>\n",
       "      <td>0.621622</td>\n",
       "      <td>332.0</td>\n",
       "      <td>9.0</td>\n",
       "      <td>2.0</td>\n",
       "      <td>1.0</td>\n",
       "      <td>0.166667</td>\n",
       "      <td>0.166667</td>\n",
       "      <td>...</td>\n",
       "      <td>NaN</td>\n",
       "      <td>NaN</td>\n",
       "      <td>NaN</td>\n",
       "      <td>NaN</td>\n",
       "      <td>NaN</td>\n",
       "      <td>NaN</td>\n",
       "      <td>2501.0</td>\n",
       "      <td>2017.0</td>\n",
       "      <td>3.0</td>\n",
       "      <td>-2.0</td>\n",
       "    </tr>\n",
       "    <tr>\n",
       "      <th>3</th>\n",
       "      <td>2017-10-01 20:05:00+00:00</td>\n",
       "      <td>400951735</td>\n",
       "      <td>49ers</td>\n",
       "      <td>0.489796</td>\n",
       "      <td>234.0</td>\n",
       "      <td>4.8</td>\n",
       "      <td>0.0</td>\n",
       "      <td>1.0</td>\n",
       "      <td>0.125000</td>\n",
       "      <td>0.125000</td>\n",
       "      <td>...</td>\n",
       "      <td>NaN</td>\n",
       "      <td>NaN</td>\n",
       "      <td>NaN</td>\n",
       "      <td>NaN</td>\n",
       "      <td>NaN</td>\n",
       "      <td>NaN</td>\n",
       "      <td>2449.0</td>\n",
       "      <td>2017.0</td>\n",
       "      <td>4.0</td>\n",
       "      <td>-3.0</td>\n",
       "    </tr>\n",
       "    <tr>\n",
       "      <th>4</th>\n",
       "      <td>2017-10-08 17:00:00+00:00</td>\n",
       "      <td>400951562</td>\n",
       "      <td>49ers</td>\n",
       "      <td>0.630435</td>\n",
       "      <td>353.0</td>\n",
       "      <td>7.7</td>\n",
       "      <td>2.0</td>\n",
       "      <td>0.0</td>\n",
       "      <td>0.117647</td>\n",
       "      <td>0.117647</td>\n",
       "      <td>...</td>\n",
       "      <td>NaN</td>\n",
       "      <td>NaN</td>\n",
       "      <td>NaN</td>\n",
       "      <td>NaN</td>\n",
       "      <td>NaN</td>\n",
       "      <td>NaN</td>\n",
       "      <td>2429.0</td>\n",
       "      <td>2017.0</td>\n",
       "      <td>5.0</td>\n",
       "      <td>-4.0</td>\n",
       "    </tr>\n",
       "  </tbody>\n",
       "</table>\n",
       "<p>5 rows × 110 columns</p>\n",
       "</div>"
      ],
      "text/plain": [
       "                   game_date     idgame   team  pass_completion  pass_yds  \\\n",
       "0  2017-09-10 20:25:00+00:00  400951605  49ers         0.685714     193.0   \n",
       "1  2017-09-17 20:25:00+00:00  400951676  49ers         0.555556      99.0   \n",
       "2  2017-09-22 00:25:00+00:00  400951568  49ers         0.621622     332.0   \n",
       "3  2017-10-01 20:05:00+00:00  400951735  49ers         0.489796     234.0   \n",
       "4  2017-10-08 17:00:00+00:00  400951562  49ers         0.630435     353.0   \n",
       "\n",
       "   pass_avg  pass_td  pass_int     sacks       qbr  ...  punting_no_MA_5  \\\n",
       "0       5.5      0.0       1.0  0.148148  0.148148  ...              NaN   \n",
       "1       3.7      0.0       1.0  0.200000  0.200000  ...              NaN   \n",
       "2       9.0      2.0       1.0  0.166667  0.166667  ...              NaN   \n",
       "3       4.8      0.0       1.0  0.125000  0.125000  ...              NaN   \n",
       "4       7.7      2.0       0.0  0.117647  0.117647  ...              NaN   \n",
       "\n",
       "   punting_yds_MA_5  punting_avg_MA_5  punting_tb_MA_5  punting_in_20_MA_5  \\\n",
       "0               NaN               NaN              NaN                 NaN   \n",
       "1               NaN               NaN              NaN                 NaN   \n",
       "2               NaN               NaN              NaN                 NaN   \n",
       "3               NaN               NaN              NaN                 NaN   \n",
       "4               NaN               NaN              NaN                 NaN   \n",
       "\n",
       "   punting_long_MA_5  Unnamed: 0  season  week  streak  \n",
       "0                NaN      2537.0  2017.0   1.0     0.0  \n",
       "1                NaN      2507.0  2017.0   2.0    -1.0  \n",
       "2                NaN      2501.0  2017.0   3.0    -2.0  \n",
       "3                NaN      2449.0  2017.0   4.0    -3.0  \n",
       "4                NaN      2429.0  2017.0   5.0    -4.0  \n",
       "\n",
       "[5 rows x 110 columns]"
      ]
     },
     "execution_count": 182,
     "metadata": {},
     "output_type": "execute_result"
    }
   ],
   "source": [
    "test = pd.merge(data1,data3,\n",
    "                left_on=['idgame','team'],\n",
    "                right_on = ['idgame','team'],\n",
    "                how='left')\n",
    "test.head()\n"
   ]
  },
  {
   "cell_type": "code",
   "execution_count": 183,
   "metadata": {},
   "outputs": [
    {
     "data": {
      "text/html": [
       "<div>\n",
       "<style scoped>\n",
       "    .dataframe tbody tr th:only-of-type {\n",
       "        vertical-align: middle;\n",
       "    }\n",
       "\n",
       "    .dataframe tbody tr th {\n",
       "        vertical-align: top;\n",
       "    }\n",
       "\n",
       "    .dataframe thead th {\n",
       "        text-align: right;\n",
       "    }\n",
       "</style>\n",
       "<table border=\"1\" class=\"dataframe\">\n",
       "  <thead>\n",
       "    <tr style=\"text-align: right;\">\n",
       "      <th></th>\n",
       "      <th>season_away</th>\n",
       "      <th>week_away</th>\n",
       "      <th>awayteam_away</th>\n",
       "      <th>hometeam_away</th>\n",
       "      <th>awayscore_away</th>\n",
       "      <th>homescore_away</th>\n",
       "      <th>idgame</th>\n",
       "      <th>score_abs_away</th>\n",
       "      <th>winner_home_away</th>\n",
       "      <th>winner_away_away</th>\n",
       "      <th>...</th>\n",
       "      <th>month</th>\n",
       "      <th>dayofmonth</th>\n",
       "      <th>dayofweek</th>\n",
       "      <th>hour</th>\n",
       "      <th>minute</th>\n",
       "      <th>Unnamed: 0_y</th>\n",
       "      <th>season</th>\n",
       "      <th>week</th>\n",
       "      <th>team</th>\n",
       "      <th>streak</th>\n",
       "    </tr>\n",
       "  </thead>\n",
       "  <tbody>\n",
       "    <tr>\n",
       "      <th>0</th>\n",
       "      <td>2017</td>\n",
       "      <td>13</td>\n",
       "      <td>Vikings</td>\n",
       "      <td>Falcons</td>\n",
       "      <td>14</td>\n",
       "      <td>9</td>\n",
       "      <td>400951677</td>\n",
       "      <td>-5</td>\n",
       "      <td>0</td>\n",
       "      <td>1</td>\n",
       "      <td>...</td>\n",
       "      <td>12</td>\n",
       "      <td>3</td>\n",
       "      <td>6</td>\n",
       "      <td>18</td>\n",
       "      <td>0</td>\n",
       "      <td>2208.0</td>\n",
       "      <td>2017.0</td>\n",
       "      <td>13.0</td>\n",
       "      <td>Vikings</td>\n",
       "      <td>7.0</td>\n",
       "    </tr>\n",
       "    <tr>\n",
       "      <th>1</th>\n",
       "      <td>2017</td>\n",
       "      <td>9</td>\n",
       "      <td>Falcons</td>\n",
       "      <td>Panthers</td>\n",
       "      <td>17</td>\n",
       "      <td>20</td>\n",
       "      <td>400951749</td>\n",
       "      <td>3</td>\n",
       "      <td>1</td>\n",
       "      <td>0</td>\n",
       "      <td>...</td>\n",
       "      <td>11</td>\n",
       "      <td>5</td>\n",
       "      <td>6</td>\n",
       "      <td>18</td>\n",
       "      <td>0</td>\n",
       "      <td>2323.0</td>\n",
       "      <td>2017.0</td>\n",
       "      <td>9.0</td>\n",
       "      <td>Falcons</td>\n",
       "      <td>1.0</td>\n",
       "    </tr>\n",
       "    <tr>\n",
       "      <th>2</th>\n",
       "      <td>2017</td>\n",
       "      <td>9</td>\n",
       "      <td>Bengals</td>\n",
       "      <td>Jaguars</td>\n",
       "      <td>7</td>\n",
       "      <td>23</td>\n",
       "      <td>400951753</td>\n",
       "      <td>16</td>\n",
       "      <td>1</td>\n",
       "      <td>0</td>\n",
       "      <td>...</td>\n",
       "      <td>11</td>\n",
       "      <td>5</td>\n",
       "      <td>6</td>\n",
       "      <td>18</td>\n",
       "      <td>0</td>\n",
       "      <td>2319.0</td>\n",
       "      <td>2017.0</td>\n",
       "      <td>9.0</td>\n",
       "      <td>Bengals</td>\n",
       "      <td>1.0</td>\n",
       "    </tr>\n",
       "    <tr>\n",
       "      <th>3</th>\n",
       "      <td>2017</td>\n",
       "      <td>4</td>\n",
       "      <td>Bears</td>\n",
       "      <td>Packers</td>\n",
       "      <td>14</td>\n",
       "      <td>35</td>\n",
       "      <td>400951678</td>\n",
       "      <td>21</td>\n",
       "      <td>1</td>\n",
       "      <td>0</td>\n",
       "      <td>...</td>\n",
       "      <td>9</td>\n",
       "      <td>29</td>\n",
       "      <td>4</td>\n",
       "      <td>0</td>\n",
       "      <td>25</td>\n",
       "      <td>2467.0</td>\n",
       "      <td>2017.0</td>\n",
       "      <td>4.0</td>\n",
       "      <td>Bears</td>\n",
       "      <td>1.0</td>\n",
       "    </tr>\n",
       "    <tr>\n",
       "      <th>4</th>\n",
       "      <td>2017</td>\n",
       "      <td>9</td>\n",
       "      <td>Colts</td>\n",
       "      <td>Texans</td>\n",
       "      <td>20</td>\n",
       "      <td>14</td>\n",
       "      <td>400951751</td>\n",
       "      <td>-6</td>\n",
       "      <td>0</td>\n",
       "      <td>1</td>\n",
       "      <td>...</td>\n",
       "      <td>11</td>\n",
       "      <td>5</td>\n",
       "      <td>6</td>\n",
       "      <td>18</td>\n",
       "      <td>0</td>\n",
       "      <td>2321.0</td>\n",
       "      <td>2017.0</td>\n",
       "      <td>9.0</td>\n",
       "      <td>Colts</td>\n",
       "      <td>-3.0</td>\n",
       "    </tr>\n",
       "  </tbody>\n",
       "</table>\n",
       "<p>5 rows × 269 columns</p>\n",
       "</div>"
      ],
      "text/plain": [
       "   season_away  week_away awayteam_away hometeam_away  awayscore_away  \\\n",
       "0         2017         13       Vikings       Falcons              14   \n",
       "1         2017          9       Falcons      Panthers              17   \n",
       "2         2017          9       Bengals       Jaguars               7   \n",
       "3         2017          4         Bears       Packers              14   \n",
       "4         2017          9         Colts        Texans              20   \n",
       "\n",
       "   homescore_away     idgame  score_abs_away  winner_home_away  \\\n",
       "0               9  400951677              -5                 0   \n",
       "1              20  400951749               3                 1   \n",
       "2              23  400951753              16                 1   \n",
       "3              35  400951678              21                 1   \n",
       "4              14  400951751              -6                 0   \n",
       "\n",
       "   winner_away_away  ... month dayofmonth dayofweek hour minute Unnamed: 0_y  \\\n",
       "0                 1  ...    12          3         6   18      0       2208.0   \n",
       "1                 0  ...    11          5         6   18      0       2323.0   \n",
       "2                 0  ...    11          5         6   18      0       2319.0   \n",
       "3                 0  ...     9         29         4    0     25       2467.0   \n",
       "4                 1  ...    11          5         6   18      0       2321.0   \n",
       "\n",
       "   season  week     team streak  \n",
       "0  2017.0  13.0  Vikings    7.0  \n",
       "1  2017.0   9.0  Falcons    1.0  \n",
       "2  2017.0   9.0  Bengals    1.0  \n",
       "3  2017.0   4.0    Bears    1.0  \n",
       "4  2017.0   9.0    Colts   -3.0  \n",
       "\n",
       "[5 rows x 269 columns]"
      ]
     },
     "execution_count": 183,
     "metadata": {},
     "output_type": "execute_result"
    }
   ],
   "source": [
    "# using merge function by setting how='left' to keep in line with the master file\n",
    "output5 = pd.merge(output4, data3, \n",
    "                   left_on=['idgame','awayteam_away'],\n",
    "                   right_on = ['idgame','team'],\n",
    "                   how='left')\n",
    "\n",
    "# displaying result\n",
    "output5.head()"
   ]
  },
  {
   "cell_type": "code",
   "execution_count": 184,
   "metadata": {},
   "outputs": [
    {
     "data": {
      "text/html": [
       "<div>\n",
       "<style scoped>\n",
       "    .dataframe tbody tr th:only-of-type {\n",
       "        vertical-align: middle;\n",
       "    }\n",
       "\n",
       "    .dataframe tbody tr th {\n",
       "        vertical-align: top;\n",
       "    }\n",
       "\n",
       "    .dataframe thead th {\n",
       "        text-align: right;\n",
       "    }\n",
       "</style>\n",
       "<table border=\"1\" class=\"dataframe\">\n",
       "  <thead>\n",
       "    <tr style=\"text-align: right;\">\n",
       "      <th></th>\n",
       "      <th>season_away</th>\n",
       "      <th>week_away</th>\n",
       "      <th>awayteam_away</th>\n",
       "      <th>hometeam_away</th>\n",
       "      <th>awayscore_away</th>\n",
       "      <th>homescore_away</th>\n",
       "      <th>idgame</th>\n",
       "      <th>score_abs_away</th>\n",
       "      <th>winner_home_away</th>\n",
       "      <th>winner_away_away</th>\n",
       "      <th>...</th>\n",
       "      <th>month</th>\n",
       "      <th>dayofmonth</th>\n",
       "      <th>dayofweek</th>\n",
       "      <th>hour</th>\n",
       "      <th>minute</th>\n",
       "      <th>Unnamed: 0_y</th>\n",
       "      <th>season</th>\n",
       "      <th>week</th>\n",
       "      <th>team</th>\n",
       "      <th>streak</th>\n",
       "    </tr>\n",
       "  </thead>\n",
       "  <tbody>\n",
       "    <tr>\n",
       "      <th>0</th>\n",
       "      <td>2017</td>\n",
       "      <td>13</td>\n",
       "      <td>Vikings</td>\n",
       "      <td>Falcons</td>\n",
       "      <td>14</td>\n",
       "      <td>9</td>\n",
       "      <td>400951677</td>\n",
       "      <td>-5</td>\n",
       "      <td>0</td>\n",
       "      <td>1</td>\n",
       "      <td>...</td>\n",
       "      <td>12</td>\n",
       "      <td>3</td>\n",
       "      <td>6</td>\n",
       "      <td>18</td>\n",
       "      <td>0</td>\n",
       "      <td>2209.0</td>\n",
       "      <td>2017.0</td>\n",
       "      <td>13.0</td>\n",
       "      <td>Falcons</td>\n",
       "      <td>3.0</td>\n",
       "    </tr>\n",
       "    <tr>\n",
       "      <th>1</th>\n",
       "      <td>2017</td>\n",
       "      <td>9</td>\n",
       "      <td>Falcons</td>\n",
       "      <td>Panthers</td>\n",
       "      <td>17</td>\n",
       "      <td>20</td>\n",
       "      <td>400951749</td>\n",
       "      <td>3</td>\n",
       "      <td>1</td>\n",
       "      <td>0</td>\n",
       "      <td>...</td>\n",
       "      <td>11</td>\n",
       "      <td>5</td>\n",
       "      <td>6</td>\n",
       "      <td>18</td>\n",
       "      <td>0</td>\n",
       "      <td>2322.0</td>\n",
       "      <td>2017.0</td>\n",
       "      <td>9.0</td>\n",
       "      <td>Panthers</td>\n",
       "      <td>1.0</td>\n",
       "    </tr>\n",
       "    <tr>\n",
       "      <th>2</th>\n",
       "      <td>2017</td>\n",
       "      <td>9</td>\n",
       "      <td>Bengals</td>\n",
       "      <td>Jaguars</td>\n",
       "      <td>7</td>\n",
       "      <td>23</td>\n",
       "      <td>400951753</td>\n",
       "      <td>16</td>\n",
       "      <td>1</td>\n",
       "      <td>0</td>\n",
       "      <td>...</td>\n",
       "      <td>11</td>\n",
       "      <td>5</td>\n",
       "      <td>6</td>\n",
       "      <td>18</td>\n",
       "      <td>0</td>\n",
       "      <td>2318.0</td>\n",
       "      <td>2017.0</td>\n",
       "      <td>9.0</td>\n",
       "      <td>Jaguars</td>\n",
       "      <td>1.0</td>\n",
       "    </tr>\n",
       "    <tr>\n",
       "      <th>3</th>\n",
       "      <td>2017</td>\n",
       "      <td>4</td>\n",
       "      <td>Bears</td>\n",
       "      <td>Packers</td>\n",
       "      <td>14</td>\n",
       "      <td>35</td>\n",
       "      <td>400951678</td>\n",
       "      <td>21</td>\n",
       "      <td>1</td>\n",
       "      <td>0</td>\n",
       "      <td>...</td>\n",
       "      <td>9</td>\n",
       "      <td>29</td>\n",
       "      <td>4</td>\n",
       "      <td>0</td>\n",
       "      <td>25</td>\n",
       "      <td>2466.0</td>\n",
       "      <td>2017.0</td>\n",
       "      <td>4.0</td>\n",
       "      <td>Packers</td>\n",
       "      <td>1.0</td>\n",
       "    </tr>\n",
       "    <tr>\n",
       "      <th>4</th>\n",
       "      <td>2017</td>\n",
       "      <td>9</td>\n",
       "      <td>Colts</td>\n",
       "      <td>Texans</td>\n",
       "      <td>20</td>\n",
       "      <td>14</td>\n",
       "      <td>400951751</td>\n",
       "      <td>-6</td>\n",
       "      <td>0</td>\n",
       "      <td>1</td>\n",
       "      <td>...</td>\n",
       "      <td>11</td>\n",
       "      <td>5</td>\n",
       "      <td>6</td>\n",
       "      <td>18</td>\n",
       "      <td>0</td>\n",
       "      <td>2320.0</td>\n",
       "      <td>2017.0</td>\n",
       "      <td>9.0</td>\n",
       "      <td>Texans</td>\n",
       "      <td>-1.0</td>\n",
       "    </tr>\n",
       "  </tbody>\n",
       "</table>\n",
       "<p>5 rows × 269 columns</p>\n",
       "</div>"
      ],
      "text/plain": [
       "   season_away  week_away awayteam_away hometeam_away  awayscore_away  \\\n",
       "0         2017         13       Vikings       Falcons              14   \n",
       "1         2017          9       Falcons      Panthers              17   \n",
       "2         2017          9       Bengals       Jaguars               7   \n",
       "3         2017          4         Bears       Packers              14   \n",
       "4         2017          9         Colts        Texans              20   \n",
       "\n",
       "   homescore_away     idgame  score_abs_away  winner_home_away  \\\n",
       "0               9  400951677              -5                 0   \n",
       "1              20  400951749               3                 1   \n",
       "2              23  400951753              16                 1   \n",
       "3              35  400951678              21                 1   \n",
       "4              14  400951751              -6                 0   \n",
       "\n",
       "   winner_away_away  ... month dayofmonth dayofweek hour minute Unnamed: 0_y  \\\n",
       "0                 1  ...    12          3         6   18      0       2209.0   \n",
       "1                 0  ...    11          5         6   18      0       2322.0   \n",
       "2                 0  ...    11          5         6   18      0       2318.0   \n",
       "3                 0  ...     9         29         4    0     25       2466.0   \n",
       "4                 1  ...    11          5         6   18      0       2320.0   \n",
       "\n",
       "   season  week      team streak  \n",
       "0  2017.0  13.0   Falcons    3.0  \n",
       "1  2017.0   9.0  Panthers    1.0  \n",
       "2  2017.0   9.0   Jaguars    1.0  \n",
       "3  2017.0   4.0   Packers    1.0  \n",
       "4  2017.0   9.0    Texans   -1.0  \n",
       "\n",
       "[5 rows x 269 columns]"
      ]
     },
     "execution_count": 184,
     "metadata": {},
     "output_type": "execute_result"
    }
   ],
   "source": [
    "output6 = pd.merge(output4, data3, \n",
    "                   left_on=['idgame','hometeam_away'],\n",
    "                   right_on = ['idgame','team'],\n",
    "                   how='left')\n",
    "\n",
    "# displaying result\n",
    "output6.head()"
   ]
  },
  {
   "cell_type": "code",
   "execution_count": 185,
   "metadata": {},
   "outputs": [
    {
     "data": {
      "text/html": [
       "<div>\n",
       "<style scoped>\n",
       "    .dataframe tbody tr th:only-of-type {\n",
       "        vertical-align: middle;\n",
       "    }\n",
       "\n",
       "    .dataframe tbody tr th {\n",
       "        vertical-align: top;\n",
       "    }\n",
       "\n",
       "    .dataframe thead th {\n",
       "        text-align: right;\n",
       "    }\n",
       "</style>\n",
       "<table border=\"1\" class=\"dataframe\">\n",
       "  <thead>\n",
       "    <tr style=\"text-align: right;\">\n",
       "      <th></th>\n",
       "      <th>season_away_x</th>\n",
       "      <th>week_away_x</th>\n",
       "      <th>awayteam_away_x</th>\n",
       "      <th>hometeam_away_x</th>\n",
       "      <th>awayscore_away_x</th>\n",
       "      <th>homescore_away_x</th>\n",
       "      <th>idgame</th>\n",
       "      <th>score_abs_away_x</th>\n",
       "      <th>winner_home_away_x</th>\n",
       "      <th>winner_away_away_x</th>\n",
       "      <th>...</th>\n",
       "      <th>month_y</th>\n",
       "      <th>dayofmonth_y</th>\n",
       "      <th>dayofweek_y</th>\n",
       "      <th>hour_y</th>\n",
       "      <th>minute_y</th>\n",
       "      <th>Unnamed: 0_y_y</th>\n",
       "      <th>season_y</th>\n",
       "      <th>week_y</th>\n",
       "      <th>team_y</th>\n",
       "      <th>streak_y</th>\n",
       "    </tr>\n",
       "  </thead>\n",
       "  <tbody>\n",
       "    <tr>\n",
       "      <th>0</th>\n",
       "      <td>2017</td>\n",
       "      <td>13</td>\n",
       "      <td>Vikings</td>\n",
       "      <td>Falcons</td>\n",
       "      <td>14</td>\n",
       "      <td>9</td>\n",
       "      <td>400951677</td>\n",
       "      <td>-5</td>\n",
       "      <td>0</td>\n",
       "      <td>1</td>\n",
       "      <td>...</td>\n",
       "      <td>12</td>\n",
       "      <td>3</td>\n",
       "      <td>6</td>\n",
       "      <td>18</td>\n",
       "      <td>0</td>\n",
       "      <td>2209.0</td>\n",
       "      <td>2017.0</td>\n",
       "      <td>13.0</td>\n",
       "      <td>Falcons</td>\n",
       "      <td>3.0</td>\n",
       "    </tr>\n",
       "    <tr>\n",
       "      <th>1</th>\n",
       "      <td>2017</td>\n",
       "      <td>9</td>\n",
       "      <td>Falcons</td>\n",
       "      <td>Panthers</td>\n",
       "      <td>17</td>\n",
       "      <td>20</td>\n",
       "      <td>400951749</td>\n",
       "      <td>3</td>\n",
       "      <td>1</td>\n",
       "      <td>0</td>\n",
       "      <td>...</td>\n",
       "      <td>11</td>\n",
       "      <td>5</td>\n",
       "      <td>6</td>\n",
       "      <td>18</td>\n",
       "      <td>0</td>\n",
       "      <td>2322.0</td>\n",
       "      <td>2017.0</td>\n",
       "      <td>9.0</td>\n",
       "      <td>Panthers</td>\n",
       "      <td>1.0</td>\n",
       "    </tr>\n",
       "    <tr>\n",
       "      <th>2</th>\n",
       "      <td>2017</td>\n",
       "      <td>9</td>\n",
       "      <td>Bengals</td>\n",
       "      <td>Jaguars</td>\n",
       "      <td>7</td>\n",
       "      <td>23</td>\n",
       "      <td>400951753</td>\n",
       "      <td>16</td>\n",
       "      <td>1</td>\n",
       "      <td>0</td>\n",
       "      <td>...</td>\n",
       "      <td>11</td>\n",
       "      <td>5</td>\n",
       "      <td>6</td>\n",
       "      <td>18</td>\n",
       "      <td>0</td>\n",
       "      <td>2318.0</td>\n",
       "      <td>2017.0</td>\n",
       "      <td>9.0</td>\n",
       "      <td>Jaguars</td>\n",
       "      <td>1.0</td>\n",
       "    </tr>\n",
       "    <tr>\n",
       "      <th>3</th>\n",
       "      <td>2017</td>\n",
       "      <td>4</td>\n",
       "      <td>Bears</td>\n",
       "      <td>Packers</td>\n",
       "      <td>14</td>\n",
       "      <td>35</td>\n",
       "      <td>400951678</td>\n",
       "      <td>21</td>\n",
       "      <td>1</td>\n",
       "      <td>0</td>\n",
       "      <td>...</td>\n",
       "      <td>9</td>\n",
       "      <td>29</td>\n",
       "      <td>4</td>\n",
       "      <td>0</td>\n",
       "      <td>25</td>\n",
       "      <td>2466.0</td>\n",
       "      <td>2017.0</td>\n",
       "      <td>4.0</td>\n",
       "      <td>Packers</td>\n",
       "      <td>1.0</td>\n",
       "    </tr>\n",
       "    <tr>\n",
       "      <th>4</th>\n",
       "      <td>2017</td>\n",
       "      <td>9</td>\n",
       "      <td>Colts</td>\n",
       "      <td>Texans</td>\n",
       "      <td>20</td>\n",
       "      <td>14</td>\n",
       "      <td>400951751</td>\n",
       "      <td>-6</td>\n",
       "      <td>0</td>\n",
       "      <td>1</td>\n",
       "      <td>...</td>\n",
       "      <td>11</td>\n",
       "      <td>5</td>\n",
       "      <td>6</td>\n",
       "      <td>18</td>\n",
       "      <td>0</td>\n",
       "      <td>2320.0</td>\n",
       "      <td>2017.0</td>\n",
       "      <td>9.0</td>\n",
       "      <td>Texans</td>\n",
       "      <td>-1.0</td>\n",
       "    </tr>\n",
       "  </tbody>\n",
       "</table>\n",
       "<p>5 rows × 537 columns</p>\n",
       "</div>"
      ],
      "text/plain": [
       "   season_away_x  week_away_x awayteam_away_x hometeam_away_x  \\\n",
       "0           2017           13         Vikings         Falcons   \n",
       "1           2017            9         Falcons        Panthers   \n",
       "2           2017            9         Bengals         Jaguars   \n",
       "3           2017            4           Bears         Packers   \n",
       "4           2017            9           Colts          Texans   \n",
       "\n",
       "   awayscore_away_x  homescore_away_x     idgame  score_abs_away_x  \\\n",
       "0                14                 9  400951677                -5   \n",
       "1                17                20  400951749                 3   \n",
       "2                 7                23  400951753                16   \n",
       "3                14                35  400951678                21   \n",
       "4                20                14  400951751                -6   \n",
       "\n",
       "   winner_home_away_x  winner_away_away_x  ... month_y dayofmonth_y  \\\n",
       "0                   0                   1  ...      12            3   \n",
       "1                   1                   0  ...      11            5   \n",
       "2                   1                   0  ...      11            5   \n",
       "3                   1                   0  ...       9           29   \n",
       "4                   0                   1  ...      11            5   \n",
       "\n",
       "  dayofweek_y hour_y minute_y Unnamed: 0_y_y  season_y  week_y    team_y  \\\n",
       "0           6     18        0         2209.0    2017.0    13.0   Falcons   \n",
       "1           6     18        0         2322.0    2017.0     9.0  Panthers   \n",
       "2           6     18        0         2318.0    2017.0     9.0   Jaguars   \n",
       "3           4      0       25         2466.0    2017.0     4.0   Packers   \n",
       "4           6     18        0         2320.0    2017.0     9.0    Texans   \n",
       "\n",
       "  streak_y  \n",
       "0      3.0  \n",
       "1      1.0  \n",
       "2      1.0  \n",
       "3      1.0  \n",
       "4     -1.0  \n",
       "\n",
       "[5 rows x 537 columns]"
      ]
     },
     "execution_count": 185,
     "metadata": {},
     "output_type": "execute_result"
    }
   ],
   "source": [
    "output7 = pd.merge(output5, output6, \n",
    "                   left_on= 'idgame',\n",
    "                   right_on = 'idgame',\n",
    "                   how='inner')\n",
    "\n",
    "# displaying result\n",
    "output7.head()"
   ]
  },
  {
   "cell_type": "code",
   "execution_count": 186,
   "metadata": {},
   "outputs": [
    {
     "data": {
      "text/plain": [
       "1289"
      ]
     },
     "execution_count": 186,
     "metadata": {},
     "output_type": "execute_result"
    }
   ],
   "source": [
    "len(output7)"
   ]
  },
  {
   "cell_type": "code",
   "execution_count": 187,
   "metadata": {},
   "outputs": [],
   "source": [
    "col = output7.columns"
   ]
  },
  {
   "cell_type": "code",
   "execution_count": 188,
   "metadata": {},
   "outputs": [],
   "source": [
    "output8 = output7.reindex(sorted(output7.columns),axis=1)"
   ]
  },
  {
   "cell_type": "code",
   "execution_count": 189,
   "metadata": {},
   "outputs": [],
   "source": [
    "# Creation of the csv\n",
    "output7.to_csv('../04_datasets/nfl_dataset_v5.csv')"
   ]
  },
  {
   "cell_type": "code",
   "execution_count": 190,
   "metadata": {},
   "outputs": [],
   "source": [
    "# Creation of the csv\n",
    "output8.to_csv('../04_datasets/columns_cleaning.csv')"
   ]
  },
  {
   "cell_type": "code",
   "execution_count": 198,
   "metadata": {},
   "outputs": [
    {
     "name": "stdout",
     "output_type": "stream",
     "text": [
      "[[\"'Unnamed: 0_x'\"], [\"'Unnamed: 0_y'\"], [\"'attendance_info_y'\"], [\"'attendance_y'\"], [\"'away_coach_away_y'\"], [\"'away_coach_home_x'\"], [\"'away_coach_home_y'\"], [\"'awayscore_away_y'\"], [\"'awayscore_home_x'\"], [\"'awayscore_home_y'\"], [\"'awayteam_away_y'\"], [\"'awayteam_home_x'\"], [\"'awayteam_home_y'\"], [\"'capacity_y'\"], [\"'concat_away_x'\"], [\"'concat_away_y'\"], [\"'concat_home_x'\"], [\"'concat_home_y'\"], [\"'date_y'\"], [\"'dayofmonth_y'\"], [\"'dayofweek_y'\"], [\"'defense_pd_MA_5_away_y'\"], [\"'defense_pd_MA_5_home_y'\"], [\"'defense_pd_away_y'\"], [\"'defense_pd_home_y'\"], [\"'defense_qb_hits_MA_5_away_y'\"], [\"'defense_qb_hits_MA_5_home_y'\"], [\"'defense_qb_hits_away_y'\"], [\"'defense_qb_hits_home_y'\"], [\"'defense_sacks_MA_5_away_y'\"], [\"'defense_sacks_MA_5_home_y'\"], [\"'defense_sacks_away_y'\"], [\"'defense_sacks_home_y'\"], [\"'defense_solo_MA_5_away_y'\"], [\"'defense_solo_MA_5_home_y'\"], [\"'defense_solo_away_y'\"], [\"'defense_solo_home_y'\"], [\"'defense_td_MA_5_away_y'\"], [\"'defense_td_MA_5_home_y'\"], [\"'defense_td_away_y'\"], [\"'defense_td_home_y'\"], [\"'defense_tfl_MA_5_away_y'\"], [\"'defense_tfl_MA_5_home_y'\"], [\"'defense_tfl_away_y'\"], [\"'defense_tfl_home_y'\"], [\"'defense_tot_MA_5_away_y'\"], [\"'defense_tot_MA_5_home_y'\"], [\"'defense_tot_away_y'\"], [\"'defense_tot_home_y'\"], [\"'delta_day_away_y'\"], [\"'delta_day_home_y'\"], [\"'delta_match_away_x'\"], [\"'delta_match_away_y'\"], [\"'delta_match_home_x'\"], [\"'delta_match_home_y'\"], [\"'fumbles_MA_5_away_y'\"], [\"'fumbles_MA_5_home_y'\"], [\"'fumbles_away_y'\"], [\"'fumbles_home_y'\"], [\"'fumbles_lost_MA_5_away_y'\"], [\"'fumbles_lost_MA_5_home_y'\"], [\"'fumbles_lost_away_y'\"], [\"'fumbles_lost_home_y'\"], [\"'fumbles_rec_MA_5_away_y'\"], [\"'fumbles_rec_MA_5_home_y'\"], [\"'fumbles_rec_away_y'\"], [\"'fumbles_rec_home_y'\"], [\"'game_date_away_y'\"], [\"'game_date_home_y'\"], [\"'home_coach_away_y'\"], [\"'home_coach_home_y'\"], [\"'homescore_away_y'\"], [\"'homescore_home_x'\"], [\"'homescore_home_y'\"], [\"'hometeam_away_y'\"], [\"'hometeam_home_x'\"], [\"'hometeam_home_y'\"], [\"'hour_y'\"], [\"'humidity_away_y'\"], [\"'humidity_home_x'\"], [\"'humidity_home_y'\"], [\"'interceptions_MA_5_away_y'\"], [\"'interceptions_MA_5_home_y'\"], [\"'interceptions_away_y'\"], [\"'interceptions_home_y'\"], [\"'interceptions_td_MA_5_away_y'\"], [\"'interceptions_td_MA_5_home_y'\"], [\"'interceptions_td_away_y'\"], [\"'interceptions_td_home_y'\"], [\"'interceptions_yds_MA_5_away_y'\"], [\"'interceptions_yds_MA_5_home_y'\"], [\"'interceptions_yds_away_y'\"], [\"'interceptions_yds_home_y'\"], [\"'kicking_long_MA_5_away_y'\"], [\"'kicking_long_MA_5_home_y'\"], [\"'kicking_long_away_y'\"], [\"'kicking_long_home_y'\"], [\"'kicking_pct_MA_5_away_y'\"], [\"'kicking_pct_MA_5_home_y'\"], [\"'kicking_pct_away_y'\"], [\"'kicking_pct_home_y'\"], [\"'kicking_pts_MA_5_away_y'\"], [\"'kicking_pts_MA_5_home_y'\"], [\"'kicking_pts_away_y'\"], [\"'kicking_pts_home_y'\"], [\"'kicks_return_avg_MA_5_away_y'\"], [\"'kicks_return_avg_MA_5_home_y'\"], [\"'kicks_return_avg_away_y'\"], [\"'kicks_return_avg_home_y'\"], [\"'kicks_return_long_MA_5_away_y'\"], [\"'kicks_return_long_MA_5_home_y'\"], [\"'kicks_return_long_away_y'\"], [\"'kicks_return_long_home_y'\"], [\"'kicks_return_no_MA_5_away_y'\"], [\"'kicks_return_no_MA_5_home_y'\"], [\"'kicks_return_no_away_y'\"], [\"'kicks_return_no_home_y'\"], [\"'kicks_return_td_MA_5_away_y'\"], [\"'kicks_return_td_MA_5_home_y'\"], [\"'kicks_return_td_away_y'\"], [\"'kicks_return_td_home_y'\"], [\"'kicks_return_yds_MA_5_away_y'\"], [\"'kicks_return_yds_MA_5_home_y'\"], [\"'kicks_return_yds_away_y'\"], [\"'kicks_return_yds_home_y'\"], [\"'line_x'\"], [\"'line_y'\"], [\"'location_away_y'\"], [\"'location_home_y'\"], [\"'location_y'\"], [\"'minute_x'\"], [\"'minute_y'\"], [\"'month_y'\"], [\"'over_under_x'\"], [\"'over_under_y'\"], [\"'pass_avg_MA_5_away_y'\"], [\"'pass_avg_MA_5_home_y'\"], [\"'pass_avg_away_y'\"], [\"'pass_avg_home_y'\"], [\"'pass_completion_MA_5_away_y'\"], [\"'pass_completion_MA_5_home_y'\"], [\"'pass_completion_away_y'\"], [\"'pass_completion_home_y'\"], [\"'pass_int_MA_5_away_y'\"], [\"'pass_int_MA_5_home_y'\"], [\"'pass_int_away_y'\"], [\"'pass_int_home_y'\"], [\"'pass_td_MA_5_away_y'\"], [\"'pass_td_MA_5_home_y'\"], [\"'pass_td_away_y'\"], [\"'pass_td_home_y'\"], [\"'pass_yds_MA_5_away_y'\"], [\"'pass_yds_MA_5_home_y'\"], [\"'pass_yds_away_y'\"], [\"'pass_yds_home_y'\"], [\"'people_y'\"], [\"'punt_return_avg_MA_5_away_y'\"], [\"'punt_return_avg_MA_5_home_y'\"], [\"'punt_return_avg_away_y'\"], [\"'punt_return_avg_home_y'\"], [\"'punt_return_long_MA_5_away_y'\"], [\"'punt_return_long_MA_5_home_y'\"], [\"'punt_return_long_away_y'\"], [\"'punt_return_long_home_y'\"], [\"'punt_return_no_MA_5_away_y'\"], [\"'punt_return_no_MA_5_home_y'\"], [\"'punt_return_no_away_y'\"], [\"'punt_return_no_home_y'\"], [\"'punt_return_td_MA_5_away_y'\"], [\"'punt_return_td_MA_5_home_y'\"], [\"'punt_return_td_away_y'\"], [\"'punt_return_td_home_y'\"], [\"'punt_return_yds_MA_5_away_y'\"], [\"'punt_return_yds_MA_5_home_y'\"], [\"'punt_return_yds_away_y'\"], [\"'punt_return_yds_home_y'\"], [\"'punting_avg_MA_5_away_y'\"], [\"'punting_avg_MA_5_home_y'\"], [\"'punting_avg_away_y'\"], [\"'punting_avg_home_y'\"], [\"'punting_in_20_MA_5_away_y'\"], [\"'punting_in_20_MA_5_home_y'\"], [\"'punting_in_20_away_y'\"], [\"'punting_in_20_home_y'\"], [\"'punting_long_MA_5_away_y'\"], [\"'punting_long_MA_5_home_y'\"], [\"'punting_long_away_y'\"], [\"'punting_long_home_y'\"], [\"'punting_no_MA_5_away_y'\"], [\"'punting_no_MA_5_home_y'\"], [\"'punting_no_away_y'\"], [\"'punting_no_home_y'\"], [\"'punting_tb_MA_5_away_y'\"], [\"'punting_tb_MA_5_home_y'\"], [\"'punting_tb_away_y'\"], [\"'punting_tb_home_y'\"], [\"'punting_yds_MA_5_away_y'\"], [\"'punting_yds_MA_5_home_y'\"], [\"'punting_yds_away_y'\"], [\"'punting_yds_home_y'\"], [\"'qbr_MA_5_away_y'\"], [\"'qbr_MA_5_home_y'\"], [\"'qbr_away_y'\"], [\"'qbr_home_y'\"], [\"'rec_avg_MA_5_away_y'\"], [\"'rec_avg_MA_5_home_y'\"], [\"'rec_avg_away_y'\"], [\"'rec_avg_home_y'\"], [\"'rec_long_MA_5_away_y'\"], [\"'rec_long_MA_5_home_y'\"], [\"'rec_long_away_y'\"], [\"'rec_long_home_y'\"], [\"'rec_td_MA_5_away_y'\"], [\"'rec_td_MA_5_home_y'\"], [\"'rec_td_away_y'\"], [\"'rec_td_home_y'\"], [\"'rec_tgs_MA_5_away_y'\"], [\"'rec_tgs_MA_5_home_y'\"], [\"'rec_tgs_away_y'\"], [\"'rec_tgs_home_y'\"], [\"'rec_yds_MA_5_away_y'\"], [\"'rec_yds_MA_5_home_y'\"], [\"'rec_yds_away_y'\"], [\"'rec_yds_home_y'\"], [\"'receptions_MA_5_away_y'\"], [\"'receptions_MA_5_home_y'\"], [\"'receptions_away_y'\"], [\"'receptions_home_y'\"], [\"'rtg_MA_5_away_y'\"], [\"'rtg_MA_5_home_y'\"], [\"'rtg_away_y'\"], [\"'rtg_home_y'\"], [\"'rush_avg_MA_5_away_y'\"], [\"'rush_avg_MA_5_home_y'\"], [\"'rush_avg_away_y'\"], [\"'rush_avg_home_y'\"], [\"'rush_car_MA_5_away_y'\"], [\"'rush_car_MA_5_home_y'\"], [\"'rush_car_away_y'\"], [\"'rush_car_home_y'\"], [\"'rush_long_MA_5_away_y'\"], [\"'rush_long_MA_5_home_y'\"], [\"'rush_long_away_y'\"], [\"'rush_long_home_y'\"], [\"'rush_td_MA_5_away_y'\"], [\"'rush_td_MA_5_home_y'\"], [\"'rush_td_away_y'\"], [\"'rush_td_home_y'\"], [\"'rush_yds_MA_5_away_y'\"], [\"'rush_yds_MA_5_home_y'\"], [\"'rush_yds_away_y'\"], [\"'rush_yds_home_y'\"], [\"'sacks_MA_5_away_y'\"], [\"'sacks_MA_5_home_y'\"], [\"'sacks_away_y'\"], [\"'sacks_home_y'\"], [\"'score_abs_away_y'\"], [\"'score_abs_home_x'\"], [\"'score_abs_home_y'\"], [\"'season_away_y'\"], [\"'season_home_x'\"], [\"'season_home_y'\"], [\"'season_y'\"], [\"'stade_y'\"], [\"'team_away_y'\"], [\"'team_home_y'\"], [\"'temperature_away_y'\"], [\"'temperature_home_x'\"], [\"'temperature_home_y'\"], [\"'weather_type_away_y'\"], [\"'weather_type_home_x'\"], [\"'weather_type_home_y'\"], [\"'week_away_y'\"], [\"'week_home_x'\"], [\"'week_home_y'\"], [\"'week_y'\"], [\"'wind_away_y'\"], [\"'wind_home_x'\"], [\"'wind_home_y'\"], [\"'winner_away_away_y'\"], [\"'winner_away_home_x'\"], [\"'winner_away_home_y'\"], [\"'winner_home_away_y'\"], [\"'winner_home_home_x'\"], [\"'winner_home_home_y'\"], [\"'winner_team_away_y'\"], [\"'winner_team_home_x'\"], [\"'winner_team_home_y'\"], [\"'game_date_home_x'\"], [\"'location_away_x'\"], [\"'location_home_x'\"], [\"'team_away_x'\"], [\"'team_home_x'\"], [\"'week_x'\"]]\n"
     ]
    }
   ],
   "source": [
    "import csv\n",
    "\n",
    "with open('../04_datasets/features_to_remove.csv', newline='') as f:\n",
    "    reader = csv.reader(f)\n",
    "    data = list(reader)\n",
    "\n",
    "print(data)"
   ]
  },
  {
   "cell_type": "code",
   "execution_count": 199,
   "metadata": {},
   "outputs": [
    {
     "data": {
      "text/plain": [
       "0           'Unnamed: 0_y'\n",
       "1      'attendance_info_y'\n",
       "2           'attendance_y'\n",
       "3      'away_coach_away_y'\n",
       "4      'away_coach_home_x'\n",
       "              ...         \n",
       "288      'location_away_x'\n",
       "289      'location_home_x'\n",
       "290          'team_away_x'\n",
       "291          'team_home_x'\n",
       "292               'week_x'\n",
       "Name: 'Unnamed: 0_x', Length: 293, dtype: object"
      ]
     },
     "execution_count": 199,
     "metadata": {},
     "output_type": "execute_result"
    }
   ],
   "source": [
    "col_remove= pd.read_csv(\"../04_datasets/features_to_remove.csv\")\n",
    "list_col = col_remove.iloc[:,0]\n",
    "list_col"
   ]
  },
  {
   "cell_type": "code",
   "execution_count": null,
   "metadata": {},
   "outputs": [],
   "source": [
    "'Unnamed: 0_x'\n",
    "'Unnamed: 0_y'\n",
    "'attendance_info_y'\n",
    "'attendance_y'\n",
    "'away_coach_away_y'\n",
    "'away_coach_home_x'\n",
    "'away_coach_home_y'\n",
    "'awayscore_away_y'\n",
    "'awayscore_home_x'\n",
    "'awayscore_home_y'\n",
    "'awayteam_away_y'\n",
    "'awayteam_home_x'\n",
    "'awayteam_home_y'\n",
    "'capacity_y'\n",
    "'concat_away_x'\n",
    "'concat_away_y'\n",
    "'concat_home_x'\n",
    "'concat_home_y'\n",
    "'date_y'\n",
    "'dayofmonth_y'\n",
    "'dayofweek_y'\n",
    "'defense_pd_MA_5_away_y'\n",
    "'defense_pd_MA_5_home_y'\n",
    "'defense_pd_away_y'\n",
    "'defense_pd_home_y'\n",
    "'defense_qb_hits_MA_5_away_y'\n",
    "'defense_qb_hits_MA_5_home_y'\n",
    "'defense_qb_hits_away_y'\n",
    "'defense_qb_hits_home_y'\n",
    "'defense_sacks_MA_5_away_y'\n",
    "'defense_sacks_MA_5_home_y'\n",
    "'defense_sacks_away_y'\n",
    "'defense_sacks_home_y'\n",
    "'defense_solo_MA_5_away_y'\n",
    "'defense_solo_MA_5_home_y'\n",
    "'defense_solo_away_y'\n",
    "'defense_solo_home_y'\n",
    "'defense_td_MA_5_away_y'\n",
    "'defense_td_MA_5_home_y'\n",
    "'defense_td_away_y'\n",
    "'defense_td_home_y'\n",
    "'defense_tfl_MA_5_away_y'\n",
    "'defense_tfl_MA_5_home_y'\n",
    "'defense_tfl_away_y'\n",
    "'defense_tfl_home_y'\n",
    "'defense_tot_MA_5_away_y'\n",
    "'defense_tot_MA_5_home_y'\n",
    "'defense_tot_away_y'\n",
    "'defense_tot_home_y'\n",
    "'delta_day_away_y'\n",
    "'delta_day_home_y'\n",
    "'delta_match_away_x'\n",
    "'delta_match_away_y'\n",
    "'delta_match_home_x'\n",
    "'delta_match_home_y'\n",
    "'fumbles_MA_5_away_y'\n",
    "'fumbles_MA_5_home_y'\n",
    "'fumbles_away_y'\n",
    "'fumbles_home_y'\n",
    "'fumbles_lost_MA_5_away_y'\n",
    "'fumbles_lost_MA_5_home_y'\n",
    "'fumbles_lost_away_y'\n",
    "'fumbles_lost_home_y'\n",
    "'fumbles_rec_MA_5_away_y'\n",
    "'fumbles_rec_MA_5_home_y'\n",
    "'fumbles_rec_away_y'\n",
    "'fumbles_rec_home_y'\n",
    "'game_date_away_y'\n",
    "'game_date_home_y'\n",
    "'home_coach_away_y'\n",
    "'home_coach_home_y'\n",
    "'homescore_away_y'\n",
    "'homescore_home_x'\n",
    "'homescore_home_y'\n",
    "'hometeam_away_y'\n",
    "'hometeam_home_x'\n",
    "'hometeam_home_y'\n",
    "'hour_y'\n",
    "'humidity_away_y'\n",
    "'humidity_home_x'\n",
    "'humidity_home_y'\n",
    "'interceptions_MA_5_away_y'\n",
    "'interceptions_MA_5_home_y'\n",
    "'interceptions_away_y'\n",
    "'interceptions_home_y'\n",
    "'interceptions_td_MA_5_away_y'\n",
    "'interceptions_td_MA_5_home_y'\n",
    "'interceptions_td_away_y'\n",
    "'interceptions_td_home_y'\n",
    "'interceptions_yds_MA_5_away_y'\n",
    "'interceptions_yds_MA_5_home_y'\n",
    "'interceptions_yds_away_y'\n",
    "'interceptions_yds_home_y'\n",
    "'kicking_long_MA_5_away_y'\n",
    "'kicking_long_MA_5_home_y'\n",
    "'kicking_long_away_y'\n",
    "'kicking_long_home_y'\n",
    "'kicking_pct_MA_5_away_y'\n",
    "'kicking_pct_MA_5_home_y'\n",
    "'kicking_pct_away_y'\n",
    "'kicking_pct_home_y'\n",
    "'kicking_pts_MA_5_away_y'\n",
    "'kicking_pts_MA_5_home_y'\n",
    "'kicking_pts_away_y'\n",
    "'kicking_pts_home_y'\n",
    "'kicks_return_avg_MA_5_away_y'\n",
    "'kicks_return_avg_MA_5_home_y'\n",
    "'kicks_return_avg_away_y'\n",
    "'kicks_return_avg_home_y'\n",
    "'kicks_return_long_MA_5_away_y'\n",
    "'kicks_return_long_MA_5_home_y'\n",
    "'kicks_return_long_away_y'\n",
    "'kicks_return_long_home_y'\n",
    "'kicks_return_no_MA_5_away_y'\n",
    "'kicks_return_no_MA_5_home_y'\n",
    "'kicks_return_no_away_y'\n",
    "'kicks_return_no_home_y'\n",
    "'kicks_return_td_MA_5_away_y'\n",
    "'kicks_return_td_MA_5_home_y'\n",
    "'kicks_return_td_away_y'\n",
    "'kicks_return_td_home_y'\n",
    "'kicks_return_yds_MA_5_away_y'\n",
    "'kicks_return_yds_MA_5_home_y'\n",
    "'kicks_return_yds_away_y'\n",
    "'kicks_return_yds_home_y'\n",
    "'line_x'\n",
    "'line_y'\n",
    "'location_away_y'\n",
    "'location_home_y'\n",
    "'location_y'\n",
    "'minute_x'\n",
    "'minute_y'\n",
    "'month_y'\n",
    "'over_under_x'\n",
    "'over_under_y'\n",
    "'pass_avg_MA_5_away_y'\n",
    "'pass_avg_MA_5_home_y'\n",
    "'pass_avg_away_y'\n",
    "'pass_avg_home_y'\n",
    "'pass_completion_MA_5_away_y'\n",
    "'pass_completion_MA_5_home_y'\n",
    "'pass_completion_away_y'\n",
    "'pass_completion_home_y'\n",
    "'pass_int_MA_5_away_y'\n",
    "'pass_int_MA_5_home_y'\n",
    "'pass_int_away_y'\n",
    "'pass_int_home_y'\n",
    "'pass_td_MA_5_away_y'\n",
    "'pass_td_MA_5_home_y'\n",
    "'pass_td_away_y'\n",
    "'pass_td_home_y'\n",
    "'pass_yds_MA_5_away_y'\n",
    "'pass_yds_MA_5_home_y'\n",
    "'pass_yds_away_y'\n",
    "'pass_yds_home_y'\n",
    "'people_y'\n",
    "'punt_return_avg_MA_5_away_y'\n",
    "'punt_return_avg_MA_5_home_y'\n",
    "'punt_return_avg_away_y'\n",
    "'punt_return_avg_home_y'\n",
    "'punt_return_long_MA_5_away_y'\n",
    "'punt_return_long_MA_5_home_y'\n",
    "'punt_return_long_away_y'\n",
    "'punt_return_long_home_y'\n",
    "'punt_return_no_MA_5_away_y'\n",
    "'punt_return_no_MA_5_home_y'\n",
    "'punt_return_no_away_y'\n",
    "'punt_return_no_home_y'\n",
    "'punt_return_td_MA_5_away_y'\n",
    "'punt_return_td_MA_5_home_y'\n",
    "'punt_return_td_away_y'\n",
    "'punt_return_td_home_y'\n",
    "'punt_return_yds_MA_5_away_y'\n",
    "'punt_return_yds_MA_5_home_y'\n",
    "'punt_return_yds_away_y'\n",
    "'punt_return_yds_home_y'\n",
    "'punting_avg_MA_5_away_y'\n",
    "'punting_avg_MA_5_home_y'\n",
    "'punting_avg_away_y'\n",
    "'punting_avg_home_y'\n",
    "'punting_in_20_MA_5_away_y'\n",
    "'punting_in_20_MA_5_home_y'\n",
    "'punting_in_20_away_y'\n",
    "'punting_in_20_home_y'\n",
    "'punting_long_MA_5_away_y'\n",
    "'punting_long_MA_5_home_y'\n",
    "'punting_long_away_y'\n",
    "'punting_long_home_y'\n",
    "'punting_no_MA_5_away_y'\n",
    "'punting_no_MA_5_home_y'\n",
    "'punting_no_away_y'\n",
    "'punting_no_home_y'\n",
    "'punting_tb_MA_5_away_y'\n",
    "'punting_tb_MA_5_home_y'\n",
    "'punting_tb_away_y'\n",
    "'punting_tb_home_y'\n",
    "'punting_yds_MA_5_away_y'\n",
    "'punting_yds_MA_5_home_y'\n",
    "'punting_yds_away_y'\n",
    "'punting_yds_home_y'\n",
    "'qbr_MA_5_away_y'\n",
    "'qbr_MA_5_home_y'\n",
    "'qbr_away_y'\n",
    "'qbr_home_y'\n",
    "'rec_avg_MA_5_away_y'\n",
    "'rec_avg_MA_5_home_y'\n",
    "'rec_avg_away_y'\n",
    "'rec_avg_home_y'\n",
    "'rec_long_MA_5_away_y'\n",
    "'rec_long_MA_5_home_y'\n",
    "'rec_long_away_y'\n",
    "'rec_long_home_y'\n",
    "'rec_td_MA_5_away_y'\n",
    "'rec_td_MA_5_home_y'\n",
    "'rec_td_away_y'\n",
    "'rec_td_home_y'\n",
    "'rec_tgs_MA_5_away_y'\n",
    "'rec_tgs_MA_5_home_y'\n",
    "'rec_tgs_away_y'\n",
    "'rec_tgs_home_y'\n",
    "'rec_yds_MA_5_away_y'\n",
    "'rec_yds_MA_5_home_y'\n",
    "'rec_yds_away_y'\n",
    "'rec_yds_home_y'\n",
    "'receptions_MA_5_away_y'\n",
    "'receptions_MA_5_home_y'\n",
    "'receptions_away_y'\n",
    "'receptions_home_y'\n",
    "'rtg_MA_5_away_y'\n",
    "'rtg_MA_5_home_y'\n",
    "'rtg_away_y'\n",
    "'rtg_home_y'\n",
    "'rush_avg_MA_5_away_y'\n",
    "'rush_avg_MA_5_home_y'\n",
    "'rush_avg_away_y'\n",
    "'rush_avg_home_y'\n",
    "'rush_car_MA_5_away_y'\n",
    "'rush_car_MA_5_home_y'\n",
    "'rush_car_away_y'\n",
    "'rush_car_home_y'\n",
    "'rush_long_MA_5_away_y'\n",
    "'rush_long_MA_5_home_y'\n",
    "'rush_long_away_y'\n",
    "'rush_long_home_y'\n",
    "'rush_td_MA_5_away_y'\n",
    "'rush_td_MA_5_home_y'\n",
    "'rush_td_away_y'\n",
    "'rush_td_home_y'\n",
    "'rush_yds_MA_5_away_y'\n",
    "'rush_yds_MA_5_home_y'\n",
    "'rush_yds_away_y'\n",
    "'rush_yds_home_y'\n",
    "'sacks_MA_5_away_y'\n",
    "'sacks_MA_5_home_y'\n",
    "'sacks_away_y'\n",
    "'sacks_home_y'\n",
    "'score_abs_away_y'\n",
    "'score_abs_home_x'\n",
    "'score_abs_home_y'\n",
    "'season_away_y'\n",
    "'season_home_x'\n",
    "'season_home_y'\n",
    "'season_y'\n",
    "'stade_y'\n",
    "'team_away_y'\n",
    "'team_home_y'\n",
    "'temperature_away_y'\n",
    "'temperature_home_x'\n",
    "'temperature_home_y'\n",
    "'weather_type_away_y'\n",
    "'weather_type_home_x'\n",
    "'weather_type_home_y'\n",
    "'week_away_y'\n",
    "'week_home_x'\n",
    "'week_home_y'\n",
    "'week_y'\n",
    "'wind_away_y'\n",
    "'wind_home_x'\n",
    "'wind_home_y'\n",
    "'winner_away_away_y'\n",
    "'winner_away_home_x'\n",
    "'winner_away_home_y'\n",
    "'winner_home_away_y'\n",
    "'winner_home_home_x'\n",
    "'winner_home_home_y'\n",
    "'winner_team_away_y'\n",
    "'winner_team_home_x'\n",
    "'winner_team_home_y'\n",
    "'game_date_home_x'\n",
    "'location_away_x'\n",
    "'location_home_x'\n",
    "'team_away_x'\n",
    "'team_home_x'\n",
    "'week_x'\n"
   ]
  },
  {
   "cell_type": "code",
   "execution_count": 200,
   "metadata": {},
   "outputs": [
    {
     "ename": "KeyError",
     "evalue": "'[\"\\'Unnamed: 0_y\\'\", \"\\'attendance_info_y\\'\", \"\\'attendance_y\\'\", \"\\'away_coach_away_y\\'\", \"\\'away_coach_home_x\\'\", \"\\'away_coach_home_y\\'\", \"\\'awayscore_away_y\\'\", \"\\'awayscore_home_x\\'\", \"\\'awayscore_home_y\\'\", \"\\'awayteam_away_y\\'\", \"\\'awayteam_home_x\\'\", \"\\'awayteam_home_y\\'\", \"\\'capacity_y\\'\", \"\\'concat_away_x\\'\", \"\\'concat_away_y\\'\", \"\\'concat_home_x\\'\", \"\\'concat_home_y\\'\", \"\\'date_y\\'\", \"\\'dayofmonth_y\\'\", \"\\'dayofweek_y\\'\", \"\\'defense_pd_MA_5_away_y\\'\", \"\\'defense_pd_MA_5_home_y\\'\", \"\\'defense_pd_away_y\\'\", \"\\'defense_pd_home_y\\'\", \"\\'defense_qb_hits_MA_5_away_y\\'\", \"\\'defense_qb_hits_MA_5_home_y\\'\", \"\\'defense_qb_hits_away_y\\'\", \"\\'defense_qb_hits_home_y\\'\", \"\\'defense_sacks_MA_5_away_y\\'\", \"\\'defense_sacks_MA_5_home_y\\'\", \"\\'defense_sacks_away_y\\'\", \"\\'defense_sacks_home_y\\'\", \"\\'defense_solo_MA_5_away_y\\'\", \"\\'defense_solo_MA_5_home_y\\'\", \"\\'defense_solo_away_y\\'\", \"\\'defense_solo_home_y\\'\", \"\\'defense_td_MA_5_away_y\\'\", \"\\'defense_td_MA_5_home_y\\'\", \"\\'defense_td_away_y\\'\", \"\\'defense_td_home_y\\'\", \"\\'defense_tfl_MA_5_away_y\\'\", \"\\'defense_tfl_MA_5_home_y\\'\", \"\\'defense_tfl_away_y\\'\", \"\\'defense_tfl_home_y\\'\", \"\\'defense_tot_MA_5_away_y\\'\", \"\\'defense_tot_MA_5_home_y\\'\", \"\\'defense_tot_away_y\\'\", \"\\'defense_tot_home_y\\'\", \"\\'delta_day_away_y\\'\", \"\\'delta_day_home_y\\'\", \"\\'delta_match_away_x\\'\", \"\\'delta_match_away_y\\'\", \"\\'delta_match_home_x\\'\", \"\\'delta_match_home_y\\'\", \"\\'fumbles_MA_5_away_y\\'\", \"\\'fumbles_MA_5_home_y\\'\", \"\\'fumbles_away_y\\'\", \"\\'fumbles_home_y\\'\", \"\\'fumbles_lost_MA_5_away_y\\'\", \"\\'fumbles_lost_MA_5_home_y\\'\", \"\\'fumbles_lost_away_y\\'\", \"\\'fumbles_lost_home_y\\'\", \"\\'fumbles_rec_MA_5_away_y\\'\", \"\\'fumbles_rec_MA_5_home_y\\'\", \"\\'fumbles_rec_away_y\\'\", \"\\'fumbles_rec_home_y\\'\", \"\\'game_date_away_y\\'\", \"\\'game_date_home_y\\'\", \"\\'home_coach_away_y\\'\", \"\\'home_coach_home_y\\'\", \"\\'homescore_away_y\\'\", \"\\'homescore_home_x\\'\", \"\\'homescore_home_y\\'\", \"\\'hometeam_away_y\\'\", \"\\'hometeam_home_x\\'\", \"\\'hometeam_home_y\\'\", \"\\'hour_y\\'\", \"\\'humidity_away_y\\'\", \"\\'humidity_home_x\\'\", \"\\'humidity_home_y\\'\", \"\\'interceptions_MA_5_away_y\\'\", \"\\'interceptions_MA_5_home_y\\'\", \"\\'interceptions_away_y\\'\", \"\\'interceptions_home_y\\'\", \"\\'interceptions_td_MA_5_away_y\\'\", \"\\'interceptions_td_MA_5_home_y\\'\", \"\\'interceptions_td_away_y\\'\", \"\\'interceptions_td_home_y\\'\", \"\\'interceptions_yds_MA_5_away_y\\'\", \"\\'interceptions_yds_MA_5_home_y\\'\", \"\\'interceptions_yds_away_y\\'\", \"\\'interceptions_yds_home_y\\'\", \"\\'kicking_long_MA_5_away_y\\'\", \"\\'kicking_long_MA_5_home_y\\'\", \"\\'kicking_long_away_y\\'\", \"\\'kicking_long_home_y\\'\", \"\\'kicking_pct_MA_5_away_y\\'\", \"\\'kicking_pct_MA_5_home_y\\'\", \"\\'kicking_pct_away_y\\'\", \"\\'kicking_pct_home_y\\'\", \"\\'kicking_pts_MA_5_away_y\\'\", \"\\'kicking_pts_MA_5_home_y\\'\", \"\\'kicking_pts_away_y\\'\", \"\\'kicking_pts_home_y\\'\", \"\\'kicks_return_avg_MA_5_away_y\\'\", \"\\'kicks_return_avg_MA_5_home_y\\'\", \"\\'kicks_return_avg_away_y\\'\", \"\\'kicks_return_avg_home_y\\'\", \"\\'kicks_return_long_MA_5_away_y\\'\", \"\\'kicks_return_long_MA_5_home_y\\'\", \"\\'kicks_return_long_away_y\\'\", \"\\'kicks_return_long_home_y\\'\", \"\\'kicks_return_no_MA_5_away_y\\'\", \"\\'kicks_return_no_MA_5_home_y\\'\", \"\\'kicks_return_no_away_y\\'\", \"\\'kicks_return_no_home_y\\'\", \"\\'kicks_return_td_MA_5_away_y\\'\", \"\\'kicks_return_td_MA_5_home_y\\'\", \"\\'kicks_return_td_away_y\\'\", \"\\'kicks_return_td_home_y\\'\", \"\\'kicks_return_yds_MA_5_away_y\\'\", \"\\'kicks_return_yds_MA_5_home_y\\'\", \"\\'kicks_return_yds_away_y\\'\", \"\\'kicks_return_yds_home_y\\'\", \"\\'line_x\\'\", \"\\'line_y\\'\", \"\\'location_away_y\\'\", \"\\'location_home_y\\'\", \"\\'location_y\\'\", \"\\'minute_x\\'\", \"\\'minute_y\\'\", \"\\'month_y\\'\", \"\\'over_under_x\\'\", \"\\'over_under_y\\'\", \"\\'pass_avg_MA_5_away_y\\'\", \"\\'pass_avg_MA_5_home_y\\'\", \"\\'pass_avg_away_y\\'\", \"\\'pass_avg_home_y\\'\", \"\\'pass_completion_MA_5_away_y\\'\", \"\\'pass_completion_MA_5_home_y\\'\", \"\\'pass_completion_away_y\\'\", \"\\'pass_completion_home_y\\'\", \"\\'pass_int_MA_5_away_y\\'\", \"\\'pass_int_MA_5_home_y\\'\", \"\\'pass_int_away_y\\'\", \"\\'pass_int_home_y\\'\", \"\\'pass_td_MA_5_away_y\\'\", \"\\'pass_td_MA_5_home_y\\'\", \"\\'pass_td_away_y\\'\", \"\\'pass_td_home_y\\'\", \"\\'pass_yds_MA_5_away_y\\'\", \"\\'pass_yds_MA_5_home_y\\'\", \"\\'pass_yds_away_y\\'\", \"\\'pass_yds_home_y\\'\", \"\\'people_y\\'\", \"\\'punt_return_avg_MA_5_away_y\\'\", \"\\'punt_return_avg_MA_5_home_y\\'\", \"\\'punt_return_avg_away_y\\'\", \"\\'punt_return_avg_home_y\\'\", \"\\'punt_return_long_MA_5_away_y\\'\", \"\\'punt_return_long_MA_5_home_y\\'\", \"\\'punt_return_long_away_y\\'\", \"\\'punt_return_long_home_y\\'\", \"\\'punt_return_no_MA_5_away_y\\'\", \"\\'punt_return_no_MA_5_home_y\\'\", \"\\'punt_return_no_away_y\\'\", \"\\'punt_return_no_home_y\\'\", \"\\'punt_return_td_MA_5_away_y\\'\", \"\\'punt_return_td_MA_5_home_y\\'\", \"\\'punt_return_td_away_y\\'\", \"\\'punt_return_td_home_y\\'\", \"\\'punt_return_yds_MA_5_away_y\\'\", \"\\'punt_return_yds_MA_5_home_y\\'\", \"\\'punt_return_yds_away_y\\'\", \"\\'punt_return_yds_home_y\\'\", \"\\'punting_avg_MA_5_away_y\\'\", \"\\'punting_avg_MA_5_home_y\\'\", \"\\'punting_avg_away_y\\'\", \"\\'punting_avg_home_y\\'\", \"\\'punting_in_20_MA_5_away_y\\'\", \"\\'punting_in_20_MA_5_home_y\\'\", \"\\'punting_in_20_away_y\\'\", \"\\'punting_in_20_home_y\\'\", \"\\'punting_long_MA_5_away_y\\'\", \"\\'punting_long_MA_5_home_y\\'\", \"\\'punting_long_away_y\\'\", \"\\'punting_long_home_y\\'\", \"\\'punting_no_MA_5_away_y\\'\", \"\\'punting_no_MA_5_home_y\\'\", \"\\'punting_no_away_y\\'\", \"\\'punting_no_home_y\\'\", \"\\'punting_tb_MA_5_away_y\\'\", \"\\'punting_tb_MA_5_home_y\\'\", \"\\'punting_tb_away_y\\'\", \"\\'punting_tb_home_y\\'\", \"\\'punting_yds_MA_5_away_y\\'\", \"\\'punting_yds_MA_5_home_y\\'\", \"\\'punting_yds_away_y\\'\", \"\\'punting_yds_home_y\\'\", \"\\'qbr_MA_5_away_y\\'\", \"\\'qbr_MA_5_home_y\\'\", \"\\'qbr_away_y\\'\", \"\\'qbr_home_y\\'\", \"\\'rec_avg_MA_5_away_y\\'\", \"\\'rec_avg_MA_5_home_y\\'\", \"\\'rec_avg_away_y\\'\", \"\\'rec_avg_home_y\\'\", \"\\'rec_long_MA_5_away_y\\'\", \"\\'rec_long_MA_5_home_y\\'\", \"\\'rec_long_away_y\\'\", \"\\'rec_long_home_y\\'\", \"\\'rec_td_MA_5_away_y\\'\", \"\\'rec_td_MA_5_home_y\\'\", \"\\'rec_td_away_y\\'\", \"\\'rec_td_home_y\\'\", \"\\'rec_tgs_MA_5_away_y\\'\", \"\\'rec_tgs_MA_5_home_y\\'\", \"\\'rec_tgs_away_y\\'\", \"\\'rec_tgs_home_y\\'\", \"\\'rec_yds_MA_5_away_y\\'\", \"\\'rec_yds_MA_5_home_y\\'\", \"\\'rec_yds_away_y\\'\", \"\\'rec_yds_home_y\\'\", \"\\'receptions_MA_5_away_y\\'\", \"\\'receptions_MA_5_home_y\\'\", \"\\'receptions_away_y\\'\", \"\\'receptions_home_y\\'\", \"\\'rtg_MA_5_away_y\\'\", \"\\'rtg_MA_5_home_y\\'\", \"\\'rtg_away_y\\'\", \"\\'rtg_home_y\\'\", \"\\'rush_avg_MA_5_away_y\\'\", \"\\'rush_avg_MA_5_home_y\\'\", \"\\'rush_avg_away_y\\'\", \"\\'rush_avg_home_y\\'\", \"\\'rush_car_MA_5_away_y\\'\", \"\\'rush_car_MA_5_home_y\\'\", \"\\'rush_car_away_y\\'\", \"\\'rush_car_home_y\\'\", \"\\'rush_long_MA_5_away_y\\'\", \"\\'rush_long_MA_5_home_y\\'\", \"\\'rush_long_away_y\\'\", \"\\'rush_long_home_y\\'\", \"\\'rush_td_MA_5_away_y\\'\", \"\\'rush_td_MA_5_home_y\\'\", \"\\'rush_td_away_y\\'\", \"\\'rush_td_home_y\\'\", \"\\'rush_yds_MA_5_away_y\\'\", \"\\'rush_yds_MA_5_home_y\\'\", \"\\'rush_yds_away_y\\'\", \"\\'rush_yds_home_y\\'\", \"\\'sacks_MA_5_away_y\\'\", \"\\'sacks_MA_5_home_y\\'\", \"\\'sacks_away_y\\'\", \"\\'sacks_home_y\\'\", \"\\'score_abs_away_y\\'\", \"\\'score_abs_home_x\\'\", \"\\'score_abs_home_y\\'\", \"\\'season_away_y\\'\", \"\\'season_home_x\\'\", \"\\'season_home_y\\'\", \"\\'season_y\\'\", \"\\'stade_y\\'\", \"\\'team_away_y\\'\", \"\\'team_home_y\\'\", \"\\'temperature_away_y\\'\", \"\\'temperature_home_x\\'\", \"\\'temperature_home_y\\'\", \"\\'weather_type_away_y\\'\", \"\\'weather_type_home_x\\'\", \"\\'weather_type_home_y\\'\", \"\\'week_away_y\\'\", \"\\'week_home_x\\'\", \"\\'week_home_y\\'\", \"\\'week_y\\'\", \"\\'wind_away_y\\'\", \"\\'wind_home_x\\'\", \"\\'wind_home_y\\'\", \"\\'winner_away_away_y\\'\", \"\\'winner_away_home_x\\'\", \"\\'winner_away_home_y\\'\", \"\\'winner_home_away_y\\'\", \"\\'winner_home_home_x\\'\", \"\\'winner_home_home_y\\'\", \"\\'winner_team_away_y\\'\", \"\\'winner_team_home_x\\'\", \"\\'winner_team_home_y\\'\", \"\\'game_date_home_x\\'\", \"\\'location_away_x\\'\", \"\\'location_home_x\\'\", \"\\'team_away_x\\'\", \"\\'team_home_x\\'\", \"\\'week_x\\'\"] not found in axis'",
     "output_type": "error",
     "traceback": [
      "\u001b[1;31m---------------------------------------------------------------------------\u001b[0m",
      "\u001b[1;31mKeyError\u001b[0m                                  Traceback (most recent call last)",
      "\u001b[1;32mc:\\Users\\sylva\\Desktop\\nflpredictor\\nfl\\02_features_engineering\\seach_final_dataset.ipynb Cellule 48\u001b[0m in \u001b[0;36m<cell line: 1>\u001b[1;34m()\u001b[0m\n\u001b[1;32m----> <a href='vscode-notebook-cell:/c%3A/Users/sylva/Desktop/nflpredictor/nfl/02_features_engineering/seach_final_dataset.ipynb#Y101sZmlsZQ%3D%3D?line=0'>1</a>\u001b[0m output7\u001b[39m.\u001b[39;49mdrop(columns\u001b[39m=\u001b[39;49mlist_col, axis\u001b[39m=\u001b[39;49m\u001b[39m1\u001b[39;49m)\n",
      "File \u001b[1;32mc:\\Users\\sylva\\AppData\\Local\\Programs\\Python\\Python310\\lib\\site-packages\\pandas\\util\\_decorators.py:311\u001b[0m, in \u001b[0;36mdeprecate_nonkeyword_arguments.<locals>.decorate.<locals>.wrapper\u001b[1;34m(*args, **kwargs)\u001b[0m\n\u001b[0;32m    305\u001b[0m \u001b[39mif\u001b[39;00m \u001b[39mlen\u001b[39m(args) \u001b[39m>\u001b[39m num_allow_args:\n\u001b[0;32m    306\u001b[0m     warnings\u001b[39m.\u001b[39mwarn(\n\u001b[0;32m    307\u001b[0m         msg\u001b[39m.\u001b[39mformat(arguments\u001b[39m=\u001b[39marguments),\n\u001b[0;32m    308\u001b[0m         \u001b[39mFutureWarning\u001b[39;00m,\n\u001b[0;32m    309\u001b[0m         stacklevel\u001b[39m=\u001b[39mstacklevel,\n\u001b[0;32m    310\u001b[0m     )\n\u001b[1;32m--> 311\u001b[0m \u001b[39mreturn\u001b[39;00m func(\u001b[39m*\u001b[39margs, \u001b[39m*\u001b[39m\u001b[39m*\u001b[39mkwargs)\n",
      "File \u001b[1;32mc:\\Users\\sylva\\AppData\\Local\\Programs\\Python\\Python310\\lib\\site-packages\\pandas\\core\\frame.py:4954\u001b[0m, in \u001b[0;36mDataFrame.drop\u001b[1;34m(self, labels, axis, index, columns, level, inplace, errors)\u001b[0m\n\u001b[0;32m   4806\u001b[0m \u001b[39m@deprecate_nonkeyword_arguments\u001b[39m(version\u001b[39m=\u001b[39m\u001b[39mNone\u001b[39;00m, allowed_args\u001b[39m=\u001b[39m[\u001b[39m\"\u001b[39m\u001b[39mself\u001b[39m\u001b[39m\"\u001b[39m, \u001b[39m\"\u001b[39m\u001b[39mlabels\u001b[39m\u001b[39m\"\u001b[39m])\n\u001b[0;32m   4807\u001b[0m \u001b[39mdef\u001b[39;00m \u001b[39mdrop\u001b[39m(\n\u001b[0;32m   4808\u001b[0m     \u001b[39mself\u001b[39m,\n\u001b[1;32m   (...)\u001b[0m\n\u001b[0;32m   4815\u001b[0m     errors: \u001b[39mstr\u001b[39m \u001b[39m=\u001b[39m \u001b[39m\"\u001b[39m\u001b[39mraise\u001b[39m\u001b[39m\"\u001b[39m,\n\u001b[0;32m   4816\u001b[0m ):\n\u001b[0;32m   4817\u001b[0m     \u001b[39m\"\"\"\u001b[39;00m\n\u001b[0;32m   4818\u001b[0m \u001b[39m    Drop specified labels from rows or columns.\u001b[39;00m\n\u001b[0;32m   4819\u001b[0m \n\u001b[1;32m   (...)\u001b[0m\n\u001b[0;32m   4952\u001b[0m \u001b[39m            weight  1.0     0.8\u001b[39;00m\n\u001b[0;32m   4953\u001b[0m \u001b[39m    \"\"\"\u001b[39;00m\n\u001b[1;32m-> 4954\u001b[0m     \u001b[39mreturn\u001b[39;00m \u001b[39msuper\u001b[39;49m()\u001b[39m.\u001b[39;49mdrop(\n\u001b[0;32m   4955\u001b[0m         labels\u001b[39m=\u001b[39;49mlabels,\n\u001b[0;32m   4956\u001b[0m         axis\u001b[39m=\u001b[39;49maxis,\n\u001b[0;32m   4957\u001b[0m         index\u001b[39m=\u001b[39;49mindex,\n\u001b[0;32m   4958\u001b[0m         columns\u001b[39m=\u001b[39;49mcolumns,\n\u001b[0;32m   4959\u001b[0m         level\u001b[39m=\u001b[39;49mlevel,\n\u001b[0;32m   4960\u001b[0m         inplace\u001b[39m=\u001b[39;49minplace,\n\u001b[0;32m   4961\u001b[0m         errors\u001b[39m=\u001b[39;49merrors,\n\u001b[0;32m   4962\u001b[0m     )\n",
      "File \u001b[1;32mc:\\Users\\sylva\\AppData\\Local\\Programs\\Python\\Python310\\lib\\site-packages\\pandas\\core\\generic.py:4267\u001b[0m, in \u001b[0;36mNDFrame.drop\u001b[1;34m(self, labels, axis, index, columns, level, inplace, errors)\u001b[0m\n\u001b[0;32m   4265\u001b[0m \u001b[39mfor\u001b[39;00m axis, labels \u001b[39min\u001b[39;00m axes\u001b[39m.\u001b[39mitems():\n\u001b[0;32m   4266\u001b[0m     \u001b[39mif\u001b[39;00m labels \u001b[39mis\u001b[39;00m \u001b[39mnot\u001b[39;00m \u001b[39mNone\u001b[39;00m:\n\u001b[1;32m-> 4267\u001b[0m         obj \u001b[39m=\u001b[39m obj\u001b[39m.\u001b[39;49m_drop_axis(labels, axis, level\u001b[39m=\u001b[39;49mlevel, errors\u001b[39m=\u001b[39;49merrors)\n\u001b[0;32m   4269\u001b[0m \u001b[39mif\u001b[39;00m inplace:\n\u001b[0;32m   4270\u001b[0m     \u001b[39mself\u001b[39m\u001b[39m.\u001b[39m_update_inplace(obj)\n",
      "File \u001b[1;32mc:\\Users\\sylva\\AppData\\Local\\Programs\\Python\\Python310\\lib\\site-packages\\pandas\\core\\generic.py:4311\u001b[0m, in \u001b[0;36mNDFrame._drop_axis\u001b[1;34m(self, labels, axis, level, errors, consolidate, only_slice)\u001b[0m\n\u001b[0;32m   4309\u001b[0m         new_axis \u001b[39m=\u001b[39m axis\u001b[39m.\u001b[39mdrop(labels, level\u001b[39m=\u001b[39mlevel, errors\u001b[39m=\u001b[39merrors)\n\u001b[0;32m   4310\u001b[0m     \u001b[39melse\u001b[39;00m:\n\u001b[1;32m-> 4311\u001b[0m         new_axis \u001b[39m=\u001b[39m axis\u001b[39m.\u001b[39;49mdrop(labels, errors\u001b[39m=\u001b[39;49merrors)\n\u001b[0;32m   4312\u001b[0m     indexer \u001b[39m=\u001b[39m axis\u001b[39m.\u001b[39mget_indexer(new_axis)\n\u001b[0;32m   4314\u001b[0m \u001b[39m# Case for non-unique axis\u001b[39;00m\n\u001b[0;32m   4315\u001b[0m \u001b[39melse\u001b[39;00m:\n",
      "File \u001b[1;32mc:\\Users\\sylva\\AppData\\Local\\Programs\\Python\\Python310\\lib\\site-packages\\pandas\\core\\indexes\\base.py:6644\u001b[0m, in \u001b[0;36mIndex.drop\u001b[1;34m(self, labels, errors)\u001b[0m\n\u001b[0;32m   6642\u001b[0m \u001b[39mif\u001b[39;00m mask\u001b[39m.\u001b[39many():\n\u001b[0;32m   6643\u001b[0m     \u001b[39mif\u001b[39;00m errors \u001b[39m!=\u001b[39m \u001b[39m\"\u001b[39m\u001b[39mignore\u001b[39m\u001b[39m\"\u001b[39m:\n\u001b[1;32m-> 6644\u001b[0m         \u001b[39mraise\u001b[39;00m \u001b[39mKeyError\u001b[39;00m(\u001b[39mf\u001b[39m\u001b[39m\"\u001b[39m\u001b[39m{\u001b[39;00m\u001b[39mlist\u001b[39m(labels[mask])\u001b[39m}\u001b[39;00m\u001b[39m not found in axis\u001b[39m\u001b[39m\"\u001b[39m)\n\u001b[0;32m   6645\u001b[0m     indexer \u001b[39m=\u001b[39m indexer[\u001b[39m~\u001b[39mmask]\n\u001b[0;32m   6646\u001b[0m \u001b[39mreturn\u001b[39;00m \u001b[39mself\u001b[39m\u001b[39m.\u001b[39mdelete(indexer)\n",
      "\u001b[1;31mKeyError\u001b[0m: '[\"\\'Unnamed: 0_y\\'\", \"\\'attendance_info_y\\'\", \"\\'attendance_y\\'\", \"\\'away_coach_away_y\\'\", \"\\'away_coach_home_x\\'\", \"\\'away_coach_home_y\\'\", \"\\'awayscore_away_y\\'\", \"\\'awayscore_home_x\\'\", \"\\'awayscore_home_y\\'\", \"\\'awayteam_away_y\\'\", \"\\'awayteam_home_x\\'\", \"\\'awayteam_home_y\\'\", \"\\'capacity_y\\'\", \"\\'concat_away_x\\'\", \"\\'concat_away_y\\'\", \"\\'concat_home_x\\'\", \"\\'concat_home_y\\'\", \"\\'date_y\\'\", \"\\'dayofmonth_y\\'\", \"\\'dayofweek_y\\'\", \"\\'defense_pd_MA_5_away_y\\'\", \"\\'defense_pd_MA_5_home_y\\'\", \"\\'defense_pd_away_y\\'\", \"\\'defense_pd_home_y\\'\", \"\\'defense_qb_hits_MA_5_away_y\\'\", \"\\'defense_qb_hits_MA_5_home_y\\'\", \"\\'defense_qb_hits_away_y\\'\", \"\\'defense_qb_hits_home_y\\'\", \"\\'defense_sacks_MA_5_away_y\\'\", \"\\'defense_sacks_MA_5_home_y\\'\", \"\\'defense_sacks_away_y\\'\", \"\\'defense_sacks_home_y\\'\", \"\\'defense_solo_MA_5_away_y\\'\", \"\\'defense_solo_MA_5_home_y\\'\", \"\\'defense_solo_away_y\\'\", \"\\'defense_solo_home_y\\'\", \"\\'defense_td_MA_5_away_y\\'\", \"\\'defense_td_MA_5_home_y\\'\", \"\\'defense_td_away_y\\'\", \"\\'defense_td_home_y\\'\", \"\\'defense_tfl_MA_5_away_y\\'\", \"\\'defense_tfl_MA_5_home_y\\'\", \"\\'defense_tfl_away_y\\'\", \"\\'defense_tfl_home_y\\'\", \"\\'defense_tot_MA_5_away_y\\'\", \"\\'defense_tot_MA_5_home_y\\'\", \"\\'defense_tot_away_y\\'\", \"\\'defense_tot_home_y\\'\", \"\\'delta_day_away_y\\'\", \"\\'delta_day_home_y\\'\", \"\\'delta_match_away_x\\'\", \"\\'delta_match_away_y\\'\", \"\\'delta_match_home_x\\'\", \"\\'delta_match_home_y\\'\", \"\\'fumbles_MA_5_away_y\\'\", \"\\'fumbles_MA_5_home_y\\'\", \"\\'fumbles_away_y\\'\", \"\\'fumbles_home_y\\'\", \"\\'fumbles_lost_MA_5_away_y\\'\", \"\\'fumbles_lost_MA_5_home_y\\'\", \"\\'fumbles_lost_away_y\\'\", \"\\'fumbles_lost_home_y\\'\", \"\\'fumbles_rec_MA_5_away_y\\'\", \"\\'fumbles_rec_MA_5_home_y\\'\", \"\\'fumbles_rec_away_y\\'\", \"\\'fumbles_rec_home_y\\'\", \"\\'game_date_away_y\\'\", \"\\'game_date_home_y\\'\", \"\\'home_coach_away_y\\'\", \"\\'home_coach_home_y\\'\", \"\\'homescore_away_y\\'\", \"\\'homescore_home_x\\'\", \"\\'homescore_home_y\\'\", \"\\'hometeam_away_y\\'\", \"\\'hometeam_home_x\\'\", \"\\'hometeam_home_y\\'\", \"\\'hour_y\\'\", \"\\'humidity_away_y\\'\", \"\\'humidity_home_x\\'\", \"\\'humidity_home_y\\'\", \"\\'interceptions_MA_5_away_y\\'\", \"\\'interceptions_MA_5_home_y\\'\", \"\\'interceptions_away_y\\'\", \"\\'interceptions_home_y\\'\", \"\\'interceptions_td_MA_5_away_y\\'\", \"\\'interceptions_td_MA_5_home_y\\'\", \"\\'interceptions_td_away_y\\'\", \"\\'interceptions_td_home_y\\'\", \"\\'interceptions_yds_MA_5_away_y\\'\", \"\\'interceptions_yds_MA_5_home_y\\'\", \"\\'interceptions_yds_away_y\\'\", \"\\'interceptions_yds_home_y\\'\", \"\\'kicking_long_MA_5_away_y\\'\", \"\\'kicking_long_MA_5_home_y\\'\", \"\\'kicking_long_away_y\\'\", \"\\'kicking_long_home_y\\'\", \"\\'kicking_pct_MA_5_away_y\\'\", \"\\'kicking_pct_MA_5_home_y\\'\", \"\\'kicking_pct_away_y\\'\", \"\\'kicking_pct_home_y\\'\", \"\\'kicking_pts_MA_5_away_y\\'\", \"\\'kicking_pts_MA_5_home_y\\'\", \"\\'kicking_pts_away_y\\'\", \"\\'kicking_pts_home_y\\'\", \"\\'kicks_return_avg_MA_5_away_y\\'\", \"\\'kicks_return_avg_MA_5_home_y\\'\", \"\\'kicks_return_avg_away_y\\'\", \"\\'kicks_return_avg_home_y\\'\", \"\\'kicks_return_long_MA_5_away_y\\'\", \"\\'kicks_return_long_MA_5_home_y\\'\", \"\\'kicks_return_long_away_y\\'\", \"\\'kicks_return_long_home_y\\'\", \"\\'kicks_return_no_MA_5_away_y\\'\", \"\\'kicks_return_no_MA_5_home_y\\'\", \"\\'kicks_return_no_away_y\\'\", \"\\'kicks_return_no_home_y\\'\", \"\\'kicks_return_td_MA_5_away_y\\'\", \"\\'kicks_return_td_MA_5_home_y\\'\", \"\\'kicks_return_td_away_y\\'\", \"\\'kicks_return_td_home_y\\'\", \"\\'kicks_return_yds_MA_5_away_y\\'\", \"\\'kicks_return_yds_MA_5_home_y\\'\", \"\\'kicks_return_yds_away_y\\'\", \"\\'kicks_return_yds_home_y\\'\", \"\\'line_x\\'\", \"\\'line_y\\'\", \"\\'location_away_y\\'\", \"\\'location_home_y\\'\", \"\\'location_y\\'\", \"\\'minute_x\\'\", \"\\'minute_y\\'\", \"\\'month_y\\'\", \"\\'over_under_x\\'\", \"\\'over_under_y\\'\", \"\\'pass_avg_MA_5_away_y\\'\", \"\\'pass_avg_MA_5_home_y\\'\", \"\\'pass_avg_away_y\\'\", \"\\'pass_avg_home_y\\'\", \"\\'pass_completion_MA_5_away_y\\'\", \"\\'pass_completion_MA_5_home_y\\'\", \"\\'pass_completion_away_y\\'\", \"\\'pass_completion_home_y\\'\", \"\\'pass_int_MA_5_away_y\\'\", \"\\'pass_int_MA_5_home_y\\'\", \"\\'pass_int_away_y\\'\", \"\\'pass_int_home_y\\'\", \"\\'pass_td_MA_5_away_y\\'\", \"\\'pass_td_MA_5_home_y\\'\", \"\\'pass_td_away_y\\'\", \"\\'pass_td_home_y\\'\", \"\\'pass_yds_MA_5_away_y\\'\", \"\\'pass_yds_MA_5_home_y\\'\", \"\\'pass_yds_away_y\\'\", \"\\'pass_yds_home_y\\'\", \"\\'people_y\\'\", \"\\'punt_return_avg_MA_5_away_y\\'\", \"\\'punt_return_avg_MA_5_home_y\\'\", \"\\'punt_return_avg_away_y\\'\", \"\\'punt_return_avg_home_y\\'\", \"\\'punt_return_long_MA_5_away_y\\'\", \"\\'punt_return_long_MA_5_home_y\\'\", \"\\'punt_return_long_away_y\\'\", \"\\'punt_return_long_home_y\\'\", \"\\'punt_return_no_MA_5_away_y\\'\", \"\\'punt_return_no_MA_5_home_y\\'\", \"\\'punt_return_no_away_y\\'\", \"\\'punt_return_no_home_y\\'\", \"\\'punt_return_td_MA_5_away_y\\'\", \"\\'punt_return_td_MA_5_home_y\\'\", \"\\'punt_return_td_away_y\\'\", \"\\'punt_return_td_home_y\\'\", \"\\'punt_return_yds_MA_5_away_y\\'\", \"\\'punt_return_yds_MA_5_home_y\\'\", \"\\'punt_return_yds_away_y\\'\", \"\\'punt_return_yds_home_y\\'\", \"\\'punting_avg_MA_5_away_y\\'\", \"\\'punting_avg_MA_5_home_y\\'\", \"\\'punting_avg_away_y\\'\", \"\\'punting_avg_home_y\\'\", \"\\'punting_in_20_MA_5_away_y\\'\", \"\\'punting_in_20_MA_5_home_y\\'\", \"\\'punting_in_20_away_y\\'\", \"\\'punting_in_20_home_y\\'\", \"\\'punting_long_MA_5_away_y\\'\", \"\\'punting_long_MA_5_home_y\\'\", \"\\'punting_long_away_y\\'\", \"\\'punting_long_home_y\\'\", \"\\'punting_no_MA_5_away_y\\'\", \"\\'punting_no_MA_5_home_y\\'\", \"\\'punting_no_away_y\\'\", \"\\'punting_no_home_y\\'\", \"\\'punting_tb_MA_5_away_y\\'\", \"\\'punting_tb_MA_5_home_y\\'\", \"\\'punting_tb_away_y\\'\", \"\\'punting_tb_home_y\\'\", \"\\'punting_yds_MA_5_away_y\\'\", \"\\'punting_yds_MA_5_home_y\\'\", \"\\'punting_yds_away_y\\'\", \"\\'punting_yds_home_y\\'\", \"\\'qbr_MA_5_away_y\\'\", \"\\'qbr_MA_5_home_y\\'\", \"\\'qbr_away_y\\'\", \"\\'qbr_home_y\\'\", \"\\'rec_avg_MA_5_away_y\\'\", \"\\'rec_avg_MA_5_home_y\\'\", \"\\'rec_avg_away_y\\'\", \"\\'rec_avg_home_y\\'\", \"\\'rec_long_MA_5_away_y\\'\", \"\\'rec_long_MA_5_home_y\\'\", \"\\'rec_long_away_y\\'\", \"\\'rec_long_home_y\\'\", \"\\'rec_td_MA_5_away_y\\'\", \"\\'rec_td_MA_5_home_y\\'\", \"\\'rec_td_away_y\\'\", \"\\'rec_td_home_y\\'\", \"\\'rec_tgs_MA_5_away_y\\'\", \"\\'rec_tgs_MA_5_home_y\\'\", \"\\'rec_tgs_away_y\\'\", \"\\'rec_tgs_home_y\\'\", \"\\'rec_yds_MA_5_away_y\\'\", \"\\'rec_yds_MA_5_home_y\\'\", \"\\'rec_yds_away_y\\'\", \"\\'rec_yds_home_y\\'\", \"\\'receptions_MA_5_away_y\\'\", \"\\'receptions_MA_5_home_y\\'\", \"\\'receptions_away_y\\'\", \"\\'receptions_home_y\\'\", \"\\'rtg_MA_5_away_y\\'\", \"\\'rtg_MA_5_home_y\\'\", \"\\'rtg_away_y\\'\", \"\\'rtg_home_y\\'\", \"\\'rush_avg_MA_5_away_y\\'\", \"\\'rush_avg_MA_5_home_y\\'\", \"\\'rush_avg_away_y\\'\", \"\\'rush_avg_home_y\\'\", \"\\'rush_car_MA_5_away_y\\'\", \"\\'rush_car_MA_5_home_y\\'\", \"\\'rush_car_away_y\\'\", \"\\'rush_car_home_y\\'\", \"\\'rush_long_MA_5_away_y\\'\", \"\\'rush_long_MA_5_home_y\\'\", \"\\'rush_long_away_y\\'\", \"\\'rush_long_home_y\\'\", \"\\'rush_td_MA_5_away_y\\'\", \"\\'rush_td_MA_5_home_y\\'\", \"\\'rush_td_away_y\\'\", \"\\'rush_td_home_y\\'\", \"\\'rush_yds_MA_5_away_y\\'\", \"\\'rush_yds_MA_5_home_y\\'\", \"\\'rush_yds_away_y\\'\", \"\\'rush_yds_home_y\\'\", \"\\'sacks_MA_5_away_y\\'\", \"\\'sacks_MA_5_home_y\\'\", \"\\'sacks_away_y\\'\", \"\\'sacks_home_y\\'\", \"\\'score_abs_away_y\\'\", \"\\'score_abs_home_x\\'\", \"\\'score_abs_home_y\\'\", \"\\'season_away_y\\'\", \"\\'season_home_x\\'\", \"\\'season_home_y\\'\", \"\\'season_y\\'\", \"\\'stade_y\\'\", \"\\'team_away_y\\'\", \"\\'team_home_y\\'\", \"\\'temperature_away_y\\'\", \"\\'temperature_home_x\\'\", \"\\'temperature_home_y\\'\", \"\\'weather_type_away_y\\'\", \"\\'weather_type_home_x\\'\", \"\\'weather_type_home_y\\'\", \"\\'week_away_y\\'\", \"\\'week_home_x\\'\", \"\\'week_home_y\\'\", \"\\'week_y\\'\", \"\\'wind_away_y\\'\", \"\\'wind_home_x\\'\", \"\\'wind_home_y\\'\", \"\\'winner_away_away_y\\'\", \"\\'winner_away_home_x\\'\", \"\\'winner_away_home_y\\'\", \"\\'winner_home_away_y\\'\", \"\\'winner_home_home_x\\'\", \"\\'winner_home_home_y\\'\", \"\\'winner_team_away_y\\'\", \"\\'winner_team_home_x\\'\", \"\\'winner_team_home_y\\'\", \"\\'game_date_home_x\\'\", \"\\'location_away_x\\'\", \"\\'location_home_x\\'\", \"\\'team_away_x\\'\", \"\\'team_home_x\\'\", \"\\'week_x\\'\"] not found in axis'"
     ]
    }
   ],
   "source": [
    "output7.drop(columns=list_col, axis=1)"
   ]
  }
 ],
 "metadata": {
  "kernelspec": {
   "display_name": "Python 3.10.4 64-bit",
   "language": "python",
   "name": "python3"
  },
  "language_info": {
   "codemirror_mode": {
    "name": "ipython",
    "version": 3
   },
   "file_extension": ".py",
   "mimetype": "text/x-python",
   "name": "python",
   "nbconvert_exporter": "python",
   "pygments_lexer": "ipython3",
   "version": "3.10.4"
  },
  "orig_nbformat": 4,
  "vscode": {
   "interpreter": {
    "hash": "4574c92c81b7a4447a4b895dbf630721cb3b758132caf039eedf7927fb67883f"
   }
  }
 },
 "nbformat": 4,
 "nbformat_minor": 2
}
