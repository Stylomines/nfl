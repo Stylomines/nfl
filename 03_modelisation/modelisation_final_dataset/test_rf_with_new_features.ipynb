{
 "cells": [
  {
   "cell_type": "code",
   "execution_count": 1,
   "metadata": {},
   "outputs": [],
   "source": [
    "import pandas as pd"
   ]
  },
  {
   "cell_type": "code",
   "execution_count": 2,
   "metadata": {},
   "outputs": [
    {
     "data": {
      "text/html": [
       "<div>\n",
       "<style scoped>\n",
       "    .dataframe tbody tr th:only-of-type {\n",
       "        vertical-align: middle;\n",
       "    }\n",
       "\n",
       "    .dataframe tbody tr th {\n",
       "        vertical-align: top;\n",
       "    }\n",
       "\n",
       "    .dataframe thead th {\n",
       "        text-align: right;\n",
       "    }\n",
       "</style>\n",
       "<table border=\"1\" class=\"dataframe\">\n",
       "  <thead>\n",
       "    <tr style=\"text-align: right;\">\n",
       "      <th></th>\n",
       "      <th>Unnamed: 0</th>\n",
       "      <th>season</th>\n",
       "      <th>week</th>\n",
       "      <th>awayteam</th>\n",
       "      <th>hometeam</th>\n",
       "      <th>awayscore</th>\n",
       "      <th>homescore</th>\n",
       "      <th>idgame</th>\n",
       "      <th>score_abs</th>\n",
       "      <th>winner_home</th>\n",
       "      <th>...</th>\n",
       "      <th>capacity</th>\n",
       "      <th>people</th>\n",
       "      <th>line</th>\n",
       "      <th>over_under</th>\n",
       "      <th>attendance_info</th>\n",
       "      <th>month</th>\n",
       "      <th>dayofmonth</th>\n",
       "      <th>dayofweek</th>\n",
       "      <th>hour</th>\n",
       "      <th>minute</th>\n",
       "    </tr>\n",
       "  </thead>\n",
       "  <tbody>\n",
       "    <tr>\n",
       "      <th>0</th>\n",
       "      <td>0</td>\n",
       "      <td>2017</td>\n",
       "      <td>9</td>\n",
       "      <td>Bengals</td>\n",
       "      <td>Jaguars</td>\n",
       "      <td>7</td>\n",
       "      <td>23</td>\n",
       "      <td>400951753</td>\n",
       "      <td>16</td>\n",
       "      <td>1</td>\n",
       "      <td>...</td>\n",
       "      <td>67858</td>\n",
       "      <td>89.0</td>\n",
       "      <td>NaN</td>\n",
       "      <td>NaN</td>\n",
       "      <td>1</td>\n",
       "      <td>11</td>\n",
       "      <td>5</td>\n",
       "      <td>6</td>\n",
       "      <td>18</td>\n",
       "      <td>0</td>\n",
       "    </tr>\n",
       "    <tr>\n",
       "      <th>1</th>\n",
       "      <td>1</td>\n",
       "      <td>2017</td>\n",
       "      <td>9</td>\n",
       "      <td>Bengals</td>\n",
       "      <td>Jaguars</td>\n",
       "      <td>7</td>\n",
       "      <td>23</td>\n",
       "      <td>400951753</td>\n",
       "      <td>16</td>\n",
       "      <td>1</td>\n",
       "      <td>...</td>\n",
       "      <td>67858</td>\n",
       "      <td>89.0</td>\n",
       "      <td>NaN</td>\n",
       "      <td>NaN</td>\n",
       "      <td>1</td>\n",
       "      <td>11</td>\n",
       "      <td>5</td>\n",
       "      <td>6</td>\n",
       "      <td>18</td>\n",
       "      <td>0</td>\n",
       "    </tr>\n",
       "    <tr>\n",
       "      <th>2</th>\n",
       "      <td>2</td>\n",
       "      <td>2017</td>\n",
       "      <td>4</td>\n",
       "      <td>Bills</td>\n",
       "      <td>Falcons</td>\n",
       "      <td>23</td>\n",
       "      <td>17</td>\n",
       "      <td>400951685</td>\n",
       "      <td>-6</td>\n",
       "      <td>0</td>\n",
       "      <td>...</td>\n",
       "      <td>75000</td>\n",
       "      <td>95.0</td>\n",
       "      <td>NaN</td>\n",
       "      <td>NaN</td>\n",
       "      <td>1</td>\n",
       "      <td>10</td>\n",
       "      <td>1</td>\n",
       "      <td>6</td>\n",
       "      <td>17</td>\n",
       "      <td>0</td>\n",
       "    </tr>\n",
       "    <tr>\n",
       "      <th>3</th>\n",
       "      <td>3</td>\n",
       "      <td>2017</td>\n",
       "      <td>4</td>\n",
       "      <td>Bills</td>\n",
       "      <td>Falcons</td>\n",
       "      <td>23</td>\n",
       "      <td>17</td>\n",
       "      <td>400951685</td>\n",
       "      <td>-6</td>\n",
       "      <td>0</td>\n",
       "      <td>...</td>\n",
       "      <td>75000</td>\n",
       "      <td>95.0</td>\n",
       "      <td>NaN</td>\n",
       "      <td>NaN</td>\n",
       "      <td>1</td>\n",
       "      <td>10</td>\n",
       "      <td>1</td>\n",
       "      <td>6</td>\n",
       "      <td>17</td>\n",
       "      <td>0</td>\n",
       "    </tr>\n",
       "    <tr>\n",
       "      <th>4</th>\n",
       "      <td>4</td>\n",
       "      <td>2017</td>\n",
       "      <td>4</td>\n",
       "      <td>Saints</td>\n",
       "      <td>Dolphins</td>\n",
       "      <td>20</td>\n",
       "      <td>0</td>\n",
       "      <td>400950241</td>\n",
       "      <td>-20</td>\n",
       "      <td>0</td>\n",
       "      <td>...</td>\n",
       "      <td>86000</td>\n",
       "      <td>98.0</td>\n",
       "      <td>NaN</td>\n",
       "      <td>NaN</td>\n",
       "      <td>1</td>\n",
       "      <td>10</td>\n",
       "      <td>1</td>\n",
       "      <td>6</td>\n",
       "      <td>13</td>\n",
       "      <td>30</td>\n",
       "    </tr>\n",
       "  </tbody>\n",
       "</table>\n",
       "<p>5 rows × 139 columns</p>\n",
       "</div>"
      ],
      "text/plain": [
       "   Unnamed: 0  season  week awayteam  hometeam  awayscore  homescore  \\\n",
       "0           0    2017     9  Bengals   Jaguars          7         23   \n",
       "1           1    2017     9  Bengals   Jaguars          7         23   \n",
       "2           2    2017     4    Bills   Falcons         23         17   \n",
       "3           3    2017     4    Bills   Falcons         23         17   \n",
       "4           4    2017     4   Saints  Dolphins         20          0   \n",
       "\n",
       "      idgame  score_abs  winner_home  ...  capacity people line over_under  \\\n",
       "0  400951753         16            1  ...     67858   89.0  NaN        NaN   \n",
       "1  400951753         16            1  ...     67858   89.0  NaN        NaN   \n",
       "2  400951685         -6            0  ...     75000   95.0  NaN        NaN   \n",
       "3  400951685         -6            0  ...     75000   95.0  NaN        NaN   \n",
       "4  400950241        -20            0  ...     86000   98.0  NaN        NaN   \n",
       "\n",
       "  attendance_info month dayofmonth  dayofweek  hour  minute  \n",
       "0               1    11          5          6    18       0  \n",
       "1               1    11          5          6    18       0  \n",
       "2               1    10          1          6    17       0  \n",
       "3               1    10          1          6    17       0  \n",
       "4               1    10          1          6    13      30  \n",
       "\n",
       "[5 rows x 139 columns]"
      ]
     },
     "execution_count": 2,
     "metadata": {},
     "output_type": "execute_result"
    }
   ],
   "source": [
    "df = pd.read_csv(\"nfl_dataset_v1.csv\")\n",
    "df.head()"
   ]
  },
  {
   "cell_type": "code",
   "execution_count": 3,
   "metadata": {},
   "outputs": [],
   "source": [
    "df = df.drop(columns=['Unnamed: 0', 'concat', 'game_date', 'delta_match', 'date', 'line', 'over_under', 'awayscore', 'homescore', 'score_abs', 'winner_team', 'winner_away'])"
   ]
  },
  {
   "cell_type": "code",
   "execution_count": 4,
   "metadata": {},
   "outputs": [
    {
     "data": {
      "text/plain": [
       "1289"
      ]
     },
     "execution_count": 4,
     "metadata": {},
     "output_type": "execute_result"
    }
   ],
   "source": [
    "# cheking the amount of games in the dataframe\n",
    "len(df.idgame.unique())"
   ]
  },
  {
   "cell_type": "code",
   "execution_count": 5,
   "metadata": {},
   "outputs": [
    {
     "data": {
      "text/plain": [
       "2542"
      ]
     },
     "execution_count": 5,
     "metadata": {},
     "output_type": "execute_result"
    }
   ],
   "source": [
    "# checking the amount of lines in the dataframe (there shoulb be one line per game)\n",
    "len(df)"
   ]
  },
  {
   "cell_type": "code",
   "execution_count": 6,
   "metadata": {},
   "outputs": [
    {
     "data": {
      "text/plain": [
       "0       False\n",
       "1        True\n",
       "2       False\n",
       "3        True\n",
       "4       False\n",
       "        ...  \n",
       "2537     True\n",
       "2538    False\n",
       "2539     True\n",
       "2540    False\n",
       "2541     True\n",
       "Length: 2542, dtype: bool"
      ]
     },
     "execution_count": 6,
     "metadata": {},
     "output_type": "execute_result"
    }
   ],
   "source": [
    "# identifying the double\n",
    "df.duplicated('idgame')"
   ]
  },
  {
   "cell_type": "code",
   "execution_count": 7,
   "metadata": {},
   "outputs": [
    {
     "data": {
      "text/plain": [
       "1289"
      ]
     },
     "execution_count": 7,
     "metadata": {},
     "output_type": "execute_result"
    }
   ],
   "source": [
    "# removing the doubles\n",
    "df = df.drop_duplicates(subset=['idgame'], keep='first')\n",
    "len(df)"
   ]
  },
  {
   "cell_type": "code",
   "execution_count": 8,
   "metadata": {},
   "outputs": [
    {
     "name": "stdout",
     "output_type": "stream",
     "text": [
      "['season', 'week', 'awayteam', 'hometeam', 'idgame', 'winner_home', 'home_coach', 'away_coach', 'location_x', 'weather_type', 'temperature', 'humidity', 'wind', 'team', 'pass_completion', 'pass_yds', 'pass_avg', 'pass_td', 'pass_int', 'sacks', 'qbr', 'rtg', 'rush_car', 'rush_yds', 'rush_avg', 'rush_td', 'rush_long', 'receptions', 'rec_yds', 'rec_avg', 'rec_td', 'rec_long', 'rec_tgs', 'fumbles', 'fumbles_lost', 'fumbles_rec', 'defense_tot', 'defense_solo', 'defense_sacks', 'defense_tfl', 'defense_pd', 'defense_qb_hits', 'defense_td', 'interceptions', 'interceptions_yds', 'interceptions_td', 'kicks_return_no', 'kicks_return_yds', 'kicks_return_avg', 'kicks_return_long', 'kicks_return_td', 'punt_return_no', 'punt_return_yds', 'punt_return_avg', 'punt_return_long', 'punt_return_td', 'kicking_pct', 'kicking_long', 'kicking_pts', 'punting_no', 'punting_yds', 'punting_avg', 'punting_tb', 'punting_in_20', 'punting_long', 'pass_completion_MA_5', 'pass_yds_MA_5', 'pass_avg_MA_5', 'pass_td_MA_5', 'pass_int_MA_5', 'sacks_MA_5', 'qbr_MA_5', 'rtg_MA_5', 'rush_car_MA_5', 'rush_yds_MA_5', 'rush_avg_MA_5', 'rush_td_MA_5', 'rush_long_MA_5', 'receptions_MA_5', 'rec_yds_MA_5', 'rec_avg_MA_5', 'rec_td_MA_5', 'rec_long_MA_5', 'rec_tgs_MA_5', 'fumbles_MA_5', 'fumbles_lost_MA_5', 'fumbles_rec_MA_5', 'defense_tot_MA_5', 'defense_solo_MA_5', 'defense_sacks_MA_5', 'defense_tfl_MA_5', 'defense_pd_MA_5', 'defense_qb_hits_MA_5', 'defense_td_MA_5', 'interceptions_MA_5', 'interceptions_yds_MA_5', 'interceptions_td_MA_5', 'kicks_return_no_MA_5', 'kicks_return_yds_MA_5', 'kicks_return_avg_MA_5', 'kicks_return_long_MA_5', 'kicks_return_td_MA_5', 'punt_return_no_MA_5', 'punt_return_yds_MA_5', 'punt_return_avg_MA_5', 'punt_return_long_MA_5', 'punt_return_td_MA_5', 'kicking_pct_MA_5', 'kicking_long_MA_5', 'kicking_pts_MA_5', 'punting_no_MA_5', 'punting_yds_MA_5', 'punting_avg_MA_5', 'punting_tb_MA_5', 'punting_in_20_MA_5', 'punting_long_MA_5', 'stade', 'location_y', 'attendance', 'capacity', 'people', 'attendance_info', 'month', 'dayofmonth', 'dayofweek', 'hour', 'minute']\n"
     ]
    }
   ],
   "source": [
    "print(df.columns.tolist())"
   ]
  },
  {
   "cell_type": "code",
   "execution_count": 9,
   "metadata": {},
   "outputs": [],
   "source": [
    "# removing columns that became useless with the moving average\n",
    "to_be_removed = ['pass_completion', 'pass_yds', 'pass_avg', 'pass_td', 'pass_int', 'sacks', 'qbr', 'rtg', 'rush_car', 'rush_yds', 'rush_avg', 'rush_td', 'rush_long', 'receptions', 'rec_yds', 'rec_avg', 'rec_td', 'rec_long', 'rec_tgs', 'fumbles', 'fumbles_lost', 'fumbles_rec', 'defense_tot', 'defense_solo', 'defense_sacks', 'defense_tfl', 'defense_pd', 'defense_qb_hits', 'defense_td', 'interceptions', 'interceptions_yds', 'interceptions_td', 'kicks_return_no', 'kicks_return_yds', 'kicks_return_avg', 'kicks_return_long', 'kicks_return_td', 'punt_return_no', 'punt_return_yds', 'punt_return_avg', 'punt_return_long', 'punt_return_td', 'kicking_pct', 'kicking_long', 'kicking_pts', 'punting_no', 'punting_yds', 'punting_avg', 'punting_tb', 'punting_in_20', 'punting_long']\n",
    "df = df.drop(columns=to_be_removed)"
   ]
  },
  {
   "cell_type": "code",
   "execution_count": 10,
   "metadata": {},
   "outputs": [
    {
     "name": "stdout",
     "output_type": "stream",
     "text": [
      "['season', 'week', 'awayteam', 'hometeam', 'idgame', 'winner_home', 'home_coach', 'away_coach', 'location_x', 'weather_type', 'temperature', 'humidity', 'wind', 'team', 'pass_completion_MA_5', 'pass_yds_MA_5', 'pass_avg_MA_5', 'pass_td_MA_5', 'pass_int_MA_5', 'sacks_MA_5', 'qbr_MA_5', 'rtg_MA_5', 'rush_car_MA_5', 'rush_yds_MA_5', 'rush_avg_MA_5', 'rush_td_MA_5', 'rush_long_MA_5', 'receptions_MA_5', 'rec_yds_MA_5', 'rec_avg_MA_5', 'rec_td_MA_5', 'rec_long_MA_5', 'rec_tgs_MA_5', 'fumbles_MA_5', 'fumbles_lost_MA_5', 'fumbles_rec_MA_5', 'defense_tot_MA_5', 'defense_solo_MA_5', 'defense_sacks_MA_5', 'defense_tfl_MA_5', 'defense_pd_MA_5', 'defense_qb_hits_MA_5', 'defense_td_MA_5', 'interceptions_MA_5', 'interceptions_yds_MA_5', 'interceptions_td_MA_5', 'kicks_return_no_MA_5', 'kicks_return_yds_MA_5', 'kicks_return_avg_MA_5', 'kicks_return_long_MA_5', 'kicks_return_td_MA_5', 'punt_return_no_MA_5', 'punt_return_yds_MA_5', 'punt_return_avg_MA_5', 'punt_return_long_MA_5', 'punt_return_td_MA_5', 'kicking_pct_MA_5', 'kicking_long_MA_5', 'kicking_pts_MA_5', 'punting_no_MA_5', 'punting_yds_MA_5', 'punting_avg_MA_5', 'punting_tb_MA_5', 'punting_in_20_MA_5', 'punting_long_MA_5', 'stade', 'location_y', 'attendance', 'capacity', 'people', 'attendance_info', 'month', 'dayofmonth', 'dayofweek', 'hour', 'minute']\n"
     ]
    }
   ],
   "source": [
    "print(df.columns.tolist())"
   ]
  },
  {
   "cell_type": "code",
   "execution_count": 11,
   "metadata": {},
   "outputs": [
    {
     "name": "stdout",
     "output_type": "stream",
     "text": [
      "Number of rows : 1289\n",
      "\n",
      "Basics statistics: \n"
     ]
    },
    {
     "data": {
      "text/html": [
       "<div>\n",
       "<style scoped>\n",
       "    .dataframe tbody tr th:only-of-type {\n",
       "        vertical-align: middle;\n",
       "    }\n",
       "\n",
       "    .dataframe tbody tr th {\n",
       "        vertical-align: top;\n",
       "    }\n",
       "\n",
       "    .dataframe thead th {\n",
       "        text-align: right;\n",
       "    }\n",
       "</style>\n",
       "<table border=\"1\" class=\"dataframe\">\n",
       "  <thead>\n",
       "    <tr style=\"text-align: right;\">\n",
       "      <th></th>\n",
       "      <th>season</th>\n",
       "      <th>week</th>\n",
       "      <th>awayteam</th>\n",
       "      <th>hometeam</th>\n",
       "      <th>idgame</th>\n",
       "      <th>winner_home</th>\n",
       "      <th>home_coach</th>\n",
       "      <th>away_coach</th>\n",
       "      <th>location_x</th>\n",
       "      <th>weather_type</th>\n",
       "      <th>...</th>\n",
       "      <th>location_y</th>\n",
       "      <th>attendance</th>\n",
       "      <th>capacity</th>\n",
       "      <th>people</th>\n",
       "      <th>attendance_info</th>\n",
       "      <th>month</th>\n",
       "      <th>dayofmonth</th>\n",
       "      <th>dayofweek</th>\n",
       "      <th>hour</th>\n",
       "      <th>minute</th>\n",
       "    </tr>\n",
       "  </thead>\n",
       "  <tbody>\n",
       "    <tr>\n",
       "      <th>count</th>\n",
       "      <td>1289.000000</td>\n",
       "      <td>1289.000000</td>\n",
       "      <td>1289</td>\n",
       "      <td>1289</td>\n",
       "      <td>1.289000e+03</td>\n",
       "      <td>1289.000000</td>\n",
       "      <td>1289</td>\n",
       "      <td>1289</td>\n",
       "      <td>1289</td>\n",
       "      <td>1289</td>\n",
       "      <td>...</td>\n",
       "      <td>1289</td>\n",
       "      <td>1140.000000</td>\n",
       "      <td>1289.000000</td>\n",
       "      <td>1140.000000</td>\n",
       "      <td>1289.000000</td>\n",
       "      <td>1289.000000</td>\n",
       "      <td>1289.000000</td>\n",
       "      <td>1289.000000</td>\n",
       "      <td>1289.000000</td>\n",
       "      <td>1289.00000</td>\n",
       "    </tr>\n",
       "    <tr>\n",
       "      <th>unique</th>\n",
       "      <td>NaN</td>\n",
       "      <td>NaN</td>\n",
       "      <td>32</td>\n",
       "      <td>32</td>\n",
       "      <td>NaN</td>\n",
       "      <td>NaN</td>\n",
       "      <td>63</td>\n",
       "      <td>63</td>\n",
       "      <td>2</td>\n",
       "      <td>7</td>\n",
       "      <td>...</td>\n",
       "      <td>35</td>\n",
       "      <td>NaN</td>\n",
       "      <td>NaN</td>\n",
       "      <td>NaN</td>\n",
       "      <td>NaN</td>\n",
       "      <td>NaN</td>\n",
       "      <td>NaN</td>\n",
       "      <td>NaN</td>\n",
       "      <td>NaN</td>\n",
       "      <td>NaN</td>\n",
       "    </tr>\n",
       "    <tr>\n",
       "      <th>top</th>\n",
       "      <td>NaN</td>\n",
       "      <td>NaN</td>\n",
       "      <td>Cowboys</td>\n",
       "      <td>Jaguars</td>\n",
       "      <td>NaN</td>\n",
       "      <td>NaN</td>\n",
       "      <td>John Harbaugh</td>\n",
       "      <td>Ron Rivera</td>\n",
       "      <td>Home</td>\n",
       "      <td>cloudy</td>\n",
       "      <td>...</td>\n",
       "      <td>East Rutherford, NJ</td>\n",
       "      <td>NaN</td>\n",
       "      <td>NaN</td>\n",
       "      <td>NaN</td>\n",
       "      <td>NaN</td>\n",
       "      <td>NaN</td>\n",
       "      <td>NaN</td>\n",
       "      <td>NaN</td>\n",
       "      <td>NaN</td>\n",
       "      <td>NaN</td>\n",
       "    </tr>\n",
       "    <tr>\n",
       "      <th>freq</th>\n",
       "      <td>NaN</td>\n",
       "      <td>NaN</td>\n",
       "      <td>41</td>\n",
       "      <td>41</td>\n",
       "      <td>NaN</td>\n",
       "      <td>NaN</td>\n",
       "      <td>41</td>\n",
       "      <td>41</td>\n",
       "      <td>1270</td>\n",
       "      <td>768</td>\n",
       "      <td>...</td>\n",
       "      <td>81</td>\n",
       "      <td>NaN</td>\n",
       "      <td>NaN</td>\n",
       "      <td>NaN</td>\n",
       "      <td>NaN</td>\n",
       "      <td>NaN</td>\n",
       "      <td>NaN</td>\n",
       "      <td>NaN</td>\n",
       "      <td>NaN</td>\n",
       "      <td>NaN</td>\n",
       "    </tr>\n",
       "    <tr>\n",
       "      <th>mean</th>\n",
       "      <td>2019.027153</td>\n",
       "      <td>9.175330</td>\n",
       "      <td>NaN</td>\n",
       "      <td>NaN</td>\n",
       "      <td>4.011341e+08</td>\n",
       "      <td>0.539178</td>\n",
       "      <td>NaN</td>\n",
       "      <td>NaN</td>\n",
       "      <td>NaN</td>\n",
       "      <td>NaN</td>\n",
       "      <td>...</td>\n",
       "      <td>NaN</td>\n",
       "      <td>61886.508772</td>\n",
       "      <td>70211.602017</td>\n",
       "      <td>88.013158</td>\n",
       "      <td>0.884407</td>\n",
       "      <td>10.254461</td>\n",
       "      <td>16.082234</td>\n",
       "      <td>5.098526</td>\n",
       "      <td>15.049651</td>\n",
       "      <td>9.09232</td>\n",
       "    </tr>\n",
       "    <tr>\n",
       "      <th>std</th>\n",
       "      <td>1.422984</td>\n",
       "      <td>5.062066</td>\n",
       "      <td>NaN</td>\n",
       "      <td>NaN</td>\n",
       "      <td>1.338832e+05</td>\n",
       "      <td>0.498656</td>\n",
       "      <td>NaN</td>\n",
       "      <td>NaN</td>\n",
       "      <td>NaN</td>\n",
       "      <td>NaN</td>\n",
       "      <td>...</td>\n",
       "      <td>NaN</td>\n",
       "      <td>19059.984436</td>\n",
       "      <td>9601.706381</td>\n",
       "      <td>24.114280</td>\n",
       "      <td>0.319861</td>\n",
       "      <td>2.123613</td>\n",
       "      <td>8.765195</td>\n",
       "      <td>1.920486</td>\n",
       "      <td>7.274286</td>\n",
       "      <td>11.26295</td>\n",
       "    </tr>\n",
       "    <tr>\n",
       "      <th>min</th>\n",
       "      <td>2017.000000</td>\n",
       "      <td>1.000000</td>\n",
       "      <td>NaN</td>\n",
       "      <td>NaN</td>\n",
       "      <td>4.009502e+08</td>\n",
       "      <td>0.000000</td>\n",
       "      <td>NaN</td>\n",
       "      <td>NaN</td>\n",
       "      <td>NaN</td>\n",
       "      <td>NaN</td>\n",
       "      <td>...</td>\n",
       "      <td>NaN</td>\n",
       "      <td>748.000000</td>\n",
       "      <td>27000.000000</td>\n",
       "      <td>1.000000</td>\n",
       "      <td>0.000000</td>\n",
       "      <td>1.000000</td>\n",
       "      <td>1.000000</td>\n",
       "      <td>0.000000</td>\n",
       "      <td>0.000000</td>\n",
       "      <td>0.00000</td>\n",
       "    </tr>\n",
       "    <tr>\n",
       "      <th>25%</th>\n",
       "      <td>2018.000000</td>\n",
       "      <td>5.000000</td>\n",
       "      <td>NaN</td>\n",
       "      <td>NaN</td>\n",
       "      <td>4.010308e+08</td>\n",
       "      <td>0.000000</td>\n",
       "      <td>NaN</td>\n",
       "      <td>NaN</td>\n",
       "      <td>NaN</td>\n",
       "      <td>NaN</td>\n",
       "      <td>...</td>\n",
       "      <td>NaN</td>\n",
       "      <td>60546.750000</td>\n",
       "      <td>65828.000000</td>\n",
       "      <td>91.000000</td>\n",
       "      <td>1.000000</td>\n",
       "      <td>10.000000</td>\n",
       "      <td>9.000000</td>\n",
       "      <td>6.000000</td>\n",
       "      <td>17.000000</td>\n",
       "      <td>0.00000</td>\n",
       "    </tr>\n",
       "    <tr>\n",
       "      <th>50%</th>\n",
       "      <td>2019.000000</td>\n",
       "      <td>9.000000</td>\n",
       "      <td>NaN</td>\n",
       "      <td>NaN</td>\n",
       "      <td>4.011280e+08</td>\n",
       "      <td>1.000000</td>\n",
       "      <td>NaN</td>\n",
       "      <td>NaN</td>\n",
       "      <td>NaN</td>\n",
       "      <td>NaN</td>\n",
       "      <td>...</td>\n",
       "      <td>NaN</td>\n",
       "      <td>66880.500000</td>\n",
       "      <td>68740.000000</td>\n",
       "      <td>97.000000</td>\n",
       "      <td>1.000000</td>\n",
       "      <td>11.000000</td>\n",
       "      <td>16.000000</td>\n",
       "      <td>6.000000</td>\n",
       "      <td>18.000000</td>\n",
       "      <td>0.00000</td>\n",
       "    </tr>\n",
       "    <tr>\n",
       "      <th>75%</th>\n",
       "      <td>2020.000000</td>\n",
       "      <td>14.000000</td>\n",
       "      <td>NaN</td>\n",
       "      <td>NaN</td>\n",
       "      <td>4.012203e+08</td>\n",
       "      <td>1.000000</td>\n",
       "      <td>NaN</td>\n",
       "      <td>NaN</td>\n",
       "      <td>NaN</td>\n",
       "      <td>NaN</td>\n",
       "      <td>...</td>\n",
       "      <td>NaN</td>\n",
       "      <td>71865.250000</td>\n",
       "      <td>73000.000000</td>\n",
       "      <td>100.000000</td>\n",
       "      <td>1.000000</td>\n",
       "      <td>12.000000</td>\n",
       "      <td>24.000000</td>\n",
       "      <td>6.000000</td>\n",
       "      <td>20.000000</td>\n",
       "      <td>20.00000</td>\n",
       "    </tr>\n",
       "    <tr>\n",
       "      <th>max</th>\n",
       "      <td>2021.000000</td>\n",
       "      <td>18.000000</td>\n",
       "      <td>NaN</td>\n",
       "      <td>NaN</td>\n",
       "      <td>4.013266e+08</td>\n",
       "      <td>1.000000</td>\n",
       "      <td>NaN</td>\n",
       "      <td>NaN</td>\n",
       "      <td>NaN</td>\n",
       "      <td>NaN</td>\n",
       "      <td>...</td>\n",
       "      <td>NaN</td>\n",
       "      <td>93503.000000</td>\n",
       "      <td>100000.000000</td>\n",
       "      <td>100.000000</td>\n",
       "      <td>1.000000</td>\n",
       "      <td>12.000000</td>\n",
       "      <td>31.000000</td>\n",
       "      <td>6.000000</td>\n",
       "      <td>23.000000</td>\n",
       "      <td>55.00000</td>\n",
       "    </tr>\n",
       "  </tbody>\n",
       "</table>\n",
       "<p>11 rows × 76 columns</p>\n",
       "</div>"
      ],
      "text/plain": [
       "             season         week awayteam hometeam        idgame  winner_home  \\\n",
       "count   1289.000000  1289.000000     1289     1289  1.289000e+03  1289.000000   \n",
       "unique          NaN          NaN       32       32           NaN          NaN   \n",
       "top             NaN          NaN  Cowboys  Jaguars           NaN          NaN   \n",
       "freq            NaN          NaN       41       41           NaN          NaN   \n",
       "mean    2019.027153     9.175330      NaN      NaN  4.011341e+08     0.539178   \n",
       "std        1.422984     5.062066      NaN      NaN  1.338832e+05     0.498656   \n",
       "min     2017.000000     1.000000      NaN      NaN  4.009502e+08     0.000000   \n",
       "25%     2018.000000     5.000000      NaN      NaN  4.010308e+08     0.000000   \n",
       "50%     2019.000000     9.000000      NaN      NaN  4.011280e+08     1.000000   \n",
       "75%     2020.000000    14.000000      NaN      NaN  4.012203e+08     1.000000   \n",
       "max     2021.000000    18.000000      NaN      NaN  4.013266e+08     1.000000   \n",
       "\n",
       "           home_coach  away_coach location_x weather_type  ...  \\\n",
       "count            1289        1289       1289         1289  ...   \n",
       "unique             63          63          2            7  ...   \n",
       "top     John Harbaugh  Ron Rivera       Home       cloudy  ...   \n",
       "freq               41          41       1270          768  ...   \n",
       "mean              NaN         NaN        NaN          NaN  ...   \n",
       "std               NaN         NaN        NaN          NaN  ...   \n",
       "min               NaN         NaN        NaN          NaN  ...   \n",
       "25%               NaN         NaN        NaN          NaN  ...   \n",
       "50%               NaN         NaN        NaN          NaN  ...   \n",
       "75%               NaN         NaN        NaN          NaN  ...   \n",
       "max               NaN         NaN        NaN          NaN  ...   \n",
       "\n",
       "                 location_y    attendance       capacity       people  \\\n",
       "count                  1289   1140.000000    1289.000000  1140.000000   \n",
       "unique                   35           NaN            NaN          NaN   \n",
       "top     East Rutherford, NJ           NaN            NaN          NaN   \n",
       "freq                     81           NaN            NaN          NaN   \n",
       "mean                    NaN  61886.508772   70211.602017    88.013158   \n",
       "std                     NaN  19059.984436    9601.706381    24.114280   \n",
       "min                     NaN    748.000000   27000.000000     1.000000   \n",
       "25%                     NaN  60546.750000   65828.000000    91.000000   \n",
       "50%                     NaN  66880.500000   68740.000000    97.000000   \n",
       "75%                     NaN  71865.250000   73000.000000   100.000000   \n",
       "max                     NaN  93503.000000  100000.000000   100.000000   \n",
       "\n",
       "        attendance_info        month   dayofmonth    dayofweek         hour  \\\n",
       "count       1289.000000  1289.000000  1289.000000  1289.000000  1289.000000   \n",
       "unique              NaN          NaN          NaN          NaN          NaN   \n",
       "top                 NaN          NaN          NaN          NaN          NaN   \n",
       "freq                NaN          NaN          NaN          NaN          NaN   \n",
       "mean           0.884407    10.254461    16.082234     5.098526    15.049651   \n",
       "std            0.319861     2.123613     8.765195     1.920486     7.274286   \n",
       "min            0.000000     1.000000     1.000000     0.000000     0.000000   \n",
       "25%            1.000000    10.000000     9.000000     6.000000    17.000000   \n",
       "50%            1.000000    11.000000    16.000000     6.000000    18.000000   \n",
       "75%            1.000000    12.000000    24.000000     6.000000    20.000000   \n",
       "max            1.000000    12.000000    31.000000     6.000000    23.000000   \n",
       "\n",
       "            minute  \n",
       "count   1289.00000  \n",
       "unique         NaN  \n",
       "top            NaN  \n",
       "freq           NaN  \n",
       "mean       9.09232  \n",
       "std       11.26295  \n",
       "min        0.00000  \n",
       "25%        0.00000  \n",
       "50%        0.00000  \n",
       "75%       20.00000  \n",
       "max       55.00000  \n",
       "\n",
       "[11 rows x 76 columns]"
      ]
     },
     "metadata": {},
     "output_type": "display_data"
    },
    {
     "name": "stdout",
     "output_type": "stream",
     "text": [
      "\n",
      "Percentage of missing values: \n"
     ]
    },
    {
     "data": {
      "text/plain": [
       "season        0.0\n",
       "week          0.0\n",
       "awayteam      0.0\n",
       "hometeam      0.0\n",
       "idgame        0.0\n",
       "             ... \n",
       "month         0.0\n",
       "dayofmonth    0.0\n",
       "dayofweek     0.0\n",
       "hour          0.0\n",
       "minute        0.0\n",
       "Length: 76, dtype: float64"
      ]
     },
     "metadata": {},
     "output_type": "display_data"
    }
   ],
   "source": [
    "print(\"Number of rows : {}\".format(df.shape[0]))\n",
    "print()\n",
    "\n",
    "print(\"Basics statistics: \")\n",
    "data_desc = df.describe(include='all')\n",
    "display(data_desc)\n",
    "print()\n",
    "\n",
    "print(\"Percentage of missing values: \")\n",
    "display(100*df.isnull().sum()/df.shape[0])"
   ]
  },
  {
   "cell_type": "code",
   "execution_count": 12,
   "metadata": {},
   "outputs": [
    {
     "name": "stdout",
     "output_type": "stream",
     "text": [
      "<class 'pandas.core.frame.DataFrame'>\n",
      "Int64Index: 1289 entries, 0 to 2540\n",
      "Data columns (total 76 columns):\n",
      " #   Column                  Non-Null Count  Dtype  \n",
      "---  ------                  --------------  -----  \n",
      " 0   season                  1289 non-null   int64  \n",
      " 1   week                    1289 non-null   int64  \n",
      " 2   awayteam                1289 non-null   object \n",
      " 3   hometeam                1289 non-null   object \n",
      " 4   idgame                  1289 non-null   int64  \n",
      " 5   winner_home             1289 non-null   int64  \n",
      " 6   home_coach              1289 non-null   object \n",
      " 7   away_coach              1289 non-null   object \n",
      " 8   location_x              1289 non-null   object \n",
      " 9   weather_type            1289 non-null   object \n",
      " 10  temperature             1289 non-null   int64  \n",
      " 11  humidity                1289 non-null   int64  \n",
      " 12  wind                    1289 non-null   int64  \n",
      " 13  team                    1289 non-null   object \n",
      " 14  pass_completion_MA_5    1209 non-null   float64\n",
      " 15  pass_yds_MA_5           1209 non-null   float64\n",
      " 16  pass_avg_MA_5           1209 non-null   float64\n",
      " 17  pass_td_MA_5            1209 non-null   float64\n",
      " 18  pass_int_MA_5           1209 non-null   float64\n",
      " 19  sacks_MA_5              1209 non-null   float64\n",
      " 20  qbr_MA_5                1209 non-null   float64\n",
      " 21  rtg_MA_5                1209 non-null   float64\n",
      " 22  rush_car_MA_5           1209 non-null   float64\n",
      " 23  rush_yds_MA_5           1209 non-null   float64\n",
      " 24  rush_avg_MA_5           1209 non-null   float64\n",
      " 25  rush_td_MA_5            1209 non-null   float64\n",
      " 26  rush_long_MA_5          1209 non-null   float64\n",
      " 27  receptions_MA_5         1209 non-null   float64\n",
      " 28  rec_yds_MA_5            1209 non-null   float64\n",
      " 29  rec_avg_MA_5            1209 non-null   float64\n",
      " 30  rec_td_MA_5             1209 non-null   float64\n",
      " 31  rec_long_MA_5           1209 non-null   float64\n",
      " 32  rec_tgs_MA_5            1209 non-null   float64\n",
      " 33  fumbles_MA_5            1209 non-null   float64\n",
      " 34  fumbles_lost_MA_5       1209 non-null   float64\n",
      " 35  fumbles_rec_MA_5        1209 non-null   float64\n",
      " 36  defense_tot_MA_5        1209 non-null   float64\n",
      " 37  defense_solo_MA_5       1209 non-null   float64\n",
      " 38  defense_sacks_MA_5      1209 non-null   float64\n",
      " 39  defense_tfl_MA_5        1209 non-null   float64\n",
      " 40  defense_pd_MA_5         1209 non-null   float64\n",
      " 41  defense_qb_hits_MA_5    1209 non-null   float64\n",
      " 42  defense_td_MA_5         1209 non-null   float64\n",
      " 43  interceptions_MA_5      1209 non-null   float64\n",
      " 44  interceptions_yds_MA_5  1209 non-null   float64\n",
      " 45  interceptions_td_MA_5   1209 non-null   float64\n",
      " 46  kicks_return_no_MA_5    1209 non-null   float64\n",
      " 47  kicks_return_yds_MA_5   1209 non-null   float64\n",
      " 48  kicks_return_avg_MA_5   1209 non-null   float64\n",
      " 49  kicks_return_long_MA_5  1209 non-null   float64\n",
      " 50  kicks_return_td_MA_5    1209 non-null   float64\n",
      " 51  punt_return_no_MA_5     1209 non-null   float64\n",
      " 52  punt_return_yds_MA_5    1209 non-null   float64\n",
      " 53  punt_return_avg_MA_5    1209 non-null   float64\n",
      " 54  punt_return_long_MA_5   1209 non-null   float64\n",
      " 55  punt_return_td_MA_5     1209 non-null   float64\n",
      " 56  kicking_pct_MA_5        1209 non-null   float64\n",
      " 57  kicking_long_MA_5       1209 non-null   float64\n",
      " 58  kicking_pts_MA_5        1209 non-null   float64\n",
      " 59  punting_no_MA_5         1209 non-null   float64\n",
      " 60  punting_yds_MA_5        1209 non-null   float64\n",
      " 61  punting_avg_MA_5        1209 non-null   float64\n",
      " 62  punting_tb_MA_5         1209 non-null   float64\n",
      " 63  punting_in_20_MA_5      1209 non-null   float64\n",
      " 64  punting_long_MA_5       1209 non-null   float64\n",
      " 65  stade                   1289 non-null   object \n",
      " 66  location_y              1289 non-null   object \n",
      " 67  attendance              1140 non-null   float64\n",
      " 68  capacity                1289 non-null   int64  \n",
      " 69  people                  1140 non-null   float64\n",
      " 70  attendance_info         1289 non-null   int64  \n",
      " 71  month                   1289 non-null   int64  \n",
      " 72  dayofmonth              1289 non-null   int64  \n",
      " 73  dayofweek               1289 non-null   int64  \n",
      " 74  hour                    1289 non-null   int64  \n",
      " 75  minute                  1289 non-null   int64  \n",
      "dtypes: float64(53), int64(14), object(9)\n",
      "memory usage: 775.4+ KB\n"
     ]
    }
   ],
   "source": [
    "df.info()"
   ]
  },
  {
   "cell_type": "code",
   "execution_count": 13,
   "metadata": {},
   "outputs": [
    {
     "data": {
      "text/html": [
       "<div>\n",
       "<style scoped>\n",
       "    .dataframe tbody tr th:only-of-type {\n",
       "        vertical-align: middle;\n",
       "    }\n",
       "\n",
       "    .dataframe tbody tr th {\n",
       "        vertical-align: top;\n",
       "    }\n",
       "\n",
       "    .dataframe thead th {\n",
       "        text-align: right;\n",
       "    }\n",
       "</style>\n",
       "<table border=\"1\" class=\"dataframe\">\n",
       "  <thead>\n",
       "    <tr style=\"text-align: right;\">\n",
       "      <th></th>\n",
       "      <th>season</th>\n",
       "      <th>week</th>\n",
       "      <th>awayteam</th>\n",
       "      <th>hometeam</th>\n",
       "      <th>idgame</th>\n",
       "      <th>winner_home</th>\n",
       "      <th>home_coach</th>\n",
       "      <th>away_coach</th>\n",
       "      <th>location_x</th>\n",
       "      <th>weather_type</th>\n",
       "      <th>...</th>\n",
       "      <th>location_y</th>\n",
       "      <th>attendance</th>\n",
       "      <th>capacity</th>\n",
       "      <th>people</th>\n",
       "      <th>attendance_info</th>\n",
       "      <th>month</th>\n",
       "      <th>dayofmonth</th>\n",
       "      <th>dayofweek</th>\n",
       "      <th>hour</th>\n",
       "      <th>minute</th>\n",
       "    </tr>\n",
       "  </thead>\n",
       "  <tbody>\n",
       "    <tr>\n",
       "      <th>0</th>\n",
       "      <td>2017</td>\n",
       "      <td>9</td>\n",
       "      <td>Bengals</td>\n",
       "      <td>Jaguars</td>\n",
       "      <td>400951753</td>\n",
       "      <td>1</td>\n",
       "      <td>Doug Marrone</td>\n",
       "      <td>Marvin Lewis</td>\n",
       "      <td>Home</td>\n",
       "      <td>cloudy</td>\n",
       "      <td>...</td>\n",
       "      <td>Jacksonville, FL</td>\n",
       "      <td>60720.0</td>\n",
       "      <td>67858</td>\n",
       "      <td>89.0</td>\n",
       "      <td>1</td>\n",
       "      <td>11</td>\n",
       "      <td>5</td>\n",
       "      <td>6</td>\n",
       "      <td>18</td>\n",
       "      <td>0</td>\n",
       "    </tr>\n",
       "    <tr>\n",
       "      <th>2</th>\n",
       "      <td>2017</td>\n",
       "      <td>4</td>\n",
       "      <td>Bills</td>\n",
       "      <td>Falcons</td>\n",
       "      <td>400951685</td>\n",
       "      <td>0</td>\n",
       "      <td>Dan Quinn</td>\n",
       "      <td>Sean McDermott</td>\n",
       "      <td>Home</td>\n",
       "      <td>cloudy</td>\n",
       "      <td>...</td>\n",
       "      <td>Atlanta, GA</td>\n",
       "      <td>71273.0</td>\n",
       "      <td>75000</td>\n",
       "      <td>95.0</td>\n",
       "      <td>1</td>\n",
       "      <td>10</td>\n",
       "      <td>1</td>\n",
       "      <td>6</td>\n",
       "      <td>17</td>\n",
       "      <td>0</td>\n",
       "    </tr>\n",
       "    <tr>\n",
       "      <th>4</th>\n",
       "      <td>2017</td>\n",
       "      <td>4</td>\n",
       "      <td>Saints</td>\n",
       "      <td>Dolphins</td>\n",
       "      <td>400950241</td>\n",
       "      <td>0</td>\n",
       "      <td>Adam Gase</td>\n",
       "      <td>Sean Payton</td>\n",
       "      <td>Neutral</td>\n",
       "      <td>cloudy</td>\n",
       "      <td>...</td>\n",
       "      <td>London</td>\n",
       "      <td>84423.0</td>\n",
       "      <td>86000</td>\n",
       "      <td>98.0</td>\n",
       "      <td>1</td>\n",
       "      <td>10</td>\n",
       "      <td>1</td>\n",
       "      <td>6</td>\n",
       "      <td>13</td>\n",
       "      <td>30</td>\n",
       "    </tr>\n",
       "    <tr>\n",
       "      <th>6</th>\n",
       "      <td>2017</td>\n",
       "      <td>4</td>\n",
       "      <td>Bears</td>\n",
       "      <td>Packers</td>\n",
       "      <td>400951678</td>\n",
       "      <td>1</td>\n",
       "      <td>Mike McCarthy</td>\n",
       "      <td>John Fox</td>\n",
       "      <td>Home</td>\n",
       "      <td>cloudy</td>\n",
       "      <td>...</td>\n",
       "      <td>Green Bay, WI</td>\n",
       "      <td>78362.0</td>\n",
       "      <td>81041</td>\n",
       "      <td>97.0</td>\n",
       "      <td>1</td>\n",
       "      <td>9</td>\n",
       "      <td>29</td>\n",
       "      <td>4</td>\n",
       "      <td>0</td>\n",
       "      <td>25</td>\n",
       "    </tr>\n",
       "    <tr>\n",
       "      <th>8</th>\n",
       "      <td>2017</td>\n",
       "      <td>16</td>\n",
       "      <td>Colts</td>\n",
       "      <td>Ravens</td>\n",
       "      <td>400951596</td>\n",
       "      <td>1</td>\n",
       "      <td>John Harbaugh</td>\n",
       "      <td>Chuck Pagano</td>\n",
       "      <td>Home</td>\n",
       "      <td>cloudy</td>\n",
       "      <td>...</td>\n",
       "      <td>Baltimore, MD</td>\n",
       "      <td>70590.0</td>\n",
       "      <td>70745</td>\n",
       "      <td>100.0</td>\n",
       "      <td>1</td>\n",
       "      <td>12</td>\n",
       "      <td>23</td>\n",
       "      <td>5</td>\n",
       "      <td>21</td>\n",
       "      <td>30</td>\n",
       "    </tr>\n",
       "    <tr>\n",
       "      <th>10</th>\n",
       "      <td>2017</td>\n",
       "      <td>16</td>\n",
       "      <td>Vikings</td>\n",
       "      <td>Packers</td>\n",
       "      <td>400951602</td>\n",
       "      <td>0</td>\n",
       "      <td>Mike McCarthy</td>\n",
       "      <td>Mike Zimmer</td>\n",
       "      <td>Home</td>\n",
       "      <td>cloudy</td>\n",
       "      <td>...</td>\n",
       "      <td>Green Bay, WI</td>\n",
       "      <td>78092.0</td>\n",
       "      <td>81041</td>\n",
       "      <td>96.0</td>\n",
       "      <td>1</td>\n",
       "      <td>12</td>\n",
       "      <td>24</td>\n",
       "      <td>6</td>\n",
       "      <td>1</td>\n",
       "      <td>30</td>\n",
       "    </tr>\n",
       "    <tr>\n",
       "      <th>12</th>\n",
       "      <td>2017</td>\n",
       "      <td>16</td>\n",
       "      <td>Browns</td>\n",
       "      <td>Bears</td>\n",
       "      <td>400951617</td>\n",
       "      <td>1</td>\n",
       "      <td>John Fox</td>\n",
       "      <td>Hue Jackson</td>\n",
       "      <td>Home</td>\n",
       "      <td>cloudy</td>\n",
       "      <td>...</td>\n",
       "      <td>Chicago, IL</td>\n",
       "      <td>58796.0</td>\n",
       "      <td>61500</td>\n",
       "      <td>96.0</td>\n",
       "      <td>1</td>\n",
       "      <td>12</td>\n",
       "      <td>24</td>\n",
       "      <td>6</td>\n",
       "      <td>18</td>\n",
       "      <td>0</td>\n",
       "    </tr>\n",
       "    <tr>\n",
       "      <th>14</th>\n",
       "      <td>2017</td>\n",
       "      <td>16</td>\n",
       "      <td>Lions</td>\n",
       "      <td>Bengals</td>\n",
       "      <td>400951621</td>\n",
       "      <td>1</td>\n",
       "      <td>Marvin Lewis</td>\n",
       "      <td>Jim Caldwell</td>\n",
       "      <td>Home</td>\n",
       "      <td>cloudy</td>\n",
       "      <td>...</td>\n",
       "      <td>Cincinnati, OH</td>\n",
       "      <td>47732.0</td>\n",
       "      <td>65515</td>\n",
       "      <td>73.0</td>\n",
       "      <td>1</td>\n",
       "      <td>12</td>\n",
       "      <td>24</td>\n",
       "      <td>6</td>\n",
       "      <td>18</td>\n",
       "      <td>0</td>\n",
       "    </tr>\n",
       "    <tr>\n",
       "      <th>16</th>\n",
       "      <td>2017</td>\n",
       "      <td>16</td>\n",
       "      <td>Rams</td>\n",
       "      <td>Titans</td>\n",
       "      <td>400951667</td>\n",
       "      <td>0</td>\n",
       "      <td>Mike Mularkey</td>\n",
       "      <td>Sean McVay</td>\n",
       "      <td>Home</td>\n",
       "      <td>cloudy</td>\n",
       "      <td>...</td>\n",
       "      <td>Nashville, TN</td>\n",
       "      <td>60097.0</td>\n",
       "      <td>69143</td>\n",
       "      <td>87.0</td>\n",
       "      <td>1</td>\n",
       "      <td>12</td>\n",
       "      <td>24</td>\n",
       "      <td>6</td>\n",
       "      <td>18</td>\n",
       "      <td>0</td>\n",
       "    </tr>\n",
       "    <tr>\n",
       "      <th>18</th>\n",
       "      <td>2017</td>\n",
       "      <td>16</td>\n",
       "      <td>Dolphins</td>\n",
       "      <td>Chiefs</td>\n",
       "      <td>400951625</td>\n",
       "      <td>1</td>\n",
       "      <td>Andy Reid</td>\n",
       "      <td>Adam Gase</td>\n",
       "      <td>Home</td>\n",
       "      <td>cloudy</td>\n",
       "      <td>...</td>\n",
       "      <td>Kansas City, MO</td>\n",
       "      <td>65325.0</td>\n",
       "      <td>72936</td>\n",
       "      <td>90.0</td>\n",
       "      <td>1</td>\n",
       "      <td>12</td>\n",
       "      <td>24</td>\n",
       "      <td>6</td>\n",
       "      <td>18</td>\n",
       "      <td>0</td>\n",
       "    </tr>\n",
       "    <tr>\n",
       "      <th>20</th>\n",
       "      <td>2017</td>\n",
       "      <td>16</td>\n",
       "      <td>Bills</td>\n",
       "      <td>Patriots</td>\n",
       "      <td>400951631</td>\n",
       "      <td>1</td>\n",
       "      <td>Bill Belichick</td>\n",
       "      <td>Sean McDermott</td>\n",
       "      <td>Home</td>\n",
       "      <td>cloudy</td>\n",
       "      <td>...</td>\n",
       "      <td>Foxboro, MA</td>\n",
       "      <td>65878.0</td>\n",
       "      <td>65878</td>\n",
       "      <td>100.0</td>\n",
       "      <td>1</td>\n",
       "      <td>12</td>\n",
       "      <td>24</td>\n",
       "      <td>6</td>\n",
       "      <td>18</td>\n",
       "      <td>0</td>\n",
       "    </tr>\n",
       "    <tr>\n",
       "      <th>22</th>\n",
       "      <td>2017</td>\n",
       "      <td>16</td>\n",
       "      <td>Falcons</td>\n",
       "      <td>Saints</td>\n",
       "      <td>400951637</td>\n",
       "      <td>1</td>\n",
       "      <td>Sean Payton</td>\n",
       "      <td>Dan Quinn</td>\n",
       "      <td>Home</td>\n",
       "      <td>sunny</td>\n",
       "      <td>...</td>\n",
       "      <td>New Orleans, LA</td>\n",
       "      <td>73188.0</td>\n",
       "      <td>73000</td>\n",
       "      <td>100.0</td>\n",
       "      <td>1</td>\n",
       "      <td>12</td>\n",
       "      <td>24</td>\n",
       "      <td>6</td>\n",
       "      <td>18</td>\n",
       "      <td>0</td>\n",
       "    </tr>\n",
       "    <tr>\n",
       "      <th>24</th>\n",
       "      <td>2017</td>\n",
       "      <td>16</td>\n",
       "      <td>Chargers</td>\n",
       "      <td>Jets</td>\n",
       "      <td>400951642</td>\n",
       "      <td>0</td>\n",
       "      <td>Todd Bowles</td>\n",
       "      <td>Anthony Lynn</td>\n",
       "      <td>Home</td>\n",
       "      <td>cloudy</td>\n",
       "      <td>...</td>\n",
       "      <td>East Rutherford, NJ</td>\n",
       "      <td>77562.0</td>\n",
       "      <td>82500</td>\n",
       "      <td>94.0</td>\n",
       "      <td>1</td>\n",
       "      <td>12</td>\n",
       "      <td>24</td>\n",
       "      <td>6</td>\n",
       "      <td>18</td>\n",
       "      <td>0</td>\n",
       "    </tr>\n",
       "    <tr>\n",
       "      <th>26</th>\n",
       "      <td>2017</td>\n",
       "      <td>16</td>\n",
       "      <td>Broncos</td>\n",
       "      <td>Washington</td>\n",
       "      <td>400951671</td>\n",
       "      <td>1</td>\n",
       "      <td>Jay Gruden</td>\n",
       "      <td>Vance Joseph</td>\n",
       "      <td>Home</td>\n",
       "      <td>cloudy</td>\n",
       "      <td>...</td>\n",
       "      <td>Landover, MD</td>\n",
       "      <td>72889.0</td>\n",
       "      <td>67617</td>\n",
       "      <td>100.0</td>\n",
       "      <td>1</td>\n",
       "      <td>12</td>\n",
       "      <td>24</td>\n",
       "      <td>6</td>\n",
       "      <td>18</td>\n",
       "      <td>0</td>\n",
       "    </tr>\n",
       "    <tr>\n",
       "      <th>27</th>\n",
       "      <td>2017</td>\n",
       "      <td>16</td>\n",
       "      <td>Buccaneers</td>\n",
       "      <td>Panthers</td>\n",
       "      <td>400951613</td>\n",
       "      <td>1</td>\n",
       "      <td>Ron Rivera</td>\n",
       "      <td>Dirk Koetter</td>\n",
       "      <td>Home</td>\n",
       "      <td>cloudy</td>\n",
       "      <td>...</td>\n",
       "      <td>Charlotte, NC</td>\n",
       "      <td>71463.0</td>\n",
       "      <td>73778</td>\n",
       "      <td>97.0</td>\n",
       "      <td>1</td>\n",
       "      <td>12</td>\n",
       "      <td>24</td>\n",
       "      <td>6</td>\n",
       "      <td>18</td>\n",
       "      <td>0</td>\n",
       "    </tr>\n",
       "    <tr>\n",
       "      <th>29</th>\n",
       "      <td>2017</td>\n",
       "      <td>16</td>\n",
       "      <td>Jaguars</td>\n",
       "      <td>49ers</td>\n",
       "      <td>400951675</td>\n",
       "      <td>1</td>\n",
       "      <td>Kyle Shanahan</td>\n",
       "      <td>Doug Marrone</td>\n",
       "      <td>Home</td>\n",
       "      <td>cloudy</td>\n",
       "      <td>...</td>\n",
       "      <td>Santa Clara, CA</td>\n",
       "      <td>70133.0</td>\n",
       "      <td>68500</td>\n",
       "      <td>100.0</td>\n",
       "      <td>1</td>\n",
       "      <td>12</td>\n",
       "      <td>24</td>\n",
       "      <td>6</td>\n",
       "      <td>21</td>\n",
       "      <td>5</td>\n",
       "    </tr>\n",
       "    <tr>\n",
       "      <th>31</th>\n",
       "      <td>2017</td>\n",
       "      <td>4</td>\n",
       "      <td>Bengals</td>\n",
       "      <td>Browns</td>\n",
       "      <td>400951712</td>\n",
       "      <td>0</td>\n",
       "      <td>Hue Jackson</td>\n",
       "      <td>Marvin Lewis</td>\n",
       "      <td>Home</td>\n",
       "      <td>sunny</td>\n",
       "      <td>...</td>\n",
       "      <td>Cleveland, OH</td>\n",
       "      <td>67431.0</td>\n",
       "      <td>67431</td>\n",
       "      <td>100.0</td>\n",
       "      <td>1</td>\n",
       "      <td>10</td>\n",
       "      <td>1</td>\n",
       "      <td>6</td>\n",
       "      <td>17</td>\n",
       "      <td>0</td>\n",
       "    </tr>\n",
       "    <tr>\n",
       "      <th>33</th>\n",
       "      <td>2017</td>\n",
       "      <td>4</td>\n",
       "      <td>Rams</td>\n",
       "      <td>Cowboys</td>\n",
       "      <td>400951716</td>\n",
       "      <td>0</td>\n",
       "      <td>Jason Garrett</td>\n",
       "      <td>Sean McVay</td>\n",
       "      <td>Home</td>\n",
       "      <td>cloudy</td>\n",
       "      <td>...</td>\n",
       "      <td>Arlington, TX</td>\n",
       "      <td>91869.0</td>\n",
       "      <td>100000</td>\n",
       "      <td>92.0</td>\n",
       "      <td>1</td>\n",
       "      <td>10</td>\n",
       "      <td>1</td>\n",
       "      <td>6</td>\n",
       "      <td>17</td>\n",
       "      <td>0</td>\n",
       "    </tr>\n",
       "    <tr>\n",
       "      <th>35</th>\n",
       "      <td>2017</td>\n",
       "      <td>4</td>\n",
       "      <td>Lions</td>\n",
       "      <td>Vikings</td>\n",
       "      <td>400951724</td>\n",
       "      <td>0</td>\n",
       "      <td>Mike Zimmer</td>\n",
       "      <td>Jim Caldwell</td>\n",
       "      <td>Home</td>\n",
       "      <td>indoor</td>\n",
       "      <td>...</td>\n",
       "      <td>Minneapolis, MN</td>\n",
       "      <td>66730.0</td>\n",
       "      <td>66468</td>\n",
       "      <td>100.0</td>\n",
       "      <td>1</td>\n",
       "      <td>10</td>\n",
       "      <td>1</td>\n",
       "      <td>6</td>\n",
       "      <td>17</td>\n",
       "      <td>0</td>\n",
       "    </tr>\n",
       "    <tr>\n",
       "      <th>37</th>\n",
       "      <td>2017</td>\n",
       "      <td>4</td>\n",
       "      <td>Panthers</td>\n",
       "      <td>Patriots</td>\n",
       "      <td>400951727</td>\n",
       "      <td>0</td>\n",
       "      <td>Bill Belichick</td>\n",
       "      <td>Ron Rivera</td>\n",
       "      <td>Home</td>\n",
       "      <td>sunny</td>\n",
       "      <td>...</td>\n",
       "      <td>Foxboro, MA</td>\n",
       "      <td>65878.0</td>\n",
       "      <td>65878</td>\n",
       "      <td>100.0</td>\n",
       "      <td>1</td>\n",
       "      <td>10</td>\n",
       "      <td>1</td>\n",
       "      <td>6</td>\n",
       "      <td>17</td>\n",
       "      <td>0</td>\n",
       "    </tr>\n",
       "  </tbody>\n",
       "</table>\n",
       "<p>20 rows × 76 columns</p>\n",
       "</div>"
      ],
      "text/plain": [
       "    season  week    awayteam    hometeam     idgame  winner_home  \\\n",
       "0     2017     9     Bengals     Jaguars  400951753            1   \n",
       "2     2017     4       Bills     Falcons  400951685            0   \n",
       "4     2017     4      Saints    Dolphins  400950241            0   \n",
       "6     2017     4       Bears     Packers  400951678            1   \n",
       "8     2017    16       Colts      Ravens  400951596            1   \n",
       "10    2017    16     Vikings     Packers  400951602            0   \n",
       "12    2017    16      Browns       Bears  400951617            1   \n",
       "14    2017    16       Lions     Bengals  400951621            1   \n",
       "16    2017    16        Rams      Titans  400951667            0   \n",
       "18    2017    16    Dolphins      Chiefs  400951625            1   \n",
       "20    2017    16       Bills    Patriots  400951631            1   \n",
       "22    2017    16     Falcons      Saints  400951637            1   \n",
       "24    2017    16    Chargers        Jets  400951642            0   \n",
       "26    2017    16     Broncos  Washington  400951671            1   \n",
       "27    2017    16  Buccaneers    Panthers  400951613            1   \n",
       "29    2017    16     Jaguars       49ers  400951675            1   \n",
       "31    2017     4     Bengals      Browns  400951712            0   \n",
       "33    2017     4        Rams     Cowboys  400951716            0   \n",
       "35    2017     4       Lions     Vikings  400951724            0   \n",
       "37    2017     4    Panthers    Patriots  400951727            0   \n",
       "\n",
       "        home_coach      away_coach location_x weather_type  ...  \\\n",
       "0     Doug Marrone    Marvin Lewis       Home       cloudy  ...   \n",
       "2        Dan Quinn  Sean McDermott       Home       cloudy  ...   \n",
       "4        Adam Gase     Sean Payton    Neutral       cloudy  ...   \n",
       "6    Mike McCarthy        John Fox       Home       cloudy  ...   \n",
       "8    John Harbaugh    Chuck Pagano       Home       cloudy  ...   \n",
       "10   Mike McCarthy     Mike Zimmer       Home       cloudy  ...   \n",
       "12        John Fox     Hue Jackson       Home       cloudy  ...   \n",
       "14    Marvin Lewis    Jim Caldwell       Home       cloudy  ...   \n",
       "16   Mike Mularkey      Sean McVay       Home       cloudy  ...   \n",
       "18       Andy Reid       Adam Gase       Home       cloudy  ...   \n",
       "20  Bill Belichick  Sean McDermott       Home       cloudy  ...   \n",
       "22     Sean Payton       Dan Quinn       Home        sunny  ...   \n",
       "24     Todd Bowles    Anthony Lynn       Home       cloudy  ...   \n",
       "26      Jay Gruden    Vance Joseph       Home       cloudy  ...   \n",
       "27      Ron Rivera    Dirk Koetter       Home       cloudy  ...   \n",
       "29   Kyle Shanahan    Doug Marrone       Home       cloudy  ...   \n",
       "31     Hue Jackson    Marvin Lewis       Home        sunny  ...   \n",
       "33   Jason Garrett      Sean McVay       Home       cloudy  ...   \n",
       "35     Mike Zimmer    Jim Caldwell       Home       indoor  ...   \n",
       "37  Bill Belichick      Ron Rivera       Home        sunny  ...   \n",
       "\n",
       "             location_y  attendance  capacity people  attendance_info  month  \\\n",
       "0      Jacksonville, FL     60720.0     67858   89.0                1     11   \n",
       "2           Atlanta, GA     71273.0     75000   95.0                1     10   \n",
       "4                London     84423.0     86000   98.0                1     10   \n",
       "6         Green Bay, WI     78362.0     81041   97.0                1      9   \n",
       "8         Baltimore, MD     70590.0     70745  100.0                1     12   \n",
       "10        Green Bay, WI     78092.0     81041   96.0                1     12   \n",
       "12          Chicago, IL     58796.0     61500   96.0                1     12   \n",
       "14       Cincinnati, OH     47732.0     65515   73.0                1     12   \n",
       "16        Nashville, TN     60097.0     69143   87.0                1     12   \n",
       "18      Kansas City, MO     65325.0     72936   90.0                1     12   \n",
       "20          Foxboro, MA     65878.0     65878  100.0                1     12   \n",
       "22      New Orleans, LA     73188.0     73000  100.0                1     12   \n",
       "24  East Rutherford, NJ     77562.0     82500   94.0                1     12   \n",
       "26         Landover, MD     72889.0     67617  100.0                1     12   \n",
       "27        Charlotte, NC     71463.0     73778   97.0                1     12   \n",
       "29      Santa Clara, CA     70133.0     68500  100.0                1     12   \n",
       "31        Cleveland, OH     67431.0     67431  100.0                1     10   \n",
       "33        Arlington, TX     91869.0    100000   92.0                1     10   \n",
       "35      Minneapolis, MN     66730.0     66468  100.0                1     10   \n",
       "37          Foxboro, MA     65878.0     65878  100.0                1     10   \n",
       "\n",
       "    dayofmonth  dayofweek  hour  minute  \n",
       "0            5          6    18       0  \n",
       "2            1          6    17       0  \n",
       "4            1          6    13      30  \n",
       "6           29          4     0      25  \n",
       "8           23          5    21      30  \n",
       "10          24          6     1      30  \n",
       "12          24          6    18       0  \n",
       "14          24          6    18       0  \n",
       "16          24          6    18       0  \n",
       "18          24          6    18       0  \n",
       "20          24          6    18       0  \n",
       "22          24          6    18       0  \n",
       "24          24          6    18       0  \n",
       "26          24          6    18       0  \n",
       "27          24          6    18       0  \n",
       "29          24          6    21       5  \n",
       "31           1          6    17       0  \n",
       "33           1          6    17       0  \n",
       "35           1          6    17       0  \n",
       "37           1          6    17       0  \n",
       "\n",
       "[20 rows x 76 columns]"
      ]
     },
     "execution_count": 13,
     "metadata": {},
     "output_type": "execute_result"
    }
   ],
   "source": [
    "df.head(20)"
   ]
  },
  {
   "cell_type": "code",
   "execution_count": 14,
   "metadata": {},
   "outputs": [],
   "source": [
    "from sklearn.model_selection import train_test_split\n",
    "from sklearn.pipeline import Pipeline\n",
    "from sklearn.impute import SimpleImputer\n",
    "from sklearn.preprocessing import StandardScaler\n",
    "from sklearn.preprocessing import OneHotEncoder\n",
    "from sklearn.compose import ColumnTransformer\n",
    "from sklearn.linear_model import LogisticRegression\n",
    "from sklearn.tree import DecisionTreeClassifier\n",
    "from sklearn.ensemble import RandomForestClassifier\n",
    "from sklearn.metrics import accuracy_score\n",
    "import numpy as np\n",
    "import plotly.express as px"
   ]
  },
  {
   "cell_type": "markdown",
   "metadata": {},
   "source": [
    "First Random Forest (without params)"
   ]
  },
  {
   "cell_type": "code",
   "execution_count": 15,
   "metadata": {},
   "outputs": [
    {
     "name": "stdout",
     "output_type": "stream",
     "text": [
      "Accuracy on training set :  1.0\n",
      "Accuracy on test set :  0.5310077519379846\n"
     ]
    }
   ],
   "source": [
    "Y = df.loc[:,\"winner_home\"]\n",
    "X = df.loc[:,[c for c in df.columns if c!=\"winner_home\"]]\n",
    "\n",
    "X_train, X_test, Y_train, Y_test = train_test_split(X, Y, test_size=0.2, random_state=0, stratify= Y)\n",
    "\n",
    "# select automatically the numerical and categorical columns\n",
    "num_col = X.select_dtypes([np.number]).columns\n",
    "cat_col = X.select_dtypes(\"object\").columns\n",
    "\n",
    "# Create pipeline for numeric features\n",
    "numeric_features = X.select_dtypes([np.number]).columns \n",
    "numeric_transformer = Pipeline(steps=[\n",
    "    ('imputer', SimpleImputer(strategy='mean')), # missing values in Age will be replaced by columns' mean\n",
    "    ('scaler', StandardScaler())])\n",
    "\n",
    "# Create pipeline for categorical features\n",
    "categorical_features = X.select_dtypes(\"object\").columns \n",
    "categorical_transformer = Pipeline(\n",
    "    steps=[\n",
    "    ('imputer', SimpleImputer(strategy='most_frequent')), # missing values will be replaced by most frequent value\n",
    "    ('encoder', OneHotEncoder(drop='first')) # first column will be dropped to avoid creating correlations between features\n",
    "    ])\n",
    "\n",
    "# Use ColumnTranformer to make a preprocessor object that describes all the treatments to be done\n",
    "preprocessor = ColumnTransformer(\n",
    "    transformers=[\n",
    "        ('num', numeric_transformer, numeric_features),\n",
    "        ('cat', categorical_transformer, categorical_features)\n",
    "    ])\n",
    "\n",
    "X_train = preprocessor.fit_transform(X_train)\n",
    "X_test = preprocessor.transform(X_test)\n",
    "\n",
    "model = RandomForestClassifier()\n",
    "\n",
    "model.fit(X_train, Y_train)\n",
    "\n",
    "Y_train_pred = model.predict(X_train)\n",
    "Y_test_pred = model.predict(X_test)\n",
    "\n",
    "print(\"Accuracy on training set : \", accuracy_score(Y_train, Y_train_pred))\n",
    "print(\"Accuracy on test set : \", accuracy_score(Y_test, Y_test_pred))"
   ]
  },
  {
   "cell_type": "markdown",
   "metadata": {},
   "source": [
    "Grid Search"
   ]
  },
  {
   "cell_type": "code",
   "execution_count": 16,
   "metadata": {},
   "outputs": [
    {
     "name": "stdout",
     "output_type": "stream",
     "text": [
      "Grid search...\n",
      "...Done.\n",
      "Best hyperparameters :  {'max_depth': 4, 'min_samples_leaf': 5, 'min_samples_split': 2, 'n_estimators': 60}\n",
      "Best validation accuracy :  0.5955208479902442\n"
     ]
    }
   ],
   "source": [
    "from sklearn.model_selection import GridSearchCV\n",
    "\n",
    "# Perform grid search\n",
    "print(\"Grid search...\")\n",
    "rf = RandomForestClassifier()\n",
    "\n",
    "# Grid of values to be tested\n",
    "params = {\n",
    "    'max_depth': [2, 4, 6, 8, 10],\n",
    "    'min_samples_leaf': [1, 2, 5],\n",
    "    'min_samples_split': [2, 4, 8],\n",
    "    'n_estimators': [10, 20, 40, 60, 80, 100]\n",
    "}\n",
    "gridsearch = GridSearchCV(rf, param_grid = params,\n",
    "                          cv = 5, return_train_score = True) # cv : the number of folds to be used for CV\n",
    "gridsearch.fit(X_train, Y_train)\n",
    "print(\"...Done.\")\n",
    "print(\"Best hyperparameters : \", gridsearch.best_params_)\n",
    "print(\"Best validation accuracy : \", gridsearch.best_score_)"
   ]
  },
  {
   "cell_type": "code",
   "execution_count": 17,
   "metadata": {},
   "outputs": [
    {
     "name": "stdout",
     "output_type": "stream",
     "text": [
      "Predictions on training set...\n",
      "...Done.\n",
      "Probabilities on training set...\n",
      "...Done.\n"
     ]
    }
   ],
   "source": [
    "# Predictions on training set\n",
    "print(\"Predictions on training set...\")\n",
    "Y_train_pred = gridsearch.predict(X_train)\n",
    "print(\"...Done.\")\n",
    "\n",
    "# It's also possible to get the probabilities estimated by the model:\n",
    "print(\"Probabilities on training set...\")\n",
    "Y_train_proba = gridsearch.predict_proba(X_train)\n",
    "print(\"...Done.\")\n"
   ]
  },
  {
   "cell_type": "code",
   "execution_count": 18,
   "metadata": {},
   "outputs": [
    {
     "name": "stdout",
     "output_type": "stream",
     "text": [
      "Predictions on test set...\n",
      "...Done.\n",
      "Probabilities on test set...\n",
      "...Done.\n"
     ]
    }
   ],
   "source": [
    "# Predictions on test set\n",
    "print(\"Predictions on test set...\")\n",
    "Y_test_pred = gridsearch.predict(X_test)\n",
    "print(\"...Done.\")\n",
    "\n",
    "# It's also possible to get the probabilities estimated by the model:\n",
    "print(\"Probabilities on test set...\")\n",
    "Y_test_proba = gridsearch.predict_proba(X_test)\n",
    "print(\"...Done.\")\n"
   ]
  },
  {
   "cell_type": "code",
   "execution_count": 19,
   "metadata": {},
   "outputs": [
    {
     "name": "stdout",
     "output_type": "stream",
     "text": [
      "accuracy on training set :  0.6915615906886518\n",
      "accuracy on test set :  0.5310077519379846\n",
      "\n"
     ]
    }
   ],
   "source": [
    "# Print scores\n",
    "print(\"accuracy on training set : \", accuracy_score(Y_train, Y_train_pred))\n",
    "print(\"accuracy on test set : \", accuracy_score(Y_test, Y_test_pred))\n",
    "print()"
   ]
  },
  {
   "cell_type": "markdown",
   "metadata": {},
   "source": [
    "Features importances"
   ]
  },
  {
   "cell_type": "code",
   "execution_count": 20,
   "metadata": {},
   "outputs": [],
   "source": [
    "column_names = []\n",
    "for name, step, features_list in preprocessor.transformers_: # loop over steps of ColumnTransformer\n",
    "    if name == 'num': # if pipeline is for numeric variables\n",
    "        features = features_list # just get the names of columns to which it has been applied\n",
    "    else: # if pipeline is for categorical variables\n",
    "        features = step.get_feature_names_out() # get output columns names from OneHotEncoder\n",
    "    column_names.extend(features) # concatenate features names\n",
    "        \n",
    "# print(\"Names of columns corresponding to each coefficient: \", column_names)"
   ]
  },
  {
   "cell_type": "code",
   "execution_count": 21,
   "metadata": {},
   "outputs": [],
   "source": [
    "# Create a pandas DataFrame\n",
    "feature_importance = pd.DataFrame(index = column_names, data = model.feature_importances_, columns=[\"feature_importances\"])\n",
    "feature_importance = feature_importance.sort_values(by = 'feature_importances')"
   ]
  },
  {
   "cell_type": "code",
   "execution_count": 22,
   "metadata": {},
   "outputs": [
    {
     "data": {
      "application/vnd.plotly.v1+json": {
       "config": {
        "plotlyServerURL": "https://plot.ly"
       },
       "data": [
        {
         "alignmentgroup": "True",
         "hovertemplate": "variable=feature_importances<br>value=%{x}<br>index=%{y}<extra></extra>",
         "legendgroup": "feature_importances",
         "marker": {
          "color": "#636efa"
         },
         "name": "feature_importances",
         "offsetgroup": "feature_importances",
         "orientation": "h",
         "showlegend": true,
         "textposition": "auto",
         "type": "bar",
         "x": [
          0,
          0,
          0,
          0.0000039914085994530525,
          0.000008899102860811258,
          0.000014476504871294727,
          0.000023324026526407514,
          0.000026476515728346668,
          0.000027686097789190556,
          0.000029042743708280467,
          0.000035326124199936956,
          0.000036347721329771585,
          0.0000609129479592946,
          0.00006325882469744431,
          0.00006325926622270648,
          0.00006825746657077954,
          0.00007239651759483901,
          0.00007363092725420807,
          0.00008344064966007235,
          0.0000852797766764353,
          0.00009545760304518093,
          0.00009602587923747065,
          0.00009905811570337279,
          0.00013226875740089672,
          0.00013515510660970859,
          0.00013540312362527178,
          0.00013807707089476953,
          0.00013849951191219657,
          0.0001496394687127244,
          0.00014996988220679233,
          0.00015024278306446077,
          0.0001570561490212187,
          0.0001588356496595928,
          0.00016089078699302003,
          0.0001648815340057009,
          0.00016614819141744604,
          0.00016791341594599786,
          0.00017000493139219177,
          0.0001731375148739668,
          0.00017668759484908148,
          0.00017817032579351764,
          0.00018471854518219686,
          0.00018602224618394719,
          0.0001956732209502772,
          0.0002030845590715461,
          0.0002114408974782668,
          0.00021346572725508157,
          0.0002143271528788573,
          0.00021746652880227517,
          0.00022800966203960675,
          0.00022815522442299566,
          0.0002298646812257081,
          0.00023019082514550833,
          0.00023164537822922487,
          0.00024325312240489248,
          0.0002456273587818148,
          0.0002514732165446228,
          0.00025324188073806817,
          0.00025405662709048415,
          0.00025854901121678006,
          0.00026000705420928147,
          0.00026162713032172954,
          0.00027050595398264276,
          0.00027624019772431503,
          0.0002802891463055376,
          0.00028335746119984565,
          0.0002855977024422548,
          0.00028970787368376433,
          0.0002903629586923422,
          0.0002919835583000397,
          0.000294387560670118,
          0.00030035713457334456,
          0.0003343163094574036,
          0.00033977603043584175,
          0.00034266245563081924,
          0.00035221282093239885,
          0.00035890777730218475,
          0.000368914853343494,
          0.00037157853501020797,
          0.00037381952944197833,
          0.0003755364097753595,
          0.0003772241033669101,
          0.00038457989485290306,
          0.0003850835673854103,
          0.0003898227672835088,
          0.00039131249720372594,
          0.00040882699439209606,
          0.00041047955815743374,
          0.00041630043364164373,
          0.0004171969027267632,
          0.0004220561598842375,
          0.00042597036770547215,
          0.00043880752222707255,
          0.00045112647588267093,
          0.0004573627769183038,
          0.00046597387703104924,
          0.0004667408082338769,
          0.0004769798128315924,
          0.0004812306813955362,
          0.0004822701756586611,
          0.00048318777342046157,
          0.00048351979545787585,
          0.00048415356706557714,
          0.00048455693742634795,
          0.0004872800844985601,
          0.0004918623722477059,
          0.0004971830695609734,
          0.0004999613035536061,
          0.0005089288491966655,
          0.0005171738486670905,
          0.0005186805328571591,
          0.0005202904679632104,
          0.0005309795478418878,
          0.0005333364856718391,
          0.0005338338195182415,
          0.0005377643635450219,
          0.0005400765989995149,
          0.0005454529884523115,
          0.000555990902972099,
          0.0005649203285806561,
          0.0005709710300521631,
          0.0005776811824795794,
          0.0005795133377014196,
          0.0005816989762162381,
          0.0005821741029337349,
          0.0005825693300156378,
          0.0005825956651107588,
          0.0005887308605992967,
          0.0005966327453214755,
          0.0006000294085414648,
          0.0006028056652319318,
          0.0006040195787958958,
          0.0006064232586445018,
          0.0006134053876718532,
          0.0006218057600459261,
          0.0006235481135105831,
          0.0006315715154314991,
          0.000634810888138122,
          0.0006514641674694416,
          0.0006515311861064064,
          0.0006547456825238383,
          0.0006548810921027425,
          0.0006566612993715959,
          0.0006598552321707562,
          0.000663254528883887,
          0.0006780340299254553,
          0.0006791826037058337,
          0.0006792829638496248,
          0.0006843074280075815,
          0.0006924521319630236,
          0.0006926502167641569,
          0.0006933294830335403,
          0.0006943013336147388,
          0.000694718257803202,
          0.0007003407470238302,
          0.0007045685574703092,
          0.0007054013640789388,
          0.0007058074312781944,
          0.0007125440170025224,
          0.0007130632354073209,
          0.0007136733472785181,
          0.0007173005558324455,
          0.0007195327647727261,
          0.0007236990486421313,
          0.0007338811002833933,
          0.0007359823014536835,
          0.0007450014625187848,
          0.0007521754353621413,
          0.0007580124236804511,
          0.0007630732729527524,
          0.0007659411764152753,
          0.0007695776290151896,
          0.0007708354562035288,
          0.0007775593478549138,
          0.0007837742113155336,
          0.000789595750762534,
          0.0007920397482838554,
          0.0008162511036326277,
          0.0008183973897779293,
          0.0008185443903062362,
          0.0008258523280432015,
          0.0008297592970216914,
          0.0008383575650696222,
          0.0008389535574675626,
          0.0008398765958593367,
          0.0008431603432279383,
          0.0008448194086373439,
          0.0008456161948391541,
          0.0008509608754799915,
          0.0008593912264354439,
          0.0008633615386943341,
          0.0008635678370038154,
          0.0008637315232542708,
          0.000867515756272714,
          0.0008683819043488903,
          0.0008726977898023533,
          0.000873516003015649,
          0.0008843797567198136,
          0.000891050267687447,
          0.000893685400428747,
          0.0008999554042666933,
          0.0009032816481706837,
          0.0009066322469853766,
          0.000916071628532441,
          0.0009164776040122977,
          0.0009222253297069049,
          0.0009224021577644914,
          0.0009266849907615819,
          0.0009286472988337085,
          0.000929457329154676,
          0.0009316569713423246,
          0.0009396074021122526,
          0.000963237578126991,
          0.0009633655924938152,
          0.0009649620951646102,
          0.0009732688487048468,
          0.0009750589483562707,
          0.000981608256999706,
          0.0009859609819963516,
          0.0009863411512690227,
          0.0009891800938226193,
          0.0009915283703678392,
          0.0009986097444573288,
          0.0010023044063586378,
          0.0010048467579522485,
          0.0010113486527303557,
          0.0010134751008854625,
          0.0010138442774167515,
          0.0010156929183539195,
          0.001019102572351064,
          0.001023562462405095,
          0.0010247803537524586,
          0.0010312067215367815,
          0.001035774894477857,
          0.0010409864853710663,
          0.0010507072435252957,
          0.0010519285964706027,
          0.0010573965519400169,
          0.001076539703430997,
          0.0010902743534512806,
          0.0011040026231308418,
          0.0011044210714292858,
          0.0011076985370720967,
          0.0011243180843688379,
          0.0011299916774018244,
          0.001143786672740468,
          0.0011546979957627553,
          0.0011558261528690306,
          0.0011606044755880186,
          0.0011610301103486948,
          0.0012025367369172695,
          0.0012060563200145635,
          0.0012077185051951585,
          0.0012086644386668146,
          0.0012101028476540683,
          0.0012230033715504905,
          0.0012469342754280667,
          0.0012683493539735764,
          0.0012736126707747796,
          0.0013049827111742142,
          0.0013079429543560418,
          0.0013110450426046805,
          0.0013379280475781664,
          0.0013476804715746376,
          0.0013737635758028508,
          0.001375782528563191,
          0.0014222110472857266,
          0.0014319913223558457,
          0.0014526782743931829,
          0.0015435236423739346,
          0.0015443537725037882,
          0.0016011078687482264,
          0.0016078047513312002,
          0.0016536423947364123,
          0.0017076676788670055,
          0.0017278202642159787,
          0.0017946123018997243,
          0.0018330124620935646,
          0.001844588557976871,
          0.0018614454882272945,
          0.0018704252242204098,
          0.0019235981679116274,
          0.0019608367908272094,
          0.001972213414073062,
          0.0019874636507152435,
          0.0020114560582617114,
          0.002066262795089652,
          0.0023250326664602376,
          0.0023601171937538924,
          0.0023883403886058277,
          0.002408090236742482,
          0.0028103818582731477,
          0.0029964062501961607,
          0.0031383116430930163,
          0.0032008025209814667,
          0.003599967940640722,
          0.0037463701929737092,
          0.004172419640407455,
          0.004610108706409285,
          0.0049659936171375955,
          0.005174735294082914,
          0.005637632772289413,
          0.006159856809970819,
          0.006308440853788732,
          0.007304564384499204,
          0.007804932906302512,
          0.008035671842857833,
          0.008074276324831741,
          0.008143246653320396,
          0.009018541954755661,
          0.009291974319845877,
          0.009343533969002785,
          0.009368572049856458,
          0.00988414155843946,
          0.009931451162176086,
          0.010179160564684651,
          0.010522708512608099,
          0.010589302097350057,
          0.011498493095930963,
          0.011634837392519512,
          0.012103418074300534,
          0.01227059859472055,
          0.012272981419895523,
          0.012428084936389899,
          0.012458744410793506,
          0.01246984166271051,
          0.012826540345828941,
          0.013064271590768959,
          0.013133077251272328,
          0.01322785146441406,
          0.01333256506265884,
          0.013355686161650629,
          0.013397864479227422,
          0.013430159690733396,
          0.013485872780038727,
          0.01353383512413898,
          0.013931657530921635,
          0.014490114729210862,
          0.014538373941639341,
          0.014827154529496378,
          0.01487124861861578,
          0.01488466881369347,
          0.014913208736955374,
          0.014988017687901227,
          0.015016210255582247,
          0.015023597090449543,
          0.015122737668606286,
          0.015366950027638366,
          0.015380498922879156,
          0.015491840589921636,
          0.015542169351488309,
          0.015670675726454645,
          0.015825531432307537,
          0.015926965827744756,
          0.016280321231410922,
          0.01676466256707298,
          0.016963656899635384,
          0.018116973783167723,
          0.018176330534634383,
          0.019068161938160674
         ],
         "xaxis": "x",
         "y": [
          "away_coach_Steve Spagnuolo",
          "team_Titans",
          "stade_Estadio Azteca",
          "home_coach_Mike Mularkey",
          "away_coach_Urban Meyer",
          "home_coach_Joe Philbin",
          "away_coach_Chuck Pagano",
          "away_coach_Darrell Bevell",
          "home_coach_Rich Bisaccia",
          "stade_Tottenham Hotspur Stadium",
          "away_coach_Joe Philbin",
          "weather_type_fog",
          "home_coach_Brandon Staley",
          "away_coach_Steve Wilks",
          "team_Washington",
          "stade_Twickenham Stadium",
          "home_coach_Bill Callahan",
          "home_coach_Gregg Williams",
          "home_coach_Ben McAdoo",
          "home_coach_Steve Spagnuolo",
          "location_y_Mexico City",
          "weather_type_snow",
          "home_coach_Jack Del Rio",
          "away_coach_Arthur Smith",
          "home_coach_Raheem Morris",
          "team_Steelers",
          "home_coach_Matt LaFleur",
          "home_coach_Darrell Bevell",
          "away_coach_Marvin Lewis",
          "away_coach_Freddie Kitchens",
          "away_coach_Jack Del Rio",
          "home_coach_John Fox",
          "home_coach_Dan Campbell",
          "away_coach_Brandon Staley",
          "away_coach_Romeo Crennel",
          "home_coach_Arthur Smith",
          "hometeam_Bengals",
          "away_coach_Gregg Williams",
          "away_coach_Bill Callahan",
          "stade_Wembley Stadium",
          "away_coach_Jim Caldwell",
          "home_coach_Robert Saleh",
          "away_coach_Dan Campbell",
          "away_coach_Brian Flores",
          "away_coach_Rich Bisaccia",
          "home_coach_Nick Sirianni",
          "location_y_Las Vegas, NV",
          "team_Raiders",
          "away_coach_Nick Sirianni",
          "away_coach_David Culley",
          "home_coach_Urban Meyer",
          "home_coach_Matt Rhule",
          "home_coach_Jason Garrett",
          "home_coach_Joe Judge",
          "home_coach_Dirk Koetter",
          "team_Patriots",
          "home_coach_Romeo Crennel",
          "team_Vikings",
          "away_coach_John Fox",
          "away_coach_Matt Rhule",
          "home_coach_Kevin Stefanski",
          "away_coach_Robert Saleh",
          "away_coach_Mike Mularkey",
          "away_coach_Raheem Morris",
          "location_y_Chicago, IL",
          "away_coach_Pat Shurmur",
          "home_coach_Freddie Kitchens",
          "hometeam_Patriots",
          "away_coach_Bill O'Brien",
          "away_coach_Jon Gruden",
          "location_x_Neutral",
          "home_coach_Marvin Lewis",
          "weather_type_fair",
          "stade_Bank of America Stadium",
          "hometeam_Vikings",
          "away_coach_Vic Fangio",
          "stade_Empower Field at Mile High",
          "team_Texans",
          "team_Jets",
          "home_coach_Mike McCarthy",
          "location_y_Indianapolis, IN",
          "team_Seahawks",
          "away_coach_Todd Bowles",
          "home_coach_Brian Flores",
          "stade_Lumen Field",
          "team_Saints",
          "home_coach_Jim Caldwell",
          "hometeam_Browns",
          "stade_Allegiant Stadium",
          "location_y_Oakland, CA",
          "away_coach_Jay Gruden",
          "home_coach_Vic Fangio",
          "hometeam_Bears",
          "home_coach_David Culley",
          "location_y_London",
          "stade_Hard Rock Stadium",
          "away_coach_Matt Patricia",
          "location_y_Minneapolis, MN",
          "location_y_Los Angeles, CA",
          "home_coach_Doug Pederson",
          "hometeam_Eagles",
          "stade_Los Angeles Memorial Coliseum",
          "stade_NRG Stadium",
          "away_coach_Dirk Koetter",
          "home_coach_Matt Nagy",
          "stade_Dignity Health Sports Park",
          "away_coach_Joe Judge",
          "away_coach_Kliff Kingsbury",
          "stade_Oakland Coliseum",
          "home_coach_Frank Reich",
          "away_coach_Ben McAdoo",
          "location_y_Tampa, FL",
          "team_Giants",
          "home_coach_Mike Zimmer",
          "stade_Soldier Field",
          "home_coach_Dan Quinn",
          "home_coach_Jay Gruden",
          "hometeam_Chargers",
          "home_coach_Pete Carroll",
          "team_Rams",
          "stade_Caesars Superdome",
          "location_y_Inglewood, CA",
          "team_Bears",
          "team_Packers",
          "hometeam_Panthers",
          "stade_Raymond James Stadium",
          "location_y_Philadelphia, PA",
          "hometeam_Falcons",
          "team_Ravens",
          "home_coach_Vance Joseph",
          "stade_U.S. Bank Stadium",
          "away_coach_Pete Carroll",
          "awayteam_Dolphins",
          "home_coach_Sean McDermott",
          "home_coach_Mike Vrabel",
          "location_y_Charlotte, NC",
          "hometeam_Titans",
          "team_Chargers",
          "location_y_Denver, CO",
          "stade_Paycor Stadium",
          "team_Eagles",
          "location_y_Carson, CA",
          "home_coach_Bruce Arians",
          "home_coach_Anthony Lynn",
          "hometeam_Seahawks",
          "home_coach_Bill O'Brien",
          "awayteam_Falcons",
          "hometeam_Texans",
          "hometeam_Saints",
          "location_y_Baltimore, MD",
          "location_y_Nashville, TN",
          "away_coach_Vance Joseph",
          "location_y_Cleveland, OH",
          "home_coach_Bill Belichick",
          "hometeam_Bills",
          "away_coach_Kevin Stefanski",
          "awayteam_Buccaneers",
          "home_coach_Matt Patricia",
          "location_y_Orchard Park, NY",
          "team_Dolphins",
          "team_Falcons",
          "stade_Highmark Stadium",
          "team_Jaguars",
          "away_coach_Mike Vrabel",
          "away_coach_Doug Marrone",
          "away_coach_Jason Garrett",
          "team_Lions",
          "stade_Lincoln Financial Field",
          "awayteam_Panthers",
          "away_coach_Matt Nagy",
          "away_coach_Bruce Arians",
          "location_y_Cincinnati, OH",
          "awayteam_Eagles",
          "kicks_return_td_MA_5",
          "stade_Lucas Oil Stadium",
          "home_coach_John Harbaugh",
          "location_y_Miami Gardens, FL",
          "home_coach_Ron Rivera",
          "hometeam_Broncos",
          "stade_Gillette Stadium",
          "home_coach_Todd Bowles",
          "awayteam_Colts",
          "stade_Levi's Stadium",
          "away_coach_Mike McCarthy",
          "stade_SoFi Stadium",
          "location_y_New Orleans, LA",
          "awayteam_Ravens",
          "hometeam_Buccaneers",
          "stade_FirstEnergy Stadium",
          "away_coach_Hue Jackson",
          "awayteam_Bears",
          "team_Buccaneers",
          "away_coach_Dan Quinn",
          "home_coach_Jon Gruden",
          "away_coach_Sean McDermott",
          "location_y_Landover, MD",
          "awayteam_Texans",
          "team_Browns",
          "hometeam_Cowboys",
          "awayteam_Giants",
          "hometeam_Dolphins",
          "away_coach_Doug Pederson",
          "home_coach_Sean Payton",
          "awayteam_Broncos",
          "home_coach_Steve Wilks",
          "team_Colts",
          "team_Chiefs",
          "home_coach_Pat Shurmur",
          "location_y_Santa Clara, CA",
          "home_coach_Hue Jackson",
          "team_Cowboys",
          "awayteam_Titans",
          "weather_type_rain",
          "home_coach_Zac Taylor",
          "team_Bengals",
          "home_coach_Chuck Pagano",
          "awayteam_Cowboys",
          "hometeam_Raiders",
          "stade_Nissan Stadium",
          "awayteam_Cardinals",
          "away_coach_Anthony Lynn",
          "away_coach_John Harbaugh",
          "location_y_Atlanta, GA",
          "attendance_info",
          "home_coach_Kyle Shanahan",
          "location_y_Seattle, WA",
          "awayteam_Vikings",
          "hometeam_Rams",
          "away_coach_Frank Reich",
          "away_coach_Ron Rivera",
          "home_coach_Kliff Kingsbury",
          "home_coach_Mike Tomlin",
          "hometeam_Colts",
          "location_y_Foxboro, MA",
          "hometeam_Cardinals",
          "location_y_Pittsburgh, PA",
          "stade_M&T Bank Stadium",
          "location_y_Houston, TX",
          "awayteam_Steelers",
          "stade_Acrisure Stadium",
          "away_coach_Zac Taylor",
          "awayteam_Raiders",
          "awayteam_Chargers",
          "hometeam_Ravens",
          "hometeam_Giants",
          "team_Broncos",
          "weather_type_indoor",
          "away_coach_Mike Zimmer",
          "awayteam_Lions",
          "team_Panthers",
          "hometeam_Steelers",
          "stade_Ford Field",
          "team_Cardinals",
          "awayteam_Seahawks",
          "awayteam_Bills",
          "punt_return_td_MA_5",
          "stade_Mercedes-Benz Stadium",
          "team_Bills",
          "location_y_Green Bay, WI",
          "home_coach_Sean McVay",
          "stade_TIAA Bank Field",
          "location_y_Jacksonville, FL",
          "away_coach_Mike Tomlin",
          "stade_FedExField",
          "awayteam_Washington",
          "home_coach_Doug Marrone",
          "hometeam_Jaguars",
          "awayteam_Packers",
          "awayteam_Browns",
          "hometeam_Jets",
          "awayteam_Patriots",
          "hometeam_Chiefs",
          "away_coach_Bill Belichick",
          "hometeam_Washington",
          "location_y_Kansas City, MO",
          "stade_State Farm Stadium",
          "hometeam_Lions",
          "awayteam_Bengals",
          "away_coach_Kyle Shanahan",
          "hometeam_Packers",
          "location_y_Glendale, AZ",
          "awayteam_Jaguars",
          "home_coach_Andy Reid",
          "away_coach_Sean McVay",
          "stade_Lambeau Field",
          "stade_GEHA Field at Arrowhead Stadium",
          "awayteam_Jets",
          "location_y_East Rutherford, NJ",
          "awayteam_Rams",
          "weather_type_sunny",
          "away_coach_Matt LaFleur",
          "away_coach_Sean Payton",
          "awayteam_Chiefs",
          "location_y_Detroit, MI",
          "stade_MetLife Stadium",
          "defense_td_MA_5",
          "interceptions_td_MA_5",
          "awayteam_Saints",
          "dayofweek",
          "season",
          "away_coach_Andy Reid",
          "punting_tb_MA_5",
          "minute",
          "month",
          "pass_td_MA_5",
          "hour",
          "rush_td_MA_5",
          "fumbles_MA_5",
          "fumbles_lost_MA_5",
          "fumbles_rec_MA_5",
          "rec_td_MA_5",
          "punting_in_20_MA_5",
          "interceptions_MA_5",
          "kicks_return_no_MA_5",
          "punt_return_no_MA_5",
          "punting_no_MA_5",
          "kicking_pct_MA_5",
          "defense_sacks_MA_5",
          "pass_int_MA_5",
          "interceptions_yds_MA_5",
          "week",
          "wind",
          "punting_long_MA_5",
          "punt_return_yds_MA_5",
          "people",
          "rush_car_MA_5",
          "defense_qb_hits_MA_5",
          "defense_solo_MA_5",
          "capacity",
          "defense_tfl_MA_5",
          "punting_avg_MA_5",
          "pass_avg_MA_5",
          "defense_tot_MA_5",
          "kicking_pts_MA_5",
          "punt_return_avg_MA_5",
          "rush_long_MA_5",
          "rush_yds_MA_5",
          "punt_return_long_MA_5",
          "kicks_return_yds_MA_5",
          "kicks_return_long_MA_5",
          "temperature",
          "kicks_return_avg_MA_5",
          "rec_long_MA_5",
          "defense_pd_MA_5",
          "punting_yds_MA_5",
          "kicking_long_MA_5",
          "receptions_MA_5",
          "rec_yds_MA_5",
          "qbr_MA_5",
          "rtg_MA_5",
          "humidity",
          "rec_tgs_MA_5",
          "rush_avg_MA_5",
          "dayofmonth",
          "pass_completion_MA_5",
          "sacks_MA_5",
          "rec_avg_MA_5",
          "idgame",
          "attendance",
          "pass_yds_MA_5"
         ],
         "yaxis": "y"
        }
       ],
       "layout": {
        "barmode": "relative",
        "legend": {
         "title": {
          "text": "variable"
         },
         "tracegroupgap": 0
        },
        "margin": {
         "l": 120,
         "t": 60
        },
        "showlegend": false,
        "template": {
         "data": {
          "bar": [
           {
            "error_x": {
             "color": "#2a3f5f"
            },
            "error_y": {
             "color": "#2a3f5f"
            },
            "marker": {
             "line": {
              "color": "#E5ECF6",
              "width": 0.5
             }
            },
            "type": "bar"
           }
          ],
          "barpolar": [
           {
            "marker": {
             "line": {
              "color": "#E5ECF6",
              "width": 0.5
             }
            },
            "type": "barpolar"
           }
          ],
          "carpet": [
           {
            "aaxis": {
             "endlinecolor": "#2a3f5f",
             "gridcolor": "white",
             "linecolor": "white",
             "minorgridcolor": "white",
             "startlinecolor": "#2a3f5f"
            },
            "baxis": {
             "endlinecolor": "#2a3f5f",
             "gridcolor": "white",
             "linecolor": "white",
             "minorgridcolor": "white",
             "startlinecolor": "#2a3f5f"
            },
            "type": "carpet"
           }
          ],
          "choropleth": [
           {
            "colorbar": {
             "outlinewidth": 0,
             "ticks": ""
            },
            "type": "choropleth"
           }
          ],
          "contour": [
           {
            "colorbar": {
             "outlinewidth": 0,
             "ticks": ""
            },
            "colorscale": [
             [
              0,
              "#0d0887"
             ],
             [
              0.1111111111111111,
              "#46039f"
             ],
             [
              0.2222222222222222,
              "#7201a8"
             ],
             [
              0.3333333333333333,
              "#9c179e"
             ],
             [
              0.4444444444444444,
              "#bd3786"
             ],
             [
              0.5555555555555556,
              "#d8576b"
             ],
             [
              0.6666666666666666,
              "#ed7953"
             ],
             [
              0.7777777777777778,
              "#fb9f3a"
             ],
             [
              0.8888888888888888,
              "#fdca26"
             ],
             [
              1,
              "#f0f921"
             ]
            ],
            "type": "contour"
           }
          ],
          "contourcarpet": [
           {
            "colorbar": {
             "outlinewidth": 0,
             "ticks": ""
            },
            "type": "contourcarpet"
           }
          ],
          "heatmap": [
           {
            "colorbar": {
             "outlinewidth": 0,
             "ticks": ""
            },
            "colorscale": [
             [
              0,
              "#0d0887"
             ],
             [
              0.1111111111111111,
              "#46039f"
             ],
             [
              0.2222222222222222,
              "#7201a8"
             ],
             [
              0.3333333333333333,
              "#9c179e"
             ],
             [
              0.4444444444444444,
              "#bd3786"
             ],
             [
              0.5555555555555556,
              "#d8576b"
             ],
             [
              0.6666666666666666,
              "#ed7953"
             ],
             [
              0.7777777777777778,
              "#fb9f3a"
             ],
             [
              0.8888888888888888,
              "#fdca26"
             ],
             [
              1,
              "#f0f921"
             ]
            ],
            "type": "heatmap"
           }
          ],
          "heatmapgl": [
           {
            "colorbar": {
             "outlinewidth": 0,
             "ticks": ""
            },
            "colorscale": [
             [
              0,
              "#0d0887"
             ],
             [
              0.1111111111111111,
              "#46039f"
             ],
             [
              0.2222222222222222,
              "#7201a8"
             ],
             [
              0.3333333333333333,
              "#9c179e"
             ],
             [
              0.4444444444444444,
              "#bd3786"
             ],
             [
              0.5555555555555556,
              "#d8576b"
             ],
             [
              0.6666666666666666,
              "#ed7953"
             ],
             [
              0.7777777777777778,
              "#fb9f3a"
             ],
             [
              0.8888888888888888,
              "#fdca26"
             ],
             [
              1,
              "#f0f921"
             ]
            ],
            "type": "heatmapgl"
           }
          ],
          "histogram": [
           {
            "marker": {
             "colorbar": {
              "outlinewidth": 0,
              "ticks": ""
             }
            },
            "type": "histogram"
           }
          ],
          "histogram2d": [
           {
            "colorbar": {
             "outlinewidth": 0,
             "ticks": ""
            },
            "colorscale": [
             [
              0,
              "#0d0887"
             ],
             [
              0.1111111111111111,
              "#46039f"
             ],
             [
              0.2222222222222222,
              "#7201a8"
             ],
             [
              0.3333333333333333,
              "#9c179e"
             ],
             [
              0.4444444444444444,
              "#bd3786"
             ],
             [
              0.5555555555555556,
              "#d8576b"
             ],
             [
              0.6666666666666666,
              "#ed7953"
             ],
             [
              0.7777777777777778,
              "#fb9f3a"
             ],
             [
              0.8888888888888888,
              "#fdca26"
             ],
             [
              1,
              "#f0f921"
             ]
            ],
            "type": "histogram2d"
           }
          ],
          "histogram2dcontour": [
           {
            "colorbar": {
             "outlinewidth": 0,
             "ticks": ""
            },
            "colorscale": [
             [
              0,
              "#0d0887"
             ],
             [
              0.1111111111111111,
              "#46039f"
             ],
             [
              0.2222222222222222,
              "#7201a8"
             ],
             [
              0.3333333333333333,
              "#9c179e"
             ],
             [
              0.4444444444444444,
              "#bd3786"
             ],
             [
              0.5555555555555556,
              "#d8576b"
             ],
             [
              0.6666666666666666,
              "#ed7953"
             ],
             [
              0.7777777777777778,
              "#fb9f3a"
             ],
             [
              0.8888888888888888,
              "#fdca26"
             ],
             [
              1,
              "#f0f921"
             ]
            ],
            "type": "histogram2dcontour"
           }
          ],
          "mesh3d": [
           {
            "colorbar": {
             "outlinewidth": 0,
             "ticks": ""
            },
            "type": "mesh3d"
           }
          ],
          "parcoords": [
           {
            "line": {
             "colorbar": {
              "outlinewidth": 0,
              "ticks": ""
             }
            },
            "type": "parcoords"
           }
          ],
          "pie": [
           {
            "automargin": true,
            "type": "pie"
           }
          ],
          "scatter": [
           {
            "marker": {
             "colorbar": {
              "outlinewidth": 0,
              "ticks": ""
             }
            },
            "type": "scatter"
           }
          ],
          "scatter3d": [
           {
            "line": {
             "colorbar": {
              "outlinewidth": 0,
              "ticks": ""
             }
            },
            "marker": {
             "colorbar": {
              "outlinewidth": 0,
              "ticks": ""
             }
            },
            "type": "scatter3d"
           }
          ],
          "scattercarpet": [
           {
            "marker": {
             "colorbar": {
              "outlinewidth": 0,
              "ticks": ""
             }
            },
            "type": "scattercarpet"
           }
          ],
          "scattergeo": [
           {
            "marker": {
             "colorbar": {
              "outlinewidth": 0,
              "ticks": ""
             }
            },
            "type": "scattergeo"
           }
          ],
          "scattergl": [
           {
            "marker": {
             "colorbar": {
              "outlinewidth": 0,
              "ticks": ""
             }
            },
            "type": "scattergl"
           }
          ],
          "scattermapbox": [
           {
            "marker": {
             "colorbar": {
              "outlinewidth": 0,
              "ticks": ""
             }
            },
            "type": "scattermapbox"
           }
          ],
          "scatterpolar": [
           {
            "marker": {
             "colorbar": {
              "outlinewidth": 0,
              "ticks": ""
             }
            },
            "type": "scatterpolar"
           }
          ],
          "scatterpolargl": [
           {
            "marker": {
             "colorbar": {
              "outlinewidth": 0,
              "ticks": ""
             }
            },
            "type": "scatterpolargl"
           }
          ],
          "scatterternary": [
           {
            "marker": {
             "colorbar": {
              "outlinewidth": 0,
              "ticks": ""
             }
            },
            "type": "scatterternary"
           }
          ],
          "surface": [
           {
            "colorbar": {
             "outlinewidth": 0,
             "ticks": ""
            },
            "colorscale": [
             [
              0,
              "#0d0887"
             ],
             [
              0.1111111111111111,
              "#46039f"
             ],
             [
              0.2222222222222222,
              "#7201a8"
             ],
             [
              0.3333333333333333,
              "#9c179e"
             ],
             [
              0.4444444444444444,
              "#bd3786"
             ],
             [
              0.5555555555555556,
              "#d8576b"
             ],
             [
              0.6666666666666666,
              "#ed7953"
             ],
             [
              0.7777777777777778,
              "#fb9f3a"
             ],
             [
              0.8888888888888888,
              "#fdca26"
             ],
             [
              1,
              "#f0f921"
             ]
            ],
            "type": "surface"
           }
          ],
          "table": [
           {
            "cells": {
             "fill": {
              "color": "#EBF0F8"
             },
             "line": {
              "color": "white"
             }
            },
            "header": {
             "fill": {
              "color": "#C8D4E3"
             },
             "line": {
              "color": "white"
             }
            },
            "type": "table"
           }
          ]
         },
         "layout": {
          "annotationdefaults": {
           "arrowcolor": "#2a3f5f",
           "arrowhead": 0,
           "arrowwidth": 1
          },
          "coloraxis": {
           "colorbar": {
            "outlinewidth": 0,
            "ticks": ""
           }
          },
          "colorscale": {
           "diverging": [
            [
             0,
             "#8e0152"
            ],
            [
             0.1,
             "#c51b7d"
            ],
            [
             0.2,
             "#de77ae"
            ],
            [
             0.3,
             "#f1b6da"
            ],
            [
             0.4,
             "#fde0ef"
            ],
            [
             0.5,
             "#f7f7f7"
            ],
            [
             0.6,
             "#e6f5d0"
            ],
            [
             0.7,
             "#b8e186"
            ],
            [
             0.8,
             "#7fbc41"
            ],
            [
             0.9,
             "#4d9221"
            ],
            [
             1,
             "#276419"
            ]
           ],
           "sequential": [
            [
             0,
             "#0d0887"
            ],
            [
             0.1111111111111111,
             "#46039f"
            ],
            [
             0.2222222222222222,
             "#7201a8"
            ],
            [
             0.3333333333333333,
             "#9c179e"
            ],
            [
             0.4444444444444444,
             "#bd3786"
            ],
            [
             0.5555555555555556,
             "#d8576b"
            ],
            [
             0.6666666666666666,
             "#ed7953"
            ],
            [
             0.7777777777777778,
             "#fb9f3a"
            ],
            [
             0.8888888888888888,
             "#fdca26"
            ],
            [
             1,
             "#f0f921"
            ]
           ],
           "sequentialminus": [
            [
             0,
             "#0d0887"
            ],
            [
             0.1111111111111111,
             "#46039f"
            ],
            [
             0.2222222222222222,
             "#7201a8"
            ],
            [
             0.3333333333333333,
             "#9c179e"
            ],
            [
             0.4444444444444444,
             "#bd3786"
            ],
            [
             0.5555555555555556,
             "#d8576b"
            ],
            [
             0.6666666666666666,
             "#ed7953"
            ],
            [
             0.7777777777777778,
             "#fb9f3a"
            ],
            [
             0.8888888888888888,
             "#fdca26"
            ],
            [
             1,
             "#f0f921"
            ]
           ]
          },
          "colorway": [
           "#636efa",
           "#EF553B",
           "#00cc96",
           "#ab63fa",
           "#FFA15A",
           "#19d3f3",
           "#FF6692",
           "#B6E880",
           "#FF97FF",
           "#FECB52"
          ],
          "font": {
           "color": "#2a3f5f"
          },
          "geo": {
           "bgcolor": "white",
           "lakecolor": "white",
           "landcolor": "#E5ECF6",
           "showlakes": true,
           "showland": true,
           "subunitcolor": "white"
          },
          "hoverlabel": {
           "align": "left"
          },
          "hovermode": "closest",
          "mapbox": {
           "style": "light"
          },
          "paper_bgcolor": "white",
          "plot_bgcolor": "#E5ECF6",
          "polar": {
           "angularaxis": {
            "gridcolor": "white",
            "linecolor": "white",
            "ticks": ""
           },
           "bgcolor": "#E5ECF6",
           "radialaxis": {
            "gridcolor": "white",
            "linecolor": "white",
            "ticks": ""
           }
          },
          "scene": {
           "xaxis": {
            "backgroundcolor": "#E5ECF6",
            "gridcolor": "white",
            "gridwidth": 2,
            "linecolor": "white",
            "showbackground": true,
            "ticks": "",
            "zerolinecolor": "white"
           },
           "yaxis": {
            "backgroundcolor": "#E5ECF6",
            "gridcolor": "white",
            "gridwidth": 2,
            "linecolor": "white",
            "showbackground": true,
            "ticks": "",
            "zerolinecolor": "white"
           },
           "zaxis": {
            "backgroundcolor": "#E5ECF6",
            "gridcolor": "white",
            "gridwidth": 2,
            "linecolor": "white",
            "showbackground": true,
            "ticks": "",
            "zerolinecolor": "white"
           }
          },
          "shapedefaults": {
           "line": {
            "color": "#2a3f5f"
           }
          },
          "ternary": {
           "aaxis": {
            "gridcolor": "white",
            "linecolor": "white",
            "ticks": ""
           },
           "baxis": {
            "gridcolor": "white",
            "linecolor": "white",
            "ticks": ""
           },
           "bgcolor": "#E5ECF6",
           "caxis": {
            "gridcolor": "white",
            "linecolor": "white",
            "ticks": ""
           }
          },
          "title": {
           "x": 0.05
          },
          "xaxis": {
           "automargin": true,
           "gridcolor": "white",
           "linecolor": "white",
           "ticks": "",
           "title": {
            "standoff": 15
           },
           "zerolinecolor": "white",
           "zerolinewidth": 2
          },
          "yaxis": {
           "automargin": true,
           "gridcolor": "white",
           "linecolor": "white",
           "ticks": "",
           "title": {
            "standoff": 15
           },
           "zerolinecolor": "white",
           "zerolinewidth": 2
          }
         }
        },
        "xaxis": {
         "anchor": "y",
         "domain": [
          0,
          1
         ],
         "title": {
          "text": "value"
         }
        },
        "yaxis": {
         "anchor": "x",
         "domain": [
          0,
          1
         ],
         "title": {
          "text": "index"
         }
        }
       }
      }
     },
     "metadata": {},
     "output_type": "display_data"
    }
   ],
   "source": [
    "# Plot coefficients\n",
    "fig = px.bar(feature_importance, orientation = 'h')\n",
    "fig.update_layout(showlegend = False, \n",
    "                  margin = {'l': 120} # to avoid cropping of column names\n",
    "                 )\n",
    "fig.show()"
   ]
  },
  {
   "cell_type": "code",
   "execution_count": 23,
   "metadata": {},
   "outputs": [
    {
     "data": {
      "text/html": [
       "<div>\n",
       "<style scoped>\n",
       "    .dataframe tbody tr th:only-of-type {\n",
       "        vertical-align: middle;\n",
       "    }\n",
       "\n",
       "    .dataframe tbody tr th {\n",
       "        vertical-align: top;\n",
       "    }\n",
       "\n",
       "    .dataframe thead th {\n",
       "        text-align: right;\n",
       "    }\n",
       "</style>\n",
       "<table border=\"1\" class=\"dataframe\">\n",
       "  <thead>\n",
       "    <tr style=\"text-align: right;\">\n",
       "      <th></th>\n",
       "      <th>feature_importances</th>\n",
       "    </tr>\n",
       "  </thead>\n",
       "  <tbody>\n",
       "    <tr>\n",
       "      <th>pass_yds_MA_5</th>\n",
       "      <td>0.019068</td>\n",
       "    </tr>\n",
       "    <tr>\n",
       "      <th>attendance</th>\n",
       "      <td>0.018176</td>\n",
       "    </tr>\n",
       "    <tr>\n",
       "      <th>idgame</th>\n",
       "      <td>0.018117</td>\n",
       "    </tr>\n",
       "    <tr>\n",
       "      <th>rec_avg_MA_5</th>\n",
       "      <td>0.016964</td>\n",
       "    </tr>\n",
       "    <tr>\n",
       "      <th>sacks_MA_5</th>\n",
       "      <td>0.016765</td>\n",
       "    </tr>\n",
       "    <tr>\n",
       "      <th>pass_completion_MA_5</th>\n",
       "      <td>0.016280</td>\n",
       "    </tr>\n",
       "    <tr>\n",
       "      <th>dayofmonth</th>\n",
       "      <td>0.015927</td>\n",
       "    </tr>\n",
       "    <tr>\n",
       "      <th>rush_avg_MA_5</th>\n",
       "      <td>0.015826</td>\n",
       "    </tr>\n",
       "    <tr>\n",
       "      <th>rec_tgs_MA_5</th>\n",
       "      <td>0.015671</td>\n",
       "    </tr>\n",
       "    <tr>\n",
       "      <th>humidity</th>\n",
       "      <td>0.015542</td>\n",
       "    </tr>\n",
       "  </tbody>\n",
       "</table>\n",
       "</div>"
      ],
      "text/plain": [
       "                      feature_importances\n",
       "pass_yds_MA_5                    0.019068\n",
       "attendance                       0.018176\n",
       "idgame                           0.018117\n",
       "rec_avg_MA_5                     0.016964\n",
       "sacks_MA_5                       0.016765\n",
       "pass_completion_MA_5             0.016280\n",
       "dayofmonth                       0.015927\n",
       "rush_avg_MA_5                    0.015826\n",
       "rec_tgs_MA_5                     0.015671\n",
       "humidity                         0.015542"
      ]
     },
     "execution_count": 23,
     "metadata": {},
     "output_type": "execute_result"
    }
   ],
   "source": [
    "feature_importance[feature_importance[\"feature_importances\"]>0.01].sort_values(by = 'feature_importances', ascending = False)[:10]"
   ]
  },
  {
   "cell_type": "code",
   "execution_count": 24,
   "metadata": {},
   "outputs": [],
   "source": [
    "new_features =  feature_importance[feature_importance[\"feature_importances\"]>0.01].sort_values(by = 'feature_importances',\n",
    "                 ascending = False)[:10].index"
   ]
  },
  {
   "cell_type": "code",
   "execution_count": 25,
   "metadata": {},
   "outputs": [
    {
     "data": {
      "text/plain": [
       "Index(['pass_yds_MA_5', 'attendance', 'idgame', 'rec_avg_MA_5', 'sacks_MA_5',\n",
       "       'pass_completion_MA_5', 'dayofmonth', 'rush_avg_MA_5', 'rec_tgs_MA_5',\n",
       "       'humidity'],\n",
       "      dtype='object')"
      ]
     },
     "execution_count": 25,
     "metadata": {},
     "output_type": "execute_result"
    }
   ],
   "source": [
    "new_features"
   ]
  },
  {
   "cell_type": "code",
   "execution_count": 26,
   "metadata": {},
   "outputs": [],
   "source": [
    "select_new_features = [ 'awayteam', 'hometeam','pass_yds_MA_5', 'rec_yds_MA_5', 'attendance', 'rec_avg_MA_5',\n",
    "       'rush_yds_MA_5', 'punting_avg_MA_5', 'rec_tgs_MA_5', 'rush_avg_MA_5',\n",
    "       'dayofmonth']\n"
   ]
  },
  {
   "cell_type": "markdown",
   "metadata": {},
   "source": [
    "RandomForest with select features"
   ]
  },
  {
   "cell_type": "code",
   "execution_count": 27,
   "metadata": {},
   "outputs": [
    {
     "name": "stdout",
     "output_type": "stream",
     "text": [
      "Accuracy on training set :  1.0\n",
      "Accuracy on test set :  0.5232558139534884\n"
     ]
    }
   ],
   "source": [
    "Y = df.loc[:,\"winner_home\"]\n",
    "X = df.loc[:,select_new_features]\n",
    "\n",
    "X_train, X_test, Y_train, Y_test = train_test_split(X, Y, test_size=0.2, random_state=0, stratify= Y)\n",
    "\n",
    "# select automatically the numerical and categorical columns\n",
    "num_col = X.select_dtypes([np.number]).columns\n",
    "cat_col = X.select_dtypes(\"object\").columns\n",
    "\n",
    "# Create pipeline for numeric features\n",
    "numeric_features = X.select_dtypes([np.number]).columns \n",
    "numeric_transformer = Pipeline(steps=[\n",
    "    ('imputer', SimpleImputer(strategy='mean')), # missing values in Age will be replaced by columns' mean\n",
    "    ('scaler', StandardScaler())])\n",
    "\n",
    "# Create pipeline for categorical features\n",
    "categorical_features = X.select_dtypes(\"object\").columns \n",
    "categorical_transformer = Pipeline(\n",
    "    steps=[\n",
    "    ('imputer', SimpleImputer(strategy='most_frequent')), # missing values will be replaced by most frequent value\n",
    "    ('encoder', OneHotEncoder(drop='first')) # first column will be dropped to avoid creating correlations between features\n",
    "    ])\n",
    "\n",
    "# Use ColumnTranformer to make a preprocessor object that describes all the treatments to be done\n",
    "preprocessor = ColumnTransformer(\n",
    "    transformers=[\n",
    "        ('num', numeric_transformer, numeric_features),\n",
    "        ('cat', categorical_transformer, categorical_features)\n",
    "    ])\n",
    "\n",
    "X_train = preprocessor.fit_transform(X_train)\n",
    "X_test = preprocessor.transform(X_test)\n",
    "\n",
    "model_2 = RandomForestClassifier()\n",
    "model_2.fit(X_train, Y_train)\n",
    "\n",
    "Y_train_pred = model_2.predict(X_train)\n",
    "Y_test_pred = model_2.predict(X_test)\n",
    "\n",
    "print(\"Accuracy on training set : \", accuracy_score(Y_train, Y_train_pred))\n",
    "print(\"Accuracy on test set : \", accuracy_score(Y_test, Y_test_pred))"
   ]
  },
  {
   "cell_type": "markdown",
   "metadata": {},
   "source": [
    "Grid Search with select features"
   ]
  },
  {
   "cell_type": "code",
   "execution_count": 28,
   "metadata": {},
   "outputs": [
    {
     "name": "stdout",
     "output_type": "stream",
     "text": [
      "Grid search...\n",
      "...Done.\n",
      "Best hyperparameters :  {'max_depth': 8, 'min_samples_leaf': 5, 'min_samples_split': 4, 'n_estimators': 80}\n",
      "Best validation accuracy :  0.6178040429623376\n"
     ]
    }
   ],
   "source": [
    "# Perform grid search\n",
    "print(\"Grid search...\")\n",
    "rf = RandomForestClassifier()\n",
    "\n",
    "# Grid of values to be tested\n",
    "params = {\n",
    "    'max_depth': [2, 4, 6, 8, 10],\n",
    "    'min_samples_leaf': [1, 2, 5],\n",
    "    'min_samples_split': [2, 4, 8],\n",
    "    'n_estimators': [10, 20, 40, 60, 80, 100]\n",
    "}\n",
    "gridsearch = GridSearchCV(rf, param_grid = params,\n",
    "                          cv = 5, return_train_score = True) # cv : the number of folds to be used for CV\n",
    "gridsearch.fit(X_train, Y_train)\n",
    "print(\"...Done.\")\n",
    "print(\"Best hyperparameters : \", gridsearch.best_params_)\n",
    "print(\"Best validation accuracy : \", gridsearch.best_score_)"
   ]
  },
  {
   "cell_type": "code",
   "execution_count": 29,
   "metadata": {},
   "outputs": [
    {
     "name": "stdout",
     "output_type": "stream",
     "text": [
      "Predictions on training set...\n",
      "...Done.\n",
      "Probabilities on training set...\n",
      "...Done.\n",
      "Predictions on test set...\n",
      "Probabilities on test set...\n",
      "accuracy on training set :  0.7565470417070805\n",
      "accuracy on test set :  0.5310077519379846\n",
      "\n"
     ]
    }
   ],
   "source": [
    "# Predictions on training set\n",
    "print(\"Predictions on training set...\")\n",
    "Y_train_pred = gridsearch.predict(X_train)\n",
    "print(\"...Done.\")\n",
    "\n",
    "\n",
    "# It's also possible to get the probabilities estimated by the model:\n",
    "print(\"Probabilities on training set...\")\n",
    "Y_train_proba = gridsearch.predict_proba(X_train)\n",
    "print(\"...Done.\")\n",
    "\n",
    "\n",
    "# Predictions on test set\n",
    "print(\"Predictions on test set...\")\n",
    "Y_test_pred = gridsearch.predict(X_test)\n",
    "\n",
    "# It's also possible to get the probabilities estimated by the model:\n",
    "print(\"Probabilities on test set...\")\n",
    "Y_test_proba = gridsearch.predict_proba(X_test)\n",
    "\n",
    "# Print scores\n",
    "print(\"accuracy on training set : \", accuracy_score(Y_train, Y_train_pred))\n",
    "print(\"accuracy on test set : \", accuracy_score(Y_test, Y_test_pred))\n",
    "print()\n",
    "\n"
   ]
  }
 ],
 "metadata": {
  "kernelspec": {
   "display_name": "Python 3.10.4 64-bit",
   "language": "python",
   "name": "python3"
  },
  "language_info": {
   "codemirror_mode": {
    "name": "ipython",
    "version": 3
   },
   "file_extension": ".py",
   "mimetype": "text/x-python",
   "name": "python",
   "nbconvert_exporter": "python",
   "pygments_lexer": "ipython3",
   "version": "3.10.4"
  },
  "orig_nbformat": 4,
  "vscode": {
   "interpreter": {
    "hash": "4574c92c81b7a4447a4b895dbf630721cb3b758132caf039eedf7927fb67883f"
   }
  }
 },
 "nbformat": 4,
 "nbformat_minor": 2
}
