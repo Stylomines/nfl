{
 "cells": [
  {
   "cell_type": "code",
   "execution_count": 2,
   "metadata": {},
   "outputs": [],
   "source": [
    "import pandas as pd\n",
    "import os\n",
    "import random\n",
    "\n",
    "\n",
    "from sklearn.model_selection import train_test_split\n",
    "from sklearn.pipeline import Pipeline\n",
    "from sklearn.impute import SimpleImputer\n",
    "from sklearn.preprocessing import StandardScaler\n",
    "from sklearn.preprocessing import OneHotEncoder\n",
    "from sklearn.compose import ColumnTransformer\n",
    "from sklearn.linear_model import LogisticRegression\n",
    "from sklearn.metrics import accuracy_score, f1_score, ConfusionMatrixDisplay, RocCurveDisplay\n",
    "from sklearn.model_selection import GridSearchCV\n",
    "from sklearn.model_selection import cross_val_score\n",
    "\n",
    "import numpy as np\n",
    "from sklearn.ensemble import RandomForestClassifier\n",
    "from xgboost import XGBClassifier\n",
    "\n",
    "from sklearn import metrics\n",
    "import matplotlib.pyplot as plt\n",
    "\n",
    "\n",
    "import plotly.express as px\n",
    "import plotly.graph_objects as go\n",
    "import plotly.io as pio\n",
    "# setting Jedha color palette as default\n",
    "pio.templates[\"jedha\"] = go.layout.Template(\n",
    "    layout_colorway=[\"#4B9AC7\", \"#4BE8E0\", \"#9DD4F3\", \"#97FBF6\", \"#2A7FAF\", \"#23B1AB\", \"#0E3449\", \"#015955\"]\n",
    ")"
   ]
  },
  {
   "cell_type": "code",
   "execution_count": 2,
   "metadata": {},
   "outputs": [
    {
     "data": {
      "text/plain": [
       "'c:\\\\Users\\\\sylva\\\\Desktop\\\\nflpredictor\\\\nfl\\\\03_modelisation\\\\modelisation_final_dataset'"
      ]
     },
     "execution_count": 2,
     "metadata": {},
     "output_type": "execute_result"
    }
   ],
   "source": [
    "os.getcwd()"
   ]
  },
  {
   "cell_type": "code",
   "execution_count": 3,
   "metadata": {},
   "outputs": [
    {
     "data": {
      "text/html": [
       "<div>\n",
       "<style scoped>\n",
       "    .dataframe tbody tr th:only-of-type {\n",
       "        vertical-align: middle;\n",
       "    }\n",
       "\n",
       "    .dataframe tbody tr th {\n",
       "        vertical-align: top;\n",
       "    }\n",
       "\n",
       "    .dataframe thead th {\n",
       "        text-align: right;\n",
       "    }\n",
       "</style>\n",
       "<table border=\"1\" class=\"dataframe\">\n",
       "  <thead>\n",
       "    <tr style=\"text-align: right;\">\n",
       "      <th></th>\n",
       "      <th>season</th>\n",
       "      <th>week</th>\n",
       "      <th>awayteam</th>\n",
       "      <th>hometeam</th>\n",
       "      <th>idgame</th>\n",
       "      <th>winner_home</th>\n",
       "      <th>home_coach</th>\n",
       "      <th>away_coach</th>\n",
       "      <th>weather_type</th>\n",
       "      <th>temperature</th>\n",
       "      <th>...</th>\n",
       "      <th>punt_return_yds_MA_5_home</th>\n",
       "      <th>kicking_pts_MA_5_home</th>\n",
       "      <th>delta_day_away</th>\n",
       "      <th>delta_day_home</th>\n",
       "      <th>stade</th>\n",
       "      <th>location</th>\n",
       "      <th>people</th>\n",
       "      <th>month</th>\n",
       "      <th>dayofmonth</th>\n",
       "      <th>dayofweek</th>\n",
       "    </tr>\n",
       "  </thead>\n",
       "  <tbody>\n",
       "    <tr>\n",
       "      <th>0</th>\n",
       "      <td>2017</td>\n",
       "      <td>13</td>\n",
       "      <td>Vikings</td>\n",
       "      <td>Falcons</td>\n",
       "      <td>400951677</td>\n",
       "      <td>0</td>\n",
       "      <td>Dan Quinn</td>\n",
       "      <td>Mike Zimmer</td>\n",
       "      <td>NaN</td>\n",
       "      <td>NaN</td>\n",
       "      <td>...</td>\n",
       "      <td>10.4</td>\n",
       "      <td>9.4</td>\n",
       "      <td>10.0</td>\n",
       "      <td>7.0</td>\n",
       "      <td>Mercedes-Benz Stadium</td>\n",
       "      <td>Atlanta, GA</td>\n",
       "      <td>95.0</td>\n",
       "      <td>12</td>\n",
       "      <td>3</td>\n",
       "      <td>6</td>\n",
       "    </tr>\n",
       "    <tr>\n",
       "      <th>1</th>\n",
       "      <td>2017</td>\n",
       "      <td>9</td>\n",
       "      <td>Falcons</td>\n",
       "      <td>Panthers</td>\n",
       "      <td>400951749</td>\n",
       "      <td>1</td>\n",
       "      <td>Ron Rivera</td>\n",
       "      <td>Dan Quinn</td>\n",
       "      <td>cloudy</td>\n",
       "      <td>61.0</td>\n",
       "      <td>...</td>\n",
       "      <td>22.4</td>\n",
       "      <td>7.4</td>\n",
       "      <td>7.0</td>\n",
       "      <td>7.0</td>\n",
       "      <td>Bank of America Stadium</td>\n",
       "      <td>Charlotte, NC</td>\n",
       "      <td>100.0</td>\n",
       "      <td>11</td>\n",
       "      <td>5</td>\n",
       "      <td>6</td>\n",
       "    </tr>\n",
       "    <tr>\n",
       "      <th>2</th>\n",
       "      <td>2017</td>\n",
       "      <td>9</td>\n",
       "      <td>Bengals</td>\n",
       "      <td>Jaguars</td>\n",
       "      <td>400951753</td>\n",
       "      <td>1</td>\n",
       "      <td>Doug Marrone</td>\n",
       "      <td>Marvin Lewis</td>\n",
       "      <td>NaN</td>\n",
       "      <td>78.0</td>\n",
       "      <td>...</td>\n",
       "      <td>0.4</td>\n",
       "      <td>8.4</td>\n",
       "      <td>7.0</td>\n",
       "      <td>14.0</td>\n",
       "      <td>TIAA Bank Field</td>\n",
       "      <td>Jacksonville, FL</td>\n",
       "      <td>89.0</td>\n",
       "      <td>11</td>\n",
       "      <td>5</td>\n",
       "      <td>6</td>\n",
       "    </tr>\n",
       "    <tr>\n",
       "      <th>3</th>\n",
       "      <td>2017</td>\n",
       "      <td>4</td>\n",
       "      <td>Bears</td>\n",
       "      <td>Packers</td>\n",
       "      <td>400951678</td>\n",
       "      <td>1</td>\n",
       "      <td>Mike McCarthy</td>\n",
       "      <td>John Fox</td>\n",
       "      <td>cloudy</td>\n",
       "      <td>65.0</td>\n",
       "      <td>...</td>\n",
       "      <td>NaN</td>\n",
       "      <td>NaN</td>\n",
       "      <td>4.0</td>\n",
       "      <td>4.0</td>\n",
       "      <td>Lambeau Field</td>\n",
       "      <td>Green Bay, WI</td>\n",
       "      <td>97.0</td>\n",
       "      <td>9</td>\n",
       "      <td>29</td>\n",
       "      <td>4</td>\n",
       "    </tr>\n",
       "    <tr>\n",
       "      <th>4</th>\n",
       "      <td>2017</td>\n",
       "      <td>9</td>\n",
       "      <td>Colts</td>\n",
       "      <td>Texans</td>\n",
       "      <td>400951751</td>\n",
       "      <td>0</td>\n",
       "      <td>Bill O'Brien</td>\n",
       "      <td>Chuck Pagano</td>\n",
       "      <td>cloudy</td>\n",
       "      <td>84.0</td>\n",
       "      <td>...</td>\n",
       "      <td>31.4</td>\n",
       "      <td>9.0</td>\n",
       "      <td>7.0</td>\n",
       "      <td>6.0</td>\n",
       "      <td>NRG Stadium</td>\n",
       "      <td>Houston, TX</td>\n",
       "      <td>100.0</td>\n",
       "      <td>11</td>\n",
       "      <td>5</td>\n",
       "      <td>6</td>\n",
       "    </tr>\n",
       "  </tbody>\n",
       "</table>\n",
       "<p>5 rows × 54 columns</p>\n",
       "</div>"
      ],
      "text/plain": [
       "   season  week awayteam  hometeam     idgame  winner_home     home_coach  \\\n",
       "0    2017    13  Vikings   Falcons  400951677            0      Dan Quinn   \n",
       "1    2017     9  Falcons  Panthers  400951749            1     Ron Rivera   \n",
       "2    2017     9  Bengals   Jaguars  400951753            1   Doug Marrone   \n",
       "3    2017     4    Bears   Packers  400951678            1  Mike McCarthy   \n",
       "4    2017     9    Colts    Texans  400951751            0   Bill O'Brien   \n",
       "\n",
       "     away_coach weather_type  temperature  ...  punt_return_yds_MA_5_home  \\\n",
       "0   Mike Zimmer          NaN          NaN  ...                       10.4   \n",
       "1     Dan Quinn       cloudy         61.0  ...                       22.4   \n",
       "2  Marvin Lewis          NaN         78.0  ...                        0.4   \n",
       "3      John Fox       cloudy         65.0  ...                        NaN   \n",
       "4  Chuck Pagano       cloudy         84.0  ...                       31.4   \n",
       "\n",
       "   kicking_pts_MA_5_home  delta_day_away  delta_day_home  \\\n",
       "0                    9.4            10.0             7.0   \n",
       "1                    7.4             7.0             7.0   \n",
       "2                    8.4             7.0            14.0   \n",
       "3                    NaN             4.0             4.0   \n",
       "4                    9.0             7.0             6.0   \n",
       "\n",
       "                     stade          location  people  month  dayofmonth  \\\n",
       "0    Mercedes-Benz Stadium       Atlanta, GA    95.0     12           3   \n",
       "1  Bank of America Stadium     Charlotte, NC   100.0     11           5   \n",
       "2          TIAA Bank Field  Jacksonville, FL    89.0     11           5   \n",
       "3            Lambeau Field     Green Bay, WI    97.0      9          29   \n",
       "4              NRG Stadium       Houston, TX   100.0     11           5   \n",
       "\n",
       "   dayofweek  \n",
       "0          6  \n",
       "1          6  \n",
       "2          6  \n",
       "3          4  \n",
       "4          6  \n",
       "\n",
       "[5 rows x 54 columns]"
      ]
     },
     "execution_count": 3,
     "metadata": {},
     "output_type": "execute_result"
    }
   ],
   "source": [
    "df = pd.read_csv(\"../../04_datasets/nfl_dataset_vf.csv\", index_col=0)\n",
    "df.head()"
   ]
  },
  {
   "cell_type": "markdown",
   "metadata": {},
   "source": [
    "Preprocessing with awayteam and hometeam"
   ]
  },
  {
   "cell_type": "markdown",
   "metadata": {},
   "source": [
    "Logistic Regression"
   ]
  },
  {
   "cell_type": "markdown",
   "metadata": {},
   "source": [
    "RandomForest"
   ]
  },
  {
   "cell_type": "markdown",
   "metadata": {},
   "source": [
    "XGBClassifier"
   ]
  },
  {
   "cell_type": "markdown",
   "metadata": {},
   "source": [
    "## Preprocessing with all features"
   ]
  },
  {
   "cell_type": "code",
   "execution_count": null,
   "metadata": {},
   "outputs": [],
   "source": [
    "features =[c for c in df.columns if ((c!=\"winner_home\") and (c!='idgame'))]\n",
    "select_features = [\"awayteam\", \"hometeam\"]\n",
    "\n",
    "for feature in features:\n",
    "    select_features.append(features)\n",
    "\n",
    "print(select_features)"
   ]
  },
  {
   "cell_type": "code",
   "execution_count": 29,
   "metadata": {},
   "outputs": [
    {
     "data": {
      "text/html": [
       "<div>\n",
       "<style scoped>\n",
       "    .dataframe tbody tr th:only-of-type {\n",
       "        vertical-align: middle;\n",
       "    }\n",
       "\n",
       "    .dataframe tbody tr th {\n",
       "        vertical-align: top;\n",
       "    }\n",
       "\n",
       "    .dataframe thead th {\n",
       "        text-align: right;\n",
       "    }\n",
       "</style>\n",
       "<table border=\"1\" class=\"dataframe\">\n",
       "  <thead>\n",
       "    <tr style=\"text-align: right;\">\n",
       "      <th></th>\n",
       "      <th>model</th>\n",
       "      <th>cross_val_accuracy_avg</th>\n",
       "      <th>cross_val_accuracy_std</th>\n",
       "      <th>accuracy_score_test</th>\n",
       "      <th>target_variable</th>\n",
       "      <th>features_cat</th>\n",
       "      <th>features_num</th>\n",
       "    </tr>\n",
       "  </thead>\n",
       "  <tbody>\n",
       "  </tbody>\n",
       "</table>\n",
       "</div>"
      ],
      "text/plain": [
       "Empty DataFrame\n",
       "Columns: [model, cross_val_accuracy_avg, cross_val_accuracy_std, accuracy_score_test, target_variable, features_cat, features_num]\n",
       "Index: []"
      ]
     },
     "execution_count": 29,
     "metadata": {},
     "output_type": "execute_result"
    }
   ],
   "source": [
    "df_res_0 = pd.DataFrame(columns=[\n",
    "    \n",
    "    'model',\n",
    "    'cross_val_accuracy_avg',\n",
    "    'cross_val_accuracy_std',\n",
    "    'accuracy_score_test',\n",
    "    'target_variable',\n",
    "    'features_cat',\n",
    "    'features_num'\n",
    "        \n",
    "])\n",
    "\n",
    "df_res_0"
   ]
  },
  {
   "cell_type": "code",
   "execution_count": 13,
   "metadata": {},
   "outputs": [],
   "source": [
    "nb_features = random.randint(1,20)\n",
    "random.choices(features,k=nb_features)"
   ]
  },
  {
   "cell_type": "code",
   "execution_count": null,
   "metadata": {},
   "outputs": [],
   "source": [
    "nb_features = random.randint(1,20)\n",
    "\n",
    "features =[c for c in df.columns if ((c!=\"winner_home\") and (c!='idgame') and (c!='awayteam') and (c!='hometeam'))]\n",
    "select_features = [\"awayteam\", \"hometeam\"]\n",
    "\n",
    "for nb in range(nb_features):\n",
    "    for feature in features:\n",
    "        select_features.append(feature)\n",
    "print(select_features)\n",
    "print(nb_features)"
   ]
  },
  {
   "cell_type": "code",
   "execution_count": 17,
   "metadata": {},
   "outputs": [
    {
     "data": {
      "text/plain": [
       "['awayteam',\n",
       " 'hometeam',\n",
       " 'interceptions_MA_5_home',\n",
       " 'month',\n",
       " 'rush_td_MA_5_home',\n",
       " 'interceptions_MA_5_home',\n",
       " 'pass_td_MA_5_home',\n",
       " 'rec_yds_MA_5_away',\n",
       " 'fumbles_MA_5_away',\n",
       " 'season']"
      ]
     },
     "execution_count": 17,
     "metadata": {},
     "output_type": "execute_result"
    }
   ],
   "source": [
    "features =[c for c in df.columns if ((c!=\"winner_home\") and (c!='idgame') and (c!='awayteam') and (c!='hometeam'))]\n",
    "select_features = [\"awayteam\", \"hometeam\"]\n",
    "nb_features = random.randint(1,20)\n",
    "choice_feature = random.choices(features,k=nb_features)\n",
    "for feature in choice_feature:\n",
    "    select_features.append(feature)\n",
    "select_features"
   ]
  },
  {
   "cell_type": "code",
   "execution_count": 24,
   "metadata": {},
   "outputs": [
    {
     "data": {
      "text/plain": [
       "{'dayofmonth',\n",
       " 'delta_day_home',\n",
       " 'fumbles_MA_5_away',\n",
       " 'fumbles_rec_MA_5_home',\n",
       " 'interceptions_td_MA_5_home',\n",
       " 'kicks_return_yds_MA_5_away',\n",
       " 'location',\n",
       " 'pass_td_MA_5_away',\n",
       " 'people',\n",
       " 'rec_yds_MA_5_away',\n",
       " 'rush_td_MA_5_away'}"
      ]
     },
     "execution_count": 24,
     "metadata": {},
     "output_type": "execute_result"
    }
   ],
   "source": [
    "choice_feature = random.choices(features,k=nb_features)\n",
    "set(choice_feature)"
   ]
  },
  {
   "cell_type": "code",
   "execution_count": 25,
   "metadata": {},
   "outputs": [],
   "source": [
    "for feature in set(choice_feature):\n",
    "    select_features.append(feature)"
   ]
  },
  {
   "cell_type": "code",
   "execution_count": 26,
   "metadata": {},
   "outputs": [
    {
     "data": {
      "text/plain": [
       "['awayteam',\n",
       " 'hometeam',\n",
       " 'month',\n",
       " 'kicking_pts_MA_5_away',\n",
       " 'temperature',\n",
       " 'fumbles_rec_MA_5_away',\n",
       " 'weather_type',\n",
       " 'wind',\n",
       " 'month',\n",
       " 'interceptions_td_MA_5_away',\n",
       " 'streak_away',\n",
       " 'rec_td_MA_5_home',\n",
       " 'rec_yds_MA_5_home',\n",
       " 'punt_return_yds_MA_5_home',\n",
       " 'fumbles_MA_5_home',\n",
       " 'rec_yds_MA_5_home',\n",
       " 'rush_td_MA_5_away',\n",
       " 'dayofmonth',\n",
       " 'location',\n",
       " 'kicks_return_yds_MA_5_away',\n",
       " 'rec_yds_MA_5_away',\n",
       " 'people',\n",
       " 'delta_day_home',\n",
       " 'fumbles_rec_MA_5_home',\n",
       " 'pass_td_MA_5_away',\n",
       " 'interceptions_td_MA_5_home',\n",
       " 'fumbles_MA_5_away']"
      ]
     },
     "execution_count": 26,
     "metadata": {},
     "output_type": "execute_result"
    }
   ],
   "source": [
    "select_features"
   ]
  },
  {
   "cell_type": "code",
   "execution_count": 30,
   "metadata": {},
   "outputs": [
    {
     "name": "stdout",
     "output_type": "stream",
     "text": [
      "['awayteam', 'hometeam', 'dayofmonth', 'delta_day_home', 'season', 'kicks_return_yds_MA_5_away', 'month', 'punt_return_yds_MA_5_home', 'kicks_return_td_MA_5_home', 'rush_yds_MA_5_away', 'location', 'streak_away', 'interceptions_MA_5_away', 'temperature', 'pass_td_MA_5_home', 'pass_yds_MA_5_home', 'rush_td_MA_5_away', 'streak_home', 'rec_td_MA_5_home', 'rush_yds_MA_5_home', 'pass_td_MA_5_away', 'interceptions_td_MA_5_home', 'humidity', 'kicking_pts_MA_5_away']\n",
      "['awayteam', 'hometeam', 'rush_td_MA_5_away', 'streak_home', 'away_coach', 'delta_day_home', 'season', 'punt_return_yds_MA_5_home', 'fumbles_MA_5_away', 'pass_td_MA_5_home']\n"
     ]
    },
    {
     "name": "stderr",
     "output_type": "stream",
     "text": [
      "c:\\Users\\sylva\\AppData\\Local\\Programs\\Python\\Python310\\lib\\site-packages\\sklearn\\preprocessing\\_encoders.py:188: UserWarning: Found unknown categories in columns [2] during transform. These unknown categories will be encoded as all zeros\n",
      "  warnings.warn(\n"
     ]
    },
    {
     "name": "stdout",
     "output_type": "stream",
     "text": [
      "['awayteam', 'hometeam', 'wind', 'defense_sacks_MA_5_home', 'interceptions_td_MA_5_away', 'rec_yds_MA_5_away', 'rush_td_MA_5_home', 'humidity', 'fumbles_MA_5_home', 'season', 'temperature', 'defense_td_MA_5_home', 'fumbles_MA_5_away', 'kicking_pts_MA_5_home', 'week', 'delta_day_away']\n",
      "['awayteam', 'hometeam', 'delta_day_home', 'fumbles_rec_MA_5_away', 'punt_return_yds_MA_5_home', 'rec_yds_MA_5_home', 'kicking_pts_MA_5_home', 'rush_yds_MA_5_away', 'location', 'defense_sacks_MA_5_home', 'streak_away', 'interceptions_MA_5_away', 'interceptions_td_MA_5_away', 'temperature', 'kicks_return_td_MA_5_away', 'rec_td_MA_5_away', 'pass_yds_MA_5_home', 'wind', 'rec_td_MA_5_home', 'fumbles_MA_5_home', 'fumbles_rec_MA_5_home', 'stade', 'humidity', 'kicking_pts_MA_5_away']\n",
      "['awayteam', 'hometeam', 'defense_td_MA_5_away', 'delta_day_home', 'home_coach', 'fumbles_rec_MA_5_away', 'interceptions_MA_5_home', 'month', 'punt_return_yds_MA_5_home', 'rec_yds_MA_5_home', 'kicking_pts_MA_5_home', 'kicks_return_td_MA_5_home', 'rush_yds_MA_5_away', 'location', 'defense_sacks_MA_5_home', 'interceptions_MA_5_away', 'interceptions_td_MA_5_away', 'rush_td_MA_5_home', 'kicks_return_td_MA_5_away', 'rec_td_MA_5_away', 'pass_td_MA_5_home', 'pass_yds_MA_5_home', 'rush_td_MA_5_away', 'defense_sacks_MA_5_away', 'rush_yds_MA_5_home', 'weather_type', 'pass_yds_MA_5_away', 'fumbles_rec_MA_5_home', 'stade']\n",
      "['awayteam', 'hometeam', 'dayofmonth', 'defense_td_MA_5_away', 'away_coach', 'delta_day_home', 'fumbles_rec_MA_5_away', 'interceptions_MA_5_home', 'dayofweek', 'month', 'punt_return_yds_MA_5_home', 'rec_yds_MA_5_home', 'kicking_pts_MA_5_home', 'delta_day_away', 'rush_yds_MA_5_away', 'location', 'defense_sacks_MA_5_home', 'streak_away', 'interceptions_MA_5_away', 'interceptions_td_MA_5_away', 'rush_td_MA_5_home', 'people', 'pass_td_MA_5_home', 'rush_td_MA_5_away', 'rec_td_MA_5_home', 'rush_yds_MA_5_home', 'pass_td_MA_5_away', 'interceptions_td_MA_5_home', 'humidity']\n"
     ]
    },
    {
     "name": "stderr",
     "output_type": "stream",
     "text": [
      "c:\\Users\\sylva\\AppData\\Local\\Programs\\Python\\Python310\\lib\\site-packages\\sklearn\\preprocessing\\_encoders.py:188: UserWarning: Found unknown categories in columns [2] during transform. These unknown categories will be encoded as all zeros\n",
      "  warnings.warn(\n"
     ]
    },
    {
     "name": "stdout",
     "output_type": "stream",
     "text": [
      "['awayteam', 'hometeam', 'dayofmonth', 'home_coach', 'location', 'pass_td_MA_5_home', 'interceptions_td_MA_5_home', 'fumbles_rec_MA_5_away', 'wind', 'interceptions_td_MA_5_away', 'kicking_pts_MA_5_home', 'away_coach', 'dayofweek', 'delta_day_home', 'kicks_return_yds_MA_5_home', 'temperature', 'month', 'rec_td_MA_5_away', 'kicks_return_td_MA_5_home']\n"
     ]
    },
    {
     "name": "stderr",
     "output_type": "stream",
     "text": [
      "c:\\Users\\sylva\\AppData\\Local\\Programs\\Python\\Python310\\lib\\site-packages\\sklearn\\preprocessing\\_encoders.py:188: UserWarning: Found unknown categories in columns [4] during transform. These unknown categories will be encoded as all zeros\n",
      "  warnings.warn(\n"
     ]
    },
    {
     "name": "stdout",
     "output_type": "stream",
     "text": [
      "['awayteam', 'hometeam', 'rush_td_MA_5_home', 'streak_away', 'interceptions_td_MA_5_home']\n",
      "['awayteam', 'hometeam', 'defense_td_MA_5_away', 'delta_day_home', 'fumbles_rec_MA_5_away', 'interceptions_MA_5_home', 'dayofweek', 'rec_yds_MA_5_home', 'defense_sacks_MA_5_home', 'streak_away', 'interceptions_td_MA_5_away', 'punt_return_yds_MA_5_away', 'rec_td_MA_5_away', 'week', 'wind', 'defense_sacks_MA_5_away', 'rec_td_MA_5_home', 'fumbles_MA_5_home', 'pass_yds_MA_5_away', 'fumbles_rec_MA_5_home', 'stade', 'humidity']\n",
      "['awayteam', 'hometeam', 'dayofmonth', 'defense_td_MA_5_away', 'away_coach', 'delta_day_home', 'season', 'dayofweek', 'month', 'kicking_pts_MA_5_home', 'delta_day_away', 'location', 'defense_sacks_MA_5_home', 'streak_away', 'interceptions_td_MA_5_away', 'rush_td_MA_5_home', 'people', 'temperature', 'kicks_return_td_MA_5_away', 'rec_td_MA_5_away', 'pass_td_MA_5_home', 'week', 'pass_yds_MA_5_home', 'rush_td_MA_5_away', 'wind', 'defense_sacks_MA_5_away', 'streak_home', 'rush_yds_MA_5_home', 'pass_yds_MA_5_away', 'fumbles_rec_MA_5_home', 'interceptions_td_MA_5_home', 'humidity']\n"
     ]
    },
    {
     "name": "stderr",
     "output_type": "stream",
     "text": [
      "c:\\Users\\sylva\\AppData\\Local\\Programs\\Python\\Python310\\lib\\site-packages\\sklearn\\preprocessing\\_encoders.py:188: UserWarning: Found unknown categories in columns [2] during transform. These unknown categories will be encoded as all zeros\n",
      "  warnings.warn(\n"
     ]
    },
    {
     "name": "stdout",
     "output_type": "stream",
     "text": [
      "['awayteam', 'hometeam', 'home_coach', 'wind', 'streak_away', 'dayofweek', 'people', 'delta_day_home', 'temperature', 'interceptions_td_MA_5_home', 'punt_return_yds_MA_5_home', 'punt_return_yds_MA_5_away', 'kicking_pts_MA_5_away']\n",
      "['awayteam', 'hometeam', 'away_coach', 'interceptions_MA_5_home', 'dayofweek', 'month', 'punt_return_yds_MA_5_home', 'kicks_return_td_MA_5_home', 'rush_yds_MA_5_away', 'interceptions_MA_5_away', 'interceptions_td_MA_5_away', 'people', 'defense_td_MA_5_home', 'rec_td_MA_5_away', 'pass_td_MA_5_home', 'week', 'pass_yds_MA_5_home', 'wind', 'streak_home', 'rec_td_MA_5_home', 'weather_type', 'fumbles_MA_5_home', 'pass_td_MA_5_away', 'kicking_pts_MA_5_away']\n"
     ]
    },
    {
     "name": "stderr",
     "output_type": "stream",
     "text": [
      "c:\\Users\\sylva\\AppData\\Local\\Programs\\Python\\Python310\\lib\\site-packages\\sklearn\\preprocessing\\_encoders.py:188: UserWarning: Found unknown categories in columns [2] during transform. These unknown categories will be encoded as all zeros\n",
      "  warnings.warn(\n"
     ]
    },
    {
     "name": "stdout",
     "output_type": "stream",
     "text": [
      "['awayteam', 'hometeam', 'defense_td_MA_5_away', 'away_coach', 'season', 'home_coach', 'kicks_return_yds_MA_5_away', 'interceptions_MA_5_home', 'rec_yds_MA_5_away', 'dayofweek', 'month', 'punt_return_yds_MA_5_home', 'rec_yds_MA_5_home', 'kicks_return_td_MA_5_home', 'defense_sacks_MA_5_home', 'interceptions_td_MA_5_away', 'rush_td_MA_5_home', 'people', 'kicks_return_yds_MA_5_home', 'defense_td_MA_5_home', 'fumbles_MA_5_away', 'rec_td_MA_5_away', 'punt_return_yds_MA_5_away', 'week', 'rush_td_MA_5_away', 'wind', 'defense_sacks_MA_5_away', 'rec_td_MA_5_home', 'pass_yds_MA_5_away', 'fumbles_rec_MA_5_home', 'humidity', 'kicking_pts_MA_5_away']\n"
     ]
    },
    {
     "name": "stderr",
     "output_type": "stream",
     "text": [
      "c:\\Users\\sylva\\AppData\\Local\\Programs\\Python\\Python310\\lib\\site-packages\\sklearn\\preprocessing\\_encoders.py:188: UserWarning: Found unknown categories in columns [2] during transform. These unknown categories will be encoded as all zeros\n",
      "  warnings.warn(\n"
     ]
    },
    {
     "name": "stdout",
     "output_type": "stream",
     "text": [
      "['awayteam', 'hometeam', 'pass_yds_MA_5_home', 'location', 'defense_sacks_MA_5_home', 'fumbles_rec_MA_5_away', 'defense_sacks_MA_5_away', 'pass_yds_MA_5_away', 'kicks_return_yds_MA_5_home', 'temperature', 'punt_return_yds_MA_5_home']\n",
      "['awayteam', 'hometeam', 'location', 'kicking_pts_MA_5_away']\n",
      "['awayteam', 'hometeam', 'defense_td_MA_5_away', 'away_coach', 'delta_day_home', 'season', 'fumbles_rec_MA_5_away', 'month', 'rec_yds_MA_5_home', 'kicking_pts_MA_5_home', 'delta_day_away', 'rush_yds_MA_5_away', 'location', 'streak_away', 'interceptions_td_MA_5_away', 'kicks_return_yds_MA_5_home', 'defense_td_MA_5_home', 'punt_return_yds_MA_5_away', 'week', 'rush_td_MA_5_away', 'wind', 'defense_sacks_MA_5_away', 'streak_home', 'rec_td_MA_5_home', 'weather_type', 'pass_yds_MA_5_away', 'pass_td_MA_5_away', 'interceptions_td_MA_5_home']\n"
     ]
    },
    {
     "name": "stderr",
     "output_type": "stream",
     "text": [
      "c:\\Users\\sylva\\AppData\\Local\\Programs\\Python\\Python310\\lib\\site-packages\\sklearn\\preprocessing\\_encoders.py:188: UserWarning: Found unknown categories in columns [2] during transform. These unknown categories will be encoded as all zeros\n",
      "  warnings.warn(\n"
     ]
    },
    {
     "name": "stdout",
     "output_type": "stream",
     "text": [
      "['awayteam', 'hometeam', 'wind', 'fumbles_rec_MA_5_away', 'rush_td_MA_5_home', 'rush_yds_MA_5_home', 'stade', 'kicks_return_yds_MA_5_home', 'temperature', 'kicks_return_td_MA_5_away', 'punt_return_yds_MA_5_away', 'kicks_return_td_MA_5_home']\n",
      "['awayteam', 'hometeam', 'dayofmonth', 'defense_td_MA_5_away', 'away_coach', 'delta_day_home', 'fumbles_rec_MA_5_away', 'dayofweek', 'month', 'rec_yds_MA_5_home', 'delta_day_away', 'rush_yds_MA_5_away', 'streak_away', 'people', 'temperature', 'fumbles_MA_5_away', 'punt_return_yds_MA_5_away', 'rec_td_MA_5_away', 'kicks_return_td_MA_5_away', 'week', 'pass_td_MA_5_home', 'wind', 'streak_home', 'rec_td_MA_5_home', 'weather_type', 'pass_yds_MA_5_away', 'pass_td_MA_5_away', 'interceptions_td_MA_5_home', 'humidity', 'kicking_pts_MA_5_away']\n"
     ]
    },
    {
     "name": "stderr",
     "output_type": "stream",
     "text": [
      "c:\\Users\\sylva\\AppData\\Local\\Programs\\Python\\Python310\\lib\\site-packages\\sklearn\\preprocessing\\_encoders.py:188: UserWarning: Found unknown categories in columns [2] during transform. These unknown categories will be encoded as all zeros\n",
      "  warnings.warn(\n"
     ]
    },
    {
     "name": "stdout",
     "output_type": "stream",
     "text": [
      "['awayteam', 'hometeam', 'away_coach', 'season', 'kicks_return_yds_MA_5_away', 'rec_yds_MA_5_away', 'punt_return_yds_MA_5_home', 'delta_day_away', 'defense_sacks_MA_5_home', 'interceptions_MA_5_away', 'interceptions_td_MA_5_away', 'temperature', 'defense_td_MA_5_home', 'week', 'pass_yds_MA_5_home', 'rush_td_MA_5_away', 'wind', 'weather_type', 'pass_yds_MA_5_away', 'fumbles_rec_MA_5_home', 'pass_td_MA_5_away', 'stade', 'kicking_pts_MA_5_away']\n"
     ]
    },
    {
     "name": "stderr",
     "output_type": "stream",
     "text": [
      "c:\\Users\\sylva\\AppData\\Local\\Programs\\Python\\Python310\\lib\\site-packages\\sklearn\\preprocessing\\_encoders.py:188: UserWarning: Found unknown categories in columns [2] during transform. These unknown categories will be encoded as all zeros\n",
      "  warnings.warn(\n"
     ]
    },
    {
     "name": "stdout",
     "output_type": "stream",
     "text": [
      "['awayteam', 'hometeam', 'dayofmonth', 'defense_td_MA_5_away', 'season', 'rec_yds_MA_5_away', 'rec_yds_MA_5_home', 'rush_yds_MA_5_away', 'streak_away', 'interceptions_MA_5_away', 'interceptions_td_MA_5_away', 'rush_td_MA_5_home', 'kicks_return_td_MA_5_away', 'rec_td_MA_5_away', 'week', 'pass_yds_MA_5_home', 'rush_td_MA_5_away', 'defense_sacks_MA_5_away', 'fumbles_MA_5_home', 'pass_yds_MA_5_away', 'pass_td_MA_5_away']\n",
      "['awayteam', 'hometeam', 'dayofmonth', 'defense_td_MA_5_away', 'away_coach', 'fumbles_rec_MA_5_away', 'interceptions_MA_5_home', 'punt_return_yds_MA_5_home', 'rec_yds_MA_5_home', 'delta_day_away', 'defense_sacks_MA_5_home', 'streak_away', 'interceptions_MA_5_away', 'interceptions_td_MA_5_away', 'people', 'kicks_return_yds_MA_5_home', 'defense_td_MA_5_home', 'fumbles_MA_5_away', 'punt_return_yds_MA_5_away', 'kicks_return_td_MA_5_away', 'pass_td_MA_5_home', 'week', 'rush_td_MA_5_away', 'wind', 'defense_sacks_MA_5_away', 'streak_home', 'rec_td_MA_5_home', 'rush_yds_MA_5_home', 'weather_type', 'pass_yds_MA_5_away', 'fumbles_rec_MA_5_home', 'pass_td_MA_5_away', 'interceptions_td_MA_5_home', 'humidity', 'kicking_pts_MA_5_away']\n"
     ]
    },
    {
     "name": "stderr",
     "output_type": "stream",
     "text": [
      "c:\\Users\\sylva\\AppData\\Local\\Programs\\Python\\Python310\\lib\\site-packages\\sklearn\\preprocessing\\_encoders.py:188: UserWarning: Found unknown categories in columns [2] during transform. These unknown categories will be encoded as all zeros\n",
      "  warnings.warn(\n"
     ]
    },
    {
     "name": "stdout",
     "output_type": "stream",
     "text": [
      "['awayteam', 'hometeam', 'delta_day_home', 'season', 'home_coach', 'fumbles_rec_MA_5_away', 'kicks_return_yds_MA_5_away', 'interceptions_MA_5_home', 'dayofweek', 'punt_return_yds_MA_5_home', 'kicking_pts_MA_5_home', 'kicks_return_td_MA_5_home', 'streak_away', 'rush_td_MA_5_home', 'temperature', 'fumbles_MA_5_away', 'kicks_return_td_MA_5_away', 'week', 'defense_sacks_MA_5_away', 'streak_home', 'rush_yds_MA_5_home', 'fumbles_MA_5_home', 'fumbles_rec_MA_5_home', 'interceptions_td_MA_5_home', 'kicking_pts_MA_5_away']\n",
      "['awayteam', 'hometeam', 'defense_td_MA_5_away', 'delta_day_home', 'season', 'fumbles_rec_MA_5_away', 'kicks_return_yds_MA_5_away', 'interceptions_MA_5_home', 'rec_yds_MA_5_away', 'rec_yds_MA_5_home', 'kicks_return_td_MA_5_home', 'kicking_pts_MA_5_home', 'rush_yds_MA_5_away', 'location', 'defense_sacks_MA_5_home', 'streak_away', 'interceptions_MA_5_away', 'interceptions_td_MA_5_away', 'rush_td_MA_5_home', 'people', 'temperature', 'defense_td_MA_5_home', 'kicks_return_td_MA_5_away', 'pass_td_MA_5_home', 'rush_td_MA_5_away', 'defense_sacks_MA_5_away', 'rec_td_MA_5_home', 'rush_yds_MA_5_home', 'weather_type', 'fumbles_MA_5_home', 'pass_yds_MA_5_away', 'stade', 'pass_td_MA_5_away', 'interceptions_td_MA_5_home', 'humidity', 'kicking_pts_MA_5_away']\n",
      "['awayteam', 'hometeam', 'pass_td_MA_5_home', 'wind', 'defense_sacks_MA_5_away', 'interceptions_MA_5_home', 'dayofweek', 'pass_yds_MA_5_away', 'pass_td_MA_5_away', 'interceptions_td_MA_5_home', 'kicking_pts_MA_5_home', 'week']\n",
      "['awayteam', 'hometeam', 'dayofmonth', 'defense_td_MA_5_away', 'season', 'fumbles_rec_MA_5_away', 'rec_yds_MA_5_home', 'rush_yds_MA_5_away', 'defense_sacks_MA_5_home', 'streak_away', 'people', 'defense_td_MA_5_home', 'kicks_return_td_MA_5_away', 'pass_td_MA_5_home', 'wind', 'streak_home', 'rush_yds_MA_5_home', 'fumbles_MA_5_home', 'pass_yds_MA_5_away', 'stade', 'pass_td_MA_5_away']\n",
      "['awayteam', 'hometeam', 'pass_yds_MA_5_home', 'rush_yds_MA_5_away', 'location', 'defense_sacks_MA_5_away', 'interceptions_MA_5_away', 'rec_td_MA_5_home', 'rush_td_MA_5_home', 'away_coach', 'people', 'kicking_pts_MA_5_away', 'defense_td_MA_5_home', 'stade', 'punt_return_yds_MA_5_home', 'rec_yds_MA_5_home', 'rec_td_MA_5_away']\n"
     ]
    },
    {
     "name": "stderr",
     "output_type": "stream",
     "text": [
      "c:\\Users\\sylva\\AppData\\Local\\Programs\\Python\\Python310\\lib\\site-packages\\sklearn\\preprocessing\\_encoders.py:188: UserWarning: Found unknown categories in columns [3] during transform. These unknown categories will be encoded as all zeros\n",
      "  warnings.warn(\n"
     ]
    },
    {
     "name": "stdout",
     "output_type": "stream",
     "text": [
      "['awayteam', 'hometeam', 'dayofmonth', 'defense_td_MA_5_away', 'away_coach', 'season', 'fumbles_rec_MA_5_away', 'dayofweek', 'punt_return_yds_MA_5_home', 'kicks_return_td_MA_5_home', 'rush_yds_MA_5_away', 'location', 'interceptions_MA_5_away', 'people', 'kicks_return_yds_MA_5_home', 'temperature', 'fumbles_MA_5_away', 'punt_return_yds_MA_5_away', 'pass_td_MA_5_home', 'rec_td_MA_5_away', 'week', 'rush_td_MA_5_away', 'streak_home', 'rec_td_MA_5_home', 'rush_yds_MA_5_home', 'weather_type', 'fumbles_rec_MA_5_home', 'pass_td_MA_5_away']\n"
     ]
    },
    {
     "name": "stderr",
     "output_type": "stream",
     "text": [
      "c:\\Users\\sylva\\AppData\\Local\\Programs\\Python\\Python310\\lib\\site-packages\\sklearn\\preprocessing\\_encoders.py:188: UserWarning: Found unknown categories in columns [2] during transform. These unknown categories will be encoded as all zeros\n",
      "  warnings.warn(\n"
     ]
    },
    {
     "name": "stdout",
     "output_type": "stream",
     "text": [
      "['awayteam', 'hometeam', 'wind', 'rush_yds_MA_5_home', 'pass_yds_MA_5_away', 'stade', 'punt_return_yds_MA_5_away']\n",
      "['awayteam', 'hometeam', 'location', 'kicks_return_yds_MA_5_away', 'interceptions_MA_5_away', 'rec_yds_MA_5_away', 'delta_day_home', 'fumbles_rec_MA_5_home', 'stade', 'defense_td_MA_5_home', 'delta_day_away']\n",
      "['awayteam', 'hometeam', 'defense_sacks_MA_5_away', 'kicks_return_yds_MA_5_away', 'interceptions_td_MA_5_away', 'dayofweek', 'humidity']\n",
      "['awayteam', 'hometeam', 'humidity', 'weather_type', 'fumbles_MA_5_home', 'kicks_return_yds_MA_5_home', 'kicking_pts_MA_5_home']\n",
      "['awayteam', 'hometeam', 'defense_td_MA_5_away', 'away_coach', 'season', 'rec_yds_MA_5_home', 'kicks_return_td_MA_5_home', 'rush_yds_MA_5_away', 'streak_away', 'interceptions_MA_5_away', 'interceptions_td_MA_5_away', 'defense_td_MA_5_home', 'punt_return_yds_MA_5_away', 'week', 'pass_yds_MA_5_home', 'rec_td_MA_5_home', 'pass_yds_MA_5_away', 'fumbles_rec_MA_5_home', 'stade', 'humidity', 'kicking_pts_MA_5_away']\n"
     ]
    },
    {
     "name": "stderr",
     "output_type": "stream",
     "text": [
      "c:\\Users\\sylva\\AppData\\Local\\Programs\\Python\\Python310\\lib\\site-packages\\sklearn\\preprocessing\\_encoders.py:188: UserWarning: Found unknown categories in columns [2] during transform. These unknown categories will be encoded as all zeros\n",
      "  warnings.warn(\n"
     ]
    },
    {
     "name": "stdout",
     "output_type": "stream",
     "text": [
      "['awayteam', 'hometeam', 'dayofmonth', 'away_coach', 'delta_day_home', 'season', 'fumbles_rec_MA_5_away', 'rec_yds_MA_5_away', 'interceptions_MA_5_home', 'dayofweek', 'kicking_pts_MA_5_home', 'interceptions_MA_5_away', 'interceptions_td_MA_5_away', 'people', 'kicks_return_yds_MA_5_home', 'defense_td_MA_5_home', 'fumbles_MA_5_away', 'rec_td_MA_5_away', 'pass_td_MA_5_home', 'wind', 'defense_sacks_MA_5_away', 'rec_td_MA_5_home', 'fumbles_rec_MA_5_home', 'kicking_pts_MA_5_away']\n"
     ]
    },
    {
     "name": "stderr",
     "output_type": "stream",
     "text": [
      "c:\\Users\\sylva\\AppData\\Local\\Programs\\Python\\Python310\\lib\\site-packages\\sklearn\\preprocessing\\_encoders.py:188: UserWarning: Found unknown categories in columns [2] during transform. These unknown categories will be encoded as all zeros\n",
      "  warnings.warn(\n"
     ]
    },
    {
     "name": "stdout",
     "output_type": "stream",
     "text": [
      "['awayteam', 'hometeam', 'dayofmonth', 'defense_td_MA_5_away', 'home_coach', 'fumbles_rec_MA_5_away', 'rec_yds_MA_5_away', 'punt_return_yds_MA_5_home', 'rec_yds_MA_5_home', 'kicks_return_td_MA_5_home', 'defense_sacks_MA_5_home', 'interceptions_MA_5_away', 'rush_td_MA_5_home', 'people', 'defense_td_MA_5_home', 'temperature', 'fumbles_MA_5_away', 'rec_td_MA_5_away', 'pass_td_MA_5_home', 'rush_yds_MA_5_home', 'fumbles_MA_5_home', 'pass_yds_MA_5_away', 'pass_td_MA_5_away', 'stade', 'interceptions_td_MA_5_home', 'humidity', 'kicking_pts_MA_5_away']\n",
      "['awayteam', 'hometeam', 'dayofmonth', 'defense_td_MA_5_away', 'away_coach', 'season', 'home_coach', 'fumbles_rec_MA_5_away', 'kicks_return_yds_MA_5_away', 'rec_yds_MA_5_away', 'dayofweek', 'rec_yds_MA_5_home', 'kicks_return_td_MA_5_home', 'delta_day_away', 'rush_yds_MA_5_away', 'location', 'interceptions_MA_5_away', 'interceptions_td_MA_5_away', 'people', 'defense_td_MA_5_home', 'kicks_return_td_MA_5_away', 'fumbles_MA_5_away', 'punt_return_yds_MA_5_away', 'rush_td_MA_5_away', 'wind', 'defense_sacks_MA_5_away', 'rec_td_MA_5_home', 'rush_yds_MA_5_home', 'weather_type', 'fumbles_rec_MA_5_home', 'stade', 'interceptions_td_MA_5_home', 'humidity', 'kicking_pts_MA_5_away']\n"
     ]
    },
    {
     "name": "stderr",
     "output_type": "stream",
     "text": [
      "c:\\Users\\sylva\\AppData\\Local\\Programs\\Python\\Python310\\lib\\site-packages\\sklearn\\preprocessing\\_encoders.py:188: UserWarning: Found unknown categories in columns [2] during transform. These unknown categories will be encoded as all zeros\n",
      "  warnings.warn(\n"
     ]
    },
    {
     "name": "stdout",
     "output_type": "stream",
     "text": [
      "['awayteam', 'hometeam', 'away_coach', 'delta_day_home', 'kicks_return_yds_MA_5_away', 'rec_yds_MA_5_away', 'dayofweek', 'month', 'punt_return_yds_MA_5_home', 'kicks_return_td_MA_5_home', 'kicking_pts_MA_5_home', 'delta_day_away', 'location', 'defense_sacks_MA_5_home', 'streak_away', 'interceptions_MA_5_away', 'interceptions_td_MA_5_away', 'rush_td_MA_5_home', 'defense_td_MA_5_home', 'kicks_return_td_MA_5_away', 'punt_return_yds_MA_5_away', 'pass_td_MA_5_home', 'pass_yds_MA_5_home', 'rec_td_MA_5_home', 'rush_yds_MA_5_home', 'weather_type', 'fumbles_rec_MA_5_home', 'pass_td_MA_5_away', 'interceptions_td_MA_5_home', 'humidity', 'kicking_pts_MA_5_away']\n"
     ]
    },
    {
     "name": "stderr",
     "output_type": "stream",
     "text": [
      "c:\\Users\\sylva\\AppData\\Local\\Programs\\Python\\Python310\\lib\\site-packages\\sklearn\\preprocessing\\_encoders.py:188: UserWarning: Found unknown categories in columns [2] during transform. These unknown categories will be encoded as all zeros\n",
      "  warnings.warn(\n"
     ]
    },
    {
     "name": "stdout",
     "output_type": "stream",
     "text": [
      "['awayteam', 'hometeam', 'dayofmonth', 'kicks_return_yds_MA_5_away', 'streak_home', 'rush_td_MA_5_home', 'weather_type', 'season', 'fumbles_rec_MA_5_home', 'pass_td_MA_5_away', 'month', 'punt_return_yds_MA_5_home', 'rec_td_MA_5_away', 'kicking_pts_MA_5_home', 'kicking_pts_MA_5_away']\n",
      "['awayteam', 'hometeam', 'rush_yds_MA_5_away', 'defense_sacks_MA_5_home', 'fumbles_rec_MA_5_away', 'rec_td_MA_5_home', 'defense_td_MA_5_away', 'weather_type', 'delta_day_home', 'pass_yds_MA_5_away', 'fumbles_MA_5_home', 'temperature', 'interceptions_td_MA_5_home', 'defense_td_MA_5_home', 'kicks_return_td_MA_5_home', 'kicking_pts_MA_5_home', 'kicking_pts_MA_5_away']\n",
      "['awayteam', 'hometeam', 'home_coach', 'fumbles_rec_MA_5_away', 'interceptions_MA_5_home', 'dayofweek', 'month', 'punt_return_yds_MA_5_home', 'rec_yds_MA_5_home', 'delta_day_away', 'rush_yds_MA_5_away', 'defense_sacks_MA_5_home', 'interceptions_td_MA_5_away', 'people', 'kicks_return_yds_MA_5_home', 'defense_td_MA_5_home', 'temperature', 'kicks_return_td_MA_5_away', 'rec_td_MA_5_away', 'pass_td_MA_5_home', 'fumbles_MA_5_away', 'week', 'rush_td_MA_5_away', 'wind', 'rec_td_MA_5_home', 'weather_type', 'fumbles_MA_5_home', 'pass_td_MA_5_away', 'stade', 'interceptions_td_MA_5_home', 'kicking_pts_MA_5_away']\n",
      "['awayteam', 'hometeam', 'dayofmonth', 'defense_td_MA_5_away', 'delta_day_home', 'interceptions_MA_5_home', 'punt_return_yds_MA_5_home', 'delta_day_away', 'streak_away', 'interceptions_td_MA_5_away', 'rush_td_MA_5_home', 'defense_td_MA_5_home', 'temperature', 'kicks_return_td_MA_5_away', 'rec_td_MA_5_away', 'fumbles_MA_5_away', 'pass_yds_MA_5_home', 'rush_td_MA_5_away', 'defense_sacks_MA_5_away', 'streak_home', 'fumbles_MA_5_home', 'pass_yds_MA_5_away', 'fumbles_rec_MA_5_home', 'stade']\n",
      "['awayteam', 'hometeam', 'defense_td_MA_5_away', 'away_coach', 'home_coach', 'fumbles_rec_MA_5_away', 'month', 'rec_yds_MA_5_home', 'rush_yds_MA_5_away', 'location', 'streak_away', 'interceptions_MA_5_away', 'rush_td_MA_5_home', 'temperature', 'fumbles_MA_5_away', 'rec_td_MA_5_away', 'pass_td_MA_5_home', 'rush_td_MA_5_away', 'defense_sacks_MA_5_away', 'rush_yds_MA_5_home', 'fumbles_MA_5_home', 'pass_yds_MA_5_away', 'stade', 'interceptions_td_MA_5_home', 'humidity']\n"
     ]
    },
    {
     "name": "stderr",
     "output_type": "stream",
     "text": [
      "c:\\Users\\sylva\\AppData\\Local\\Programs\\Python\\Python310\\lib\\site-packages\\sklearn\\preprocessing\\_encoders.py:188: UserWarning: Found unknown categories in columns [2] during transform. These unknown categories will be encoded as all zeros\n",
      "  warnings.warn(\n"
     ]
    },
    {
     "name": "stdout",
     "output_type": "stream",
     "text": [
      "['awayteam', 'hometeam', 'defense_td_MA_5_away', 'delta_day_home', 'season', 'home_coach', 'kicks_return_yds_MA_5_away', 'rec_yds_MA_5_away', 'dayofweek', 'punt_return_yds_MA_5_home', 'rec_yds_MA_5_home', 'kicking_pts_MA_5_home', 'rush_yds_MA_5_away', 'interceptions_MA_5_away', 'punt_return_yds_MA_5_away', 'rec_td_MA_5_away', 'streak_home', 'rec_td_MA_5_home', 'fumbles_MA_5_home', 'pass_yds_MA_5_away', 'stade', 'pass_td_MA_5_away', 'interceptions_td_MA_5_home', 'kicking_pts_MA_5_away']\n",
      "['awayteam', 'hometeam', 'rec_td_MA_5_away', 'kicking_pts_MA_5_home', 'week']\n",
      "['awayteam', 'hometeam', 'dayofmonth', 'defense_td_MA_5_away', 'delta_day_home', 'kicks_return_yds_MA_5_away', 'dayofweek', 'punt_return_yds_MA_5_home', 'rec_yds_MA_5_home', 'interceptions_MA_5_away', 'interceptions_td_MA_5_away', 'rush_td_MA_5_home', 'people', 'kicks_return_yds_MA_5_home', 'temperature', 'kicks_return_td_MA_5_away', 'punt_return_yds_MA_5_away', 'week', 'pass_yds_MA_5_home', 'rush_td_MA_5_away', 'defense_sacks_MA_5_away', 'streak_home', 'weather_type', 'pass_yds_MA_5_away', 'fumbles_rec_MA_5_home', 'pass_td_MA_5_away', 'stade', 'interceptions_td_MA_5_home', 'humidity', 'kicking_pts_MA_5_away']\n",
      "['awayteam', 'hometeam', 'fumbles_rec_MA_5_away', 'fumbles_rec_MA_5_home', 'temperature', 'interceptions_td_MA_5_home', 'humidity']\n",
      "['awayteam', 'hometeam', 'dayofmonth', 'delta_day_home', 'fumbles_rec_MA_5_away', 'interceptions_MA_5_home', 'month', 'punt_return_yds_MA_5_home', 'delta_day_away', 'rush_yds_MA_5_away', 'location', 'defense_sacks_MA_5_home', 'interceptions_MA_5_away', 'temperature', 'kicks_return_td_MA_5_away', 'punt_return_yds_MA_5_away', 'rec_td_MA_5_away', 'rush_td_MA_5_away', 'fumbles_MA_5_home', 'pass_yds_MA_5_away', 'humidity']\n",
      "['awayteam', 'hometeam', 'dayofmonth', 'defense_td_MA_5_away', 'delta_day_home', 'fumbles_rec_MA_5_away', 'kicks_return_yds_MA_5_away', 'dayofweek', 'month', 'punt_return_yds_MA_5_home', 'rec_yds_MA_5_home', 'kicks_return_td_MA_5_home', 'kicking_pts_MA_5_home', 'rush_yds_MA_5_away', 'defense_sacks_MA_5_home', 'interceptions_td_MA_5_away', 'rush_td_MA_5_home', 'people', 'defense_td_MA_5_home', 'kicks_return_td_MA_5_away', 'punt_return_yds_MA_5_away', 'rec_td_MA_5_away', 'pass_yds_MA_5_home', 'rec_td_MA_5_home', 'rush_yds_MA_5_home', 'fumbles_rec_MA_5_home', 'stade']\n",
      "['awayteam', 'hometeam', 'dayofmonth', 'defense_td_MA_5_away', 'away_coach', 'fumbles_rec_MA_5_away', 'kicks_return_yds_MA_5_away', 'interceptions_MA_5_home', 'rec_yds_MA_5_away', 'dayofweek', 'month', 'rec_yds_MA_5_home', 'kicks_return_td_MA_5_home', 'rush_yds_MA_5_away', 'defense_sacks_MA_5_home', 'streak_away', 'interceptions_MA_5_away', 'people', 'kicks_return_yds_MA_5_home', 'defense_td_MA_5_home', 'kicks_return_td_MA_5_away', 'rec_td_MA_5_away', 'pass_td_MA_5_home', 'fumbles_MA_5_away', 'week', 'pass_yds_MA_5_home', 'defense_sacks_MA_5_away', 'rec_td_MA_5_home', 'rush_yds_MA_5_home', 'weather_type', 'fumbles_MA_5_home', 'fumbles_rec_MA_5_home', 'kicking_pts_MA_5_away']\n"
     ]
    },
    {
     "name": "stderr",
     "output_type": "stream",
     "text": [
      "c:\\Users\\sylva\\AppData\\Local\\Programs\\Python\\Python310\\lib\\site-packages\\sklearn\\preprocessing\\_encoders.py:188: UserWarning: Found unknown categories in columns [2] during transform. These unknown categories will be encoded as all zeros\n",
      "  warnings.warn(\n"
     ]
    },
    {
     "name": "stdout",
     "output_type": "stream",
     "text": [
      "['awayteam', 'hometeam', 'dayofmonth', 'defense_td_MA_5_away', 'delta_day_home', 'season', 'interceptions_MA_5_home', 'dayofweek', 'month', 'punt_return_yds_MA_5_home', 'rec_yds_MA_5_home', 'kicking_pts_MA_5_home', 'defense_sacks_MA_5_home', 'streak_away', 'interceptions_td_MA_5_away', 'people', 'temperature', 'defense_td_MA_5_home', 'fumbles_MA_5_away', 'kicks_return_td_MA_5_away', 'rec_td_MA_5_away', 'pass_td_MA_5_home', 'week', 'pass_yds_MA_5_home', 'wind', 'streak_home', 'weather_type', 'fumbles_MA_5_home', 'pass_yds_MA_5_away', 'fumbles_rec_MA_5_home', 'pass_td_MA_5_away', 'interceptions_td_MA_5_home']\n",
      "['awayteam', 'hometeam', 'away_coach', 'delta_day_home', 'season', 'kicks_return_yds_MA_5_away', 'rec_yds_MA_5_away', 'kicks_return_td_MA_5_home', 'delta_day_away', 'streak_away', 'interceptions_MA_5_away', 'interceptions_td_MA_5_away', 'rush_td_MA_5_home', 'people', 'kicks_return_yds_MA_5_home', 'temperature', 'punt_return_yds_MA_5_away', 'rec_td_MA_5_away', 'week', 'rec_td_MA_5_home', 'pass_yds_MA_5_away', 'interceptions_td_MA_5_home', 'humidity']\n"
     ]
    },
    {
     "name": "stderr",
     "output_type": "stream",
     "text": [
      "c:\\Users\\sylva\\AppData\\Local\\Programs\\Python\\Python310\\lib\\site-packages\\sklearn\\preprocessing\\_encoders.py:188: UserWarning: Found unknown categories in columns [2] during transform. These unknown categories will be encoded as all zeros\n",
      "  warnings.warn(\n"
     ]
    },
    {
     "name": "stdout",
     "output_type": "stream",
     "text": [
      "['awayteam', 'hometeam', 'rush_yds_MA_5_away', 'rec_yds_MA_5_away', 'people', 'weather_type', 'delta_day_home', 'pass_td_MA_5_away', 'defense_td_MA_5_home', 'rec_yds_MA_5_home', 'week']\n",
      "['awayteam', 'hometeam', 'defense_td_MA_5_away', 'delta_day_home', 'fumbles_rec_MA_5_away', 'kicks_return_yds_MA_5_away', 'rec_yds_MA_5_away', 'month', 'punt_return_yds_MA_5_home', 'kicks_return_td_MA_5_home', 'kicking_pts_MA_5_home', 'delta_day_away', 'rush_yds_MA_5_away', 'location', 'defense_sacks_MA_5_home', 'interceptions_td_MA_5_away', 'rush_td_MA_5_home', 'temperature', 'defense_td_MA_5_home', 'fumbles_MA_5_away', 'pass_td_MA_5_home', 'week', 'pass_yds_MA_5_home', 'rush_td_MA_5_away', 'rush_yds_MA_5_home', 'pass_yds_MA_5_away', 'pass_td_MA_5_away', 'interceptions_td_MA_5_home']\n",
      "['awayteam', 'hometeam', 'away_coach', 'rush_td_MA_5_away', 'rec_yds_MA_5_away', 'wind']\n"
     ]
    },
    {
     "name": "stderr",
     "output_type": "stream",
     "text": [
      "c:\\Users\\sylva\\AppData\\Local\\Programs\\Python\\Python310\\lib\\site-packages\\sklearn\\preprocessing\\_encoders.py:188: UserWarning: Found unknown categories in columns [2] during transform. These unknown categories will be encoded as all zeros\n",
      "  warnings.warn(\n"
     ]
    },
    {
     "name": "stdout",
     "output_type": "stream",
     "text": [
      "['awayteam', 'hometeam', 'away_coach', 'season', 'home_coach', 'kicks_return_yds_MA_5_away', 'interceptions_MA_5_home', 'dayofweek', 'delta_day_away', 'rush_yds_MA_5_away', 'location', 'streak_away', 'kicks_return_yds_MA_5_home', 'defense_td_MA_5_home', 'fumbles_MA_5_away', 'rec_td_MA_5_away', 'pass_yds_MA_5_home', 'rush_td_MA_5_away', 'defense_sacks_MA_5_away', 'streak_home', 'rush_yds_MA_5_home', 'fumbles_MA_5_home', 'stade', 'pass_td_MA_5_away', 'interceptions_td_MA_5_home', 'kicking_pts_MA_5_away']\n"
     ]
    },
    {
     "name": "stderr",
     "output_type": "stream",
     "text": [
      "c:\\Users\\sylva\\AppData\\Local\\Programs\\Python\\Python310\\lib\\site-packages\\sklearn\\preprocessing\\_encoders.py:188: UserWarning: Found unknown categories in columns [2] during transform. These unknown categories will be encoded as all zeros\n",
      "  warnings.warn(\n"
     ]
    },
    {
     "name": "stdout",
     "output_type": "stream",
     "text": [
      "['awayteam', 'hometeam', 'rush_yds_MA_5_away', 'rec_td_MA_5_away', 'fumbles_rec_MA_5_away', 'rec_yds_MA_5_away']\n",
      "['awayteam', 'hometeam', 'defense_td_MA_5_away', 'away_coach', 'delta_day_home', 'season', 'fumbles_rec_MA_5_away', 'rec_yds_MA_5_away', 'interceptions_MA_5_home', 'month', 'punt_return_yds_MA_5_home', 'kicks_return_td_MA_5_home', 'delta_day_away', 'rush_yds_MA_5_away', 'defense_sacks_MA_5_home', 'streak_away', 'interceptions_MA_5_away', 'interceptions_td_MA_5_away', 'rush_td_MA_5_home', 'people', 'defense_td_MA_5_home', 'temperature', 'kicks_return_td_MA_5_away', 'rec_td_MA_5_away', 'pass_td_MA_5_home', 'pass_yds_MA_5_home', 'rush_td_MA_5_away', 'defense_sacks_MA_5_away', 'rec_td_MA_5_home', 'rush_yds_MA_5_home', 'weather_type', 'pass_yds_MA_5_away', 'fumbles_rec_MA_5_home', 'pass_td_MA_5_away', 'interceptions_td_MA_5_home', 'humidity']\n"
     ]
    },
    {
     "name": "stderr",
     "output_type": "stream",
     "text": [
      "c:\\Users\\sylva\\AppData\\Local\\Programs\\Python\\Python310\\lib\\site-packages\\sklearn\\preprocessing\\_encoders.py:188: UserWarning: Found unknown categories in columns [2] during transform. These unknown categories will be encoded as all zeros\n",
      "  warnings.warn(\n"
     ]
    },
    {
     "name": "stdout",
     "output_type": "stream",
     "text": [
      "['awayteam', 'hometeam', 'dayofmonth', 'away_coach', 'delta_day_home', 'season', 'home_coach', 'rec_yds_MA_5_away', 'delta_day_away', 'rush_yds_MA_5_away', 'location', 'streak_away', 'interceptions_td_MA_5_away', 'rush_td_MA_5_home', 'kicks_return_td_MA_5_away', 'rec_td_MA_5_away', 'pass_td_MA_5_home', 'week', 'pass_yds_MA_5_home', 'wind', 'defense_sacks_MA_5_away', 'streak_home', 'pass_yds_MA_5_away', 'fumbles_rec_MA_5_home', 'pass_td_MA_5_away', 'kicking_pts_MA_5_away']\n"
     ]
    },
    {
     "name": "stderr",
     "output_type": "stream",
     "text": [
      "c:\\Users\\sylva\\AppData\\Local\\Programs\\Python\\Python310\\lib\\site-packages\\sklearn\\preprocessing\\_encoders.py:188: UserWarning: Found unknown categories in columns [2] during transform. These unknown categories will be encoded as all zeros\n",
      "  warnings.warn(\n"
     ]
    },
    {
     "name": "stdout",
     "output_type": "stream",
     "text": [
      "['awayteam', 'hometeam', 'dayofmonth', 'defense_td_MA_5_away', 'season', 'home_coach', 'rec_yds_MA_5_away', 'month', 'punt_return_yds_MA_5_home', 'kicking_pts_MA_5_home', 'kicks_return_td_MA_5_home', 'delta_day_away', 'rush_yds_MA_5_away', 'location', 'interceptions_MA_5_away', 'interceptions_td_MA_5_away', 'kicks_return_yds_MA_5_home', 'kicks_return_td_MA_5_away', 'punt_return_yds_MA_5_away', 'pass_td_MA_5_home', 'fumbles_MA_5_away', 'pass_yds_MA_5_home', 'wind', 'defense_sacks_MA_5_away', 'streak_home', 'rec_td_MA_5_home', 'pass_yds_MA_5_away']\n",
      "['awayteam', 'hometeam', 'defense_td_MA_5_away', 'delta_day_home', 'fumbles_rec_MA_5_away', 'interceptions_MA_5_home', 'rec_yds_MA_5_away', 'dayofweek', 'punt_return_yds_MA_5_home', 'kicking_pts_MA_5_home', 'delta_day_away', 'rush_yds_MA_5_away', 'defense_sacks_MA_5_home', 'streak_away', 'interceptions_MA_5_away', 'interceptions_td_MA_5_away', 'rush_td_MA_5_home', 'kicks_return_yds_MA_5_home', 'rec_td_MA_5_away', 'streak_home', 'weather_type', 'fumbles_MA_5_home', 'pass_yds_MA_5_away', 'fumbles_rec_MA_5_home', 'stade', 'pass_td_MA_5_away', 'interceptions_td_MA_5_home', 'humidity', 'kicking_pts_MA_5_away']\n",
      "['awayteam', 'hometeam', 'away_coach', 'delta_day_home', 'season', 'fumbles_rec_MA_5_away', 'kicks_return_yds_MA_5_away', 'rec_yds_MA_5_away', 'interceptions_MA_5_home', 'dayofweek', 'month', 'punt_return_yds_MA_5_home', 'rec_yds_MA_5_home', 'kicking_pts_MA_5_home', 'rush_yds_MA_5_away', 'location', 'defense_sacks_MA_5_home', 'streak_away', 'interceptions_MA_5_away', 'interceptions_td_MA_5_away', 'kicks_return_yds_MA_5_home', 'temperature', 'fumbles_MA_5_away', 'rec_td_MA_5_away', 'pass_yds_MA_5_home', 'rush_td_MA_5_away', 'wind', 'streak_home', 'rec_td_MA_5_home', 'weather_type', 'fumbles_rec_MA_5_home', 'interceptions_td_MA_5_home']\n"
     ]
    },
    {
     "name": "stderr",
     "output_type": "stream",
     "text": [
      "c:\\Users\\sylva\\AppData\\Local\\Programs\\Python\\Python310\\lib\\site-packages\\sklearn\\preprocessing\\_encoders.py:188: UserWarning: Found unknown categories in columns [2] during transform. These unknown categories will be encoded as all zeros\n",
      "  warnings.warn(\n"
     ]
    },
    {
     "name": "stdout",
     "output_type": "stream",
     "text": [
      "['awayteam', 'hometeam', 'pass_yds_MA_5_home', 'interceptions_td_MA_5_home', 'defense_sacks_MA_5_home', 'defense_sacks_MA_5_away', 'kicks_return_yds_MA_5_away', 'interceptions_MA_5_away', 'rec_yds_MA_5_away', 'rush_td_MA_5_home', 'defense_td_MA_5_away', 'pass_yds_MA_5_away', 'fumbles_rec_MA_5_home', 'month', 'fumbles_MA_5_away', 'pass_td_MA_5_home']\n",
      "['awayteam', 'hometeam', 'rush_yds_MA_5_away', 'defense_sacks_MA_5_home', 'defense_sacks_MA_5_away', 'rec_td_MA_5_home', 'interceptions_MA_5_home', 'rush_yds_MA_5_home', 'defense_td_MA_5_away', 'weather_type', 'pass_yds_MA_5_away', 'defense_td_MA_5_home', 'interceptions_td_MA_5_home', 'rec_yds_MA_5_home', 'kicking_pts_MA_5_away']\n",
      "['awayteam', 'hometeam', 'defense_td_MA_5_away', 'delta_day_home', 'season', 'home_coach', 'kicks_return_yds_MA_5_away', 'rec_yds_MA_5_away', 'dayofweek', 'month', 'punt_return_yds_MA_5_home', 'rec_yds_MA_5_home', 'kicking_pts_MA_5_home', 'rush_yds_MA_5_away', 'interceptions_td_MA_5_away', 'rush_td_MA_5_home', 'kicks_return_yds_MA_5_home', 'defense_td_MA_5_home', 'rec_td_MA_5_away', 'pass_td_MA_5_home', 'defense_sacks_MA_5_away', 'streak_home', 'rec_td_MA_5_home', 'rush_yds_MA_5_home', 'weather_type', 'fumbles_MA_5_home', 'pass_yds_MA_5_away', 'fumbles_rec_MA_5_home', 'pass_td_MA_5_away', 'stade', 'interceptions_td_MA_5_home', 'humidity']\n",
      "['awayteam', 'hometeam', 'away_coach', 'delta_day_home', 'season', 'home_coach', 'kicks_return_yds_MA_5_away', 'rec_yds_MA_5_away', 'interceptions_MA_5_home', 'dayofweek', 'month', 'kicking_pts_MA_5_home', 'delta_day_away', 'rush_yds_MA_5_away', 'interceptions_MA_5_away', 'punt_return_yds_MA_5_away', 'pass_td_MA_5_home', 'week', 'pass_yds_MA_5_home', 'rush_td_MA_5_away', 'streak_home', 'rec_td_MA_5_home', 'rush_yds_MA_5_home', 'fumbles_MA_5_home', 'fumbles_rec_MA_5_home', 'pass_td_MA_5_away', 'humidity']\n"
     ]
    },
    {
     "name": "stderr",
     "output_type": "stream",
     "text": [
      "c:\\Users\\sylva\\AppData\\Local\\Programs\\Python\\Python310\\lib\\site-packages\\sklearn\\preprocessing\\_encoders.py:188: UserWarning: Found unknown categories in columns [2] during transform. These unknown categories will be encoded as all zeros\n",
      "  warnings.warn(\n"
     ]
    },
    {
     "name": "stdout",
     "output_type": "stream",
     "text": [
      "['awayteam', 'hometeam', 'rush_yds_MA_5_away', 'location', 'defense_sacks_MA_5_home', 'kicks_return_yds_MA_5_away', 'streak_home', 'streak_away', 'interceptions_MA_5_home', 'defense_td_MA_5_away', 'delta_day_home', 'pass_yds_MA_5_away', 'pass_td_MA_5_away', 'punt_return_yds_MA_5_home', 'kicks_return_td_MA_5_away', 'kicks_return_td_MA_5_home', 'week']\n",
      "['awayteam', 'hometeam', 'season', 'kicks_return_yds_MA_5_away', 'fumbles_rec_MA_5_away', 'interceptions_MA_5_home', 'kicking_pts_MA_5_home', 'defense_sacks_MA_5_home', 'streak_away', 'interceptions_MA_5_away', 'interceptions_td_MA_5_away', 'rush_td_MA_5_home', 'people', 'kicks_return_yds_MA_5_home', 'temperature', 'kicks_return_td_MA_5_away', 'punt_return_yds_MA_5_away', 'week', 'defense_sacks_MA_5_away', 'streak_home', 'weather_type', 'pass_yds_MA_5_away', 'fumbles_rec_MA_5_home', 'stade', 'humidity']\n",
      "['awayteam', 'hometeam', 'dayofmonth', 'defense_td_MA_5_away', 'away_coach', 'season', 'dayofweek', 'month', 'rec_yds_MA_5_home', 'location', 'streak_away', 'interceptions_MA_5_away', 'rush_td_MA_5_home', 'kicks_return_yds_MA_5_home', 'defense_td_MA_5_home', 'temperature', 'fumbles_MA_5_away', 'pass_td_MA_5_home', 'week', 'pass_yds_MA_5_home', 'rush_td_MA_5_away', 'streak_home', 'rec_td_MA_5_home', 'rush_yds_MA_5_home', 'weather_type', 'pass_td_MA_5_away', 'humidity', 'kicking_pts_MA_5_away']\n"
     ]
    },
    {
     "name": "stderr",
     "output_type": "stream",
     "text": [
      "c:\\Users\\sylva\\AppData\\Local\\Programs\\Python\\Python310\\lib\\site-packages\\sklearn\\preprocessing\\_encoders.py:188: UserWarning: Found unknown categories in columns [2] during transform. These unknown categories will be encoded as all zeros\n",
      "  warnings.warn(\n"
     ]
    },
    {
     "name": "stdout",
     "output_type": "stream",
     "text": [
      "['awayteam', 'hometeam', 'dayofmonth', 'away_coach', 'delta_day_home', 'season', 'rec_yds_MA_5_away', 'dayofweek', 'kicks_return_td_MA_5_home', 'location', 'interceptions_MA_5_away', 'interceptions_td_MA_5_away', 'rush_td_MA_5_home', 'people', 'defense_td_MA_5_home', 'temperature', 'kicks_return_td_MA_5_away', 'fumbles_MA_5_away', 'pass_td_MA_5_home', 'week', 'pass_yds_MA_5_home', 'rush_td_MA_5_away', 'wind', 'defense_sacks_MA_5_away', 'streak_home', 'rush_yds_MA_5_home', 'weather_type', 'fumbles_MA_5_home', 'fumbles_rec_MA_5_home', 'humidity', 'kicking_pts_MA_5_away']\n"
     ]
    },
    {
     "name": "stderr",
     "output_type": "stream",
     "text": [
      "c:\\Users\\sylva\\AppData\\Local\\Programs\\Python\\Python310\\lib\\site-packages\\sklearn\\preprocessing\\_encoders.py:188: UserWarning: Found unknown categories in columns [2] during transform. These unknown categories will be encoded as all zeros\n",
      "  warnings.warn(\n"
     ]
    },
    {
     "name": "stdout",
     "output_type": "stream",
     "text": [
      "['awayteam', 'hometeam', 'dayofmonth', 'delta_day_home', 'fumbles_rec_MA_5_away', 'interceptions_MA_5_home', 'month', 'punt_return_yds_MA_5_home', 'kicks_return_td_MA_5_home', 'delta_day_away', 'location', 'rush_td_MA_5_home', 'fumbles_MA_5_away', 'punt_return_yds_MA_5_away', 'pass_td_MA_5_home', 'wind', 'weather_type', 'pass_yds_MA_5_away', 'stade', 'humidity', 'kicking_pts_MA_5_away']\n",
      "['awayteam', 'hometeam', 'pass_yds_MA_5_home', 'wind', 'fumbles_rec_MA_5_away', 'streak_home', 'rec_yds_MA_5_away', 'rush_td_MA_5_home', 'dayofweek', 'defense_td_MA_5_away', 'weather_type', 'stade', 'temperature', 'kicks_return_td_MA_5_home', 'rec_td_MA_5_away', 'humidity', 'kicking_pts_MA_5_away']\n",
      "['awayteam', 'hometeam', 'dayofmonth', 'away_coach', 'season', 'fumbles_rec_MA_5_away', 'interceptions_MA_5_home', 'location', 'interceptions_MA_5_away', 'rush_td_MA_5_home', 'temperature', 'defense_td_MA_5_home', 'pass_td_MA_5_home', 'week', 'pass_yds_MA_5_home', 'defense_sacks_MA_5_away', 'streak_home', 'rec_td_MA_5_home', 'weather_type', 'pass_yds_MA_5_away', 'pass_td_MA_5_away', 'stade', 'interceptions_td_MA_5_home', 'humidity']\n"
     ]
    },
    {
     "name": "stderr",
     "output_type": "stream",
     "text": [
      "c:\\Users\\sylva\\AppData\\Local\\Programs\\Python\\Python310\\lib\\site-packages\\sklearn\\preprocessing\\_encoders.py:188: UserWarning: Found unknown categories in columns [2] during transform. These unknown categories will be encoded as all zeros\n",
      "  warnings.warn(\n"
     ]
    },
    {
     "name": "stdout",
     "output_type": "stream",
     "text": [
      "['awayteam', 'hometeam', 'dayofmonth', 'defense_td_MA_5_away', 'away_coach', 'home_coach', 'kicks_return_yds_MA_5_away', 'rec_yds_MA_5_away', 'interceptions_MA_5_home', 'month', 'kicks_return_td_MA_5_home', 'defense_sacks_MA_5_home', 'interceptions_MA_5_away', 'interceptions_td_MA_5_away', 'rush_td_MA_5_home', 'defense_td_MA_5_home', 'temperature', 'fumbles_MA_5_away', 'rec_td_MA_5_away', 'pass_td_MA_5_home', 'week', 'pass_yds_MA_5_home', 'rush_td_MA_5_away', 'defense_sacks_MA_5_away', 'streak_home', 'rush_yds_MA_5_home', 'weather_type', 'fumbles_MA_5_home', 'pass_yds_MA_5_away', 'stade', 'pass_td_MA_5_away', 'humidity', 'kicking_pts_MA_5_away']\n"
     ]
    },
    {
     "name": "stderr",
     "output_type": "stream",
     "text": [
      "c:\\Users\\sylva\\AppData\\Local\\Programs\\Python\\Python310\\lib\\site-packages\\sklearn\\preprocessing\\_encoders.py:188: UserWarning: Found unknown categories in columns [2] during transform. These unknown categories will be encoded as all zeros\n",
      "  warnings.warn(\n"
     ]
    },
    {
     "name": "stdout",
     "output_type": "stream",
     "text": [
      "['awayteam', 'hometeam', 'home_coach', 'wind', 'fumbles_rec_MA_5_away', 'kicks_return_yds_MA_5_away', 'interceptions_MA_5_away', 'rec_td_MA_5_home', 'kicking_pts_MA_5_home', 'rush_td_MA_5_home', 'people', 'pass_yds_MA_5_away', 'stade', 'temperature', 'defense_td_MA_5_home', 'fumbles_MA_5_away', 'rec_yds_MA_5_home', 'humidity', 'delta_day_away']\n",
      "['awayteam', 'hometeam', 'dayofmonth', 'defense_td_MA_5_away', 'season', 'home_coach', 'kicks_return_td_MA_5_home', 'kicking_pts_MA_5_home', 'delta_day_away', 'rush_yds_MA_5_away', 'defense_sacks_MA_5_home', 'interceptions_td_MA_5_away', 'people', 'rec_td_MA_5_away', 'pass_td_MA_5_home', 'punt_return_yds_MA_5_away', 'rush_td_MA_5_away', 'defense_sacks_MA_5_away', 'streak_home', 'rec_td_MA_5_home', 'pass_yds_MA_5_away', 'pass_td_MA_5_away', 'humidity', 'kicking_pts_MA_5_away']\n",
      "['awayteam', 'hometeam', 'interceptions_td_MA_5_away', 'interceptions_MA_5_home', 'people', 'weather_type', 'delta_day_home', 'fumbles_rec_MA_5_home']\n",
      "['awayteam', 'hometeam', 'dayofmonth', 'defense_td_MA_5_away', 'delta_day_home', 'season', 'fumbles_rec_MA_5_away', 'interceptions_MA_5_home', 'month', 'rec_yds_MA_5_home', 'location', 'defense_sacks_MA_5_home', 'streak_away', 'interceptions_MA_5_away', 'rush_td_MA_5_home', 'people', 'kicks_return_yds_MA_5_home', 'defense_td_MA_5_home', 'fumbles_MA_5_away', 'rec_td_MA_5_away', 'pass_td_MA_5_home', 'punt_return_yds_MA_5_away', 'week', 'wind', 'defense_sacks_MA_5_away', 'streak_home', 'pass_yds_MA_5_away', 'fumbles_rec_MA_5_home', 'pass_td_MA_5_away', 'interceptions_td_MA_5_home', 'humidity']\n",
      "['awayteam', 'hometeam', 'rush_td_MA_5_away', 'fumbles_rec_MA_5_away', 'streak_home', 'interceptions_td_MA_5_away', 'dayofweek', 'away_coach', 'weather_type', 'delta_day_home', 'kicks_return_yds_MA_5_home', 'punt_return_yds_MA_5_away', 'pass_td_MA_5_home']\n"
     ]
    },
    {
     "name": "stderr",
     "output_type": "stream",
     "text": [
      "c:\\Users\\sylva\\AppData\\Local\\Programs\\Python\\Python310\\lib\\site-packages\\sklearn\\preprocessing\\_encoders.py:188: UserWarning: Found unknown categories in columns [2] during transform. These unknown categories will be encoded as all zeros\n",
      "  warnings.warn(\n"
     ]
    },
    {
     "name": "stdout",
     "output_type": "stream",
     "text": [
      "['awayteam', 'hometeam', 'dayofmonth', 'away_coach', 'season', 'home_coach', 'kicks_return_yds_MA_5_away', 'interceptions_MA_5_home', 'punt_return_yds_MA_5_home', 'kicks_return_td_MA_5_home', 'delta_day_away', 'location', 'defense_sacks_MA_5_home', 'streak_away', 'interceptions_td_MA_5_away', 'rush_td_MA_5_home', 'people', 'kicks_return_yds_MA_5_home', 'temperature', 'fumbles_MA_5_away', 'rec_td_MA_5_away', 'pass_td_MA_5_home', 'punt_return_yds_MA_5_away', 'week', 'pass_yds_MA_5_home', 'wind', 'defense_sacks_MA_5_away', 'rec_td_MA_5_home', 'rush_yds_MA_5_home', 'fumbles_MA_5_home', 'interceptions_td_MA_5_home', 'humidity']\n"
     ]
    },
    {
     "name": "stderr",
     "output_type": "stream",
     "text": [
      "c:\\Users\\sylva\\AppData\\Local\\Programs\\Python\\Python310\\lib\\site-packages\\sklearn\\preprocessing\\_encoders.py:188: UserWarning: Found unknown categories in columns [2] during transform. These unknown categories will be encoded as all zeros\n",
      "  warnings.warn(\n"
     ]
    },
    {
     "name": "stdout",
     "output_type": "stream",
     "text": [
      "['awayteam', 'hometeam', 'home_coach', 'kicks_return_yds_MA_5_away', 'rec_yds_MA_5_away', 'interceptions_MA_5_home', 'kicking_pts_MA_5_home', 'delta_day_away', 'streak_away', 'interceptions_td_MA_5_away', 'rush_td_MA_5_home', 'defense_td_MA_5_home', 'fumbles_MA_5_away', 'punt_return_yds_MA_5_away', 'pass_yds_MA_5_home', 'rush_td_MA_5_away', 'fumbles_MA_5_home', 'pass_yds_MA_5_away', 'fumbles_rec_MA_5_home', 'stade', 'interceptions_td_MA_5_home', 'humidity']\n",
      "['awayteam', 'hometeam', 'wind', 'defense_sacks_MA_5_home', 'kicks_return_yds_MA_5_away', 'fumbles_rec_MA_5_away', 'interceptions_td_MA_5_away', 'week', 'interceptions_MA_5_home', 'rush_yds_MA_5_home', 'people', 'humidity', 'pass_td_MA_5_away', 'punt_return_yds_MA_5_away', 'punt_return_yds_MA_5_home', 'rec_td_MA_5_away', 'pass_td_MA_5_home', 'kicking_pts_MA_5_away']\n",
      "['awayteam', 'hometeam', 'rush_td_MA_5_away', 'home_coach', 'defense_sacks_MA_5_away', 'rush_yds_MA_5_home', 'away_coach', 'weather_type', 'delta_day_home', 'pass_td_MA_5_away', 'defense_td_MA_5_home', 'punt_return_yds_MA_5_away', 'week']\n"
     ]
    },
    {
     "name": "stderr",
     "output_type": "stream",
     "text": [
      "c:\\Users\\sylva\\AppData\\Local\\Programs\\Python\\Python310\\lib\\site-packages\\sklearn\\preprocessing\\_encoders.py:188: UserWarning: Found unknown categories in columns [3] during transform. These unknown categories will be encoded as all zeros\n",
      "  warnings.warn(\n"
     ]
    },
    {
     "name": "stdout",
     "output_type": "stream",
     "text": [
      "['awayteam', 'hometeam', 'dayofmonth', 'season', 'kicks_return_yds_MA_5_away', 'month', 'punt_return_yds_MA_5_home', 'rec_yds_MA_5_home', 'kicking_pts_MA_5_home', 'interceptions_MA_5_away', 'people', 'defense_td_MA_5_home', 'temperature', 'fumbles_MA_5_away', 'kicks_return_td_MA_5_away', 'pass_td_MA_5_home', 'wind', 'rec_td_MA_5_home', 'rush_yds_MA_5_home', 'weather_type', 'fumbles_MA_5_home', 'fumbles_rec_MA_5_home', 'humidity']\n",
      "['awayteam', 'hometeam', 'pass_td_MA_5_home', 'wind', 'kicks_return_yds_MA_5_away', 'streak_away', 'interceptions_MA_5_away', 'rec_yds_MA_5_away', 'humidity', 'pass_yds_MA_5_away', 'fumbles_rec_MA_5_home', 'kicks_return_yds_MA_5_home', 'kicking_pts_MA_5_away', 'punt_return_yds_MA_5_home', 'kicks_return_td_MA_5_away', 'rec_td_MA_5_away', 'kicks_return_td_MA_5_home', 'week', 'delta_day_away']\n",
      "['awayteam', 'hometeam', 'dayofmonth', 'away_coach', 'season', 'home_coach', 'interceptions_MA_5_home', 'dayofweek', 'rec_yds_MA_5_home', 'delta_day_away', 'rush_yds_MA_5_away', 'location', 'defense_sacks_MA_5_home', 'interceptions_MA_5_away', 'interceptions_td_MA_5_away', 'rush_td_MA_5_home', 'people', 'temperature', 'pass_yds_MA_5_home', 'defense_sacks_MA_5_away', 'streak_home']\n"
     ]
    },
    {
     "name": "stderr",
     "output_type": "stream",
     "text": [
      "c:\\Users\\sylva\\AppData\\Local\\Programs\\Python\\Python310\\lib\\site-packages\\sklearn\\preprocessing\\_encoders.py:188: UserWarning: Found unknown categories in columns [2] during transform. These unknown categories will be encoded as all zeros\n",
      "  warnings.warn(\n"
     ]
    },
    {
     "name": "stdout",
     "output_type": "stream",
     "text": [
      "['awayteam', 'hometeam', 'dayofmonth', 'away_coach', 'season', 'home_coach', 'fumbles_rec_MA_5_away', 'interceptions_MA_5_home', 'month', 'punt_return_yds_MA_5_home', 'rec_yds_MA_5_home', 'kicks_return_td_MA_5_home', 'delta_day_away', 'rush_yds_MA_5_away', 'location', 'defense_sacks_MA_5_home', 'interceptions_MA_5_away', 'interceptions_td_MA_5_away', 'rush_td_MA_5_home', 'kicks_return_yds_MA_5_home', 'temperature', 'defense_td_MA_5_home', 'rec_td_MA_5_away', 'pass_td_MA_5_home', 'week', 'rush_td_MA_5_away', 'wind', 'defense_sacks_MA_5_away', 'streak_home', 'rush_yds_MA_5_home', 'weather_type', 'fumbles_MA_5_home', 'pass_yds_MA_5_away', 'fumbles_rec_MA_5_home', 'interceptions_td_MA_5_home']\n"
     ]
    },
    {
     "name": "stderr",
     "output_type": "stream",
     "text": [
      "c:\\Users\\sylva\\AppData\\Local\\Programs\\Python\\Python310\\lib\\site-packages\\sklearn\\preprocessing\\_encoders.py:188: UserWarning: Found unknown categories in columns [2] during transform. These unknown categories will be encoded as all zeros\n",
      "  warnings.warn(\n"
     ]
    },
    {
     "name": "stdout",
     "output_type": "stream",
     "text": [
      "['awayteam', 'hometeam', 'away_coach', 'delta_day_home', 'season', 'home_coach', 'kicks_return_yds_MA_5_away', 'interceptions_MA_5_home', 'dayofweek', 'month', 'punt_return_yds_MA_5_home', 'rec_yds_MA_5_home', 'kicking_pts_MA_5_home', 'rush_yds_MA_5_away', 'location', 'people', 'temperature', 'kicks_return_td_MA_5_away', 'rec_td_MA_5_away', 'pass_td_MA_5_home', 'fumbles_MA_5_away', 'week', 'pass_yds_MA_5_home', 'rush_td_MA_5_away', 'wind', 'streak_home', 'rush_yds_MA_5_home', 'pass_yds_MA_5_away', 'fumbles_rec_MA_5_home', 'stade', 'pass_td_MA_5_away', 'humidity', 'kicking_pts_MA_5_away']\n"
     ]
    },
    {
     "name": "stderr",
     "output_type": "stream",
     "text": [
      "c:\\Users\\sylva\\AppData\\Local\\Programs\\Python\\Python310\\lib\\site-packages\\sklearn\\preprocessing\\_encoders.py:188: UserWarning: Found unknown categories in columns [2] during transform. These unknown categories will be encoded as all zeros\n",
      "  warnings.warn(\n"
     ]
    },
    {
     "name": "stdout",
     "output_type": "stream",
     "text": [
      "['awayteam', 'hometeam', 'rush_yds_MA_5_away', 'pass_yds_MA_5_home', 'defense_sacks_MA_5_home', 'kicks_return_yds_MA_5_away', 'defense_sacks_MA_5_away', 'rec_td_MA_5_home', 'streak_home', 'interceptions_td_MA_5_away', 'fumbles_rec_MA_5_away', 'rush_yds_MA_5_home', 'weather_type', 'delta_day_home', 'fumbles_MA_5_home', 'fumbles_MA_5_away', 'humidity', 'kicks_return_td_MA_5_away']\n",
      "['awayteam', 'hometeam', 'dayofmonth', 'delta_day_home', 'home_coach', 'kicks_return_yds_MA_5_away', 'dayofweek', 'month', 'rec_yds_MA_5_home', 'kicking_pts_MA_5_home', 'rush_yds_MA_5_away', 'interceptions_MA_5_away', 'rush_td_MA_5_home', 'kicks_return_yds_MA_5_home', 'temperature', 'fumbles_MA_5_away', 'rec_td_MA_5_away', 'pass_td_MA_5_home', 'week', 'pass_yds_MA_5_home', 'rush_td_MA_5_away', 'defense_sacks_MA_5_away', 'fumbles_MA_5_home', 'pass_yds_MA_5_away', 'fumbles_rec_MA_5_home', 'pass_td_MA_5_away', 'humidity', 'kicking_pts_MA_5_away']\n",
      "['awayteam', 'hometeam', 'rush_yds_MA_5_away', 'streak_away', 'rec_yds_MA_5_away', 'rush_td_MA_5_home', 'delta_day_home', 'fumbles_rec_MA_5_home', 'pass_td_MA_5_away', 'fumbles_MA_5_away', 'humidity']\n",
      "['awayteam', 'hometeam', 'defense_td_MA_5_away', 'delta_day_home', 'season', 'home_coach', 'kicks_return_yds_MA_5_away', 'dayofweek', 'month', 'rec_yds_MA_5_home', 'kicking_pts_MA_5_home', 'kicks_return_td_MA_5_home', 'defense_sacks_MA_5_home', 'streak_away', 'rush_td_MA_5_home', 'temperature', 'fumbles_MA_5_away', 'rec_td_MA_5_away', 'pass_td_MA_5_home', 'pass_yds_MA_5_home', 'rush_td_MA_5_away', 'defense_sacks_MA_5_away', 'streak_home', 'rec_td_MA_5_home', 'weather_type', 'fumbles_MA_5_home', 'fumbles_rec_MA_5_home', 'stade', 'kicking_pts_MA_5_away']\n",
      "['awayteam', 'hometeam', 'home_coach', 'rec_yds_MA_5_away', 'interceptions_MA_5_home', 'dayofweek', 'rec_yds_MA_5_home', 'kicks_return_td_MA_5_home', 'delta_day_away', 'rush_yds_MA_5_away', 'location', 'streak_away', 'interceptions_MA_5_away', 'people', 'temperature', 'kicks_return_td_MA_5_away', 'pass_td_MA_5_home', 'rush_td_MA_5_away', 'defense_sacks_MA_5_away', 'rec_td_MA_5_home', 'rush_yds_MA_5_home', 'fumbles_MA_5_home', 'pass_yds_MA_5_away', 'fumbles_rec_MA_5_home', 'interceptions_td_MA_5_home', 'humidity', 'kicking_pts_MA_5_away']\n",
      "['awayteam', 'hometeam', 'defense_td_MA_5_away', 'away_coach', 'delta_day_home', 'kicks_return_yds_MA_5_away', 'interceptions_MA_5_home', 'dayofweek', 'month', 'rec_yds_MA_5_home', 'kicks_return_td_MA_5_home', 'kicking_pts_MA_5_home', 'rush_yds_MA_5_away', 'defense_sacks_MA_5_home', 'streak_away', 'rush_td_MA_5_home', 'people', 'defense_td_MA_5_home', 'fumbles_MA_5_away', 'kicks_return_td_MA_5_away', 'pass_td_MA_5_home', 'pass_yds_MA_5_home', 'weather_type', 'fumbles_MA_5_home', 'pass_yds_MA_5_away', 'pass_td_MA_5_away', 'stade', 'interceptions_td_MA_5_home', 'humidity']\n"
     ]
    },
    {
     "name": "stderr",
     "output_type": "stream",
     "text": [
      "c:\\Users\\sylva\\AppData\\Local\\Programs\\Python\\Python310\\lib\\site-packages\\sklearn\\preprocessing\\_encoders.py:188: UserWarning: Found unknown categories in columns [2] during transform. These unknown categories will be encoded as all zeros\n",
      "  warnings.warn(\n"
     ]
    },
    {
     "name": "stdout",
     "output_type": "stream",
     "text": [
      "['awayteam', 'hometeam', 'dayofmonth', 'defense_td_MA_5_away', 'season', 'home_coach', 'punt_return_yds_MA_5_home', 'rec_yds_MA_5_home', 'kicks_return_td_MA_5_home', 'kicking_pts_MA_5_home', 'location', 'defense_sacks_MA_5_home', 'streak_away', 'rush_td_MA_5_home', 'people', 'temperature', 'kicks_return_td_MA_5_away', 'rec_td_MA_5_away', 'fumbles_MA_5_away', 'week', 'pass_yds_MA_5_home', 'rush_td_MA_5_away', 'defense_sacks_MA_5_away', 'streak_home', 'rush_yds_MA_5_home', 'fumbles_rec_MA_5_home', 'pass_td_MA_5_away', 'kicking_pts_MA_5_away']\n",
      "['awayteam', 'hometeam', 'away_coach', 'rec_yds_MA_5_away', 'dayofweek', 'month', 'kicking_pts_MA_5_home', 'rush_yds_MA_5_away', 'location', 'streak_away', 'interceptions_MA_5_away', 'rush_td_MA_5_home', 'people', 'temperature', 'fumbles_MA_5_away', 'kicks_return_td_MA_5_away', 'punt_return_yds_MA_5_away', 'wind', 'defense_sacks_MA_5_away', 'rec_td_MA_5_home', 'weather_type', 'pass_yds_MA_5_away', 'fumbles_rec_MA_5_home', 'stade', 'pass_td_MA_5_away', 'humidity']\n"
     ]
    },
    {
     "name": "stderr",
     "output_type": "stream",
     "text": [
      "c:\\Users\\sylva\\AppData\\Local\\Programs\\Python\\Python310\\lib\\site-packages\\sklearn\\preprocessing\\_encoders.py:188: UserWarning: Found unknown categories in columns [2] during transform. These unknown categories will be encoded as all zeros\n",
      "  warnings.warn(\n"
     ]
    },
    {
     "name": "stdout",
     "output_type": "stream",
     "text": [
      "['awayteam', 'hometeam', 'location', 'streak_home', 'interceptions_MA_5_away', 'interceptions_td_MA_5_away', 'kicking_pts_MA_5_home', 'rec_yds_MA_5_away', 'rush_yds_MA_5_home', 'pass_yds_MA_5_away', 'stade', 'temperature', 'kicks_return_yds_MA_5_home', 'defense_td_MA_5_home', 'kicks_return_td_MA_5_away', 'kicks_return_td_MA_5_home', 'kicking_pts_MA_5_away']\n",
      "['awayteam', 'hometeam', 'dayofmonth', 'defense_td_MA_5_away', 'delta_day_home', 'season', 'fumbles_rec_MA_5_away', 'kicks_return_yds_MA_5_away', 'interceptions_MA_5_home', 'rec_yds_MA_5_away', 'rec_yds_MA_5_home', 'kicking_pts_MA_5_home', 'kicks_return_td_MA_5_home', 'delta_day_away', 'rush_yds_MA_5_away', 'location', 'streak_away', 'interceptions_td_MA_5_away', 'people', 'defense_td_MA_5_home', 'temperature', 'fumbles_MA_5_away', 'rec_td_MA_5_away', 'pass_td_MA_5_home', 'pass_yds_MA_5_home', 'rush_td_MA_5_away', 'wind', 'defense_sacks_MA_5_away', 'streak_home', 'pass_yds_MA_5_away', 'stade', 'humidity', 'kicking_pts_MA_5_away']\n",
      "['awayteam', 'hometeam', 'dayofmonth', 'away_coach', 'season', 'kicks_return_yds_MA_5_away', 'rec_yds_MA_5_away', 'interceptions_MA_5_home', 'rec_yds_MA_5_home', 'kicks_return_td_MA_5_home', 'kicking_pts_MA_5_home', 'delta_day_away', 'rush_yds_MA_5_away', 'location', 'streak_away', 'interceptions_td_MA_5_away', 'rush_td_MA_5_home', 'people', 'kicks_return_yds_MA_5_home', 'defense_td_MA_5_home', 'fumbles_MA_5_away', 'pass_yds_MA_5_home', 'wind', 'streak_home', 'rush_yds_MA_5_home', 'pass_yds_MA_5_away', 'fumbles_rec_MA_5_home', 'stade', 'kicking_pts_MA_5_away']\n"
     ]
    },
    {
     "name": "stderr",
     "output_type": "stream",
     "text": [
      "c:\\Users\\sylva\\AppData\\Local\\Programs\\Python\\Python310\\lib\\site-packages\\sklearn\\preprocessing\\_encoders.py:188: UserWarning: Found unknown categories in columns [2] during transform. These unknown categories will be encoded as all zeros\n",
      "  warnings.warn(\n"
     ]
    },
    {
     "name": "stdout",
     "output_type": "stream",
     "text": [
      "['awayteam', 'hometeam', 'defense_td_MA_5_away', 'away_coach', 'season', 'fumbles_rec_MA_5_away', 'kicks_return_yds_MA_5_away', 'interceptions_MA_5_home', 'month', 'rec_yds_MA_5_home', 'kicking_pts_MA_5_home', 'delta_day_away', 'location', 'defense_sacks_MA_5_home', 'streak_away', 'interceptions_MA_5_away', 'people', 'kicks_return_yds_MA_5_home', 'defense_td_MA_5_home', 'temperature', 'punt_return_yds_MA_5_away', 'week', 'pass_yds_MA_5_home', 'rush_td_MA_5_away', 'defense_sacks_MA_5_away', 'streak_home', 'rush_yds_MA_5_home', 'fumbles_MA_5_home', 'pass_yds_MA_5_away', 'pass_td_MA_5_away', 'stade', 'kicking_pts_MA_5_away']\n"
     ]
    },
    {
     "name": "stderr",
     "output_type": "stream",
     "text": [
      "c:\\Users\\sylva\\AppData\\Local\\Programs\\Python\\Python310\\lib\\site-packages\\sklearn\\preprocessing\\_encoders.py:188: UserWarning: Found unknown categories in columns [2] during transform. These unknown categories will be encoded as all zeros\n",
      "  warnings.warn(\n"
     ]
    },
    {
     "name": "stdout",
     "output_type": "stream",
     "text": [
      "['awayteam', 'hometeam', 'fumbles_MA_5_home', 'location', 'week', 'weather_type']\n",
      "['awayteam', 'hometeam', 'month', 'kicks_return_yds_MA_5_away', 'streak_home', 'defense_td_MA_5_away', 'temperature', 'interceptions_td_MA_5_home', 'defense_td_MA_5_home', 'punt_return_yds_MA_5_away']\n",
      "['awayteam', 'hometeam', 'away_coach', 'home_coach', 'fumbles_rec_MA_5_away', 'kicks_return_yds_MA_5_away', 'month', 'punt_return_yds_MA_5_home', 'rec_yds_MA_5_home', 'kicking_pts_MA_5_home', 'streak_away', 'interceptions_MA_5_away', 'rush_td_MA_5_home', 'kicks_return_yds_MA_5_home', 'defense_td_MA_5_home', 'temperature', 'fumbles_MA_5_away', 'punt_return_yds_MA_5_away', 'rec_td_MA_5_away', 'kicks_return_td_MA_5_away', 'week', 'rush_td_MA_5_away', 'wind', 'defense_sacks_MA_5_away', 'streak_home', 'rush_yds_MA_5_home', 'fumbles_MA_5_home', 'stade', 'interceptions_td_MA_5_home', 'humidity']\n"
     ]
    },
    {
     "name": "stderr",
     "output_type": "stream",
     "text": [
      "c:\\Users\\sylva\\AppData\\Local\\Programs\\Python\\Python310\\lib\\site-packages\\sklearn\\preprocessing\\_encoders.py:188: UserWarning: Found unknown categories in columns [2] during transform. These unknown categories will be encoded as all zeros\n",
      "  warnings.warn(\n"
     ]
    },
    {
     "name": "stdout",
     "output_type": "stream",
     "text": [
      "['awayteam', 'hometeam', 'dayofmonth', 'defense_td_MA_5_away', 'season', 'home_coach', 'fumbles_rec_MA_5_away', 'kicks_return_yds_MA_5_away', 'dayofweek', 'rec_yds_MA_5_home', 'interceptions_td_MA_5_away', 'people', 'kicks_return_td_MA_5_away', 'pass_td_MA_5_home', 'week', 'rec_td_MA_5_home', 'weather_type', 'fumbles_MA_5_home', 'pass_yds_MA_5_away', 'fumbles_rec_MA_5_home', 'stade', 'interceptions_td_MA_5_home', 'humidity', 'kicking_pts_MA_5_away']\n",
      "['awayteam', 'hometeam', 'defense_sacks_MA_5_home', 'fumbles_rec_MA_5_away', 'rec_td_MA_5_home', 'kicks_return_td_MA_5_away', 'rec_td_MA_5_away', 'kicks_return_td_MA_5_home']\n",
      "['awayteam', 'hometeam', 'dayofmonth', 'defense_td_MA_5_away', 'fumbles_rec_MA_5_away', 'interceptions_MA_5_home', 'month', 'rec_yds_MA_5_home', 'kicks_return_td_MA_5_home', 'delta_day_away', 'location', 'defense_sacks_MA_5_home', 'streak_away', 'interceptions_MA_5_away', 'interceptions_td_MA_5_away', 'rush_td_MA_5_home', 'temperature', 'kicks_return_td_MA_5_away', 'rec_td_MA_5_away', 'pass_td_MA_5_home', 'week', 'pass_yds_MA_5_home', 'rush_td_MA_5_away', 'wind', 'defense_sacks_MA_5_away', 'rec_td_MA_5_home', 'weather_type', 'fumbles_MA_5_home', 'fumbles_rec_MA_5_home', 'pass_td_MA_5_away', 'stade', 'interceptions_td_MA_5_home', 'kicking_pts_MA_5_away']\n",
      "['awayteam', 'hometeam', 'defense_td_MA_5_away', 'away_coach', 'delta_day_home', 'home_coach', 'rec_yds_MA_5_away', 'month', 'rec_yds_MA_5_home', 'kicks_return_td_MA_5_home', 'location', 'defense_sacks_MA_5_home', 'streak_away', 'interceptions_td_MA_5_away', 'fumbles_MA_5_away', 'rec_td_MA_5_away', 'rush_td_MA_5_away', 'wind', 'rush_yds_MA_5_home', 'weather_type', 'pass_yds_MA_5_away', 'pass_td_MA_5_away', 'stade', 'interceptions_td_MA_5_home', 'humidity']\n"
     ]
    },
    {
     "name": "stderr",
     "output_type": "stream",
     "text": [
      "c:\\Users\\sylva\\AppData\\Local\\Programs\\Python\\Python310\\lib\\site-packages\\sklearn\\preprocessing\\_encoders.py:188: UserWarning: Found unknown categories in columns [2] during transform. These unknown categories will be encoded as all zeros\n",
      "  warnings.warn(\n"
     ]
    },
    {
     "name": "stdout",
     "output_type": "stream",
     "text": [
      "['awayteam', 'hometeam', 'defense_td_MA_5_away', 'season', 'fumbles_rec_MA_5_away', 'rec_yds_MA_5_away', 'dayofweek', 'rec_yds_MA_5_home', 'rush_yds_MA_5_away', 'location', 'defense_sacks_MA_5_home', 'streak_away', 'interceptions_MA_5_away', 'defense_td_MA_5_home', 'fumbles_MA_5_away', 'rec_td_MA_5_away', 'punt_return_yds_MA_5_away', 'kicks_return_td_MA_5_away', 'rush_td_MA_5_away', 'wind', 'defense_sacks_MA_5_away', 'streak_home', 'rush_yds_MA_5_home', 'weather_type', 'fumbles_MA_5_home', 'stade', 'interceptions_td_MA_5_home', 'kicking_pts_MA_5_away']\n",
      "['awayteam', 'hometeam', 'rush_yds_MA_5_away', 'dayofweek', 'away_coach', 'temperature', 'month', 'punt_return_yds_MA_5_home', 'rec_yds_MA_5_home']\n"
     ]
    },
    {
     "name": "stderr",
     "output_type": "stream",
     "text": [
      "c:\\Users\\sylva\\AppData\\Local\\Programs\\Python\\Python310\\lib\\site-packages\\sklearn\\preprocessing\\_encoders.py:188: UserWarning: Found unknown categories in columns [2] during transform. These unknown categories will be encoded as all zeros\n",
      "  warnings.warn(\n"
     ]
    },
    {
     "name": "stdout",
     "output_type": "stream",
     "text": [
      "['awayteam', 'hometeam', 'dayofmonth', 'defense_td_MA_5_away', 'delta_day_home', 'season', 'home_coach', 'kicks_return_yds_MA_5_away', 'fumbles_rec_MA_5_away', 'interceptions_MA_5_home', 'rec_yds_MA_5_away', 'punt_return_yds_MA_5_home', 'rec_yds_MA_5_home', 'kicking_pts_MA_5_home', 'delta_day_away', 'rush_yds_MA_5_away', 'location', 'defense_sacks_MA_5_home', 'streak_away', 'interceptions_td_MA_5_away', 'rush_td_MA_5_home', 'people', 'temperature', 'kicks_return_td_MA_5_away', 'punt_return_yds_MA_5_away', 'fumbles_MA_5_away', 'week', 'defense_sacks_MA_5_away', 'streak_home', 'rush_yds_MA_5_home', 'fumbles_MA_5_home', 'pass_yds_MA_5_away']\n",
      "['awayteam', 'hometeam', 'away_coach', 'delta_day_home', 'fumbles_rec_MA_5_away', 'rec_yds_MA_5_away', 'dayofweek', 'month', 'delta_day_away', 'rush_yds_MA_5_away', 'streak_away', 'interceptions_MA_5_away', 'people', 'kicks_return_yds_MA_5_home', 'defense_td_MA_5_home', 'fumbles_MA_5_away', 'pass_yds_MA_5_home', 'rush_td_MA_5_away', 'wind', 'defense_sacks_MA_5_away', 'weather_type', 'pass_td_MA_5_away', 'stade', 'kicking_pts_MA_5_away']\n"
     ]
    },
    {
     "name": "stderr",
     "output_type": "stream",
     "text": [
      "c:\\Users\\sylva\\AppData\\Local\\Programs\\Python\\Python310\\lib\\site-packages\\sklearn\\preprocessing\\_encoders.py:188: UserWarning: Found unknown categories in columns [2] during transform. These unknown categories will be encoded as all zeros\n",
      "  warnings.warn(\n"
     ]
    },
    {
     "name": "stdout",
     "output_type": "stream",
     "text": [
      "['awayteam', 'hometeam', 'dayofmonth', 'wind', 'rush_td_MA_5_away', 'defense_sacks_MA_5_home', 'defense_sacks_MA_5_away', 'fumbles_rec_MA_5_away', 'rec_td_MA_5_home', 'interceptions_MA_5_away', 'streak_home', 'interceptions_MA_5_home', 'fumbles_MA_5_home', 'season', 'kicking_pts_MA_5_away', 'temperature', 'defense_td_MA_5_home', 'pass_td_MA_5_away', 'punt_return_yds_MA_5_away', 'rec_td_MA_5_away']\n",
      "['awayteam', 'hometeam', 'pass_yds_MA_5_home', 'wind', 'location', 'home_coach', 'rec_td_MA_5_home', 'away_coach', 'dayofweek', 'temperature', 'month', 'fumbles_MA_5_away', 'punt_return_yds_MA_5_away', 'kicking_pts_MA_5_away', 'delta_day_away']\n"
     ]
    },
    {
     "name": "stderr",
     "output_type": "stream",
     "text": [
      "c:\\Users\\sylva\\AppData\\Local\\Programs\\Python\\Python310\\lib\\site-packages\\sklearn\\preprocessing\\_encoders.py:188: UserWarning: Found unknown categories in columns [4] during transform. These unknown categories will be encoded as all zeros\n",
      "  warnings.warn(\n"
     ]
    },
    {
     "name": "stdout",
     "output_type": "stream",
     "text": [
      "['awayteam', 'hometeam', 'dayofmonth', 'defense_td_MA_5_away', 'away_coach', 'delta_day_home', 'fumbles_rec_MA_5_away', 'rec_yds_MA_5_away', 'interceptions_MA_5_home', 'kicks_return_td_MA_5_home', 'delta_day_away', 'defense_sacks_MA_5_home', 'interceptions_td_MA_5_away', 'people', 'temperature', 'defense_td_MA_5_home', 'fumbles_MA_5_away', 'rec_td_MA_5_away', 'pass_td_MA_5_home', 'wind', 'rec_td_MA_5_home', 'rush_yds_MA_5_home', 'weather_type', 'fumbles_MA_5_home', 'pass_yds_MA_5_away', 'humidity', 'kicking_pts_MA_5_away']\n"
     ]
    },
    {
     "name": "stderr",
     "output_type": "stream",
     "text": [
      "c:\\Users\\sylva\\AppData\\Local\\Programs\\Python\\Python310\\lib\\site-packages\\sklearn\\preprocessing\\_encoders.py:188: UserWarning: Found unknown categories in columns [2] during transform. These unknown categories will be encoded as all zeros\n",
      "  warnings.warn(\n"
     ]
    },
    {
     "name": "stdout",
     "output_type": "stream",
     "text": [
      "['awayteam', 'hometeam', 'rush_yds_MA_5_away', 'wind', 'interceptions_td_MA_5_home', 'kicks_return_yds_MA_5_away', 'fumbles_rec_MA_5_away', 'rec_td_MA_5_away', 'rec_yds_MA_5_away', 'away_coach', 'people', 'season', 'stade', 'month', 'kicks_return_td_MA_5_away', 'rec_yds_MA_5_home', 'pass_td_MA_5_home', 'kicking_pts_MA_5_away']\n"
     ]
    },
    {
     "name": "stderr",
     "output_type": "stream",
     "text": [
      "c:\\Users\\sylva\\AppData\\Local\\Programs\\Python\\Python310\\lib\\site-packages\\sklearn\\preprocessing\\_encoders.py:188: UserWarning: Found unknown categories in columns [2] during transform. These unknown categories will be encoded as all zeros\n",
      "  warnings.warn(\n"
     ]
    },
    {
     "name": "stdout",
     "output_type": "stream",
     "text": [
      "['awayteam', 'hometeam', 'defense_td_MA_5_away', 'delta_day_home', 'fumbles_rec_MA_5_away', 'kicks_return_yds_MA_5_away', 'interceptions_MA_5_home', 'dayofweek', 'rec_yds_MA_5_home', 'kicks_return_td_MA_5_home', 'kicking_pts_MA_5_home', 'rush_yds_MA_5_away', 'location', 'streak_away', 'rush_td_MA_5_home', 'people', 'kicks_return_yds_MA_5_home', 'defense_td_MA_5_home', 'fumbles_MA_5_away', 'punt_return_yds_MA_5_away', 'rush_td_MA_5_away', 'rec_td_MA_5_home', 'rush_yds_MA_5_home', 'fumbles_MA_5_home', 'fumbles_rec_MA_5_home', 'pass_td_MA_5_away', 'stade', 'kicking_pts_MA_5_away']\n",
      "['awayteam', 'hometeam', 'punt_return_yds_MA_5_away', 'temperature']\n",
      "['awayteam', 'hometeam', 'rush_td_MA_5_away', 'wind', 'home_coach', 'interceptions_td_MA_5_away', 'rec_yds_MA_5_away', 'away_coach', 'weather_type', 'stade', 'fumbles_MA_5_away', 'rec_td_MA_5_away', 'delta_day_away']\n"
     ]
    },
    {
     "name": "stderr",
     "output_type": "stream",
     "text": [
      "c:\\Users\\sylva\\AppData\\Local\\Programs\\Python\\Python310\\lib\\site-packages\\sklearn\\preprocessing\\_encoders.py:188: UserWarning: Found unknown categories in columns [3] during transform. These unknown categories will be encoded as all zeros\n",
      "  warnings.warn(\n"
     ]
    },
    {
     "name": "stdout",
     "output_type": "stream",
     "text": [
      "['awayteam', 'hometeam', 'dayofmonth', 'season', 'home_coach', 'fumbles_rec_MA_5_away', 'dayofweek', 'punt_return_yds_MA_5_home', 'rush_yds_MA_5_away', 'people', 'kicks_return_td_MA_5_away', 'punt_return_yds_MA_5_away', 'pass_td_MA_5_home', 'pass_yds_MA_5_home', 'defense_sacks_MA_5_away', 'streak_home', 'rec_td_MA_5_home', 'rush_yds_MA_5_home', 'weather_type', 'fumbles_rec_MA_5_home', 'stade', 'interceptions_td_MA_5_home']\n",
      "['awayteam', 'hometeam', 'rush_yds_MA_5_away', 'pass_yds_MA_5_home', 'defense_sacks_MA_5_home', 'fumbles_rec_MA_5_away', 'streak_home', 'interceptions_MA_5_away', 'rec_td_MA_5_home', 'defense_sacks_MA_5_away', 'interceptions_MA_5_home', 'rush_yds_MA_5_home', 'defense_td_MA_5_away', 'fumbles_MA_5_home', 'delta_day_home', 'defense_td_MA_5_home', 'interceptions_td_MA_5_home', 'kicks_return_td_MA_5_home', 'kicking_pts_MA_5_home', 'week']\n",
      "['awayteam', 'hometeam', 'dayofmonth', 'defense_td_MA_5_away', 'away_coach', 'delta_day_home', 'rec_yds_MA_5_away', 'dayofweek', 'punt_return_yds_MA_5_home', 'rec_yds_MA_5_home', 'kicks_return_td_MA_5_home', 'location', 'interceptions_MA_5_away', 'temperature', 'fumbles_MA_5_away', 'punt_return_yds_MA_5_away', 'pass_td_MA_5_home', 'kicks_return_td_MA_5_away', 'week', 'pass_yds_MA_5_home', 'rush_td_MA_5_away', 'streak_home', 'rush_yds_MA_5_home', 'fumbles_MA_5_home', 'pass_yds_MA_5_away', 'stade', 'humidity', 'kicking_pts_MA_5_away']\n"
     ]
    },
    {
     "name": "stderr",
     "output_type": "stream",
     "text": [
      "c:\\Users\\sylva\\AppData\\Local\\Programs\\Python\\Python310\\lib\\site-packages\\sklearn\\preprocessing\\_encoders.py:188: UserWarning: Found unknown categories in columns [2] during transform. These unknown categories will be encoded as all zeros\n",
      "  warnings.warn(\n"
     ]
    },
    {
     "name": "stdout",
     "output_type": "stream",
     "text": [
      "['awayteam', 'hometeam', 'home_coach', 'location', 'rec_yds_MA_5_away', 'rush_td_MA_5_home', 'away_coach', 'dayofweek', 'weather_type', 'fumbles_MA_5_home', 'pass_td_MA_5_away', 'stade', 'rec_td_MA_5_away', 'kicking_pts_MA_5_home', 'week']\n"
     ]
    },
    {
     "name": "stderr",
     "output_type": "stream",
     "text": [
      "c:\\Users\\sylva\\AppData\\Local\\Programs\\Python\\Python310\\lib\\site-packages\\sklearn\\preprocessing\\_encoders.py:188: UserWarning: Found unknown categories in columns [4] during transform. These unknown categories will be encoded as all zeros\n",
      "  warnings.warn(\n"
     ]
    },
    {
     "name": "stdout",
     "output_type": "stream",
     "text": [
      "['awayteam', 'hometeam', 'rush_td_MA_5_away', 'humidity', 'delta_day_away']\n",
      "['awayteam', 'hometeam', 'rush_td_MA_5_away', 'fumbles_rec_MA_5_away', 'rec_td_MA_5_home', 'rush_td_MA_5_home', 'defense_td_MA_5_away', 'fumbles_rec_MA_5_home', 'stade', 'defense_td_MA_5_home', 'pass_td_MA_5_away', 'rec_yds_MA_5_home', 'kicking_pts_MA_5_home']\n",
      "['awayteam', 'hometeam', 'delta_day_home', 'season', 'home_coach', 'kicks_return_yds_MA_5_away', 'rec_yds_MA_5_away', 'interceptions_MA_5_home', 'dayofweek', 'punt_return_yds_MA_5_home', 'rec_yds_MA_5_home', 'kicking_pts_MA_5_home', 'delta_day_away', 'rush_yds_MA_5_away', 'interceptions_MA_5_away', 'rush_td_MA_5_home', 'people', 'temperature', 'defense_td_MA_5_home', 'kicks_return_td_MA_5_away', 'rec_td_MA_5_away', 'punt_return_yds_MA_5_away', 'rush_td_MA_5_away', 'wind', 'rec_td_MA_5_home', 'rush_yds_MA_5_home', 'weather_type', 'pass_yds_MA_5_away', 'fumbles_rec_MA_5_home', 'pass_td_MA_5_away', 'interceptions_td_MA_5_home', 'humidity', 'kicking_pts_MA_5_away']\n",
      "['awayteam', 'hometeam', 'defense_td_MA_5_away', 'away_coach', 'delta_day_home', 'home_coach', 'rec_yds_MA_5_away', 'interceptions_MA_5_home', 'month', 'rec_yds_MA_5_home', 'kicks_return_td_MA_5_home', 'kicking_pts_MA_5_home', 'rush_yds_MA_5_away', 'location', 'people', 'kicks_return_yds_MA_5_home', 'temperature', 'defense_td_MA_5_home', 'fumbles_MA_5_away', 'punt_return_yds_MA_5_away', 'kicks_return_td_MA_5_away', 'week', 'pass_yds_MA_5_home', 'wind', 'fumbles_MA_5_home', 'pass_yds_MA_5_away', 'fumbles_rec_MA_5_home', 'stade', 'interceptions_td_MA_5_home', 'humidity']\n"
     ]
    },
    {
     "name": "stderr",
     "output_type": "stream",
     "text": [
      "c:\\Users\\sylva\\AppData\\Local\\Programs\\Python\\Python310\\lib\\site-packages\\sklearn\\preprocessing\\_encoders.py:188: UserWarning: Found unknown categories in columns [2] during transform. These unknown categories will be encoded as all zeros\n",
      "  warnings.warn(\n"
     ]
    },
    {
     "name": "stdout",
     "output_type": "stream",
     "text": [
      "['awayteam', 'hometeam', 'pass_td_MA_5_home', 'streak_home', 'rec_yds_MA_5_away', 'rush_yds_MA_5_home', 'dayofweek', 'delta_day_home', 'fumbles_MA_5_home', 'season', 'month', 'rec_td_MA_5_away', 'kicking_pts_MA_5_home']\n",
      "['awayteam', 'hometeam', 'rec_yds_MA_5_away']\n",
      "['awayteam', 'hometeam', 'dayofmonth', 'defense_td_MA_5_away', 'away_coach', 'delta_day_home', 'interceptions_MA_5_home', 'punt_return_yds_MA_5_home', 'kicking_pts_MA_5_home', 'kicks_return_td_MA_5_home', 'delta_day_away', 'rush_yds_MA_5_away', 'location', 'defense_sacks_MA_5_home', 'interceptions_td_MA_5_away', 'rush_td_MA_5_home', 'kicks_return_yds_MA_5_home', 'defense_td_MA_5_home', 'temperature', 'kicks_return_td_MA_5_away', 'rec_td_MA_5_away', 'pass_td_MA_5_home', 'punt_return_yds_MA_5_away', 'rush_td_MA_5_away', 'streak_home', 'rush_yds_MA_5_home', 'weather_type', 'fumbles_MA_5_home', 'pass_yds_MA_5_away', 'fumbles_rec_MA_5_home', 'pass_td_MA_5_away', 'stade', 'interceptions_td_MA_5_home']\n"
     ]
    },
    {
     "name": "stderr",
     "output_type": "stream",
     "text": [
      "c:\\Users\\sylva\\AppData\\Local\\Programs\\Python\\Python310\\lib\\site-packages\\sklearn\\preprocessing\\_encoders.py:188: UserWarning: Found unknown categories in columns [2] during transform. These unknown categories will be encoded as all zeros\n",
      "  warnings.warn(\n"
     ]
    },
    {
     "name": "stdout",
     "output_type": "stream",
     "text": [
      "['awayteam', 'hometeam', 'rush_yds_MA_5_away', 'dayofmonth', 'defense_sacks_MA_5_home', 'streak_away', 'streak_home', 'interceptions_MA_5_away', 'defense_td_MA_5_away', 'dayofweek', 'away_coach', 'people', 'fumbles_MA_5_home', 'delta_day_home', 'fumbles_rec_MA_5_home', 'season', 'punt_return_yds_MA_5_home', 'fumbles_MA_5_away', 'punt_return_yds_MA_5_away', 'kicks_return_td_MA_5_home']\n"
     ]
    },
    {
     "name": "stderr",
     "output_type": "stream",
     "text": [
      "c:\\Users\\sylva\\AppData\\Local\\Programs\\Python\\Python310\\lib\\site-packages\\sklearn\\preprocessing\\_encoders.py:188: UserWarning: Found unknown categories in columns [2] during transform. These unknown categories will be encoded as all zeros\n",
      "  warnings.warn(\n"
     ]
    },
    {
     "name": "stdout",
     "output_type": "stream",
     "text": [
      "['awayteam', 'hometeam', 'dayofmonth', 'defense_td_MA_5_away', 'delta_day_home', 'home_coach', 'kicks_return_yds_MA_5_away', 'fumbles_rec_MA_5_away', 'interceptions_MA_5_home', 'dayofweek', 'rec_yds_MA_5_home', 'kicks_return_td_MA_5_home', 'delta_day_away', 'rush_yds_MA_5_away', 'location', 'defense_sacks_MA_5_home', 'streak_away', 'interceptions_MA_5_away', 'rush_td_MA_5_home', 'people', 'kicks_return_yds_MA_5_home', 'defense_td_MA_5_home', 'fumbles_MA_5_away', 'pass_td_MA_5_home', 'week', 'pass_yds_MA_5_home', 'rush_td_MA_5_away', 'rush_yds_MA_5_home', 'weather_type', 'fumbles_MA_5_home', 'pass_yds_MA_5_away', 'stade', 'interceptions_td_MA_5_home', 'humidity', 'kicking_pts_MA_5_away']\n",
      "['awayteam', 'hometeam', 'defense_td_MA_5_away', 'away_coach', 'delta_day_home', 'home_coach', 'kicks_return_yds_MA_5_away', 'rec_yds_MA_5_away', 'month', 'rec_yds_MA_5_home', 'location', 'streak_away', 'interceptions_MA_5_away', 'interceptions_td_MA_5_away', 'rush_td_MA_5_home', 'kicks_return_yds_MA_5_home', 'temperature', 'rec_td_MA_5_away', 'week', 'rush_td_MA_5_away', 'rush_yds_MA_5_home', 'stade', 'interceptions_td_MA_5_home']\n"
     ]
    },
    {
     "name": "stderr",
     "output_type": "stream",
     "text": [
      "c:\\Users\\sylva\\AppData\\Local\\Programs\\Python\\Python310\\lib\\site-packages\\sklearn\\preprocessing\\_encoders.py:188: UserWarning: Found unknown categories in columns [2] during transform. These unknown categories will be encoded as all zeros\n",
      "  warnings.warn(\n"
     ]
    },
    {
     "name": "stdout",
     "output_type": "stream",
     "text": [
      "['awayteam', 'hometeam', 'location', 'interceptions_td_MA_5_away', 'interceptions_MA_5_home', 'rec_td_MA_5_away', 'kicking_pts_MA_5_away']\n",
      "['awayteam', 'hometeam', 'dayofmonth', 'defense_td_MA_5_away', 'away_coach', 'delta_day_home', 'season', 'home_coach', 'kicks_return_yds_MA_5_away', 'rec_yds_MA_5_away', 'dayofweek', 'month', 'punt_return_yds_MA_5_home', 'rec_yds_MA_5_home', 'kicking_pts_MA_5_home', 'delta_day_away', 'location', 'defense_sacks_MA_5_home', 'streak_away', 'interceptions_MA_5_away', 'interceptions_td_MA_5_away', 'defense_td_MA_5_home', 'rec_td_MA_5_away', 'punt_return_yds_MA_5_away', 'pass_yds_MA_5_home', 'rush_td_MA_5_away', 'streak_home', 'rush_yds_MA_5_home', 'weather_type', 'fumbles_rec_MA_5_home', 'humidity', 'kicking_pts_MA_5_away']\n"
     ]
    },
    {
     "name": "stderr",
     "output_type": "stream",
     "text": [
      "c:\\Users\\sylva\\AppData\\Local\\Programs\\Python\\Python310\\lib\\site-packages\\sklearn\\preprocessing\\_encoders.py:188: UserWarning: Found unknown categories in columns [2] during transform. These unknown categories will be encoded as all zeros\n",
      "  warnings.warn(\n"
     ]
    },
    {
     "name": "stdout",
     "output_type": "stream",
     "text": [
      "['awayteam', 'hometeam', 'season', 'home_coach', 'rec_yds_MA_5_away', 'month', 'kicks_return_td_MA_5_home', 'delta_day_away', 'defense_sacks_MA_5_home', 'interceptions_MA_5_away', 'kicks_return_yds_MA_5_home', 'temperature', 'fumbles_MA_5_away', 'punt_return_yds_MA_5_away', 'kicks_return_td_MA_5_away', 'rec_td_MA_5_home', 'rush_yds_MA_5_home', 'fumbles_MA_5_home', 'pass_yds_MA_5_away', 'stade', 'humidity']\n",
      "['awayteam', 'hometeam', 'dayofmonth', 'away_coach', 'delta_day_home', 'season', 'home_coach', 'rec_yds_MA_5_away', 'punt_return_yds_MA_5_home', 'kicks_return_td_MA_5_home', 'defense_sacks_MA_5_home', 'interceptions_MA_5_away', 'interceptions_td_MA_5_away', 'rush_td_MA_5_home', 'defense_td_MA_5_home', 'punt_return_yds_MA_5_away', 'rec_td_MA_5_away', 'week', 'rush_td_MA_5_away', 'rush_yds_MA_5_home', 'weather_type', 'fumbles_MA_5_home', 'pass_yds_MA_5_away', 'fumbles_rec_MA_5_home', 'kicking_pts_MA_5_away']\n"
     ]
    },
    {
     "name": "stderr",
     "output_type": "stream",
     "text": [
      "c:\\Users\\sylva\\AppData\\Local\\Programs\\Python\\Python310\\lib\\site-packages\\sklearn\\preprocessing\\_encoders.py:188: UserWarning: Found unknown categories in columns [2] during transform. These unknown categories will be encoded as all zeros\n",
      "  warnings.warn(\n"
     ]
    },
    {
     "name": "stdout",
     "output_type": "stream",
     "text": [
      "['awayteam', 'hometeam', 'season', 'home_coach', 'interceptions_MA_5_home', 'kicking_pts_MA_5_home', 'location', 'defense_sacks_MA_5_home', 'streak_away', 'people', 'kicks_return_td_MA_5_away', 'punt_return_yds_MA_5_away', 'pass_td_MA_5_home', 'fumbles_MA_5_away', 'week', 'pass_yds_MA_5_home', 'rush_td_MA_5_away', 'wind', 'streak_home', 'weather_type', 'fumbles_MA_5_home', 'interceptions_td_MA_5_home', 'kicking_pts_MA_5_away']\n",
      "['awayteam', 'hometeam', 'dayofmonth', 'defense_td_MA_5_away', 'away_coach', 'home_coach', 'fumbles_rec_MA_5_away', 'rec_yds_MA_5_away', 'month', 'punt_return_yds_MA_5_home', 'kicking_pts_MA_5_home', 'kicks_return_td_MA_5_home', 'streak_away', 'interceptions_MA_5_away', 'interceptions_td_MA_5_away', 'kicks_return_yds_MA_5_home', 'temperature', 'defense_td_MA_5_home', 'fumbles_MA_5_away', 'rec_td_MA_5_away', 'pass_td_MA_5_home', 'kicks_return_td_MA_5_away', 'pass_yds_MA_5_home', 'defense_sacks_MA_5_away', 'streak_home', 'rush_yds_MA_5_home', 'pass_td_MA_5_away', 'interceptions_td_MA_5_home', 'humidity']\n"
     ]
    },
    {
     "name": "stderr",
     "output_type": "stream",
     "text": [
      "c:\\Users\\sylva\\AppData\\Local\\Programs\\Python\\Python310\\lib\\site-packages\\sklearn\\preprocessing\\_encoders.py:188: UserWarning: Found unknown categories in columns [2] during transform. These unknown categories will be encoded as all zeros\n",
      "  warnings.warn(\n"
     ]
    },
    {
     "name": "stdout",
     "output_type": "stream",
     "text": [
      "['awayteam', 'hometeam', 'pass_yds_MA_5_home', 'rush_yds_MA_5_away', 'defense_sacks_MA_5_home', 'streak_away', 'rec_td_MA_5_home', 'rush_yds_MA_5_home', 'kicks_return_yds_MA_5_home', 'stade', 'temperature', 'punt_return_yds_MA_5_away', 'pass_td_MA_5_home', 'delta_day_away']\n",
      "['awayteam', 'hometeam', 'pass_yds_MA_5_home', 'pass_yds_MA_5_away']\n",
      "['awayteam', 'hometeam', 'pass_yds_MA_5_home', 'dayofmonth', 'defense_sacks_MA_5_away', 'streak_away', 'interceptions_td_MA_5_away', 'interceptions_MA_5_home', 'rush_yds_MA_5_home', 'away_coach', 'weather_type', 'fumbles_MA_5_home', 'fumbles_rec_MA_5_home', 'stade', 'interceptions_td_MA_5_home', 'punt_return_yds_MA_5_home', 'punt_return_yds_MA_5_away', 'kicking_pts_MA_5_away']\n"
     ]
    },
    {
     "name": "stderr",
     "output_type": "stream",
     "text": [
      "c:\\Users\\sylva\\AppData\\Local\\Programs\\Python\\Python310\\lib\\site-packages\\sklearn\\preprocessing\\_encoders.py:188: UserWarning: Found unknown categories in columns [2] during transform. These unknown categories will be encoded as all zeros\n",
      "  warnings.warn(\n"
     ]
    },
    {
     "name": "stdout",
     "output_type": "stream",
     "text": [
      "['awayteam', 'hometeam', 'rush_yds_MA_5_away', 'rec_yds_MA_5_away', 'defense_td_MA_5_away', 'fumbles_rec_MA_5_home', 'stade', 'kicking_pts_MA_5_home', 'week']\n",
      "['awayteam', 'hometeam', 'rush_yds_MA_5_away', 'home_coach', 'defense_sacks_MA_5_home', 'streak_away', 'streak_home', 'interceptions_MA_5_away', 'defense_sacks_MA_5_away', 'away_coach', 'weather_type', 'delta_day_home', 'fumbles_rec_MA_5_home', 'kicks_return_yds_MA_5_home', 'month', 'fumbles_MA_5_away', 'punt_return_yds_MA_5_away', 'humidity', 'kicking_pts_MA_5_away']\n"
     ]
    },
    {
     "name": "stderr",
     "output_type": "stream",
     "text": [
      "c:\\Users\\sylva\\AppData\\Local\\Programs\\Python\\Python310\\lib\\site-packages\\sklearn\\preprocessing\\_encoders.py:188: UserWarning: Found unknown categories in columns [3] during transform. These unknown categories will be encoded as all zeros\n",
      "  warnings.warn(\n"
     ]
    },
    {
     "name": "stdout",
     "output_type": "stream",
     "text": [
      "['awayteam', 'hometeam', 'home_coach', 'kicks_return_yds_MA_5_away', 'punt_return_yds_MA_5_home', 'rec_yds_MA_5_home', 'location', 'streak_away', 'interceptions_td_MA_5_away', 'rush_td_MA_5_home', 'kicks_return_yds_MA_5_home', 'defense_td_MA_5_home', 'temperature', 'rec_td_MA_5_away', 'week', 'rush_td_MA_5_away', 'wind', 'defense_sacks_MA_5_away', 'streak_home', 'rec_td_MA_5_home', 'rush_yds_MA_5_home', 'pass_td_MA_5_away']\n",
      "['awayteam', 'hometeam', 'wind', 'location', 'defense_sacks_MA_5_home', 'kicks_return_yds_MA_5_away', 'interceptions_MA_5_away', 'interceptions_td_MA_5_away', 'people', 'weather_type', 'fumbles_MA_5_home', 'stade', 'temperature', 'fumbles_MA_5_away', 'punt_return_yds_MA_5_away', 'kicks_return_td_MA_5_home', 'rec_td_MA_5_away', 'delta_day_away']\n",
      "['awayteam', 'hometeam', 'pass_yds_MA_5_home', 'rush_yds_MA_5_home', 'season', 'fumbles_rec_MA_5_home', 'pass_yds_MA_5_away', 'punt_return_yds_MA_5_home']\n",
      "['awayteam', 'hometeam', 'punt_return_yds_MA_5_away', 'kicking_pts_MA_5_home', 'defense_td_MA_5_home']\n",
      "['awayteam', 'hometeam', 'pass_yds_MA_5_home', 'defense_sacks_MA_5_home', 'rec_td_MA_5_home', 'rush_td_MA_5_home', 'people', 'delta_day_home', 'stade', 'temperature', 'kicks_return_td_MA_5_away', 'punt_return_yds_MA_5_away', 'kicking_pts_MA_5_away', 'delta_day_away']\n",
      "['awayteam', 'hometeam', 'pass_yds_MA_5_home', 'dayofmonth', 'location', 'streak_away', 'defense_sacks_MA_5_away', 'rec_td_MA_5_away', 'season', 'kicks_return_yds_MA_5_home', 'temperature', 'punt_return_yds_MA_5_home', 'fumbles_MA_5_away', 'punt_return_yds_MA_5_away', 'pass_td_MA_5_home', 'kicks_return_td_MA_5_away', 'kicking_pts_MA_5_away']\n",
      "['awayteam', 'hometeam', 'defense_td_MA_5_away', 'away_coach', 'season', 'kicks_return_yds_MA_5_away', 'interceptions_MA_5_home', 'rec_yds_MA_5_away', 'dayofweek', 'month', 'kicks_return_td_MA_5_home', 'kicking_pts_MA_5_home', 'delta_day_away', 'defense_sacks_MA_5_home', 'streak_away', 'interceptions_MA_5_away', 'interceptions_td_MA_5_away', 'people', 'fumbles_MA_5_away', 'rec_td_MA_5_away', 'pass_td_MA_5_home', 'kicks_return_td_MA_5_away', 'week', 'punt_return_yds_MA_5_away', 'pass_yds_MA_5_home', 'rush_td_MA_5_away', 'defense_sacks_MA_5_away', 'streak_home', 'rush_yds_MA_5_home', 'pass_yds_MA_5_away', 'stade', 'interceptions_td_MA_5_home', 'humidity']\n"
     ]
    },
    {
     "name": "stderr",
     "output_type": "stream",
     "text": [
      "c:\\Users\\sylva\\AppData\\Local\\Programs\\Python\\Python310\\lib\\site-packages\\sklearn\\preprocessing\\_encoders.py:188: UserWarning: Found unknown categories in columns [2] during transform. These unknown categories will be encoded as all zeros\n",
      "  warnings.warn(\n"
     ]
    },
    {
     "name": "stdout",
     "output_type": "stream",
     "text": [
      "['awayteam', 'hometeam', 'dayofmonth', 'away_coach', 'kicks_return_yds_MA_5_away', 'rec_yds_MA_5_away', 'dayofweek', 'month', 'punt_return_yds_MA_5_home', 'rec_yds_MA_5_home', 'kicks_return_td_MA_5_home', 'kicking_pts_MA_5_home', 'delta_day_away', 'streak_away', 'rush_td_MA_5_home', 'people', 'kicks_return_yds_MA_5_home', 'temperature', 'pass_td_MA_5_home', 'defense_sacks_MA_5_away', 'rush_yds_MA_5_home', 'stade']\n"
     ]
    },
    {
     "name": "stderr",
     "output_type": "stream",
     "text": [
      "c:\\Users\\sylva\\AppData\\Local\\Programs\\Python\\Python310\\lib\\site-packages\\sklearn\\preprocessing\\_encoders.py:188: UserWarning: Found unknown categories in columns [2] during transform. These unknown categories will be encoded as all zeros\n",
      "  warnings.warn(\n"
     ]
    },
    {
     "name": "stdout",
     "output_type": "stream",
     "text": [
      "['awayteam', 'hometeam', 'defense_td_MA_5_away', 'delta_day_home', 'season', 'kicks_return_yds_MA_5_away', 'interceptions_MA_5_home', 'rec_yds_MA_5_away', 'dayofweek', 'month', 'rec_yds_MA_5_home', 'kicking_pts_MA_5_home', 'location', 'defense_sacks_MA_5_home', 'streak_away', 'interceptions_MA_5_away', 'interceptions_td_MA_5_away', 'rush_td_MA_5_home', 'kicks_return_yds_MA_5_home', 'defense_td_MA_5_home', 'temperature', 'fumbles_MA_5_away', 'punt_return_yds_MA_5_away', 'kicks_return_td_MA_5_away', 'rec_td_MA_5_away', 'week', 'rush_td_MA_5_away', 'streak_home', 'rush_yds_MA_5_home', 'weather_type', 'fumbles_MA_5_home', 'pass_yds_MA_5_away', 'stade', 'pass_td_MA_5_away', 'interceptions_td_MA_5_home', 'kicking_pts_MA_5_away']\n",
      "['awayteam', 'hometeam', 'away_coach', 'delta_day_home', 'season', 'fumbles_rec_MA_5_away', 'kicks_return_yds_MA_5_away', 'rec_yds_MA_5_away', 'dayofweek', 'month', 'rec_yds_MA_5_home', 'kicks_return_td_MA_5_home', 'streak_away', 'rush_td_MA_5_home', 'rec_td_MA_5_away', 'punt_return_yds_MA_5_away', 'pass_yds_MA_5_home', 'wind', 'defense_sacks_MA_5_away', 'rec_td_MA_5_home', 'rush_yds_MA_5_home', 'pass_yds_MA_5_away', 'humidity', 'kicking_pts_MA_5_away']\n"
     ]
    },
    {
     "name": "stderr",
     "output_type": "stream",
     "text": [
      "c:\\Users\\sylva\\AppData\\Local\\Programs\\Python\\Python310\\lib\\site-packages\\sklearn\\preprocessing\\_encoders.py:188: UserWarning: Found unknown categories in columns [2] during transform. These unknown categories will be encoded as all zeros\n",
      "  warnings.warn(\n"
     ]
    },
    {
     "name": "stdout",
     "output_type": "stream",
     "text": [
      "['awayteam', 'hometeam', 'dayofmonth', 'defense_td_MA_5_away', 'season', 'home_coach', 'fumbles_rec_MA_5_away', 'dayofweek', 'month', 'punt_return_yds_MA_5_home', 'kicks_return_td_MA_5_home', 'location', 'streak_away', 'interceptions_MA_5_away', 'people', 'kicks_return_yds_MA_5_home', 'kicks_return_td_MA_5_away', 'punt_return_yds_MA_5_away', 'wind', 'defense_sacks_MA_5_away', 'rec_td_MA_5_home', 'fumbles_MA_5_home', 'stade', 'humidity', 'kicking_pts_MA_5_away']\n",
      "['awayteam', 'hometeam', 'interceptions_MA_5_away']\n",
      "['awayteam', 'hometeam', 'pass_yds_MA_5_home', 'rush_yds_MA_5_away', 'defense_sacks_MA_5_home', 'month', 'streak_home', 'interceptions_MA_5_away', 'interceptions_MA_5_home', 'rec_yds_MA_5_away', 'dayofweek', 'season', 'kicks_return_yds_MA_5_home', 'kicking_pts_MA_5_away', 'interceptions_td_MA_5_home', 'week', 'delta_day_away']\n",
      "['awayteam', 'hometeam', 'defense_td_MA_5_away', 'delta_day_home', 'fumbles_rec_MA_5_away', 'interceptions_MA_5_home', 'rec_yds_MA_5_away', 'kicking_pts_MA_5_home', 'rush_yds_MA_5_away', 'interceptions_MA_5_away', 'kicks_return_yds_MA_5_home', 'temperature', 'punt_return_yds_MA_5_away', 'rec_td_MA_5_away', 'pass_td_MA_5_home', 'week', 'pass_yds_MA_5_home', 'defense_sacks_MA_5_away', 'streak_home', 'rec_td_MA_5_home', 'weather_type', 'fumbles_MA_5_home', 'fumbles_rec_MA_5_home', 'stade', 'interceptions_td_MA_5_home', 'humidity', 'kicking_pts_MA_5_away']\n",
      "['awayteam', 'hometeam', 'rush_td_MA_5_away', 'home_coach', 'location', 'dayofmonth', 'kicks_return_yds_MA_5_away', 'fumbles_rec_MA_5_away', 'interceptions_MA_5_away', 'rec_td_MA_5_home', 'month', 'defense_sacks_MA_5_away', 'away_coach', 'dayofweek', 'delta_day_home', 'pass_td_MA_5_away', 'temperature', 'interceptions_td_MA_5_home', 'punt_return_yds_MA_5_home', 'fumbles_MA_5_away']\n"
     ]
    },
    {
     "name": "stderr",
     "output_type": "stream",
     "text": [
      "c:\\Users\\sylva\\AppData\\Local\\Programs\\Python\\Python310\\lib\\site-packages\\sklearn\\preprocessing\\_encoders.py:188: UserWarning: Found unknown categories in columns [4] during transform. These unknown categories will be encoded as all zeros\n",
      "  warnings.warn(\n"
     ]
    },
    {
     "name": "stdout",
     "output_type": "stream",
     "text": [
      "['awayteam', 'hometeam', 'wind', 'defense_td_MA_5_home']\n",
      "['awayteam', 'hometeam', 'interceptions_MA_5_home', 'humidity', 'punt_return_yds_MA_5_away', 'defense_td_MA_5_home', 'kicks_return_yds_MA_5_home', 'rec_yds_MA_5_home', 'kicking_pts_MA_5_home', 'rec_td_MA_5_away', 'delta_day_away']\n",
      "['awayteam', 'hometeam', 'rush_td_MA_5_away', 'wind', 'location', 'defense_sacks_MA_5_home', 'fumbles_rec_MA_5_away', 'streak_away', 'rec_yds_MA_5_away', 'defense_td_MA_5_away', 'people', 'fumbles_rec_MA_5_home', 'temperature', 'fumbles_MA_5_away', 'kicks_return_td_MA_5_away', 'week']\n",
      "['awayteam', 'hometeam', 'dayofmonth', 'defense_td_MA_5_away', 'away_coach', 'home_coach', 'fumbles_rec_MA_5_away', 'interceptions_MA_5_home', 'dayofweek', 'interceptions_MA_5_away', 'interceptions_td_MA_5_away', 'rush_td_MA_5_home', 'people', 'defense_td_MA_5_home', 'temperature', 'fumbles_MA_5_away', 'kicks_return_td_MA_5_away', 'punt_return_yds_MA_5_away', 'week', 'pass_yds_MA_5_home', 'rush_td_MA_5_away', 'streak_home', 'rush_yds_MA_5_home', 'weather_type', 'pass_yds_MA_5_away', 'pass_td_MA_5_away', 'stade', 'humidity', 'kicking_pts_MA_5_away']\n"
     ]
    },
    {
     "name": "stderr",
     "output_type": "stream",
     "text": [
      "c:\\Users\\sylva\\AppData\\Local\\Programs\\Python\\Python310\\lib\\site-packages\\sklearn\\preprocessing\\_encoders.py:188: UserWarning: Found unknown categories in columns [2] during transform. These unknown categories will be encoded as all zeros\n",
      "  warnings.warn(\n"
     ]
    },
    {
     "name": "stdout",
     "output_type": "stream",
     "text": [
      "['awayteam', 'hometeam', 'dayofmonth', 'defense_td_MA_5_away', 'home_coach', 'punt_return_yds_MA_5_home', 'rec_yds_MA_5_home', 'kicking_pts_MA_5_home', 'kicks_return_td_MA_5_home', 'delta_day_away', 'location', 'defense_sacks_MA_5_home', 'streak_away', 'interceptions_MA_5_away', 'interceptions_td_MA_5_away', 'rush_td_MA_5_home', 'kicks_return_yds_MA_5_home', 'defense_td_MA_5_home', 'fumbles_MA_5_away', 'punt_return_yds_MA_5_away', 'pass_td_MA_5_home', 'week', 'defense_sacks_MA_5_away', 'rush_yds_MA_5_home', 'weather_type', 'fumbles_MA_5_home', 'pass_yds_MA_5_away', 'fumbles_rec_MA_5_home', 'pass_td_MA_5_away', 'humidity', 'kicking_pts_MA_5_away']\n",
      "['awayteam', 'hometeam', 'pass_yds_MA_5_home', 'location', 'rush_yds_MA_5_home', 'weather_type', 'kicks_return_yds_MA_5_home', 'defense_td_MA_5_home', 'interceptions_td_MA_5_home', 'kicking_pts_MA_5_away']\n",
      "['awayteam', 'hometeam', 'pass_yds_MA_5_home', 'home_coach', 'defense_sacks_MA_5_home', 'kicks_return_yds_MA_5_away', 'streak_home', 'interceptions_MA_5_home', 'dayofweek', 'weather_type', 'fumbles_MA_5_home', 'pass_yds_MA_5_away', 'fumbles_rec_MA_5_home', 'defense_td_MA_5_home', 'fumbles_MA_5_away', 'delta_day_away']\n",
      "['awayteam', 'hometeam', 'home_coach', 'defense_sacks_MA_5_home', 'defense_sacks_MA_5_away']\n",
      "['awayteam', 'hometeam', 'defense_td_MA_5_away', 'fumbles_rec_MA_5_away', 'kicks_return_yds_MA_5_away', 'interceptions_MA_5_home', 'rec_yds_MA_5_home', 'kicking_pts_MA_5_home', 'kicks_return_td_MA_5_home', 'delta_day_away', 'streak_away', 'interceptions_MA_5_away', 'rush_td_MA_5_home', 'defense_td_MA_5_home', 'kicks_return_td_MA_5_away', 'rec_td_MA_5_away', 'week', 'pass_yds_MA_5_home', 'wind', 'streak_home', 'rec_td_MA_5_home', 'fumbles_MA_5_home', 'fumbles_rec_MA_5_home', 'pass_td_MA_5_away', 'stade', 'humidity']\n",
      "['awayteam', 'hometeam', 'dayofmonth', 'away_coach', 'kicks_return_yds_MA_5_away', 'month', 'punt_return_yds_MA_5_home', 'rec_yds_MA_5_home', 'kicking_pts_MA_5_home', 'delta_day_away', 'interceptions_MA_5_away', 'rush_td_MA_5_home', 'people', 'fumbles_MA_5_away', 'punt_return_yds_MA_5_away', 'week', 'defense_sacks_MA_5_away', 'fumbles_rec_MA_5_home', 'pass_td_MA_5_away', 'stade', 'interceptions_td_MA_5_home', 'humidity']\n"
     ]
    },
    {
     "name": "stderr",
     "output_type": "stream",
     "text": [
      "c:\\Users\\sylva\\AppData\\Local\\Programs\\Python\\Python310\\lib\\site-packages\\sklearn\\preprocessing\\_encoders.py:188: UserWarning: Found unknown categories in columns [2] during transform. These unknown categories will be encoded as all zeros\n",
      "  warnings.warn(\n"
     ]
    },
    {
     "name": "stdout",
     "output_type": "stream",
     "text": [
      "['awayteam', 'hometeam', 'dayofmonth', 'delta_day_home', 'season', 'kicks_return_yds_MA_5_away', 'fumbles_rec_MA_5_away', 'interceptions_MA_5_home', 'dayofweek', 'punt_return_yds_MA_5_home', 'rec_yds_MA_5_home', 'kicks_return_td_MA_5_home', 'kicking_pts_MA_5_home', 'defense_sacks_MA_5_home', 'streak_away', 'interceptions_MA_5_away', 'interceptions_td_MA_5_away', 'rush_td_MA_5_home', 'people', 'defense_td_MA_5_home', 'fumbles_MA_5_away', 'rec_td_MA_5_away', 'week', 'pass_yds_MA_5_home', 'wind', 'defense_sacks_MA_5_away', 'streak_home', 'fumbles_rec_MA_5_home', 'stade', 'interceptions_td_MA_5_home', 'humidity', 'kicking_pts_MA_5_away']\n",
      "['awayteam', 'hometeam', 'pass_yds_MA_5_home', 'location', 'fumbles_rec_MA_5_away', 'kicks_return_yds_MA_5_away', 'streak_home', 'defense_td_MA_5_away', 'weather_type', 'season', 'fumbles_rec_MA_5_home', 'pass_td_MA_5_away', 'kicks_return_yds_MA_5_home', 'interceptions_td_MA_5_home', 'defense_td_MA_5_home', 'kicks_return_td_MA_5_away', 'rec_td_MA_5_away', 'kicks_return_td_MA_5_home', 'kicking_pts_MA_5_away']\n",
      "['awayteam', 'hometeam', 'rush_td_MA_5_away', 'wind', 'defense_sacks_MA_5_away', 'streak_home', 'rec_td_MA_5_home', 'away_coach', 'temperature', 'punt_return_yds_MA_5_home', 'fumbles_MA_5_away', 'rec_td_MA_5_away', 'week']\n"
     ]
    },
    {
     "name": "stderr",
     "output_type": "stream",
     "text": [
      "c:\\Users\\sylva\\AppData\\Local\\Programs\\Python\\Python310\\lib\\site-packages\\sklearn\\preprocessing\\_encoders.py:188: UserWarning: Found unknown categories in columns [2] during transform. These unknown categories will be encoded as all zeros\n",
      "  warnings.warn(\n"
     ]
    },
    {
     "name": "stdout",
     "output_type": "stream",
     "text": [
      "['awayteam', 'hometeam', 'dayofmonth', 'defense_td_MA_5_away', 'rec_yds_MA_5_away', 'interceptions_MA_5_home', 'dayofweek', 'punt_return_yds_MA_5_home', 'rec_yds_MA_5_home', 'kicking_pts_MA_5_home', 'delta_day_away', 'location', 'defense_sacks_MA_5_home', 'interceptions_MA_5_away', 'kicks_return_yds_MA_5_home', 'defense_sacks_MA_5_away', 'rush_yds_MA_5_home', 'weather_type', 'fumbles_MA_5_home', 'pass_yds_MA_5_away', 'fumbles_rec_MA_5_home', 'humidity', 'kicking_pts_MA_5_away']\n",
      "['awayteam', 'hometeam', 'away_coach', 'delta_day_home', 'season', 'home_coach', 'kicks_return_yds_MA_5_away', 'dayofweek', 'punt_return_yds_MA_5_home', 'kicks_return_td_MA_5_home', 'kicking_pts_MA_5_home', 'location', 'defense_sacks_MA_5_home', 'streak_away', 'rush_td_MA_5_home', 'temperature', 'fumbles_MA_5_away', 'rec_td_MA_5_away', 'punt_return_yds_MA_5_away', 'kicks_return_td_MA_5_away', 'rush_td_MA_5_away', 'rush_yds_MA_5_home', 'fumbles_MA_5_home', 'stade', 'pass_td_MA_5_away', 'humidity', 'kicking_pts_MA_5_away']\n"
     ]
    },
    {
     "name": "stderr",
     "output_type": "stream",
     "text": [
      "c:\\Users\\sylva\\AppData\\Local\\Programs\\Python\\Python310\\lib\\site-packages\\sklearn\\preprocessing\\_encoders.py:188: UserWarning: Found unknown categories in columns [2] during transform. These unknown categories will be encoded as all zeros\n",
      "  warnings.warn(\n"
     ]
    },
    {
     "name": "stdout",
     "output_type": "stream",
     "text": [
      "['awayteam', 'hometeam', 'location', 'streak_home', 'interceptions_MA_5_away', 'interceptions_td_MA_5_away', 'interceptions_MA_5_home', 'rush_td_MA_5_home', 'people', 'weather_type', 'pass_yds_MA_5_away', 'fumbles_rec_MA_5_home', 'month', 'humidity', 'week']\n",
      "['awayteam', 'hometeam', 'defense_td_MA_5_away', 'delta_day_home', 'fumbles_rec_MA_5_away', 'interceptions_MA_5_home', 'dayofweek', 'month', 'punt_return_yds_MA_5_home', 'rec_yds_MA_5_home', 'kicks_return_td_MA_5_home', 'rush_yds_MA_5_away', 'interceptions_MA_5_away', 'interceptions_td_MA_5_away', 'rush_td_MA_5_home', 'kicks_return_yds_MA_5_home', 'defense_td_MA_5_home', 'temperature', 'fumbles_MA_5_away', 'pass_td_MA_5_home', 'week', 'pass_yds_MA_5_home', 'wind', 'defense_sacks_MA_5_away', 'streak_home', 'rush_yds_MA_5_home', 'pass_yds_MA_5_away', 'fumbles_rec_MA_5_home']\n",
      "['awayteam', 'hometeam', 'streak_away', 'kicks_return_yds_MA_5_away', 'rec_yds_MA_5_away', 'punt_return_yds_MA_5_home', 'kicks_return_td_MA_5_home']\n",
      "['awayteam', 'hometeam', 'defense_td_MA_5_away', 'away_coach', 'delta_day_home', 'fumbles_rec_MA_5_away', 'kicks_return_yds_MA_5_away', 'dayofweek', 'month', 'punt_return_yds_MA_5_home', 'kicking_pts_MA_5_home', 'delta_day_away', 'interceptions_td_MA_5_away', 'rush_td_MA_5_home', 'people', 'temperature', 'fumbles_MA_5_away', 'punt_return_yds_MA_5_away', 'rec_td_MA_5_away', 'wind', 'defense_sacks_MA_5_away', 'streak_home', 'rec_td_MA_5_home', 'weather_type', 'fumbles_MA_5_home', 'pass_td_MA_5_away', 'interceptions_td_MA_5_home']\n"
     ]
    },
    {
     "name": "stderr",
     "output_type": "stream",
     "text": [
      "c:\\Users\\sylva\\AppData\\Local\\Programs\\Python\\Python310\\lib\\site-packages\\sklearn\\preprocessing\\_encoders.py:188: UserWarning: Found unknown categories in columns [2] during transform. These unknown categories will be encoded as all zeros\n",
      "  warnings.warn(\n"
     ]
    },
    {
     "name": "stdout",
     "output_type": "stream",
     "text": [
      "['awayteam', 'hometeam', 'pass_yds_MA_5_home', 'dayofmonth', 'wind', 'location', 'defense_sacks_MA_5_home', 'interceptions_MA_5_away', 'defense_td_MA_5_away', 'away_coach', 'people', 'season', 'pass_yds_MA_5_away', 'stade', 'defense_td_MA_5_home', 'pass_td_MA_5_away', 'rec_yds_MA_5_home', 'week']\n"
     ]
    },
    {
     "name": "stderr",
     "output_type": "stream",
     "text": [
      "c:\\Users\\sylva\\AppData\\Local\\Programs\\Python\\Python310\\lib\\site-packages\\sklearn\\preprocessing\\_encoders.py:188: UserWarning: Found unknown categories in columns [3] during transform. These unknown categories will be encoded as all zeros\n",
      "  warnings.warn(\n"
     ]
    },
    {
     "name": "stdout",
     "output_type": "stream",
     "text": [
      "['awayteam', 'hometeam', 'wind', 'interceptions_td_MA_5_home', 'rec_td_MA_5_home', 'interceptions_td_MA_5_away', 'rec_td_MA_5_away', 'kicking_pts_MA_5_home', 'rush_yds_MA_5_home', 'away_coach', 'fumbles_MA_5_home', 'stade', 'temperature', 'kicking_pts_MA_5_away', 'punt_return_yds_MA_5_home', 'pass_td_MA_5_away', 'rec_yds_MA_5_home', 'kicks_return_td_MA_5_home', 'week']\n"
     ]
    },
    {
     "name": "stderr",
     "output_type": "stream",
     "text": [
      "c:\\Users\\sylva\\AppData\\Local\\Programs\\Python\\Python310\\lib\\site-packages\\sklearn\\preprocessing\\_encoders.py:188: UserWarning: Found unknown categories in columns [2] during transform. These unknown categories will be encoded as all zeros\n",
      "  warnings.warn(\n"
     ]
    },
    {
     "name": "stdout",
     "output_type": "stream",
     "text": [
      "['awayteam', 'hometeam', 'dayofmonth', 'home_coach', 'rec_yds_MA_5_away', 'rec_yds_MA_5_home', 'kicking_pts_MA_5_home', 'rush_yds_MA_5_away', 'location', 'defense_sacks_MA_5_home', 'streak_away', 'rush_td_MA_5_home', 'kicks_return_yds_MA_5_home', 'temperature', 'kicks_return_td_MA_5_away', 'pass_td_MA_5_home', 'week', 'pass_yds_MA_5_home', 'rush_td_MA_5_away', 'wind', 'defense_sacks_MA_5_away', 'rec_td_MA_5_home', 'rush_yds_MA_5_home', 'weather_type', 'fumbles_MA_5_home', 'pass_yds_MA_5_away', 'fumbles_rec_MA_5_home', 'stade', 'humidity']\n",
      "['awayteam', 'hometeam', 'dayofmonth', 'rush_td_MA_5_away', 'streak_away', 'streak_home', 'rec_td_MA_5_home', 'away_coach', 'punt_return_yds_MA_5_home', 'kicking_pts_MA_5_away', 'delta_day_away']\n"
     ]
    },
    {
     "name": "stderr",
     "output_type": "stream",
     "text": [
      "c:\\Users\\sylva\\AppData\\Local\\Programs\\Python\\Python310\\lib\\site-packages\\sklearn\\preprocessing\\_encoders.py:188: UserWarning: Found unknown categories in columns [2] during transform. These unknown categories will be encoded as all zeros\n",
      "  warnings.warn(\n"
     ]
    },
    {
     "name": "stdout",
     "output_type": "stream",
     "text": [
      "['awayteam', 'hometeam', 'dayofmonth', 'defense_td_MA_5_away', 'delta_day_home', 'kicks_return_yds_MA_5_away', 'fumbles_rec_MA_5_away', 'rec_yds_MA_5_away', 'interceptions_MA_5_home', 'dayofweek', 'month', 'kicks_return_td_MA_5_home', 'kicking_pts_MA_5_home', 'delta_day_away', 'rush_td_MA_5_home', 'people', 'kicks_return_yds_MA_5_home', 'defense_td_MA_5_home', 'fumbles_MA_5_away', 'rec_td_MA_5_away', 'pass_td_MA_5_home', 'punt_return_yds_MA_5_away', 'week', 'pass_yds_MA_5_home', 'defense_sacks_MA_5_away', 'streak_home', 'weather_type', 'fumbles_MA_5_home', 'pass_td_MA_5_away', 'interceptions_td_MA_5_home']\n",
      "['awayteam', 'hometeam', 'dayofmonth', 'away_coach', 'season', 'home_coach', 'fumbles_rec_MA_5_away', 'rec_yds_MA_5_away', 'dayofweek', 'month', 'punt_return_yds_MA_5_home', 'kicks_return_td_MA_5_home', 'kicking_pts_MA_5_home', 'streak_away', 'interceptions_MA_5_away', 'rush_td_MA_5_home', 'kicks_return_yds_MA_5_home', 'temperature', 'defense_td_MA_5_home', 'fumbles_MA_5_away', 'punt_return_yds_MA_5_away', 'pass_td_MA_5_home', 'rec_td_MA_5_away', 'week', 'rush_td_MA_5_away', 'wind', 'streak_home', 'rec_td_MA_5_home', 'rush_yds_MA_5_home', 'fumbles_MA_5_home', 'pass_yds_MA_5_away', 'fumbles_rec_MA_5_home', 'pass_td_MA_5_away', 'interceptions_td_MA_5_home']\n"
     ]
    },
    {
     "name": "stderr",
     "output_type": "stream",
     "text": [
      "c:\\Users\\sylva\\AppData\\Local\\Programs\\Python\\Python310\\lib\\site-packages\\sklearn\\preprocessing\\_encoders.py:188: UserWarning: Found unknown categories in columns [2] during transform. These unknown categories will be encoded as all zeros\n",
      "  warnings.warn(\n"
     ]
    },
    {
     "name": "stdout",
     "output_type": "stream",
     "text": [
      "['awayteam', 'hometeam', 'dayofmonth', 'defense_td_MA_5_away', 'season', 'home_coach', 'kicks_return_yds_MA_5_away', 'fumbles_rec_MA_5_away', 'interceptions_MA_5_home', 'kicks_return_td_MA_5_home', 'kicking_pts_MA_5_home', 'location', 'defense_sacks_MA_5_home', 'streak_away', 'interceptions_MA_5_away', 'interceptions_td_MA_5_away', 'rush_td_MA_5_home', 'temperature', 'defense_td_MA_5_home', 'kicks_return_td_MA_5_away', 'punt_return_yds_MA_5_away', 'pass_td_MA_5_home', 'rec_td_MA_5_away', 'week', 'wind', 'streak_home', 'rush_yds_MA_5_home', 'fumbles_MA_5_home', 'pass_yds_MA_5_away', 'stade', 'interceptions_td_MA_5_home']\n",
      "['awayteam', 'hometeam', 'defense_td_MA_5_away', 'away_coach', 'home_coach', 'interceptions_MA_5_home', 'dayofweek', 'month', 'kicks_return_td_MA_5_home', 'delta_day_away', 'defense_sacks_MA_5_home', 'rush_td_MA_5_home', 'people', 'kicks_return_yds_MA_5_home', 'temperature', 'defense_td_MA_5_home', 'kicks_return_td_MA_5_away', 'punt_return_yds_MA_5_away', 'week', 'rush_td_MA_5_away', 'wind', 'defense_sacks_MA_5_away', 'rec_td_MA_5_home', 'pass_yds_MA_5_away', 'stade', 'pass_td_MA_5_away', 'humidity', 'kicking_pts_MA_5_away']\n"
     ]
    },
    {
     "name": "stderr",
     "output_type": "stream",
     "text": [
      "c:\\Users\\sylva\\AppData\\Local\\Programs\\Python\\Python310\\lib\\site-packages\\sklearn\\preprocessing\\_encoders.py:188: UserWarning: Found unknown categories in columns [2] during transform. These unknown categories will be encoded as all zeros\n",
      "  warnings.warn(\n"
     ]
    },
    {
     "name": "stdout",
     "output_type": "stream",
     "text": [
      "['awayteam', 'hometeam', 'pass_td_MA_5_home', 'interceptions_MA_5_away']\n",
      "['awayteam', 'hometeam', 'defense_td_MA_5_away', 'delta_day_home', 'season', 'home_coach', 'kicks_return_yds_MA_5_away', 'fumbles_rec_MA_5_away', 'rec_yds_MA_5_away', 'location', 'defense_sacks_MA_5_home', 'streak_away', 'interceptions_td_MA_5_away', 'rush_td_MA_5_home', 'people', 'kicks_return_yds_MA_5_home', 'temperature', 'defense_td_MA_5_home', 'kicks_return_td_MA_5_away', 'rec_td_MA_5_away', 'pass_td_MA_5_home', 'pass_yds_MA_5_home', 'streak_home', 'rush_yds_MA_5_home', 'weather_type', 'pass_yds_MA_5_away', 'fumbles_rec_MA_5_home', 'stade', 'kicking_pts_MA_5_away']\n",
      "['awayteam', 'hometeam', 'rec_yds_MA_5_away', 'dayofweek', 'kicks_return_yds_MA_5_away', 'temperature']\n",
      "['awayteam', 'hometeam', 'dayofmonth', 'defense_td_MA_5_away', 'away_coach', 'season', 'punt_return_yds_MA_5_home', 'kicks_return_td_MA_5_home', 'rush_yds_MA_5_away', 'interceptions_MA_5_away', 'rush_td_MA_5_home', 'temperature', 'fumbles_MA_5_away', 'punt_return_yds_MA_5_away', 'pass_td_MA_5_home', 'rec_td_MA_5_away', 'pass_yds_MA_5_home', 'rush_td_MA_5_away', 'wind', 'defense_sacks_MA_5_away', 'rec_td_MA_5_home', 'rush_yds_MA_5_home', 'weather_type', 'fumbles_MA_5_home', 'pass_yds_MA_5_away', 'fumbles_rec_MA_5_home', 'pass_td_MA_5_away', 'interceptions_td_MA_5_home']\n"
     ]
    },
    {
     "name": "stderr",
     "output_type": "stream",
     "text": [
      "c:\\Users\\sylva\\AppData\\Local\\Programs\\Python\\Python310\\lib\\site-packages\\sklearn\\preprocessing\\_encoders.py:188: UserWarning: Found unknown categories in columns [2] during transform. These unknown categories will be encoded as all zeros\n",
      "  warnings.warn(\n"
     ]
    },
    {
     "name": "stdout",
     "output_type": "stream",
     "text": [
      "['awayteam', 'hometeam', 'dayofmonth', 'defense_td_MA_5_away', 'away_coach', 'season', 'rec_yds_MA_5_away', 'interceptions_MA_5_home', 'dayofweek', 'delta_day_away', 'location', 'streak_away', 'interceptions_MA_5_away', 'rush_td_MA_5_home', 'kicks_return_yds_MA_5_home', 'defense_td_MA_5_home', 'fumbles_MA_5_away', 'punt_return_yds_MA_5_away', 'week', 'pass_yds_MA_5_home', 'streak_home', 'stade', 'pass_td_MA_5_away', 'humidity', 'kicking_pts_MA_5_away']\n"
     ]
    },
    {
     "name": "stderr",
     "output_type": "stream",
     "text": [
      "c:\\Users\\sylva\\AppData\\Local\\Programs\\Python\\Python310\\lib\\site-packages\\sklearn\\preprocessing\\_encoders.py:188: UserWarning: Found unknown categories in columns [2] during transform. These unknown categories will be encoded as all zeros\n",
      "  warnings.warn(\n"
     ]
    },
    {
     "name": "stdout",
     "output_type": "stream",
     "text": [
      "['awayteam', 'hometeam', 'dayofmonth', 'home_coach', 'kicks_return_yds_MA_5_away', 'fumbles_rec_MA_5_away', 'rec_yds_MA_5_away', 'dayofweek', 'delta_day_away', 'rush_yds_MA_5_away', 'streak_away', 'interceptions_MA_5_away', 'people', 'kicks_return_yds_MA_5_home', 'defense_td_MA_5_home', 'temperature', 'fumbles_MA_5_away', 'punt_return_yds_MA_5_away', 'rec_td_MA_5_away', 'pass_td_MA_5_home', 'week', 'pass_yds_MA_5_home', 'rush_td_MA_5_away', 'streak_home', 'weather_type', 'fumbles_MA_5_home', 'pass_td_MA_5_away', 'interceptions_td_MA_5_home', 'humidity', 'kicking_pts_MA_5_away']\n",
      "['awayteam', 'hometeam', 'wind', 'rush_yds_MA_5_home', 'kicks_return_yds_MA_5_home', 'pass_td_MA_5_away', 'stade', 'punt_return_yds_MA_5_home', 'rec_td_MA_5_away', 'kicks_return_td_MA_5_home']\n",
      "['awayteam', 'hometeam', 'defense_td_MA_5_away', 'season', 'punt_return_yds_MA_5_home', 'rec_yds_MA_5_home', 'kicks_return_td_MA_5_home', 'delta_day_away', 'location', 'defense_sacks_MA_5_home', 'interceptions_td_MA_5_away', 'rush_td_MA_5_home', 'kicks_return_yds_MA_5_home', 'defense_td_MA_5_home', 'kicks_return_td_MA_5_away', 'punt_return_yds_MA_5_away', 'rec_td_MA_5_home', 'rush_yds_MA_5_home', 'fumbles_MA_5_home', 'stade', 'pass_td_MA_5_away', 'humidity', 'kicking_pts_MA_5_away']\n",
      "['awayteam', 'hometeam', 'dayofmonth', 'defense_td_MA_5_away', 'delta_day_home', 'season', 'interceptions_MA_5_home', 'month', 'kicks_return_td_MA_5_home', 'delta_day_away', 'defense_sacks_MA_5_home', 'interceptions_td_MA_5_away', 'rush_td_MA_5_home', 'people', 'kicks_return_yds_MA_5_home', 'fumbles_MA_5_away', 'week', 'wind', 'streak_home', 'pass_yds_MA_5_away', 'stade', 'interceptions_td_MA_5_home', 'humidity', 'kicking_pts_MA_5_away']\n",
      "['awayteam', 'hometeam', 'fumbles_rec_MA_5_away', 'interceptions_td_MA_5_away', 'interceptions_MA_5_home', 'away_coach', 'season', 'week']\n"
     ]
    },
    {
     "name": "stderr",
     "output_type": "stream",
     "text": [
      "c:\\Users\\sylva\\AppData\\Local\\Programs\\Python\\Python310\\lib\\site-packages\\sklearn\\preprocessing\\_encoders.py:188: UserWarning: Found unknown categories in columns [2] during transform. These unknown categories will be encoded as all zeros\n",
      "  warnings.warn(\n"
     ]
    },
    {
     "name": "stdout",
     "output_type": "stream",
     "text": [
      "['awayteam', 'hometeam', 'defense_td_MA_5_away', 'delta_day_home', 'season', 'home_coach', 'rec_yds_MA_5_away', 'kicks_return_td_MA_5_home', 'interceptions_MA_5_away', 'interceptions_td_MA_5_away', 'people', 'kicks_return_yds_MA_5_home', 'temperature', 'fumbles_MA_5_away', 'punt_return_yds_MA_5_away', 'pass_yds_MA_5_home', 'defense_sacks_MA_5_away', 'rush_yds_MA_5_home', 'weather_type', 'fumbles_MA_5_home', 'stade', 'humidity']\n",
      "['awayteam', 'hometeam', 'pass_yds_MA_5_home', 'kicks_return_yds_MA_5_away']\n",
      "['awayteam', 'hometeam', 'rush_td_MA_5_away', 'defense_sacks_MA_5_home', 'defense_sacks_MA_5_away', 'fumbles_rec_MA_5_away', 'fumbles_MA_5_away', 'rec_yds_MA_5_away', 'rush_td_MA_5_home', 'away_coach', 'dayofweek', 'kicks_return_td_MA_5_away', 'kicking_pts_MA_5_home']\n"
     ]
    },
    {
     "name": "stderr",
     "output_type": "stream",
     "text": [
      "c:\\Users\\sylva\\AppData\\Local\\Programs\\Python\\Python310\\lib\\site-packages\\sklearn\\preprocessing\\_encoders.py:188: UserWarning: Found unknown categories in columns [2] during transform. These unknown categories will be encoded as all zeros\n",
      "  warnings.warn(\n"
     ]
    },
    {
     "name": "stdout",
     "output_type": "stream",
     "text": [
      "['awayteam', 'hometeam', 'delta_day_home', 'home_coach', 'kicks_return_yds_MA_5_away', 'month', 'punt_return_yds_MA_5_home', 'rec_yds_MA_5_home', 'kicks_return_td_MA_5_home', 'delta_day_away', 'location', 'defense_sacks_MA_5_home', 'streak_away', 'interceptions_td_MA_5_away', 'rush_td_MA_5_home', 'people', 'kicks_return_yds_MA_5_home', 'temperature', 'fumbles_MA_5_away', 'punt_return_yds_MA_5_away', 'kicks_return_td_MA_5_away', 'rec_td_MA_5_away', 'week', 'rush_td_MA_5_away', 'rec_td_MA_5_home', 'rush_yds_MA_5_home', 'fumbles_MA_5_home', 'pass_yds_MA_5_away', 'pass_td_MA_5_away', 'interceptions_td_MA_5_home', 'humidity']\n",
      "['awayteam', 'hometeam', 'pass_yds_MA_5_home', 'dayofmonth', 'rush_yds_MA_5_away', 'rush_td_MA_5_away', 'interceptions_td_MA_5_home', 'streak_home', 'interceptions_td_MA_5_away', 'rec_yds_MA_5_away', 'delta_day_home', 'season', 'fumbles_rec_MA_5_home', 'kicks_return_yds_MA_5_home', 'month', 'fumbles_MA_5_away', 'rec_yds_MA_5_home', 'pass_td_MA_5_home']\n",
      "['awayteam', 'hometeam', 'rush_yds_MA_5_away', 'location', 'defense_sacks_MA_5_home', 'fumbles_rec_MA_5_away', 'kicks_return_yds_MA_5_away', 'interceptions_MA_5_away', 'rec_td_MA_5_home', 'away_coach', 'people', 'stade', 'fumbles_MA_5_away', 'punt_return_yds_MA_5_away', 'humidity', 'rec_td_MA_5_away']\n"
     ]
    },
    {
     "name": "stderr",
     "output_type": "stream",
     "text": [
      "c:\\Users\\sylva\\AppData\\Local\\Programs\\Python\\Python310\\lib\\site-packages\\sklearn\\preprocessing\\_encoders.py:188: UserWarning: Found unknown categories in columns [3] during transform. These unknown categories will be encoded as all zeros\n",
      "  warnings.warn(\n"
     ]
    },
    {
     "name": "stdout",
     "output_type": "stream",
     "text": [
      "['awayteam', 'hometeam', 'pass_yds_MA_5_home', 'wind', 'interceptions_td_MA_5_home', 'pass_td_MA_5_home', 'defense_sacks_MA_5_away', 'interceptions_MA_5_away', 'week', 'interceptions_td_MA_5_away', 'humidity', 'fumbles_MA_5_home', 'defense_td_MA_5_home', 'month', 'punt_return_yds_MA_5_home', 'rec_td_MA_5_away', 'kicks_return_td_MA_5_home', 'kicking_pts_MA_5_away', 'delta_day_away']\n",
      "['awayteam', 'hometeam', 'dayofmonth', 'kicks_return_yds_MA_5_away', 'rec_yds_MA_5_away', 'punt_return_yds_MA_5_home', 'kicking_pts_MA_5_home', 'delta_day_away', 'rush_yds_MA_5_away', 'streak_away', 'people', 'temperature', 'kicks_return_td_MA_5_away', 'punt_return_yds_MA_5_away', 'rec_td_MA_5_away', 'week', 'wind', 'streak_home', 'rush_yds_MA_5_home', 'weather_type', 'fumbles_MA_5_home', 'pass_td_MA_5_away', 'stade', 'interceptions_td_MA_5_home', 'kicking_pts_MA_5_away']\n",
      "['awayteam', 'hometeam', 'pass_yds_MA_5_home', 'rush_yds_MA_5_away', 'location', 'interceptions_td_MA_5_home', 'defense_sacks_MA_5_away', 'rec_td_MA_5_home', 'defense_td_MA_5_away', 'temperature', 'defense_td_MA_5_home', 'punt_return_yds_MA_5_home', 'punt_return_yds_MA_5_away']\n",
      "['awayteam', 'hometeam', 'dayofmonth', 'away_coach', 'home_coach', 'kicks_return_yds_MA_5_away', 'fumbles_rec_MA_5_away', 'interceptions_MA_5_home', 'rec_yds_MA_5_home', 'delta_day_away', 'streak_away', 'rush_td_MA_5_home', 'defense_td_MA_5_home', 'temperature', 'kicks_return_td_MA_5_away', 'pass_td_MA_5_home', 'wind', 'defense_sacks_MA_5_away', 'streak_home', 'rec_td_MA_5_home', 'rush_yds_MA_5_home', 'pass_yds_MA_5_away', 'pass_td_MA_5_away']\n"
     ]
    },
    {
     "name": "stderr",
     "output_type": "stream",
     "text": [
      "c:\\Users\\sylva\\AppData\\Local\\Programs\\Python\\Python310\\lib\\site-packages\\sklearn\\preprocessing\\_encoders.py:188: UserWarning: Found unknown categories in columns [2] during transform. These unknown categories will be encoded as all zeros\n",
      "  warnings.warn(\n"
     ]
    },
    {
     "name": "stdout",
     "output_type": "stream",
     "text": [
      "['awayteam', 'hometeam', 'defense_td_MA_5_away', 'away_coach', 'season', 'rec_yds_MA_5_away', 'interceptions_MA_5_home', 'dayofweek', 'month', 'rec_yds_MA_5_home', 'kicks_return_td_MA_5_home', 'kicking_pts_MA_5_home', 'delta_day_away', 'rush_yds_MA_5_away', 'interceptions_MA_5_away', 'interceptions_td_MA_5_away', 'people', 'kicks_return_yds_MA_5_home', 'temperature', 'punt_return_yds_MA_5_away', 'rec_td_MA_5_away', 'week', 'pass_yds_MA_5_home', 'rush_td_MA_5_away', 'wind', 'rush_yds_MA_5_home', 'weather_type', 'fumbles_MA_5_home', 'fumbles_rec_MA_5_home', 'pass_td_MA_5_away', 'humidity', 'kicking_pts_MA_5_away']\n"
     ]
    },
    {
     "name": "stderr",
     "output_type": "stream",
     "text": [
      "c:\\Users\\sylva\\AppData\\Local\\Programs\\Python\\Python310\\lib\\site-packages\\sklearn\\preprocessing\\_encoders.py:188: UserWarning: Found unknown categories in columns [2] during transform. These unknown categories will be encoded as all zeros\n",
      "  warnings.warn(\n"
     ]
    },
    {
     "name": "stdout",
     "output_type": "stream",
     "text": [
      "['awayteam', 'hometeam', 'dayofmonth', 'away_coach', 'season', 'kicks_return_yds_MA_5_away', 'rec_yds_MA_5_away', 'dayofweek', 'month', 'punt_return_yds_MA_5_home', 'kicking_pts_MA_5_home', 'rush_yds_MA_5_away', 'defense_sacks_MA_5_home', 'interceptions_MA_5_away', 'rush_td_MA_5_home', 'kicks_return_yds_MA_5_home', 'defense_td_MA_5_home', 'temperature', 'fumbles_MA_5_away', 'kicks_return_td_MA_5_away', 'punt_return_yds_MA_5_away', 'pass_yds_MA_5_home', 'rush_td_MA_5_away', 'streak_home', 'rec_td_MA_5_home', 'rush_yds_MA_5_home', 'fumbles_MA_5_home', 'fumbles_rec_MA_5_home', 'stade', 'interceptions_td_MA_5_home']\n"
     ]
    },
    {
     "name": "stderr",
     "output_type": "stream",
     "text": [
      "c:\\Users\\sylva\\AppData\\Local\\Programs\\Python\\Python310\\lib\\site-packages\\sklearn\\preprocessing\\_encoders.py:188: UserWarning: Found unknown categories in columns [2] during transform. These unknown categories will be encoded as all zeros\n",
      "  warnings.warn(\n"
     ]
    },
    {
     "name": "stdout",
     "output_type": "stream",
     "text": [
      "['awayteam', 'hometeam', 'defense_td_MA_5_away', 'away_coach', 'delta_day_home', 'season', 'home_coach', 'fumbles_rec_MA_5_away', 'month', 'rec_yds_MA_5_home', 'delta_day_away', 'rush_yds_MA_5_away', 'location', 'defense_sacks_MA_5_home', 'people', 'kicks_return_yds_MA_5_home', 'fumbles_MA_5_away', 'rec_td_MA_5_away', 'pass_td_MA_5_home', 'rush_td_MA_5_away', 'wind', 'rec_td_MA_5_home', 'fumbles_MA_5_home', 'pass_yds_MA_5_away', 'pass_td_MA_5_away', 'stade', 'kicking_pts_MA_5_away']\n"
     ]
    },
    {
     "name": "stderr",
     "output_type": "stream",
     "text": [
      "c:\\Users\\sylva\\AppData\\Local\\Programs\\Python\\Python310\\lib\\site-packages\\sklearn\\preprocessing\\_encoders.py:188: UserWarning: Found unknown categories in columns [2] during transform. These unknown categories will be encoded as all zeros\n",
      "  warnings.warn(\n"
     ]
    },
    {
     "name": "stdout",
     "output_type": "stream",
     "text": [
      "['awayteam', 'hometeam', 'pass_yds_MA_5_away', 'kicking_pts_MA_5_home', 'kicking_pts_MA_5_away', 'humidity']\n",
      "['awayteam', 'hometeam', 'rush_yds_MA_5_away', 'dayofmonth', 'rush_td_MA_5_away', 'pass_yds_MA_5_home', 'defense_sacks_MA_5_away', 'fumbles_MA_5_away', 'away_coach', 'weather_type', 'pass_yds_MA_5_away', 'stade', 'defense_td_MA_5_home', 'kicks_return_td_MA_5_away', 'kicking_pts_MA_5_away']\n"
     ]
    },
    {
     "name": "stderr",
     "output_type": "stream",
     "text": [
      "c:\\Users\\sylva\\AppData\\Local\\Programs\\Python\\Python310\\lib\\site-packages\\sklearn\\preprocessing\\_encoders.py:188: UserWarning: Found unknown categories in columns [2] during transform. These unknown categories will be encoded as all zeros\n",
      "  warnings.warn(\n"
     ]
    },
    {
     "name": "stdout",
     "output_type": "stream",
     "text": [
      "['awayteam', 'hometeam', 'wind', 'kicks_return_yds_MA_5_away', 'streak_home', 'interceptions_MA_5_home', 'rec_yds_MA_5_away', 'away_coach', 'dayofweek', 'rec_yds_MA_5_home', 'weather_type', 'rush_td_MA_5_home', 'kicks_return_yds_MA_5_home', 'defense_td_MA_5_home', 'temperature', 'rec_td_MA_5_away', 'kicking_pts_MA_5_home', 'week', 'delta_day_away']\n"
     ]
    },
    {
     "name": "stderr",
     "output_type": "stream",
     "text": [
      "c:\\Users\\sylva\\AppData\\Local\\Programs\\Python\\Python310\\lib\\site-packages\\sklearn\\preprocessing\\_encoders.py:188: UserWarning: Found unknown categories in columns [2] during transform. These unknown categories will be encoded as all zeros\n",
      "  warnings.warn(\n"
     ]
    },
    {
     "name": "stdout",
     "output_type": "stream",
     "text": [
      "['awayteam', 'hometeam', 'interceptions_td_MA_5_away', 'rush_td_MA_5_home', 'dayofweek', 'fumbles_MA_5_home', 'pass_td_MA_5_away', 'month', 'kicks_return_td_MA_5_away', 'humidity']\n",
      "['awayteam', 'hometeam', 'dayofmonth', 'away_coach', 'delta_day_home', 'season', 'home_coach', 'kicking_pts_MA_5_home', 'location', 'defense_sacks_MA_5_home', 'streak_away', 'interceptions_td_MA_5_away', 'rush_td_MA_5_home', 'people', 'defense_td_MA_5_home', 'temperature', 'week', 'streak_home', 'fumbles_rec_MA_5_home', 'pass_td_MA_5_away', 'kicking_pts_MA_5_away']\n"
     ]
    },
    {
     "name": "stderr",
     "output_type": "stream",
     "text": [
      "c:\\Users\\sylva\\AppData\\Local\\Programs\\Python\\Python310\\lib\\site-packages\\sklearn\\preprocessing\\_encoders.py:188: UserWarning: Found unknown categories in columns [2] during transform. These unknown categories will be encoded as all zeros\n",
      "  warnings.warn(\n"
     ]
    },
    {
     "name": "stdout",
     "output_type": "stream",
     "text": [
      "['awayteam', 'hometeam', 'dayofmonth', 'away_coach', 'interceptions_MA_5_home', 'dayofweek', 'month', 'punt_return_yds_MA_5_home', 'kicking_pts_MA_5_home', 'location', 'defense_sacks_MA_5_home', 'streak_away', 'interceptions_td_MA_5_away', 'rush_td_MA_5_home', 'people', 'kicks_return_yds_MA_5_home', 'fumbles_MA_5_away', 'rec_td_MA_5_away', 'pass_td_MA_5_home', 'defense_sacks_MA_5_away', 'rec_td_MA_5_home', 'weather_type', 'pass_yds_MA_5_away', 'fumbles_rec_MA_5_home', 'pass_td_MA_5_away', 'stade', 'kicking_pts_MA_5_away']\n"
     ]
    },
    {
     "name": "stderr",
     "output_type": "stream",
     "text": [
      "c:\\Users\\sylva\\AppData\\Local\\Programs\\Python\\Python310\\lib\\site-packages\\sklearn\\preprocessing\\_encoders.py:188: UserWarning: Found unknown categories in columns [2] during transform. These unknown categories will be encoded as all zeros\n",
      "  warnings.warn(\n"
     ]
    },
    {
     "name": "stdout",
     "output_type": "stream",
     "text": [
      "['awayteam', 'hometeam', 'pass_yds_MA_5_home', 'kicks_return_yds_MA_5_away', 'rec_td_MA_5_home', 'rec_yds_MA_5_away', 'interceptions_MA_5_home', 'rec_yds_MA_5_home', 'delta_day_home', 'pass_yds_MA_5_away', 'fumbles_rec_MA_5_home', 'season', 'interceptions_td_MA_5_home', 'punt_return_yds_MA_5_home', 'punt_return_yds_MA_5_away']\n",
      "['awayteam', 'hometeam', 'away_coach', 'delta_day_home', 'home_coach', 'fumbles_rec_MA_5_away', 'kicks_return_yds_MA_5_away', 'interceptions_MA_5_home', 'punt_return_yds_MA_5_home', 'kicking_pts_MA_5_home', 'delta_day_away', 'location', 'streak_away', 'rush_td_MA_5_home', 'people', 'temperature', 'kicks_return_td_MA_5_away', 'pass_td_MA_5_home', 'week', 'pass_yds_MA_5_home', 'rush_td_MA_5_away', 'defense_sacks_MA_5_away', 'fumbles_MA_5_home', 'pass_yds_MA_5_away', 'stade', 'humidity']\n"
     ]
    },
    {
     "name": "stderr",
     "output_type": "stream",
     "text": [
      "c:\\Users\\sylva\\AppData\\Local\\Programs\\Python\\Python310\\lib\\site-packages\\sklearn\\preprocessing\\_encoders.py:188: UserWarning: Found unknown categories in columns [2] during transform. These unknown categories will be encoded as all zeros\n",
      "  warnings.warn(\n"
     ]
    },
    {
     "name": "stdout",
     "output_type": "stream",
     "text": [
      "['awayteam', 'hometeam', 'defense_td_MA_5_away', 'away_coach', 'home_coach', 'fumbles_rec_MA_5_away', 'rec_yds_MA_5_away', 'month', 'punt_return_yds_MA_5_home', 'rec_yds_MA_5_home', 'delta_day_away', 'rush_yds_MA_5_away', 'streak_away', 'interceptions_td_MA_5_away', 'rush_td_MA_5_home', 'defense_td_MA_5_home', 'fumbles_MA_5_away', 'pass_td_MA_5_home', 'pass_yds_MA_5_home', 'wind', 'defense_sacks_MA_5_away', 'streak_home', 'weather_type', 'fumbles_MA_5_home', 'stade', 'interceptions_td_MA_5_home', 'humidity']\n"
     ]
    },
    {
     "name": "stderr",
     "output_type": "stream",
     "text": [
      "c:\\Users\\sylva\\AppData\\Local\\Programs\\Python\\Python310\\lib\\site-packages\\sklearn\\preprocessing\\_encoders.py:188: UserWarning: Found unknown categories in columns [2] during transform. These unknown categories will be encoded as all zeros\n",
      "  warnings.warn(\n"
     ]
    },
    {
     "name": "stdout",
     "output_type": "stream",
     "text": [
      "['awayteam', 'hometeam', 'dayofmonth', 'home_coach', 'kicks_return_yds_MA_5_away', 'fumbles_rec_MA_5_away', 'month', 'punt_return_yds_MA_5_home', 'rec_yds_MA_5_home', 'kicks_return_td_MA_5_home', 'delta_day_away', 'location', 'defense_sacks_MA_5_home', 'interceptions_MA_5_away', 'people', 'kicks_return_yds_MA_5_home', 'defense_td_MA_5_home', 'punt_return_yds_MA_5_away', 'rec_td_MA_5_away', 'wind', 'defense_sacks_MA_5_away', 'streak_home', 'rush_yds_MA_5_home', 'weather_type', 'pass_yds_MA_5_away', 'pass_td_MA_5_away', 'interceptions_td_MA_5_home', 'humidity', 'kicking_pts_MA_5_away']\n",
      "['awayteam', 'hometeam', 'defense_sacks_MA_5_home', 'streak_away', 'kicks_return_yds_MA_5_away', 'rec_td_MA_5_home', 'defense_sacks_MA_5_away', 'rec_yds_MA_5_away', 'defense_td_MA_5_away', 'weather_type', 'delta_day_home', 'fumbles_MA_5_home', 'stade', 'pass_td_MA_5_away', 'kicks_return_yds_MA_5_home', 'kicks_return_td_MA_5_home', 'kicking_pts_MA_5_home', 'kicks_return_td_MA_5_away', 'kicking_pts_MA_5_away']\n",
      "['awayteam', 'hometeam', 'dayofmonth']\n",
      "['awayteam', 'hometeam', 'dayofmonth', 'defense_td_MA_5_away', 'delta_day_home', 'season', 'home_coach', 'kicks_return_yds_MA_5_away', 'rec_yds_MA_5_away', 'dayofweek', 'delta_day_away', 'interceptions_td_MA_5_away', 'people', 'kicks_return_yds_MA_5_home', 'temperature', 'fumbles_MA_5_away', 'kicks_return_td_MA_5_away', 'pass_yds_MA_5_home', 'rush_td_MA_5_away', 'defense_sacks_MA_5_away', 'rec_td_MA_5_home', 'weather_type', 'stade']\n",
      "['awayteam', 'hometeam', 'rush_yds_MA_5_away', 'rush_td_MA_5_away', 'wind', 'dayofmonth', 'defense_sacks_MA_5_away', 'rec_td_MA_5_home', 'interceptions_td_MA_5_away', 'rec_yds_MA_5_away', 'rush_td_MA_5_home', 'dayofweek', 'rec_yds_MA_5_home', 'away_coach', 'weather_type', 'pass_td_MA_5_away', 'kicks_return_td_MA_5_home', 'punt_return_yds_MA_5_away', 'pass_td_MA_5_home', 'kicks_return_td_MA_5_away']\n"
     ]
    },
    {
     "name": "stderr",
     "output_type": "stream",
     "text": [
      "c:\\Users\\sylva\\AppData\\Local\\Programs\\Python\\Python310\\lib\\site-packages\\sklearn\\preprocessing\\_encoders.py:188: UserWarning: Found unknown categories in columns [2] during transform. These unknown categories will be encoded as all zeros\n",
      "  warnings.warn(\n"
     ]
    },
    {
     "name": "stdout",
     "output_type": "stream",
     "text": [
      "['awayteam', 'hometeam', 'fumbles_MA_5_away', 'fumbles_rec_MA_5_away', 'delta_day_away', 'rec_td_MA_5_home']\n",
      "['awayteam', 'hometeam', 'rush_td_MA_5_away', 'defense_sacks_MA_5_home', 'defense_sacks_MA_5_away', 'people', 'weather_type', 'pass_yds_MA_5_away', 'fumbles_rec_MA_5_home', 'pass_td_MA_5_away', 'rec_yds_MA_5_home']\n",
      "['awayteam', 'hometeam', 'dayofmonth', 'defense_td_MA_5_away', 'away_coach', 'season', 'kicks_return_yds_MA_5_away', 'fumbles_rec_MA_5_away', 'rec_yds_MA_5_away', 'interceptions_MA_5_home', 'dayofweek', 'month', 'punt_return_yds_MA_5_home', 'rec_yds_MA_5_home', 'kicks_return_td_MA_5_home', 'delta_day_away', 'rush_yds_MA_5_away', 'location', 'defense_sacks_MA_5_home', 'interceptions_td_MA_5_away', 'people', 'kicks_return_yds_MA_5_home', 'defense_td_MA_5_home', 'temperature', 'kicks_return_td_MA_5_away', 'punt_return_yds_MA_5_away', 'fumbles_MA_5_away', 'rush_td_MA_5_away', 'wind', 'defense_sacks_MA_5_away', 'streak_home', 'rec_td_MA_5_home', 'rush_yds_MA_5_home', 'pass_yds_MA_5_away', 'stade', 'pass_td_MA_5_away', 'humidity', 'kicking_pts_MA_5_away']\n"
     ]
    },
    {
     "name": "stderr",
     "output_type": "stream",
     "text": [
      "c:\\Users\\sylva\\AppData\\Local\\Programs\\Python\\Python310\\lib\\site-packages\\sklearn\\preprocessing\\_encoders.py:188: UserWarning: Found unknown categories in columns [2] during transform. These unknown categories will be encoded as all zeros\n",
      "  warnings.warn(\n"
     ]
    },
    {
     "name": "stdout",
     "output_type": "stream",
     "text": [
      "['awayteam', 'hometeam', 'dayofmonth', 'season', 'kicks_return_yds_MA_5_away', 'interceptions_MA_5_home', 'month', 'kicking_pts_MA_5_home', 'kicks_return_td_MA_5_home', 'delta_day_away', 'location', 'streak_away', 'interceptions_td_MA_5_away', 'temperature', 'pass_td_MA_5_home', 'streak_home', 'rec_td_MA_5_home', 'weather_type', 'pass_yds_MA_5_away', 'fumbles_rec_MA_5_home', 'pass_td_MA_5_away', 'interceptions_td_MA_5_home', 'humidity']\n",
      "['awayteam', 'hometeam', 'dayofmonth', 'defense_td_MA_5_away', 'away_coach', 'delta_day_home', 'fumbles_rec_MA_5_away', 'rec_yds_MA_5_away', 'interceptions_MA_5_home', 'dayofweek', 'month', 'punt_return_yds_MA_5_home', 'kicks_return_td_MA_5_home', 'rush_yds_MA_5_away', 'location', 'defense_sacks_MA_5_home', 'streak_away', 'interceptions_MA_5_away', 'rush_td_MA_5_home', 'kicks_return_yds_MA_5_home', 'temperature', 'kicks_return_td_MA_5_away', 'punt_return_yds_MA_5_away', 'pass_td_MA_5_home', 'wind', 'defense_sacks_MA_5_away', 'rec_td_MA_5_home', 'pass_td_MA_5_away', 'stade', 'interceptions_td_MA_5_home', 'humidity', 'kicking_pts_MA_5_away']\n"
     ]
    },
    {
     "name": "stderr",
     "output_type": "stream",
     "text": [
      "c:\\Users\\sylva\\AppData\\Local\\Programs\\Python\\Python310\\lib\\site-packages\\sklearn\\preprocessing\\_encoders.py:188: UserWarning: Found unknown categories in columns [2] during transform. These unknown categories will be encoded as all zeros\n",
      "  warnings.warn(\n"
     ]
    },
    {
     "name": "stdout",
     "output_type": "stream",
     "text": [
      "['awayteam', 'hometeam', 'away_coach', 'delta_day_home', 'season', 'home_coach', 'fumbles_rec_MA_5_away', 'interceptions_MA_5_home', 'dayofweek', 'month', 'punt_return_yds_MA_5_home', 'rec_yds_MA_5_home', 'kicking_pts_MA_5_home', 'rush_yds_MA_5_away', 'defense_sacks_MA_5_home', 'interceptions_td_MA_5_away', 'kicks_return_yds_MA_5_home', 'defense_td_MA_5_home', 'kicks_return_td_MA_5_away', 'fumbles_MA_5_away', 'rec_td_MA_5_away', 'punt_return_yds_MA_5_away', 'week', 'pass_yds_MA_5_home', 'rush_td_MA_5_away', 'defense_sacks_MA_5_away', 'streak_home', 'weather_type', 'pass_yds_MA_5_away', 'stade', 'pass_td_MA_5_away', 'humidity', 'kicking_pts_MA_5_away']\n"
     ]
    },
    {
     "name": "stderr",
     "output_type": "stream",
     "text": [
      "c:\\Users\\sylva\\AppData\\Local\\Programs\\Python\\Python310\\lib\\site-packages\\sklearn\\preprocessing\\_encoders.py:188: UserWarning: Found unknown categories in columns [2] during transform. These unknown categories will be encoded as all zeros\n",
      "  warnings.warn(\n"
     ]
    },
    {
     "name": "stdout",
     "output_type": "stream",
     "text": [
      "['awayteam', 'hometeam', 'dayofmonth', 'defense_td_MA_5_away', 'away_coach', 'delta_day_home', 'home_coach', 'kicks_return_yds_MA_5_away', 'fumbles_rec_MA_5_away', 'interceptions_MA_5_home', 'dayofweek', 'month', 'rec_yds_MA_5_home', 'delta_day_away', 'rush_yds_MA_5_away', 'defense_sacks_MA_5_home', 'streak_away', 'rush_td_MA_5_home', 'people', 'kicks_return_yds_MA_5_home', 'defense_td_MA_5_home', 'kicks_return_td_MA_5_away', 'fumbles_MA_5_away', 'pass_td_MA_5_home', 'punt_return_yds_MA_5_away', 'week', 'pass_yds_MA_5_home', 'rush_td_MA_5_away', 'wind', 'defense_sacks_MA_5_away', 'streak_home', 'rec_td_MA_5_home', 'fumbles_MA_5_home', 'pass_yds_MA_5_away', 'pass_td_MA_5_away', 'stade', 'interceptions_td_MA_5_home', 'humidity']\n"
     ]
    },
    {
     "name": "stderr",
     "output_type": "stream",
     "text": [
      "c:\\Users\\sylva\\AppData\\Local\\Programs\\Python\\Python310\\lib\\site-packages\\sklearn\\preprocessing\\_encoders.py:188: UserWarning: Found unknown categories in columns [2] during transform. These unknown categories will be encoded as all zeros\n",
      "  warnings.warn(\n"
     ]
    },
    {
     "name": "stdout",
     "output_type": "stream",
     "text": [
      "['awayteam', 'hometeam', 'defense_sacks_MA_5_home', 'fumbles_rec_MA_5_away', 'interceptions_MA_5_away', 'rush_yds_MA_5_home', 'weather_type', 'pass_td_MA_5_away', 'defense_td_MA_5_home', 'rec_yds_MA_5_home']\n",
      "['awayteam', 'hometeam', 'defense_td_MA_5_away', 'delta_day_home', 'home_coach', 'rec_yds_MA_5_away', 'dayofweek', 'punt_return_yds_MA_5_home', 'rec_yds_MA_5_home', 'delta_day_away', 'rush_yds_MA_5_away', 'streak_away', 'interceptions_td_MA_5_away', 'kicks_return_yds_MA_5_home', 'defense_td_MA_5_home', 'temperature', 'rec_td_MA_5_away', 'punt_return_yds_MA_5_away', 'pass_yds_MA_5_home', 'rush_td_MA_5_away', 'wind', 'rec_td_MA_5_home', 'fumbles_MA_5_home', 'fumbles_rec_MA_5_home', 'stade', 'interceptions_td_MA_5_home', 'humidity', 'kicking_pts_MA_5_away']\n",
      "['awayteam', 'hometeam', 'dayofmonth', 'delta_day_home', 'season', 'kicks_return_yds_MA_5_away', 'rec_yds_MA_5_away', 'interceptions_MA_5_home', 'dayofweek', 'month', 'rec_yds_MA_5_home', 'kicks_return_td_MA_5_home', 'streak_away', 'rush_td_MA_5_home', 'people', 'kicks_return_yds_MA_5_home', 'defense_td_MA_5_home', 'fumbles_MA_5_away', 'kicks_return_td_MA_5_away', 'rec_td_MA_5_away', 'pass_td_MA_5_home', 'week', 'rush_td_MA_5_away', 'defense_sacks_MA_5_away', 'streak_home', 'rec_td_MA_5_home', 'rush_yds_MA_5_home', 'fumbles_MA_5_home', 'fumbles_rec_MA_5_home', 'stade', 'pass_td_MA_5_away', 'humidity', 'kicking_pts_MA_5_away']\n",
      "['awayteam', 'hometeam', 'dayofmonth', 'delta_day_home', 'season', 'kicks_return_yds_MA_5_away', 'rec_yds_MA_5_away', 'dayofweek', 'rec_yds_MA_5_home', 'kicking_pts_MA_5_home', 'rush_yds_MA_5_away', 'location', 'defense_sacks_MA_5_home', 'interceptions_MA_5_away', 'rush_td_MA_5_home', 'defense_td_MA_5_home', 'fumbles_MA_5_away', 'rec_td_MA_5_away', 'kicks_return_td_MA_5_away', 'pass_yds_MA_5_home', 'rush_td_MA_5_away', 'wind', 'defense_sacks_MA_5_away', 'streak_home', 'rec_td_MA_5_home', 'fumbles_MA_5_home', 'pass_yds_MA_5_away', 'stade', 'kicking_pts_MA_5_away']\n",
      "['awayteam', 'hometeam', 'defense_td_MA_5_away', 'away_coach', 'kicks_return_yds_MA_5_away', 'rec_yds_MA_5_away', 'month', 'punt_return_yds_MA_5_home', 'rec_yds_MA_5_home', 'location', 'interceptions_MA_5_away', 'kicks_return_yds_MA_5_home', 'fumbles_MA_5_away', 'kicks_return_td_MA_5_away', 'pass_yds_MA_5_home', 'wind', 'defense_sacks_MA_5_away', 'streak_home', 'rush_yds_MA_5_home', 'fumbles_MA_5_home', 'pass_yds_MA_5_away', 'fumbles_rec_MA_5_home', 'pass_td_MA_5_away', 'stade']\n"
     ]
    },
    {
     "name": "stderr",
     "output_type": "stream",
     "text": [
      "c:\\Users\\sylva\\AppData\\Local\\Programs\\Python\\Python310\\lib\\site-packages\\sklearn\\preprocessing\\_encoders.py:188: UserWarning: Found unknown categories in columns [2] during transform. These unknown categories will be encoded as all zeros\n",
      "  warnings.warn(\n"
     ]
    },
    {
     "name": "stdout",
     "output_type": "stream",
     "text": [
      "['awayteam', 'hometeam', 'defense_td_MA_5_away', 'away_coach', 'season', 'kicks_return_yds_MA_5_away', 'fumbles_rec_MA_5_away', 'rec_yds_MA_5_away', 'interceptions_MA_5_home', 'punt_return_yds_MA_5_home', 'rec_yds_MA_5_home', 'kicks_return_td_MA_5_home', 'delta_day_away', 'rush_yds_MA_5_away', 'location', 'defense_sacks_MA_5_home', 'rush_td_MA_5_home', 'kicks_return_yds_MA_5_home', 'temperature', 'defense_td_MA_5_home', 'fumbles_MA_5_away', 'rec_td_MA_5_away', 'pass_td_MA_5_home', 'rush_td_MA_5_away', 'wind', 'defense_sacks_MA_5_away', 'streak_home', 'weather_type', 'fumbles_MA_5_home', 'pass_yds_MA_5_away', 'fumbles_rec_MA_5_home', 'stade', 'pass_td_MA_5_away', 'kicking_pts_MA_5_away']\n"
     ]
    },
    {
     "name": "stderr",
     "output_type": "stream",
     "text": [
      "c:\\Users\\sylva\\AppData\\Local\\Programs\\Python\\Python310\\lib\\site-packages\\sklearn\\preprocessing\\_encoders.py:188: UserWarning: Found unknown categories in columns [2] during transform. These unknown categories will be encoded as all zeros\n",
      "  warnings.warn(\n"
     ]
    },
    {
     "name": "stdout",
     "output_type": "stream",
     "text": [
      "['awayteam', 'hometeam', 'dayofmonth', 'away_coach', 'delta_day_home', 'season', 'home_coach', 'rec_yds_MA_5_away', 'punt_return_yds_MA_5_home', 'rec_yds_MA_5_home', 'location', 'interceptions_MA_5_away', 'kicks_return_yds_MA_5_home', 'defense_td_MA_5_home', 'kicks_return_td_MA_5_away', 'punt_return_yds_MA_5_away', 'week', 'pass_yds_MA_5_home', 'wind', 'defense_sacks_MA_5_away', 'weather_type', 'stade', 'pass_td_MA_5_away', 'interceptions_td_MA_5_home']\n"
     ]
    },
    {
     "name": "stderr",
     "output_type": "stream",
     "text": [
      "c:\\Users\\sylva\\AppData\\Local\\Programs\\Python\\Python310\\lib\\site-packages\\sklearn\\preprocessing\\_encoders.py:188: UserWarning: Found unknown categories in columns [2] during transform. These unknown categories will be encoded as all zeros\n",
      "  warnings.warn(\n"
     ]
    },
    {
     "name": "stdout",
     "output_type": "stream",
     "text": [
      "['awayteam', 'hometeam', 'away_coach', 'home_coach', 'fumbles_rec_MA_5_away', 'interceptions_MA_5_home', 'rec_yds_MA_5_away', 'dayofweek', 'punt_return_yds_MA_5_home', 'rec_yds_MA_5_home', 'kicking_pts_MA_5_home', 'defense_sacks_MA_5_home', 'streak_away', 'interceptions_MA_5_away', 'kicks_return_td_MA_5_away', 'rec_td_MA_5_away', 'pass_td_MA_5_home', 'fumbles_MA_5_away', 'rec_td_MA_5_home', 'rush_yds_MA_5_home', 'fumbles_MA_5_home', 'pass_yds_MA_5_away', 'stade', 'interceptions_td_MA_5_home']\n"
     ]
    },
    {
     "name": "stderr",
     "output_type": "stream",
     "text": [
      "c:\\Users\\sylva\\AppData\\Local\\Programs\\Python\\Python310\\lib\\site-packages\\sklearn\\preprocessing\\_encoders.py:188: UserWarning: Found unknown categories in columns [2] during transform. These unknown categories will be encoded as all zeros\n",
      "  warnings.warn(\n"
     ]
    },
    {
     "name": "stdout",
     "output_type": "stream",
     "text": [
      "['awayteam', 'hometeam', 'dayofmonth', 'wind', 'rush_td_MA_5_away', 'streak_away', 'fumbles_rec_MA_5_away', 'streak_home', 'away_coach', 'dayofweek', 'weather_type', 'kicks_return_yds_MA_5_home', 'fumbles_MA_5_away', 'week']\n"
     ]
    },
    {
     "name": "stderr",
     "output_type": "stream",
     "text": [
      "c:\\Users\\sylva\\AppData\\Local\\Programs\\Python\\Python310\\lib\\site-packages\\sklearn\\preprocessing\\_encoders.py:188: UserWarning: Found unknown categories in columns [2] during transform. These unknown categories will be encoded as all zeros\n",
      "  warnings.warn(\n"
     ]
    },
    {
     "name": "stdout",
     "output_type": "stream",
     "text": [
      "['awayteam', 'hometeam', 'stade', 'delta_day_away']\n",
      "['awayteam', 'hometeam', 'defense_td_MA_5_away', 'away_coach', 'delta_day_home', 'kicks_return_yds_MA_5_away', 'fumbles_rec_MA_5_away', 'rec_yds_MA_5_away', 'month', 'rush_yds_MA_5_away', 'defense_sacks_MA_5_home', 'interceptions_MA_5_away', 'interceptions_td_MA_5_away', 'rush_td_MA_5_home', 'kicks_return_yds_MA_5_home', 'temperature', 'fumbles_MA_5_away', 'kicks_return_td_MA_5_away', 'pass_td_MA_5_home', 'week', 'defense_sacks_MA_5_away', 'streak_home', 'fumbles_rec_MA_5_home', 'stade', 'pass_td_MA_5_away', 'humidity', 'kicking_pts_MA_5_away']\n"
     ]
    },
    {
     "name": "stderr",
     "output_type": "stream",
     "text": [
      "c:\\Users\\sylva\\AppData\\Local\\Programs\\Python\\Python310\\lib\\site-packages\\sklearn\\preprocessing\\_encoders.py:188: UserWarning: Found unknown categories in columns [2] during transform. These unknown categories will be encoded as all zeros\n",
      "  warnings.warn(\n"
     ]
    },
    {
     "name": "stdout",
     "output_type": "stream",
     "text": [
      "['awayteam', 'hometeam', 'dayofmonth', 'season', 'home_coach', 'fumbles_rec_MA_5_away', 'kicks_return_yds_MA_5_away', 'interceptions_MA_5_home', 'punt_return_yds_MA_5_home', 'rec_yds_MA_5_home', 'kicking_pts_MA_5_home', 'defense_sacks_MA_5_home', 'streak_away', 'interceptions_MA_5_away', 'people', 'fumbles_MA_5_away', 'punt_return_yds_MA_5_away', 'pass_td_MA_5_home', 'kicks_return_td_MA_5_away', 'week', 'pass_yds_MA_5_home', 'defense_sacks_MA_5_away', 'streak_home', 'rec_td_MA_5_home', 'rush_yds_MA_5_home', 'weather_type', 'pass_yds_MA_5_away', 'fumbles_rec_MA_5_home', 'stade', 'humidity']\n",
      "['awayteam', 'hometeam', 'defense_td_MA_5_away', 'away_coach', 'fumbles_rec_MA_5_away', 'interceptions_MA_5_home', 'rec_yds_MA_5_away', 'punt_return_yds_MA_5_home', 'rec_yds_MA_5_home', 'kicking_pts_MA_5_home', 'delta_day_away', 'location', 'streak_away', 'interceptions_td_MA_5_away', 'people', 'kicks_return_yds_MA_5_home', 'defense_td_MA_5_home', 'fumbles_MA_5_away', 'rec_td_MA_5_away', 'punt_return_yds_MA_5_away', 'week', 'pass_yds_MA_5_home', 'rush_td_MA_5_away', 'wind', 'streak_home', 'rec_td_MA_5_home', 'pass_yds_MA_5_away', 'stade', 'interceptions_td_MA_5_home', 'humidity']\n"
     ]
    },
    {
     "name": "stderr",
     "output_type": "stream",
     "text": [
      "c:\\Users\\sylva\\AppData\\Local\\Programs\\Python\\Python310\\lib\\site-packages\\sklearn\\preprocessing\\_encoders.py:188: UserWarning: Found unknown categories in columns [2] during transform. These unknown categories will be encoded as all zeros\n",
      "  warnings.warn(\n"
     ]
    },
    {
     "name": "stdout",
     "output_type": "stream",
     "text": [
      "['awayteam', 'hometeam', 'pass_yds_MA_5_home', 'rush_yds_MA_5_away', 'dayofmonth', 'fumbles_rec_MA_5_away', 'interceptions_MA_5_home', 'defense_td_MA_5_away', 'rush_yds_MA_5_home', 'away_coach', 'delta_day_home', 'pass_yds_MA_5_away', 'interceptions_td_MA_5_home', 'fumbles_MA_5_away', 'rec_yds_MA_5_home', 'kicks_return_td_MA_5_home']\n"
     ]
    },
    {
     "name": "stderr",
     "output_type": "stream",
     "text": [
      "c:\\Users\\sylva\\AppData\\Local\\Programs\\Python\\Python310\\lib\\site-packages\\sklearn\\preprocessing\\_encoders.py:188: UserWarning: Found unknown categories in columns [2] during transform. These unknown categories will be encoded as all zeros\n",
      "  warnings.warn(\n"
     ]
    },
    {
     "name": "stdout",
     "output_type": "stream",
     "text": [
      "['awayteam', 'hometeam', 'pass_yds_MA_5_home', 'dayofmonth', 'pass_td_MA_5_home', 'kicks_return_yds_MA_5_away', 'rec_td_MA_5_home', 'interceptions_td_MA_5_away', 'interceptions_MA_5_home', 'people', 'temperature', 'month', 'punt_return_yds_MA_5_home', 'kicking_pts_MA_5_home']\n",
      "['awayteam', 'hometeam', 'rush_yds_MA_5_away', 'streak_away', 'interceptions_td_MA_5_away', 'kicking_pts_MA_5_home', 'interceptions_MA_5_home', 'defense_td_MA_5_away', 'people', 'delta_day_home', 'punt_return_yds_MA_5_home', 'fumbles_MA_5_away', 'kicks_return_td_MA_5_home']\n",
      "['awayteam', 'hometeam', 'defense_td_MA_5_away', 'home_coach', 'fumbles_rec_MA_5_away', 'dayofweek', 'month', 'kicks_return_td_MA_5_home', 'kicking_pts_MA_5_home', 'streak_away', 'kicks_return_yds_MA_5_home', 'temperature', 'fumbles_MA_5_away', 'punt_return_yds_MA_5_away', 'rec_td_MA_5_away', 'rush_td_MA_5_away', 'rec_td_MA_5_home', 'rush_yds_MA_5_home', 'pass_yds_MA_5_away', 'pass_td_MA_5_away', 'stade']\n",
      "['awayteam', 'hometeam', 'dayofmonth', 'delta_day_home', 'season', 'home_coach', 'kicks_return_yds_MA_5_away', 'delta_day_away', 'defense_sacks_MA_5_home', 'streak_away', 'interceptions_MA_5_away', 'interceptions_td_MA_5_away', 'rush_td_MA_5_home', 'people', 'temperature', 'defense_td_MA_5_home', 'punt_return_yds_MA_5_away', 'pass_yds_MA_5_home', 'rush_td_MA_5_away', 'wind', 'defense_sacks_MA_5_away', 'rush_yds_MA_5_home', 'weather_type', 'fumbles_MA_5_home', 'fumbles_rec_MA_5_home', 'pass_td_MA_5_away', 'stade', 'interceptions_td_MA_5_home']\n",
      "['awayteam', 'hometeam', 'rush_yds_MA_5_away', 'defense_sacks_MA_5_home', 'streak_home', 'interceptions_MA_5_away', 'rec_td_MA_5_home', 'dayofweek', 'people', 'pass_yds_MA_5_away', 'season', 'fumbles_rec_MA_5_home', 'stade', 'punt_return_yds_MA_5_home', 'rec_yds_MA_5_home', 'kicking_pts_MA_5_home', 'week']\n",
      "['awayteam', 'hometeam', 'dayofmonth', 'defense_td_MA_5_away', 'away_coach', 'delta_day_home', 'rec_yds_MA_5_away', 'interceptions_MA_5_home', 'dayofweek', 'punt_return_yds_MA_5_home', 'rec_yds_MA_5_home', 'rush_yds_MA_5_away', 'location', 'defense_sacks_MA_5_home', 'streak_away', 'people', 'kicks_return_yds_MA_5_home', 'kicks_return_td_MA_5_away', 'rec_td_MA_5_away', 'fumbles_MA_5_away', 'pass_td_MA_5_home', 'week', 'defense_sacks_MA_5_away', 'fumbles_MA_5_home', 'pass_yds_MA_5_away', 'fumbles_rec_MA_5_home', 'stade', 'interceptions_td_MA_5_home']\n"
     ]
    },
    {
     "name": "stderr",
     "output_type": "stream",
     "text": [
      "c:\\Users\\sylva\\AppData\\Local\\Programs\\Python\\Python310\\lib\\site-packages\\sklearn\\preprocessing\\_encoders.py:188: UserWarning: Found unknown categories in columns [2] during transform. These unknown categories will be encoded as all zeros\n",
      "  warnings.warn(\n"
     ]
    },
    {
     "name": "stdout",
     "output_type": "stream",
     "text": [
      "['awayteam', 'hometeam', 'location', 'rec_td_MA_5_home', 'interceptions_MA_5_home', 'pass_yds_MA_5_away', 'stade', 'punt_return_yds_MA_5_away', 'week']\n",
      "['awayteam', 'hometeam', 'dayofmonth', 'pass_td_MA_5_home', 'month', 'streak_home', 'interceptions_MA_5_away', 'streak_away', 'interceptions_td_MA_5_away', 'rush_td_MA_5_home', 'defense_td_MA_5_away', 'fumbles_MA_5_home', 'pass_td_MA_5_away', 'defense_td_MA_5_home', 'interceptions_td_MA_5_home', 'stade', 'rec_yds_MA_5_home', 'humidity', 'week', 'delta_day_away']\n",
      "['awayteam', 'hometeam', 'location', 'streak_away', 'fumbles_rec_MA_5_away', 'rush_yds_MA_5_home', 'pass_td_MA_5_away', 'kicks_return_td_MA_5_away']\n",
      "['awayteam', 'hometeam', 'dayofmonth', 'defense_td_MA_5_away', 'away_coach', 'delta_day_home', 'season', 'home_coach', 'month', 'punt_return_yds_MA_5_home', 'rec_yds_MA_5_home', 'kicks_return_td_MA_5_home', 'delta_day_away', 'rush_yds_MA_5_away', 'location', 'defense_sacks_MA_5_home', 'streak_away', 'interceptions_MA_5_away', 'interceptions_td_MA_5_away', 'kicks_return_yds_MA_5_home', 'defense_td_MA_5_home', 'fumbles_MA_5_away', 'kicks_return_td_MA_5_away', 'pass_td_MA_5_home', 'week', 'pass_yds_MA_5_home', 'rec_td_MA_5_home', 'rush_yds_MA_5_home', 'fumbles_MA_5_home', 'pass_yds_MA_5_away', 'fumbles_rec_MA_5_home', 'stade', 'interceptions_td_MA_5_home', 'humidity', 'kicking_pts_MA_5_away']\n"
     ]
    },
    {
     "name": "stderr",
     "output_type": "stream",
     "text": [
      "c:\\Users\\sylva\\AppData\\Local\\Programs\\Python\\Python310\\lib\\site-packages\\sklearn\\preprocessing\\_encoders.py:188: UserWarning: Found unknown categories in columns [2] during transform. These unknown categories will be encoded as all zeros\n",
      "  warnings.warn(\n"
     ]
    },
    {
     "name": "stdout",
     "output_type": "stream",
     "text": [
      "['awayteam', 'hometeam', 'defense_td_MA_5_away', 'away_coach', 'home_coach', 'fumbles_rec_MA_5_away', 'kicks_return_yds_MA_5_away', 'interceptions_MA_5_home', 'month', 'rec_yds_MA_5_home', 'kicking_pts_MA_5_home', 'kicks_return_td_MA_5_home', 'delta_day_away', 'rush_yds_MA_5_away', 'location', 'defense_sacks_MA_5_home', 'streak_away', 'rush_td_MA_5_home', 'people', 'kicks_return_td_MA_5_away', 'rec_td_MA_5_away', 'pass_td_MA_5_home', 'punt_return_yds_MA_5_away', 'week', 'pass_yds_MA_5_home', 'wind', 'defense_sacks_MA_5_away', 'streak_home', 'rec_td_MA_5_home', 'rush_yds_MA_5_home', 'pass_yds_MA_5_away']\n"
     ]
    },
    {
     "name": "stderr",
     "output_type": "stream",
     "text": [
      "c:\\Users\\sylva\\AppData\\Local\\Programs\\Python\\Python310\\lib\\site-packages\\sklearn\\preprocessing\\_encoders.py:188: UserWarning: Found unknown categories in columns [2] during transform. These unknown categories will be encoded as all zeros\n",
      "  warnings.warn(\n"
     ]
    },
    {
     "name": "stdout",
     "output_type": "stream",
     "text": [
      "['awayteam', 'hometeam', 'rush_td_MA_5_away', 'defense_sacks_MA_5_home', 'defense_sacks_MA_5_away', 'streak_away', 'kicks_return_yds_MA_5_away', 'defense_td_MA_5_away', 'rush_yds_MA_5_home', 'pass_td_MA_5_home', 'delta_day_away']\n",
      "['awayteam', 'hometeam', 'rush_td_MA_5_home', 'dayofweek', 'pass_td_MA_5_away', 'defense_td_MA_5_home', 'kicks_return_yds_MA_5_home', 'temperature', 'kicks_return_td_MA_5_home', 'week']\n",
      "['awayteam', 'hometeam', 'rush_yds_MA_5_away', 'dayofweek', 'punt_return_yds_MA_5_away', 'humidity', 'delta_day_away']\n",
      "['awayteam', 'hometeam', 'defense_td_MA_5_away', 'delta_day_home', 'rec_yds_MA_5_home', 'kicking_pts_MA_5_home', 'delta_day_away', 'rush_yds_MA_5_away', 'streak_away', 'interceptions_MA_5_away', 'rush_td_MA_5_home', 'people', 'defense_td_MA_5_home', 'temperature', 'fumbles_MA_5_away', 'rec_td_MA_5_away', 'pass_td_MA_5_home', 'week', 'rush_td_MA_5_away', 'wind', 'rush_yds_MA_5_home', 'weather_type', 'fumbles_MA_5_home', 'pass_td_MA_5_away', 'humidity']\n",
      "['awayteam', 'hometeam', 'away_coach', 'delta_day_home', 'season', 'dayofweek', 'month', 'kicking_pts_MA_5_home', 'kicks_return_td_MA_5_home', 'rush_yds_MA_5_away', 'location', 'interceptions_MA_5_away', 'interceptions_td_MA_5_away', 'people', 'kicks_return_yds_MA_5_home', 'fumbles_MA_5_away', 'punt_return_yds_MA_5_away', 'pass_yds_MA_5_home', 'wind', 'streak_home', 'rush_yds_MA_5_home', 'weather_type', 'fumbles_MA_5_home', 'pass_yds_MA_5_away', 'fumbles_rec_MA_5_home', 'pass_td_MA_5_away', 'humidity']\n"
     ]
    },
    {
     "name": "stderr",
     "output_type": "stream",
     "text": [
      "c:\\Users\\sylva\\AppData\\Local\\Programs\\Python\\Python310\\lib\\site-packages\\sklearn\\preprocessing\\_encoders.py:188: UserWarning: Found unknown categories in columns [2] during transform. These unknown categories will be encoded as all zeros\n",
      "  warnings.warn(\n"
     ]
    },
    {
     "name": "stdout",
     "output_type": "stream",
     "text": [
      "['awayteam', 'hometeam', 'dayofmonth', 'away_coach', 'kicks_return_yds_MA_5_away', 'interceptions_MA_5_home', 'dayofweek', 'rec_yds_MA_5_home', 'kicks_return_td_MA_5_home', 'delta_day_away', 'rush_yds_MA_5_away', 'streak_away', 'rush_td_MA_5_home', 'people', 'kicks_return_yds_MA_5_home', 'defense_td_MA_5_home', 'temperature', 'kicks_return_td_MA_5_away', 'punt_return_yds_MA_5_away', 'rec_td_MA_5_away', 'fumbles_MA_5_away', 'pass_yds_MA_5_home', 'rush_td_MA_5_away', 'wind', 'streak_home', 'rush_yds_MA_5_home', 'fumbles_MA_5_home', 'pass_yds_MA_5_away', 'fumbles_rec_MA_5_home', 'stade']\n"
     ]
    },
    {
     "name": "stderr",
     "output_type": "stream",
     "text": [
      "c:\\Users\\sylva\\AppData\\Local\\Programs\\Python\\Python310\\lib\\site-packages\\sklearn\\preprocessing\\_encoders.py:188: UserWarning: Found unknown categories in columns [2] during transform. These unknown categories will be encoded as all zeros\n",
      "  warnings.warn(\n"
     ]
    },
    {
     "name": "stdout",
     "output_type": "stream",
     "text": [
      "['awayteam', 'hometeam', 'defense_td_MA_5_away', 'away_coach', 'delta_day_home', 'home_coach', 'kicks_return_yds_MA_5_away', 'dayofweek', 'punt_return_yds_MA_5_home', 'kicking_pts_MA_5_home', 'delta_day_away', 'rush_yds_MA_5_away', 'location', 'defense_sacks_MA_5_home', 'interceptions_td_MA_5_away', 'people', 'kicks_return_yds_MA_5_home', 'defense_td_MA_5_home', 'rec_td_MA_5_away', 'pass_td_MA_5_home', 'week', 'wind', 'defense_sacks_MA_5_away', 'streak_home', 'rec_td_MA_5_home', 'rush_yds_MA_5_home', 'weather_type', 'fumbles_MA_5_home', 'fumbles_rec_MA_5_home', 'humidity', 'kicking_pts_MA_5_away']\n"
     ]
    },
    {
     "name": "stderr",
     "output_type": "stream",
     "text": [
      "c:\\Users\\sylva\\AppData\\Local\\Programs\\Python\\Python310\\lib\\site-packages\\sklearn\\preprocessing\\_encoders.py:188: UserWarning: Found unknown categories in columns [2] during transform. These unknown categories will be encoded as all zeros\n",
      "  warnings.warn(\n"
     ]
    },
    {
     "name": "stdout",
     "output_type": "stream",
     "text": [
      "['awayteam', 'hometeam', 'rush_yds_MA_5_away', 'rush_td_MA_5_away', 'wind', 'location', 'streak_away', 'fumbles_rec_MA_5_away', 'kicks_return_yds_MA_5_away', 'defense_sacks_MA_5_away', 'interceptions_td_MA_5_away', 'pass_yds_MA_5_away', 'fumbles_rec_MA_5_home', 'defense_td_MA_5_home', 'fumbles_MA_5_away', 'pass_td_MA_5_home', 'kicks_return_td_MA_5_away', 'delta_day_away']\n",
      "['awayteam', 'hometeam', 'defense_td_MA_5_away', 'away_coach', 'delta_day_home', 'home_coach', 'fumbles_rec_MA_5_away', 'kicks_return_yds_MA_5_away', 'rec_yds_MA_5_away', 'dayofweek', 'rec_yds_MA_5_home', 'kicks_return_td_MA_5_home', 'location', 'interceptions_MA_5_away', 'kicks_return_yds_MA_5_home', 'temperature', 'fumbles_MA_5_away', 'rec_td_MA_5_away', 'pass_td_MA_5_home', 'week', 'rush_td_MA_5_away', 'defense_sacks_MA_5_away', 'streak_home', 'weather_type', 'fumbles_MA_5_home', 'kicking_pts_MA_5_away']\n"
     ]
    },
    {
     "name": "stderr",
     "output_type": "stream",
     "text": [
      "c:\\Users\\sylva\\AppData\\Local\\Programs\\Python\\Python310\\lib\\site-packages\\sklearn\\preprocessing\\_encoders.py:188: UserWarning: Found unknown categories in columns [2] during transform. These unknown categories will be encoded as all zeros\n",
      "  warnings.warn(\n"
     ]
    },
    {
     "name": "stdout",
     "output_type": "stream",
     "text": [
      "['awayteam', 'hometeam', 'dayofmonth', 'defense_td_MA_5_away', 'away_coach', 'season', 'home_coach', 'fumbles_rec_MA_5_away', 'interceptions_MA_5_home', 'dayofweek', 'month', 'punt_return_yds_MA_5_home', 'kicking_pts_MA_5_home', 'kicks_return_td_MA_5_home', 'delta_day_away', 'streak_away', 'interceptions_MA_5_away', 'rush_td_MA_5_home', 'people', 'kicks_return_yds_MA_5_home', 'fumbles_MA_5_away', 'punt_return_yds_MA_5_away', 'week', 'pass_yds_MA_5_home', 'rush_td_MA_5_away', 'wind', 'defense_sacks_MA_5_away', 'streak_home', 'rec_td_MA_5_home', 'rush_yds_MA_5_home', 'stade', 'pass_td_MA_5_away', 'interceptions_td_MA_5_home', 'kicking_pts_MA_5_away']\n"
     ]
    },
    {
     "name": "stderr",
     "output_type": "stream",
     "text": [
      "c:\\Users\\sylva\\AppData\\Local\\Programs\\Python\\Python310\\lib\\site-packages\\sklearn\\preprocessing\\_encoders.py:188: UserWarning: Found unknown categories in columns [2] during transform. These unknown categories will be encoded as all zeros\n",
      "  warnings.warn(\n"
     ]
    },
    {
     "name": "stdout",
     "output_type": "stream",
     "text": [
      "['awayteam', 'hometeam', 'pass_yds_MA_5_home', 'dayofmonth', 'location', 'defense_sacks_MA_5_home', 'defense_sacks_MA_5_away', 'kicks_return_yds_MA_5_away', 'interceptions_MA_5_away', 'people', 'fumbles_MA_5_home', 'season', 'defense_td_MA_5_home', 'fumbles_MA_5_away', 'punt_return_yds_MA_5_away', 'humidity', 'delta_day_away']\n",
      "['awayteam', 'hometeam', 'rush_yds_MA_5_home']\n",
      "['awayteam', 'hometeam', 'away_coach', 'season', 'kicks_return_yds_MA_5_away', 'interceptions_MA_5_home', 'month', 'kicks_return_td_MA_5_home', 'location', 'defense_sacks_MA_5_home', 'streak_away', 'interceptions_MA_5_away', 'people', 'temperature', 'rec_td_MA_5_away', 'pass_td_MA_5_home', 'pass_yds_MA_5_home', 'wind', 'streak_home', 'rush_yds_MA_5_home', 'weather_type', 'fumbles_rec_MA_5_home', 'pass_td_MA_5_away', 'interceptions_td_MA_5_home', 'humidity', 'kicking_pts_MA_5_away']\n"
     ]
    },
    {
     "name": "stderr",
     "output_type": "stream",
     "text": [
      "c:\\Users\\sylva\\AppData\\Local\\Programs\\Python\\Python310\\lib\\site-packages\\sklearn\\preprocessing\\_encoders.py:188: UserWarning: Found unknown categories in columns [2] during transform. These unknown categories will be encoded as all zeros\n",
      "  warnings.warn(\n"
     ]
    },
    {
     "name": "stdout",
     "output_type": "stream",
     "text": [
      "['awayteam', 'hometeam', 'rush_td_MA_5_home', 'streak_home', 'weather_type']\n",
      "['awayteam', 'hometeam', 'dayofmonth', 'defense_td_MA_5_away', 'away_coach', 'home_coach', 'kicks_return_yds_MA_5_away', 'rec_yds_MA_5_away', 'dayofweek', 'month', 'rush_yds_MA_5_away', 'defense_sacks_MA_5_home', 'interceptions_td_MA_5_away', 'fumbles_MA_5_away', 'punt_return_yds_MA_5_away', 'rec_td_MA_5_away', 'defense_sacks_MA_5_away', 'rec_td_MA_5_home', 'rush_yds_MA_5_home', 'fumbles_MA_5_home', 'fumbles_rec_MA_5_home', 'pass_td_MA_5_away', 'kicking_pts_MA_5_away']\n"
     ]
    },
    {
     "name": "stderr",
     "output_type": "stream",
     "text": [
      "c:\\Users\\sylva\\AppData\\Local\\Programs\\Python\\Python310\\lib\\site-packages\\sklearn\\preprocessing\\_encoders.py:188: UserWarning: Found unknown categories in columns [2] during transform. These unknown categories will be encoded as all zeros\n",
      "  warnings.warn(\n"
     ]
    },
    {
     "name": "stdout",
     "output_type": "stream",
     "text": [
      "['awayteam', 'hometeam', 'delta_day_home', 'season', 'home_coach', 'rec_yds_MA_5_away', 'punt_return_yds_MA_5_home', 'rec_yds_MA_5_home', 'kicking_pts_MA_5_home', 'kicks_return_td_MA_5_home', 'delta_day_away', 'rush_yds_MA_5_away', 'location', 'defense_sacks_MA_5_home', 'interceptions_MA_5_away', 'rush_td_MA_5_home', 'kicks_return_yds_MA_5_home', 'defense_td_MA_5_home', 'temperature', 'punt_return_yds_MA_5_away', 'rec_td_MA_5_away', 'week', 'pass_yds_MA_5_home', 'rush_td_MA_5_away', 'wind', 'weather_type', 'pass_yds_MA_5_away', 'fumbles_rec_MA_5_home', 'pass_td_MA_5_away', 'humidity', 'kicking_pts_MA_5_away']\n",
      "['awayteam', 'hometeam', 'streak_home', 'away_coach', 'pass_yds_MA_5_away', 'season', 'stade', 'punt_return_yds_MA_5_home']\n"
     ]
    },
    {
     "name": "stderr",
     "output_type": "stream",
     "text": [
      "c:\\Users\\sylva\\AppData\\Local\\Programs\\Python\\Python310\\lib\\site-packages\\sklearn\\preprocessing\\_encoders.py:188: UserWarning: Found unknown categories in columns [2] during transform. These unknown categories will be encoded as all zeros\n",
      "  warnings.warn(\n"
     ]
    },
    {
     "name": "stdout",
     "output_type": "stream",
     "text": [
      "['awayteam', 'hometeam', 'dayofmonth', 'defense_td_MA_5_away', 'away_coach', 'season', 'home_coach', 'kicks_return_yds_MA_5_away', 'interceptions_MA_5_home', 'rec_yds_MA_5_away', 'dayofweek', 'punt_return_yds_MA_5_home', 'rec_yds_MA_5_home', 'rush_yds_MA_5_away', 'interceptions_td_MA_5_away', 'rush_td_MA_5_home', 'kicks_return_yds_MA_5_home', 'defense_td_MA_5_home', 'kicks_return_td_MA_5_away', 'rec_td_MA_5_away', 'pass_yds_MA_5_home', 'rush_td_MA_5_away', 'defense_sacks_MA_5_away', 'streak_home', 'rec_td_MA_5_home', 'weather_type', 'fumbles_MA_5_home', 'pass_yds_MA_5_away', 'fumbles_rec_MA_5_home', 'stade', 'interceptions_td_MA_5_home', 'humidity']\n"
     ]
    },
    {
     "name": "stderr",
     "output_type": "stream",
     "text": [
      "c:\\Users\\sylva\\AppData\\Local\\Programs\\Python\\Python310\\lib\\site-packages\\sklearn\\preprocessing\\_encoders.py:188: UserWarning: Found unknown categories in columns [2] during transform. These unknown categories will be encoded as all zeros\n",
      "  warnings.warn(\n"
     ]
    },
    {
     "name": "stdout",
     "output_type": "stream",
     "text": [
      "['awayteam', 'hometeam', 'delta_day_home', 'season', 'kicks_return_yds_MA_5_away', 'rec_yds_MA_5_away', 'interceptions_MA_5_home', 'dayofweek', 'month', 'kicks_return_td_MA_5_home', 'delta_day_away', 'location', 'defense_sacks_MA_5_home', 'rush_td_MA_5_home', 'defense_td_MA_5_home', 'temperature', 'kicks_return_td_MA_5_away', 'punt_return_yds_MA_5_away', 'pass_td_MA_5_home', 'week', 'pass_yds_MA_5_home', 'wind', 'defense_sacks_MA_5_away', 'streak_home', 'rush_yds_MA_5_home', 'weather_type', 'humidity']\n",
      "['awayteam', 'hometeam', 'rush_td_MA_5_away', 'home_coach', 'rec_td_MA_5_home', 'interceptions_MA_5_home', 'away_coach', 'weather_type', 'humidity', 'delta_day_home', 'pass_yds_MA_5_away', 'stade', 'kicks_return_td_MA_5_away', 'punt_return_yds_MA_5_away', 'kicks_return_td_MA_5_home', 'delta_day_away']\n"
     ]
    },
    {
     "name": "stderr",
     "output_type": "stream",
     "text": [
      "c:\\Users\\sylva\\AppData\\Local\\Programs\\Python\\Python310\\lib\\site-packages\\sklearn\\preprocessing\\_encoders.py:188: UserWarning: Found unknown categories in columns [3] during transform. These unknown categories will be encoded as all zeros\n",
      "  warnings.warn(\n"
     ]
    },
    {
     "name": "stdout",
     "output_type": "stream",
     "text": [
      "['awayteam', 'hometeam', 'rush_yds_MA_5_away', 'pass_yds_MA_5_home', 'dayofmonth', 'streak_away', 'kicks_return_yds_MA_5_away', 'interceptions_MA_5_home', 'rush_yds_MA_5_home', 'rush_td_MA_5_home', 'people', 'fumbles_MA_5_home', 'pass_yds_MA_5_away', 'pass_td_MA_5_away', 'kicks_return_yds_MA_5_home', 'punt_return_yds_MA_5_home', 'fumbles_MA_5_away', 'rec_yds_MA_5_home']\n",
      "['awayteam', 'hometeam', 'defense_td_MA_5_away', 'away_coach', 'delta_day_home', 'season', 'home_coach', 'fumbles_rec_MA_5_away', 'kicks_return_yds_MA_5_away', 'rec_yds_MA_5_away', 'interceptions_MA_5_home', 'month', 'punt_return_yds_MA_5_home', 'kicking_pts_MA_5_home', 'rush_yds_MA_5_away', 'streak_away', 'interceptions_MA_5_away', 'interceptions_td_MA_5_away', 'kicks_return_yds_MA_5_home', 'fumbles_MA_5_away', 'kicks_return_td_MA_5_away', 'punt_return_yds_MA_5_away', 'wind', 'defense_sacks_MA_5_away', 'streak_home', 'rush_yds_MA_5_home', 'fumbles_MA_5_home', 'fumbles_rec_MA_5_home', 'pass_td_MA_5_away', 'humidity', 'kicking_pts_MA_5_away']\n"
     ]
    },
    {
     "name": "stderr",
     "output_type": "stream",
     "text": [
      "c:\\Users\\sylva\\AppData\\Local\\Programs\\Python\\Python310\\lib\\site-packages\\sklearn\\preprocessing\\_encoders.py:188: UserWarning: Found unknown categories in columns [2] during transform. These unknown categories will be encoded as all zeros\n",
      "  warnings.warn(\n"
     ]
    },
    {
     "name": "stdout",
     "output_type": "stream",
     "text": [
      "['awayteam', 'hometeam', 'location', 'streak_away', 'streak_home', 'interceptions_MA_5_home', 'rush_td_MA_5_home', 'dayofweek', 'month', 'rec_yds_MA_5_home', 'kicks_return_td_MA_5_home']\n",
      "['awayteam', 'hometeam', 'away_coach', 'season', 'home_coach', 'kicks_return_yds_MA_5_away', 'rec_yds_MA_5_away', 'month', 'rec_yds_MA_5_home', 'kicking_pts_MA_5_home', 'delta_day_away', 'rush_yds_MA_5_away', 'streak_away', 'interceptions_MA_5_away', 'interceptions_td_MA_5_away', 'people', 'kicks_return_yds_MA_5_home', 'defense_td_MA_5_home', 'fumbles_MA_5_away', 'punt_return_yds_MA_5_away', 'pass_td_MA_5_home', 'rush_yds_MA_5_home', 'weather_type', 'fumbles_MA_5_home', 'fumbles_rec_MA_5_home', 'stade', 'kicking_pts_MA_5_away']\n"
     ]
    },
    {
     "name": "stderr",
     "output_type": "stream",
     "text": [
      "c:\\Users\\sylva\\AppData\\Local\\Programs\\Python\\Python310\\lib\\site-packages\\sklearn\\preprocessing\\_encoders.py:188: UserWarning: Found unknown categories in columns [2] during transform. These unknown categories will be encoded as all zeros\n",
      "  warnings.warn(\n"
     ]
    },
    {
     "name": "stdout",
     "output_type": "stream",
     "text": [
      "['awayteam', 'hometeam', 'dayofmonth', 'rush_td_MA_5_away', 'defense_sacks_MA_5_home', 'streak_away', 'kicks_return_yds_MA_5_away', 'rec_td_MA_5_home', 'interceptions_td_MA_5_away', 'humidity', 'punt_return_yds_MA_5_home', 'punt_return_yds_MA_5_away', 'kicking_pts_MA_5_home', 'kicking_pts_MA_5_away', 'delta_day_away']\n",
      "['awayteam', 'hometeam', 'pass_yds_MA_5_home', 'home_coach', 'location', 'streak_away', 'interceptions_MA_5_away', 'rec_yds_MA_5_away', 'rush_yds_MA_5_home', 'interceptions_MA_5_home', 'pass_yds_MA_5_away', 'temperature', 'defense_td_MA_5_home']\n",
      "['awayteam', 'hometeam', 'rush_yds_MA_5_away', 'pass_yds_MA_5_home', 'wind', 'defense_sacks_MA_5_home', 'month', 'rec_td_MA_5_home', 'interceptions_td_MA_5_away', 'rec_yds_MA_5_away', 'weather_type', 'delta_day_home', 'stade', 'interceptions_td_MA_5_home', 'rec_td_MA_5_away', 'delta_day_away']\n",
      "['awayteam', 'hometeam', 'rush_yds_MA_5_away', 'home_coach', 'defense_sacks_MA_5_away', 'interceptions_td_MA_5_away', 'rec_yds_MA_5_away', 'rush_yds_MA_5_home', 'weather_type', 'fumbles_MA_5_home', 'delta_day_home', 'season', 'pass_yds_MA_5_away', 'kicks_return_yds_MA_5_home', 'stade', 'defense_td_MA_5_home', 'punt_return_yds_MA_5_home', 'fumbles_MA_5_away', 'kicks_return_td_MA_5_away', 'kicking_pts_MA_5_away']\n",
      "['awayteam', 'hometeam', 'wind', 'interceptions_td_MA_5_home', 'interceptions_MA_5_away', 'rec_yds_MA_5_away', 'dayofweek', 'away_coach', 'fumbles_MA_5_home', 'season', 'kicks_return_yds_MA_5_home', 'temperature', 'month', 'defense_td_MA_5_home', 'rec_td_MA_5_away', 'humidity']\n"
     ]
    },
    {
     "name": "stderr",
     "output_type": "stream",
     "text": [
      "c:\\Users\\sylva\\AppData\\Local\\Programs\\Python\\Python310\\lib\\site-packages\\sklearn\\preprocessing\\_encoders.py:188: UserWarning: Found unknown categories in columns [2] during transform. These unknown categories will be encoded as all zeros\n",
      "  warnings.warn(\n"
     ]
    },
    {
     "name": "stdout",
     "output_type": "stream",
     "text": [
      "['awayteam', 'hometeam', 'rush_td_MA_5_away', 'dayofmonth', 'location', 'defense_sacks_MA_5_home', 'defense_sacks_MA_5_away', 'interceptions_td_MA_5_away', 'rush_td_MA_5_home', 'rush_yds_MA_5_home', 'weather_type', 'delta_day_home', 'season', 'fumbles_MA_5_home', 'pass_td_MA_5_away', 'punt_return_yds_MA_5_away', 'delta_day_away']\n",
      "['awayteam', 'hometeam', 'rush_yds_MA_5_away', 'dayofmonth', 'wind', 'location', 'defense_sacks_MA_5_home', 'kicks_return_yds_MA_5_away', 'streak_home', 'streak_away', 'away_coach', 'fumbles_MA_5_home', 'punt_return_yds_MA_5_away', 'month', 'punt_return_yds_MA_5_home', 'fumbles_MA_5_away', 'rec_yds_MA_5_home', 'humidity', 'kicking_pts_MA_5_away']\n"
     ]
    },
    {
     "name": "stderr",
     "output_type": "stream",
     "text": [
      "c:\\Users\\sylva\\AppData\\Local\\Programs\\Python\\Python310\\lib\\site-packages\\sklearn\\preprocessing\\_encoders.py:188: UserWarning: Found unknown categories in columns [3] during transform. These unknown categories will be encoded as all zeros\n",
      "  warnings.warn(\n"
     ]
    },
    {
     "name": "stdout",
     "output_type": "stream",
     "text": [
      "['awayteam', 'hometeam', 'pass_yds_MA_5_home', 'fumbles_rec_MA_5_away', 'kicks_return_yds_MA_5_away', 'rec_td_MA_5_home', 'interceptions_MA_5_away', 'rush_yds_MA_5_home', 'weather_type', 'fumbles_MA_5_home', 'pass_yds_MA_5_away', 'season', 'interceptions_td_MA_5_home', 'rec_yds_MA_5_home', 'pass_td_MA_5_home', 'kicking_pts_MA_5_away']\n",
      "['awayteam', 'hometeam', 'dayofmonth', 'season', 'home_coach', 'kicks_return_yds_MA_5_away', 'fumbles_rec_MA_5_away', 'rec_yds_MA_5_away', 'month', 'punt_return_yds_MA_5_home', 'kicks_return_td_MA_5_home', 'streak_away', 'people', 'kicks_return_yds_MA_5_home', 'defense_td_MA_5_home', 'temperature', 'kicks_return_td_MA_5_away', 'punt_return_yds_MA_5_away', 'pass_td_MA_5_home', 'wind', 'defense_sacks_MA_5_away', 'rush_yds_MA_5_home', 'weather_type', 'fumbles_rec_MA_5_home', 'interceptions_td_MA_5_home', 'humidity', 'kicking_pts_MA_5_away']\n",
      "['awayteam', 'hometeam', 'dayofmonth', 'defense_td_MA_5_away', 'away_coach', 'delta_day_home', 'season', 'kicks_return_yds_MA_5_away', 'fumbles_rec_MA_5_away', 'punt_return_yds_MA_5_home', 'kicks_return_td_MA_5_home', 'kicking_pts_MA_5_home', 'delta_day_away', 'rush_yds_MA_5_away', 'location', 'defense_sacks_MA_5_home', 'streak_away', 'interceptions_MA_5_away', 'interceptions_td_MA_5_away', 'rush_td_MA_5_home', 'kicks_return_yds_MA_5_home', 'defense_td_MA_5_home', 'fumbles_MA_5_away', 'punt_return_yds_MA_5_away', 'pass_td_MA_5_home', 'streak_home', 'weather_type', 'fumbles_MA_5_home', 'fumbles_rec_MA_5_home', 'stade', 'interceptions_td_MA_5_home']\n"
     ]
    },
    {
     "name": "stderr",
     "output_type": "stream",
     "text": [
      "c:\\Users\\sylva\\AppData\\Local\\Programs\\Python\\Python310\\lib\\site-packages\\sklearn\\preprocessing\\_encoders.py:188: UserWarning: Found unknown categories in columns [2] during transform. These unknown categories will be encoded as all zeros\n",
      "  warnings.warn(\n"
     ]
    },
    {
     "name": "stdout",
     "output_type": "stream",
     "text": [
      "['awayteam', 'hometeam', 'delta_day_home', 'season', 'kicks_return_yds_MA_5_away', 'fumbles_rec_MA_5_away', 'rec_yds_MA_5_away', 'interceptions_MA_5_home', 'month', 'rec_yds_MA_5_home', 'delta_day_away', 'defense_sacks_MA_5_home', 'temperature', 'week', 'rush_td_MA_5_away', 'defense_sacks_MA_5_away', 'streak_home', 'rec_td_MA_5_home', 'rush_yds_MA_5_home', 'fumbles_MA_5_home', 'fumbles_rec_MA_5_home', 'stade', 'humidity', 'kicking_pts_MA_5_away']\n",
      "['awayteam', 'hometeam', 'pass_yds_MA_5_home', 'dayofmonth', 'fumbles_rec_MA_5_away', 'streak_home', 'interceptions_MA_5_home', 'defense_td_MA_5_away', 'rec_yds_MA_5_home', 'away_coach', 'rush_yds_MA_5_home', 'kicks_return_yds_MA_5_home', 'rec_td_MA_5_away', 'week', 'delta_day_away']\n"
     ]
    },
    {
     "name": "stderr",
     "output_type": "stream",
     "text": [
      "c:\\Users\\sylva\\AppData\\Local\\Programs\\Python\\Python310\\lib\\site-packages\\sklearn\\preprocessing\\_encoders.py:188: UserWarning: Found unknown categories in columns [2] during transform. These unknown categories will be encoded as all zeros\n",
      "  warnings.warn(\n"
     ]
    },
    {
     "name": "stdout",
     "output_type": "stream",
     "text": [
      "['awayteam', 'hometeam', 'defense_sacks_MA_5_home', 'fumbles_rec_MA_5_away', 'interceptions_td_MA_5_away', 'interceptions_MA_5_home', 'defense_td_MA_5_away', 'rush_td_MA_5_home', 'rush_yds_MA_5_home', 'away_coach', 'fumbles_rec_MA_5_home', 'kicks_return_yds_MA_5_home', 'defense_td_MA_5_home', 'month', 'fumbles_MA_5_away', 'rec_td_MA_5_away', 'kicking_pts_MA_5_home', 'kicks_return_td_MA_5_away', 'week']\n"
     ]
    },
    {
     "name": "stderr",
     "output_type": "stream",
     "text": [
      "c:\\Users\\sylva\\AppData\\Local\\Programs\\Python\\Python310\\lib\\site-packages\\sklearn\\preprocessing\\_encoders.py:188: UserWarning: Found unknown categories in columns [2] during transform. These unknown categories will be encoded as all zeros\n",
      "  warnings.warn(\n"
     ]
    },
    {
     "name": "stdout",
     "output_type": "stream",
     "text": [
      "['awayteam', 'hometeam', 'rush_yds_MA_5_away', 'wind', 'streak_away', 'streak_home', 'rec_td_MA_5_home', 'kicks_return_yds_MA_5_away', 'defense_sacks_MA_5_away', 'away_coach', 'dayofweek', 'fumbles_MA_5_home', 'interceptions_td_MA_5_home', 'fumbles_MA_5_away', 'rec_yds_MA_5_home', 'kicks_return_td_MA_5_home', 'kicks_return_td_MA_5_away', 'week']\n"
     ]
    },
    {
     "name": "stderr",
     "output_type": "stream",
     "text": [
      "c:\\Users\\sylva\\AppData\\Local\\Programs\\Python\\Python310\\lib\\site-packages\\sklearn\\preprocessing\\_encoders.py:188: UserWarning: Found unknown categories in columns [2] during transform. These unknown categories will be encoded as all zeros\n",
      "  warnings.warn(\n"
     ]
    },
    {
     "name": "stdout",
     "output_type": "stream",
     "text": [
      "['awayteam', 'hometeam', 'delta_day_home', 'home_coach', 'kicks_return_yds_MA_5_away', 'interceptions_MA_5_home', 'punt_return_yds_MA_5_home', 'kicks_return_td_MA_5_home', 'delta_day_away', 'rush_yds_MA_5_away', 'defense_sacks_MA_5_home', 'interceptions_MA_5_away', 'interceptions_td_MA_5_away', 'people', 'kicks_return_yds_MA_5_home', 'temperature', 'defense_td_MA_5_home', 'kicks_return_td_MA_5_away', 'punt_return_yds_MA_5_away', 'pass_td_MA_5_home', 'rec_td_MA_5_away', 'fumbles_MA_5_away', 'defense_sacks_MA_5_away', 'rec_td_MA_5_home', 'fumbles_MA_5_home', 'pass_yds_MA_5_away', 'fumbles_rec_MA_5_home', 'pass_td_MA_5_away', 'interceptions_td_MA_5_home']\n",
      "['awayteam', 'hometeam', 'dayofmonth', 'away_coach', 'delta_day_home', 'season', 'fumbles_rec_MA_5_away', 'rec_yds_MA_5_away', 'dayofweek', 'month', 'rec_yds_MA_5_home', 'kicking_pts_MA_5_home', 'streak_away', 'interceptions_MA_5_away', 'rush_td_MA_5_home', 'people', 'kicks_return_yds_MA_5_home', 'defense_td_MA_5_home', 'kicks_return_td_MA_5_away', 'week', 'rush_td_MA_5_away', 'wind', 'rush_yds_MA_5_home', 'pass_yds_MA_5_away', 'fumbles_rec_MA_5_home']\n"
     ]
    },
    {
     "name": "stderr",
     "output_type": "stream",
     "text": [
      "c:\\Users\\sylva\\AppData\\Local\\Programs\\Python\\Python310\\lib\\site-packages\\sklearn\\preprocessing\\_encoders.py:188: UserWarning: Found unknown categories in columns [2] during transform. These unknown categories will be encoded as all zeros\n",
      "  warnings.warn(\n"
     ]
    },
    {
     "name": "stdout",
     "output_type": "stream",
     "text": [
      "['awayteam', 'hometeam', 'defense_td_MA_5_away', 'season', 'home_coach', 'interceptions_MA_5_home', 'rec_yds_MA_5_away', 'month', 'kicking_pts_MA_5_home', 'rush_yds_MA_5_away', 'location', 'interceptions_MA_5_away', 'rush_td_MA_5_home', 'defense_td_MA_5_home', 'kicks_return_td_MA_5_away', 'fumbles_MA_5_away', 'week', 'defense_sacks_MA_5_away', 'streak_home', 'rec_td_MA_5_home', 'rush_yds_MA_5_home', 'pass_yds_MA_5_away', 'pass_td_MA_5_away', 'stade', 'interceptions_td_MA_5_home']\n",
      "['awayteam', 'hometeam', 'defense_td_MA_5_away', 'season', 'kicks_return_yds_MA_5_away', 'fumbles_rec_MA_5_away', 'rec_yds_MA_5_away', 'dayofweek', 'month', 'punt_return_yds_MA_5_home', 'kicks_return_td_MA_5_home', 'defense_sacks_MA_5_home', 'interceptions_MA_5_away', 'people', 'temperature', 'week', 'rush_td_MA_5_away', 'defense_sacks_MA_5_away', 'streak_home', 'rush_yds_MA_5_home', 'weather_type', 'fumbles_rec_MA_5_home', 'interceptions_td_MA_5_home', 'humidity']\n",
      "['awayteam', 'hometeam', 'home_coach', 'streak_away', 'kicks_return_yds_MA_5_away', 'delta_day_home', 'kicking_pts_MA_5_away', 'delta_day_away']\n",
      "['awayteam', 'hometeam', 'defense_sacks_MA_5_away', 'interceptions_MA_5_away', 'rec_yds_MA_5_away', 'dayofweek', 'people', 'delta_day_home', 'season', 'fumbles_rec_MA_5_home', 'pass_td_MA_5_away', 'temperature', 'interceptions_td_MA_5_home', 'punt_return_yds_MA_5_home', 'kicks_return_td_MA_5_away', 'week']\n",
      "['awayteam', 'hometeam', 'defense_td_MA_5_away', 'delta_day_home', 'season', 'home_coach', 'kicks_return_yds_MA_5_away', 'rec_yds_MA_5_away', 'punt_return_yds_MA_5_home', 'kicks_return_td_MA_5_home', 'delta_day_away', 'defense_sacks_MA_5_home', 'streak_away', 'interceptions_MA_5_away', 'rush_td_MA_5_home', 'people', 'kicks_return_yds_MA_5_home', 'defense_td_MA_5_home', 'fumbles_MA_5_away', 'punt_return_yds_MA_5_away', 'pass_td_MA_5_home', 'kicks_return_td_MA_5_away', 'wind', 'defense_sacks_MA_5_away', 'streak_home', 'weather_type', 'fumbles_rec_MA_5_home', 'pass_td_MA_5_away', 'stade', 'interceptions_td_MA_5_home', 'kicking_pts_MA_5_away']\n",
      "['awayteam', 'hometeam', 'rush_yds_MA_5_away', 'pass_yds_MA_5_home', 'rush_td_MA_5_away', 'wind', 'defense_sacks_MA_5_home', 'fumbles_rec_MA_5_away', 'kicks_return_yds_MA_5_away', 'defense_sacks_MA_5_away', 'rec_yds_MA_5_away', 'defense_td_MA_5_away', 'dayofweek', 'temperature', 'interceptions_td_MA_5_home', 'punt_return_yds_MA_5_home', 'kicks_return_td_MA_5_away', 'punt_return_yds_MA_5_away', 'week', 'delta_day_away']\n",
      "['awayteam', 'hometeam', 'away_coach', 'season', 'home_coach', 'kicks_return_yds_MA_5_away', 'rec_yds_MA_5_away', 'interceptions_MA_5_home', 'punt_return_yds_MA_5_home', 'kicking_pts_MA_5_home', 'kicks_return_td_MA_5_home', 'delta_day_away', 'defense_sacks_MA_5_home', 'interceptions_MA_5_away', 'interceptions_td_MA_5_away', 'rush_td_MA_5_home', 'defense_td_MA_5_home', 'fumbles_MA_5_away', 'week', 'rush_yds_MA_5_home', 'pass_td_MA_5_away', 'interceptions_td_MA_5_home', 'kicking_pts_MA_5_away']\n"
     ]
    },
    {
     "name": "stderr",
     "output_type": "stream",
     "text": [
      "c:\\Users\\sylva\\AppData\\Local\\Programs\\Python\\Python310\\lib\\site-packages\\sklearn\\preprocessing\\_encoders.py:188: UserWarning: Found unknown categories in columns [2] during transform. These unknown categories will be encoded as all zeros\n",
      "  warnings.warn(\n"
     ]
    },
    {
     "name": "stdout",
     "output_type": "stream",
     "text": [
      "['awayteam', 'hometeam', 'dayofmonth', 'defense_td_MA_5_away', 'away_coach', 'season', 'home_coach', 'kicks_return_yds_MA_5_away', 'interceptions_MA_5_home', 'month', 'punt_return_yds_MA_5_home', 'kicking_pts_MA_5_home', 'delta_day_away', 'streak_away', 'interceptions_MA_5_away', 'interceptions_td_MA_5_away', 'rush_td_MA_5_home', 'people', 'kicks_return_yds_MA_5_home', 'temperature', 'defense_td_MA_5_home', 'kicks_return_td_MA_5_away', 'pass_td_MA_5_home', 'rush_td_MA_5_away', 'streak_home', 'rec_td_MA_5_home', 'rush_yds_MA_5_home', 'fumbles_MA_5_home', 'pass_yds_MA_5_away', 'fumbles_rec_MA_5_home', 'humidity', 'kicking_pts_MA_5_away']\n"
     ]
    },
    {
     "name": "stderr",
     "output_type": "stream",
     "text": [
      "c:\\Users\\sylva\\AppData\\Local\\Programs\\Python\\Python310\\lib\\site-packages\\sklearn\\preprocessing\\_encoders.py:188: UserWarning: Found unknown categories in columns [2] during transform. These unknown categories will be encoded as all zeros\n",
      "  warnings.warn(\n"
     ]
    },
    {
     "name": "stdout",
     "output_type": "stream",
     "text": [
      "['awayteam', 'hometeam', 'dayofmonth', 'away_coach', 'delta_day_home', 'kicks_return_yds_MA_5_away', 'fumbles_rec_MA_5_away', 'rec_yds_MA_5_away', 'interceptions_MA_5_home', 'dayofweek', 'kicks_return_td_MA_5_home', 'defense_sacks_MA_5_home', 'interceptions_td_MA_5_away', 'rush_td_MA_5_home', 'people', 'kicks_return_yds_MA_5_home', 'defense_td_MA_5_home', 'punt_return_yds_MA_5_away', 'wind', 'streak_home', 'rush_yds_MA_5_home', 'pass_yds_MA_5_away']\n"
     ]
    },
    {
     "name": "stderr",
     "output_type": "stream",
     "text": [
      "c:\\Users\\sylva\\AppData\\Local\\Programs\\Python\\Python310\\lib\\site-packages\\sklearn\\preprocessing\\_encoders.py:188: UserWarning: Found unknown categories in columns [2] during transform. These unknown categories will be encoded as all zeros\n",
      "  warnings.warn(\n"
     ]
    },
    {
     "name": "stdout",
     "output_type": "stream",
     "text": [
      "['awayteam', 'hometeam', 'defense_sacks_MA_5_home', 'fumbles_rec_MA_5_away', 'streak_home', 'interceptions_MA_5_home', 'rush_yds_MA_5_home', 'defense_td_MA_5_away', 'rec_yds_MA_5_away', 'away_coach', 'pass_yds_MA_5_away', 'punt_return_yds_MA_5_away', 'defense_td_MA_5_home', 'stade', 'punt_return_yds_MA_5_home', 'rec_yds_MA_5_home', 'delta_day_away']\n"
     ]
    },
    {
     "name": "stderr",
     "output_type": "stream",
     "text": [
      "c:\\Users\\sylva\\AppData\\Local\\Programs\\Python\\Python310\\lib\\site-packages\\sklearn\\preprocessing\\_encoders.py:188: UserWarning: Found unknown categories in columns [2] during transform. These unknown categories will be encoded as all zeros\n",
      "  warnings.warn(\n"
     ]
    },
    {
     "name": "stdout",
     "output_type": "stream",
     "text": [
      "['awayteam', 'hometeam', 'rush_td_MA_5_away', 'kicks_return_yds_MA_5_away', 'rec_td_MA_5_home', 'interceptions_MA_5_home', 'rush_td_MA_5_home', 'punt_return_yds_MA_5_home', 'fumbles_MA_5_away', 'kicks_return_td_MA_5_home']\n",
      "['awayteam', 'hometeam', 'away_coach', 'season', 'kicks_return_yds_MA_5_away', 'fumbles_rec_MA_5_away', 'interceptions_MA_5_home', 'rec_yds_MA_5_away', 'rec_yds_MA_5_home', 'kicks_return_td_MA_5_home', 'delta_day_away', 'interceptions_MA_5_away', 'interceptions_td_MA_5_away', 'rush_td_MA_5_home', 'kicks_return_yds_MA_5_home', 'defense_td_MA_5_home', 'kicks_return_td_MA_5_away', 'pass_td_MA_5_home', 'week', 'defense_sacks_MA_5_away', 'streak_home', 'rush_yds_MA_5_home', 'weather_type', 'fumbles_MA_5_home', 'pass_yds_MA_5_away', 'stade', 'pass_td_MA_5_away']\n"
     ]
    },
    {
     "name": "stderr",
     "output_type": "stream",
     "text": [
      "c:\\Users\\sylva\\AppData\\Local\\Programs\\Python\\Python310\\lib\\site-packages\\sklearn\\preprocessing\\_encoders.py:188: UserWarning: Found unknown categories in columns [2] during transform. These unknown categories will be encoded as all zeros\n",
      "  warnings.warn(\n"
     ]
    },
    {
     "name": "stdout",
     "output_type": "stream",
     "text": [
      "['awayteam', 'hometeam', 'kicks_return_td_MA_5_away', 'streak_away', 'week']\n",
      "['awayteam', 'hometeam', 'rush_yds_MA_5_away', 'dayofmonth', 'defense_sacks_MA_5_home', 'fumbles_rec_MA_5_away', 'fumbles_MA_5_away', 'rec_yds_MA_5_away', 'defense_td_MA_5_away', 'away_coach', 'interceptions_MA_5_home', 'weather_type', 'pass_yds_MA_5_away', 'pass_td_MA_5_away', 'kicks_return_yds_MA_5_home', 'month', 'punt_return_yds_MA_5_home', 'kicks_return_td_MA_5_away', 'rec_td_MA_5_away', 'kicking_pts_MA_5_away']\n"
     ]
    },
    {
     "name": "stderr",
     "output_type": "stream",
     "text": [
      "c:\\Users\\sylva\\AppData\\Local\\Programs\\Python\\Python310\\lib\\site-packages\\sklearn\\preprocessing\\_encoders.py:188: UserWarning: Found unknown categories in columns [2] during transform. These unknown categories will be encoded as all zeros\n",
      "  warnings.warn(\n"
     ]
    },
    {
     "name": "stdout",
     "output_type": "stream",
     "text": [
      "['awayteam', 'hometeam', 'kicking_pts_MA_5_home', 'defense_sacks_MA_5_home', 'interceptions_MA_5_away']\n",
      "['awayteam', 'hometeam', 'home_coach', 'location', 'defense_sacks_MA_5_home', 'streak_home', 'rec_td_MA_5_home', 'dayofweek', 'stade', 'rec_td_MA_5_away']\n",
      "['awayteam', 'hometeam', 'dayofmonth', 'defense_td_MA_5_away', 'away_coach', 'delta_day_home', 'fumbles_rec_MA_5_away', 'kicks_return_yds_MA_5_away', 'rec_yds_MA_5_away', 'rush_td_MA_5_home', 'people', 'kicks_return_yds_MA_5_home', 'defense_td_MA_5_home', 'fumbles_MA_5_away', 'kicks_return_td_MA_5_away', 'pass_yds_MA_5_home', 'rush_td_MA_5_away', 'wind', 'streak_home', 'rush_yds_MA_5_home', 'pass_td_MA_5_away', 'stade', 'interceptions_td_MA_5_home', 'kicking_pts_MA_5_away']\n"
     ]
    },
    {
     "name": "stderr",
     "output_type": "stream",
     "text": [
      "c:\\Users\\sylva\\AppData\\Local\\Programs\\Python\\Python310\\lib\\site-packages\\sklearn\\preprocessing\\_encoders.py:188: UserWarning: Found unknown categories in columns [2] during transform. These unknown categories will be encoded as all zeros\n",
      "  warnings.warn(\n"
     ]
    },
    {
     "name": "stdout",
     "output_type": "stream",
     "text": [
      "['awayteam', 'hometeam', 'delta_day_home', 'season', 'home_coach', 'interceptions_MA_5_home', 'rec_yds_MA_5_home', 'kicks_return_td_MA_5_home', 'rush_yds_MA_5_away', 'defense_sacks_MA_5_home', 'streak_away', 'interceptions_MA_5_away', 'interceptions_td_MA_5_away', 'people', 'temperature', 'fumbles_MA_5_away', 'pass_yds_MA_5_home', 'defense_sacks_MA_5_away', 'streak_home', 'rec_td_MA_5_home', 'weather_type', 'pass_yds_MA_5_away', 'interceptions_td_MA_5_home', 'humidity', 'kicking_pts_MA_5_away']\n",
      "['awayteam', 'hometeam', 'kicking_pts_MA_5_home', 'away_coach', 'week']\n"
     ]
    },
    {
     "name": "stderr",
     "output_type": "stream",
     "text": [
      "c:\\Users\\sylva\\AppData\\Local\\Programs\\Python\\Python310\\lib\\site-packages\\sklearn\\preprocessing\\_encoders.py:188: UserWarning: Found unknown categories in columns [2] during transform. These unknown categories will be encoded as all zeros\n",
      "  warnings.warn(\n"
     ]
    },
    {
     "name": "stdout",
     "output_type": "stream",
     "text": [
      "['awayteam', 'hometeam', 'dayofmonth', 'season', 'rec_yds_MA_5_away', 'dayofweek', 'month', 'rec_yds_MA_5_home', 'kicks_return_td_MA_5_home', 'kicking_pts_MA_5_home', 'delta_day_away', 'location', 'streak_away', 'interceptions_td_MA_5_away', 'people', 'defense_td_MA_5_home', 'kicks_return_td_MA_5_away', 'punt_return_yds_MA_5_away', 'pass_td_MA_5_home', 'rec_td_MA_5_away', 'pass_yds_MA_5_home', 'wind', 'defense_sacks_MA_5_away', 'streak_home', 'rec_td_MA_5_home', 'rush_yds_MA_5_home', 'weather_type', 'fumbles_rec_MA_5_home', 'humidity', 'kicking_pts_MA_5_away']\n",
      "['awayteam', 'hometeam', 'dayofmonth', 'defense_td_MA_5_away', 'season', 'home_coach', 'dayofweek', 'punt_return_yds_MA_5_home', 'rec_yds_MA_5_home', 'delta_day_away', 'rush_yds_MA_5_away', 'location', 'interceptions_MA_5_away', 'interceptions_td_MA_5_away', 'rush_td_MA_5_home', 'people', 'kicks_return_yds_MA_5_home', 'temperature', 'defense_td_MA_5_home', 'fumbles_MA_5_away', 'kicks_return_td_MA_5_away', 'pass_td_MA_5_home', 'week', 'rush_td_MA_5_away', 'wind', 'defense_sacks_MA_5_away', 'streak_home', 'rec_td_MA_5_home', 'fumbles_rec_MA_5_home', 'pass_td_MA_5_away', 'interceptions_td_MA_5_home', 'kicking_pts_MA_5_away']\n",
      "['awayteam', 'hometeam', 'defense_td_MA_5_away', 'away_coach', 'rec_yds_MA_5_home', 'rush_yds_MA_5_away', 'defense_sacks_MA_5_home', 'streak_away', 'interceptions_MA_5_away', 'people', 'defense_td_MA_5_home', 'temperature', 'kicks_return_td_MA_5_away', 'fumbles_MA_5_away', 'pass_td_MA_5_home', 'pass_yds_MA_5_home', 'wind', 'defense_sacks_MA_5_away', 'rec_td_MA_5_home', 'rush_yds_MA_5_home', 'fumbles_MA_5_home', 'fumbles_rec_MA_5_home', 'pass_td_MA_5_away', 'stade', 'interceptions_td_MA_5_home', 'humidity']\n"
     ]
    },
    {
     "name": "stderr",
     "output_type": "stream",
     "text": [
      "c:\\Users\\sylva\\AppData\\Local\\Programs\\Python\\Python310\\lib\\site-packages\\sklearn\\preprocessing\\_encoders.py:188: UserWarning: Found unknown categories in columns [2] during transform. These unknown categories will be encoded as all zeros\n",
      "  warnings.warn(\n"
     ]
    },
    {
     "name": "stdout",
     "output_type": "stream",
     "text": [
      "['awayteam', 'hometeam', 'kicks_return_yds_MA_5_away', 'streak_home', 'rec_td_MA_5_home', 'interceptions_td_MA_5_away', 'stade', 'defense_td_MA_5_home', 'temperature', 'pass_td_MA_5_away', 'fumbles_MA_5_away', 'punt_return_yds_MA_5_away', 'rec_td_MA_5_away']\n",
      "['awayteam', 'hometeam', 'dayofmonth', 'defense_td_MA_5_away', 'away_coach', 'delta_day_home', 'season', 'home_coach', 'fumbles_rec_MA_5_away', 'rec_yds_MA_5_away', 'interceptions_MA_5_home', 'punt_return_yds_MA_5_home', 'rec_yds_MA_5_home', 'kicks_return_td_MA_5_home', 'kicking_pts_MA_5_home', 'rush_yds_MA_5_away', 'defense_sacks_MA_5_home', 'streak_away', 'interceptions_MA_5_away', 'interceptions_td_MA_5_away', 'people', 'defense_td_MA_5_home', 'temperature', 'rec_td_MA_5_away', 'week', 'pass_yds_MA_5_home', 'rush_td_MA_5_away', 'wind', 'streak_home', 'rush_yds_MA_5_home', 'weather_type', 'stade', 'pass_td_MA_5_away', 'kicking_pts_MA_5_away']\n"
     ]
    },
    {
     "name": "stderr",
     "output_type": "stream",
     "text": [
      "c:\\Users\\sylva\\AppData\\Local\\Programs\\Python\\Python310\\lib\\site-packages\\sklearn\\preprocessing\\_encoders.py:188: UserWarning: Found unknown categories in columns [2] during transform. These unknown categories will be encoded as all zeros\n",
      "  warnings.warn(\n"
     ]
    },
    {
     "name": "stdout",
     "output_type": "stream",
     "text": [
      "['awayteam', 'hometeam', 'dayofmonth', 'away_coach', 'delta_day_home', 'season', 'kicks_return_td_MA_5_home', 'kicking_pts_MA_5_home', 'delta_day_away', 'people', 'defense_td_MA_5_home', 'fumbles_MA_5_away', 'punt_return_yds_MA_5_away', 'week', 'wind', 'streak_home', 'rush_yds_MA_5_home', 'fumbles_MA_5_home', 'stade', 'humidity', 'kicking_pts_MA_5_away']\n"
     ]
    },
    {
     "name": "stderr",
     "output_type": "stream",
     "text": [
      "c:\\Users\\sylva\\AppData\\Local\\Programs\\Python\\Python310\\lib\\site-packages\\sklearn\\preprocessing\\_encoders.py:188: UserWarning: Found unknown categories in columns [2] during transform. These unknown categories will be encoded as all zeros\n",
      "  warnings.warn(\n"
     ]
    },
    {
     "name": "stdout",
     "output_type": "stream",
     "text": [
      "['awayteam', 'hometeam', 'rush_yds_MA_5_away', 'pass_yds_MA_5_home', 'wind', 'location', 'defense_sacks_MA_5_home', 'kicks_return_yds_MA_5_away', 'streak_home', 'interceptions_MA_5_home', 'defense_td_MA_5_away', 'rush_yds_MA_5_home', 'dayofweek', 'people', 'temperature', 'defense_td_MA_5_home', 'fumbles_MA_5_away', 'punt_return_yds_MA_5_away', 'kicking_pts_MA_5_home', 'week']\n",
      "['awayteam', 'hometeam', 'dayofmonth', 'delta_day_home', 'season', 'kicks_return_yds_MA_5_away', 'fumbles_rec_MA_5_away', 'rec_yds_MA_5_away', 'dayofweek', 'month', 'rec_yds_MA_5_home', 'kicking_pts_MA_5_home', 'rush_yds_MA_5_away', 'defense_sacks_MA_5_home', 'streak_away', 'interceptions_MA_5_away', 'interceptions_td_MA_5_away', 'rush_td_MA_5_home', 'people', 'kicks_return_yds_MA_5_home', 'temperature', 'defense_td_MA_5_home', 'fumbles_MA_5_away', 'week', 'wind', 'streak_home', 'rush_yds_MA_5_home', 'pass_yds_MA_5_away', 'stade', 'pass_td_MA_5_away', 'humidity']\n",
      "['awayteam', 'hometeam', 'dayofmonth', 'delta_day_home', 'season', 'home_coach', 'rec_yds_MA_5_away', 'interceptions_MA_5_home', 'month', 'rec_yds_MA_5_home', 'kicks_return_td_MA_5_home', 'kicking_pts_MA_5_home', 'location', 'streak_away', 'interceptions_td_MA_5_away', 'rush_td_MA_5_home', 'kicks_return_yds_MA_5_home', 'defense_td_MA_5_home', 'kicks_return_td_MA_5_away', 'punt_return_yds_MA_5_away', 'fumbles_MA_5_away', 'wind', 'streak_home', 'rec_td_MA_5_home', 'rush_yds_MA_5_home', 'weather_type', 'fumbles_MA_5_home', 'fumbles_rec_MA_5_home', 'pass_td_MA_5_away', 'interceptions_td_MA_5_home', 'kicking_pts_MA_5_away']\n",
      "['awayteam', 'hometeam', 'dayofmonth', 'defense_td_MA_5_away', 'away_coach', 'delta_day_home', 'season', 'home_coach', 'kicks_return_yds_MA_5_away', 'fumbles_rec_MA_5_away', 'interceptions_MA_5_home', 'kicking_pts_MA_5_home', 'rush_yds_MA_5_away', 'defense_sacks_MA_5_home', 'streak_away', 'interceptions_td_MA_5_away', 'people', 'kicks_return_yds_MA_5_home', 'temperature', 'defense_td_MA_5_home', 'fumbles_MA_5_away', 'rec_td_MA_5_away', 'punt_return_yds_MA_5_away', 'week', 'pass_yds_MA_5_home', 'defense_sacks_MA_5_away', 'rec_td_MA_5_home', 'weather_type', 'stade', 'humidity']\n"
     ]
    },
    {
     "name": "stderr",
     "output_type": "stream",
     "text": [
      "c:\\Users\\sylva\\AppData\\Local\\Programs\\Python\\Python310\\lib\\site-packages\\sklearn\\preprocessing\\_encoders.py:188: UserWarning: Found unknown categories in columns [2] during transform. These unknown categories will be encoded as all zeros\n",
      "  warnings.warn(\n"
     ]
    },
    {
     "name": "stdout",
     "output_type": "stream",
     "text": [
      "['awayteam', 'hometeam', 'defense_td_MA_5_away', 'delta_day_home', 'home_coach', 'kicks_return_yds_MA_5_away', 'interceptions_MA_5_home', 'month', 'rush_yds_MA_5_away', 'location', 'streak_away', 'punt_return_yds_MA_5_away', 'pass_td_MA_5_home', 'week', 'pass_yds_MA_5_home', 'rush_td_MA_5_away', 'wind', 'defense_sacks_MA_5_away', 'rec_td_MA_5_home', 'fumbles_MA_5_home', 'pass_td_MA_5_away', 'kicking_pts_MA_5_away']\n",
      "['awayteam', 'hometeam', 'away_coach', 'delta_day_home', 'home_coach', 'kicks_return_yds_MA_5_away', 'rec_yds_MA_5_away', 'dayofweek', 'punt_return_yds_MA_5_home', 'rec_yds_MA_5_home', 'kicks_return_td_MA_5_home', 'kicking_pts_MA_5_home', 'rush_yds_MA_5_away', 'location', 'interceptions_MA_5_away', 'interceptions_td_MA_5_away', 'kicks_return_yds_MA_5_home', 'temperature', 'fumbles_MA_5_away', 'punt_return_yds_MA_5_away', 'pass_td_MA_5_home', 'kicks_return_td_MA_5_away', 'week', 'pass_yds_MA_5_home', 'rush_td_MA_5_away', 'defense_sacks_MA_5_away', 'streak_home', 'rec_td_MA_5_home', 'pass_yds_MA_5_away', 'stade', 'pass_td_MA_5_away', 'interceptions_td_MA_5_home', 'humidity']\n"
     ]
    },
    {
     "name": "stderr",
     "output_type": "stream",
     "text": [
      "c:\\Users\\sylva\\AppData\\Local\\Programs\\Python\\Python310\\lib\\site-packages\\sklearn\\preprocessing\\_encoders.py:188: UserWarning: Found unknown categories in columns [2] during transform. These unknown categories will be encoded as all zeros\n",
      "  warnings.warn(\n"
     ]
    },
    {
     "name": "stdout",
     "output_type": "stream",
     "text": [
      "['awayteam', 'hometeam', 'pass_yds_MA_5_home', 'rush_yds_MA_5_away', 'wind', 'home_coach', 'dayofmonth', 'streak_away', 'defense_sacks_MA_5_away', 'kicking_pts_MA_5_home', 'rec_yds_MA_5_away', 'rush_td_MA_5_home', 'interceptions_MA_5_home', 'fumbles_MA_5_home', 'season', 'defense_td_MA_5_home', 'interceptions_td_MA_5_home', 'rec_yds_MA_5_home', 'pass_td_MA_5_home']\n",
      "['awayteam', 'hometeam', 'pass_yds_MA_5_home', 'defense_sacks_MA_5_away', 'streak_away', 'rec_yds_MA_5_away', 'rush_yds_MA_5_home', 'defense_td_MA_5_away', 'season', 'pass_yds_MA_5_away', 'kicks_return_yds_MA_5_home', 'defense_td_MA_5_home', 'rec_yds_MA_5_home', 'humidity', 'kicking_pts_MA_5_away']\n",
      "['awayteam', 'hometeam', 'rush_td_MA_5_away', 'home_coach', 'defense_sacks_MA_5_home', 'streak_away', 'rec_td_MA_5_home', 'interceptions_td_MA_5_away', 'rush_td_MA_5_home', 'fumbles_MA_5_home', 'pass_yds_MA_5_away', 'fumbles_rec_MA_5_home', 'kicks_return_yds_MA_5_home', 'defense_td_MA_5_home', 'rec_yds_MA_5_home', 'humidity', 'kicking_pts_MA_5_away', 'delta_day_away']\n",
      "['awayteam', 'hometeam', 'dayofmonth', 'delta_day_home', 'fumbles_rec_MA_5_away', 'kicks_return_yds_MA_5_away', 'month', 'delta_day_away', 'rush_yds_MA_5_away', 'location', 'defense_sacks_MA_5_home', 'streak_away', 'kicks_return_yds_MA_5_home', 'temperature', 'kicks_return_td_MA_5_away', 'punt_return_yds_MA_5_away', 'pass_td_MA_5_home', 'week', 'pass_yds_MA_5_home', 'rush_td_MA_5_away', 'streak_home', 'rec_td_MA_5_home', 'rush_yds_MA_5_home', 'weather_type', 'fumbles_MA_5_home', 'fumbles_rec_MA_5_home', 'interceptions_td_MA_5_home', 'humidity', 'kicking_pts_MA_5_away']\n",
      "['awayteam', 'hometeam', 'dayofmonth', 'delta_day_home', 'home_coach', 'rec_yds_MA_5_away', 'interceptions_MA_5_home', 'month', 'kicks_return_td_MA_5_home', 'kicking_pts_MA_5_home', 'rush_yds_MA_5_away', 'defense_sacks_MA_5_home', 'interceptions_MA_5_away', 'interceptions_td_MA_5_away', 'people', 'kicks_return_yds_MA_5_home', 'temperature', 'defense_td_MA_5_home', 'kicks_return_td_MA_5_away', 'punt_return_yds_MA_5_away', 'pass_td_MA_5_home', 'pass_yds_MA_5_home', 'rush_td_MA_5_away', 'wind', 'rec_td_MA_5_home', 'rush_yds_MA_5_home', 'weather_type', 'fumbles_rec_MA_5_home', 'pass_td_MA_5_away', 'humidity', 'kicking_pts_MA_5_away']\n",
      "['awayteam', 'hometeam', 'away_coach', 'delta_day_home', 'season', 'home_coach', 'kicks_return_yds_MA_5_away', 'fumbles_rec_MA_5_away', 'rec_yds_MA_5_away', 'dayofweek', 'punt_return_yds_MA_5_home', 'rec_yds_MA_5_home', 'kicking_pts_MA_5_home', 'rush_yds_MA_5_away', 'location', 'streak_away', 'interceptions_MA_5_away', 'rush_td_MA_5_home', 'people', 'kicks_return_yds_MA_5_home', 'temperature', 'kicks_return_td_MA_5_away', 'wind', 'defense_sacks_MA_5_away', 'streak_home', 'rec_td_MA_5_home', 'rush_yds_MA_5_home', 'weather_type', 'fumbles_MA_5_home', 'pass_yds_MA_5_away', 'humidity', 'kicking_pts_MA_5_away']\n"
     ]
    },
    {
     "name": "stderr",
     "output_type": "stream",
     "text": [
      "c:\\Users\\sylva\\AppData\\Local\\Programs\\Python\\Python310\\lib\\site-packages\\sklearn\\preprocessing\\_encoders.py:188: UserWarning: Found unknown categories in columns [2] during transform. These unknown categories will be encoded as all zeros\n",
      "  warnings.warn(\n"
     ]
    },
    {
     "name": "stdout",
     "output_type": "stream",
     "text": [
      "['awayteam', 'hometeam', 'defense_sacks_MA_5_away', 'kicks_return_yds_MA_5_away', 'rush_yds_MA_5_home', 'dayofweek', 'pass_yds_MA_5_away', 'kicks_return_yds_MA_5_home', 'month', 'punt_return_yds_MA_5_home', 'fumbles_MA_5_away', 'punt_return_yds_MA_5_away', 'kicking_pts_MA_5_home', 'rec_td_MA_5_away']\n",
      "['awayteam', 'hometeam', 'defense_sacks_MA_5_away', 'fumbles_rec_MA_5_away', 'interceptions_MA_5_away', 'interceptions_td_MA_5_away', 'delta_day_home', 'pass_td_MA_5_away', 'kicks_return_yds_MA_5_home', 'punt_return_yds_MA_5_home', 'kicks_return_td_MA_5_away', 'humidity', 'week']\n",
      "['awayteam', 'hometeam', 'defense_td_MA_5_away', 'kicks_return_yds_MA_5_away', 'month', 'punt_return_yds_MA_5_home', 'rec_yds_MA_5_home', 'kicking_pts_MA_5_home', 'delta_day_away', 'rush_yds_MA_5_away', 'interceptions_MA_5_away', 'interceptions_td_MA_5_away', 'fumbles_MA_5_away', 'kicks_return_td_MA_5_away', 'pass_td_MA_5_home', 'week', 'rec_td_MA_5_home', 'fumbles_MA_5_home', 'pass_yds_MA_5_away', 'fumbles_rec_MA_5_home', 'interceptions_td_MA_5_home']\n",
      "['awayteam', 'hometeam', 'dayofmonth', 'delta_day_home', 'interceptions_MA_5_home', 'delta_day_away', 'location', 'streak_away', 'interceptions_MA_5_away', 'rush_td_MA_5_home', 'people', 'kicks_return_yds_MA_5_home', 'fumbles_MA_5_away', 'rec_td_MA_5_away', 'week', 'rush_td_MA_5_away', 'defense_sacks_MA_5_away', 'rush_yds_MA_5_home', 'weather_type', 'fumbles_MA_5_home', 'fumbles_rec_MA_5_home', 'pass_td_MA_5_away', 'interceptions_td_MA_5_home', 'humidity']\n",
      "['awayteam', 'hometeam', 'rush_yds_MA_5_away', 'wind', 'home_coach', 'streak_home', 'interceptions_td_MA_5_away', 'defense_td_MA_5_away', 'delta_day_home', 'season', 'pass_td_MA_5_away', 'month', 'rec_td_MA_5_away', 'kicking_pts_MA_5_home', 'week']\n",
      "['awayteam', 'hometeam', 'dayofmonth', 'delta_day_home', 'season', 'home_coach', 'kicks_return_yds_MA_5_away', 'fumbles_rec_MA_5_away', 'rec_yds_MA_5_away', 'interceptions_MA_5_home', 'month', 'kicks_return_td_MA_5_home', 'kicking_pts_MA_5_home', 'defense_sacks_MA_5_home', 'streak_away', 'interceptions_MA_5_away', 'interceptions_td_MA_5_away', 'rush_td_MA_5_home', 'people', 'kicks_return_td_MA_5_away', 'punt_return_yds_MA_5_away', 'week', 'pass_yds_MA_5_home', 'wind', 'rec_td_MA_5_home', 'weather_type', 'fumbles_MA_5_home', 'pass_yds_MA_5_away', 'stade', 'pass_td_MA_5_away']\n",
      "['awayteam', 'hometeam', 'defense_td_MA_5_away', 'away_coach', 'home_coach', 'fumbles_rec_MA_5_away', 'rec_yds_MA_5_away', 'dayofweek', 'month', 'kicking_pts_MA_5_home', 'delta_day_away', 'rush_yds_MA_5_away', 'defense_sacks_MA_5_home', 'people', 'temperature', 'defense_td_MA_5_home', 'fumbles_MA_5_away', 'rec_td_MA_5_away', 'week', 'pass_yds_MA_5_home', 'rush_td_MA_5_away', 'wind', 'defense_sacks_MA_5_away', 'streak_home', 'rush_yds_MA_5_home', 'weather_type', 'pass_td_MA_5_away', 'interceptions_td_MA_5_home']\n"
     ]
    },
    {
     "name": "stderr",
     "output_type": "stream",
     "text": [
      "c:\\Users\\sylva\\AppData\\Local\\Programs\\Python\\Python310\\lib\\site-packages\\sklearn\\preprocessing\\_encoders.py:188: UserWarning: Found unknown categories in columns [2] during transform. These unknown categories will be encoded as all zeros\n",
      "  warnings.warn(\n"
     ]
    },
    {
     "name": "stdout",
     "output_type": "stream",
     "text": [
      "['awayteam', 'hometeam', 'season', 'fumbles_rec_MA_5_away', 'rec_yds_MA_5_away', 'interceptions_MA_5_home', 'rec_yds_MA_5_home', 'kicking_pts_MA_5_home', 'rush_yds_MA_5_away', 'defense_sacks_MA_5_home', 'streak_away', 'rush_td_MA_5_home', 'people', 'kicks_return_yds_MA_5_home', 'defense_td_MA_5_home', 'temperature', 'fumbles_MA_5_away', 'punt_return_yds_MA_5_away', 'wind', 'rec_td_MA_5_home', 'rush_yds_MA_5_home', 'weather_type', 'fumbles_MA_5_home', 'pass_yds_MA_5_away', 'pass_td_MA_5_away', 'humidity']\n",
      "['awayteam', 'hometeam', 'dayofmonth', 'season', 'rec_yds_MA_5_away', 'month', 'rec_yds_MA_5_home', 'kicking_pts_MA_5_home', 'delta_day_away', 'interceptions_MA_5_away', 'rush_td_MA_5_home', 'people', 'pass_td_MA_5_home', 'week', 'rush_td_MA_5_away', 'streak_home', 'rec_td_MA_5_home', 'weather_type', 'fumbles_MA_5_home', 'pass_yds_MA_5_away', 'stade', 'interceptions_td_MA_5_home']\n",
      "['awayteam', 'hometeam', 'pass_yds_MA_5_home', 'streak_away', 'interceptions_td_MA_5_away', 'rec_yds_MA_5_away', 'interceptions_MA_5_home', 'kicks_return_td_MA_5_home']\n",
      "['awayteam', 'hometeam', 'dayofmonth', 'away_coach', 'delta_day_home', 'season', 'dayofweek', 'kicks_return_td_MA_5_home', 'kicking_pts_MA_5_home', 'delta_day_away', 'defense_sacks_MA_5_home', 'streak_away', 'interceptions_MA_5_away', 'interceptions_td_MA_5_away', 'rush_td_MA_5_home', 'people', 'defense_td_MA_5_home', 'temperature', 'punt_return_yds_MA_5_away', 'rec_td_MA_5_away', 'pass_yds_MA_5_home', 'rush_td_MA_5_away', 'defense_sacks_MA_5_away', 'rec_td_MA_5_home', 'fumbles_MA_5_home', 'pass_yds_MA_5_away', 'fumbles_rec_MA_5_home', 'pass_td_MA_5_away', 'interceptions_td_MA_5_home']\n"
     ]
    },
    {
     "name": "stderr",
     "output_type": "stream",
     "text": [
      "c:\\Users\\sylva\\AppData\\Local\\Programs\\Python\\Python310\\lib\\site-packages\\sklearn\\preprocessing\\_encoders.py:188: UserWarning: Found unknown categories in columns [2] during transform. These unknown categories will be encoded as all zeros\n",
      "  warnings.warn(\n"
     ]
    },
    {
     "name": "stdout",
     "output_type": "stream",
     "text": [
      "['awayteam', 'hometeam', 'dayofmonth', 'defense_td_MA_5_away', 'season', 'home_coach', 'dayofweek', 'rec_yds_MA_5_home', 'defense_sacks_MA_5_home', 'streak_away', 'interceptions_td_MA_5_away', 'people', 'kicks_return_yds_MA_5_home', 'temperature', 'fumbles_MA_5_away', 'punt_return_yds_MA_5_away', 'kicks_return_td_MA_5_away', 'rec_td_MA_5_away', 'pass_yds_MA_5_home', 'defense_sacks_MA_5_away', 'rush_yds_MA_5_home', 'fumbles_MA_5_home', 'pass_yds_MA_5_away', 'fumbles_rec_MA_5_home', 'stade', 'humidity', 'kicking_pts_MA_5_away']\n",
      "['awayteam', 'hometeam', 'humidity', 'people', 'interceptions_td_MA_5_home']\n",
      "['awayteam', 'hometeam', 'dayofmonth', 'wind', 'kicks_return_yds_MA_5_away', 'streak_home', 'streak_away', 'interceptions_MA_5_home', 'rec_yds_MA_5_home', 'people', 'pass_yds_MA_5_away', 'interceptions_td_MA_5_home', 'punt_return_yds_MA_5_away', 'delta_day_away']\n",
      "['awayteam', 'hometeam', 'dayofmonth', 'defense_td_MA_5_away', 'season', 'kicks_return_yds_MA_5_away', 'fumbles_rec_MA_5_away', 'dayofweek', 'month', 'punt_return_yds_MA_5_home', 'rec_yds_MA_5_home', 'kicks_return_td_MA_5_home', 'delta_day_away', 'rush_yds_MA_5_away', 'location', 'interceptions_MA_5_away', 'interceptions_td_MA_5_away', 'rush_td_MA_5_home', 'people', 'defense_td_MA_5_home', 'temperature', 'kicks_return_td_MA_5_away', 'rec_td_MA_5_away', 'week', 'pass_yds_MA_5_home', 'rush_td_MA_5_away', 'streak_home', 'rec_td_MA_5_home', 'weather_type', 'fumbles_MA_5_home', 'pass_yds_MA_5_away', 'pass_td_MA_5_away', 'stade', 'interceptions_td_MA_5_home', 'kicking_pts_MA_5_away']\n",
      "['awayteam', 'hometeam', 'dayofmonth', 'streak_away', 'rec_td_MA_5_home', 'away_coach', 'kicks_return_yds_MA_5_home', 'pass_td_MA_5_away', 'defense_td_MA_5_home', 'kicks_return_td_MA_5_away']\n"
     ]
    },
    {
     "name": "stderr",
     "output_type": "stream",
     "text": [
      "c:\\Users\\sylva\\AppData\\Local\\Programs\\Python\\Python310\\lib\\site-packages\\sklearn\\preprocessing\\_encoders.py:188: UserWarning: Found unknown categories in columns [2] during transform. These unknown categories will be encoded as all zeros\n",
      "  warnings.warn(\n"
     ]
    },
    {
     "name": "stdout",
     "output_type": "stream",
     "text": [
      "['awayteam', 'hometeam', 'streak_home']\n",
      "['awayteam', 'hometeam', 'rush_yds_MA_5_away', 'rec_yds_MA_5_away', 'rush_td_MA_5_home', 'season', 'stade', 'punt_return_yds_MA_5_away', 'humidity']\n",
      "['awayteam', 'hometeam', 'home_coach', 'defense_sacks_MA_5_away', 'month', 'interceptions_td_MA_5_away', 'defense_td_MA_5_away', 'dayofweek', 'kicks_return_td_MA_5_home', 'people', 'pass_yds_MA_5_away', 'interceptions_td_MA_5_home', 'kicks_return_td_MA_5_away', 'rec_yds_MA_5_home', 'humidity', 'week']\n",
      "['awayteam', 'hometeam', 'away_coach', 'delta_day_home', 'home_coach', 'kicks_return_yds_MA_5_away', 'fumbles_rec_MA_5_away', 'rec_yds_MA_5_away', 'month', 'kicks_return_td_MA_5_home', 'rush_yds_MA_5_away', 'streak_away', 'people', 'defense_td_MA_5_home', 'fumbles_MA_5_away', 'punt_return_yds_MA_5_away', 'pass_td_MA_5_home', 'pass_yds_MA_5_home', 'wind', 'streak_home', 'fumbles_MA_5_home', 'stade', 'humidity', 'kicking_pts_MA_5_away']\n"
     ]
    },
    {
     "name": "stderr",
     "output_type": "stream",
     "text": [
      "c:\\Users\\sylva\\AppData\\Local\\Programs\\Python\\Python310\\lib\\site-packages\\sklearn\\preprocessing\\_encoders.py:188: UserWarning: Found unknown categories in columns [2] during transform. These unknown categories will be encoded as all zeros\n",
      "  warnings.warn(\n"
     ]
    },
    {
     "name": "stdout",
     "output_type": "stream",
     "text": [
      "['awayteam', 'hometeam', 'dayofmonth', 'away_coach', 'delta_day_home', 'season', 'home_coach', 'fumbles_rec_MA_5_away', 'kicks_return_yds_MA_5_away', 'interceptions_MA_5_home', 'dayofweek', 'month', 'punt_return_yds_MA_5_home', 'rec_yds_MA_5_home', 'delta_day_away', 'interceptions_MA_5_away', 'kicks_return_yds_MA_5_home', 'defense_td_MA_5_home', 'kicks_return_td_MA_5_away', 'rec_td_MA_5_away', 'pass_td_MA_5_home', 'punt_return_yds_MA_5_away', 'wind', 'defense_sacks_MA_5_away', 'streak_home', 'rec_td_MA_5_home', 'rush_yds_MA_5_home', 'weather_type', 'fumbles_MA_5_home', 'fumbles_rec_MA_5_home', 'stade', 'interceptions_td_MA_5_home']\n"
     ]
    },
    {
     "name": "stderr",
     "output_type": "stream",
     "text": [
      "c:\\Users\\sylva\\AppData\\Local\\Programs\\Python\\Python310\\lib\\site-packages\\sklearn\\preprocessing\\_encoders.py:188: UserWarning: Found unknown categories in columns [2] during transform. These unknown categories will be encoded as all zeros\n",
      "  warnings.warn(\n"
     ]
    },
    {
     "name": "stdout",
     "output_type": "stream",
     "text": [
      "['awayteam', 'hometeam', 'rush_yds_MA_5_away', 'rush_td_MA_5_away', 'home_coach', 'streak_away', 'streak_home', 'rec_td_MA_5_home', 'interceptions_MA_5_away', 'defense_sacks_MA_5_away', 'temperature', 'fumbles_MA_5_away', 'punt_return_yds_MA_5_away']\n",
      "['awayteam', 'hometeam', 'delta_day_home', 'interceptions_MA_5_home', 'rec_yds_MA_5_away', 'punt_return_yds_MA_5_home', 'rec_yds_MA_5_home', 'delta_day_away', 'location', 'interceptions_MA_5_away', 'rush_td_MA_5_home', 'kicks_return_yds_MA_5_home', 'defense_td_MA_5_home', 'temperature', 'fumbles_MA_5_away', 'punt_return_yds_MA_5_away', 'rec_td_MA_5_away', 'rush_td_MA_5_away', 'defense_sacks_MA_5_away', 'rec_td_MA_5_home', 'fumbles_MA_5_home', 'stade', 'pass_td_MA_5_away', 'interceptions_td_MA_5_home']\n",
      "['awayteam', 'hometeam', 'dayofmonth', 'defense_td_MA_5_away', 'season', 'home_coach', 'fumbles_rec_MA_5_away', 'rec_yds_MA_5_away', 'dayofweek', 'month', 'streak_away', 'rush_td_MA_5_home', 'kicks_return_yds_MA_5_home', 'defense_td_MA_5_home', 'temperature', 'fumbles_MA_5_away', 'rec_td_MA_5_away', 'punt_return_yds_MA_5_away', 'week', 'rush_td_MA_5_away', 'wind', 'weather_type', 'fumbles_MA_5_home', 'stade']\n",
      "['awayteam', 'hometeam', 'delta_day_home', 'season', 'home_coach', 'fumbles_rec_MA_5_away', 'rec_yds_MA_5_away', 'dayofweek', 'month', 'punt_return_yds_MA_5_home', 'rec_yds_MA_5_home', 'delta_day_away', 'interceptions_MA_5_away', 'interceptions_td_MA_5_away', 'rush_td_MA_5_home', 'people', 'kicks_return_yds_MA_5_home', 'rec_td_MA_5_away', 'week', 'defense_sacks_MA_5_away', 'streak_home', 'stade', 'humidity', 'kicking_pts_MA_5_away']\n",
      "['awayteam', 'hometeam', 'defense_td_MA_5_away', 'away_coach', 'season', 'home_coach', 'kicks_return_yds_MA_5_away', 'interceptions_MA_5_home', 'rec_yds_MA_5_away', 'dayofweek', 'month', 'rec_yds_MA_5_home', 'kicks_return_td_MA_5_home', 'rush_yds_MA_5_away', 'defense_sacks_MA_5_home', 'interceptions_MA_5_away', 'interceptions_td_MA_5_away', 'people', 'kicks_return_yds_MA_5_home', 'defense_td_MA_5_home', 'temperature', 'kicks_return_td_MA_5_away', 'punt_return_yds_MA_5_away', 'pass_td_MA_5_home', 'pass_yds_MA_5_home', 'rush_td_MA_5_away', 'wind', 'defense_sacks_MA_5_away', 'streak_home', 'rec_td_MA_5_home', 'weather_type', 'pass_yds_MA_5_away', 'fumbles_rec_MA_5_home', 'stade', 'humidity', 'kicking_pts_MA_5_away']\n"
     ]
    },
    {
     "name": "stderr",
     "output_type": "stream",
     "text": [
      "c:\\Users\\sylva\\AppData\\Local\\Programs\\Python\\Python310\\lib\\site-packages\\sklearn\\preprocessing\\_encoders.py:188: UserWarning: Found unknown categories in columns [2] during transform. These unknown categories will be encoded as all zeros\n",
      "  warnings.warn(\n"
     ]
    },
    {
     "name": "stdout",
     "output_type": "stream",
     "text": [
      "['awayteam', 'hometeam', 'defense_sacks_MA_5_home', 'defense_sacks_MA_5_away', 'kicks_return_yds_MA_5_away', 'fumbles_rec_MA_5_away', 'defense_td_MA_5_away', 'dayofweek', 'people', 'pass_yds_MA_5_away', 'season', 'fumbles_rec_MA_5_home', 'pass_td_MA_5_away', 'month', 'punt_return_yds_MA_5_home', 'kicks_return_td_MA_5_away', 'rec_td_MA_5_away', 'week']\n",
      "['awayteam', 'hometeam', 'away_coach', 'kicks_return_yds_MA_5_away', 'interceptions_MA_5_home', 'dayofweek', 'kicking_pts_MA_5_home', 'delta_day_away', 'rush_yds_MA_5_away', 'location', 'defense_sacks_MA_5_home', 'streak_away', 'interceptions_MA_5_away', 'interceptions_td_MA_5_away', 'rush_td_MA_5_home', 'people', 'kicks_return_yds_MA_5_home', 'defense_td_MA_5_home', 'kicks_return_td_MA_5_away', 'punt_return_yds_MA_5_away', 'pass_td_MA_5_home', 'rec_td_MA_5_away', 'week', 'rush_td_MA_5_away', 'wind', 'defense_sacks_MA_5_away', 'fumbles_MA_5_home', 'stade', 'interceptions_td_MA_5_home', 'humidity']\n"
     ]
    },
    {
     "name": "stderr",
     "output_type": "stream",
     "text": [
      "c:\\Users\\sylva\\AppData\\Local\\Programs\\Python\\Python310\\lib\\site-packages\\sklearn\\preprocessing\\_encoders.py:188: UserWarning: Found unknown categories in columns [2] during transform. These unknown categories will be encoded as all zeros\n",
      "  warnings.warn(\n"
     ]
    },
    {
     "name": "stdout",
     "output_type": "stream",
     "text": [
      "['awayteam', 'hometeam', 'away_coach', 'delta_day_home', 'season', 'fumbles_rec_MA_5_away', 'kicks_return_yds_MA_5_away', 'interceptions_MA_5_home', 'dayofweek', 'month', 'rec_yds_MA_5_home', 'kicking_pts_MA_5_home', 'rush_yds_MA_5_away', 'location', 'defense_sacks_MA_5_home', 'streak_away', 'interceptions_MA_5_away', 'kicks_return_yds_MA_5_home', 'defense_td_MA_5_home', 'fumbles_MA_5_away', 'pass_yds_MA_5_home', 'rush_td_MA_5_away', 'defense_sacks_MA_5_away', 'rush_yds_MA_5_home', 'weather_type', 'fumbles_MA_5_home', 'pass_yds_MA_5_away', 'fumbles_rec_MA_5_home', 'pass_td_MA_5_away', 'stade', 'interceptions_td_MA_5_home', 'humidity', 'kicking_pts_MA_5_away']\n"
     ]
    },
    {
     "name": "stderr",
     "output_type": "stream",
     "text": [
      "c:\\Users\\sylva\\AppData\\Local\\Programs\\Python\\Python310\\lib\\site-packages\\sklearn\\preprocessing\\_encoders.py:188: UserWarning: Found unknown categories in columns [2] during transform. These unknown categories will be encoded as all zeros\n",
      "  warnings.warn(\n"
     ]
    },
    {
     "name": "stdout",
     "output_type": "stream",
     "text": [
      "['awayteam', 'hometeam', 'rush_yds_MA_5_away', 'wind', 'home_coach', 'defense_td_MA_5_away', 'dayofweek', 'people', 'humidity', 'fumbles_MA_5_home', 'season', 'pass_td_MA_5_away', 'stade', 'temperature', 'pass_td_MA_5_home']\n",
      "['awayteam', 'hometeam', 'location', 'rec_yds_MA_5_away', 'rush_yds_MA_5_home', 'interceptions_MA_5_home', 'delta_day_home', 'season', 'pass_yds_MA_5_away', 'kicks_return_yds_MA_5_home', 'rec_yds_MA_5_home', 'kicking_pts_MA_5_home', 'delta_day_away']\n",
      "['awayteam', 'hometeam', 'rush_yds_MA_5_away', 'dayofmonth', 'defense_sacks_MA_5_away', 'streak_home', 'interceptions_MA_5_home', 'away_coach', 'weather_type', 'pass_yds_MA_5_away', 'stade', 'punt_return_yds_MA_5_home', 'fumbles_MA_5_away', 'rec_yds_MA_5_home', 'kicking_pts_MA_5_away']\n"
     ]
    },
    {
     "name": "stderr",
     "output_type": "stream",
     "text": [
      "c:\\Users\\sylva\\AppData\\Local\\Programs\\Python\\Python310\\lib\\site-packages\\sklearn\\preprocessing\\_encoders.py:188: UserWarning: Found unknown categories in columns [2] during transform. These unknown categories will be encoded as all zeros\n",
      "  warnings.warn(\n"
     ]
    },
    {
     "name": "stdout",
     "output_type": "stream",
     "text": [
      "['awayteam', 'hometeam', 'away_coach', 'delta_day_home', 'season', 'kicks_return_yds_MA_5_away', 'fumbles_rec_MA_5_away', 'rec_yds_MA_5_away', 'interceptions_MA_5_home', 'month', 'kicks_return_td_MA_5_home', 'delta_day_away', 'rush_yds_MA_5_away', 'location', 'interceptions_MA_5_away', 'rush_td_MA_5_home', 'kicks_return_yds_MA_5_home', 'defense_td_MA_5_home', 'temperature', 'fumbles_MA_5_away', 'week', 'pass_yds_MA_5_home', 'rush_td_MA_5_away', 'weather_type', 'pass_yds_MA_5_away', 'pass_td_MA_5_away', 'kicking_pts_MA_5_away']\n"
     ]
    },
    {
     "name": "stderr",
     "output_type": "stream",
     "text": [
      "c:\\Users\\sylva\\AppData\\Local\\Programs\\Python\\Python310\\lib\\site-packages\\sklearn\\preprocessing\\_encoders.py:188: UserWarning: Found unknown categories in columns [2] during transform. These unknown categories will be encoded as all zeros\n",
      "  warnings.warn(\n"
     ]
    },
    {
     "name": "stdout",
     "output_type": "stream",
     "text": [
      "['awayteam', 'hometeam', 'dayofmonth', 'away_coach', 'delta_day_home', 'season', 'fumbles_rec_MA_5_away', 'interceptions_MA_5_home', 'rec_yds_MA_5_away', 'dayofweek', 'month', 'kicking_pts_MA_5_home', 'location', 'defense_sacks_MA_5_home', 'streak_away', 'interceptions_MA_5_away', 'interceptions_td_MA_5_away', 'rush_td_MA_5_home', 'people', 'kicks_return_yds_MA_5_home', 'defense_td_MA_5_home', 'temperature', 'kicks_return_td_MA_5_away', 'fumbles_MA_5_away', 'pass_td_MA_5_home', 'pass_yds_MA_5_home', 'rush_td_MA_5_away', 'streak_home', 'fumbles_MA_5_home', 'pass_yds_MA_5_away', 'fumbles_rec_MA_5_home', 'pass_td_MA_5_away', 'stade', 'kicking_pts_MA_5_away']\n"
     ]
    },
    {
     "name": "stderr",
     "output_type": "stream",
     "text": [
      "c:\\Users\\sylva\\AppData\\Local\\Programs\\Python\\Python310\\lib\\site-packages\\sklearn\\preprocessing\\_encoders.py:188: UserWarning: Found unknown categories in columns [2] during transform. These unknown categories will be encoded as all zeros\n",
      "  warnings.warn(\n"
     ]
    },
    {
     "name": "stdout",
     "output_type": "stream",
     "text": [
      "['awayteam', 'hometeam', 'dayofmonth', 'defense_sacks_MA_5_home', 'dayofweek', 'people', 'stade', 'interceptions_td_MA_5_home', 'kicks_return_td_MA_5_home', 'humidity', 'week']\n",
      "['awayteam', 'hometeam', 'rush_td_MA_5_away', 'home_coach', 'location', 'week']\n",
      "['awayteam', 'hometeam', 'away_coach', 'season', 'fumbles_rec_MA_5_away', 'interceptions_MA_5_home', 'punt_return_yds_MA_5_home', 'kicking_pts_MA_5_home', 'delta_day_away', 'rush_yds_MA_5_away', 'streak_away', 'interceptions_td_MA_5_away', 'people', 'rec_td_MA_5_away', 'pass_td_MA_5_home', 'week', 'wind', 'streak_home', 'fumbles_MA_5_home', 'fumbles_rec_MA_5_home', 'pass_td_MA_5_away']\n"
     ]
    },
    {
     "name": "stderr",
     "output_type": "stream",
     "text": [
      "c:\\Users\\sylva\\AppData\\Local\\Programs\\Python\\Python310\\lib\\site-packages\\sklearn\\preprocessing\\_encoders.py:188: UserWarning: Found unknown categories in columns [2] during transform. These unknown categories will be encoded as all zeros\n",
      "  warnings.warn(\n"
     ]
    },
    {
     "name": "stdout",
     "output_type": "stream",
     "text": [
      "['awayteam', 'hometeam', 'dayofmonth', 'away_coach', 'season', 'home_coach', 'fumbles_rec_MA_5_away', 'rec_yds_MA_5_away', 'month', 'punt_return_yds_MA_5_home', 'rec_yds_MA_5_home', 'kicking_pts_MA_5_home', 'delta_day_away', 'rush_yds_MA_5_away', 'defense_sacks_MA_5_home', 'rush_td_MA_5_home', 'people', 'kicks_return_yds_MA_5_home', 'temperature', 'kicks_return_td_MA_5_away', 'rec_td_MA_5_away', 'punt_return_yds_MA_5_away', 'pass_td_MA_5_home', 'defense_sacks_MA_5_away', 'streak_home', 'kicking_pts_MA_5_away']\n"
     ]
    },
    {
     "name": "stderr",
     "output_type": "stream",
     "text": [
      "c:\\Users\\sylva\\AppData\\Local\\Programs\\Python\\Python310\\lib\\site-packages\\sklearn\\preprocessing\\_encoders.py:188: UserWarning: Found unknown categories in columns [2] during transform. These unknown categories will be encoded as all zeros\n",
      "  warnings.warn(\n"
     ]
    },
    {
     "name": "stdout",
     "output_type": "stream",
     "text": [
      "['awayteam', 'hometeam', 'dayofmonth', 'defense_td_MA_5_away', 'rec_yds_MA_5_away', 'interceptions_MA_5_home', 'dayofweek', 'rec_yds_MA_5_home', 'kicks_return_td_MA_5_home', 'streak_away', 'interceptions_td_MA_5_away', 'kicks_return_yds_MA_5_home', 'defense_td_MA_5_home', 'fumbles_MA_5_away', 'kicks_return_td_MA_5_away', 'week', 'rush_td_MA_5_away', 'defense_sacks_MA_5_away', 'weather_type', 'pass_yds_MA_5_away', 'fumbles_rec_MA_5_home', 'pass_td_MA_5_away', 'interceptions_td_MA_5_home', 'kicking_pts_MA_5_away']\n",
      "['awayteam', 'hometeam', 'dayofmonth', 'season', 'fumbles_rec_MA_5_away', 'interceptions_MA_5_home', 'dayofweek', 'month', 'punt_return_yds_MA_5_home', 'rec_yds_MA_5_home', 'kicking_pts_MA_5_home', 'kicks_return_td_MA_5_home', 'delta_day_away', 'rush_yds_MA_5_away', 'location', 'defense_sacks_MA_5_home', 'streak_away', 'interceptions_MA_5_away', 'rush_td_MA_5_home', 'kicks_return_yds_MA_5_home', 'temperature', 'kicks_return_td_MA_5_away', 'rec_td_MA_5_away', 'rush_td_MA_5_away', 'wind', 'defense_sacks_MA_5_away', 'fumbles_rec_MA_5_home', 'pass_td_MA_5_away', 'kicking_pts_MA_5_away']\n",
      "['awayteam', 'hometeam', 'dayofmonth', 'defense_td_MA_5_away', 'home_coach', 'kicks_return_yds_MA_5_away', 'rec_yds_MA_5_home', 'kicks_return_td_MA_5_home', 'kicking_pts_MA_5_home', 'delta_day_away', 'interceptions_td_MA_5_away', 'rush_td_MA_5_home', 'kicks_return_yds_MA_5_home', 'defense_td_MA_5_home', 'kicks_return_td_MA_5_away', 'rush_td_MA_5_away', 'wind', 'weather_type', 'stade', 'interceptions_td_MA_5_home', 'humidity']\n",
      "['awayteam', 'hometeam', 'delta_day_home', 'kicks_return_yds_MA_5_away', 'fumbles_rec_MA_5_away', 'rec_yds_MA_5_away', 'interceptions_MA_5_home', 'month', 'delta_day_away', 'rush_yds_MA_5_away', 'location', 'streak_away', 'interceptions_MA_5_away', 'interceptions_td_MA_5_away', 'temperature', 'fumbles_MA_5_away', 'punt_return_yds_MA_5_away', 'week', 'defense_sacks_MA_5_away', 'rush_yds_MA_5_home', 'weather_type', 'fumbles_MA_5_home', 'stade', 'interceptions_td_MA_5_home', 'humidity']\n",
      "['awayteam', 'hometeam', 'defense_sacks_MA_5_home', 'kicks_return_yds_MA_5_away', 'streak_home', 'away_coach', 'people', 'fumbles_MA_5_home', 'interceptions_td_MA_5_home', 'punt_return_yds_MA_5_home', 'punt_return_yds_MA_5_away']\n"
     ]
    },
    {
     "name": "stderr",
     "output_type": "stream",
     "text": [
      "c:\\Users\\sylva\\AppData\\Local\\Programs\\Python\\Python310\\lib\\site-packages\\sklearn\\preprocessing\\_encoders.py:188: UserWarning: Found unknown categories in columns [2] during transform. These unknown categories will be encoded as all zeros\n",
      "  warnings.warn(\n"
     ]
    },
    {
     "name": "stdout",
     "output_type": "stream",
     "text": [
      "['awayteam', 'hometeam', 'fumbles_MA_5_away', 'rec_yds_MA_5_home']\n",
      "['awayteam', 'hometeam', 'fumbles_rec_MA_5_away', 'interceptions_MA_5_away', 'interceptions_td_MA_5_away', 'rush_yds_MA_5_home', 'people', 'pass_yds_MA_5_away', 'fumbles_rec_MA_5_home', 'stade', 'temperature', 'rec_td_MA_5_away']\n",
      "['awayteam', 'hometeam', 'dayofmonth', 'defense_td_MA_5_away', 'delta_day_home', 'season', 'interceptions_MA_5_home', 'rec_yds_MA_5_home', 'kicking_pts_MA_5_home', 'delta_day_away', 'interceptions_td_MA_5_away', 'people', 'pass_yds_MA_5_home', 'rush_td_MA_5_away', 'wind', 'defense_sacks_MA_5_away', 'streak_home', 'rush_yds_MA_5_home', 'pass_yds_MA_5_away', 'fumbles_rec_MA_5_home', 'stade', 'pass_td_MA_5_away', 'humidity']\n",
      "['awayteam', 'hometeam', 'defense_td_MA_5_away', 'away_coach', 'delta_day_home', 'home_coach', 'kicks_return_yds_MA_5_away', 'fumbles_rec_MA_5_away', 'dayofweek', 'month', 'punt_return_yds_MA_5_home', 'rec_yds_MA_5_home', 'delta_day_away', 'location', 'streak_away', 'interceptions_MA_5_away', 'people', 'kicks_return_yds_MA_5_home', 'defense_td_MA_5_home', 'temperature', 'fumbles_MA_5_away', 'pass_td_MA_5_home', 'pass_yds_MA_5_home', 'rec_td_MA_5_home', 'pass_yds_MA_5_away', 'interceptions_td_MA_5_home', 'kicking_pts_MA_5_away']\n"
     ]
    },
    {
     "name": "stderr",
     "output_type": "stream",
     "text": [
      "c:\\Users\\sylva\\AppData\\Local\\Programs\\Python\\Python310\\lib\\site-packages\\sklearn\\preprocessing\\_encoders.py:188: UserWarning: Found unknown categories in columns [2] during transform. These unknown categories will be encoded as all zeros\n",
      "  warnings.warn(\n"
     ]
    },
    {
     "name": "stdout",
     "output_type": "stream",
     "text": [
      "['awayteam', 'hometeam', 'dayofmonth', 'defense_td_MA_5_away', 'home_coach', 'fumbles_rec_MA_5_away', 'kicks_return_yds_MA_5_away', 'rec_yds_MA_5_home', 'delta_day_away', 'rush_yds_MA_5_away', 'defense_sacks_MA_5_home', 'streak_away', 'rush_td_MA_5_home', 'kicks_return_yds_MA_5_home', 'fumbles_MA_5_away', 'rec_td_MA_5_away', 'punt_return_yds_MA_5_away', 'wind', 'defense_sacks_MA_5_away', 'streak_home', 'weather_type', 'interceptions_td_MA_5_home', 'humidity', 'kicking_pts_MA_5_away']\n",
      "['awayteam', 'hometeam', 'defense_td_MA_5_away', 'away_coach', 'delta_day_home', 'season', 'home_coach', 'rec_yds_MA_5_home', 'rush_yds_MA_5_away', 'location', 'streak_away', 'interceptions_MA_5_away', 'interceptions_td_MA_5_away', 'people', 'kicks_return_td_MA_5_away', 'punt_return_yds_MA_5_away', 'pass_yds_MA_5_home', 'rush_td_MA_5_away', 'rec_td_MA_5_home', 'weather_type', 'fumbles_MA_5_home', 'pass_yds_MA_5_away', 'stade', 'pass_td_MA_5_away', 'humidity']\n"
     ]
    },
    {
     "name": "stderr",
     "output_type": "stream",
     "text": [
      "c:\\Users\\sylva\\AppData\\Local\\Programs\\Python\\Python310\\lib\\site-packages\\sklearn\\preprocessing\\_encoders.py:188: UserWarning: Found unknown categories in columns [2] during transform. These unknown categories will be encoded as all zeros\n",
      "  warnings.warn(\n"
     ]
    },
    {
     "name": "stdout",
     "output_type": "stream",
     "text": [
      "['awayteam', 'hometeam', 'defense_td_MA_5_away', 'away_coach', 'home_coach', 'interceptions_MA_5_home', 'rec_yds_MA_5_away', 'dayofweek', 'month', 'kicking_pts_MA_5_home', 'delta_day_away', 'defense_sacks_MA_5_home', 'rush_td_MA_5_home', 'people', 'punt_return_yds_MA_5_away', 'week', 'rush_td_MA_5_away', 'wind', 'pass_yds_MA_5_away', 'fumbles_rec_MA_5_home', 'interceptions_td_MA_5_home', 'humidity']\n"
     ]
    },
    {
     "name": "stderr",
     "output_type": "stream",
     "text": [
      "c:\\Users\\sylva\\AppData\\Local\\Programs\\Python\\Python310\\lib\\site-packages\\sklearn\\preprocessing\\_encoders.py:188: UserWarning: Found unknown categories in columns [2] during transform. These unknown categories will be encoded as all zeros\n",
      "  warnings.warn(\n"
     ]
    },
    {
     "name": "stdout",
     "output_type": "stream",
     "text": [
      "['awayteam', 'hometeam', 'rush_yds_MA_5_away', 'dayofmonth', 'rush_td_MA_5_away', 'fumbles_rec_MA_5_away', 'kicks_return_yds_MA_5_away', 'interceptions_MA_5_away', 'rec_td_MA_5_home', 'people', 'pass_td_MA_5_away', 'stade', 'punt_return_yds_MA_5_away', 'humidity']\n",
      "['awayteam', 'hometeam', 'rush_yds_MA_5_away', 'location', 'fumbles_rec_MA_5_away', 'streak_home', 'interceptions_td_MA_5_away', 'people', 'season', 'fumbles_rec_MA_5_home', 'pass_yds_MA_5_away', 'kicks_return_yds_MA_5_home', 'temperature', 'month']\n",
      "['awayteam', 'hometeam', 'away_coach', 'season', 'home_coach', 'punt_return_yds_MA_5_home', 'kicks_return_td_MA_5_home', 'delta_day_away', 'interceptions_MA_5_away', 'interceptions_td_MA_5_away', 'rush_td_MA_5_home', 'kicks_return_yds_MA_5_home', 'fumbles_MA_5_away', 'pass_yds_MA_5_home', 'defense_sacks_MA_5_away', 'streak_home', 'rec_td_MA_5_home', 'rush_yds_MA_5_home', 'fumbles_MA_5_home', 'interceptions_td_MA_5_home', 'kicking_pts_MA_5_away']\n"
     ]
    },
    {
     "name": "stderr",
     "output_type": "stream",
     "text": [
      "c:\\Users\\sylva\\AppData\\Local\\Programs\\Python\\Python310\\lib\\site-packages\\sklearn\\preprocessing\\_encoders.py:188: UserWarning: Found unknown categories in columns [2] during transform. These unknown categories will be encoded as all zeros\n",
      "  warnings.warn(\n"
     ]
    },
    {
     "name": "stdout",
     "output_type": "stream",
     "text": [
      "['awayteam', 'hometeam', 'fumbles_MA_5_away', 'week', 'rush_td_MA_5_away']\n",
      "['awayteam', 'hometeam', 'rush_td_MA_5_away', 'defense_sacks_MA_5_home', 'kicks_return_yds_MA_5_away', 'streak_home', 'rec_td_MA_5_home', 'interceptions_td_MA_5_away', 'interceptions_MA_5_home', 'away_coach', 'fumbles_MA_5_home', 'pass_td_MA_5_away', 'kicks_return_yds_MA_5_home', 'month', 'punt_return_yds_MA_5_home', 'rec_yds_MA_5_home', 'kicks_return_td_MA_5_home', 'kicking_pts_MA_5_away']\n"
     ]
    },
    {
     "name": "stderr",
     "output_type": "stream",
     "text": [
      "c:\\Users\\sylva\\AppData\\Local\\Programs\\Python\\Python310\\lib\\site-packages\\sklearn\\preprocessing\\_encoders.py:188: UserWarning: Found unknown categories in columns [2] during transform. These unknown categories will be encoded as all zeros\n",
      "  warnings.warn(\n"
     ]
    },
    {
     "name": "stdout",
     "output_type": "stream",
     "text": [
      "['awayteam', 'hometeam', 'dayofmonth', 'defense_td_MA_5_away', 'away_coach', 'delta_day_home', 'season', 'home_coach', 'kicks_return_yds_MA_5_away', 'punt_return_yds_MA_5_home', 'delta_day_away', 'defense_sacks_MA_5_home', 'streak_away', 'interceptions_MA_5_away', 'interceptions_td_MA_5_away', 'people', 'kicks_return_yds_MA_5_home', 'temperature', 'defense_td_MA_5_home', 'kicks_return_td_MA_5_away', 'rec_td_MA_5_away', 'week', 'pass_yds_MA_5_home', 'rush_td_MA_5_away', 'wind', 'defense_sacks_MA_5_away', 'rec_td_MA_5_home', 'rush_yds_MA_5_home', 'fumbles_MA_5_home', 'fumbles_rec_MA_5_home', 'stade', 'interceptions_td_MA_5_home', 'humidity']\n"
     ]
    },
    {
     "name": "stderr",
     "output_type": "stream",
     "text": [
      "c:\\Users\\sylva\\AppData\\Local\\Programs\\Python\\Python310\\lib\\site-packages\\sklearn\\preprocessing\\_encoders.py:188: UserWarning: Found unknown categories in columns [2] during transform. These unknown categories will be encoded as all zeros\n",
      "  warnings.warn(\n"
     ]
    },
    {
     "name": "stdout",
     "output_type": "stream",
     "text": [
      "['awayteam', 'hometeam', 'rush_td_MA_5_away', 'dayofmonth', 'location', 'defense_sacks_MA_5_away', 'streak_home', 'interceptions_td_MA_5_away', 'interceptions_MA_5_home', 'humidity', 'fumbles_rec_MA_5_home', 'stade', 'defense_td_MA_5_home', 'month', 'punt_return_yds_MA_5_home', 'rec_yds_MA_5_home', 'kicking_pts_MA_5_home']\n",
      "['awayteam', 'hometeam', 'defense_td_MA_5_away', 'delta_day_home', 'home_coach', 'kicks_return_yds_MA_5_away', 'rec_yds_MA_5_away', 'dayofweek', 'rec_yds_MA_5_home', 'kicks_return_td_MA_5_home', 'location', 'defense_sacks_MA_5_home', 'interceptions_td_MA_5_away', 'people', 'kicks_return_yds_MA_5_home', 'temperature', 'fumbles_MA_5_away', 'punt_return_yds_MA_5_away', 'pass_td_MA_5_home', 'pass_yds_MA_5_home', 'rush_td_MA_5_away', 'wind', 'defense_sacks_MA_5_away', 'rec_td_MA_5_home', 'rush_yds_MA_5_home', 'weather_type', 'fumbles_MA_5_home', 'fumbles_rec_MA_5_home', 'pass_td_MA_5_away', 'humidity']\n",
      "['awayteam', 'hometeam', 'dayofmonth', 'defense_td_MA_5_away', 'delta_day_home', 'season', 'fumbles_rec_MA_5_away', 'kicks_return_yds_MA_5_away', 'rec_yds_MA_5_away', 'interceptions_MA_5_home', 'dayofweek', 'punt_return_yds_MA_5_home', 'rec_yds_MA_5_home', 'rush_yds_MA_5_away', 'streak_away', 'interceptions_MA_5_away', 'people', 'kicks_return_yds_MA_5_home', 'temperature', 'punt_return_yds_MA_5_away', 'week', 'pass_yds_MA_5_home', 'rush_td_MA_5_away', 'defense_sacks_MA_5_away', 'streak_home', 'rec_td_MA_5_home', 'rush_yds_MA_5_home', 'pass_yds_MA_5_away', 'stade', 'pass_td_MA_5_away', 'kicking_pts_MA_5_away']\n",
      "['awayteam', 'hometeam', 'away_coach', 'delta_day_home', 'season', 'home_coach', 'fumbles_rec_MA_5_away', 'rec_yds_MA_5_away', 'kicking_pts_MA_5_home', 'rush_yds_MA_5_away', 'location', 'interceptions_MA_5_away', 'interceptions_td_MA_5_away', 'people', 'kicks_return_yds_MA_5_home', 'temperature', 'defense_td_MA_5_home', 'kicks_return_td_MA_5_away', 'punt_return_yds_MA_5_away', 'pass_td_MA_5_home', 'pass_yds_MA_5_home', 'wind', 'defense_sacks_MA_5_away', 'pass_yds_MA_5_away', 'pass_td_MA_5_away', 'humidity']\n"
     ]
    },
    {
     "name": "stderr",
     "output_type": "stream",
     "text": [
      "c:\\Users\\sylva\\AppData\\Local\\Programs\\Python\\Python310\\lib\\site-packages\\sklearn\\preprocessing\\_encoders.py:188: UserWarning: Found unknown categories in columns [2] during transform. These unknown categories will be encoded as all zeros\n",
      "  warnings.warn(\n"
     ]
    },
    {
     "name": "stdout",
     "output_type": "stream",
     "text": [
      "['awayteam', 'hometeam', 'location', 'defense_sacks_MA_5_away', 'streak_home', 'interceptions_MA_5_away', 'streak_away', 'fumbles_MA_5_away', 'interceptions_MA_5_home', 'away_coach', 'kicks_return_td_MA_5_home', 'fumbles_MA_5_home', 'pass_yds_MA_5_away', 'kicks_return_td_MA_5_away', 'punt_return_yds_MA_5_away', 'humidity']\n"
     ]
    },
    {
     "name": "stderr",
     "output_type": "stream",
     "text": [
      "c:\\Users\\sylva\\AppData\\Local\\Programs\\Python\\Python310\\lib\\site-packages\\sklearn\\preprocessing\\_encoders.py:188: UserWarning: Found unknown categories in columns [3] during transform. These unknown categories will be encoded as all zeros\n",
      "  warnings.warn(\n"
     ]
    },
    {
     "name": "stdout",
     "output_type": "stream",
     "text": [
      "['awayteam', 'hometeam', 'delta_day_home', 'kicks_return_yds_MA_5_away', 'rec_yds_MA_5_away', 'punt_return_yds_MA_5_home', 'kicking_pts_MA_5_home', 'kicks_return_td_MA_5_home', 'delta_day_away', 'rush_yds_MA_5_away', 'location', 'defense_td_MA_5_home', 'fumbles_MA_5_away', 'rec_td_MA_5_away', 'pass_yds_MA_5_home', 'streak_home', 'rush_yds_MA_5_home', 'fumbles_MA_5_home', 'pass_yds_MA_5_away', 'fumbles_rec_MA_5_home', 'pass_td_MA_5_away', 'stade', 'interceptions_td_MA_5_home', 'kicking_pts_MA_5_away']\n",
      "['awayteam', 'hometeam', 'dayofmonth', 'defense_td_MA_5_away', 'away_coach', 'season', 'fumbles_rec_MA_5_away', 'interceptions_MA_5_home', 'rec_yds_MA_5_away', 'month', 'kicking_pts_MA_5_home', 'kicks_return_td_MA_5_home', 'rush_yds_MA_5_away', 'defense_sacks_MA_5_home', 'interceptions_td_MA_5_away', 'rush_td_MA_5_home', 'defense_td_MA_5_home', 'temperature', 'fumbles_MA_5_away', 'rec_td_MA_5_away', 'kicks_return_td_MA_5_away', 'pass_td_MA_5_home', 'week', 'streak_home', 'rec_td_MA_5_home', 'rush_yds_MA_5_home', 'weather_type', 'pass_yds_MA_5_away', 'fumbles_rec_MA_5_home', 'pass_td_MA_5_away', 'stade', 'interceptions_td_MA_5_home', 'kicking_pts_MA_5_away']\n"
     ]
    },
    {
     "name": "stderr",
     "output_type": "stream",
     "text": [
      "c:\\Users\\sylva\\AppData\\Local\\Programs\\Python\\Python310\\lib\\site-packages\\sklearn\\preprocessing\\_encoders.py:188: UserWarning: Found unknown categories in columns [2] during transform. These unknown categories will be encoded as all zeros\n",
      "  warnings.warn(\n"
     ]
    },
    {
     "name": "stdout",
     "output_type": "stream",
     "text": [
      "['awayteam', 'hometeam', 'defense_sacks_MA_5_away', 'season', 'kicking_pts_MA_5_away', 'fumbles_rec_MA_5_away']\n",
      "['awayteam', 'hometeam', 'defense_td_MA_5_away', 'season', 'home_coach', 'kicks_return_yds_MA_5_away', 'fumbles_rec_MA_5_away', 'rec_yds_MA_5_away', 'interceptions_MA_5_home', 'dayofweek', 'punt_return_yds_MA_5_home', 'kicking_pts_MA_5_home', 'delta_day_away', 'rush_yds_MA_5_away', 'location', 'interceptions_MA_5_away', 'interceptions_td_MA_5_away', 'kicks_return_yds_MA_5_home', 'temperature', 'fumbles_MA_5_away', 'punt_return_yds_MA_5_away', 'rec_td_MA_5_away', 'pass_td_MA_5_home', 'week', 'pass_yds_MA_5_home', 'rush_td_MA_5_away', 'defense_sacks_MA_5_away', 'weather_type', 'pass_yds_MA_5_away', 'fumbles_rec_MA_5_home', 'pass_td_MA_5_away', 'stade', 'interceptions_td_MA_5_home']\n",
      "['awayteam', 'hometeam', 'defense_td_MA_5_away', 'delta_day_home', 'home_coach', 'kicks_return_yds_MA_5_away', 'fumbles_rec_MA_5_away', 'rec_yds_MA_5_away', 'interceptions_MA_5_home', 'kicks_return_td_MA_5_home', 'delta_day_away', 'defense_sacks_MA_5_home', 'interceptions_MA_5_away', 'kicks_return_yds_MA_5_home', 'defense_td_MA_5_home', 'pass_yds_MA_5_home', 'rush_td_MA_5_away', 'rush_yds_MA_5_home', 'pass_yds_MA_5_away', 'pass_td_MA_5_away', 'interceptions_td_MA_5_home', 'kicking_pts_MA_5_away']\n",
      "['awayteam', 'hometeam', 'rush_yds_MA_5_away', 'dayofmonth', 'wind', 'defense_sacks_MA_5_home', 'streak_away', 'defense_sacks_MA_5_away', 'rush_yds_MA_5_home', 'away_coach', 'fumbles_rec_MA_5_home', 'stade', 'pass_td_MA_5_away', 'interceptions_td_MA_5_home', 'punt_return_yds_MA_5_home', 'punt_return_yds_MA_5_away', 'kicks_return_td_MA_5_home', 'kicking_pts_MA_5_away', 'delta_day_away']\n"
     ]
    },
    {
     "name": "stderr",
     "output_type": "stream",
     "text": [
      "c:\\Users\\sylva\\AppData\\Local\\Programs\\Python\\Python310\\lib\\site-packages\\sklearn\\preprocessing\\_encoders.py:188: UserWarning: Found unknown categories in columns [2] during transform. These unknown categories will be encoded as all zeros\n",
      "  warnings.warn(\n"
     ]
    },
    {
     "name": "stdout",
     "output_type": "stream",
     "text": [
      "['awayteam', 'hometeam', 'defense_td_MA_5_away', 'season', 'fumbles_rec_MA_5_away', 'kicks_return_yds_MA_5_away', 'interceptions_MA_5_home', 'rec_yds_MA_5_away', 'month', 'kicks_return_td_MA_5_home', 'delta_day_away', 'location', 'defense_sacks_MA_5_home', 'interceptions_MA_5_away', 'rush_td_MA_5_home', 'kicks_return_yds_MA_5_home', 'temperature', 'fumbles_MA_5_away', 'rec_td_MA_5_away', 'week', 'rush_td_MA_5_away', 'streak_home', 'rush_yds_MA_5_home', 'fumbles_rec_MA_5_home', 'pass_td_MA_5_away', 'stade', 'interceptions_td_MA_5_home', 'humidity', 'kicking_pts_MA_5_away']\n",
      "['awayteam', 'hometeam', 'dayofmonth', 'delta_day_home', 'home_coach', 'kicks_return_yds_MA_5_away', 'fumbles_rec_MA_5_away', 'rec_yds_MA_5_away', 'dayofweek', 'kicks_return_td_MA_5_home', 'delta_day_away', 'location', 'interceptions_td_MA_5_away', 'kicks_return_yds_MA_5_home', 'defense_td_MA_5_home', 'fumbles_MA_5_away', 'rec_td_MA_5_away', 'pass_td_MA_5_home', 'kicks_return_td_MA_5_away', 'week', 'pass_yds_MA_5_home', 'rush_td_MA_5_away', 'defense_sacks_MA_5_away', 'streak_home', 'rush_yds_MA_5_home', 'fumbles_rec_MA_5_home', 'pass_td_MA_5_away']\n",
      "['awayteam', 'hometeam', 'defense_td_MA_5_away', 'delta_day_home', 'season', 'fumbles_rec_MA_5_away', 'dayofweek', 'month', 'delta_day_away', 'defense_sacks_MA_5_home', 'streak_away', 'interceptions_MA_5_away', 'kicks_return_yds_MA_5_home', 'defense_td_MA_5_home', 'pass_td_MA_5_home', 'pass_yds_MA_5_home', 'rush_td_MA_5_away', 'wind', 'defense_sacks_MA_5_away', 'streak_home', 'rec_td_MA_5_home', 'rush_yds_MA_5_home', 'fumbles_MA_5_home', 'pass_td_MA_5_away', 'humidity']\n",
      "['awayteam', 'hometeam', 'dayofmonth', 'delta_day_home', 'season', 'home_coach', 'kicks_return_yds_MA_5_away', 'fumbles_rec_MA_5_away', 'rec_yds_MA_5_away', 'month', 'kicking_pts_MA_5_home', 'kicks_return_td_MA_5_home', 'rush_yds_MA_5_away', 'streak_away', 'interceptions_MA_5_away', 'interceptions_td_MA_5_away', 'rush_td_MA_5_home', 'kicks_return_yds_MA_5_home', 'defense_td_MA_5_home', 'temperature', 'fumbles_MA_5_away', 'punt_return_yds_MA_5_away', 'pass_td_MA_5_home', 'kicks_return_td_MA_5_away', 'week', 'pass_yds_MA_5_home', 'streak_home', 'rec_td_MA_5_home', 'pass_yds_MA_5_away', 'fumbles_rec_MA_5_home', 'pass_td_MA_5_away', 'stade', 'interceptions_td_MA_5_home', 'humidity', 'kicking_pts_MA_5_away']\n",
      "['awayteam', 'hometeam', 'rush_yds_MA_5_away', 'pass_td_MA_5_home', 'defense_sacks_MA_5_away', 'kicks_return_yds_MA_5_away', 'rec_td_MA_5_home', 'rush_yds_MA_5_home', 'humidity', 'weather_type', 'delta_day_home', 'season', 'defense_td_MA_5_home', 'interceptions_td_MA_5_home', 'fumbles_MA_5_away', 'kicking_pts_MA_5_home', 'kicking_pts_MA_5_away']\n",
      "['awayteam', 'hometeam', 'people']\n",
      "['awayteam', 'hometeam', 'dayofmonth', 'defense_td_MA_5_away', 'fumbles_rec_MA_5_away', 'rec_yds_MA_5_away', 'punt_return_yds_MA_5_home', 'rec_yds_MA_5_home', 'kicking_pts_MA_5_home', 'kicks_return_td_MA_5_home', 'delta_day_away', 'rush_yds_MA_5_away', 'location', 'interceptions_td_MA_5_away', 'rush_td_MA_5_home', 'rec_td_MA_5_away', 'pass_td_MA_5_home', 'pass_yds_MA_5_home', 'rec_td_MA_5_home', 'rush_yds_MA_5_home', 'pass_yds_MA_5_away', 'fumbles_rec_MA_5_home', 'pass_td_MA_5_away', 'interceptions_td_MA_5_home']\n",
      "['awayteam', 'hometeam', 'pass_td_MA_5_away']\n",
      "['awayteam', 'hometeam', 'interceptions_td_MA_5_away', 'kicking_pts_MA_5_home', 'dayofweek', 'people', 'weather_type', 'fumbles_rec_MA_5_home', 'kicks_return_td_MA_5_home', 'rec_yds_MA_5_home', 'humidity']\n",
      "['awayteam', 'hometeam', 'rush_td_MA_5_away', 'wind', 'interceptions_MA_5_away', 'fumbles_MA_5_away', 'kicking_pts_MA_5_home', 'dayofweek', 'kicks_return_td_MA_5_home', 'fumbles_rec_MA_5_home', 'stade', 'temperature', 'punt_return_yds_MA_5_home', 'kicks_return_td_MA_5_away', 'pass_td_MA_5_home', 'week']\n",
      "['awayteam', 'hometeam', 'rush_yds_MA_5_away', 'rush_td_MA_5_away', 'dayofmonth', 'fumbles_rec_MA_5_away', 'weather_type', 'kicks_return_yds_MA_5_home', 'defense_td_MA_5_home', 'temperature', 'punt_return_yds_MA_5_home', 'punt_return_yds_MA_5_away', 'pass_td_MA_5_home']\n",
      "['awayteam', 'hometeam', 'dayofmonth', 'defense_td_MA_5_away', 'away_coach', 'delta_day_home', 'season', 'home_coach', 'kicks_return_yds_MA_5_away', 'rec_yds_MA_5_away', 'interceptions_MA_5_home', 'dayofweek', 'punt_return_yds_MA_5_home', 'kicks_return_td_MA_5_home', 'kicking_pts_MA_5_home', 'location', 'defense_sacks_MA_5_home', 'interceptions_MA_5_away', 'interceptions_td_MA_5_away', 'rush_td_MA_5_home', 'kicks_return_yds_MA_5_home', 'kicks_return_td_MA_5_away', 'punt_return_yds_MA_5_away', 'pass_td_MA_5_home', 'week', 'rush_td_MA_5_away', 'defense_sacks_MA_5_away', 'fumbles_rec_MA_5_home', 'stade', 'interceptions_td_MA_5_home', 'humidity']\n"
     ]
    },
    {
     "name": "stderr",
     "output_type": "stream",
     "text": [
      "c:\\Users\\sylva\\AppData\\Local\\Programs\\Python\\Python310\\lib\\site-packages\\sklearn\\preprocessing\\_encoders.py:188: UserWarning: Found unknown categories in columns [2] during transform. These unknown categories will be encoded as all zeros\n",
      "  warnings.warn(\n"
     ]
    },
    {
     "name": "stdout",
     "output_type": "stream",
     "text": [
      "['awayteam', 'hometeam', 'dayofmonth', 'defense_td_MA_5_away', 'delta_day_home', 'season', 'kicks_return_yds_MA_5_away', 'dayofweek', 'month', 'kicks_return_td_MA_5_home', 'kicking_pts_MA_5_home', 'rush_yds_MA_5_away', 'streak_away', 'interceptions_td_MA_5_away', 'people', 'temperature', 'defense_td_MA_5_home', 'kicks_return_td_MA_5_away', 'rec_td_MA_5_away', 'punt_return_yds_MA_5_away', 'rush_td_MA_5_away', 'wind', 'streak_home', 'rec_td_MA_5_home', 'weather_type', 'fumbles_MA_5_home', 'fumbles_rec_MA_5_home', 'pass_td_MA_5_away', 'interceptions_td_MA_5_home']\n",
      "['awayteam', 'hometeam', 'defense_td_MA_5_away', 'away_coach', 'season', 'home_coach', 'kicks_return_yds_MA_5_away', 'dayofweek', 'punt_return_yds_MA_5_home', 'rush_yds_MA_5_away', 'location', 'streak_away', 'defense_td_MA_5_home', 'fumbles_MA_5_away', 'kicks_return_td_MA_5_away', 'pass_td_MA_5_home', 'streak_home', 'rush_yds_MA_5_home', 'fumbles_MA_5_home', 'pass_td_MA_5_away', 'humidity', 'kicking_pts_MA_5_away']\n"
     ]
    },
    {
     "name": "stderr",
     "output_type": "stream",
     "text": [
      "c:\\Users\\sylva\\AppData\\Local\\Programs\\Python\\Python310\\lib\\site-packages\\sklearn\\preprocessing\\_encoders.py:188: UserWarning: Found unknown categories in columns [2] during transform. These unknown categories will be encoded as all zeros\n",
      "  warnings.warn(\n"
     ]
    },
    {
     "name": "stdout",
     "output_type": "stream",
     "text": [
      "['awayteam', 'hometeam', 'home_coach', 'pass_td_MA_5_home', 'defense_sacks_MA_5_away', 'interceptions_MA_5_home', 'rush_yds_MA_5_home', 'people', 'fumbles_rec_MA_5_home', 'stade', 'interceptions_td_MA_5_home', 'fumbles_MA_5_away', 'rec_yds_MA_5_home', 'kicking_pts_MA_5_home', 'kicks_return_td_MA_5_away', 'week']\n",
      "['awayteam', 'hometeam', 'rush_td_MA_5_away', 'home_coach', 'rec_yds_MA_5_away', 'dayofweek', 'pass_yds_MA_5_away']\n",
      "['awayteam', 'hometeam', 'dayofmonth', 'fumbles_rec_MA_5_away', 'streak_home', 'interceptions_td_MA_5_away', 'rec_yds_MA_5_away', 'interceptions_MA_5_home', 'fumbles_MA_5_home', 'pass_yds_MA_5_away', 'defense_td_MA_5_home', 'month', 'rec_td_MA_5_away', 'humidity', 'kicking_pts_MA_5_away']\n",
      "['awayteam', 'hometeam', 'rush_yds_MA_5_home', 'delta_day_away', 'defense_td_MA_5_home']\n",
      "['awayteam', 'hometeam', 'defense_td_MA_5_away', 'home_coach', 'kicks_return_yds_MA_5_away', 'interceptions_MA_5_home', 'rec_yds_MA_5_away', 'dayofweek', 'month', 'kicks_return_td_MA_5_home', 'rush_yds_MA_5_away', 'streak_away', 'interceptions_MA_5_away', 'interceptions_td_MA_5_away', 'kicks_return_yds_MA_5_home', 'defense_td_MA_5_home', 'temperature', 'fumbles_MA_5_away', 'kicks_return_td_MA_5_away', 'pass_td_MA_5_home', 'rec_td_MA_5_away', 'week', 'rush_td_MA_5_away', 'defense_sacks_MA_5_away', 'streak_home', 'rush_yds_MA_5_home', 'weather_type', 'fumbles_MA_5_home', 'pass_yds_MA_5_away', 'pass_td_MA_5_away', 'interceptions_td_MA_5_home', 'humidity']\n",
      "['awayteam', 'hometeam', 'rush_td_MA_5_away', 'pass_td_MA_5_home', 'dayofmonth', 'kicks_return_yds_MA_5_away', 'kicking_pts_MA_5_home', 'rush_yds_MA_5_home', 'humidity', 'pass_td_MA_5_away', 'interceptions_td_MA_5_home', 'kicks_return_td_MA_5_home', 'week']\n",
      "['awayteam', 'hometeam', 'defense_td_MA_5_away', 'delta_day_home', 'season', 'kicks_return_yds_MA_5_away', 'fumbles_rec_MA_5_away', 'interceptions_MA_5_home', 'dayofweek', 'punt_return_yds_MA_5_home', 'rec_yds_MA_5_home', 'kicking_pts_MA_5_home', 'delta_day_away', 'interceptions_td_MA_5_away', 'rush_td_MA_5_home', 'people', 'kicks_return_yds_MA_5_home', 'defense_td_MA_5_home', 'temperature', 'kicks_return_td_MA_5_away', 'rec_td_MA_5_away', 'punt_return_yds_MA_5_away', 'pass_td_MA_5_home', 'pass_yds_MA_5_home', 'rush_td_MA_5_away', 'wind', 'defense_sacks_MA_5_away', 'rec_td_MA_5_home', 'fumbles_MA_5_home', 'pass_yds_MA_5_away', 'pass_td_MA_5_away', 'stade', 'interceptions_td_MA_5_home', 'humidity']\n",
      "['awayteam', 'hometeam', 'away_coach', 'interceptions_MA_5_home', 'kicking_pts_MA_5_home', 'interceptions_MA_5_away', 'interceptions_td_MA_5_away', 'rush_td_MA_5_home', 'kicks_return_yds_MA_5_home', 'temperature', 'kicks_return_td_MA_5_away', 'rec_td_MA_5_away', 'pass_td_MA_5_home', 'punt_return_yds_MA_5_away', 'week', 'pass_yds_MA_5_home', 'defense_sacks_MA_5_away', 'rec_td_MA_5_home', 'weather_type', 'fumbles_MA_5_home', 'fumbles_rec_MA_5_home', 'interceptions_td_MA_5_home']\n"
     ]
    },
    {
     "name": "stderr",
     "output_type": "stream",
     "text": [
      "c:\\Users\\sylva\\AppData\\Local\\Programs\\Python\\Python310\\lib\\site-packages\\sklearn\\preprocessing\\_encoders.py:188: UserWarning: Found unknown categories in columns [2] during transform. These unknown categories will be encoded as all zeros\n",
      "  warnings.warn(\n"
     ]
    },
    {
     "name": "stdout",
     "output_type": "stream",
     "text": [
      "['awayteam', 'hometeam', 'dayofmonth', 'delta_day_home', 'home_coach', 'kicks_return_yds_MA_5_away', 'interceptions_MA_5_home', 'month', 'punt_return_yds_MA_5_home', 'rec_yds_MA_5_home', 'kicking_pts_MA_5_home', 'kicks_return_td_MA_5_home', 'rush_yds_MA_5_away', 'defense_sacks_MA_5_home', 'streak_away', 'interceptions_MA_5_away', 'interceptions_td_MA_5_away', 'rush_td_MA_5_home', 'kicks_return_yds_MA_5_home', 'defense_td_MA_5_home', 'temperature', 'fumbles_MA_5_away', 'punt_return_yds_MA_5_away', 'rec_td_MA_5_away', 'pass_td_MA_5_home', 'week', 'pass_yds_MA_5_home', 'rush_td_MA_5_away', 'rec_td_MA_5_home', 'weather_type', 'pass_yds_MA_5_away', 'stade', 'interceptions_td_MA_5_home']\n",
      "['awayteam', 'hometeam', 'stade']\n",
      "['awayteam', 'hometeam', 'dayofmonth', 'defense_td_MA_5_away', 'away_coach', 'delta_day_home', 'home_coach', 'fumbles_rec_MA_5_away', 'kicks_return_yds_MA_5_away', 'interceptions_MA_5_home', 'rec_yds_MA_5_away', 'dayofweek', 'month', 'punt_return_yds_MA_5_home', 'kicking_pts_MA_5_home', 'delta_day_away', 'interceptions_MA_5_away', 'interceptions_td_MA_5_away', 'people', 'kicks_return_yds_MA_5_home', 'temperature', 'fumbles_MA_5_away', 'punt_return_yds_MA_5_away', 'kicks_return_td_MA_5_away', 'pass_yds_MA_5_home', 'rush_td_MA_5_away', 'streak_home', 'rec_td_MA_5_home', 'weather_type', 'fumbles_rec_MA_5_home', 'stade', 'pass_td_MA_5_away', 'kicking_pts_MA_5_away']\n"
     ]
    },
    {
     "name": "stderr",
     "output_type": "stream",
     "text": [
      "c:\\Users\\sylva\\AppData\\Local\\Programs\\Python\\Python310\\lib\\site-packages\\sklearn\\preprocessing\\_encoders.py:188: UserWarning: Found unknown categories in columns [2] during transform. These unknown categories will be encoded as all zeros\n",
      "  warnings.warn(\n"
     ]
    },
    {
     "name": "stdout",
     "output_type": "stream",
     "text": [
      "['awayteam', 'hometeam', 'rush_td_MA_5_away', 'streak_home', 'interceptions_MA_5_away', 'rec_td_MA_5_home', 'dayofweek', 'stade', 'kicking_pts_MA_5_away', 'rec_td_MA_5_away', 'pass_td_MA_5_home', 'week']\n",
      "['awayteam', 'hometeam', 'pass_yds_MA_5_away']\n",
      "['awayteam', 'hometeam', 'pass_yds_MA_5_home', 'wind', 'defense_sacks_MA_5_home', 'defense_sacks_MA_5_away', 'streak_home', 'rec_td_MA_5_home', 'fumbles_MA_5_away', 'rush_td_MA_5_home', 'weather_type', 'fumbles_MA_5_home', 'pass_yds_MA_5_away', 'fumbles_rec_MA_5_home', 'defense_td_MA_5_home', 'interceptions_td_MA_5_home', 'kicks_return_td_MA_5_away']\n",
      "['awayteam', 'hometeam', 'dayofmonth', 'defense_td_MA_5_away', 'away_coach', 'kicks_return_yds_MA_5_away', 'interceptions_MA_5_home', 'rec_yds_MA_5_away', 'dayofweek', 'month', 'rec_yds_MA_5_home', 'defense_sacks_MA_5_home', 'streak_away', 'interceptions_td_MA_5_away', 'rush_td_MA_5_home', 'people', 'kicks_return_yds_MA_5_home', 'defense_td_MA_5_home', 'temperature', 'kicks_return_td_MA_5_away', 'punt_return_yds_MA_5_away', 'rec_td_MA_5_away', 'fumbles_MA_5_away', 'week', 'rush_td_MA_5_away', 'wind', 'defense_sacks_MA_5_away', 'weather_type', 'pass_td_MA_5_away', 'interceptions_td_MA_5_home', 'humidity']\n"
     ]
    },
    {
     "name": "stderr",
     "output_type": "stream",
     "text": [
      "c:\\Users\\sylva\\AppData\\Local\\Programs\\Python\\Python310\\lib\\site-packages\\sklearn\\preprocessing\\_encoders.py:188: UserWarning: Found unknown categories in columns [2] during transform. These unknown categories will be encoded as all zeros\n",
      "  warnings.warn(\n"
     ]
    },
    {
     "name": "stdout",
     "output_type": "stream",
     "text": [
      "['awayteam', 'hometeam', 'defense_td_MA_5_away', 'away_coach', 'delta_day_home', 'season', 'kicks_return_yds_MA_5_away', 'fumbles_rec_MA_5_away', 'interceptions_MA_5_home', 'rec_yds_MA_5_away', 'punt_return_yds_MA_5_home', 'rec_yds_MA_5_home', 'delta_day_away', 'location', 'defense_sacks_MA_5_home', 'streak_away', 'interceptions_td_MA_5_away', 'rush_td_MA_5_home', 'people', 'kicks_return_yds_MA_5_home', 'defense_td_MA_5_home', 'temperature', 'kicks_return_td_MA_5_away', 'punt_return_yds_MA_5_away', 'fumbles_MA_5_away', 'week', 'pass_yds_MA_5_home', 'wind', 'streak_home', 'rush_yds_MA_5_home', 'weather_type', 'fumbles_MA_5_home', 'pass_yds_MA_5_away', 'stade', 'pass_td_MA_5_away', 'interceptions_td_MA_5_home', 'humidity']\n"
     ]
    },
    {
     "name": "stderr",
     "output_type": "stream",
     "text": [
      "c:\\Users\\sylva\\AppData\\Local\\Programs\\Python\\Python310\\lib\\site-packages\\sklearn\\preprocessing\\_encoders.py:188: UserWarning: Found unknown categories in columns [2] during transform. These unknown categories will be encoded as all zeros\n",
      "  warnings.warn(\n"
     ]
    },
    {
     "name": "stdout",
     "output_type": "stream",
     "text": [
      "['awayteam', 'hometeam', 'dayofmonth', 'defense_td_MA_5_away', 'away_coach', 'delta_day_home', 'season', 'home_coach', 'rec_yds_MA_5_away', 'dayofweek', 'month', 'rec_yds_MA_5_home', 'interceptions_MA_5_away', 'rush_td_MA_5_home', 'kicks_return_yds_MA_5_home', 'fumbles_MA_5_away', 'kicks_return_td_MA_5_away', 'punt_return_yds_MA_5_away', 'pass_td_MA_5_home', 'streak_home', 'rec_td_MA_5_home', 'rush_yds_MA_5_home', 'fumbles_rec_MA_5_home', 'stade']\n"
     ]
    },
    {
     "name": "stderr",
     "output_type": "stream",
     "text": [
      "c:\\Users\\sylva\\AppData\\Local\\Programs\\Python\\Python310\\lib\\site-packages\\sklearn\\preprocessing\\_encoders.py:188: UserWarning: Found unknown categories in columns [2] during transform. These unknown categories will be encoded as all zeros\n",
      "  warnings.warn(\n"
     ]
    },
    {
     "name": "stdout",
     "output_type": "stream",
     "text": [
      "['awayteam', 'hometeam', 'dayofmonth', 'away_coach', 'home_coach', 'month', 'punt_return_yds_MA_5_home', 'rec_yds_MA_5_home', 'kicks_return_td_MA_5_home', 'defense_sacks_MA_5_home', 'streak_away', 'interceptions_MA_5_away', 'defense_td_MA_5_home', 'fumbles_MA_5_away', 'rec_td_MA_5_away', 'punt_return_yds_MA_5_away', 'pass_td_MA_5_home', 'week', 'rush_td_MA_5_away', 'streak_home', 'rec_td_MA_5_home', 'rush_yds_MA_5_home', 'fumbles_MA_5_home', 'fumbles_rec_MA_5_home', 'pass_td_MA_5_away']\n"
     ]
    },
    {
     "name": "stderr",
     "output_type": "stream",
     "text": [
      "c:\\Users\\sylva\\AppData\\Local\\Programs\\Python\\Python310\\lib\\site-packages\\sklearn\\preprocessing\\_encoders.py:188: UserWarning: Found unknown categories in columns [2] during transform. These unknown categories will be encoded as all zeros\n",
      "  warnings.warn(\n"
     ]
    },
    {
     "name": "stdout",
     "output_type": "stream",
     "text": [
      "['awayteam', 'hometeam', 'fumbles_rec_MA_5_away', 'interceptions_MA_5_away', 'weather_type', 'season', 'month']\n",
      "['awayteam', 'hometeam', 'dayofmonth', 'delta_day_home', 'season', 'home_coach', 'kicks_return_yds_MA_5_away', 'month', 'punt_return_yds_MA_5_home', 'rec_yds_MA_5_home', 'defense_sacks_MA_5_home', 'streak_away', 'interceptions_MA_5_away', 'people', 'kicks_return_yds_MA_5_home', 'temperature', 'pass_td_MA_5_home', 'pass_yds_MA_5_home', 'defense_sacks_MA_5_away', 'streak_home', 'rush_yds_MA_5_home', 'weather_type', 'fumbles_MA_5_home', 'pass_yds_MA_5_away', 'kicking_pts_MA_5_away']\n",
      "['awayteam', 'hometeam', 'rush_yds_MA_5_away', 'dayofmonth', 'pass_yds_MA_5_home', 'location', 'interceptions_MA_5_away', 'interceptions_MA_5_home', 'rush_td_MA_5_home', 'defense_td_MA_5_away', 'season', 'pass_td_MA_5_away', 'kicks_return_yds_MA_5_home', 'temperature', 'punt_return_yds_MA_5_home', 'kicking_pts_MA_5_away', 'punt_return_yds_MA_5_away', 'kicks_return_td_MA_5_home', 'week', 'delta_day_away']\n",
      "['awayteam', 'hometeam', 'dayofmonth', 'streak_away', 'kicks_return_yds_MA_5_away', 'month', 'interceptions_MA_5_home', 'rush_td_MA_5_home', 'away_coach', 'rush_yds_MA_5_home', 'people', 'pass_yds_MA_5_away', 'stade', 'defense_td_MA_5_home', 'kicks_return_yds_MA_5_home', 'week', 'delta_day_away']\n"
     ]
    },
    {
     "name": "stderr",
     "output_type": "stream",
     "text": [
      "c:\\Users\\sylva\\AppData\\Local\\Programs\\Python\\Python310\\lib\\site-packages\\sklearn\\preprocessing\\_encoders.py:188: UserWarning: Found unknown categories in columns [2] during transform. These unknown categories will be encoded as all zeros\n",
      "  warnings.warn(\n"
     ]
    },
    {
     "name": "stdout",
     "output_type": "stream",
     "text": [
      "['awayteam', 'hometeam', 'rush_yds_MA_5_away', 'location', 'fumbles_rec_MA_5_away', 'streak_away', 'streak_home', 'kicks_return_yds_MA_5_away', 'interceptions_td_MA_5_away', 'rec_td_MA_5_home', 'defense_td_MA_5_away', 'dayofweek', 'defense_sacks_MA_5_away', 'people', 'delta_day_home', 'pass_td_MA_5_away', 'kicking_pts_MA_5_home', 'delta_day_away']\n",
      "['awayteam', 'hometeam', 'away_coach', 'delta_day_home', 'season', 'home_coach', 'fumbles_rec_MA_5_away', 'kicks_return_yds_MA_5_away', 'interceptions_MA_5_home', 'dayofweek', 'month', 'punt_return_yds_MA_5_home', 'kicking_pts_MA_5_home', 'defense_sacks_MA_5_home', 'interceptions_MA_5_away', 'interceptions_td_MA_5_away', 'people', 'kicks_return_yds_MA_5_home', 'temperature', 'punt_return_yds_MA_5_away', 'week', 'pass_yds_MA_5_home', 'rush_td_MA_5_away', 'wind', 'defense_sacks_MA_5_away', 'streak_home', 'rec_td_MA_5_home', 'rush_yds_MA_5_home', 'weather_type', 'fumbles_MA_5_home', 'pass_td_MA_5_away', 'stade', 'interceptions_td_MA_5_home']\n"
     ]
    },
    {
     "name": "stderr",
     "output_type": "stream",
     "text": [
      "c:\\Users\\sylva\\AppData\\Local\\Programs\\Python\\Python310\\lib\\site-packages\\sklearn\\preprocessing\\_encoders.py:188: UserWarning: Found unknown categories in columns [2] during transform. These unknown categories will be encoded as all zeros\n",
      "  warnings.warn(\n"
     ]
    },
    {
     "name": "stdout",
     "output_type": "stream",
     "text": [
      "['awayteam', 'hometeam', 'rush_yds_MA_5_away', 'pass_td_MA_5_away', 'fumbles_rec_MA_5_away', 'kicks_return_yds_MA_5_away']\n",
      "['awayteam', 'hometeam', 'defense_td_MA_5_home']\n",
      "['awayteam', 'hometeam', 'dayofmonth', 'season', 'home_coach', 'kicks_return_yds_MA_5_away', 'interceptions_MA_5_home', 'rec_yds_MA_5_away', 'kicks_return_td_MA_5_home', 'kicking_pts_MA_5_home', 'delta_day_away', 'rush_yds_MA_5_away', 'streak_away', 'interceptions_MA_5_away', 'interceptions_td_MA_5_away', 'rush_td_MA_5_home', 'temperature', 'defense_td_MA_5_home', 'kicks_return_td_MA_5_away', 'punt_return_yds_MA_5_away', 'rec_td_MA_5_away', 'pass_td_MA_5_home', 'week', 'pass_yds_MA_5_home', 'rush_td_MA_5_away', 'streak_home', 'rec_td_MA_5_home', 'fumbles_MA_5_home', 'pass_yds_MA_5_away', 'pass_td_MA_5_away', 'interceptions_td_MA_5_home', 'humidity', 'kicking_pts_MA_5_away']\n",
      "['awayteam', 'hometeam', 'dayofmonth', 'defense_td_MA_5_away', 'away_coach', 'kicks_return_yds_MA_5_away', 'punt_return_yds_MA_5_home', 'rec_yds_MA_5_home', 'kicks_return_td_MA_5_home', 'kicking_pts_MA_5_home', 'rush_yds_MA_5_away', 'streak_away', 'rush_td_MA_5_home', 'people', 'defense_td_MA_5_home', 'temperature', 'fumbles_MA_5_away', 'punt_return_yds_MA_5_away', 'kicks_return_td_MA_5_away', 'rec_td_MA_5_away', 'week', 'pass_td_MA_5_home', 'rush_td_MA_5_away', 'wind', 'pass_yds_MA_5_away', 'fumbles_rec_MA_5_home', 'stade', 'humidity']\n"
     ]
    },
    {
     "name": "stderr",
     "output_type": "stream",
     "text": [
      "c:\\Users\\sylva\\AppData\\Local\\Programs\\Python\\Python310\\lib\\site-packages\\sklearn\\preprocessing\\_encoders.py:188: UserWarning: Found unknown categories in columns [2] during transform. These unknown categories will be encoded as all zeros\n",
      "  warnings.warn(\n"
     ]
    },
    {
     "name": "stdout",
     "output_type": "stream",
     "text": [
      "['awayteam', 'hometeam', 'dayofmonth', 'defense_td_MA_5_away', 'delta_day_home', 'season', 'fumbles_rec_MA_5_away', 'month', 'punt_return_yds_MA_5_home', 'rec_yds_MA_5_home', 'kicks_return_td_MA_5_home', 'kicking_pts_MA_5_home', 'location', 'interceptions_MA_5_away', 'kicks_return_yds_MA_5_home', 'defense_td_MA_5_home', 'temperature', 'fumbles_MA_5_away', 'pass_yds_MA_5_home', 'rec_td_MA_5_home', 'rush_yds_MA_5_home', 'interceptions_td_MA_5_home', 'humidity']\n",
      "['awayteam', 'hometeam', 'defense_td_MA_5_away', 'delta_day_home', 'home_coach', 'fumbles_rec_MA_5_away', 'kicks_return_yds_MA_5_away', 'rec_yds_MA_5_away', 'interceptions_MA_5_home', 'kicks_return_td_MA_5_home', 'kicking_pts_MA_5_home', 'delta_day_away', 'location', 'interceptions_MA_5_away', 'people', 'defense_td_MA_5_home', 'rec_td_MA_5_away', 'defense_sacks_MA_5_away', 'streak_home', 'rec_td_MA_5_home', 'pass_yds_MA_5_away', 'fumbles_rec_MA_5_home', 'stade']\n",
      "['awayteam', 'hometeam', 'fumbles_rec_MA_5_away', 'rec_yds_MA_5_away', 'interceptions_MA_5_home', 'punt_return_yds_MA_5_home', 'kicks_return_td_MA_5_home', 'kicking_pts_MA_5_home', 'defense_sacks_MA_5_home', 'interceptions_MA_5_away', 'rush_td_MA_5_home', 'people', 'kicks_return_yds_MA_5_home', 'fumbles_MA_5_away', 'week', 'rush_td_MA_5_away', 'wind', 'streak_home', 'weather_type', 'fumbles_MA_5_home', 'pass_td_MA_5_away']\n",
      "['awayteam', 'hometeam', 'defense_td_MA_5_away', 'season', 'home_coach', 'fumbles_rec_MA_5_away', 'interceptions_MA_5_home', 'dayofweek', 'month', 'rec_yds_MA_5_home', 'kicks_return_td_MA_5_home', 'kicking_pts_MA_5_home', 'streak_away', 'interceptions_MA_5_away', 'interceptions_td_MA_5_away', 'rush_td_MA_5_home', 'kicks_return_yds_MA_5_home', 'temperature', 'rec_td_MA_5_away', 'punt_return_yds_MA_5_away', 'week', 'defense_sacks_MA_5_away', 'rush_yds_MA_5_home', 'fumbles_MA_5_home', 'stade', 'humidity']\n",
      "['awayteam', 'hometeam', 'dayofmonth', 'interceptions_td_MA_5_away', 'week', 'fumbles_MA_5_home', 'rec_td_MA_5_away', 'kicking_pts_MA_5_away']\n",
      "['awayteam', 'hometeam', 'rush_yds_MA_5_away', 'pass_yds_MA_5_home', 'wind', 'location', 'rush_td_MA_5_away', 'interceptions_td_MA_5_away', 'interceptions_MA_5_home', 'rec_yds_MA_5_away', 'rush_td_MA_5_home', 'dayofweek', 'people', 'pass_yds_MA_5_away', 'fumbles_rec_MA_5_home', 'punt_return_yds_MA_5_home', 'rec_td_MA_5_away', 'humidity', 'week']\n",
      "['awayteam', 'hometeam', 'dayofmonth', 'defense_td_MA_5_away', 'delta_day_home', 'season', 'home_coach', 'kicks_return_yds_MA_5_away', 'rec_yds_MA_5_away', 'interceptions_MA_5_home', 'dayofweek', 'punt_return_yds_MA_5_home', 'rec_yds_MA_5_home', 'kicking_pts_MA_5_home', 'kicks_return_td_MA_5_home', 'rush_yds_MA_5_away', 'location', 'interceptions_MA_5_away', 'defense_td_MA_5_home', 'fumbles_MA_5_away', 'punt_return_yds_MA_5_away', 'pass_td_MA_5_home', 'pass_yds_MA_5_home', 'wind', 'defense_sacks_MA_5_away', 'streak_home', 'rec_td_MA_5_home', 'rush_yds_MA_5_home', 'pass_yds_MA_5_away', 'interceptions_td_MA_5_home']\n",
      "['awayteam', 'hometeam', 'delta_day_home', 'season', 'rec_yds_MA_5_away', 'interceptions_MA_5_home', 'dayofweek', 'punt_return_yds_MA_5_home', 'rec_yds_MA_5_home', 'kicks_return_td_MA_5_home', 'kicking_pts_MA_5_home', 'delta_day_away', 'location', 'defense_sacks_MA_5_home', 'streak_away', 'interceptions_MA_5_away', 'interceptions_td_MA_5_away', 'rush_td_MA_5_home', 'kicks_return_yds_MA_5_home', 'fumbles_MA_5_away', 'defense_sacks_MA_5_away', 'streak_home', 'rec_td_MA_5_home', 'rush_yds_MA_5_home', 'weather_type', 'fumbles_rec_MA_5_home', 'stade', 'pass_td_MA_5_away', 'interceptions_td_MA_5_home']\n",
      "['awayteam', 'hometeam', 'rush_td_MA_5_away', 'location', 'streak_away', 'rec_td_MA_5_home', 'interceptions_MA_5_home', 'rush_yds_MA_5_home', 'away_coach', 'rec_yds_MA_5_away', 'dayofweek', 'weather_type', 'delta_day_home', 'punt_return_yds_MA_5_away', 'pass_td_MA_5_away', 'interceptions_td_MA_5_home', 'kicks_return_td_MA_5_away', 'rec_td_MA_5_away', 'delta_day_away']\n"
     ]
    },
    {
     "name": "stderr",
     "output_type": "stream",
     "text": [
      "c:\\Users\\sylva\\AppData\\Local\\Programs\\Python\\Python310\\lib\\site-packages\\sklearn\\preprocessing\\_encoders.py:188: UserWarning: Found unknown categories in columns [3] during transform. These unknown categories will be encoded as all zeros\n",
      "  warnings.warn(\n"
     ]
    },
    {
     "name": "stdout",
     "output_type": "stream",
     "text": [
      "['awayteam', 'hometeam', 'dayofmonth', 'away_coach', 'season', 'kicks_return_yds_MA_5_away', 'interceptions_MA_5_home', 'rec_yds_MA_5_away', 'dayofweek', 'month', 'punt_return_yds_MA_5_home', 'rec_yds_MA_5_home', 'kicking_pts_MA_5_home', 'interceptions_MA_5_away', 'people', 'kicks_return_yds_MA_5_home', 'defense_td_MA_5_home', 'temperature', 'fumbles_MA_5_away', 'rush_td_MA_5_away', 'defense_sacks_MA_5_away', 'rec_td_MA_5_home', 'weather_type', 'pass_td_MA_5_away', 'interceptions_td_MA_5_home', 'humidity', 'kicking_pts_MA_5_away']\n"
     ]
    },
    {
     "name": "stderr",
     "output_type": "stream",
     "text": [
      "c:\\Users\\sylva\\AppData\\Local\\Programs\\Python\\Python310\\lib\\site-packages\\sklearn\\preprocessing\\_encoders.py:188: UserWarning: Found unknown categories in columns [2] during transform. These unknown categories will be encoded as all zeros\n",
      "  warnings.warn(\n"
     ]
    },
    {
     "name": "stdout",
     "output_type": "stream",
     "text": [
      "['awayteam', 'hometeam', 'defense_td_MA_5_away', 'away_coach', 'season', 'home_coach', 'fumbles_rec_MA_5_away', 'kicks_return_yds_MA_5_away', 'interceptions_MA_5_home', 'kicks_return_td_MA_5_home', 'kicking_pts_MA_5_home', 'rush_yds_MA_5_away', 'defense_sacks_MA_5_home', 'interceptions_td_MA_5_away', 'kicks_return_yds_MA_5_home', 'fumbles_MA_5_away', 'pass_td_MA_5_home', 'week', 'pass_yds_MA_5_home', 'rush_td_MA_5_away', 'rush_yds_MA_5_home', 'fumbles_MA_5_home', 'pass_yds_MA_5_away', 'fumbles_rec_MA_5_home', 'stade', 'pass_td_MA_5_away', 'humidity']\n"
     ]
    },
    {
     "name": "stderr",
     "output_type": "stream",
     "text": [
      "c:\\Users\\sylva\\AppData\\Local\\Programs\\Python\\Python310\\lib\\site-packages\\sklearn\\preprocessing\\_encoders.py:188: UserWarning: Found unknown categories in columns [2] during transform. These unknown categories will be encoded as all zeros\n",
      "  warnings.warn(\n"
     ]
    },
    {
     "name": "stdout",
     "output_type": "stream",
     "text": [
      "['awayteam', 'hometeam', 'dayofmonth', 'away_coach', 'season', 'kicks_return_yds_MA_5_away', 'fumbles_rec_MA_5_away', 'rec_yds_MA_5_away', 'interceptions_MA_5_home', 'month', 'kicks_return_td_MA_5_home', 'delta_day_away', 'defense_sacks_MA_5_home', 'interceptions_td_MA_5_away', 'kicks_return_yds_MA_5_home', 'temperature', 'kicks_return_td_MA_5_away', 'punt_return_yds_MA_5_away', 'pass_td_MA_5_home', 'rec_td_MA_5_away', 'fumbles_MA_5_away', 'pass_yds_MA_5_home', 'wind', 'weather_type', 'fumbles_MA_5_home', 'stade', 'pass_td_MA_5_away', 'interceptions_td_MA_5_home', 'humidity', 'kicking_pts_MA_5_away']\n"
     ]
    },
    {
     "name": "stderr",
     "output_type": "stream",
     "text": [
      "c:\\Users\\sylva\\AppData\\Local\\Programs\\Python\\Python310\\lib\\site-packages\\sklearn\\preprocessing\\_encoders.py:188: UserWarning: Found unknown categories in columns [2] during transform. These unknown categories will be encoded as all zeros\n",
      "  warnings.warn(\n"
     ]
    },
    {
     "name": "stdout",
     "output_type": "stream",
     "text": [
      "['awayteam', 'hometeam', 'away_coach', 'delta_day_home', 'season', 'kicks_return_yds_MA_5_away', 'rec_yds_MA_5_away', 'interceptions_MA_5_home', 'month', 'rec_yds_MA_5_home', 'kicking_pts_MA_5_home', 'delta_day_away', 'rush_yds_MA_5_away', 'location', 'defense_sacks_MA_5_home', 'streak_away', 'interceptions_MA_5_away', 'people', 'defense_td_MA_5_home', 'kicks_return_td_MA_5_away', 'punt_return_yds_MA_5_away', 'fumbles_MA_5_away', 'week', 'rush_td_MA_5_away', 'wind', 'rush_yds_MA_5_home', 'fumbles_MA_5_home', 'pass_yds_MA_5_away', 'stade']\n"
     ]
    },
    {
     "name": "stderr",
     "output_type": "stream",
     "text": [
      "c:\\Users\\sylva\\AppData\\Local\\Programs\\Python\\Python310\\lib\\site-packages\\sklearn\\preprocessing\\_encoders.py:188: UserWarning: Found unknown categories in columns [2] during transform. These unknown categories will be encoded as all zeros\n",
      "  warnings.warn(\n"
     ]
    },
    {
     "name": "stdout",
     "output_type": "stream",
     "text": [
      "['awayteam', 'hometeam', 'dayofmonth', 'season', 'home_coach', 'fumbles_rec_MA_5_away', 'interceptions_MA_5_home', 'month', 'punt_return_yds_MA_5_home', 'kicks_return_td_MA_5_home', 'defense_sacks_MA_5_home', 'rush_td_MA_5_home', 'defense_td_MA_5_home', 'temperature', 'fumbles_MA_5_away', 'kicks_return_td_MA_5_away', 'punt_return_yds_MA_5_away', 'wind', 'rec_td_MA_5_home', 'rush_yds_MA_5_home', 'fumbles_rec_MA_5_home', 'kicking_pts_MA_5_away']\n",
      "['awayteam', 'hometeam', 'rush_yds_MA_5_away', 'pass_yds_MA_5_home', 'streak_away', 'streak_home', 'interceptions_MA_5_home', 'dayofweek', 'away_coach', 'rec_yds_MA_5_home', 'humidity', 'pass_yds_MA_5_away', 'pass_td_MA_5_away', 'month', 'punt_return_yds_MA_5_home', 'rec_td_MA_5_away', 'kicking_pts_MA_5_home', 'week', 'delta_day_away']\n"
     ]
    },
    {
     "name": "stderr",
     "output_type": "stream",
     "text": [
      "c:\\Users\\sylva\\AppData\\Local\\Programs\\Python\\Python310\\lib\\site-packages\\sklearn\\preprocessing\\_encoders.py:188: UserWarning: Found unknown categories in columns [2] during transform. These unknown categories will be encoded as all zeros\n",
      "  warnings.warn(\n"
     ]
    },
    {
     "name": "stdout",
     "output_type": "stream",
     "text": [
      "['awayteam', 'hometeam', 'defense_td_MA_5_away', 'home_coach', 'kicks_return_yds_MA_5_away', 'dayofweek', 'rec_yds_MA_5_home', 'kicking_pts_MA_5_home', 'kicks_return_td_MA_5_home', 'rush_yds_MA_5_away', 'defense_sacks_MA_5_home', 'streak_away', 'interceptions_MA_5_away', 'interceptions_td_MA_5_away', 'kicks_return_yds_MA_5_home', 'defense_td_MA_5_home', 'kicks_return_td_MA_5_away', 'punt_return_yds_MA_5_away', 'pass_td_MA_5_home', 'rec_td_MA_5_away', 'rush_td_MA_5_away', 'defense_sacks_MA_5_away', 'streak_home', 'rec_td_MA_5_home', 'rush_yds_MA_5_home', 'weather_type', 'fumbles_MA_5_home', 'pass_yds_MA_5_away', 'pass_td_MA_5_away', 'interceptions_td_MA_5_home']\n",
      "['awayteam', 'hometeam', 'rush_yds_MA_5_away']\n",
      "['awayteam', 'hometeam', 'dayofmonth', 'defense_td_MA_5_away', 'away_coach', 'delta_day_home', 'season', 'kicks_return_yds_MA_5_away', 'fumbles_rec_MA_5_away', 'rec_yds_MA_5_away', 'dayofweek', 'kicks_return_td_MA_5_home', 'delta_day_away', 'location', 'streak_away', 'people', 'defense_td_MA_5_home', 'temperature', 'kicks_return_td_MA_5_away', 'fumbles_MA_5_away', 'pass_td_MA_5_home', 'rec_td_MA_5_away', 'week', 'pass_yds_MA_5_home', 'rush_td_MA_5_away', 'wind', 'defense_sacks_MA_5_away', 'streak_home', 'pass_yds_MA_5_away', 'fumbles_rec_MA_5_home', 'stade', 'pass_td_MA_5_away', 'interceptions_td_MA_5_home', 'humidity', 'kicking_pts_MA_5_away']\n"
     ]
    },
    {
     "name": "stderr",
     "output_type": "stream",
     "text": [
      "c:\\Users\\sylva\\AppData\\Local\\Programs\\Python\\Python310\\lib\\site-packages\\sklearn\\preprocessing\\_encoders.py:188: UserWarning: Found unknown categories in columns [2] during transform. These unknown categories will be encoded as all zeros\n",
      "  warnings.warn(\n"
     ]
    },
    {
     "name": "stdout",
     "output_type": "stream",
     "text": [
      "['awayteam', 'hometeam', 'dayofmonth', 'defense_td_MA_5_away', 'away_coach', 'delta_day_home', 'home_coach', 'kicks_return_yds_MA_5_away', 'interceptions_MA_5_home', 'dayofweek', 'month', 'delta_day_away', 'rush_yds_MA_5_away', 'interceptions_MA_5_away', 'people', 'kicks_return_td_MA_5_away', 'punt_return_yds_MA_5_away', 'pass_td_MA_5_home', 'week', 'pass_yds_MA_5_home', 'wind', 'defense_sacks_MA_5_away', 'rush_yds_MA_5_home', 'weather_type', 'fumbles_MA_5_home', 'stade', 'humidity']\n"
     ]
    },
    {
     "name": "stderr",
     "output_type": "stream",
     "text": [
      "c:\\Users\\sylva\\AppData\\Local\\Programs\\Python\\Python310\\lib\\site-packages\\sklearn\\preprocessing\\_encoders.py:188: UserWarning: Found unknown categories in columns [2] during transform. These unknown categories will be encoded as all zeros\n",
      "  warnings.warn(\n"
     ]
    },
    {
     "name": "stdout",
     "output_type": "stream",
     "text": [
      "['awayteam', 'hometeam', 'pass_yds_MA_5_home', 'rush_yds_MA_5_away', 'streak_away', 'defense_sacks_MA_5_away', 'rec_yds_MA_5_away', 'rush_td_MA_5_home', 'defense_td_MA_5_away', 'interceptions_MA_5_home', 'people', 'delta_day_home', 'punt_return_yds_MA_5_away', 'rec_td_MA_5_away', 'kicking_pts_MA_5_home', 'week', 'delta_day_away']\n",
      "['awayteam', 'hometeam', 'pass_yds_MA_5_home', 'rush_td_MA_5_away', 'streak_away', 'rec_yds_MA_5_away', 'rush_yds_MA_5_home', 'stade', 'defense_td_MA_5_home', 'month', 'kicks_return_td_MA_5_home']\n",
      "['awayteam', 'hometeam', 'away_coach', 'delta_day_home', 'season', 'home_coach', 'kicks_return_yds_MA_5_away', 'interceptions_MA_5_home', 'rec_yds_MA_5_home', 'kicks_return_td_MA_5_home', 'kicking_pts_MA_5_home', 'delta_day_away', 'streak_away', 'interceptions_MA_5_away', 'rush_td_MA_5_home', 'temperature', 'fumbles_MA_5_away', 'punt_return_yds_MA_5_away', 'rec_td_MA_5_away', 'week', 'wind', 'streak_home', 'fumbles_MA_5_home', 'pass_yds_MA_5_away', 'pass_td_MA_5_away', 'interceptions_td_MA_5_home']\n"
     ]
    },
    {
     "name": "stderr",
     "output_type": "stream",
     "text": [
      "c:\\Users\\sylva\\AppData\\Local\\Programs\\Python\\Python310\\lib\\site-packages\\sklearn\\preprocessing\\_encoders.py:188: UserWarning: Found unknown categories in columns [2] during transform. These unknown categories will be encoded as all zeros\n",
      "  warnings.warn(\n"
     ]
    },
    {
     "name": "stdout",
     "output_type": "stream",
     "text": [
      "['awayteam', 'hometeam', 'defense_td_MA_5_away', 'delta_day_home', 'home_coach', 'kicks_return_yds_MA_5_away', 'rec_yds_MA_5_away', 'month', 'kicking_pts_MA_5_home', 'delta_day_away', 'rush_yds_MA_5_away', 'location', 'defense_sacks_MA_5_home', 'streak_away', 'interceptions_MA_5_away', 'interceptions_td_MA_5_away', 'rush_td_MA_5_home', 'people', 'kicks_return_yds_MA_5_home', 'defense_td_MA_5_home', 'temperature', 'fumbles_MA_5_away', 'kicks_return_td_MA_5_away', 'pass_td_MA_5_home', 'week', 'pass_yds_MA_5_home', 'rush_td_MA_5_away', 'wind', 'defense_sacks_MA_5_away', 'streak_home', 'rec_td_MA_5_home', 'fumbles_MA_5_home', 'pass_yds_MA_5_away', 'fumbles_rec_MA_5_home', 'pass_td_MA_5_away', 'interceptions_td_MA_5_home', 'humidity', 'kicking_pts_MA_5_away']\n",
      "['awayteam', 'hometeam', 'dayofmonth', 'defense_td_MA_5_away', 'away_coach', 'fumbles_rec_MA_5_away', 'punt_return_yds_MA_5_home', 'kicking_pts_MA_5_home', 'kicks_return_td_MA_5_home', 'delta_day_away', 'defense_sacks_MA_5_home', 'rush_td_MA_5_home', 'people', 'kicks_return_yds_MA_5_home', 'defense_td_MA_5_home', 'fumbles_MA_5_away', 'rec_td_MA_5_away', 'pass_td_MA_5_home', 'week', 'pass_yds_MA_5_home', 'wind', 'streak_home', 'rush_yds_MA_5_home', 'fumbles_MA_5_home', 'pass_yds_MA_5_away', 'pass_td_MA_5_away', 'stade', 'interceptions_td_MA_5_home', 'humidity']\n"
     ]
    },
    {
     "name": "stderr",
     "output_type": "stream",
     "text": [
      "c:\\Users\\sylva\\AppData\\Local\\Programs\\Python\\Python310\\lib\\site-packages\\sklearn\\preprocessing\\_encoders.py:188: UserWarning: Found unknown categories in columns [2] during transform. These unknown categories will be encoded as all zeros\n",
      "  warnings.warn(\n"
     ]
    },
    {
     "name": "stdout",
     "output_type": "stream",
     "text": [
      "['awayteam', 'hometeam', 'defense_sacks_MA_5_home', 'streak_home', 'rec_td_MA_5_home', 'rec_yds_MA_5_away', 'people', 'fumbles_rec_MA_5_home', 'defense_td_MA_5_home', 'punt_return_yds_MA_5_away', 'humidity', 'delta_day_away']\n",
      "['awayteam', 'hometeam', 'pass_td_MA_5_home', 'defense_sacks_MA_5_home', 'fumbles_rec_MA_5_away', 'streak_home', 'interceptions_td_MA_5_away', 'rush_td_MA_5_home', 'dayofweek', 'fumbles_MA_5_home', 'pass_yds_MA_5_away', 'month', 'punt_return_yds_MA_5_home', 'fumbles_MA_5_away', 'rec_yds_MA_5_home', 'kicking_pts_MA_5_home']\n",
      "['awayteam', 'hometeam', 'pass_yds_MA_5_home', 'wind', 'location', 'streak_away', 'kicks_return_yds_MA_5_away', 'rush_yds_MA_5_home', 'away_coach', 'delta_day_home', 'kicks_return_yds_MA_5_home', 'punt_return_yds_MA_5_away', 'fumbles_MA_5_away', 'rec_td_MA_5_away', 'kicks_return_td_MA_5_home', 'week']\n"
     ]
    },
    {
     "name": "stderr",
     "output_type": "stream",
     "text": [
      "c:\\Users\\sylva\\AppData\\Local\\Programs\\Python\\Python310\\lib\\site-packages\\sklearn\\preprocessing\\_encoders.py:188: UserWarning: Found unknown categories in columns [3] during transform. These unknown categories will be encoded as all zeros\n",
      "  warnings.warn(\n"
     ]
    },
    {
     "name": "stdout",
     "output_type": "stream",
     "text": [
      "['awayteam', 'hometeam', 'dayofmonth', 'defense_td_MA_5_away', 'away_coach', 'delta_day_home', 'season', 'kicks_return_yds_MA_5_away', 'fumbles_rec_MA_5_away', 'interceptions_MA_5_home', 'rec_yds_MA_5_away', 'month', 'punt_return_yds_MA_5_home', 'rec_yds_MA_5_home', 'kicking_pts_MA_5_home', 'delta_day_away', 'rush_yds_MA_5_away', 'defense_sacks_MA_5_home', 'interceptions_td_MA_5_away', 'rush_td_MA_5_home', 'kicks_return_yds_MA_5_home', 'week', 'rush_td_MA_5_away', 'streak_home', 'rec_td_MA_5_home', 'rush_yds_MA_5_home', 'weather_type', 'pass_yds_MA_5_away', 'pass_td_MA_5_away', 'stade', 'humidity']\n"
     ]
    },
    {
     "name": "stderr",
     "output_type": "stream",
     "text": [
      "c:\\Users\\sylva\\AppData\\Local\\Programs\\Python\\Python310\\lib\\site-packages\\sklearn\\preprocessing\\_encoders.py:188: UserWarning: Found unknown categories in columns [2] during transform. These unknown categories will be encoded as all zeros\n",
      "  warnings.warn(\n"
     ]
    },
    {
     "name": "stdout",
     "output_type": "stream",
     "text": [
      "['awayteam', 'hometeam', 'dayofmonth', 'defense_td_MA_5_away', 'delta_day_home', 'season', 'home_coach', 'fumbles_rec_MA_5_away', 'kicks_return_yds_MA_5_away', 'interceptions_MA_5_home', 'rec_yds_MA_5_away', 'month', 'rec_yds_MA_5_home', 'kicks_return_td_MA_5_home', 'kicking_pts_MA_5_home', 'delta_day_away', 'rush_yds_MA_5_away', 'location', 'interceptions_MA_5_away', 'kicks_return_yds_MA_5_home', 'defense_td_MA_5_home', 'fumbles_MA_5_away', 'punt_return_yds_MA_5_away', 'pass_td_MA_5_home', 'rush_td_MA_5_away', 'streak_home', 'rush_yds_MA_5_home', 'fumbles_MA_5_home', 'pass_yds_MA_5_away', 'fumbles_rec_MA_5_home', 'pass_td_MA_5_away', 'stade', 'humidity', 'kicking_pts_MA_5_away']\n",
      "['awayteam', 'hometeam', 'rush_yds_MA_5_away', 'defense_sacks_MA_5_away', 'interceptions_MA_5_away', 'rush_td_MA_5_home', 'defense_td_MA_5_away', 'pass_td_MA_5_away', 'interceptions_td_MA_5_home', 'kicks_return_td_MA_5_away', 'delta_day_away']\n",
      "['awayteam', 'hometeam', 'dayofmonth', 'interceptions_MA_5_away', 'rec_yds_MA_5_away', 'defense_td_MA_5_away', 'dayofweek', 'weather_type', 'delta_day_home', 'pass_yds_MA_5_away', 'season', 'fumbles_MA_5_home', 'pass_td_MA_5_away', 'stade', 'defense_td_MA_5_home', 'fumbles_MA_5_away', 'rec_td_MA_5_away', 'kicking_pts_MA_5_home', 'week']\n",
      "['awayteam', 'hometeam', 'dayofmonth', 'delta_day_home', 'season', 'home_coach', 'kicks_return_yds_MA_5_away', 'fumbles_rec_MA_5_away', 'interceptions_MA_5_home', 'dayofweek', 'punt_return_yds_MA_5_home', 'rec_yds_MA_5_home', 'delta_day_away', 'rush_yds_MA_5_away', 'interceptions_MA_5_away', 'interceptions_td_MA_5_away', 'people', 'temperature', 'pass_td_MA_5_home', 'pass_yds_MA_5_home', 'rush_td_MA_5_away', 'wind', 'defense_sacks_MA_5_away', 'fumbles_MA_5_home', 'pass_yds_MA_5_away', 'fumbles_rec_MA_5_home', 'pass_td_MA_5_away', 'interceptions_td_MA_5_home']\n",
      "['awayteam', 'hometeam', 'home_coach', 'fumbles_rec_MA_5_away', 'kicks_return_yds_MA_5_away', 'interceptions_MA_5_home', 'dayofweek', 'month', 'rec_yds_MA_5_home', 'kicks_return_td_MA_5_home', 'delta_day_away', 'rush_yds_MA_5_away', 'temperature', 'rec_td_MA_5_away', 'punt_return_yds_MA_5_away', 'rush_td_MA_5_away', 'wind', 'rec_td_MA_5_home', 'fumbles_MA_5_home', 'pass_yds_MA_5_away', 'fumbles_rec_MA_5_home', 'humidity', 'kicking_pts_MA_5_away']\n",
      "['awayteam', 'hometeam', 'pass_td_MA_5_home', 'location', 'fumbles_rec_MA_5_away', 'streak_home', 'rec_td_MA_5_home', 'interceptions_td_MA_5_away', 'defense_td_MA_5_away', 'rush_yds_MA_5_home', 'rec_yds_MA_5_home', 'rush_td_MA_5_home', 'people', 'season', 'fumbles_rec_MA_5_home', 'pass_yds_MA_5_away', 'interceptions_td_MA_5_home', 'rec_td_MA_5_away', 'humidity', 'week']\n",
      "['awayteam', 'hometeam', 'rush_yds_MA_5_away', 'pass_yds_MA_5_home', 'pass_td_MA_5_home', 'streak_home', 'rec_yds_MA_5_home', 'weather_type', 'humidity', 'pass_td_MA_5_away', 'defense_td_MA_5_home', 'punt_return_yds_MA_5_away', 'kicks_return_td_MA_5_home', 'rec_td_MA_5_away']\n",
      "['awayteam', 'hometeam', 'dayofmonth', 'kicks_return_yds_MA_5_away', 'fumbles_rec_MA_5_away', 'rec_yds_MA_5_away', 'dayofweek', 'month', 'rec_yds_MA_5_home', 'kicking_pts_MA_5_home', 'delta_day_away', 'location', 'defense_sacks_MA_5_home', 'streak_away', 'interceptions_MA_5_away', 'interceptions_td_MA_5_away', 'rush_td_MA_5_home', 'people', 'defense_td_MA_5_home', 'temperature', 'fumbles_MA_5_away', 'punt_return_yds_MA_5_away', 'pass_td_MA_5_home', 'defense_sacks_MA_5_away', 'streak_home', 'rec_td_MA_5_home', 'weather_type', 'interceptions_td_MA_5_home']\n",
      "['awayteam', 'hometeam', 'away_coach', 'delta_day_home', 'kicks_return_yds_MA_5_away', 'rec_yds_MA_5_away', 'interceptions_MA_5_home', 'dayofweek', 'punt_return_yds_MA_5_home', 'kicking_pts_MA_5_home', 'location', 'defense_sacks_MA_5_home', 'interceptions_MA_5_away', 'interceptions_td_MA_5_away', 'people', 'kicks_return_yds_MA_5_home', 'defense_td_MA_5_home', 'temperature', 'fumbles_MA_5_away', 'punt_return_yds_MA_5_away', 'rec_td_MA_5_away', 'week', 'rush_td_MA_5_away', 'defense_sacks_MA_5_away', 'streak_home', 'rec_td_MA_5_home', 'rush_yds_MA_5_home', 'weather_type', 'fumbles_MA_5_home', 'fumbles_rec_MA_5_home', 'interceptions_td_MA_5_home', 'humidity', 'kicking_pts_MA_5_away']\n"
     ]
    },
    {
     "name": "stderr",
     "output_type": "stream",
     "text": [
      "c:\\Users\\sylva\\AppData\\Local\\Programs\\Python\\Python310\\lib\\site-packages\\sklearn\\preprocessing\\_encoders.py:188: UserWarning: Found unknown categories in columns [2] during transform. These unknown categories will be encoded as all zeros\n",
      "  warnings.warn(\n"
     ]
    },
    {
     "name": "stdout",
     "output_type": "stream",
     "text": [
      "['awayteam', 'hometeam', 'rush_yds_MA_5_away', 'rush_td_MA_5_away', 'pass_td_MA_5_home', 'defense_sacks_MA_5_home', 'kicks_return_yds_MA_5_away', 'streak_home', 'streak_away', 'defense_td_MA_5_away', 'away_coach', 'dayofweek', 'rush_yds_MA_5_home', 'rush_td_MA_5_home', 'kicks_return_yds_MA_5_home', 'month', 'kicks_return_td_MA_5_away', 'punt_return_yds_MA_5_away', 'humidity']\n"
     ]
    },
    {
     "name": "stderr",
     "output_type": "stream",
     "text": [
      "c:\\Users\\sylva\\AppData\\Local\\Programs\\Python\\Python310\\lib\\site-packages\\sklearn\\preprocessing\\_encoders.py:188: UserWarning: Found unknown categories in columns [2] during transform. These unknown categories will be encoded as all zeros\n",
      "  warnings.warn(\n"
     ]
    },
    {
     "name": "stdout",
     "output_type": "stream",
     "text": [
      "['awayteam', 'hometeam', 'rush_yds_MA_5_away', 'pass_td_MA_5_home', 'location', 'defense_sacks_MA_5_home', 'interceptions_MA_5_away', 'fumbles_MA_5_away', 'interceptions_MA_5_home', 'rush_td_MA_5_home', 'away_coach', 'dayofweek', 'rush_yds_MA_5_home', 'weather_type', 'humidity', 'delta_day_home', 'interceptions_td_MA_5_home', 'kicks_return_td_MA_5_away', 'kicking_pts_MA_5_home', 'delta_day_away']\n"
     ]
    },
    {
     "name": "stderr",
     "output_type": "stream",
     "text": [
      "c:\\Users\\sylva\\AppData\\Local\\Programs\\Python\\Python310\\lib\\site-packages\\sklearn\\preprocessing\\_encoders.py:188: UserWarning: Found unknown categories in columns [3] during transform. These unknown categories will be encoded as all zeros\n",
      "  warnings.warn(\n"
     ]
    },
    {
     "name": "stdout",
     "output_type": "stream",
     "text": [
      "['awayteam', 'hometeam', 'home_coach', 'rec_td_MA_5_home', 'rush_td_MA_5_home', 'dayofweek', 'people', 'weather_type', 'fumbles_MA_5_home', 'delta_day_home', 'pass_td_MA_5_away', 'temperature', 'punt_return_yds_MA_5_home', 'kicks_return_td_MA_5_away', 'rec_yds_MA_5_home']\n",
      "['awayteam', 'hometeam', 'dayofmonth', 'defense_td_MA_5_away', 'season', 'fumbles_rec_MA_5_away', 'kicks_return_yds_MA_5_away', 'interceptions_MA_5_home', 'dayofweek', 'month', 'rec_yds_MA_5_home', 'kicks_return_td_MA_5_home', 'rush_yds_MA_5_away', 'location', 'defense_sacks_MA_5_home', 'interceptions_MA_5_away', 'rush_td_MA_5_home', 'kicks_return_yds_MA_5_home', 'defense_td_MA_5_home', 'temperature', 'punt_return_yds_MA_5_away', 'pass_td_MA_5_home', 'pass_yds_MA_5_home', 'wind', 'defense_sacks_MA_5_away', 'streak_home', 'weather_type', 'pass_yds_MA_5_away', 'fumbles_rec_MA_5_home', 'pass_td_MA_5_away', 'stade', 'interceptions_td_MA_5_home', 'kicking_pts_MA_5_away']\n",
      "['awayteam', 'hometeam', 'dayofmonth', 'away_coach', 'season', 'rec_yds_MA_5_away', 'interceptions_MA_5_home', 'punt_return_yds_MA_5_home', 'kicks_return_td_MA_5_home', 'kicking_pts_MA_5_home', 'delta_day_away', 'rush_yds_MA_5_away', 'location', 'interceptions_MA_5_away', 'rush_td_MA_5_home', 'people', 'temperature', 'kicks_return_td_MA_5_away', 'rec_td_MA_5_away', 'pass_td_MA_5_home', 'fumbles_MA_5_away', 'week', 'pass_yds_MA_5_home', 'rush_yds_MA_5_home', 'weather_type', 'fumbles_MA_5_home', 'fumbles_rec_MA_5_home', 'stade', 'pass_td_MA_5_away']\n"
     ]
    },
    {
     "name": "stderr",
     "output_type": "stream",
     "text": [
      "c:\\Users\\sylva\\AppData\\Local\\Programs\\Python\\Python310\\lib\\site-packages\\sklearn\\preprocessing\\_encoders.py:188: UserWarning: Found unknown categories in columns [2] during transform. These unknown categories will be encoded as all zeros\n",
      "  warnings.warn(\n"
     ]
    },
    {
     "name": "stdout",
     "output_type": "stream",
     "text": [
      "['awayteam', 'hometeam', 'rush_td_MA_5_away', 'wind', 'defense_sacks_MA_5_away', 'kicks_return_yds_MA_5_away', 'interceptions_MA_5_away', 'streak_away', 'rec_yds_MA_5_away', 'defense_td_MA_5_away', 'dayofweek', 'rush_yds_MA_5_home', 'rec_yds_MA_5_home', 'kicks_return_td_MA_5_home', 'interceptions_MA_5_home', 'kicks_return_yds_MA_5_home', 'fumbles_MA_5_away', 'punt_return_yds_MA_5_away', 'humidity', 'delta_day_away']\n",
      "['awayteam', 'hometeam', 'rush_yds_MA_5_away', 'pass_yds_MA_5_home', 'dayofmonth', 'kicks_return_yds_MA_5_away', 'rec_yds_MA_5_away', 'people', 'weather_type', 'delta_day_home', 'season', 'stade', 'temperature', 'interceptions_td_MA_5_home', 'kicks_return_yds_MA_5_home', 'week']\n",
      "['awayteam', 'hometeam', 'defense_td_MA_5_away', 'delta_day_home', 'season', 'interceptions_MA_5_home', 'rec_yds_MA_5_home', 'delta_day_away', 'rush_yds_MA_5_away', 'location', 'interceptions_td_MA_5_away', 'rush_td_MA_5_home', 'people', 'temperature', 'defense_td_MA_5_home', 'fumbles_MA_5_away', 'punt_return_yds_MA_5_away', 'rec_td_MA_5_away', 'week', 'rec_td_MA_5_home', 'fumbles_MA_5_home', 'pass_yds_MA_5_away', 'fumbles_rec_MA_5_home', 'pass_td_MA_5_away', 'stade', 'interceptions_td_MA_5_home']\n",
      "['awayteam', 'hometeam', 'away_coach', 'delta_day_home', 'home_coach', 'fumbles_rec_MA_5_away', 'kicks_return_yds_MA_5_away', 'interceptions_MA_5_home', 'dayofweek', 'month', 'punt_return_yds_MA_5_home', 'rec_yds_MA_5_home', 'delta_day_away', 'rush_yds_MA_5_away', 'location', 'defense_sacks_MA_5_home', 'people', 'temperature', 'defense_td_MA_5_home', 'fumbles_MA_5_away', 'rec_td_MA_5_away', 'pass_td_MA_5_home', 'punt_return_yds_MA_5_away', 'rush_td_MA_5_away', 'wind', 'defense_sacks_MA_5_away', 'rush_yds_MA_5_home', 'weather_type', 'fumbles_MA_5_home', 'fumbles_rec_MA_5_home', 'stade', 'pass_td_MA_5_away', 'humidity']\n"
     ]
    },
    {
     "name": "stderr",
     "output_type": "stream",
     "text": [
      "c:\\Users\\sylva\\AppData\\Local\\Programs\\Python\\Python310\\lib\\site-packages\\sklearn\\preprocessing\\_encoders.py:188: UserWarning: Found unknown categories in columns [2] during transform. These unknown categories will be encoded as all zeros\n",
      "  warnings.warn(\n"
     ]
    },
    {
     "name": "stdout",
     "output_type": "stream",
     "text": [
      "['awayteam', 'hometeam', 'dayofmonth', 'defense_td_MA_5_away', 'away_coach', 'season', 'home_coach', 'kicking_pts_MA_5_home', 'delta_day_away', 'rush_yds_MA_5_away', 'defense_sacks_MA_5_home', 'streak_away', 'interceptions_MA_5_away', 'interceptions_td_MA_5_away', 'people', 'defense_td_MA_5_home', 'fumbles_MA_5_away', 'punt_return_yds_MA_5_away', 'pass_yds_MA_5_home', 'rush_td_MA_5_away', 'defense_sacks_MA_5_away', 'fumbles_rec_MA_5_home', 'stade', 'kicking_pts_MA_5_away']\n"
     ]
    },
    {
     "name": "stderr",
     "output_type": "stream",
     "text": [
      "c:\\Users\\sylva\\AppData\\Local\\Programs\\Python\\Python310\\lib\\site-packages\\sklearn\\preprocessing\\_encoders.py:188: UserWarning: Found unknown categories in columns [2] during transform. These unknown categories will be encoded as all zeros\n",
      "  warnings.warn(\n"
     ]
    },
    {
     "name": "stdout",
     "output_type": "stream",
     "text": [
      "['awayteam', 'hometeam', 'dayofmonth', 'defense_td_MA_5_away', 'delta_day_home', 'home_coach', 'kicks_return_yds_MA_5_away', 'fumbles_rec_MA_5_away', 'rec_yds_MA_5_away', 'dayofweek', 'month', 'punt_return_yds_MA_5_home', 'rec_yds_MA_5_home', 'kicking_pts_MA_5_home', 'kicks_return_td_MA_5_home', 'delta_day_away', 'rush_yds_MA_5_away', 'location', 'streak_away', 'interceptions_MA_5_away', 'interceptions_td_MA_5_away', 'rush_td_MA_5_home', 'people', 'defense_td_MA_5_home', 'fumbles_MA_5_away', 'rec_td_MA_5_away', 'defense_sacks_MA_5_away', 'streak_home', 'fumbles_MA_5_home', 'fumbles_rec_MA_5_home', 'pass_td_MA_5_away', 'interceptions_td_MA_5_home', 'humidity']\n",
      "['awayteam', 'hometeam', 'fumbles_MA_5_home', 'pass_td_MA_5_away', 'month', 'rec_yds_MA_5_home', 'kicking_pts_MA_5_away']\n",
      "['awayteam', 'hometeam', 'dayofmonth', 'interceptions_td_MA_5_away', 'weather_type', 'pass_td_MA_5_away', 'pass_td_MA_5_home']\n",
      "['awayteam', 'hometeam', 'away_coach', 'delta_day_home', 'interceptions_MA_5_home', 'month', 'punt_return_yds_MA_5_home', 'rec_yds_MA_5_home', 'delta_day_away', 'rush_yds_MA_5_away', 'people', 'defense_td_MA_5_home', 'temperature', 'fumbles_MA_5_away', 'kicks_return_td_MA_5_away', 'wind', 'defense_sacks_MA_5_away', 'rush_yds_MA_5_home', 'fumbles_MA_5_home', 'pass_yds_MA_5_away', 'fumbles_rec_MA_5_home']\n"
     ]
    },
    {
     "name": "stderr",
     "output_type": "stream",
     "text": [
      "c:\\Users\\sylva\\AppData\\Local\\Programs\\Python\\Python310\\lib\\site-packages\\sklearn\\preprocessing\\_encoders.py:188: UserWarning: Found unknown categories in columns [2] during transform. These unknown categories will be encoded as all zeros\n",
      "  warnings.warn(\n"
     ]
    },
    {
     "name": "stdout",
     "output_type": "stream",
     "text": [
      "['awayteam', 'hometeam', 'dayofmonth', 'away_coach', 'delta_day_home', 'home_coach', 'fumbles_rec_MA_5_away', 'kicks_return_yds_MA_5_away', 'rec_yds_MA_5_away', 'punt_return_yds_MA_5_home', 'rec_yds_MA_5_home', 'rush_yds_MA_5_away', 'location', 'interceptions_MA_5_away', 'interceptions_td_MA_5_away', 'defense_td_MA_5_home', 'pass_td_MA_5_home', 'week', 'rush_td_MA_5_away', 'wind', 'defense_sacks_MA_5_away', 'weather_type', 'fumbles_MA_5_home', 'stade', 'pass_td_MA_5_away', 'humidity']\n"
     ]
    },
    {
     "name": "stderr",
     "output_type": "stream",
     "text": [
      "c:\\Users\\sylva\\AppData\\Local\\Programs\\Python\\Python310\\lib\\site-packages\\sklearn\\preprocessing\\_encoders.py:188: UserWarning: Found unknown categories in columns [2] during transform. These unknown categories will be encoded as all zeros\n",
      "  warnings.warn(\n"
     ]
    },
    {
     "name": "stdout",
     "output_type": "stream",
     "text": [
      "['awayteam', 'hometeam', 'rush_yds_MA_5_away', 'rush_td_MA_5_away', 'location', 'fumbles_rec_MA_5_away', 'kicks_return_yds_MA_5_away', 'defense_sacks_MA_5_away', 'interceptions_MA_5_home', 'season', 'defense_td_MA_5_home', 'interceptions_td_MA_5_home', 'punt_return_yds_MA_5_home', 'fumbles_MA_5_away', 'punt_return_yds_MA_5_away', 'kicks_return_td_MA_5_home']\n",
      "['awayteam', 'hometeam', 'rush_yds_MA_5_away', 'dayofmonth', 'fumbles_rec_MA_5_away', 'interceptions_MA_5_away', 'delta_day_home', 'kicks_return_yds_MA_5_home', 'kicking_pts_MA_5_home', 'kicking_pts_MA_5_away']\n",
      "['awayteam', 'hometeam', 'dayofmonth', 'defense_td_MA_5_away', 'season', 'home_coach', 'kicks_return_yds_MA_5_away', 'fumbles_rec_MA_5_away', 'rec_yds_MA_5_away', 'interceptions_MA_5_home', 'dayofweek', 'punt_return_yds_MA_5_home', 'kicking_pts_MA_5_home', 'rush_yds_MA_5_away', 'people', 'kicks_return_td_MA_5_away', 'week', 'wind', 'defense_sacks_MA_5_away', 'streak_home', 'fumbles_MA_5_home', 'pass_yds_MA_5_away', 'fumbles_rec_MA_5_home', 'pass_td_MA_5_away', 'humidity']\n",
      "['awayteam', 'hometeam', 'defense_td_MA_5_away', 'home_coach', 'kicks_return_yds_MA_5_away', 'rec_yds_MA_5_away', 'month', 'punt_return_yds_MA_5_home', 'kicking_pts_MA_5_home', 'kicks_return_td_MA_5_home', 'rush_yds_MA_5_away', 'location', 'streak_away', 'interceptions_MA_5_away', 'rush_td_MA_5_home', 'temperature', 'defense_td_MA_5_home', 'kicks_return_td_MA_5_away', 'rec_td_MA_5_away', 'week', 'pass_yds_MA_5_home', 'wind', 'defense_sacks_MA_5_away', 'weather_type', 'fumbles_rec_MA_5_home', 'interceptions_td_MA_5_home', 'humidity']\n",
      "['awayteam', 'hometeam', 'dayofmonth', 'away_coach', 'home_coach', 'kicks_return_yds_MA_5_away', 'fumbles_rec_MA_5_away', 'rec_yds_MA_5_away', 'dayofweek', 'month', 'delta_day_away', 'defense_sacks_MA_5_home', 'streak_away', 'interceptions_MA_5_away', 'rush_td_MA_5_home', 'people', 'kicks_return_yds_MA_5_home', 'defense_td_MA_5_home', 'temperature', 'fumbles_MA_5_away', 'punt_return_yds_MA_5_away', 'pass_td_MA_5_home', 'kicks_return_td_MA_5_away', 'streak_home', 'rush_yds_MA_5_home', 'weather_type', 'fumbles_MA_5_home', 'pass_yds_MA_5_away', 'interceptions_td_MA_5_home', 'kicking_pts_MA_5_away']\n"
     ]
    },
    {
     "name": "stderr",
     "output_type": "stream",
     "text": [
      "c:\\Users\\sylva\\AppData\\Local\\Programs\\Python\\Python310\\lib\\site-packages\\sklearn\\preprocessing\\_encoders.py:188: UserWarning: Found unknown categories in columns [2] during transform. These unknown categories will be encoded as all zeros\n",
      "  warnings.warn(\n"
     ]
    },
    {
     "name": "stdout",
     "output_type": "stream",
     "text": [
      "['awayteam', 'hometeam', 'away_coach', 'delta_day_home', 'kicks_return_yds_MA_5_away', 'fumbles_rec_MA_5_away', 'interceptions_MA_5_home', 'month', 'defense_sacks_MA_5_home', 'streak_away', 'interceptions_td_MA_5_away', 'kicks_return_yds_MA_5_home', 'fumbles_MA_5_away', 'pass_yds_MA_5_home', 'defense_sacks_MA_5_away', 'streak_home', 'rec_td_MA_5_home', 'rush_yds_MA_5_home', 'weather_type', 'fumbles_MA_5_home', 'pass_yds_MA_5_away', 'fumbles_rec_MA_5_home', 'stade', 'interceptions_td_MA_5_home']\n"
     ]
    },
    {
     "name": "stderr",
     "output_type": "stream",
     "text": [
      "c:\\Users\\sylva\\AppData\\Local\\Programs\\Python\\Python310\\lib\\site-packages\\sklearn\\preprocessing\\_encoders.py:188: UserWarning: Found unknown categories in columns [2] during transform. These unknown categories will be encoded as all zeros\n",
      "  warnings.warn(\n"
     ]
    },
    {
     "name": "stdout",
     "output_type": "stream",
     "text": [
      "['awayteam', 'hometeam', 'rush_yds_MA_5_away', 'home_coach', 'location', 'defense_sacks_MA_5_home', 'fumbles_rec_MA_5_away', 'interceptions_MA_5_home', 'rush_yds_MA_5_home', 'defense_td_MA_5_away', 'rush_td_MA_5_home', 'weather_type', 'fumbles_MA_5_home', 'season', 'temperature', 'month']\n",
      "['awayteam', 'hometeam', 'pass_yds_MA_5_home', 'location', 'defense_sacks_MA_5_home', 'rush_yds_MA_5_home', 'kicks_return_td_MA_5_home']\n",
      "['awayteam', 'hometeam', 'streak_away', 'kicking_pts_MA_5_home', 'defense_td_MA_5_away', 'fumbles_rec_MA_5_home', 'stade', 'defense_td_MA_5_home', 'kicking_pts_MA_5_away', 'pass_td_MA_5_away', 'rec_yds_MA_5_home', 'humidity', 'week']\n",
      "['awayteam', 'hometeam', 'pass_yds_MA_5_home', 'rush_td_MA_5_away', 'interceptions_MA_5_away', 'interceptions_td_MA_5_away', 'kicking_pts_MA_5_away', 'defense_td_MA_5_home', 'week']\n"
     ]
    }
   ],
   "source": [
    "features =[c for c in df.columns if ((c!=\"winner_home\") and (c!='idgame') and (c!='awayteam') and (c!='hometeam'))]\n",
    "select_features = [\"awayteam\", \"hometeam\"]\n",
    "\n",
    "\n",
    "for i in range(500):\n",
    "\n",
    "    nb_features = random.randint(1,50)\n",
    "    choice_feature = random.choices(features,k=nb_features)\n",
    "    \n",
    "    for feature in set(choice_feature):\n",
    "        select_features.append(feature)\n",
    "\n",
    "    print(select_features)\n",
    "    Y = df.loc[:,\"winner_home\"]\n",
    "    X = df.loc[:,select_features]\n",
    "\n",
    "    X_train, X_test, Y_train, Y_test = train_test_split(X, Y, test_size=0.2, random_state=0, stratify = Y)\n",
    "\n",
    "    # select automatically the numerical and categorical columns\n",
    "    num_col = X.select_dtypes([np.number]).columns\n",
    "    cat_col = X.select_dtypes(\"object\").columns\n",
    "\n",
    "    # Create pipeline for numeric features\n",
    "    numeric_features = X.select_dtypes([np.number]).columns \n",
    "    numeric_transformer = Pipeline(steps=[\n",
    "        ('imputer', SimpleImputer(strategy='mean')), # missing values in Age will be replaced by columns' mean\n",
    "        ('scaler', StandardScaler())])\n",
    "\n",
    "    # Create pipeline for categorical features\n",
    "    categorical_features = X.select_dtypes(\"object\").columns \n",
    "    categorical_transformer = Pipeline(\n",
    "        steps=[\n",
    "        ('imputer', SimpleImputer(strategy='most_frequent')), # missing values will be replaced by most frequent value\n",
    "        ('encoder', OneHotEncoder(drop='first', handle_unknown = 'ignore')) # first column will be dropped to avoid creating correlations between features\n",
    "        ])\n",
    "\n",
    "    # Use ColumnTranformer to make a preprocessor object that describes all the treatments to be done\n",
    "    preprocessor = ColumnTransformer(\n",
    "        transformers=[\n",
    "            ('num', numeric_transformer, numeric_features),\n",
    "            ('cat', categorical_transformer, categorical_features)\n",
    "        ])\n",
    "\n",
    "    X_train = preprocessor.fit_transform(X_train)\n",
    "    X_test = preprocessor.transform(X_test)\n",
    "\n",
    "    model = LogisticRegression(max_iter=200,random_state=0)\n",
    "    model.fit(X_train, Y_train)\n",
    "\n",
    "    scores = cross_val_score(model, X_train, Y_train, cv=5)\n",
    "\n",
    "    avg = scores.mean()\n",
    "    std = scores.std()\n",
    "        \n",
    "    Y_train_pred = model.predict(X_train)\n",
    "    Y_test_pred = model.predict(X_test)\n",
    "\n",
    "    df_res_1 = pd.DataFrame(\n",
    "        {\n",
    "        \n",
    "        'model':model,\n",
    "        'cross_val_accuracy_avg':[scores.mean().round(4)],\n",
    "        'cross_val_accuracy_std':[scores.std().round(4)],\n",
    "        'accuracy_score_test': [accuracy_score(Y_test, Y_test_pred).round(4)],\n",
    "        'target_variable': [\"winner_home\"],\n",
    "        'features' : [select_features],\n",
    "        'features_cat':[categorical_features],\n",
    "        'features_num':[numeric_features]\n",
    "            \n",
    "        }\n",
    "    )\n",
    "\n",
    "\n",
    "    df_res = pd.concat([df_res_0,df_res_1])\n",
    "    df_res_0 = df_res\n",
    "\n",
    "    \n",
    "\n",
    "    select_features = [\"awayteam\", \"hometeam\"]\n",
    "\n",
    "df_res.to_csv(\"../exp_logs_2.csv\",index=False)\n"
   ]
  },
  {
   "cell_type": "code",
   "execution_count": 32,
   "metadata": {},
   "outputs": [
    {
     "data": {
      "text/html": [
       "<div>\n",
       "<style scoped>\n",
       "    .dataframe tbody tr th:only-of-type {\n",
       "        vertical-align: middle;\n",
       "    }\n",
       "\n",
       "    .dataframe tbody tr th {\n",
       "        vertical-align: top;\n",
       "    }\n",
       "\n",
       "    .dataframe thead th {\n",
       "        text-align: right;\n",
       "    }\n",
       "</style>\n",
       "<table border=\"1\" class=\"dataframe\">\n",
       "  <thead>\n",
       "    <tr style=\"text-align: right;\">\n",
       "      <th></th>\n",
       "      <th>model</th>\n",
       "      <th>cross_val_accuracy_avg</th>\n",
       "      <th>cross_val_accuracy_std</th>\n",
       "      <th>accuracy_score_test</th>\n",
       "      <th>target_variable</th>\n",
       "      <th>features_cat</th>\n",
       "      <th>features_num</th>\n",
       "    </tr>\n",
       "  </thead>\n",
       "  <tbody>\n",
       "    <tr>\n",
       "      <th>0</th>\n",
       "      <td>LogisticRegression(max_iter=200, random_state=0)</td>\n",
       "      <td>0.632</td>\n",
       "      <td>0.014</td>\n",
       "      <td>0.632</td>\n",
       "      <td>winner_home</td>\n",
       "      <td>Index(['awayteam', 'hometeam'], dtype='object')</td>\n",
       "      <td>Index(['dayofweek'], dtype='object')</td>\n",
       "    </tr>\n",
       "  </tbody>\n",
       "</table>\n",
       "</div>"
      ],
      "text/plain": [
       "                                              model  cross_val_accuracy_avg  \\\n",
       "0  LogisticRegression(max_iter=200, random_state=0)                   0.632   \n",
       "\n",
       "   cross_val_accuracy_std  accuracy_score_test target_variable  \\\n",
       "0                   0.014                0.632     winner_home   \n",
       "\n",
       "                                      features_cat  \\\n",
       "0  Index(['awayteam', 'hometeam'], dtype='object')   \n",
       "\n",
       "                           features_num  \n",
       "0  Index(['dayofweek'], dtype='object')  "
      ]
     },
     "execution_count": 32,
     "metadata": {},
     "output_type": "execute_result"
    }
   ],
   "source": [
    "df_res"
   ]
  },
  {
   "cell_type": "code",
   "execution_count": null,
   "metadata": {},
   "outputs": [],
   "source": []
  },
  {
   "cell_type": "markdown",
   "metadata": {},
   "source": [
    "Logistic Regression"
   ]
  },
  {
   "cell_type": "code",
   "execution_count": 58,
   "metadata": {},
   "outputs": [
    {
     "name": "stdout",
     "output_type": "stream",
     "text": [
      "Accuracy on training set :  0.7255092143549952\n",
      "Accuracy on test set :  0.6317829457364341\n"
     ]
    }
   ],
   "source": [
    "model = LogisticRegression(max_iter=200)\n",
    "model.fit(X_train, Y_train)\n",
    "\n",
    "Y_train_pred = model.predict(X_train)\n",
    "Y_test_pred = model.predict(X_test)\n",
    "\n",
    "print(\"Accuracy on training set : \", accuracy_score(Y_train, Y_train_pred))\n",
    "print(\"Accuracy on test set : \", accuracy_score(Y_test, Y_test_pred))"
   ]
  },
  {
   "cell_type": "markdown",
   "metadata": {},
   "source": [
    "RandomForest"
   ]
  },
  {
   "cell_type": "code",
   "execution_count": 59,
   "metadata": {},
   "outputs": [
    {
     "name": "stdout",
     "output_type": "stream",
     "text": [
      "Accuracy on training set :  1.0\n",
      "Accuracy on test set :  0.624031007751938\n"
     ]
    }
   ],
   "source": [
    "model_rf = RandomForestClassifier()\n",
    "model_rf.fit(X_train, Y_train)\n",
    "\n",
    "Y_train_pred = model_rf.predict(X_train)\n",
    "Y_test_pred = model_rf.predict(X_test)\n",
    "\n",
    "print(\"Accuracy on training set : \", accuracy_score(Y_train, Y_train_pred))\n",
    "print(\"Accuracy on test set : \", accuracy_score(Y_test, Y_test_pred))"
   ]
  },
  {
   "cell_type": "markdown",
   "metadata": {},
   "source": [
    "XGBoost"
   ]
  },
  {
   "cell_type": "code",
   "execution_count": 60,
   "metadata": {},
   "outputs": [
    {
     "name": "stdout",
     "output_type": "stream",
     "text": [
      "Accuracy on training set :  1.0\n",
      "Accuracy on test set :  0.5736434108527132\n"
     ]
    }
   ],
   "source": [
    "model_xgb = XGBClassifier()\n",
    "model_xgb.fit(X_train, Y_train)\n",
    "\n",
    "Y_train_pred = model_xgb.predict(X_train)\n",
    "Y_test_pred = model_xgb.predict(X_test)\n",
    "\n",
    "print(\"Accuracy on training set : \", accuracy_score(Y_train, Y_train_pred))\n",
    "print(\"Accuracy on test set : \", accuracy_score(Y_test, Y_test_pred))"
   ]
  },
  {
   "cell_type": "markdown",
   "metadata": {},
   "source": [
    "Visualisation"
   ]
  },
  {
   "cell_type": "markdown",
   "metadata": {},
   "source": [
    "## Preprocessing with selected features"
   ]
  }
 ],
 "metadata": {
  "kernelspec": {
   "display_name": "Python 3.10.4 64-bit",
   "language": "python",
   "name": "python3"
  },
  "language_info": {
   "codemirror_mode": {
    "name": "ipython",
    "version": 3
   },
   "file_extension": ".py",
   "mimetype": "text/x-python",
   "name": "python",
   "nbconvert_exporter": "python",
   "pygments_lexer": "ipython3",
   "version": "3.10.4"
  },
  "orig_nbformat": 4,
  "vscode": {
   "interpreter": {
    "hash": "4574c92c81b7a4447a4b895dbf630721cb3b758132caf039eedf7927fb67883f"
   }
  }
 },
 "nbformat": 4,
 "nbformat_minor": 2
}
