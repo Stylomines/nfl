{
 "cells": [
  {
   "cell_type": "code",
   "execution_count": 56,
   "metadata": {},
   "outputs": [],
   "source": [
    "import pandas as pd\n",
    "import os\n",
    "\n",
    "\n",
    "from sklearn.model_selection import train_test_split\n",
    "from sklearn.pipeline import Pipeline\n",
    "from sklearn.impute import SimpleImputer\n",
    "from sklearn.preprocessing import StandardScaler\n",
    "from sklearn.preprocessing import OneHotEncoder\n",
    "from sklearn.compose import ColumnTransformer\n",
    "from sklearn.linear_model import LogisticRegression\n",
    "from sklearn.metrics import accuracy_score, f1_score, ConfusionMatrixDisplay, RocCurveDisplay\n",
    "from sklearn.model_selection import GridSearchCV\n",
    "\n",
    "import numpy as np\n",
    "from sklearn.ensemble import RandomForestClassifier\n",
    "from xgboost import XGBClassifier\n",
    "\n",
    "from sklearn import metrics\n",
    "import matplotlib.pyplot as plt\n",
    "\n",
    "\n",
    "import plotly.express as px\n",
    "import plotly.graph_objects as go\n",
    "import plotly.io as pio\n",
    "# setting Jedha color palette as default\n",
    "pio.templates[\"jedha\"] = go.layout.Template(\n",
    "    layout_colorway=[\"#4B9AC7\", \"#4BE8E0\", \"#9DD4F3\", \"#97FBF6\", \"#2A7FAF\", \"#23B1AB\", \"#0E3449\", \"#015955\"]\n",
    ")"
   ]
  },
  {
   "cell_type": "code",
   "execution_count": 2,
   "metadata": {},
   "outputs": [
    {
     "data": {
      "text/plain": [
       "'c:\\\\Users\\\\sylva\\\\Desktop\\\\nflpredictor\\\\nfl\\\\03_modelisation\\\\modelisation_final_dataset'"
      ]
     },
     "execution_count": 2,
     "metadata": {},
     "output_type": "execute_result"
    }
   ],
   "source": [
    "os.getcwd()"
   ]
  },
  {
   "cell_type": "code",
   "execution_count": 6,
   "metadata": {},
   "outputs": [
    {
     "data": {
      "text/html": [
       "<div>\n",
       "<style scoped>\n",
       "    .dataframe tbody tr th:only-of-type {\n",
       "        vertical-align: middle;\n",
       "    }\n",
       "\n",
       "    .dataframe tbody tr th {\n",
       "        vertical-align: top;\n",
       "    }\n",
       "\n",
       "    .dataframe thead th {\n",
       "        text-align: right;\n",
       "    }\n",
       "</style>\n",
       "<table border=\"1\" class=\"dataframe\">\n",
       "  <thead>\n",
       "    <tr style=\"text-align: right;\">\n",
       "      <th></th>\n",
       "      <th>season</th>\n",
       "      <th>week</th>\n",
       "      <th>awayteam</th>\n",
       "      <th>hometeam</th>\n",
       "      <th>idgame</th>\n",
       "      <th>winner_home</th>\n",
       "      <th>home_coach</th>\n",
       "      <th>away_coach</th>\n",
       "      <th>weather_type</th>\n",
       "      <th>temperature</th>\n",
       "      <th>...</th>\n",
       "      <th>punt_return_yds_MA_5_home</th>\n",
       "      <th>kicking_pts_MA_5_home</th>\n",
       "      <th>delta_day_away</th>\n",
       "      <th>delta_day_home</th>\n",
       "      <th>stade</th>\n",
       "      <th>location</th>\n",
       "      <th>people</th>\n",
       "      <th>month</th>\n",
       "      <th>dayofmonth</th>\n",
       "      <th>dayofweek</th>\n",
       "    </tr>\n",
       "  </thead>\n",
       "  <tbody>\n",
       "    <tr>\n",
       "      <th>0</th>\n",
       "      <td>2017</td>\n",
       "      <td>13</td>\n",
       "      <td>Vikings</td>\n",
       "      <td>Falcons</td>\n",
       "      <td>400951677</td>\n",
       "      <td>0</td>\n",
       "      <td>Dan Quinn</td>\n",
       "      <td>Mike Zimmer</td>\n",
       "      <td>NaN</td>\n",
       "      <td>NaN</td>\n",
       "      <td>...</td>\n",
       "      <td>10.4</td>\n",
       "      <td>9.4</td>\n",
       "      <td>10.0</td>\n",
       "      <td>7.0</td>\n",
       "      <td>Mercedes-Benz Stadium</td>\n",
       "      <td>Atlanta, GA</td>\n",
       "      <td>95.0</td>\n",
       "      <td>12</td>\n",
       "      <td>3</td>\n",
       "      <td>6</td>\n",
       "    </tr>\n",
       "    <tr>\n",
       "      <th>1</th>\n",
       "      <td>2017</td>\n",
       "      <td>9</td>\n",
       "      <td>Falcons</td>\n",
       "      <td>Panthers</td>\n",
       "      <td>400951749</td>\n",
       "      <td>1</td>\n",
       "      <td>Ron Rivera</td>\n",
       "      <td>Dan Quinn</td>\n",
       "      <td>cloudy</td>\n",
       "      <td>61.0</td>\n",
       "      <td>...</td>\n",
       "      <td>22.4</td>\n",
       "      <td>7.4</td>\n",
       "      <td>7.0</td>\n",
       "      <td>7.0</td>\n",
       "      <td>Bank of America Stadium</td>\n",
       "      <td>Charlotte, NC</td>\n",
       "      <td>100.0</td>\n",
       "      <td>11</td>\n",
       "      <td>5</td>\n",
       "      <td>6</td>\n",
       "    </tr>\n",
       "    <tr>\n",
       "      <th>2</th>\n",
       "      <td>2017</td>\n",
       "      <td>9</td>\n",
       "      <td>Bengals</td>\n",
       "      <td>Jaguars</td>\n",
       "      <td>400951753</td>\n",
       "      <td>1</td>\n",
       "      <td>Doug Marrone</td>\n",
       "      <td>Marvin Lewis</td>\n",
       "      <td>NaN</td>\n",
       "      <td>78.0</td>\n",
       "      <td>...</td>\n",
       "      <td>0.4</td>\n",
       "      <td>8.4</td>\n",
       "      <td>7.0</td>\n",
       "      <td>14.0</td>\n",
       "      <td>TIAA Bank Field</td>\n",
       "      <td>Jacksonville, FL</td>\n",
       "      <td>89.0</td>\n",
       "      <td>11</td>\n",
       "      <td>5</td>\n",
       "      <td>6</td>\n",
       "    </tr>\n",
       "    <tr>\n",
       "      <th>3</th>\n",
       "      <td>2017</td>\n",
       "      <td>4</td>\n",
       "      <td>Bears</td>\n",
       "      <td>Packers</td>\n",
       "      <td>400951678</td>\n",
       "      <td>1</td>\n",
       "      <td>Mike McCarthy</td>\n",
       "      <td>John Fox</td>\n",
       "      <td>cloudy</td>\n",
       "      <td>65.0</td>\n",
       "      <td>...</td>\n",
       "      <td>NaN</td>\n",
       "      <td>NaN</td>\n",
       "      <td>4.0</td>\n",
       "      <td>4.0</td>\n",
       "      <td>Lambeau Field</td>\n",
       "      <td>Green Bay, WI</td>\n",
       "      <td>97.0</td>\n",
       "      <td>9</td>\n",
       "      <td>29</td>\n",
       "      <td>4</td>\n",
       "    </tr>\n",
       "    <tr>\n",
       "      <th>4</th>\n",
       "      <td>2017</td>\n",
       "      <td>9</td>\n",
       "      <td>Colts</td>\n",
       "      <td>Texans</td>\n",
       "      <td>400951751</td>\n",
       "      <td>0</td>\n",
       "      <td>Bill O'Brien</td>\n",
       "      <td>Chuck Pagano</td>\n",
       "      <td>cloudy</td>\n",
       "      <td>84.0</td>\n",
       "      <td>...</td>\n",
       "      <td>31.4</td>\n",
       "      <td>9.0</td>\n",
       "      <td>7.0</td>\n",
       "      <td>6.0</td>\n",
       "      <td>NRG Stadium</td>\n",
       "      <td>Houston, TX</td>\n",
       "      <td>100.0</td>\n",
       "      <td>11</td>\n",
       "      <td>5</td>\n",
       "      <td>6</td>\n",
       "    </tr>\n",
       "  </tbody>\n",
       "</table>\n",
       "<p>5 rows × 54 columns</p>\n",
       "</div>"
      ],
      "text/plain": [
       "   season  week awayteam  hometeam     idgame  winner_home     home_coach  \\\n",
       "0    2017    13  Vikings   Falcons  400951677            0      Dan Quinn   \n",
       "1    2017     9  Falcons  Panthers  400951749            1     Ron Rivera   \n",
       "2    2017     9  Bengals   Jaguars  400951753            1   Doug Marrone   \n",
       "3    2017     4    Bears   Packers  400951678            1  Mike McCarthy   \n",
       "4    2017     9    Colts    Texans  400951751            0   Bill O'Brien   \n",
       "\n",
       "     away_coach weather_type  temperature  ...  punt_return_yds_MA_5_home  \\\n",
       "0   Mike Zimmer          NaN          NaN  ...                       10.4   \n",
       "1     Dan Quinn       cloudy         61.0  ...                       22.4   \n",
       "2  Marvin Lewis          NaN         78.0  ...                        0.4   \n",
       "3      John Fox       cloudy         65.0  ...                        NaN   \n",
       "4  Chuck Pagano       cloudy         84.0  ...                       31.4   \n",
       "\n",
       "   kicking_pts_MA_5_home  delta_day_away  delta_day_home  \\\n",
       "0                    9.4            10.0             7.0   \n",
       "1                    7.4             7.0             7.0   \n",
       "2                    8.4             7.0            14.0   \n",
       "3                    NaN             4.0             4.0   \n",
       "4                    9.0             7.0             6.0   \n",
       "\n",
       "                     stade          location  people  month  dayofmonth  \\\n",
       "0    Mercedes-Benz Stadium       Atlanta, GA    95.0     12           3   \n",
       "1  Bank of America Stadium     Charlotte, NC   100.0     11           5   \n",
       "2          TIAA Bank Field  Jacksonville, FL    89.0     11           5   \n",
       "3            Lambeau Field     Green Bay, WI    97.0      9          29   \n",
       "4              NRG Stadium       Houston, TX   100.0     11           5   \n",
       "\n",
       "   dayofweek  \n",
       "0          6  \n",
       "1          6  \n",
       "2          6  \n",
       "3          4  \n",
       "4          6  \n",
       "\n",
       "[5 rows x 54 columns]"
      ]
     },
     "execution_count": 6,
     "metadata": {},
     "output_type": "execute_result"
    }
   ],
   "source": [
    "df = pd.read_csv(\"../../04_datasets/nfl_dataset_vf.csv\", index_col=0)\n",
    "df.head()"
   ]
  },
  {
   "cell_type": "code",
   "execution_count": 7,
   "metadata": {},
   "outputs": [
    {
     "data": {
      "text/plain": [
       "1289"
      ]
     },
     "execution_count": 7,
     "metadata": {},
     "output_type": "execute_result"
    }
   ],
   "source": [
    "# checking the amount of lines in the dataframe (there shoulb be one line per game)\n",
    "len(df)"
   ]
  },
  {
   "cell_type": "code",
   "execution_count": 8,
   "metadata": {},
   "outputs": [
    {
     "name": "stdout",
     "output_type": "stream",
     "text": [
      "['season', 'week', 'awayteam', 'hometeam', 'idgame', 'winner_home', 'home_coach', 'away_coach', 'weather_type', 'temperature', 'humidity', 'wind', 'streak_away', 'pass_yds_MA_5_away', 'pass_td_MA_5_away', 'rush_yds_MA_5_away', 'rush_td_MA_5_away', 'rec_yds_MA_5_away', 'rec_td_MA_5_away', 'fumbles_MA_5_away', 'fumbles_rec_MA_5_away', 'defense_sacks_MA_5_away', 'defense_td_MA_5_away', 'interceptions_MA_5_away', 'interceptions_td_MA_5_away', 'kicks_return_yds_MA_5_away', 'kicks_return_td_MA_5_away', 'punt_return_yds_MA_5_away', 'kicking_pts_MA_5_away', 'streak_home', 'pass_yds_MA_5_home', 'pass_td_MA_5_home', 'rush_yds_MA_5_home', 'rush_td_MA_5_home', 'rec_yds_MA_5_home', 'rec_td_MA_5_home', 'fumbles_MA_5_home', 'fumbles_rec_MA_5_home', 'defense_sacks_MA_5_home', 'defense_td_MA_5_home', 'interceptions_MA_5_home', 'interceptions_td_MA_5_home', 'kicks_return_yds_MA_5_home', 'kicks_return_td_MA_5_home', 'punt_return_yds_MA_5_home', 'kicking_pts_MA_5_home', 'delta_day_away', 'delta_day_home', 'stade', 'location', 'people', 'month', 'dayofmonth', 'dayofweek']\n"
     ]
    }
   ],
   "source": [
    "print(df.columns.tolist())"
   ]
  },
  {
   "cell_type": "code",
   "execution_count": 9,
   "metadata": {},
   "outputs": [
    {
     "name": "stdout",
     "output_type": "stream",
     "text": [
      "Number of rows : 1289\n",
      "\n",
      "Basics statistics: \n"
     ]
    },
    {
     "data": {
      "text/html": [
       "<div>\n",
       "<style scoped>\n",
       "    .dataframe tbody tr th:only-of-type {\n",
       "        vertical-align: middle;\n",
       "    }\n",
       "\n",
       "    .dataframe tbody tr th {\n",
       "        vertical-align: top;\n",
       "    }\n",
       "\n",
       "    .dataframe thead th {\n",
       "        text-align: right;\n",
       "    }\n",
       "</style>\n",
       "<table border=\"1\" class=\"dataframe\">\n",
       "  <thead>\n",
       "    <tr style=\"text-align: right;\">\n",
       "      <th></th>\n",
       "      <th>season</th>\n",
       "      <th>week</th>\n",
       "      <th>awayteam</th>\n",
       "      <th>hometeam</th>\n",
       "      <th>idgame</th>\n",
       "      <th>winner_home</th>\n",
       "      <th>home_coach</th>\n",
       "      <th>away_coach</th>\n",
       "      <th>weather_type</th>\n",
       "      <th>temperature</th>\n",
       "      <th>...</th>\n",
       "      <th>punt_return_yds_MA_5_home</th>\n",
       "      <th>kicking_pts_MA_5_home</th>\n",
       "      <th>delta_day_away</th>\n",
       "      <th>delta_day_home</th>\n",
       "      <th>stade</th>\n",
       "      <th>location</th>\n",
       "      <th>people</th>\n",
       "      <th>month</th>\n",
       "      <th>dayofmonth</th>\n",
       "      <th>dayofweek</th>\n",
       "    </tr>\n",
       "  </thead>\n",
       "  <tbody>\n",
       "    <tr>\n",
       "      <th>count</th>\n",
       "      <td>1289.000000</td>\n",
       "      <td>1289.000000</td>\n",
       "      <td>1289</td>\n",
       "      <td>1289</td>\n",
       "      <td>1.289000e+03</td>\n",
       "      <td>1289.000000</td>\n",
       "      <td>1289</td>\n",
       "      <td>1289</td>\n",
       "      <td>1043</td>\n",
       "      <td>1179.000000</td>\n",
       "      <td>...</td>\n",
       "      <td>1175.000000</td>\n",
       "      <td>1175.000000</td>\n",
       "      <td>1245.000000</td>\n",
       "      <td>1239.000000</td>\n",
       "      <td>1289</td>\n",
       "      <td>1289</td>\n",
       "      <td>1140.000000</td>\n",
       "      <td>1289.000000</td>\n",
       "      <td>1289.000000</td>\n",
       "      <td>1289.000000</td>\n",
       "    </tr>\n",
       "    <tr>\n",
       "      <th>unique</th>\n",
       "      <td>NaN</td>\n",
       "      <td>NaN</td>\n",
       "      <td>32</td>\n",
       "      <td>32</td>\n",
       "      <td>NaN</td>\n",
       "      <td>NaN</td>\n",
       "      <td>63</td>\n",
       "      <td>63</td>\n",
       "      <td>7</td>\n",
       "      <td>NaN</td>\n",
       "      <td>...</td>\n",
       "      <td>NaN</td>\n",
       "      <td>NaN</td>\n",
       "      <td>NaN</td>\n",
       "      <td>NaN</td>\n",
       "      <td>37</td>\n",
       "      <td>35</td>\n",
       "      <td>NaN</td>\n",
       "      <td>NaN</td>\n",
       "      <td>NaN</td>\n",
       "      <td>NaN</td>\n",
       "    </tr>\n",
       "    <tr>\n",
       "      <th>top</th>\n",
       "      <td>NaN</td>\n",
       "      <td>NaN</td>\n",
       "      <td>Seahawks</td>\n",
       "      <td>Titans</td>\n",
       "      <td>NaN</td>\n",
       "      <td>NaN</td>\n",
       "      <td>Sean McDermott</td>\n",
       "      <td>Kyle Shanahan</td>\n",
       "      <td>cloudy</td>\n",
       "      <td>NaN</td>\n",
       "      <td>...</td>\n",
       "      <td>NaN</td>\n",
       "      <td>NaN</td>\n",
       "      <td>NaN</td>\n",
       "      <td>NaN</td>\n",
       "      <td>MetLife Stadium</td>\n",
       "      <td>East Rutherford, NJ</td>\n",
       "      <td>NaN</td>\n",
       "      <td>NaN</td>\n",
       "      <td>NaN</td>\n",
       "      <td>NaN</td>\n",
       "    </tr>\n",
       "    <tr>\n",
       "      <th>freq</th>\n",
       "      <td>NaN</td>\n",
       "      <td>NaN</td>\n",
       "      <td>41</td>\n",
       "      <td>41</td>\n",
       "      <td>NaN</td>\n",
       "      <td>NaN</td>\n",
       "      <td>41</td>\n",
       "      <td>41</td>\n",
       "      <td>522</td>\n",
       "      <td>NaN</td>\n",
       "      <td>...</td>\n",
       "      <td>NaN</td>\n",
       "      <td>NaN</td>\n",
       "      <td>NaN</td>\n",
       "      <td>NaN</td>\n",
       "      <td>81</td>\n",
       "      <td>81</td>\n",
       "      <td>NaN</td>\n",
       "      <td>NaN</td>\n",
       "      <td>NaN</td>\n",
       "      <td>NaN</td>\n",
       "    </tr>\n",
       "    <tr>\n",
       "      <th>mean</th>\n",
       "      <td>2019.027153</td>\n",
       "      <td>9.175330</td>\n",
       "      <td>NaN</td>\n",
       "      <td>NaN</td>\n",
       "      <td>4.011341e+08</td>\n",
       "      <td>0.539178</td>\n",
       "      <td>NaN</td>\n",
       "      <td>NaN</td>\n",
       "      <td>NaN</td>\n",
       "      <td>56.229008</td>\n",
       "      <td>...</td>\n",
       "      <td>14.448170</td>\n",
       "      <td>6.968000</td>\n",
       "      <td>19.679518</td>\n",
       "      <td>19.593220</td>\n",
       "      <td>NaN</td>\n",
       "      <td>NaN</td>\n",
       "      <td>88.013158</td>\n",
       "      <td>10.254461</td>\n",
       "      <td>16.082234</td>\n",
       "      <td>5.098526</td>\n",
       "    </tr>\n",
       "    <tr>\n",
       "      <th>std</th>\n",
       "      <td>1.422984</td>\n",
       "      <td>5.062066</td>\n",
       "      <td>NaN</td>\n",
       "      <td>NaN</td>\n",
       "      <td>1.338832e+05</td>\n",
       "      <td>0.498656</td>\n",
       "      <td>NaN</td>\n",
       "      <td>NaN</td>\n",
       "      <td>NaN</td>\n",
       "      <td>22.435574</td>\n",
       "      <td>...</td>\n",
       "      <td>8.710801</td>\n",
       "      <td>1.811904</td>\n",
       "      <td>53.993547</td>\n",
       "      <td>54.142582</td>\n",
       "      <td>NaN</td>\n",
       "      <td>NaN</td>\n",
       "      <td>24.114280</td>\n",
       "      <td>2.123613</td>\n",
       "      <td>8.765195</td>\n",
       "      <td>1.920486</td>\n",
       "    </tr>\n",
       "    <tr>\n",
       "      <th>min</th>\n",
       "      <td>2017.000000</td>\n",
       "      <td>1.000000</td>\n",
       "      <td>NaN</td>\n",
       "      <td>NaN</td>\n",
       "      <td>4.009502e+08</td>\n",
       "      <td>0.000000</td>\n",
       "      <td>NaN</td>\n",
       "      <td>NaN</td>\n",
       "      <td>NaN</td>\n",
       "      <td>1.000000</td>\n",
       "      <td>...</td>\n",
       "      <td>-1.800000</td>\n",
       "      <td>1.600000</td>\n",
       "      <td>3.000000</td>\n",
       "      <td>3.000000</td>\n",
       "      <td>NaN</td>\n",
       "      <td>NaN</td>\n",
       "      <td>1.000000</td>\n",
       "      <td>1.000000</td>\n",
       "      <td>1.000000</td>\n",
       "      <td>0.000000</td>\n",
       "    </tr>\n",
       "    <tr>\n",
       "      <th>25%</th>\n",
       "      <td>2018.000000</td>\n",
       "      <td>5.000000</td>\n",
       "      <td>NaN</td>\n",
       "      <td>NaN</td>\n",
       "      <td>4.010308e+08</td>\n",
       "      <td>0.000000</td>\n",
       "      <td>NaN</td>\n",
       "      <td>NaN</td>\n",
       "      <td>NaN</td>\n",
       "      <td>44.000000</td>\n",
       "      <td>...</td>\n",
       "      <td>8.200000</td>\n",
       "      <td>5.800000</td>\n",
       "      <td>6.000000</td>\n",
       "      <td>6.000000</td>\n",
       "      <td>NaN</td>\n",
       "      <td>NaN</td>\n",
       "      <td>91.000000</td>\n",
       "      <td>10.000000</td>\n",
       "      <td>9.000000</td>\n",
       "      <td>6.000000</td>\n",
       "    </tr>\n",
       "    <tr>\n",
       "      <th>50%</th>\n",
       "      <td>2019.000000</td>\n",
       "      <td>9.000000</td>\n",
       "      <td>NaN</td>\n",
       "      <td>NaN</td>\n",
       "      <td>4.011280e+08</td>\n",
       "      <td>1.000000</td>\n",
       "      <td>NaN</td>\n",
       "      <td>NaN</td>\n",
       "      <td>NaN</td>\n",
       "      <td>61.000000</td>\n",
       "      <td>...</td>\n",
       "      <td>12.600000</td>\n",
       "      <td>7.000000</td>\n",
       "      <td>7.000000</td>\n",
       "      <td>7.000000</td>\n",
       "      <td>NaN</td>\n",
       "      <td>NaN</td>\n",
       "      <td>97.000000</td>\n",
       "      <td>11.000000</td>\n",
       "      <td>16.000000</td>\n",
       "      <td>6.000000</td>\n",
       "    </tr>\n",
       "    <tr>\n",
       "      <th>75%</th>\n",
       "      <td>2020.000000</td>\n",
       "      <td>14.000000</td>\n",
       "      <td>NaN</td>\n",
       "      <td>NaN</td>\n",
       "      <td>4.012203e+08</td>\n",
       "      <td>1.000000</td>\n",
       "      <td>NaN</td>\n",
       "      <td>NaN</td>\n",
       "      <td>NaN</td>\n",
       "      <td>73.000000</td>\n",
       "      <td>...</td>\n",
       "      <td>18.800000</td>\n",
       "      <td>8.200000</td>\n",
       "      <td>7.000000</td>\n",
       "      <td>7.000000</td>\n",
       "      <td>NaN</td>\n",
       "      <td>NaN</td>\n",
       "      <td>100.000000</td>\n",
       "      <td>12.000000</td>\n",
       "      <td>24.000000</td>\n",
       "      <td>6.000000</td>\n",
       "    </tr>\n",
       "    <tr>\n",
       "      <th>max</th>\n",
       "      <td>2021.000000</td>\n",
       "      <td>18.000000</td>\n",
       "      <td>NaN</td>\n",
       "      <td>NaN</td>\n",
       "      <td>4.013266e+08</td>\n",
       "      <td>1.000000</td>\n",
       "      <td>NaN</td>\n",
       "      <td>NaN</td>\n",
       "      <td>NaN</td>\n",
       "      <td>103.000000</td>\n",
       "      <td>...</td>\n",
       "      <td>56.400000</td>\n",
       "      <td>13.200000</td>\n",
       "      <td>260.000000</td>\n",
       "      <td>260.000000</td>\n",
       "      <td>NaN</td>\n",
       "      <td>NaN</td>\n",
       "      <td>100.000000</td>\n",
       "      <td>12.000000</td>\n",
       "      <td>31.000000</td>\n",
       "      <td>6.000000</td>\n",
       "    </tr>\n",
       "  </tbody>\n",
       "</table>\n",
       "<p>11 rows × 54 columns</p>\n",
       "</div>"
      ],
      "text/plain": [
       "             season         week  awayteam hometeam        idgame  \\\n",
       "count   1289.000000  1289.000000      1289     1289  1.289000e+03   \n",
       "unique          NaN          NaN        32       32           NaN   \n",
       "top             NaN          NaN  Seahawks   Titans           NaN   \n",
       "freq            NaN          NaN        41       41           NaN   \n",
       "mean    2019.027153     9.175330       NaN      NaN  4.011341e+08   \n",
       "std        1.422984     5.062066       NaN      NaN  1.338832e+05   \n",
       "min     2017.000000     1.000000       NaN      NaN  4.009502e+08   \n",
       "25%     2018.000000     5.000000       NaN      NaN  4.010308e+08   \n",
       "50%     2019.000000     9.000000       NaN      NaN  4.011280e+08   \n",
       "75%     2020.000000    14.000000       NaN      NaN  4.012203e+08   \n",
       "max     2021.000000    18.000000       NaN      NaN  4.013266e+08   \n",
       "\n",
       "        winner_home      home_coach     away_coach weather_type  temperature  \\\n",
       "count   1289.000000            1289           1289         1043  1179.000000   \n",
       "unique          NaN              63             63            7          NaN   \n",
       "top             NaN  Sean McDermott  Kyle Shanahan       cloudy          NaN   \n",
       "freq            NaN              41             41          522          NaN   \n",
       "mean       0.539178             NaN            NaN          NaN    56.229008   \n",
       "std        0.498656             NaN            NaN          NaN    22.435574   \n",
       "min        0.000000             NaN            NaN          NaN     1.000000   \n",
       "25%        0.000000             NaN            NaN          NaN    44.000000   \n",
       "50%        1.000000             NaN            NaN          NaN    61.000000   \n",
       "75%        1.000000             NaN            NaN          NaN    73.000000   \n",
       "max        1.000000             NaN            NaN          NaN   103.000000   \n",
       "\n",
       "        ...  punt_return_yds_MA_5_home  kicking_pts_MA_5_home  delta_day_away  \\\n",
       "count   ...                1175.000000            1175.000000     1245.000000   \n",
       "unique  ...                        NaN                    NaN             NaN   \n",
       "top     ...                        NaN                    NaN             NaN   \n",
       "freq    ...                        NaN                    NaN             NaN   \n",
       "mean    ...                  14.448170               6.968000       19.679518   \n",
       "std     ...                   8.710801               1.811904       53.993547   \n",
       "min     ...                  -1.800000               1.600000        3.000000   \n",
       "25%     ...                   8.200000               5.800000        6.000000   \n",
       "50%     ...                  12.600000               7.000000        7.000000   \n",
       "75%     ...                  18.800000               8.200000        7.000000   \n",
       "max     ...                  56.400000              13.200000      260.000000   \n",
       "\n",
       "        delta_day_home            stade             location       people  \\\n",
       "count      1239.000000             1289                 1289  1140.000000   \n",
       "unique             NaN               37                   35          NaN   \n",
       "top                NaN  MetLife Stadium  East Rutherford, NJ          NaN   \n",
       "freq               NaN               81                   81          NaN   \n",
       "mean         19.593220              NaN                  NaN    88.013158   \n",
       "std          54.142582              NaN                  NaN    24.114280   \n",
       "min           3.000000              NaN                  NaN     1.000000   \n",
       "25%           6.000000              NaN                  NaN    91.000000   \n",
       "50%           7.000000              NaN                  NaN    97.000000   \n",
       "75%           7.000000              NaN                  NaN   100.000000   \n",
       "max         260.000000              NaN                  NaN   100.000000   \n",
       "\n",
       "              month   dayofmonth    dayofweek  \n",
       "count   1289.000000  1289.000000  1289.000000  \n",
       "unique          NaN          NaN          NaN  \n",
       "top             NaN          NaN          NaN  \n",
       "freq            NaN          NaN          NaN  \n",
       "mean      10.254461    16.082234     5.098526  \n",
       "std        2.123613     8.765195     1.920486  \n",
       "min        1.000000     1.000000     0.000000  \n",
       "25%       10.000000     9.000000     6.000000  \n",
       "50%       11.000000    16.000000     6.000000  \n",
       "75%       12.000000    24.000000     6.000000  \n",
       "max       12.000000    31.000000     6.000000  \n",
       "\n",
       "[11 rows x 54 columns]"
      ]
     },
     "metadata": {},
     "output_type": "display_data"
    },
    {
     "name": "stdout",
     "output_type": "stream",
     "text": [
      "\n",
      "Percentage of missing values: \n"
     ]
    },
    {
     "data": {
      "text/plain": [
       "season                         0.000000\n",
       "week                           0.000000\n",
       "awayteam                       0.000000\n",
       "hometeam                       0.000000\n",
       "idgame                         0.000000\n",
       "winner_home                    0.000000\n",
       "home_coach                     0.000000\n",
       "away_coach                     0.000000\n",
       "weather_type                  19.084562\n",
       "temperature                    8.533747\n",
       "humidity                       7.447634\n",
       "wind                          13.343677\n",
       "streak_away                    2.249806\n",
       "pass_yds_MA_5_away             8.456168\n",
       "pass_td_MA_5_away              8.456168\n",
       "rush_yds_MA_5_away             8.456168\n",
       "rush_td_MA_5_away              8.456168\n",
       "rec_yds_MA_5_away              8.456168\n",
       "rec_td_MA_5_away               8.456168\n",
       "fumbles_MA_5_away              8.456168\n",
       "fumbles_rec_MA_5_away          8.456168\n",
       "defense_sacks_MA_5_away        8.456168\n",
       "defense_td_MA_5_away           8.456168\n",
       "interceptions_MA_5_away        8.456168\n",
       "interceptions_td_MA_5_away     8.456168\n",
       "kicks_return_yds_MA_5_away     8.456168\n",
       "kicks_return_td_MA_5_away      8.456168\n",
       "punt_return_yds_MA_5_away      8.456168\n",
       "kicking_pts_MA_5_away          8.456168\n",
       "streak_home                    2.327386\n",
       "pass_yds_MA_5_home             8.844065\n",
       "pass_td_MA_5_home              8.844065\n",
       "rush_yds_MA_5_home             8.844065\n",
       "rush_td_MA_5_home              8.844065\n",
       "rec_yds_MA_5_home              8.844065\n",
       "rec_td_MA_5_home               8.844065\n",
       "fumbles_MA_5_home              8.844065\n",
       "fumbles_rec_MA_5_home          8.844065\n",
       "defense_sacks_MA_5_home        8.844065\n",
       "defense_td_MA_5_home           8.844065\n",
       "interceptions_MA_5_home        8.844065\n",
       "interceptions_td_MA_5_home     8.844065\n",
       "kicks_return_yds_MA_5_home     8.844065\n",
       "kicks_return_td_MA_5_home      8.844065\n",
       "punt_return_yds_MA_5_home      8.844065\n",
       "kicking_pts_MA_5_home          8.844065\n",
       "delta_day_away                 3.413499\n",
       "delta_day_home                 3.878976\n",
       "stade                          0.000000\n",
       "location                       0.000000\n",
       "people                        11.559348\n",
       "month                          0.000000\n",
       "dayofmonth                     0.000000\n",
       "dayofweek                      0.000000\n",
       "dtype: float64"
      ]
     },
     "metadata": {},
     "output_type": "display_data"
    }
   ],
   "source": [
    "print(\"Number of rows : {}\".format(df.shape[0]))\n",
    "print()\n",
    "\n",
    "print(\"Basics statistics: \")\n",
    "data_desc = df.describe(include='all')\n",
    "display(data_desc)\n",
    "print()\n",
    "\n",
    "print(\"Percentage of missing values: \")\n",
    "display(100*df.isnull().sum()/df.shape[0])"
   ]
  },
  {
   "cell_type": "markdown",
   "metadata": {},
   "source": [
    "Preprocessing with awayteam and hometeam"
   ]
  },
  {
   "cell_type": "code",
   "execution_count": 12,
   "metadata": {},
   "outputs": [],
   "source": [
    "Y = df.loc[:,\"winner_home\"]\n",
    "X = df.loc[:,['awayteam','hometeam']]\n",
    "\n",
    "X_train, X_test, Y_train, Y_test = train_test_split(X, Y, test_size=0.2, random_state=0, stratify = Y)\n",
    "\n",
    "# select automatically the numerical and categorical columns\n",
    "num_col = X.select_dtypes([np.number]).columns\n",
    "cat_col = X.select_dtypes(\"object\").columns\n",
    "\n",
    "# Create pipeline for numeric features\n",
    "numeric_features = X.select_dtypes([np.number]).columns \n",
    "numeric_transformer = Pipeline(steps=[\n",
    "    ('imputer', SimpleImputer(strategy='mean')), # missing values in Age will be replaced by columns' mean\n",
    "    ('scaler', StandardScaler())])\n",
    "\n",
    "# Create pipeline for categorical features\n",
    "categorical_features = X.select_dtypes(\"object\").columns \n",
    "categorical_transformer = Pipeline(\n",
    "    steps=[\n",
    "    ('imputer', SimpleImputer(strategy='most_frequent')), # missing values will be replaced by most frequent value\n",
    "    ('encoder', OneHotEncoder(drop='first')) # first column will be dropped to avoid creating correlations between features\n",
    "    ])\n",
    "\n",
    "# Use ColumnTranformer to make a preprocessor object that describes all the treatments to be done\n",
    "preprocessor = ColumnTransformer(\n",
    "    transformers=[\n",
    "        ('num', numeric_transformer, numeric_features),\n",
    "        ('cat', categorical_transformer, categorical_features)\n",
    "    ])\n",
    "\n",
    "X_train = preprocessor.fit_transform(X_train)\n",
    "X_test = preprocessor.transform(X_test)\n"
   ]
  },
  {
   "cell_type": "markdown",
   "metadata": {},
   "source": [
    "Logistic Regression"
   ]
  },
  {
   "cell_type": "code",
   "execution_count": 13,
   "metadata": {},
   "outputs": [
    {
     "name": "stdout",
     "output_type": "stream",
     "text": [
      "Accuracy on training set :  0.6741028128031038\n",
      "Accuracy on test set :  0.6317829457364341\n"
     ]
    }
   ],
   "source": [
    "model = LogisticRegression()\n",
    "model.fit(X_train, Y_train)\n",
    "\n",
    "Y_train_pred = model.predict(X_train)\n",
    "Y_test_pred = model.predict(X_test)\n",
    "\n",
    "print(\"Accuracy on training set : \", accuracy_score(Y_train, Y_train_pred))\n",
    "print(\"Accuracy on test set : \", accuracy_score(Y_test, Y_test_pred))"
   ]
  },
  {
   "cell_type": "markdown",
   "metadata": {},
   "source": [
    "RandomForest"
   ]
  },
  {
   "cell_type": "code",
   "execution_count": 14,
   "metadata": {},
   "outputs": [
    {
     "name": "stdout",
     "output_type": "stream",
     "text": [
      "Accuracy on training set :  0.8709990300678953\n",
      "Accuracy on test set :  0.5775193798449613\n"
     ]
    }
   ],
   "source": [
    "model_rf = RandomForestClassifier()\n",
    "model_rf.fit(X_train, Y_train)\n",
    "\n",
    "Y_train_pred = model_rf.predict(X_train)\n",
    "Y_test_pred = model_rf.predict(X_test)\n",
    "\n",
    "print(\"Accuracy on training set : \", accuracy_score(Y_train, Y_train_pred))\n",
    "print(\"Accuracy on test set : \", accuracy_score(Y_test, Y_test_pred))"
   ]
  },
  {
   "cell_type": "markdown",
   "metadata": {},
   "source": [
    "XGBClassifier"
   ]
  },
  {
   "cell_type": "code",
   "execution_count": 15,
   "metadata": {},
   "outputs": [
    {
     "name": "stdout",
     "output_type": "stream",
     "text": [
      "Accuracy on training set :  0.7051406401551892\n",
      "Accuracy on test set :  0.6511627906976745\n"
     ]
    }
   ],
   "source": [
    "model_xgb = XGBClassifier()\n",
    "model_xgb.fit(X_train, Y_train)\n",
    "\n",
    "Y_train_pred = model_xgb.predict(X_train)\n",
    "Y_test_pred = model_xgb.predict(X_test)\n",
    "\n",
    "print(\"Accuracy on training set : \", accuracy_score(Y_train, Y_train_pred))\n",
    "print(\"Accuracy on test set : \", accuracy_score(Y_test, Y_test_pred))"
   ]
  },
  {
   "cell_type": "markdown",
   "metadata": {},
   "source": [
    "## Preprocessing with all features"
   ]
  },
  {
   "cell_type": "code",
   "execution_count": 57,
   "metadata": {},
   "outputs": [
    {
     "name": "stderr",
     "output_type": "stream",
     "text": [
      "c:\\Users\\sylva\\AppData\\Local\\Programs\\Python\\Python310\\lib\\site-packages\\sklearn\\preprocessing\\_encoders.py:188: UserWarning:\n",
      "\n",
      "Found unknown categories in columns [3] during transform. These unknown categories will be encoded as all zeros\n",
      "\n"
     ]
    }
   ],
   "source": [
    "Y = df.loc[:,\"winner_home\"]\n",
    "X = df.loc[:,[c for c in df.columns if ((c!=\"winner_home\") and (c!='idgame'))]]\n",
    "\n",
    "X_train, X_test, Y_train, Y_test = train_test_split(X, Y, test_size=0.2, random_state=0, stratify = Y)\n",
    "\n",
    "# select automatically the numerical and categorical columns\n",
    "num_col = X.select_dtypes([np.number]).columns\n",
    "cat_col = X.select_dtypes(\"object\").columns\n",
    "\n",
    "# Create pipeline for numeric features\n",
    "numeric_features = X.select_dtypes([np.number]).columns \n",
    "numeric_transformer = Pipeline(steps=[\n",
    "    ('imputer', SimpleImputer(strategy='mean')), # missing values in Age will be replaced by columns' mean\n",
    "    ('scaler', StandardScaler())])\n",
    "\n",
    "# Create pipeline for categorical features\n",
    "categorical_features = X.select_dtypes(\"object\").columns \n",
    "categorical_transformer = Pipeline(\n",
    "    steps=[\n",
    "    ('imputer', SimpleImputer(strategy='most_frequent')), # missing values will be replaced by most frequent value\n",
    "    ('encoder', OneHotEncoder(drop='first', handle_unknown = 'ignore')) # first column will be dropped to avoid creating correlations between features\n",
    "    ])\n",
    "\n",
    "# Use ColumnTranformer to make a preprocessor object that describes all the treatments to be done\n",
    "preprocessor = ColumnTransformer(\n",
    "    transformers=[\n",
    "        ('num', numeric_transformer, numeric_features),\n",
    "        ('cat', categorical_transformer, categorical_features)\n",
    "    ])\n",
    "\n",
    "X_train = preprocessor.fit_transform(X_train)\n",
    "X_test = preprocessor.transform(X_test)"
   ]
  },
  {
   "cell_type": "markdown",
   "metadata": {},
   "source": [
    "Logistic Regression"
   ]
  },
  {
   "cell_type": "code",
   "execution_count": 58,
   "metadata": {},
   "outputs": [
    {
     "name": "stdout",
     "output_type": "stream",
     "text": [
      "Accuracy on training set :  0.7255092143549952\n",
      "Accuracy on test set :  0.6317829457364341\n"
     ]
    }
   ],
   "source": [
    "model = LogisticRegression(max_iter=200)\n",
    "model.fit(X_train, Y_train)\n",
    "\n",
    "Y_train_pred = model.predict(X_train)\n",
    "Y_test_pred = model.predict(X_test)\n",
    "\n",
    "print(\"Accuracy on training set : \", accuracy_score(Y_train, Y_train_pred))\n",
    "print(\"Accuracy on test set : \", accuracy_score(Y_test, Y_test_pred))"
   ]
  },
  {
   "cell_type": "markdown",
   "metadata": {},
   "source": [
    "RandomForest"
   ]
  },
  {
   "cell_type": "code",
   "execution_count": 59,
   "metadata": {},
   "outputs": [
    {
     "name": "stdout",
     "output_type": "stream",
     "text": [
      "Accuracy on training set :  1.0\n",
      "Accuracy on test set :  0.624031007751938\n"
     ]
    }
   ],
   "source": [
    "model_rf = RandomForestClassifier()\n",
    "model_rf.fit(X_train, Y_train)\n",
    "\n",
    "Y_train_pred = model_rf.predict(X_train)\n",
    "Y_test_pred = model_rf.predict(X_test)\n",
    "\n",
    "print(\"Accuracy on training set : \", accuracy_score(Y_train, Y_train_pred))\n",
    "print(\"Accuracy on test set : \", accuracy_score(Y_test, Y_test_pred))"
   ]
  },
  {
   "cell_type": "markdown",
   "metadata": {},
   "source": [
    "XGBoost"
   ]
  },
  {
   "cell_type": "code",
   "execution_count": 60,
   "metadata": {},
   "outputs": [
    {
     "name": "stdout",
     "output_type": "stream",
     "text": [
      "Accuracy on training set :  1.0\n",
      "Accuracy on test set :  0.5736434108527132\n"
     ]
    }
   ],
   "source": [
    "model_xgb = XGBClassifier()\n",
    "model_xgb.fit(X_train, Y_train)\n",
    "\n",
    "Y_train_pred = model_xgb.predict(X_train)\n",
    "Y_test_pred = model_xgb.predict(X_test)\n",
    "\n",
    "print(\"Accuracy on training set : \", accuracy_score(Y_train, Y_train_pred))\n",
    "print(\"Accuracy on test set : \", accuracy_score(Y_test, Y_test_pred))"
   ]
  },
  {
   "cell_type": "markdown",
   "metadata": {},
   "source": [
    "Visualisation"
   ]
  },
  {
   "cell_type": "code",
   "execution_count": 61,
   "metadata": {},
   "outputs": [
    {
     "data": {
      "image/png": "[encoded data removed]",
      "text/plain": [
       "<Figure size 432x288 with 1 Axes>"
      ]
     },
     "metadata": {
      "needs_background": "light"
     },
     "output_type": "display_data"
    },
    {
     "data": {
      "image/png": "[encoded data removed]",
      "text/plain": [
       "<Figure size 432x288 with 1 Axes>"
      ]
     },
     "metadata": {
      "needs_background": "light"
     },
     "output_type": "display_data"
    }
   ],
   "source": [
    "# Visualize ROC curves\n",
    "_ , ax = plt.subplots() # Get subplot from matplotlib\n",
    "ax.set(title=\"ROC Curve on Train set\") # Set a title that we will add into ConfusionMatrixDisplay\n",
    "RocCurveDisplay.from_estimator(model, X_train, Y_train, ax=ax) # RocCurveDisplay from sklearn\n",
    "plt.show()\n",
    "\n",
    "_ , ax = plt.subplots() # Get subplot from matplotlib\n",
    "ax.set(title=\"ROC Curve on Test set\") # Set a title that we will add into ConfusionMatrixDisplay\n",
    "RocCurveDisplay.from_estimator(model, X_test, Y_test, ax=ax) # RocCurveDisplay from sklearn\n",
    "plt.show()"
   ]
  },
  {
   "cell_type": "markdown",
   "metadata": {},
   "source": [
    "Features importance"
   ]
  },
  {
   "cell_type": "code",
   "execution_count": 62,
   "metadata": {},
   "outputs": [
    {
     "name": "stdout",
     "output_type": "stream",
     "text": [
      "Grid search...\n",
      "...Done.\n",
      "Best hyperparameters :  {'max_depth': 8, 'min_samples_leaf': 5, 'min_samples_split': 8, 'n_estimators': 60}\n",
      "Best validation accuracy :  0.6071947844847803\n"
     ]
    }
   ],
   "source": [
    "# Perform grid search\n",
    "print(\"Grid search...\")\n",
    "classifier = RandomForestClassifier()\n",
    "\n",
    "# Grid of values to be tested\n",
    "params = {\n",
    "    'max_depth': [2, 4, 6, 8, 10],\n",
    "    'min_samples_leaf': [1, 2, 5],\n",
    "    'min_samples_split': [2, 4, 8],\n",
    "    'n_estimators': [10, 20, 40, 60, 80, 100]\n",
    "}\n",
    "gridsearch = GridSearchCV(classifier, param_grid = params, cv = 5, n_jobs=-1) # cv : the number of folds to be used for CV\n",
    "gridsearch.fit(X_train, Y_train)\n",
    "print(\"...Done.\")\n",
    "print(\"Best hyperparameters : \", gridsearch.best_params_)\n",
    "print(\"Best validation accuracy : \", gridsearch.best_score_)"
   ]
  },
  {
   "cell_type": "code",
   "execution_count": 63,
   "metadata": {},
   "outputs": [
    {
     "name": "stdout",
     "output_type": "stream",
     "text": [
      "Predictions on training set...\n",
      "...Done.\n",
      "Probabilities on training set...\n",
      "...Done.\n",
      "Predictions on test set...\n",
      "...Done.\n",
      "Probabilities on test set...\n",
      "...Done.\n",
      "accuracy on training set :  0.8399612027158099\n",
      "accuracy on test set :  0.6201550387596899\n",
      "\n",
      "f1-score on training set :  0.8609941027801179\n",
      "f1-score on test set :  0.6711409395973155\n",
      "\n"
     ]
    }
   ],
   "source": [
    "# Predictions on training set\n",
    "print(\"Predictions on training set...\")\n",
    "Y_train_pred = gridsearch.predict(X_train)\n",
    "print(\"...Done.\")\n",
    "\n",
    "# It's also possible to get the probabilities estimated by the model:\n",
    "print(\"Probabilities on training set...\")\n",
    "Y_train_proba = gridsearch.predict_proba(X_train)\n",
    "print(\"...Done.\")\n",
    "\n",
    "# Predictions on test set\n",
    "print(\"Predictions on test set...\")\n",
    "Y_test_pred = gridsearch.predict(X_test)\n",
    "print(\"...Done.\")\n",
    "\n",
    "# It's also possible to get the probabilities estimated by the model:\n",
    "print(\"Probabilities on test set...\")\n",
    "Y_test_proba = gridsearch.predict_proba(X_test)\n",
    "print(\"...Done.\")\n",
    "\n",
    "# Print scores\n",
    "print(\"accuracy on training set : \", accuracy_score(Y_train, Y_train_pred))\n",
    "print(\"accuracy on test set : \", accuracy_score(Y_test, Y_test_pred))\n",
    "print()\n",
    "\n",
    "print(\"f1-score on training set : \", f1_score(Y_train, Y_train_pred))\n",
    "print(\"f1-score on test set : \", f1_score(Y_test, Y_test_pred))\n",
    "print()"
   ]
  },
  {
   "cell_type": "code",
   "execution_count": 64,
   "metadata": {},
   "outputs": [
    {
     "name": "stdout",
     "output_type": "stream",
     "text": [
      "Names of columns corresponding to each coefficient:  ['season', 'week', 'temperature', 'humidity', 'wind', 'streak_away', 'pass_yds_MA_5_away', 'pass_td_MA_5_away', 'rush_yds_MA_5_away', 'rush_td_MA_5_away', 'rec_yds_MA_5_away', 'rec_td_MA_5_away', 'fumbles_MA_5_away', 'fumbles_rec_MA_5_away', 'defense_sacks_MA_5_away', 'defense_td_MA_5_away', 'interceptions_MA_5_away', 'interceptions_td_MA_5_away', 'kicks_return_yds_MA_5_away', 'kicks_return_td_MA_5_away', 'punt_return_yds_MA_5_away', 'kicking_pts_MA_5_away', 'streak_home', 'pass_yds_MA_5_home', 'pass_td_MA_5_home', 'rush_yds_MA_5_home', 'rush_td_MA_5_home', 'rec_yds_MA_5_home', 'rec_td_MA_5_home', 'fumbles_MA_5_home', 'fumbles_rec_MA_5_home', 'defense_sacks_MA_5_home', 'defense_td_MA_5_home', 'interceptions_MA_5_home', 'interceptions_td_MA_5_home', 'kicks_return_yds_MA_5_home', 'kicks_return_td_MA_5_home', 'punt_return_yds_MA_5_home', 'kicking_pts_MA_5_home', 'delta_day_away', 'delta_day_home', 'people', 'month', 'dayofmonth', 'dayofweek', 'awayteam_Bears', 'awayteam_Bengals', 'awayteam_Bills', 'awayteam_Broncos', 'awayteam_Browns', 'awayteam_Buccaneers', 'awayteam_Cardinals', 'awayteam_Chargers', 'awayteam_Chiefs', 'awayteam_Colts', 'awayteam_Cowboys', 'awayteam_Dolphins', 'awayteam_Eagles', 'awayteam_Falcons', 'awayteam_Giants', 'awayteam_Jaguars', 'awayteam_Jets', 'awayteam_Lions', 'awayteam_Packers', 'awayteam_Panthers', 'awayteam_Patriots', 'awayteam_Raiders', 'awayteam_Rams', 'awayteam_Ravens', 'awayteam_Saints', 'awayteam_Seahawks', 'awayteam_Steelers', 'awayteam_Texans', 'awayteam_Titans', 'awayteam_Vikings', 'awayteam_Washington', 'hometeam_Bears', 'hometeam_Bengals', 'hometeam_Bills', 'hometeam_Broncos', 'hometeam_Browns', 'hometeam_Buccaneers', 'hometeam_Cardinals', 'hometeam_Chargers', 'hometeam_Chiefs', 'hometeam_Colts', 'hometeam_Cowboys', 'hometeam_Dolphins', 'hometeam_Eagles', 'hometeam_Falcons', 'hometeam_Giants', 'hometeam_Jaguars', 'hometeam_Jets', 'hometeam_Lions', 'hometeam_Packers', 'hometeam_Panthers', 'hometeam_Patriots', 'hometeam_Raiders', 'hometeam_Rams', 'hometeam_Ravens', 'hometeam_Saints', 'hometeam_Seahawks', 'hometeam_Steelers', 'hometeam_Texans', 'hometeam_Titans', 'hometeam_Vikings', 'hometeam_Washington', 'home_coach_Andy Reid', 'home_coach_Anthony Lynn', 'home_coach_Arthur Smith', 'home_coach_Ben McAdoo', 'home_coach_Bill Belichick', 'home_coach_Bill Callahan', \"home_coach_Bill O'Brien\", 'home_coach_Brandon Staley', 'home_coach_Brian Flores', 'home_coach_Bruce Arians', 'home_coach_Chuck Pagano', 'home_coach_Dan Campbell', 'home_coach_Dan Quinn', 'home_coach_Darrell Bevell', 'home_coach_David Culley', 'home_coach_Dirk Koetter', 'home_coach_Doug Marrone', 'home_coach_Doug Pederson', 'home_coach_Frank Reich', 'home_coach_Freddie Kitchens', 'home_coach_Gregg Williams', 'home_coach_Hue Jackson', 'home_coach_Jack Del Rio', 'home_coach_Jason Garrett', 'home_coach_Jay Gruden', 'home_coach_Jim Caldwell', 'home_coach_Joe Judge', 'home_coach_Joe Philbin', 'home_coach_John Fox', 'home_coach_John Harbaugh', 'home_coach_Jon Gruden', 'home_coach_Kevin Stefanski', 'home_coach_Kliff Kingsbury', 'home_coach_Kyle Shanahan', 'home_coach_Marvin Lewis', 'home_coach_Matt LaFleur', 'home_coach_Matt Nagy', 'home_coach_Matt Patricia', 'home_coach_Matt Rhule', 'home_coach_Mike McCarthy', 'home_coach_Mike Mularkey', 'home_coach_Mike Tomlin', 'home_coach_Mike Vrabel', 'home_coach_Mike Zimmer', 'home_coach_Nick Sirianni', 'home_coach_Pat Shurmur', 'home_coach_Pete Carroll', 'home_coach_Raheem Morris', 'home_coach_Rich Bisaccia', 'home_coach_Robert Saleh', 'home_coach_Romeo Crennel', 'home_coach_Ron Rivera', 'home_coach_Sean McDermott', 'home_coach_Sean McVay', 'home_coach_Sean Payton', 'home_coach_Steve Spagnuolo', 'home_coach_Steve Wilks', 'home_coach_Todd Bowles', 'home_coach_Urban Meyer', 'home_coach_Vance Joseph', 'home_coach_Vic Fangio', 'home_coach_Zac Taylor', 'away_coach_Andy Reid', 'away_coach_Anthony Lynn', 'away_coach_Arthur Smith', 'away_coach_Ben McAdoo', 'away_coach_Bill Belichick', 'away_coach_Bill Callahan', \"away_coach_Bill O'Brien\", 'away_coach_Brandon Staley', 'away_coach_Brian Flores', 'away_coach_Bruce Arians', 'away_coach_Chuck Pagano', 'away_coach_Dan Campbell', 'away_coach_Dan Quinn', 'away_coach_Darrell Bevell', 'away_coach_David Culley', 'away_coach_Dirk Koetter', 'away_coach_Doug Marrone', 'away_coach_Doug Pederson', 'away_coach_Frank Reich', 'away_coach_Freddie Kitchens', 'away_coach_Gregg Williams', 'away_coach_Hue Jackson', 'away_coach_Jack Del Rio', 'away_coach_Jason Garrett', 'away_coach_Jay Gruden', 'away_coach_Jim Caldwell', 'away_coach_Joe Judge', 'away_coach_Joe Philbin', 'away_coach_John Fox', 'away_coach_John Harbaugh', 'away_coach_Jon Gruden', 'away_coach_Kevin Stefanski', 'away_coach_Kliff Kingsbury', 'away_coach_Kyle Shanahan', 'away_coach_Marvin Lewis', 'away_coach_Matt LaFleur', 'away_coach_Matt Nagy', 'away_coach_Matt Patricia', 'away_coach_Matt Rhule', 'away_coach_Mike McCarthy', 'away_coach_Mike Mularkey', 'away_coach_Mike Tomlin', 'away_coach_Mike Vrabel', 'away_coach_Mike Zimmer', 'away_coach_Nick Sirianni', 'away_coach_Pat Shurmur', 'away_coach_Pete Carroll', 'away_coach_Raheem Morris', 'away_coach_Rich Bisaccia', 'away_coach_Robert Saleh', 'away_coach_Romeo Crennel', 'away_coach_Ron Rivera', 'away_coach_Sean McDermott', 'away_coach_Sean McVay', 'away_coach_Sean Payton', 'away_coach_Steve Wilks', 'away_coach_Todd Bowles', 'away_coach_Urban Meyer', 'away_coach_Vance Joseph', 'away_coach_Vic Fangio', 'away_coach_Zac Taylor', 'weather_type_fair', 'weather_type_fog', 'weather_type_indoor', 'weather_type_rain', 'weather_type_snow', 'weather_type_sunny', 'stade_Acrisure Stadium', 'stade_Allegiant Stadium', 'stade_Bank of America Stadium', 'stade_Caesars Superdome', 'stade_Dignity Health Sports Park', 'stade_Empower Field at Mile High', 'stade_Estadio Azteca', 'stade_FedExField', 'stade_FirstEnergy Stadium', 'stade_Ford Field', 'stade_GEHA Field at Arrowhead Stadium', 'stade_Gillette Stadium', 'stade_Hard Rock Stadium', 'stade_Highmark Stadium', 'stade_Lambeau Field', \"stade_Levi's Stadium\", 'stade_Lincoln Financial Field', 'stade_Los Angeles Memorial Coliseum', 'stade_Lucas Oil Stadium', 'stade_Lumen Field', 'stade_M&T Bank Stadium', 'stade_Mercedes-Benz Stadium', 'stade_MetLife Stadium', 'stade_NRG Stadium', 'stade_Nissan Stadium', 'stade_Oakland Coliseum', 'stade_Paycor Stadium', 'stade_Raymond James Stadium', 'stade_SoFi Stadium', 'stade_Soldier Field', 'stade_State Farm Stadium', 'stade_TIAA Bank Field', 'stade_Tottenham Hotspur Stadium', 'stade_Twickenham Stadium', 'stade_U.S. Bank Stadium', 'stade_Wembley Stadium', 'location_Atlanta, GA', 'location_Baltimore, MD', 'location_Carson, CA', 'location_Charlotte, NC', 'location_Chicago, IL', 'location_Cincinnati, OH', 'location_Cleveland, OH', 'location_Denver, CO', 'location_Detroit, MI', 'location_East Rutherford, NJ', 'location_Foxboro, MA', 'location_Glendale, AZ', 'location_Green Bay, WI', 'location_Houston, TX', 'location_Indianapolis, IN', 'location_Inglewood, CA', 'location_Jacksonville, FL', 'location_Kansas City, MO', 'location_Landover, MD', 'location_Las Vegas, NV', 'location_London', 'location_Los Angeles, CA', 'location_Mexico City', 'location_Miami Gardens, FL', 'location_Minneapolis, MN', 'location_Nashville, TN', 'location_New Orleans, LA', 'location_Oakland, CA', 'location_Orchard Park, NY', 'location_Philadelphia, PA', 'location_Pittsburgh, PA', 'location_Santa Clara, CA', 'location_Seattle, WA', 'location_Tampa, FL']\n"
     ]
    }
   ],
   "source": [
    "column_names = []\n",
    "for name, step, features_list in preprocessor.transformers_: # loop over steps of ColumnTransformer\n",
    "    if name == 'num': # if pipeline is for numeric variables\n",
    "        features = features_list # just get the names of columns to which it has been applied\n",
    "    else: # if pipeline is for categorical variables\n",
    "        features = step.get_feature_names_out() # get output columns names from OneHotEncoder\n",
    "    column_names.extend(features) # concatenate features names\n",
    "        \n",
    "print(\"Names of columns corresponding to each coefficient: \", column_names)"
   ]
  },
  {
   "cell_type": "code",
   "execution_count": 75,
   "metadata": {},
   "outputs": [],
   "source": [
    "# Create a pandas DataFrame\n",
    "feature_importance = pd.DataFrame(index = column_names, data = gridsearch.best_estimator_.feature_importances_, columns=[\"feature_importances\"])\n",
    "feature_importance = feature_importance.sort_values(by = 'feature_importances', ascending = False)"
   ]
  },
  {
   "cell_type": "code",
   "execution_count": 79,
   "metadata": {},
   "outputs": [
    {
     "data": {
      "text/html": [
       "<div>\n",
       "<style scoped>\n",
       "    .dataframe tbody tr th:only-of-type {\n",
       "        vertical-align: middle;\n",
       "    }\n",
       "\n",
       "    .dataframe tbody tr th {\n",
       "        vertical-align: top;\n",
       "    }\n",
       "\n",
       "    .dataframe thead th {\n",
       "        text-align: right;\n",
       "    }\n",
       "</style>\n",
       "<table border=\"1\" class=\"dataframe\">\n",
       "  <thead>\n",
       "    <tr style=\"text-align: right;\">\n",
       "      <th></th>\n",
       "      <th>feature_importances</th>\n",
       "    </tr>\n",
       "  </thead>\n",
       "  <tbody>\n",
       "    <tr>\n",
       "      <th>pass_yds_MA_5_away</th>\n",
       "      <td>0.039483</td>\n",
       "    </tr>\n",
       "    <tr>\n",
       "      <th>kicking_pts_MA_5_away</th>\n",
       "      <td>0.034663</td>\n",
       "    </tr>\n",
       "    <tr>\n",
       "      <th>rush_yds_MA_5_home</th>\n",
       "      <td>0.031712</td>\n",
       "    </tr>\n",
       "    <tr>\n",
       "      <th>kicking_pts_MA_5_home</th>\n",
       "      <td>0.030351</td>\n",
       "    </tr>\n",
       "    <tr>\n",
       "      <th>punt_return_yds_MA_5_away</th>\n",
       "      <td>0.029996</td>\n",
       "    </tr>\n",
       "    <tr>\n",
       "      <th>rec_yds_MA_5_home</th>\n",
       "      <td>0.029387</td>\n",
       "    </tr>\n",
       "    <tr>\n",
       "      <th>rec_yds_MA_5_away</th>\n",
       "      <td>0.029058</td>\n",
       "    </tr>\n",
       "    <tr>\n",
       "      <th>rush_yds_MA_5_away</th>\n",
       "      <td>0.028883</td>\n",
       "    </tr>\n",
       "    <tr>\n",
       "      <th>streak_away</th>\n",
       "      <td>0.027388</td>\n",
       "    </tr>\n",
       "    <tr>\n",
       "      <th>pass_td_MA_5_away</th>\n",
       "      <td>0.027196</td>\n",
       "    </tr>\n",
       "    <tr>\n",
       "      <th>kicks_return_yds_MA_5_home</th>\n",
       "      <td>0.026487</td>\n",
       "    </tr>\n",
       "    <tr>\n",
       "      <th>punt_return_yds_MA_5_home</th>\n",
       "      <td>0.025805</td>\n",
       "    </tr>\n",
       "    <tr>\n",
       "      <th>rec_td_MA_5_home</th>\n",
       "      <td>0.024072</td>\n",
       "    </tr>\n",
       "    <tr>\n",
       "      <th>rec_td_MA_5_away</th>\n",
       "      <td>0.023100</td>\n",
       "    </tr>\n",
       "    <tr>\n",
       "      <th>pass_td_MA_5_home</th>\n",
       "      <td>0.022772</td>\n",
       "    </tr>\n",
       "    <tr>\n",
       "      <th>people</th>\n",
       "      <td>0.021030</td>\n",
       "    </tr>\n",
       "    <tr>\n",
       "      <th>humidity</th>\n",
       "      <td>0.020977</td>\n",
       "    </tr>\n",
       "    <tr>\n",
       "      <th>streak_home</th>\n",
       "      <td>0.020458</td>\n",
       "    </tr>\n",
       "    <tr>\n",
       "      <th>pass_yds_MA_5_home</th>\n",
       "      <td>0.020371</td>\n",
       "    </tr>\n",
       "    <tr>\n",
       "      <th>rush_td_MA_5_away</th>\n",
       "      <td>0.018987</td>\n",
       "    </tr>\n",
       "  </tbody>\n",
       "</table>\n",
       "</div>"
      ],
      "text/plain": [
       "                            feature_importances\n",
       "pass_yds_MA_5_away                     0.039483\n",
       "kicking_pts_MA_5_away                  0.034663\n",
       "rush_yds_MA_5_home                     0.031712\n",
       "kicking_pts_MA_5_home                  0.030351\n",
       "punt_return_yds_MA_5_away              0.029996\n",
       "rec_yds_MA_5_home                      0.029387\n",
       "rec_yds_MA_5_away                      0.029058\n",
       "rush_yds_MA_5_away                     0.028883\n",
       "streak_away                            0.027388\n",
       "pass_td_MA_5_away                      0.027196\n",
       "kicks_return_yds_MA_5_home             0.026487\n",
       "punt_return_yds_MA_5_home              0.025805\n",
       "rec_td_MA_5_home                       0.024072\n",
       "rec_td_MA_5_away                       0.023100\n",
       "pass_td_MA_5_home                      0.022772\n",
       "people                                 0.021030\n",
       "humidity                               0.020977\n",
       "streak_home                            0.020458\n",
       "pass_yds_MA_5_home                     0.020371\n",
       "rush_td_MA_5_away                      0.018987"
      ]
     },
     "execution_count": 79,
     "metadata": {},
     "output_type": "execute_result"
    }
   ],
   "source": [
    "feature_importance.sort_values(by = 'feature_importances', ascending =False)[:20]"
   ]
  },
  {
   "cell_type": "code",
   "execution_count": 78,
   "metadata": {},
   "outputs": [
    {
     "data": {
      "application/vnd.plotly.v1+json": {
       "config": {
        "plotlyServerURL": "https://plot.ly"
       },
       "data": [
        {
         "alignmentgroup": "True",
         "hovertemplate": "variable=feature_importances<br>value=%{x}<br>index=%{y}<extra></extra>",
         "legendgroup": "feature_importances",
         "marker": {
          "color": "#636efa"
         },
         "name": "feature_importances",
         "offsetgroup": "feature_importances",
         "orientation": "h",
         "showlegend": true,
         "textposition": "auto",
         "type": "bar",
         "x": [
          0.039483078324778646,
          0.03466329588977625,
          0.031711670761208385,
          0.03035122777323869,
          0.029996256994604124,
          0.029387138945616384,
          0.02905841519506108,
          0.028883357239233045,
          0.027387718750671333,
          0.027195933402489388,
          0.026486640884253624,
          0.025805004412216434,
          0.024072138425944,
          0.023099704227883322,
          0.022772288910799188,
          0.021030137842848306,
          0.020976553946533086,
          0.02045794385195702,
          0.020370986193870084,
          0.018986684792647604
         ],
         "xaxis": "x",
         "y": [
          "pass_yds_MA_5_away",
          "kicking_pts_MA_5_away",
          "rush_yds_MA_5_home",
          "kicking_pts_MA_5_home",
          "punt_return_yds_MA_5_away",
          "rec_yds_MA_5_home",
          "rec_yds_MA_5_away",
          "rush_yds_MA_5_away",
          "streak_away",
          "pass_td_MA_5_away",
          "kicks_return_yds_MA_5_home",
          "punt_return_yds_MA_5_home",
          "rec_td_MA_5_home",
          "rec_td_MA_5_away",
          "pass_td_MA_5_home",
          "people",
          "humidity",
          "streak_home",
          "pass_yds_MA_5_home",
          "rush_td_MA_5_away"
         ],
         "yaxis": "y"
        }
       ],
       "layout": {
        "barmode": "relative",
        "legend": {
         "title": {
          "text": "variable"
         },
         "tracegroupgap": 0
        },
        "margin": {
         "l": 120,
         "t": 60
        },
        "showlegend": false,
        "template": {
         "data": {
          "bar": [
           {
            "error_x": {
             "color": "#2a3f5f"
            },
            "error_y": {
             "color": "#2a3f5f"
            },
            "marker": {
             "line": {
              "color": "#E5ECF6",
              "width": 0.5
             }
            },
            "type": "bar"
           }
          ],
          "barpolar": [
           {
            "marker": {
             "line": {
              "color": "#E5ECF6",
              "width": 0.5
             }
            },
            "type": "barpolar"
           }
          ],
          "carpet": [
           {
            "aaxis": {
             "endlinecolor": "#2a3f5f",
             "gridcolor": "white",
             "linecolor": "white",
             "minorgridcolor": "white",
             "startlinecolor": "#2a3f5f"
            },
            "baxis": {
             "endlinecolor": "#2a3f5f",
             "gridcolor": "white",
             "linecolor": "white",
             "minorgridcolor": "white",
             "startlinecolor": "#2a3f5f"
            },
            "type": "carpet"
           }
          ],
          "choropleth": [
           {
            "colorbar": {
             "outlinewidth": 0,
             "ticks": ""
            },
            "type": "choropleth"
           }
          ],
          "contour": [
           {
            "colorbar": {
             "outlinewidth": 0,
             "ticks": ""
            },
            "colorscale": [
             [
              0,
              "#0d0887"
             ],
             [
              0.1111111111111111,
              "#46039f"
             ],
             [
              0.2222222222222222,
              "#7201a8"
             ],
             [
              0.3333333333333333,
              "#9c179e"
             ],
             [
              0.4444444444444444,
              "#bd3786"
             ],
             [
              0.5555555555555556,
              "#d8576b"
             ],
             [
              0.6666666666666666,
              "#ed7953"
             ],
             [
              0.7777777777777778,
              "#fb9f3a"
             ],
             [
              0.8888888888888888,
              "#fdca26"
             ],
             [
              1,
              "#f0f921"
             ]
            ],
            "type": "contour"
           }
          ],
          "contourcarpet": [
           {
            "colorbar": {
             "outlinewidth": 0,
             "ticks": ""
            },
            "type": "contourcarpet"
           }
          ],
          "heatmap": [
           {
            "colorbar": {
             "outlinewidth": 0,
             "ticks": ""
            },
            "colorscale": [
             [
              0,
              "#0d0887"
             ],
             [
              0.1111111111111111,
              "#46039f"
             ],
             [
              0.2222222222222222,
              "#7201a8"
             ],
             [
              0.3333333333333333,
              "#9c179e"
             ],
             [
              0.4444444444444444,
              "#bd3786"
             ],
             [
              0.5555555555555556,
              "#d8576b"
             ],
             [
              0.6666666666666666,
              "#ed7953"
             ],
             [
              0.7777777777777778,
              "#fb9f3a"
             ],
             [
              0.8888888888888888,
              "#fdca26"
             ],
             [
              1,
              "#f0f921"
             ]
            ],
            "type": "heatmap"
           }
          ],
          "heatmapgl": [
           {
            "colorbar": {
             "outlinewidth": 0,
             "ticks": ""
            },
            "colorscale": [
             [
              0,
              "#0d0887"
             ],
             [
              0.1111111111111111,
              "#46039f"
             ],
             [
              0.2222222222222222,
              "#7201a8"
             ],
             [
              0.3333333333333333,
              "#9c179e"
             ],
             [
              0.4444444444444444,
              "#bd3786"
             ],
             [
              0.5555555555555556,
              "#d8576b"
             ],
             [
              0.6666666666666666,
              "#ed7953"
             ],
             [
              0.7777777777777778,
              "#fb9f3a"
             ],
             [
              0.8888888888888888,
              "#fdca26"
             ],
             [
              1,
              "#f0f921"
             ]
            ],
            "type": "heatmapgl"
           }
          ],
          "histogram": [
           {
            "marker": {
             "colorbar": {
              "outlinewidth": 0,
              "ticks": ""
             }
            },
            "type": "histogram"
           }
          ],
          "histogram2d": [
           {
            "colorbar": {
             "outlinewidth": 0,
             "ticks": ""
            },
            "colorscale": [
             [
              0,
              "#0d0887"
             ],
             [
              0.1111111111111111,
              "#46039f"
             ],
             [
              0.2222222222222222,
              "#7201a8"
             ],
             [
              0.3333333333333333,
              "#9c179e"
             ],
             [
              0.4444444444444444,
              "#bd3786"
             ],
             [
              0.5555555555555556,
              "#d8576b"
             ],
             [
              0.6666666666666666,
              "#ed7953"
             ],
             [
              0.7777777777777778,
              "#fb9f3a"
             ],
             [
              0.8888888888888888,
              "#fdca26"
             ],
             [
              1,
              "#f0f921"
             ]
            ],
            "type": "histogram2d"
           }
          ],
          "histogram2dcontour": [
           {
            "colorbar": {
             "outlinewidth": 0,
             "ticks": ""
            },
            "colorscale": [
             [
              0,
              "#0d0887"
             ],
             [
              0.1111111111111111,
              "#46039f"
             ],
             [
              0.2222222222222222,
              "#7201a8"
             ],
             [
              0.3333333333333333,
              "#9c179e"
             ],
             [
              0.4444444444444444,
              "#bd3786"
             ],
             [
              0.5555555555555556,
              "#d8576b"
             ],
             [
              0.6666666666666666,
              "#ed7953"
             ],
             [
              0.7777777777777778,
              "#fb9f3a"
             ],
             [
              0.8888888888888888,
              "#fdca26"
             ],
             [
              1,
              "#f0f921"
             ]
            ],
            "type": "histogram2dcontour"
           }
          ],
          "mesh3d": [
           {
            "colorbar": {
             "outlinewidth": 0,
             "ticks": ""
            },
            "type": "mesh3d"
           }
          ],
          "parcoords": [
           {
            "line": {
             "colorbar": {
              "outlinewidth": 0,
              "ticks": ""
             }
            },
            "type": "parcoords"
           }
          ],
          "pie": [
           {
            "automargin": true,
            "type": "pie"
           }
          ],
          "scatter": [
           {
            "marker": {
             "colorbar": {
              "outlinewidth": 0,
              "ticks": ""
             }
            },
            "type": "scatter"
           }
          ],
          "scatter3d": [
           {
            "line": {
             "colorbar": {
              "outlinewidth": 0,
              "ticks": ""
             }
            },
            "marker": {
             "colorbar": {
              "outlinewidth": 0,
              "ticks": ""
             }
            },
            "type": "scatter3d"
           }
          ],
          "scattercarpet": [
           {
            "marker": {
             "colorbar": {
              "outlinewidth": 0,
              "ticks": ""
             }
            },
            "type": "scattercarpet"
           }
          ],
          "scattergeo": [
           {
            "marker": {
             "colorbar": {
              "outlinewidth": 0,
              "ticks": ""
             }
            },
            "type": "scattergeo"
           }
          ],
          "scattergl": [
           {
            "marker": {
             "colorbar": {
              "outlinewidth": 0,
              "ticks": ""
             }
            },
            "type": "scattergl"
           }
          ],
          "scattermapbox": [
           {
            "marker": {
             "colorbar": {
              "outlinewidth": 0,
              "ticks": ""
             }
            },
            "type": "scattermapbox"
           }
          ],
          "scatterpolar": [
           {
            "marker": {
             "colorbar": {
              "outlinewidth": 0,
              "ticks": ""
             }
            },
            "type": "scatterpolar"
           }
          ],
          "scatterpolargl": [
           {
            "marker": {
             "colorbar": {
              "outlinewidth": 0,
              "ticks": ""
             }
            },
            "type": "scatterpolargl"
           }
          ],
          "scatterternary": [
           {
            "marker": {
             "colorbar": {
              "outlinewidth": 0,
              "ticks": ""
             }
            },
            "type": "scatterternary"
           }
          ],
          "surface": [
           {
            "colorbar": {
             "outlinewidth": 0,
             "ticks": ""
            },
            "colorscale": [
             [
              0,
              "#0d0887"
             ],
             [
              0.1111111111111111,
              "#46039f"
             ],
             [
              0.2222222222222222,
              "#7201a8"
             ],
             [
              0.3333333333333333,
              "#9c179e"
             ],
             [
              0.4444444444444444,
              "#bd3786"
             ],
             [
              0.5555555555555556,
              "#d8576b"
             ],
             [
              0.6666666666666666,
              "#ed7953"
             ],
             [
              0.7777777777777778,
              "#fb9f3a"
             ],
             [
              0.8888888888888888,
              "#fdca26"
             ],
             [
              1,
              "#f0f921"
             ]
            ],
            "type": "surface"
           }
          ],
          "table": [
           {
            "cells": {
             "fill": {
              "color": "#EBF0F8"
             },
             "line": {
              "color": "white"
             }
            },
            "header": {
             "fill": {
              "color": "#C8D4E3"
             },
             "line": {
              "color": "white"
             }
            },
            "type": "table"
           }
          ]
         },
         "layout": {
          "annotationdefaults": {
           "arrowcolor": "#2a3f5f",
           "arrowhead": 0,
           "arrowwidth": 1
          },
          "coloraxis": {
           "colorbar": {
            "outlinewidth": 0,
            "ticks": ""
           }
          },
          "colorscale": {
           "diverging": [
            [
             0,
             "#8e0152"
            ],
            [
             0.1,
             "#c51b7d"
            ],
            [
             0.2,
             "#de77ae"
            ],
            [
             0.3,
             "#f1b6da"
            ],
            [
             0.4,
             "#fde0ef"
            ],
            [
             0.5,
             "#f7f7f7"
            ],
            [
             0.6,
             "#e6f5d0"
            ],
            [
             0.7,
             "#b8e186"
            ],
            [
             0.8,
             "#7fbc41"
            ],
            [
             0.9,
             "#4d9221"
            ],
            [
             1,
             "#276419"
            ]
           ],
           "sequential": [
            [
             0,
             "#0d0887"
            ],
            [
             0.1111111111111111,
             "#46039f"
            ],
            [
             0.2222222222222222,
             "#7201a8"
            ],
            [
             0.3333333333333333,
             "#9c179e"
            ],
            [
             0.4444444444444444,
             "#bd3786"
            ],
            [
             0.5555555555555556,
             "#d8576b"
            ],
            [
             0.6666666666666666,
             "#ed7953"
            ],
            [
             0.7777777777777778,
             "#fb9f3a"
            ],
            [
             0.8888888888888888,
             "#fdca26"
            ],
            [
             1,
             "#f0f921"
            ]
           ],
           "sequentialminus": [
            [
             0,
             "#0d0887"
            ],
            [
             0.1111111111111111,
             "#46039f"
            ],
            [
             0.2222222222222222,
             "#7201a8"
            ],
            [
             0.3333333333333333,
             "#9c179e"
            ],
            [
             0.4444444444444444,
             "#bd3786"
            ],
            [
             0.5555555555555556,
             "#d8576b"
            ],
            [
             0.6666666666666666,
             "#ed7953"
            ],
            [
             0.7777777777777778,
             "#fb9f3a"
            ],
            [
             0.8888888888888888,
             "#fdca26"
            ],
            [
             1,
             "#f0f921"
            ]
           ]
          },
          "colorway": [
           "#636efa",
           "#EF553B",
           "#00cc96",
           "#ab63fa",
           "#FFA15A",
           "#19d3f3",
           "#FF6692",
           "#B6E880",
           "#FF97FF",
           "#FECB52"
          ],
          "font": {
           "color": "#2a3f5f"
          },
          "geo": {
           "bgcolor": "white",
           "lakecolor": "white",
           "landcolor": "#E5ECF6",
           "showlakes": true,
           "showland": true,
           "subunitcolor": "white"
          },
          "hoverlabel": {
           "align": "left"
          },
          "hovermode": "closest",
          "mapbox": {
           "style": "light"
          },
          "paper_bgcolor": "white",
          "plot_bgcolor": "#E5ECF6",
          "polar": {
           "angularaxis": {
            "gridcolor": "white",
            "linecolor": "white",
            "ticks": ""
           },
           "bgcolor": "#E5ECF6",
           "radialaxis": {
            "gridcolor": "white",
            "linecolor": "white",
            "ticks": ""
           }
          },
          "scene": {
           "xaxis": {
            "backgroundcolor": "#E5ECF6",
            "gridcolor": "white",
            "gridwidth": 2,
            "linecolor": "white",
            "showbackground": true,
            "ticks": "",
            "zerolinecolor": "white"
           },
           "yaxis": {
            "backgroundcolor": "#E5ECF6",
            "gridcolor": "white",
            "gridwidth": 2,
            "linecolor": "white",
            "showbackground": true,
            "ticks": "",
            "zerolinecolor": "white"
           },
           "zaxis": {
            "backgroundcolor": "#E5ECF6",
            "gridcolor": "white",
            "gridwidth": 2,
            "linecolor": "white",
            "showbackground": true,
            "ticks": "",
            "zerolinecolor": "white"
           }
          },
          "shapedefaults": {
           "line": {
            "color": "#2a3f5f"
           }
          },
          "ternary": {
           "aaxis": {
            "gridcolor": "white",
            "linecolor": "white",
            "ticks": ""
           },
           "baxis": {
            "gridcolor": "white",
            "linecolor": "white",
            "ticks": ""
           },
           "bgcolor": "#E5ECF6",
           "caxis": {
            "gridcolor": "white",
            "linecolor": "white",
            "ticks": ""
           }
          },
          "title": {
           "x": 0.05
          },
          "xaxis": {
           "automargin": true,
           "gridcolor": "white",
           "linecolor": "white",
           "ticks": "",
           "title": {
            "standoff": 15
           },
           "zerolinecolor": "white",
           "zerolinewidth": 2
          },
          "yaxis": {
           "automargin": true,
           "gridcolor": "white",
           "linecolor": "white",
           "ticks": "",
           "title": {
            "standoff": 15
           },
           "zerolinecolor": "white",
           "zerolinewidth": 2
          }
         }
        },
        "xaxis": {
         "anchor": "y",
         "domain": [
          0,
          1
         ],
         "title": {
          "text": "value"
         }
        },
        "yaxis": {
         "anchor": "x",
         "domain": [
          0,
          1
         ],
         "title": {
          "text": "index"
         }
        }
       }
      }
     },
     "metadata": {},
     "output_type": "display_data"
    }
   ],
   "source": [
    "# Plot coefficients\n",
    "fig = px.bar(feature_importance[:20], orientation = 'h')\n",
    "fig.update_layout(showlegend = False, \n",
    "                  margin = {'l': 120} # to avoid cropping of column names\n",
    "                 )\n",
    "fig.show()"
   ]
  },
  {
   "cell_type": "markdown",
   "metadata": {},
   "source": [
    "## Preprocessing with selected features"
   ]
  },
  {
   "cell_type": "code",
   "execution_count": 80,
   "metadata": {},
   "outputs": [],
   "source": [
    "select_features = [ 'awayteam', 'hometeam',   'humidity',  'streak_away',\n",
    "                    'pass_yds_MA_5_away', 'pass_td_MA_5_away', 'rush_yds_MA_5_away','rush_td_MA_5_away', 'rec_yds_MA_5_away',\n",
    "                    'rec_td_MA_5_away', 'kicks_return_yds_MA_5_away', 'punt_return_yds_MA_5_away', 'kicking_pts_MA_5_away',\n",
    "                    'streak_home', \n",
    "                    'pass_yds_MA_5_home', 'pass_td_MA_5_home', 'rush_yds_MA_5_home', 'rush_td_MA_5_home', 'rec_yds_MA_5_home',\n",
    "                    'rec_td_MA_5_home', 'kicks_return_yds_MA_5_home', 'punt_return_yds_MA_5_home', 'kicking_pts_MA_5_home',\n",
    "                    'people']"
   ]
  },
  {
   "cell_type": "code",
   "execution_count": 81,
   "metadata": {},
   "outputs": [],
   "source": [
    "Y = df.loc[:,\"winner_home\"]\n",
    "X = df.loc[:,select_features]\n",
    "\n",
    "X_train, X_test, Y_train, Y_test = train_test_split(X, Y, test_size=0.2, random_state=0, stratify = Y)\n",
    "\n",
    "# select automatically the numerical and categorical columns\n",
    "num_col = X.select_dtypes([np.number]).columns\n",
    "cat_col = X.select_dtypes(\"object\").columns\n",
    "\n",
    "# Create pipeline for numeric features\n",
    "numeric_features = X.select_dtypes([np.number]).columns \n",
    "numeric_transformer = Pipeline(steps=[\n",
    "    ('imputer', SimpleImputer(strategy='mean')), # missing values in Age will be replaced by columns' mean\n",
    "    ('scaler', StandardScaler())])\n",
    "\n",
    "# Create pipeline for categorical features\n",
    "categorical_features = X.select_dtypes(\"object\").columns \n",
    "categorical_transformer = Pipeline(\n",
    "    steps=[\n",
    "    ('imputer', SimpleImputer(strategy='most_frequent')), # missing values will be replaced by most frequent value\n",
    "    ('encoder', OneHotEncoder(drop='first', handle_unknown = 'ignore')) # first column will be dropped to avoid creating correlations between features\n",
    "    ])\n",
    "\n",
    "# Use ColumnTranformer to make a preprocessor object that describes all the treatments to be done\n",
    "preprocessor = ColumnTransformer(\n",
    "    transformers=[\n",
    "        ('num', numeric_transformer, numeric_features),\n",
    "        ('cat', categorical_transformer, categorical_features)\n",
    "    ])\n",
    "\n",
    "X_train = preprocessor.fit_transform(X_train)\n",
    "X_test = preprocessor.transform(X_test)"
   ]
  },
  {
   "cell_type": "markdown",
   "metadata": {},
   "source": [
    "Logistic Regression"
   ]
  },
  {
   "cell_type": "code",
   "execution_count": 82,
   "metadata": {},
   "outputs": [
    {
     "name": "stdout",
     "output_type": "stream",
     "text": [
      "Accuracy on training set :  0.6867119301648884\n",
      "Accuracy on test set :  0.6162790697674418\n"
     ]
    }
   ],
   "source": [
    "model = LogisticRegression(max_iter=200)\n",
    "model.fit(X_train, Y_train)\n",
    "\n",
    "Y_train_pred = model.predict(X_train)\n",
    "Y_test_pred = model.predict(X_test)\n",
    "\n",
    "print(\"Accuracy on training set : \", accuracy_score(Y_train, Y_train_pred))\n",
    "print(\"Accuracy on test set : \", accuracy_score(Y_test, Y_test_pred))"
   ]
  },
  {
   "cell_type": "markdown",
   "metadata": {},
   "source": [
    "RandomForest"
   ]
  },
  {
   "cell_type": "code",
   "execution_count": 83,
   "metadata": {},
   "outputs": [
    {
     "name": "stdout",
     "output_type": "stream",
     "text": [
      "Accuracy on training set :  1.0\n",
      "Accuracy on test set :  0.6472868217054264\n"
     ]
    }
   ],
   "source": [
    "model_rf = RandomForestClassifier()\n",
    "model_rf.fit(X_train, Y_train)\n",
    "\n",
    "Y_train_pred = model_rf.predict(X_train)\n",
    "Y_test_pred = model_rf.predict(X_test)\n",
    "\n",
    "print(\"Accuracy on training set : \", accuracy_score(Y_train, Y_train_pred))\n",
    "print(\"Accuracy on test set : \", accuracy_score(Y_test, Y_test_pred))"
   ]
  },
  {
   "cell_type": "markdown",
   "metadata": {},
   "source": [
    "XGBoost"
   ]
  },
  {
   "cell_type": "code",
   "execution_count": 84,
   "metadata": {},
   "outputs": [
    {
     "name": "stdout",
     "output_type": "stream",
     "text": [
      "Accuracy on training set :  0.9990300678952473\n",
      "Accuracy on test set :  0.6007751937984496\n"
     ]
    }
   ],
   "source": [
    "model_xgb = XGBClassifier()\n",
    "model_xgb.fit(X_train, Y_train)\n",
    "\n",
    "Y_train_pred = model_xgb.predict(X_train)\n",
    "Y_test_pred = model_xgb.predict(X_test)\n",
    "\n",
    "print(\"Accuracy on training set : \", accuracy_score(Y_train, Y_train_pred))\n",
    "print(\"Accuracy on test set : \", accuracy_score(Y_test, Y_test_pred))"
   ]
  }
 ],
 "metadata": {
  "kernelspec": {
   "display_name": "Python 3.10.4 64-bit",
   "language": "python",
   "name": "python3"
  },
  "language_info": {
   "codemirror_mode": {
    "name": "ipython",
    "version": 3
   },
   "file_extension": ".py",
   "mimetype": "text/x-python",
   "name": "python",
   "nbconvert_exporter": "python",
   "pygments_lexer": "ipython3",
   "version": "3.10.4"
  },
  "orig_nbformat": 4,
  "vscode": {
   "interpreter": {
    "hash": "4574c92c81b7a4447a4b895dbf630721cb3b758132caf039eedf7927fb67883f"
   }
  }
 },
 "nbformat": 4,
 "nbformat_minor": 2
}
